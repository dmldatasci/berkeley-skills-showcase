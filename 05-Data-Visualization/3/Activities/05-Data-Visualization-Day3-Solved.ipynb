{
 "cells": [
  {
   "cell_type": "markdown",
   "metadata": {},
   "source": [
    "**2023-01-09 `05-Data-Visualization - Day 3 - Introduction to Statistics`**"
   ]
  },
  {
   "cell_type": "markdown",
   "metadata": {},
   "source": [
    "Matplotlib day 2 allowed us to create our basic charts using Pandas!\n",
    "\n",
    "It was a great way to practice our data engineering skills as well as our visualization skills.\n",
    "\n",
    "Day 3 is a little different, it is mostly going to be about statistics and how to calculate them with python, we will still have some visualizations, but it's mostly about the stats!\n",
    "\n",
    "---"
   ]
  },
  {
   "cell_type": "markdown",
   "metadata": {},
   "source": [
    "**Objectives**\n",
    "\n",
    "* Calculate summary statistics such as mean, median, mode, variance and standard deviation using Python.\n",
    "* Plot, characterize, and quantify a normally distributed dataset using Python.\n",
    "* Qualitatively and quantitatively identify potential outliers in a dataset.\n",
    "* Differentiate between a sample and a population in regards to a dataset.\n",
    "* Define and quantify correlation between two factors.\n",
    "* Calculate and plot a linear regression in Python."
   ]
  },
  {
   "cell_type": "markdown",
   "metadata": {},
   "source": [
    "**Resources**\n",
    "* [Intro to Statistics](https://rice.bootcampcontent.com/Rice-Coding-Bootcamp/rice-hou-data-pt-07-2021-u-c/-/blob/master/01-Lesson-Plans/05-Matplotlib/3/Supplemental/Intro%20to%20Statistics.pdf)\n",
    "* [ASA - P-Value Statement](https://rice.bootcampcontent.com/Rice-Coding-Bootcamp/rice-hou-data-pt-07-2021-u-c/-/blob/master/01-Lesson-Plans/05-Matplotlib/3/Supplemental/ASA%20-%20P-ValueStatement.pdf)\n"
   ]
  },
  {
   "cell_type": "markdown",
   "metadata": {},
   "source": [
    "**Presentation**\n",
    "* [Introduction to Statistics](https://ucb.bootcampcontent.com/UCB-Coding-Bootcamp/UCB-VIRT-DATA-PT-11-2022-U-LOLC/-/blob/main/slides/Data-05.3_Introduction_to_Statistics.pdf)"
   ]
  },
  {
   "cell_type": "markdown",
   "metadata": {},
   "source": [
    "**Install in your `Git Bash` (Win) or `Terminal` (Mac)**\n",
    "```\n",
    "python -m pip install -U sklearn\n",
    "```"
   ]
  },
  {
   "cell_type": "code",
   "execution_count": 1,
   "metadata": {},
   "outputs": [],
   "source": [
    "# !python -m pip install -U sklearn scipy"
   ]
  },
  {
   "cell_type": "markdown",
   "metadata": {},
   "source": [
    "# =========================================="
   ]
  },
  {
   "cell_type": "markdown",
   "metadata": {},
   "source": [
    "### 3.01 Instructor Do: Summary Statistics in Python (10 min)"
   ]
  },
  {
   "cell_type": "markdown",
   "metadata": {},
   "source": [
    "The most common **measures of central tendency** are the **mean**, **median** and **mode**.\n",
    "\n",
    "  * The **mean** of a dataset is what is known as the arithmetic average of a dataset. It is calculated from the sum all of the numbers divided by the number of elements in a dataset.\n",
    "\n",
    "  * The **median** of a dataset is the middle element. It is calculated from listing the data numerically and selecting the middle element. For even-length datasets, the average of the 2 center elements is the median of the dataset.\n",
    "\n",
    "  * The **mode** of a dataset is the most frequently occurring element. The mode can be used for either numeric or categorical data.\n",
    "\n",
    "![Categorical Mode](../Images/catagorical_mode.png)"
   ]
  },
  {
   "cell_type": "markdown",
   "metadata": {},
   "source": [
    "Two packages to remember when calculating statistics are **[NumPy](https://numpy.org/)** and **[SciPy](https://www.scipy.org/)**.\n",
    "* **Mean** is calculated using **NumPy**.\n",
    "* **Median** is calculated using **NumPy**.\n",
    "* **Mode** is calculated using **SciPy**."
   ]
  },
  {
   "cell_type": "code",
   "execution_count": 2,
   "metadata": {},
   "outputs": [],
   "source": [
    "# Dependencies\n",
    "import pandas as pd\n",
    "import matplotlib.pyplot as plt\n",
    "import scipy.stats as sts\n",
    "import numpy as np"
   ]
  },
  {
   "cell_type": "code",
   "execution_count": 3,
   "metadata": {},
   "outputs": [
    {
     "data": {
      "text/plain": [
       "0       52\n",
       "1       51\n",
       "2       52\n",
       "3       49\n",
       "4       43\n",
       "        ..\n",
       "3524    60\n",
       "3525    59\n",
       "3526    58\n",
       "3527    58\n",
       "3528    58\n",
       "Name: HourlyDryBulbTemperature, Length: 3529, dtype: int64"
      ]
     },
     "execution_count": 3,
     "metadata": {},
     "output_type": "execute_result"
    }
   ],
   "source": [
    "# Read in the LAX temperature data\n",
    "temperature_df = pd.read_csv('01-Ins_Summary_Statistics/Resources/lax_temperature.csv')\n",
    "temperatures = temperature_df['HourlyDryBulbTemperature']\n",
    "temperatures"
   ]
  },
  {
   "cell_type": "markdown",
   "metadata": {},
   "source": [
    "The reason we need to use both **NumPy** and **SciPy** modules to calculate the **measures of central tendency** is that `mode` is not a function in **NumPy**. This is likely because **NumPy** is a very lightweight module and calculating the `mode` can be computationally intensive."
   ]
  },
  {
   "cell_type": "code",
   "execution_count": 4,
   "metadata": {},
   "outputs": [
    {
     "name": "stdout",
     "output_type": "stream",
     "text": [
      "The mean temperature at the LAX airport is 57.65514310002834\n",
      "The median temperature at the LAX airport is 57.0\n",
      "The mode temperature at the LAX airport is ModeResult(mode=array([57], dtype=int64), count=array([327]))\n"
     ]
    }
   ],
   "source": [
    "# Demonstrate calculating measures of central tendency\n",
    "mean_numpy = np.mean(temperatures)\n",
    "print(f\"The mean temperature at the LAX airport is {mean_numpy}\")\n",
    "\n",
    "median_numpy = np.median(temperatures)\n",
    "print(f\"The median temperature at the LAX airport is {median_numpy}\")\n",
    "\n",
    "mode_scipy = sts.mode(temperatures)\n",
    "print(f\"The mode temperature at the LAX airport is {mode_scipy}\")"
   ]
  },
  {
   "cell_type": "markdown",
   "metadata": {},
   "source": [
    "**Why Plot Data?**\n",
    "* To determine if the data is normally distributed.\n",
    "* To determine if the data is multimodal.\n",
    "* To characterize clusters in the dataset."
   ]
  },
  {
   "cell_type": "code",
   "execution_count": 5,
   "metadata": {},
   "outputs": [
    {
     "data": {
      "image/png": "[encoded data removed]",
      "text/plain": [
       "<Figure size 432x288 with 1 Axes>"
      ]
     },
     "metadata": {
      "needs_background": "light"
     },
     "output_type": "display_data"
    }
   ],
   "source": [
    "# Characterize the data set using matplotlib and stats.normaltest\n",
    "plt.hist(temperatures)\n",
    "plt.xlabel('Temperature (°F)')\n",
    "plt.ylabel('Counts')\n",
    "plt.show()"
   ]
  },
  {
   "cell_type": "markdown",
   "metadata": {},
   "source": [
    "***What Is Normally Distributed Data?***\n",
    "* Measurements in a dataset are obtained independent of one another.\n",
    "* The distribution of data follows a bell curve shape.\n",
    "![normal-distribution](../Images/normal-distribution-1.png)\n",
    "* We can quantitatively test if a dataset is normal using **scipy.stats.normaltest()**"
   ]
  },
  {
   "cell_type": "code",
   "execution_count": 6,
   "metadata": {},
   "outputs": [
    {
     "name": "stdout",
     "output_type": "stream",
     "text": [
      "NormaltestResult(statistic=1.3866868738945053, pvalue=0.4999018814348589)\n"
     ]
    },
    {
     "data": {
      "text/plain": [
       "NormaltestResult(statistic=1.1870213273950991, pvalue=0.5523846400407487)"
      ]
     },
     "execution_count": 6,
     "metadata": {},
     "output_type": "execute_result"
    }
   ],
   "source": [
    "sample = temperatures.sample(50)\n",
    "print(sts.normaltest(sample))\n",
    "sts.normaltest(temperatures.sample(50))"
   ]
  },
  {
   "cell_type": "markdown",
   "metadata": {},
   "source": [
    "**What are variance and standard deviation?**\n",
    "* ***Variance*** is the measurement of how far each value is away from the mean of the dataset.\n",
    "* ***Standard deviation*** is the square root of variance.\n",
    "* In Python, both `variance` and `standard deviation` are calculated using the NumPy module."
   ]
  },
  {
   "cell_type": "code",
   "execution_count": 7,
   "metadata": {},
   "outputs": [
    {
     "name": "stdout",
     "output_type": "stream",
     "text": [
      "The population variance using the NumPy module is 32.33077618382964\n",
      "The population standard deviation using the NumPy module is 5.686015844493369\n"
     ]
    }
   ],
   "source": [
    "# Demonstrate calculating the variance and standard deviation using the different modules\n",
    "var_numpy = np.var(temperatures)\n",
    "print(f\"The population variance using the NumPy module is {var_numpy}\")\n",
    "\n",
    "sd_numpy = np.std(temperatures,ddof = 0)\n",
    "print(f\"The population standard deviation using the NumPy module is {sd_numpy}\")"
   ]
  },
  {
   "cell_type": "markdown",
   "metadata": {},
   "source": [
    "When we have a dataset that is normally distributed, we can use the **68-95-99.7** rule to characterize the data.\n",
    "* The **68-95-99.7** rule states that roughly **68%** of all values in normally distributed data fall within one standard deviation of the mean (in either direction). Additionally, **95%** of the values fall within two standard deviations, and **99.7%** of the values fall within three standard deviations.\n",
    "\n",
    "![68-95-99.7 Rule](../Images/68-95-99.7_rule.jpg)"
   ]
  },
  {
   "cell_type": "code",
   "execution_count": 8,
   "metadata": {},
   "outputs": [
    {
     "name": "stdout",
     "output_type": "stream",
     "text": [
      "Roughly 68% of the data is between 51.969 and 63.341\n",
      "Roughly 95% of the data is between 46.283 and 69.027\n",
      "Roughly 99.7% of the data is between 40.597 and 74.713\n"
     ]
    }
   ],
   "source": [
    "# Calculate the 68-95-99.7 rule using the standard deviation\n",
    "print(f\"Roughly 68% of the data is between {round(mean_numpy-sd_numpy,3)} and {round(mean_numpy+sd_numpy,3)}\")\n",
    "print(f\"Roughly 95% of the data is between {round(mean_numpy-2*sd_numpy,3)} and {round(mean_numpy+2*sd_numpy,3)}\")\n",
    "print(f\"Roughly 99.7% of the data is between {round(mean_numpy-3*sd_numpy,3)} and {round(mean_numpy+3*sd_numpy,3)}\")"
   ]
  },
  {
   "cell_type": "markdown",
   "metadata": {},
   "source": [
    "**What is a Z-Score?**\n",
    "* a **z-score** (also called a standard score) gives you an idea of how far from the **mean** a data point is. But more technically it’s a measure of how many **standard deviations** `below` or `above` the population mean a raw score is. \n",
    "\n",
    "* To calculate a **z-score** in Python, we must use the `scipy.stats.zscore` function."
   ]
  },
  {
   "cell_type": "code",
   "execution_count": 9,
   "metadata": {},
   "outputs": [
    {
     "name": "stdout",
     "output_type": "stream",
     "text": [
      "The z-scores using the SciPy module are 0      -0.994570\n",
      "1      -1.170440\n",
      "2      -0.994570\n",
      "3      -1.522181\n",
      "4      -2.577401\n",
      "          ...   \n",
      "3524    0.412390\n",
      "3525    0.236520\n",
      "3526    0.060650\n",
      "3527    0.060650\n",
      "3528    0.060650\n",
      "Name: HourlyDryBulbTemperature, Length: 3529, dtype: float64\n"
     ]
    }
   ],
   "source": [
    "# Demonstrate calculating the z-scores using SciPy\n",
    "z_scipy = sts.zscore(temperatures)\n",
    "print(f\"The z-scores using the SciPy module are {z_scipy}\")"
   ]
  },
  {
   "cell_type": "markdown",
   "metadata": {},
   "source": [
    "# =========================================="
   ]
  },
  {
   "cell_type": "markdown",
   "metadata": {},
   "source": [
    "### 3.02 Instructor Do: Quantiles and Outliers in Python (10 min)"
   ]
  },
  {
   "cell_type": "markdown",
   "metadata": {},
   "source": [
    "**What are quantiles, quartiles, and outliers?**\n",
    "* **[Quantiles](https://en.wikipedia.org/wiki/Quantile)** divide data into well-defined regions based on a sorted dataset.\n",
    "* **[Quartiles](https://en.wikipedia.org/wiki/Quartile)** are a specific type of quantile where a sorted dataset is split into four equal parts.\n",
    "  * Q1: 25% of the data\n",
    "  * Q2: 50% of the data\n",
    "  * Q3: 75% of the data\n",
    "![quartiles](../Images/Quartile_02.png)\n",
    "* **[Outliers](https://www.mathsisfun.com/data/outliers.html)** are an extreme value in a dataset that can skew calculations and results.\n"
   ]
  },
  {
   "cell_type": "code",
   "execution_count": 10,
   "metadata": {},
   "outputs": [],
   "source": [
    "# Dependencies\n",
    "import pandas as pd\n",
    "import numpy as np\n",
    "import matplotlib.pyplot as plt"
   ]
  },
  {
   "cell_type": "markdown",
   "metadata": {},
   "source": [
    "**How to Identify Potential Outliers?**\n",
    "* **Qualitatively** Use box and whisker plots to visually identify potential outlier data points.\n",
    "![outlier_boxplot_annot.png](../Images/outlier_boxplot_annot.png)\n",
    "* **Quantitatively** Determine the outlier boundaries in a dataset using the **1.5  IQR** rule.\n",
    "  * `IQR` is the interquartile range, or the range between the 1st and 3rd quartiles.\n",
    "  * Anything **below** `Q1 – 1.5  IQR` could be an outlier.\n",
    "  * Anything **above** `Q3 + 1.5  IQR` could be an outlier.\n"
   ]
  },
  {
   "cell_type": "code",
   "execution_count": 11,
   "metadata": {},
   "outputs": [
    {
     "data": {
      "image/png": "[encoded data removed]",
      "text/plain": [
       "<Figure size 432x288 with 1 Axes>"
      ]
     },
     "metadata": {
      "needs_background": "light"
     },
     "output_type": "display_data"
    }
   ],
   "source": [
    "# Example outlier plot of reaction times\n",
    "times = [96,98,100,105,85,88,95,100,101,102,97,98,5]\n",
    "fig1, ax1 = plt.subplots()\n",
    "ax1.set_title('Reaction Times at Baseball Batting Cage')\n",
    "ax1.set_ylabel('Reaction Time (ms)')\n",
    "# ax1.boxplot(times, showmeans=True)\n",
    "ax1.boxplot(times)\n",
    "plt.grid()\n",
    "plt.show()"
   ]
  },
  {
   "cell_type": "code",
   "execution_count": 12,
   "metadata": {},
   "outputs": [
    {
     "name": "stdout",
     "output_type": "stream",
     "text": [
      "13 [5, 85, 88, 95, 96, 97, 98, 98, 100, 100, 101, 102, 105]\n"
     ]
    }
   ],
   "source": [
    "# We need to sort the data to determine which could be outliers\n",
    "times.sort()\n",
    "print(len(times), times)"
   ]
  },
  {
   "cell_type": "code",
   "execution_count": 13,
   "metadata": {},
   "outputs": [
    {
     "data": {
      "image/png": "[encoded data removed]",
      "text/plain": [
       "<Figure size 432x288 with 1 Axes>"
      ]
     },
     "metadata": {
      "needs_background": "light"
     },
     "output_type": "display_data"
    }
   ],
   "source": [
    "# The second example again looks at the LAX temperature data set and computes quantiles\n",
    "temperature_df = pd.read_csv('02-Ins_Quartiles_and_Outliers/Resources/lax_temperature.csv')\n",
    "temperatures = temperature_df['HourlyDryBulbTemperature']\n",
    "\n",
    "fig1, ax1 = plt.subplots()\n",
    "ax1.set_title('Temperatures at LAX')\n",
    "ax1.set_ylabel('Temperature (°F)')\n",
    "ax1.boxplot(temperatures)\n",
    "plt.show()"
   ]
  },
  {
   "cell_type": "markdown",
   "metadata": {},
   "source": [
    "**How to Identify Potential Outliers in Python?**\n",
    "* **Qualitatively** Use Matplotlib’s pyplot.boxplot function to plot the box and whisker.\n",
    "* **Quantitatively**\n",
    "  * Use Pandas series.quantile function to calculate the quantile.\n",
    "  * Calculate the outlier boundaries."
   ]
  },
  {
   "cell_type": "code",
   "execution_count": 14,
   "metadata": {},
   "outputs": [
    {
     "name": "stdout",
     "output_type": "stream",
     "text": [
      "The lower quartile of temperatures is: 54.0\n",
      "The upper quartile of temperatures is: 60.0\n",
      "The interquartile range of temperatures is: 6.0\n",
      "The interquartile * 1.5 range of temperatures is: 9.0\n",
      "The the median of temperatures is: 57.0 \n",
      "Values below 45.0 could be outliers.\n",
      "Values above 69.0 could be outliers.\n"
     ]
    }
   ],
   "source": [
    "# If the data is in a dataframe, we use pandas to give quartile calculations\n",
    "quartiles = temperatures.quantile([.25,.5,.75])\n",
    "lowerq = quartiles[0.25]\n",
    "upperq = quartiles[0.75]\n",
    "iqr = upperq-lowerq\n",
    "iqr_1_5 = iqr * 1.5\n",
    "\n",
    "print(f\"The lower quartile of temperatures is: {lowerq}\")\n",
    "print(f\"The upper quartile of temperatures is: {upperq}\")\n",
    "print(f\"The interquartile range of temperatures is: {iqr}\")\n",
    "print(f\"The interquartile * 1.5 range of temperatures is: {iqr_1_5}\")\n",
    "print(f\"The the median of temperatures is: {quartiles[0.5]} \")\n",
    "\n",
    "lower_bound = lowerq - iqr_1_5\n",
    "upper_bound = upperq + iqr_1_5\n",
    "print(f\"Values below {lower_bound} could be outliers.\")\n",
    "print(f\"Values above {upper_bound} could be outliers.\")"
   ]
  },
  {
   "cell_type": "markdown",
   "metadata": {},
   "source": [
    "# =========================================="
   ]
  },
  {
   "cell_type": "markdown",
   "metadata": {},
   "source": [
    "### 3.03 Student Do: Summary Statistics in Python (15 min)"
   ]
  },
  {
   "cell_type": "markdown",
   "metadata": {},
   "source": [
    "## Instructions\n",
    "\n",
    "* Using Pandas, import the California housing dataset from the Resources folder.\n",
    "\n",
    "* Determine the most appropriate measure of central tendency to describe the population. Calculate this value.\n",
    "\n",
    "* Use both data visualization and a quantitative measurement to find whether the age of houses in California is considered normally distributed.\n",
    "\n",
    "* Inspect the average occupancy of housing in California and determine if there are any potential outliers in the dataset.\n",
    "\n",
    "  * **Hint**: This dataset is very large.\n",
    "\n",
    "* If there are potential outliers in the average occupancy, find the minimum and maximum of the median housing prices across the outliers.\n",
    "\n",
    "## Bonus\n",
    "\n",
    "Plot the latitude and longitude of the California housing data using Matplotlib and color the data points using the median income of the block. Does any location seem to be an outlier?"
   ]
  },
  {
   "cell_type": "code",
   "execution_count": 15,
   "metadata": {},
   "outputs": [],
   "source": [
    "# Dependencies\n",
    "import pandas as pd\n",
    "import matplotlib.pyplot as plt\n",
    "import scipy.stats as sts"
   ]
  },
  {
   "cell_type": "code",
   "execution_count": 16,
   "metadata": {},
   "outputs": [
    {
     "data": {
      "text/html": [
       "<div>\n",
       "<style scoped>\n",
       "    .dataframe tbody tr th:only-of-type {\n",
       "        vertical-align: middle;\n",
       "    }\n",
       "\n",
       "    .dataframe tbody tr th {\n",
       "        vertical-align: top;\n",
       "    }\n",
       "\n",
       "    .dataframe thead th {\n",
       "        text-align: right;\n",
       "    }\n",
       "</style>\n",
       "<table border=\"1\" class=\"dataframe\">\n",
       "  <thead>\n",
       "    <tr style=\"text-align: right;\">\n",
       "      <th></th>\n",
       "      <th>MedInc</th>\n",
       "      <th>HouseAge</th>\n",
       "      <th>AveRooms</th>\n",
       "      <th>AveBedrms</th>\n",
       "      <th>Population</th>\n",
       "      <th>AveOccup</th>\n",
       "      <th>Latitude</th>\n",
       "      <th>Longitude</th>\n",
       "    </tr>\n",
       "  </thead>\n",
       "  <tbody>\n",
       "    <tr>\n",
       "      <th>0</th>\n",
       "      <td>5.2742</td>\n",
       "      <td>17.0</td>\n",
       "      <td>8.908654</td>\n",
       "      <td>1.884615</td>\n",
       "      <td>351.0</td>\n",
       "      <td>1.687500</td>\n",
       "      <td>32.98</td>\n",
       "      <td>-117.27</td>\n",
       "    </tr>\n",
       "    <tr>\n",
       "      <th>1</th>\n",
       "      <td>1.8438</td>\n",
       "      <td>52.0</td>\n",
       "      <td>3.069847</td>\n",
       "      <td>1.044293</td>\n",
       "      <td>2382.0</td>\n",
       "      <td>4.057922</td>\n",
       "      <td>34.07</td>\n",
       "      <td>-118.26</td>\n",
       "    </tr>\n",
       "    <tr>\n",
       "      <th>2</th>\n",
       "      <td>7.0691</td>\n",
       "      <td>13.0</td>\n",
       "      <td>6.689697</td>\n",
       "      <td>1.009697</td>\n",
       "      <td>2444.0</td>\n",
       "      <td>2.962424</td>\n",
       "      <td>37.57</td>\n",
       "      <td>-121.87</td>\n",
       "    </tr>\n",
       "    <tr>\n",
       "      <th>3</th>\n",
       "      <td>5.4719</td>\n",
       "      <td>38.0</td>\n",
       "      <td>5.890080</td>\n",
       "      <td>0.957105</td>\n",
       "      <td>1228.0</td>\n",
       "      <td>3.292225</td>\n",
       "      <td>37.52</td>\n",
       "      <td>-122.28</td>\n",
       "    </tr>\n",
       "    <tr>\n",
       "      <th>4</th>\n",
       "      <td>4.0156</td>\n",
       "      <td>35.0</td>\n",
       "      <td>6.195312</td>\n",
       "      <td>1.171875</td>\n",
       "      <td>669.0</td>\n",
       "      <td>5.226562</td>\n",
       "      <td>33.93</td>\n",
       "      <td>-117.41</td>\n",
       "    </tr>\n",
       "  </tbody>\n",
       "</table>\n",
       "</div>"
      ],
      "text/plain": [
       "   MedInc  HouseAge  AveRooms  AveBedrms  Population  AveOccup  Latitude  \\\n",
       "0  5.2742      17.0  8.908654   1.884615       351.0  1.687500     32.98   \n",
       "1  1.8438      52.0  3.069847   1.044293      2382.0  4.057922     34.07   \n",
       "2  7.0691      13.0  6.689697   1.009697      2444.0  2.962424     37.57   \n",
       "3  5.4719      38.0  5.890080   0.957105      1228.0  3.292225     37.52   \n",
       "4  4.0156      35.0  6.195312   1.171875       669.0  5.226562     33.93   \n",
       "\n",
       "   Longitude  \n",
       "0    -117.27  \n",
       "1    -118.26  \n",
       "2    -121.87  \n",
       "3    -122.28  \n",
       "4    -117.41  "
      ]
     },
     "execution_count": 16,
     "metadata": {},
     "output_type": "execute_result"
    }
   ],
   "source": [
    "# Read in the california housing data set\n",
    "data_file = '03-Stu_Summary_Stats_Python/Resources/California_Housing.csv'\n",
    "california_data = pd.read_csv(data_file)\n",
    "california_data.head()"
   ]
  },
  {
   "cell_type": "code",
   "execution_count": 17,
   "metadata": {},
   "outputs": [
    {
     "data": {
      "image/png": "[encoded data removed]",
      "text/plain": [
       "<Figure size 432x288 with 1 Axes>"
      ]
     },
     "metadata": {
      "needs_background": "light"
     },
     "output_type": "display_data"
    },
    {
     "name": "stdout",
     "output_type": "stream",
     "text": [
      "1387.9633333333334\n",
      "1152.5\n",
      "0    1128.0\n",
      "dtype: float64\n"
     ]
    }
   ],
   "source": [
    "# Determine which measure of central tendency is most appropriate to describe the Population\n",
    "plt.hist(california_data['Population'])\n",
    "plt.xlabel('Population')\n",
    "plt.ylabel('Counts')\n",
    "plt.show()\n",
    "print(california_data['Population'].mean())\n",
    "print(california_data['Population'].median())\n",
    "print(california_data['Population'].mode())"
   ]
  },
  {
   "cell_type": "code",
   "execution_count": 18,
   "metadata": {},
   "outputs": [
    {
     "data": {
      "text/plain": [
       "3000"
      ]
     },
     "execution_count": 18,
     "metadata": {},
     "output_type": "execute_result"
    }
   ],
   "source": [
    "len(california_data[\"HouseAge\"])"
   ]
  },
  {
   "cell_type": "code",
   "execution_count": 19,
   "metadata": {},
   "outputs": [
    {
     "data": {
      "image/png": "[encoded data removed]",
      "text/plain": [
       "<Figure size 432x288 with 1 Axes>"
      ]
     },
     "metadata": {
      "needs_background": "light"
     },
     "output_type": "display_data"
    },
    {
     "name": "stdout",
     "output_type": "stream",
     "text": [
      "NormaltestResult(statistic=8.864740657842072, pvalue=0.011886281857446139)\n",
      "29.108666666666668\n",
      "30.0\n",
      "0    52.0\n",
      "dtype: float64\n"
     ]
    }
   ],
   "source": [
    "# Determine if the house age in California is normally distributed\n",
    "plt.hist(california_data['HouseAge'])\n",
    "plt.xlabel('House Age (years)')\n",
    "plt.ylabel('Counts')\n",
    "plt.show()\n",
    "print(sts.normaltest(california_data[\"HouseAge\"].sample(100)))\n",
    "print(california_data['HouseAge'].mean())\n",
    "print(california_data['HouseAge'].median())\n",
    "print(california_data['HouseAge'].mode())"
   ]
  },
  {
   "cell_type": "code",
   "execution_count": 20,
   "metadata": {},
   "outputs": [
    {
     "name": "stdout",
     "output_type": "stream",
     "text": [
      "The lower quartile of occupancy is: 2.4250909806040477\n",
      "The upper quartile of occupancy is: 3.297459274342836\n",
      "The interquartile range of occupancy is: 0.8723682937387882\n",
      "The the median of occupancy is: 2.81970199317512 \n",
      "Values below 1.1165385399958654 could be outliers.\n",
      "Values above 4.606011714951018 could be outliers.\n"
     ]
    }
   ],
   "source": [
    "# Determine if there are any potential outliers in the average occupancy in California\n",
    "quartiles = california_data['AveOccup'].quantile([.25,.5,.75])\n",
    "lowerq = quartiles[0.25]\n",
    "upperq = quartiles[0.75]\n",
    "iqr = upperq-lowerq\n",
    "\n",
    "print(f\"The lower quartile of occupancy is: {lowerq}\")\n",
    "print(f\"The upper quartile of occupancy is: {upperq}\")\n",
    "print(f\"The interquartile range of occupancy is: {iqr}\")\n",
    "print(f\"The the median of occupancy is: {quartiles[0.5]} \")\n",
    "\n",
    "lower_bound = lowerq - (1.5*iqr)\n",
    "upper_bound = upperq + (1.5*iqr)\n",
    "print(f\"Values below {lower_bound} could be outliers.\")\n",
    "print(f\"Values above {upper_bound} could be outliers.\")\n",
    "\n",
    "outlier_occupancy = california_data.loc[(california_data['AveOccup'] < lower_bound) | (california_data['AveOccup'] > upper_bound)]\n",
    "# len(outlier_occupancy)"
   ]
  },
  {
   "cell_type": "code",
   "execution_count": 21,
   "metadata": {},
   "outputs": [
    {
     "name": "stdout",
     "output_type": "stream",
     "text": [
      "The minimum median income of the potential outliers is 0.716\n",
      "The maximum median income of the potential outliers is 15.0001\n"
     ]
    }
   ],
   "source": [
    "# With the potential outliers, what is the lowest and highest median income (in $1000s) observed?\n",
    "print(f\"The minimum median income of the potential outliers is {outlier_occupancy['MedInc'].min()}\")\n",
    "print(f\"The maximum median income of the potential outliers is {outlier_occupancy['MedInc'].max()}\")"
   ]
  },
  {
   "cell_type": "code",
   "execution_count": 22,
   "metadata": {},
   "outputs": [
    {
     "data": {
      "image/png": "[encoded data removed]",
      "text/plain": [
       "<Figure size 432x288 with 2 Axes>"
      ]
     },
     "metadata": {
      "needs_background": "light"
     },
     "output_type": "display_data"
    }
   ],
   "source": [
    "# Bonus - plot the latitude and longitude of the California housing data using Matplotlib, color the data points using the median income of the block.\n",
    "plt.scatter(california_data['Longitude']\n",
    "            ,california_data['Latitude']\n",
    "            ,c=california_data['MedInc'])\n",
    "clb = plt.colorbar()\n",
    "plt.xlabel(\"Latitude\")\n",
    "plt.ylabel(\"Longitude\")\n",
    "clb.set_label(\"Median Income\")\n",
    "plt.show()"
   ]
  },
  {
   "cell_type": "markdown",
   "metadata": {},
   "source": [
    "# =========================================="
   ]
  },
  {
   "cell_type": "markdown",
   "metadata": {},
   "source": [
    "### 3.04 Instructor Do: Sample, Population, and SEM (10 min)"
   ]
  },
  {
   "cell_type": "markdown",
   "metadata": {},
   "source": [
    "**Population Dataset vs. Sample Dataset**\n",
    "* **Population Dataset**\n",
    "  * Dataset containing all possible elements of an experiment or study.\n",
    "  * In statistics, `population` does not mean `people`.\n",
    "  * Any `complete set` of data is a `population dataset`.\n",
    "\n",
    "* **Sample Dataset**\n",
    "  * A `subset` of `population dataset`.\n",
    "  * A `sample dataset` can be selected **randomly** from the `population dataset` or selected with **bias**.\n"
   ]
  },
  {
   "cell_type": "markdown",
   "metadata": {},
   "source": [
    "To estimate how well a sample is representative of the total **population**, we calculate the **standard error** (**standard error of the mean**, or **SEM**) of the **sample**.\n",
    "* [scipy.stats.sem](https://docs.scipy.org/doc/scipy/reference/generated/scipy.stats.sem.html)\n",
    "The **standard error of the mean (SEM)** can be expressed as:\n",
    "\n",
    "![Standard_error_formula.png](Images/Standard_error_formula.png#left)\n",
    "\n",
    "* **σ** is the **standard deviation** of the population.\n",
    "* **n** is the **size** (number of observations) of the sample."
   ]
  },
  {
   "cell_type": "code",
   "execution_count": 23,
   "metadata": {},
   "outputs": [],
   "source": [
    "# Dependencies\n",
    "import pandas as pd\n",
    "import random\n",
    "import matplotlib.pyplot as plt\n",
    "import numpy as np\n",
    "# import standard error of the mean (sem)\n",
    "from scipy.stats import sem\n",
    "\n",
    "# Set the seed so our data is reproducible\n",
    "random.seed(42)"
   ]
  },
  {
   "cell_type": "code",
   "execution_count": 24,
   "metadata": {},
   "outputs": [
    {
     "data": {
      "text/html": [
       "<div>\n",
       "<style scoped>\n",
       "    .dataframe tbody tr th:only-of-type {\n",
       "        vertical-align: middle;\n",
       "    }\n",
       "\n",
       "    .dataframe tbody tr th {\n",
       "        vertical-align: top;\n",
       "    }\n",
       "\n",
       "    .dataframe thead th {\n",
       "        text-align: right;\n",
       "    }\n",
       "</style>\n",
       "<table border=\"1\" class=\"dataframe\">\n",
       "  <thead>\n",
       "    <tr style=\"text-align: right;\">\n",
       "      <th></th>\n",
       "      <th>Type</th>\n",
       "      <th>Combined_MPG</th>\n",
       "      <th>Make_Model</th>\n",
       "    </tr>\n",
       "  </thead>\n",
       "  <tbody>\n",
       "    <tr>\n",
       "      <th>0</th>\n",
       "      <td>Two Seaters</td>\n",
       "      <td>21.0000</td>\n",
       "      <td>Acura_NSX</td>\n",
       "    </tr>\n",
       "    <tr>\n",
       "      <th>1</th>\n",
       "      <td>Two Seaters</td>\n",
       "      <td>27.9406</td>\n",
       "      <td>ALFA ROMEO_4C</td>\n",
       "    </tr>\n",
       "    <tr>\n",
       "      <th>2</th>\n",
       "      <td>Two Seaters</td>\n",
       "      <td>20.9455</td>\n",
       "      <td>Aston Martin Lagonda Ltd_Vantage V8</td>\n",
       "    </tr>\n",
       "    <tr>\n",
       "      <th>3</th>\n",
       "      <td>Two Seaters</td>\n",
       "      <td>25.9952</td>\n",
       "      <td>Audi_TT Roadster quattro</td>\n",
       "    </tr>\n",
       "    <tr>\n",
       "      <th>4</th>\n",
       "      <td>Two Seaters</td>\n",
       "      <td>27.6300</td>\n",
       "      <td>BMW_Z4 sDrive30i</td>\n",
       "    </tr>\n",
       "  </tbody>\n",
       "</table>\n",
       "</div>"
      ],
      "text/plain": [
       "          Type  Combined_MPG                           Make_Model\n",
       "0  Two Seaters       21.0000                            Acura_NSX\n",
       "1  Two Seaters       27.9406                        ALFA ROMEO_4C\n",
       "2  Two Seaters       20.9455  Aston Martin Lagonda Ltd_Vantage V8\n",
       "3  Two Seaters       25.9952             Audi_TT Roadster quattro\n",
       "4  Two Seaters       27.6300                     BMW_Z4 sDrive30i"
      ]
     },
     "execution_count": 24,
     "metadata": {},
     "output_type": "execute_result"
    }
   ],
   "source": [
    "# Sample versus population example fuel economy\n",
    "fuel_economy = pd.read_csv('04-Ins_Standard_Error/Resources/2019_fuel_economy.csv')\n",
    "\n",
    "# First overview the data set - how many factors, etc.\n",
    "fuel_economy.head()"
   ]
  },
  {
   "cell_type": "code",
   "execution_count": 25,
   "metadata": {},
   "outputs": [
    {
     "name": "stdout",
     "output_type": "stream",
     "text": [
      "The mean MPG of all vehicles is: 23.33\n",
      "The standard deviation of all vehicle's MPG is: 5.94\n"
     ]
    },
    {
     "data": {
      "image/png": "[encoded data removed]",
      "text/plain": [
       "<Figure size 432x288 with 1 Axes>"
      ]
     },
     "metadata": {
      "needs_background": "light"
     },
     "output_type": "display_data"
    }
   ],
   "source": [
    "# Calculate the summary statistics and plot the histogram of the entire population data\n",
    "print(f\"The mean MPG of all vehicles is: {round(fuel_economy.Combined_MPG.mean(),2)}\")\n",
    "print(f\"The standard deviation of all vehicle's MPG is: {round(fuel_economy.Combined_MPG.std(),2)}\")\n",
    "plt.hist(fuel_economy.Combined_MPG)\n",
    "plt.title(\"Entire population data\")\n",
    "plt.xlabel(\"Fuel Economy (MPG)\")\n",
    "plt.ylabel(\"Number of Vehicles\")\n",
    "plt.show()"
   ]
  },
  {
   "cell_type": "code",
   "execution_count": 26,
   "metadata": {},
   "outputs": [
    {
     "name": "stdout",
     "output_type": "stream",
     "text": [
      "The mean MPG of all vehicles is: 18.48\n",
      "The standard deviation of all vehicle's MPG is: 2.41\n"
     ]
    },
    {
     "data": {
      "image/png": "[encoded data removed]",
      "text/plain": [
       "<Figure size 432x288 with 1 Axes>"
      ]
     },
     "metadata": {
      "needs_background": "light"
     },
     "output_type": "display_data"
    }
   ],
   "source": [
    "# Calculate the summary statistics and plot the histogram of the sample data using iloc\n",
    "subset = fuel_economy.iloc[range(766,856)]\n",
    "print(f\"The mean MPG of all vehicles is: {round(subset.Combined_MPG.mean(),2)}\")\n",
    "print(f\"The standard deviation of all vehicle's MPG is: {round(subset.Combined_MPG.std(),2)}\")\n",
    "plt.hist(subset.Combined_MPG)\n",
    "plt.title(\"Sample data using iloc\")\n",
    "plt.xlabel(\"Fuel Economy (MPG)\")\n",
    "plt.ylabel(\"Number of Vehicles\")\n",
    "plt.show()"
   ]
  },
  {
   "cell_type": "code",
   "execution_count": 27,
   "metadata": {},
   "outputs": [
    {
     "name": "stdout",
     "output_type": "stream",
     "text": [
      "The mean MPG of all vehicles is: 24.19\n",
      "The standard deviation of all vehicle's MPG is: 6.87\n"
     ]
    },
    {
     "data": {
      "image/png": "[encoded data removed]",
      "text/plain": [
       "<Figure size 432x288 with 1 Axes>"
      ]
     },
     "metadata": {
      "needs_background": "light"
     },
     "output_type": "display_data"
    }
   ],
   "source": [
    "# Calculate the summary statistics and plot the histogram of the sample data using random sampling\n",
    "subset = fuel_economy.sample(90)\n",
    "print(f\"The mean MPG of all vehicles is: {round(subset.Combined_MPG.mean(),2)}\")\n",
    "print(f\"The standard deviation of all vehicle's MPG is: {round(subset.Combined_MPG.std(),2)}\")\n",
    "plt.hist(subset.Combined_MPG)\n",
    "plt.title(\"Sample data using random sampling\")\n",
    "plt.xlabel(\"Fuel Economy (MPG)\")\n",
    "plt.ylabel(\"Number of Vehicles\")\n",
    "plt.show()"
   ]
  },
  {
   "cell_type": "code",
   "execution_count": 28,
   "metadata": {},
   "outputs": [
    {
     "name": "stdout",
     "output_type": "stream",
     "text": [
      "The SEM value for the sample fuel economy data is 0.35182615645544996\n"
     ]
    }
   ],
   "source": [
    "# Generate a new 30 vehicle sample and calculate the SEM of the sample\n",
    "sample = fuel_economy.sample(300)\n",
    "print(f\"The SEM value for the sample fuel economy data is {sem(sample.Combined_MPG)}\")"
   ]
  },
  {
   "cell_type": "code",
   "execution_count": 29,
   "metadata": {},
   "outputs": [
    {
     "name": "stdout",
     "output_type": "stream",
     "text": [
      "300\n",
      "SEM:  0.33060848269777443\n"
     ]
    },
    {
     "data": {
      "text/html": [
       "<div>\n",
       "<style scoped>\n",
       "    .dataframe tbody tr th:only-of-type {\n",
       "        vertical-align: middle;\n",
       "    }\n",
       "\n",
       "    .dataframe tbody tr th {\n",
       "        vertical-align: top;\n",
       "    }\n",
       "\n",
       "    .dataframe thead th {\n",
       "        text-align: right;\n",
       "    }\n",
       "</style>\n",
       "<table border=\"1\" class=\"dataframe\">\n",
       "  <thead>\n",
       "    <tr style=\"text-align: right;\">\n",
       "      <th></th>\n",
       "      <th>Type</th>\n",
       "      <th>Combined_MPG</th>\n",
       "      <th>Make_Model</th>\n",
       "    </tr>\n",
       "  </thead>\n",
       "  <tbody>\n",
       "    <tr>\n",
       "      <th>1239</th>\n",
       "      <td>Standard SUV 4WD</td>\n",
       "      <td>19.2827</td>\n",
       "      <td>Volkswagen_Atlas 4Motion</td>\n",
       "    </tr>\n",
       "    <tr>\n",
       "      <th>989</th>\n",
       "      <td>Small SUV 4WD</td>\n",
       "      <td>24.6169</td>\n",
       "      <td>BMW_X3 xDrive30i</td>\n",
       "    </tr>\n",
       "    <tr>\n",
       "      <th>751</th>\n",
       "      <td>Small Pick-up Trucks 4WD</td>\n",
       "      <td>16.6991</td>\n",
       "      <td>Chevrolet_COLORADO ZR2 4WD</td>\n",
       "    </tr>\n",
       "    <tr>\n",
       "      <th>1099</th>\n",
       "      <td>Small SUV 4WD</td>\n",
       "      <td>28.6751</td>\n",
       "      <td>Subaru_FORESTER AWD</td>\n",
       "    </tr>\n",
       "    <tr>\n",
       "      <th>1204</th>\n",
       "      <td>Standard SUV 4WD</td>\n",
       "      <td>14.8782</td>\n",
       "      <td>LEXUS_LX 570</td>\n",
       "    </tr>\n",
       "  </tbody>\n",
       "</table>\n",
       "</div>"
      ],
      "text/plain": [
       "                          Type  Combined_MPG                  Make_Model\n",
       "1239          Standard SUV 4WD       19.2827    Volkswagen_Atlas 4Motion\n",
       "989              Small SUV 4WD       24.6169            BMW_X3 xDrive30i\n",
       "751   Small Pick-up Trucks 4WD       16.6991  Chevrolet_COLORADO ZR2 4WD\n",
       "1099             Small SUV 4WD       28.6751         Subaru_FORESTER AWD\n",
       "1204          Standard SUV 4WD       14.8782                LEXUS_LX 570"
      ]
     },
     "metadata": {},
     "output_type": "display_data"
    }
   ],
   "source": [
    "l = [fuel_economy.sample(30) for x in range(0,10)]\n",
    "vehicle_sample_30 = pd.concat(l)\n",
    "print(len(vehicle_sample_30))\n",
    "print(\"SEM: \", sem(vehicle_sample_30.Combined_MPG))\n",
    "display(vehicle_sample_30.head())"
   ]
  },
  {
   "cell_type": "code",
   "execution_count": 30,
   "metadata": {},
   "outputs": [
    {
     "name": "stdout",
     "output_type": "stream",
     "text": [
      "standard_errors [0.33060848269777443]\n"
     ]
    },
    {
     "data": {
      "image/png": "[encoded data removed]",
      "text/plain": [
       "<Figure size 432x288 with 1 Axes>"
      ]
     },
     "metadata": {
      "needs_background": "light"
     },
     "output_type": "display_data"
    }
   ],
   "source": [
    "# Generate the plot data for each sample \n",
    "means = [vehicle_sample_30.Combined_MPG.mean()]\n",
    "standard_errors = [sem(vehicle_sample_30.Combined_MPG)]\n",
    "x_axis = np.arange(0, 1, 1) + 1\n",
    "print(\"standard_errors\", standard_errors)\n",
    "# Setting up the plot\n",
    "fig, ax = plt.subplots()\n",
    "ax.errorbar(x_axis, means, standard_errors, fmt=\"o\")\n",
    "ax.set_xlim(0, 1 + 1)\n",
    "ax.set_ylim(20,28)\n",
    "ax.set_xlabel(\"Sample Number\")\n",
    "ax.set_ylabel(\"Mean MPG\")\n",
    "plt.show()"
   ]
  },
  {
   "cell_type": "code",
   "execution_count": 31,
   "metadata": {},
   "outputs": [],
   "source": [
    "# Create a sample set of 10, each with 30 vehicles\n",
    "vehicle_sample_set = [fuel_economy.sample(30) for x in range(0,10)]"
   ]
  },
  {
   "cell_type": "code",
   "execution_count": 32,
   "metadata": {},
   "outputs": [
    {
     "data": {
      "text/plain": [
       "10"
      ]
     },
     "execution_count": 32,
     "metadata": {},
     "output_type": "execute_result"
    }
   ],
   "source": [
    "len(vehicle_sample_set)"
   ]
  },
  {
   "cell_type": "code",
   "execution_count": 33,
   "metadata": {},
   "outputs": [],
   "source": [
    "l = []\n",
    "for x in vehicle_sample_set:\n",
    "    l = l + [sample for sample in x]"
   ]
  },
  {
   "cell_type": "code",
   "execution_count": 34,
   "metadata": {},
   "outputs": [
    {
     "data": {
      "text/plain": [
       "30"
      ]
     },
     "execution_count": 34,
     "metadata": {},
     "output_type": "execute_result"
    }
   ],
   "source": [
    "len(l)"
   ]
  },
  {
   "cell_type": "code",
   "execution_count": 35,
   "metadata": {},
   "outputs": [],
   "source": [
    "# Generate the plot data for each sample \n",
    "means = [sample.Combined_MPG.mean() for sample in vehicle_sample_set]\n",
    "standard_errors = [sem(sample.Combined_MPG) for sample in vehicle_sample_set]\n",
    "x_axis = np.arange(0, len(vehicle_sample_set), 1) + 1"
   ]
  },
  {
   "cell_type": "code",
   "execution_count": 36,
   "metadata": {},
   "outputs": [
    {
     "data": {
      "image/png": "[encoded data removed]",
      "text/plain": [
       "<Figure size 1152x576 with 1 Axes>"
      ]
     },
     "metadata": {
      "needs_background": "light"
     },
     "output_type": "display_data"
    }
   ],
   "source": [
    "# Setting up the plot\n",
    "fig, ax = plt.subplots(figsize=(16, 8))\n",
    "ax.errorbar(x_axis, means, standard_errors, fmt=\"o\")\n",
    "ax.set_xlim(0, len(vehicle_sample_set) + 1)\n",
    "ax.set_ylim(20,28)\n",
    "ax.set_xlabel(\"Sample Number\")\n",
    "ax.set_ylabel(\"Mean MPG\")\n",
    "plt.show()"
   ]
  },
  {
   "cell_type": "markdown",
   "metadata": {},
   "source": [
    "# =========================================="
   ]
  },
  {
   "cell_type": "markdown",
   "metadata": {},
   "source": [
    "### 3.05 Student Do: SEM and Error Bars (10 min)"
   ]
  },
  {
   "cell_type": "markdown",
   "metadata": {},
   "source": [
    "## Instructions\n",
    "\n",
    "Work with a partner on this activity. Be sure to compare your calculated values as you progress through the activity.\n",
    "\n",
    "* Execute the starter code to import the Boston housing data set from scikit-learn.\n",
    "* Create a sample set of median housing prices using Pandas. Be sure to create samples of size 20.\n",
    "* Calculate the means and standard errors for each sample.\n",
    "* Create a plot displaying the means for each sample, with the standard error as error bars.\n",
    "* Calculate the range of SEM values across the sample set.\n",
    "* Determine which sample has the lowest standard error value.\n",
    "* Compare this sample's mean to the population's mean.\n",
    "* Rerun your sampling code a few times to generate new sample sets. Try changing the sample size and rerunning the sampling code.\n",
    "* Discuss with your partner what changes you observe when sample size changes."
   ]
  },
  {
   "cell_type": "code",
   "execution_count": 37,
   "metadata": {},
   "outputs": [],
   "source": [
    "%matplotlib notebook"
   ]
  },
  {
   "cell_type": "code",
   "execution_count": 38,
   "metadata": {},
   "outputs": [],
   "source": [
    "# Dependencies\n",
    "from matplotlib import pyplot as plt\n",
    "import numpy as np\n",
    "import pandas as pd\n",
    "from sklearn.datasets import load_boston\n",
    "from scipy.stats import sem"
   ]
  },
  {
   "cell_type": "code",
   "execution_count": 39,
   "metadata": {},
   "outputs": [
    {
     "name": "stdout",
     "output_type": "stream",
     "text": [
      ".. _boston_dataset:\n",
      "\n",
      "Boston house prices dataset\n",
      "---------------------------\n",
      "\n",
      "**Data Set Characteristics:**  \n",
      "\n",
      "    :Number of Instances: 506 \n",
      "\n",
      "    :Number of Attributes: 13 numeric/categorical predictive. Median Value (attribute 14) is usually the target.\n",
      "\n",
      "    :Attribute Information (in order):\n",
      "        - CRIM     per capita crime rate by town\n",
      "        - ZN       proportion of residential land zoned for lots over 25,000 sq.ft.\n",
      "        - INDUS    proportion of non-retail business acres per town\n",
      "        - CHAS     Charles River dummy variable (= 1 if tract bounds river; 0 otherwise)\n",
      "        - NOX      nitric oxides concentration (parts per 10 million)\n",
      "        - RM       average number of rooms per dwelling\n",
      "        - AGE      proportion of owner-occupied units built prior to 1940\n",
      "        - DIS      weighted distances to five Boston employment centres\n",
      "        - RAD      index of accessibility to radial highways\n",
      "        - TAX      full-value property-tax rate per $10,000\n",
      "        - PTRATIO  pupil-teacher ratio by town\n",
      "        - B        1000(Bk - 0.63)^2 where Bk is the proportion of black people by town\n",
      "        - LSTAT    % lower status of the population\n",
      "        - MEDV     Median value of owner-occupied homes in $1000's\n",
      "\n",
      "    :Missing Attribute Values: None\n",
      "\n",
      "    :Creator: Harrison, D. and Rubinfeld, D.L.\n",
      "\n",
      "This is a copy of UCI ML housing dataset.\n",
      "https://archive.ics.uci.edu/ml/machine-learning-databases/housing/\n",
      "\n",
      "\n",
      "This dataset was taken from the StatLib library which is maintained at Carnegie Mellon University.\n",
      "\n",
      "The Boston house-price data of Harrison, D. and Rubinfeld, D.L. 'Hedonic\n",
      "prices and the demand for clean air', J. Environ. Economics & Management,\n",
      "vol.5, 81-102, 1978.   Used in Belsley, Kuh & Welsch, 'Regression diagnostics\n",
      "...', Wiley, 1980.   N.B. Various transformations are used in the table on\n",
      "pages 244-261 of the latter.\n",
      "\n",
      "The Boston house-price data has been used in many machine learning papers that address regression\n",
      "problems.   \n",
      "     \n",
      ".. topic:: References\n",
      "\n",
      "   - Belsley, Kuh & Welsch, 'Regression diagnostics: Identifying Influential Data and Sources of Collinearity', Wiley, 1980. 244-261.\n",
      "   - Quinlan,R. (1993). Combining Instance-Based and Model-Based Learning. In Proceedings on the Tenth International Conference of Machine Learning, 236-243, University of Massachusetts, Amherst. Morgan Kaufmann.\n",
      "\n"
     ]
    }
   ],
   "source": [
    "# Import the Boston housing data set and get description\n",
    "boston_dataset = load_boston()\n",
    "\n",
    "print(boston_dataset.DESCR)"
   ]
  },
  {
   "cell_type": "code",
   "execution_count": 40,
   "metadata": {},
   "outputs": [
    {
     "data": {
      "text/html": [
       "<div>\n",
       "<style scoped>\n",
       "    .dataframe tbody tr th:only-of-type {\n",
       "        vertical-align: middle;\n",
       "    }\n",
       "\n",
       "    .dataframe tbody tr th {\n",
       "        vertical-align: top;\n",
       "    }\n",
       "\n",
       "    .dataframe thead th {\n",
       "        text-align: right;\n",
       "    }\n",
       "</style>\n",
       "<table border=\"1\" class=\"dataframe\">\n",
       "  <thead>\n",
       "    <tr style=\"text-align: right;\">\n",
       "      <th></th>\n",
       "      <th>CRIM</th>\n",
       "      <th>ZN</th>\n",
       "      <th>INDUS</th>\n",
       "      <th>CHAS</th>\n",
       "      <th>NOX</th>\n",
       "      <th>RM</th>\n",
       "      <th>AGE</th>\n",
       "      <th>DIS</th>\n",
       "      <th>RAD</th>\n",
       "      <th>TAX</th>\n",
       "      <th>PTRATIO</th>\n",
       "      <th>B</th>\n",
       "      <th>LSTAT</th>\n",
       "      <th>MEDV</th>\n",
       "    </tr>\n",
       "  </thead>\n",
       "  <tbody>\n",
       "    <tr>\n",
       "      <th>0</th>\n",
       "      <td>0.00632</td>\n",
       "      <td>18.0</td>\n",
       "      <td>2.31</td>\n",
       "      <td>0.0</td>\n",
       "      <td>0.538</td>\n",
       "      <td>6.575</td>\n",
       "      <td>65.2</td>\n",
       "      <td>4.0900</td>\n",
       "      <td>1.0</td>\n",
       "      <td>296.0</td>\n",
       "      <td>15.3</td>\n",
       "      <td>396.90</td>\n",
       "      <td>4.98</td>\n",
       "      <td>24.0</td>\n",
       "    </tr>\n",
       "    <tr>\n",
       "      <th>1</th>\n",
       "      <td>0.02731</td>\n",
       "      <td>0.0</td>\n",
       "      <td>7.07</td>\n",
       "      <td>0.0</td>\n",
       "      <td>0.469</td>\n",
       "      <td>6.421</td>\n",
       "      <td>78.9</td>\n",
       "      <td>4.9671</td>\n",
       "      <td>2.0</td>\n",
       "      <td>242.0</td>\n",
       "      <td>17.8</td>\n",
       "      <td>396.90</td>\n",
       "      <td>9.14</td>\n",
       "      <td>21.6</td>\n",
       "    </tr>\n",
       "    <tr>\n",
       "      <th>2</th>\n",
       "      <td>0.02729</td>\n",
       "      <td>0.0</td>\n",
       "      <td>7.07</td>\n",
       "      <td>0.0</td>\n",
       "      <td>0.469</td>\n",
       "      <td>7.185</td>\n",
       "      <td>61.1</td>\n",
       "      <td>4.9671</td>\n",
       "      <td>2.0</td>\n",
       "      <td>242.0</td>\n",
       "      <td>17.8</td>\n",
       "      <td>392.83</td>\n",
       "      <td>4.03</td>\n",
       "      <td>34.7</td>\n",
       "    </tr>\n",
       "    <tr>\n",
       "      <th>3</th>\n",
       "      <td>0.03237</td>\n",
       "      <td>0.0</td>\n",
       "      <td>2.18</td>\n",
       "      <td>0.0</td>\n",
       "      <td>0.458</td>\n",
       "      <td>6.998</td>\n",
       "      <td>45.8</td>\n",
       "      <td>6.0622</td>\n",
       "      <td>3.0</td>\n",
       "      <td>222.0</td>\n",
       "      <td>18.7</td>\n",
       "      <td>394.63</td>\n",
       "      <td>2.94</td>\n",
       "      <td>33.4</td>\n",
       "    </tr>\n",
       "    <tr>\n",
       "      <th>4</th>\n",
       "      <td>0.06905</td>\n",
       "      <td>0.0</td>\n",
       "      <td>2.18</td>\n",
       "      <td>0.0</td>\n",
       "      <td>0.458</td>\n",
       "      <td>7.147</td>\n",
       "      <td>54.2</td>\n",
       "      <td>6.0622</td>\n",
       "      <td>3.0</td>\n",
       "      <td>222.0</td>\n",
       "      <td>18.7</td>\n",
       "      <td>396.90</td>\n",
       "      <td>5.33</td>\n",
       "      <td>36.2</td>\n",
       "    </tr>\n",
       "  </tbody>\n",
       "</table>\n",
       "</div>"
      ],
      "text/plain": [
       "      CRIM    ZN  INDUS  CHAS    NOX     RM   AGE     DIS  RAD    TAX  \\\n",
       "0  0.00632  18.0   2.31   0.0  0.538  6.575  65.2  4.0900  1.0  296.0   \n",
       "1  0.02731   0.0   7.07   0.0  0.469  6.421  78.9  4.9671  2.0  242.0   \n",
       "2  0.02729   0.0   7.07   0.0  0.469  7.185  61.1  4.9671  2.0  242.0   \n",
       "3  0.03237   0.0   2.18   0.0  0.458  6.998  45.8  6.0622  3.0  222.0   \n",
       "4  0.06905   0.0   2.18   0.0  0.458  7.147  54.2  6.0622  3.0  222.0   \n",
       "\n",
       "   PTRATIO       B  LSTAT  MEDV  \n",
       "0     15.3  396.90   4.98  24.0  \n",
       "1     17.8  396.90   9.14  21.6  \n",
       "2     17.8  392.83   4.03  34.7  \n",
       "3     18.7  394.63   2.94  33.4  \n",
       "4     18.7  396.90   5.33  36.2  "
      ]
     },
     "execution_count": 40,
     "metadata": {},
     "output_type": "execute_result"
    }
   ],
   "source": [
    "# Read Boston housing data into a Pandas dataframe\n",
    "housing_data = pd.DataFrame(data=boston_dataset.data,columns=boston_dataset.feature_names)\n",
    "housing_data['MEDV'] = boston_dataset.target\n",
    "housing_data.head()"
   ]
  },
  {
   "cell_type": "code",
   "execution_count": 41,
   "metadata": {},
   "outputs": [],
   "source": [
    "# Create a bunch of samples, each with sample size of 20\n",
    "nsamples = 25\n",
    "div = 20\n",
    "samples = [housing_data.sample(div) for x in range(0,nsamples)]"
   ]
  },
  {
   "cell_type": "code",
   "execution_count": 42,
   "metadata": {},
   "outputs": [],
   "source": [
    "samples = []\n",
    "for x in range(0,nsamples):\n",
    "    samples.append(housing_data.sample(div))"
   ]
  },
  {
   "cell_type": "code",
   "execution_count": 43,
   "metadata": {},
   "outputs": [],
   "source": [
    "# Calculate means\n",
    "means = [tara.MEDV.mean() for tara in samples]\n",
    "# Calculate standard error on means\n",
    "sems = [sem(s.MEDV) for s in samples]"
   ]
  },
  {
   "cell_type": "code",
   "execution_count": 44,
   "metadata": {},
   "outputs": [
    {
     "data": {
      "application/javascript": [
       "/* Put everything inside the global mpl namespace */\n",
       "/* global mpl */\n",
       "window.mpl = {};\n",
       "\n",
       "mpl.get_websocket_type = function () {\n",
       "    if (typeof WebSocket !== 'undefined') {\n",
       "        return WebSocket;\n",
       "    } else if (typeof MozWebSocket !== 'undefined') {\n",
       "        return MozWebSocket;\n",
       "    } else {\n",
       "        alert(\n",
       "            'Your browser does not have WebSocket support. ' +\n",
       "                'Please try Chrome, Safari or Firefox ≥ 6. ' +\n",
       "                'Firefox 4 and 5 are also supported but you ' +\n",
       "                'have to enable WebSockets in about:config.'\n",
       "        );\n",
       "    }\n",
       "};\n",
       "\n",
       "mpl.figure = function (figure_id, websocket, ondownload, parent_element) {\n",
       "    this.id = figure_id;\n",
       "\n",
       "    this.ws = websocket;\n",
       "\n",
       "    this.supports_binary = this.ws.binaryType !== undefined;\n",
       "\n",
       "    if (!this.supports_binary) {\n",
       "        var warnings = document.getElementById('mpl-warnings');\n",
       "        if (warnings) {\n",
       "            warnings.style.display = 'block';\n",
       "            warnings.textContent =\n",
       "                'This browser does not support binary websocket messages. ' +\n",
       "                'Performance may be slow.';\n",
       "        }\n",
       "    }\n",
       "\n",
       "    this.imageObj = new Image();\n",
       "\n",
       "    this.context = undefined;\n",
       "    this.message = undefined;\n",
       "    this.canvas = undefined;\n",
       "    this.rubberband_canvas = undefined;\n",
       "    this.rubberband_context = undefined;\n",
       "    this.format_dropdown = undefined;\n",
       "\n",
       "    this.image_mode = 'full';\n",
       "\n",
       "    this.root = document.createElement('div');\n",
       "    this.root.setAttribute('style', 'display: inline-block');\n",
       "    this._root_extra_style(this.root);\n",
       "\n",
       "    parent_element.appendChild(this.root);\n",
       "\n",
       "    this._init_header(this);\n",
       "    this._init_canvas(this);\n",
       "    this._init_toolbar(this);\n",
       "\n",
       "    var fig = this;\n",
       "\n",
       "    this.waiting = false;\n",
       "\n",
       "    this.ws.onopen = function () {\n",
       "        fig.send_message('supports_binary', { value: fig.supports_binary });\n",
       "        fig.send_message('send_image_mode', {});\n",
       "        if (fig.ratio !== 1) {\n",
       "            fig.send_message('set_dpi_ratio', { dpi_ratio: fig.ratio });\n",
       "        }\n",
       "        fig.send_message('refresh', {});\n",
       "    };\n",
       "\n",
       "    this.imageObj.onload = function () {\n",
       "        if (fig.image_mode === 'full') {\n",
       "            // Full images could contain transparency (where diff images\n",
       "            // almost always do), so we need to clear the canvas so that\n",
       "            // there is no ghosting.\n",
       "            fig.context.clearRect(0, 0, fig.canvas.width, fig.canvas.height);\n",
       "        }\n",
       "        fig.context.drawImage(fig.imageObj, 0, 0);\n",
       "    };\n",
       "\n",
       "    this.imageObj.onunload = function () {\n",
       "        fig.ws.close();\n",
       "    };\n",
       "\n",
       "    this.ws.onmessage = this._make_on_message_function(this);\n",
       "\n",
       "    this.ondownload = ondownload;\n",
       "};\n",
       "\n",
       "mpl.figure.prototype._init_header = function () {\n",
       "    var titlebar = document.createElement('div');\n",
       "    titlebar.classList =\n",
       "        'ui-dialog-titlebar ui-widget-header ui-corner-all ui-helper-clearfix';\n",
       "    var titletext = document.createElement('div');\n",
       "    titletext.classList = 'ui-dialog-title';\n",
       "    titletext.setAttribute(\n",
       "        'style',\n",
       "        'width: 100%; text-align: center; padding: 3px;'\n",
       "    );\n",
       "    titlebar.appendChild(titletext);\n",
       "    this.root.appendChild(titlebar);\n",
       "    this.header = titletext;\n",
       "};\n",
       "\n",
       "mpl.figure.prototype._canvas_extra_style = function (_canvas_div) {};\n",
       "\n",
       "mpl.figure.prototype._root_extra_style = function (_canvas_div) {};\n",
       "\n",
       "mpl.figure.prototype._init_canvas = function () {\n",
       "    var fig = this;\n",
       "\n",
       "    var canvas_div = (this.canvas_div = document.createElement('div'));\n",
       "    canvas_div.setAttribute(\n",
       "        'style',\n",
       "        'border: 1px solid #ddd;' +\n",
       "            'box-sizing: content-box;' +\n",
       "            'clear: both;' +\n",
       "            'min-height: 1px;' +\n",
       "            'min-width: 1px;' +\n",
       "            'outline: 0;' +\n",
       "            'overflow: hidden;' +\n",
       "            'position: relative;' +\n",
       "            'resize: both;'\n",
       "    );\n",
       "\n",
       "    function on_keyboard_event_closure(name) {\n",
       "        return function (event) {\n",
       "            return fig.key_event(event, name);\n",
       "        };\n",
       "    }\n",
       "\n",
       "    canvas_div.addEventListener(\n",
       "        'keydown',\n",
       "        on_keyboard_event_closure('key_press')\n",
       "    );\n",
       "    canvas_div.addEventListener(\n",
       "        'keyup',\n",
       "        on_keyboard_event_closure('key_release')\n",
       "    );\n",
       "\n",
       "    this._canvas_extra_style(canvas_div);\n",
       "    this.root.appendChild(canvas_div);\n",
       "\n",
       "    var canvas = (this.canvas = document.createElement('canvas'));\n",
       "    canvas.classList.add('mpl-canvas');\n",
       "    canvas.setAttribute('style', 'box-sizing: content-box;');\n",
       "\n",
       "    this.context = canvas.getContext('2d');\n",
       "\n",
       "    var backingStore =\n",
       "        this.context.backingStorePixelRatio ||\n",
       "        this.context.webkitBackingStorePixelRatio ||\n",
       "        this.context.mozBackingStorePixelRatio ||\n",
       "        this.context.msBackingStorePixelRatio ||\n",
       "        this.context.oBackingStorePixelRatio ||\n",
       "        this.context.backingStorePixelRatio ||\n",
       "        1;\n",
       "\n",
       "    this.ratio = (window.devicePixelRatio || 1) / backingStore;\n",
       "\n",
       "    var rubberband_canvas = (this.rubberband_canvas = document.createElement(\n",
       "        'canvas'\n",
       "    ));\n",
       "    rubberband_canvas.setAttribute(\n",
       "        'style',\n",
       "        'box-sizing: content-box; position: absolute; left: 0; top: 0; z-index: 1;'\n",
       "    );\n",
       "\n",
       "    // Apply a ponyfill if ResizeObserver is not implemented by browser.\n",
       "    if (this.ResizeObserver === undefined) {\n",
       "        if (window.ResizeObserver !== undefined) {\n",
       "            this.ResizeObserver = window.ResizeObserver;\n",
       "        } else {\n",
       "            var obs = _JSXTOOLS_RESIZE_OBSERVER({});\n",
       "            this.ResizeObserver = obs.ResizeObserver;\n",
       "        }\n",
       "    }\n",
       "\n",
       "    this.resizeObserverInstance = new this.ResizeObserver(function (entries) {\n",
       "        var nentries = entries.length;\n",
       "        for (var i = 0; i < nentries; i++) {\n",
       "            var entry = entries[i];\n",
       "            var width, height;\n",
       "            if (entry.contentBoxSize) {\n",
       "                if (entry.contentBoxSize instanceof Array) {\n",
       "                    // Chrome 84 implements new version of spec.\n",
       "                    width = entry.contentBoxSize[0].inlineSize;\n",
       "                    height = entry.contentBoxSize[0].blockSize;\n",
       "                } else {\n",
       "                    // Firefox implements old version of spec.\n",
       "                    width = entry.contentBoxSize.inlineSize;\n",
       "                    height = entry.contentBoxSize.blockSize;\n",
       "                }\n",
       "            } else {\n",
       "                // Chrome <84 implements even older version of spec.\n",
       "                width = entry.contentRect.width;\n",
       "                height = entry.contentRect.height;\n",
       "            }\n",
       "\n",
       "            // Keep the size of the canvas and rubber band canvas in sync with\n",
       "            // the canvas container.\n",
       "            if (entry.devicePixelContentBoxSize) {\n",
       "                // Chrome 84 implements new version of spec.\n",
       "                canvas.setAttribute(\n",
       "                    'width',\n",
       "                    entry.devicePixelContentBoxSize[0].inlineSize\n",
       "                );\n",
       "                canvas.setAttribute(\n",
       "                    'height',\n",
       "                    entry.devicePixelContentBoxSize[0].blockSize\n",
       "                );\n",
       "            } else {\n",
       "                canvas.setAttribute('width', width * fig.ratio);\n",
       "                canvas.setAttribute('height', height * fig.ratio);\n",
       "            }\n",
       "            canvas.setAttribute(\n",
       "                'style',\n",
       "                'width: ' + width + 'px; height: ' + height + 'px;'\n",
       "            );\n",
       "\n",
       "            rubberband_canvas.setAttribute('width', width);\n",
       "            rubberband_canvas.setAttribute('height', height);\n",
       "\n",
       "            // And update the size in Python. We ignore the initial 0/0 size\n",
       "            // that occurs as the element is placed into the DOM, which should\n",
       "            // otherwise not happen due to the minimum size styling.\n",
       "            if (fig.ws.readyState == 1 && width != 0 && height != 0) {\n",
       "                fig.request_resize(width, height);\n",
       "            }\n",
       "        }\n",
       "    });\n",
       "    this.resizeObserverInstance.observe(canvas_div);\n",
       "\n",
       "    function on_mouse_event_closure(name) {\n",
       "        return function (event) {\n",
       "            return fig.mouse_event(event, name);\n",
       "        };\n",
       "    }\n",
       "\n",
       "    rubberband_canvas.addEventListener(\n",
       "        'mousedown',\n",
       "        on_mouse_event_closure('button_press')\n",
       "    );\n",
       "    rubberband_canvas.addEventListener(\n",
       "        'mouseup',\n",
       "        on_mouse_event_closure('button_release')\n",
       "    );\n",
       "    rubberband_canvas.addEventListener(\n",
       "        'dblclick',\n",
       "        on_mouse_event_closure('dblclick')\n",
       "    );\n",
       "    // Throttle sequential mouse events to 1 every 20ms.\n",
       "    rubberband_canvas.addEventListener(\n",
       "        'mousemove',\n",
       "        on_mouse_event_closure('motion_notify')\n",
       "    );\n",
       "\n",
       "    rubberband_canvas.addEventListener(\n",
       "        'mouseenter',\n",
       "        on_mouse_event_closure('figure_enter')\n",
       "    );\n",
       "    rubberband_canvas.addEventListener(\n",
       "        'mouseleave',\n",
       "        on_mouse_event_closure('figure_leave')\n",
       "    );\n",
       "\n",
       "    canvas_div.addEventListener('wheel', function (event) {\n",
       "        if (event.deltaY < 0) {\n",
       "            event.step = 1;\n",
       "        } else {\n",
       "            event.step = -1;\n",
       "        }\n",
       "        on_mouse_event_closure('scroll')(event);\n",
       "    });\n",
       "\n",
       "    canvas_div.appendChild(canvas);\n",
       "    canvas_div.appendChild(rubberband_canvas);\n",
       "\n",
       "    this.rubberband_context = rubberband_canvas.getContext('2d');\n",
       "    this.rubberband_context.strokeStyle = '#000000';\n",
       "\n",
       "    this._resize_canvas = function (width, height, forward) {\n",
       "        if (forward) {\n",
       "            canvas_div.style.width = width + 'px';\n",
       "            canvas_div.style.height = height + 'px';\n",
       "        }\n",
       "    };\n",
       "\n",
       "    // Disable right mouse context menu.\n",
       "    this.rubberband_canvas.addEventListener('contextmenu', function (_e) {\n",
       "        event.preventDefault();\n",
       "        return false;\n",
       "    });\n",
       "\n",
       "    function set_focus() {\n",
       "        canvas.focus();\n",
       "        canvas_div.focus();\n",
       "    }\n",
       "\n",
       "    window.setTimeout(set_focus, 100);\n",
       "};\n",
       "\n",
       "mpl.figure.prototype._init_toolbar = function () {\n",
       "    var fig = this;\n",
       "\n",
       "    var toolbar = document.createElement('div');\n",
       "    toolbar.classList = 'mpl-toolbar';\n",
       "    this.root.appendChild(toolbar);\n",
       "\n",
       "    function on_click_closure(name) {\n",
       "        return function (_event) {\n",
       "            return fig.toolbar_button_onclick(name);\n",
       "        };\n",
       "    }\n",
       "\n",
       "    function on_mouseover_closure(tooltip) {\n",
       "        return function (event) {\n",
       "            if (!event.currentTarget.disabled) {\n",
       "                return fig.toolbar_button_onmouseover(tooltip);\n",
       "            }\n",
       "        };\n",
       "    }\n",
       "\n",
       "    fig.buttons = {};\n",
       "    var buttonGroup = document.createElement('div');\n",
       "    buttonGroup.classList = 'mpl-button-group';\n",
       "    for (var toolbar_ind in mpl.toolbar_items) {\n",
       "        var name = mpl.toolbar_items[toolbar_ind][0];\n",
       "        var tooltip = mpl.toolbar_items[toolbar_ind][1];\n",
       "        var image = mpl.toolbar_items[toolbar_ind][2];\n",
       "        var method_name = mpl.toolbar_items[toolbar_ind][3];\n",
       "\n",
       "        if (!name) {\n",
       "            /* Instead of a spacer, we start a new button group. */\n",
       "            if (buttonGroup.hasChildNodes()) {\n",
       "                toolbar.appendChild(buttonGroup);\n",
       "            }\n",
       "            buttonGroup = document.createElement('div');\n",
       "            buttonGroup.classList = 'mpl-button-group';\n",
       "            continue;\n",
       "        }\n",
       "\n",
       "        var button = (fig.buttons[name] = document.createElement('button'));\n",
       "        button.classList = 'mpl-widget';\n",
       "        button.setAttribute('role', 'button');\n",
       "        button.setAttribute('aria-disabled', 'false');\n",
       "        button.addEventListener('click', on_click_closure(method_name));\n",
       "        button.addEventListener('mouseover', on_mouseover_closure(tooltip));\n",
       "\n",
       "        var icon_img = document.createElement('img');\n",
       "        icon_img.src = '_images/' + image + '.png';\n",
       "        icon_img.srcset = '_images/' + image + '_large.png 2x';\n",
       "        icon_img.alt = tooltip;\n",
       "        button.appendChild(icon_img);\n",
       "\n",
       "        buttonGroup.appendChild(button);\n",
       "    }\n",
       "\n",
       "    if (buttonGroup.hasChildNodes()) {\n",
       "        toolbar.appendChild(buttonGroup);\n",
       "    }\n",
       "\n",
       "    var fmt_picker = document.createElement('select');\n",
       "    fmt_picker.classList = 'mpl-widget';\n",
       "    toolbar.appendChild(fmt_picker);\n",
       "    this.format_dropdown = fmt_picker;\n",
       "\n",
       "    for (var ind in mpl.extensions) {\n",
       "        var fmt = mpl.extensions[ind];\n",
       "        var option = document.createElement('option');\n",
       "        option.selected = fmt === mpl.default_extension;\n",
       "        option.innerHTML = fmt;\n",
       "        fmt_picker.appendChild(option);\n",
       "    }\n",
       "\n",
       "    var status_bar = document.createElement('span');\n",
       "    status_bar.classList = 'mpl-message';\n",
       "    toolbar.appendChild(status_bar);\n",
       "    this.message = status_bar;\n",
       "};\n",
       "\n",
       "mpl.figure.prototype.request_resize = function (x_pixels, y_pixels) {\n",
       "    // Request matplotlib to resize the figure. Matplotlib will then trigger a resize in the client,\n",
       "    // which will in turn request a refresh of the image.\n",
       "    this.send_message('resize', { width: x_pixels, height: y_pixels });\n",
       "};\n",
       "\n",
       "mpl.figure.prototype.send_message = function (type, properties) {\n",
       "    properties['type'] = type;\n",
       "    properties['figure_id'] = this.id;\n",
       "    this.ws.send(JSON.stringify(properties));\n",
       "};\n",
       "\n",
       "mpl.figure.prototype.send_draw_message = function () {\n",
       "    if (!this.waiting) {\n",
       "        this.waiting = true;\n",
       "        this.ws.send(JSON.stringify({ type: 'draw', figure_id: this.id }));\n",
       "    }\n",
       "};\n",
       "\n",
       "mpl.figure.prototype.handle_save = function (fig, _msg) {\n",
       "    var format_dropdown = fig.format_dropdown;\n",
       "    var format = format_dropdown.options[format_dropdown.selectedIndex].value;\n",
       "    fig.ondownload(fig, format);\n",
       "};\n",
       "\n",
       "mpl.figure.prototype.handle_resize = function (fig, msg) {\n",
       "    var size = msg['size'];\n",
       "    if (size[0] !== fig.canvas.width || size[1] !== fig.canvas.height) {\n",
       "        fig._resize_canvas(size[0], size[1], msg['forward']);\n",
       "        fig.send_message('refresh', {});\n",
       "    }\n",
       "};\n",
       "\n",
       "mpl.figure.prototype.handle_rubberband = function (fig, msg) {\n",
       "    var x0 = msg['x0'] / fig.ratio;\n",
       "    var y0 = (fig.canvas.height - msg['y0']) / fig.ratio;\n",
       "    var x1 = msg['x1'] / fig.ratio;\n",
       "    var y1 = (fig.canvas.height - msg['y1']) / fig.ratio;\n",
       "    x0 = Math.floor(x0) + 0.5;\n",
       "    y0 = Math.floor(y0) + 0.5;\n",
       "    x1 = Math.floor(x1) + 0.5;\n",
       "    y1 = Math.floor(y1) + 0.5;\n",
       "    var min_x = Math.min(x0, x1);\n",
       "    var min_y = Math.min(y0, y1);\n",
       "    var width = Math.abs(x1 - x0);\n",
       "    var height = Math.abs(y1 - y0);\n",
       "\n",
       "    fig.rubberband_context.clearRect(\n",
       "        0,\n",
       "        0,\n",
       "        fig.canvas.width / fig.ratio,\n",
       "        fig.canvas.height / fig.ratio\n",
       "    );\n",
       "\n",
       "    fig.rubberband_context.strokeRect(min_x, min_y, width, height);\n",
       "};\n",
       "\n",
       "mpl.figure.prototype.handle_figure_label = function (fig, msg) {\n",
       "    // Updates the figure title.\n",
       "    fig.header.textContent = msg['label'];\n",
       "};\n",
       "\n",
       "mpl.figure.prototype.handle_cursor = function (fig, msg) {\n",
       "    var cursor = msg['cursor'];\n",
       "    switch (cursor) {\n",
       "        case 0:\n",
       "            cursor = 'pointer';\n",
       "            break;\n",
       "        case 1:\n",
       "            cursor = 'default';\n",
       "            break;\n",
       "        case 2:\n",
       "            cursor = 'crosshair';\n",
       "            break;\n",
       "        case 3:\n",
       "            cursor = 'move';\n",
       "            break;\n",
       "    }\n",
       "    fig.rubberband_canvas.style.cursor = cursor;\n",
       "};\n",
       "\n",
       "mpl.figure.prototype.handle_message = function (fig, msg) {\n",
       "    fig.message.textContent = msg['message'];\n",
       "};\n",
       "\n",
       "mpl.figure.prototype.handle_draw = function (fig, _msg) {\n",
       "    // Request the server to send over a new figure.\n",
       "    fig.send_draw_message();\n",
       "};\n",
       "\n",
       "mpl.figure.prototype.handle_image_mode = function (fig, msg) {\n",
       "    fig.image_mode = msg['mode'];\n",
       "};\n",
       "\n",
       "mpl.figure.prototype.handle_history_buttons = function (fig, msg) {\n",
       "    for (var key in msg) {\n",
       "        if (!(key in fig.buttons)) {\n",
       "            continue;\n",
       "        }\n",
       "        fig.buttons[key].disabled = !msg[key];\n",
       "        fig.buttons[key].setAttribute('aria-disabled', !msg[key]);\n",
       "    }\n",
       "};\n",
       "\n",
       "mpl.figure.prototype.handle_navigate_mode = function (fig, msg) {\n",
       "    if (msg['mode'] === 'PAN') {\n",
       "        fig.buttons['Pan'].classList.add('active');\n",
       "        fig.buttons['Zoom'].classList.remove('active');\n",
       "    } else if (msg['mode'] === 'ZOOM') {\n",
       "        fig.buttons['Pan'].classList.remove('active');\n",
       "        fig.buttons['Zoom'].classList.add('active');\n",
       "    } else {\n",
       "        fig.buttons['Pan'].classList.remove('active');\n",
       "        fig.buttons['Zoom'].classList.remove('active');\n",
       "    }\n",
       "};\n",
       "\n",
       "mpl.figure.prototype.updated_canvas_event = function () {\n",
       "    // Called whenever the canvas gets updated.\n",
       "    this.send_message('ack', {});\n",
       "};\n",
       "\n",
       "// A function to construct a web socket function for onmessage handling.\n",
       "// Called in the figure constructor.\n",
       "mpl.figure.prototype._make_on_message_function = function (fig) {\n",
       "    return function socket_on_message(evt) {\n",
       "        if (evt.data instanceof Blob) {\n",
       "            var img = evt.data;\n",
       "            if (img.type !== 'image/png') {\n",
       "                /* FIXME: We get \"Resource interpreted as Image but\n",
       "                 * transferred with MIME type text/plain:\" errors on\n",
       "                 * Chrome.  But how to set the MIME type?  It doesn't seem\n",
       "                 * to be part of the websocket stream */\n",
       "                img.type = 'image/png';\n",
       "            }\n",
       "\n",
       "            /* Free the memory for the previous frames */\n",
       "            if (fig.imageObj.src) {\n",
       "                (window.URL || window.webkitURL).revokeObjectURL(\n",
       "                    fig.imageObj.src\n",
       "                );\n",
       "            }\n",
       "\n",
       "            fig.imageObj.src = (window.URL || window.webkitURL).createObjectURL(\n",
       "                img\n",
       "            );\n",
       "            fig.updated_canvas_event();\n",
       "            fig.waiting = false;\n",
       "            return;\n",
       "        } else if (\n",
       "            typeof evt.data === 'string' &&\n",
       "            evt.data.slice(0, 21) === 'data:image/png;base64'\n",
       "        ) {\n",
       "            fig.imageObj.src = evt.data;\n",
       "            fig.updated_canvas_event();\n",
       "            fig.waiting = false;\n",
       "            return;\n",
       "        }\n",
       "\n",
       "        var msg = JSON.parse(evt.data);\n",
       "        var msg_type = msg['type'];\n",
       "\n",
       "        // Call the  \"handle_{type}\" callback, which takes\n",
       "        // the figure and JSON message as its only arguments.\n",
       "        try {\n",
       "            var callback = fig['handle_' + msg_type];\n",
       "        } catch (e) {\n",
       "            console.log(\n",
       "                \"No handler for the '\" + msg_type + \"' message type: \",\n",
       "                msg\n",
       "            );\n",
       "            return;\n",
       "        }\n",
       "\n",
       "        if (callback) {\n",
       "            try {\n",
       "                // console.log(\"Handling '\" + msg_type + \"' message: \", msg);\n",
       "                callback(fig, msg);\n",
       "            } catch (e) {\n",
       "                console.log(\n",
       "                    \"Exception inside the 'handler_\" + msg_type + \"' callback:\",\n",
       "                    e,\n",
       "                    e.stack,\n",
       "                    msg\n",
       "                );\n",
       "            }\n",
       "        }\n",
       "    };\n",
       "};\n",
       "\n",
       "// from http://stackoverflow.com/questions/1114465/getting-mouse-location-in-canvas\n",
       "mpl.findpos = function (e) {\n",
       "    //this section is from http://www.quirksmode.org/js/events_properties.html\n",
       "    var targ;\n",
       "    if (!e) {\n",
       "        e = window.event;\n",
       "    }\n",
       "    if (e.target) {\n",
       "        targ = e.target;\n",
       "    } else if (e.srcElement) {\n",
       "        targ = e.srcElement;\n",
       "    }\n",
       "    if (targ.nodeType === 3) {\n",
       "        // defeat Safari bug\n",
       "        targ = targ.parentNode;\n",
       "    }\n",
       "\n",
       "    // pageX,Y are the mouse positions relative to the document\n",
       "    var boundingRect = targ.getBoundingClientRect();\n",
       "    var x = e.pageX - (boundingRect.left + document.body.scrollLeft);\n",
       "    var y = e.pageY - (boundingRect.top + document.body.scrollTop);\n",
       "\n",
       "    return { x: x, y: y };\n",
       "};\n",
       "\n",
       "/*\n",
       " * return a copy of an object with only non-object keys\n",
       " * we need this to avoid circular references\n",
       " * http://stackoverflow.com/a/24161582/3208463\n",
       " */\n",
       "function simpleKeys(original) {\n",
       "    return Object.keys(original).reduce(function (obj, key) {\n",
       "        if (typeof original[key] !== 'object') {\n",
       "            obj[key] = original[key];\n",
       "        }\n",
       "        return obj;\n",
       "    }, {});\n",
       "}\n",
       "\n",
       "mpl.figure.prototype.mouse_event = function (event, name) {\n",
       "    var canvas_pos = mpl.findpos(event);\n",
       "\n",
       "    if (name === 'button_press') {\n",
       "        this.canvas.focus();\n",
       "        this.canvas_div.focus();\n",
       "    }\n",
       "\n",
       "    var x = canvas_pos.x * this.ratio;\n",
       "    var y = canvas_pos.y * this.ratio;\n",
       "\n",
       "    this.send_message(name, {\n",
       "        x: x,\n",
       "        y: y,\n",
       "        button: event.button,\n",
       "        step: event.step,\n",
       "        guiEvent: simpleKeys(event),\n",
       "    });\n",
       "\n",
       "    /* This prevents the web browser from automatically changing to\n",
       "     * the text insertion cursor when the button is pressed.  We want\n",
       "     * to control all of the cursor setting manually through the\n",
       "     * 'cursor' event from matplotlib */\n",
       "    event.preventDefault();\n",
       "    return false;\n",
       "};\n",
       "\n",
       "mpl.figure.prototype._key_event_extra = function (_event, _name) {\n",
       "    // Handle any extra behaviour associated with a key event\n",
       "};\n",
       "\n",
       "mpl.figure.prototype.key_event = function (event, name) {\n",
       "    // Prevent repeat events\n",
       "    if (name === 'key_press') {\n",
       "        if (event.key === this._key) {\n",
       "            return;\n",
       "        } else {\n",
       "            this._key = event.key;\n",
       "        }\n",
       "    }\n",
       "    if (name === 'key_release') {\n",
       "        this._key = null;\n",
       "    }\n",
       "\n",
       "    var value = '';\n",
       "    if (event.ctrlKey && event.key !== 'Control') {\n",
       "        value += 'ctrl+';\n",
       "    }\n",
       "    else if (event.altKey && event.key !== 'Alt') {\n",
       "        value += 'alt+';\n",
       "    }\n",
       "    else if (event.shiftKey && event.key !== 'Shift') {\n",
       "        value += 'shift+';\n",
       "    }\n",
       "\n",
       "    value += 'k' + event.key;\n",
       "\n",
       "    this._key_event_extra(event, name);\n",
       "\n",
       "    this.send_message(name, { key: value, guiEvent: simpleKeys(event) });\n",
       "    return false;\n",
       "};\n",
       "\n",
       "mpl.figure.prototype.toolbar_button_onclick = function (name) {\n",
       "    if (name === 'download') {\n",
       "        this.handle_save(this, null);\n",
       "    } else {\n",
       "        this.send_message('toolbar_button', { name: name });\n",
       "    }\n",
       "};\n",
       "\n",
       "mpl.figure.prototype.toolbar_button_onmouseover = function (tooltip) {\n",
       "    this.message.textContent = tooltip;\n",
       "};\n",
       "\n",
       "///////////////// REMAINING CONTENT GENERATED BY embed_js.py /////////////////\n",
       "// prettier-ignore\n",
       "var _JSXTOOLS_RESIZE_OBSERVER=function(A){var t,i=new WeakMap,n=new WeakMap,a=new WeakMap,r=new WeakMap,o=new Set;function s(e){if(!(this instanceof s))throw new TypeError(\"Constructor requires 'new' operator\");i.set(this,e)}function h(){throw new TypeError(\"Function is not a constructor\")}function c(e,t,i,n){e=0 in arguments?Number(arguments[0]):0,t=1 in arguments?Number(arguments[1]):0,i=2 in arguments?Number(arguments[2]):0,n=3 in arguments?Number(arguments[3]):0,this.right=(this.x=this.left=e)+(this.width=i),this.bottom=(this.y=this.top=t)+(this.height=n),Object.freeze(this)}function d(){t=requestAnimationFrame(d);var s=new WeakMap,p=new Set;o.forEach((function(t){r.get(t).forEach((function(i){var r=t instanceof window.SVGElement,o=a.get(t),d=r?0:parseFloat(o.paddingTop),f=r?0:parseFloat(o.paddingRight),l=r?0:parseFloat(o.paddingBottom),u=r?0:parseFloat(o.paddingLeft),g=r?0:parseFloat(o.borderTopWidth),m=r?0:parseFloat(o.borderRightWidth),w=r?0:parseFloat(o.borderBottomWidth),b=u+f,F=d+l,v=(r?0:parseFloat(o.borderLeftWidth))+m,W=g+w,y=r?0:t.offsetHeight-W-t.clientHeight,E=r?0:t.offsetWidth-v-t.clientWidth,R=b+v,z=F+W,M=r?t.width:parseFloat(o.width)-R-E,O=r?t.height:parseFloat(o.height)-z-y;if(n.has(t)){var k=n.get(t);if(k[0]===M&&k[1]===O)return}n.set(t,[M,O]);var S=Object.create(h.prototype);S.target=t,S.contentRect=new c(u,d,M,O),s.has(i)||(s.set(i,[]),p.add(i)),s.get(i).push(S)}))})),p.forEach((function(e){i.get(e).call(e,s.get(e),e)}))}return s.prototype.observe=function(i){if(i instanceof window.Element){r.has(i)||(r.set(i,new Set),o.add(i),a.set(i,window.getComputedStyle(i)));var n=r.get(i);n.has(this)||n.add(this),cancelAnimationFrame(t),t=requestAnimationFrame(d)}},s.prototype.unobserve=function(i){if(i instanceof window.Element&&r.has(i)){var n=r.get(i);n.has(this)&&(n.delete(this),n.size||(r.delete(i),o.delete(i))),n.size||r.delete(i),o.size||cancelAnimationFrame(t)}},A.DOMRectReadOnly=c,A.ResizeObserver=s,A.ResizeObserverEntry=h,A}; // eslint-disable-line\n",
       "mpl.toolbar_items = [[\"Home\", \"Reset original view\", \"fa fa-home icon-home\", \"home\"], [\"Back\", \"Back to previous view\", \"fa fa-arrow-left icon-arrow-left\", \"back\"], [\"Forward\", \"Forward to next view\", \"fa fa-arrow-right icon-arrow-right\", \"forward\"], [\"\", \"\", \"\", \"\"], [\"Pan\", \"Left button pans, Right button zooms\\nx/y fixes axis, CTRL fixes aspect\", \"fa fa-arrows icon-move\", \"pan\"], [\"Zoom\", \"Zoom to rectangle\\nx/y fixes axis, CTRL fixes aspect\", \"fa fa-square-o icon-check-empty\", \"zoom\"], [\"\", \"\", \"\", \"\"], [\"Download\", \"Download plot\", \"fa fa-floppy-o icon-save\", \"download\"]];\n",
       "\n",
       "mpl.extensions = [\"eps\", \"jpeg\", \"pgf\", \"pdf\", \"png\", \"ps\", \"raw\", \"svg\", \"tif\"];\n",
       "\n",
       "mpl.default_extension = \"png\";/* global mpl */\n",
       "\n",
       "var comm_websocket_adapter = function (comm) {\n",
       "    // Create a \"websocket\"-like object which calls the given IPython comm\n",
       "    // object with the appropriate methods. Currently this is a non binary\n",
       "    // socket, so there is still some room for performance tuning.\n",
       "    var ws = {};\n",
       "\n",
       "    ws.binaryType = comm.kernel.ws.binaryType;\n",
       "    ws.readyState = comm.kernel.ws.readyState;\n",
       "    function updateReadyState(_event) {\n",
       "        if (comm.kernel.ws) {\n",
       "            ws.readyState = comm.kernel.ws.readyState;\n",
       "        } else {\n",
       "            ws.readyState = 3; // Closed state.\n",
       "        }\n",
       "    }\n",
       "    comm.kernel.ws.addEventListener('open', updateReadyState);\n",
       "    comm.kernel.ws.addEventListener('close', updateReadyState);\n",
       "    comm.kernel.ws.addEventListener('error', updateReadyState);\n",
       "\n",
       "    ws.close = function () {\n",
       "        comm.close();\n",
       "    };\n",
       "    ws.send = function (m) {\n",
       "        //console.log('sending', m);\n",
       "        comm.send(m);\n",
       "    };\n",
       "    // Register the callback with on_msg.\n",
       "    comm.on_msg(function (msg) {\n",
       "        //console.log('receiving', msg['content']['data'], msg);\n",
       "        var data = msg['content']['data'];\n",
       "        if (data['blob'] !== undefined) {\n",
       "            data = {\n",
       "                data: new Blob(msg['buffers'], { type: data['blob'] }),\n",
       "            };\n",
       "        }\n",
       "        // Pass the mpl event to the overridden (by mpl) onmessage function.\n",
       "        ws.onmessage(data);\n",
       "    });\n",
       "    return ws;\n",
       "};\n",
       "\n",
       "mpl.mpl_figure_comm = function (comm, msg) {\n",
       "    // This is the function which gets called when the mpl process\n",
       "    // starts-up an IPython Comm through the \"matplotlib\" channel.\n",
       "\n",
       "    var id = msg.content.data.id;\n",
       "    // Get hold of the div created by the display call when the Comm\n",
       "    // socket was opened in Python.\n",
       "    var element = document.getElementById(id);\n",
       "    var ws_proxy = comm_websocket_adapter(comm);\n",
       "\n",
       "    function ondownload(figure, _format) {\n",
       "        window.open(figure.canvas.toDataURL());\n",
       "    }\n",
       "\n",
       "    var fig = new mpl.figure(id, ws_proxy, ondownload, element);\n",
       "\n",
       "    // Call onopen now - mpl needs it, as it is assuming we've passed it a real\n",
       "    // web socket which is closed, not our websocket->open comm proxy.\n",
       "    ws_proxy.onopen();\n",
       "\n",
       "    fig.parent_element = element;\n",
       "    fig.cell_info = mpl.find_output_cell(\"<div id='\" + id + \"'></div>\");\n",
       "    if (!fig.cell_info) {\n",
       "        console.error('Failed to find cell for figure', id, fig);\n",
       "        return;\n",
       "    }\n",
       "    fig.cell_info[0].output_area.element.on(\n",
       "        'cleared',\n",
       "        { fig: fig },\n",
       "        fig._remove_fig_handler\n",
       "    );\n",
       "};\n",
       "\n",
       "mpl.figure.prototype.handle_close = function (fig, msg) {\n",
       "    var width = fig.canvas.width / fig.ratio;\n",
       "    fig.cell_info[0].output_area.element.off(\n",
       "        'cleared',\n",
       "        fig._remove_fig_handler\n",
       "    );\n",
       "    fig.resizeObserverInstance.unobserve(fig.canvas_div);\n",
       "\n",
       "    // Update the output cell to use the data from the current canvas.\n",
       "    fig.push_to_output();\n",
       "    var dataURL = fig.canvas.toDataURL();\n",
       "    // Re-enable the keyboard manager in IPython - without this line, in FF,\n",
       "    // the notebook keyboard shortcuts fail.\n",
       "    IPython.keyboard_manager.enable();\n",
       "    fig.parent_element.innerHTML =\n",
       "        '<img src=\"' + dataURL + '\" width=\"' + width + '\">';\n",
       "    fig.close_ws(fig, msg);\n",
       "};\n",
       "\n",
       "mpl.figure.prototype.close_ws = function (fig, msg) {\n",
       "    fig.send_message('closing', msg);\n",
       "    // fig.ws.close()\n",
       "};\n",
       "\n",
       "mpl.figure.prototype.push_to_output = function (_remove_interactive) {\n",
       "    // Turn the data on the canvas into data in the output cell.\n",
       "    var width = this.canvas.width / this.ratio;\n",
       "    var dataURL = this.canvas.toDataURL();\n",
       "    this.cell_info[1]['text/html'] =\n",
       "        '<img src=\"' + dataURL + '\" width=\"' + width + '\">';\n",
       "};\n",
       "\n",
       "mpl.figure.prototype.updated_canvas_event = function () {\n",
       "    // Tell IPython that the notebook contents must change.\n",
       "    IPython.notebook.set_dirty(true);\n",
       "    this.send_message('ack', {});\n",
       "    var fig = this;\n",
       "    // Wait a second, then push the new image to the DOM so\n",
       "    // that it is saved nicely (might be nice to debounce this).\n",
       "    setTimeout(function () {\n",
       "        fig.push_to_output();\n",
       "    }, 1000);\n",
       "};\n",
       "\n",
       "mpl.figure.prototype._init_toolbar = function () {\n",
       "    var fig = this;\n",
       "\n",
       "    var toolbar = document.createElement('div');\n",
       "    toolbar.classList = 'btn-toolbar';\n",
       "    this.root.appendChild(toolbar);\n",
       "\n",
       "    function on_click_closure(name) {\n",
       "        return function (_event) {\n",
       "            return fig.toolbar_button_onclick(name);\n",
       "        };\n",
       "    }\n",
       "\n",
       "    function on_mouseover_closure(tooltip) {\n",
       "        return function (event) {\n",
       "            if (!event.currentTarget.disabled) {\n",
       "                return fig.toolbar_button_onmouseover(tooltip);\n",
       "            }\n",
       "        };\n",
       "    }\n",
       "\n",
       "    fig.buttons = {};\n",
       "    var buttonGroup = document.createElement('div');\n",
       "    buttonGroup.classList = 'btn-group';\n",
       "    var button;\n",
       "    for (var toolbar_ind in mpl.toolbar_items) {\n",
       "        var name = mpl.toolbar_items[toolbar_ind][0];\n",
       "        var tooltip = mpl.toolbar_items[toolbar_ind][1];\n",
       "        var image = mpl.toolbar_items[toolbar_ind][2];\n",
       "        var method_name = mpl.toolbar_items[toolbar_ind][3];\n",
       "\n",
       "        if (!name) {\n",
       "            /* Instead of a spacer, we start a new button group. */\n",
       "            if (buttonGroup.hasChildNodes()) {\n",
       "                toolbar.appendChild(buttonGroup);\n",
       "            }\n",
       "            buttonGroup = document.createElement('div');\n",
       "            buttonGroup.classList = 'btn-group';\n",
       "            continue;\n",
       "        }\n",
       "\n",
       "        button = fig.buttons[name] = document.createElement('button');\n",
       "        button.classList = 'btn btn-default';\n",
       "        button.href = '#';\n",
       "        button.title = name;\n",
       "        button.innerHTML = '<i class=\"fa ' + image + ' fa-lg\"></i>';\n",
       "        button.addEventListener('click', on_click_closure(method_name));\n",
       "        button.addEventListener('mouseover', on_mouseover_closure(tooltip));\n",
       "        buttonGroup.appendChild(button);\n",
       "    }\n",
       "\n",
       "    if (buttonGroup.hasChildNodes()) {\n",
       "        toolbar.appendChild(buttonGroup);\n",
       "    }\n",
       "\n",
       "    // Add the status bar.\n",
       "    var status_bar = document.createElement('span');\n",
       "    status_bar.classList = 'mpl-message pull-right';\n",
       "    toolbar.appendChild(status_bar);\n",
       "    this.message = status_bar;\n",
       "\n",
       "    // Add the close button to the window.\n",
       "    var buttongrp = document.createElement('div');\n",
       "    buttongrp.classList = 'btn-group inline pull-right';\n",
       "    button = document.createElement('button');\n",
       "    button.classList = 'btn btn-mini btn-primary';\n",
       "    button.href = '#';\n",
       "    button.title = 'Stop Interaction';\n",
       "    button.innerHTML = '<i class=\"fa fa-power-off icon-remove icon-large\"></i>';\n",
       "    button.addEventListener('click', function (_evt) {\n",
       "        fig.handle_close(fig, {});\n",
       "    });\n",
       "    button.addEventListener(\n",
       "        'mouseover',\n",
       "        on_mouseover_closure('Stop Interaction')\n",
       "    );\n",
       "    buttongrp.appendChild(button);\n",
       "    var titlebar = this.root.querySelector('.ui-dialog-titlebar');\n",
       "    titlebar.insertBefore(buttongrp, titlebar.firstChild);\n",
       "};\n",
       "\n",
       "mpl.figure.prototype._remove_fig_handler = function (event) {\n",
       "    var fig = event.data.fig;\n",
       "    if (event.target !== this) {\n",
       "        // Ignore bubbled events from children.\n",
       "        return;\n",
       "    }\n",
       "    fig.close_ws(fig, {});\n",
       "};\n",
       "\n",
       "mpl.figure.prototype._root_extra_style = function (el) {\n",
       "    el.style.boxSizing = 'content-box'; // override notebook setting of border-box.\n",
       "};\n",
       "\n",
       "mpl.figure.prototype._canvas_extra_style = function (el) {\n",
       "    // this is important to make the div 'focusable\n",
       "    el.setAttribute('tabindex', 0);\n",
       "    // reach out to IPython and tell the keyboard manager to turn it's self\n",
       "    // off when our div gets focus\n",
       "\n",
       "    // location in version 3\n",
       "    if (IPython.notebook.keyboard_manager) {\n",
       "        IPython.notebook.keyboard_manager.register_events(el);\n",
       "    } else {\n",
       "        // location in version 2\n",
       "        IPython.keyboard_manager.register_events(el);\n",
       "    }\n",
       "};\n",
       "\n",
       "mpl.figure.prototype._key_event_extra = function (event, _name) {\n",
       "    var manager = IPython.notebook.keyboard_manager;\n",
       "    if (!manager) {\n",
       "        manager = IPython.keyboard_manager;\n",
       "    }\n",
       "\n",
       "    // Check for shift+enter\n",
       "    if (event.shiftKey && event.which === 13) {\n",
       "        this.canvas_div.blur();\n",
       "        // select the cell after this one\n",
       "        var index = IPython.notebook.find_cell_index(this.cell_info[0]);\n",
       "        IPython.notebook.select(index + 1);\n",
       "    }\n",
       "};\n",
       "\n",
       "mpl.figure.prototype.handle_save = function (fig, _msg) {\n",
       "    fig.ondownload(fig, null);\n",
       "};\n",
       "\n",
       "mpl.find_output_cell = function (html_output) {\n",
       "    // Return the cell and output element which can be found *uniquely* in the notebook.\n",
       "    // Note - this is a bit hacky, but it is done because the \"notebook_saving.Notebook\"\n",
       "    // IPython event is triggered only after the cells have been serialised, which for\n",
       "    // our purposes (turning an active figure into a static one), is too late.\n",
       "    var cells = IPython.notebook.get_cells();\n",
       "    var ncells = cells.length;\n",
       "    for (var i = 0; i < ncells; i++) {\n",
       "        var cell = cells[i];\n",
       "        if (cell.cell_type === 'code') {\n",
       "            for (var j = 0; j < cell.output_area.outputs.length; j++) {\n",
       "                var data = cell.output_area.outputs[j];\n",
       "                if (data.data) {\n",
       "                    // IPython >= 3 moved mimebundle to data attribute of output\n",
       "                    data = data.data;\n",
       "                }\n",
       "                if (data['text/html'] === html_output) {\n",
       "                    return [cell, data, j];\n",
       "                }\n",
       "            }\n",
       "        }\n",
       "    }\n",
       "};\n",
       "\n",
       "// Register the function which deals with the matplotlib target/channel.\n",
       "// The kernel may be null if the page has been refreshed.\n",
       "if (IPython.notebook.kernel !== null) {\n",
       "    IPython.notebook.kernel.comm_manager.register_target(\n",
       "        'matplotlib',\n",
       "        mpl.mpl_figure_comm\n",
       "    );\n",
       "}\n"
      ],
      "text/plain": [
       "<IPython.core.display.Javascript object>"
      ]
     },
     "metadata": {},
     "output_type": "display_data"
    },
    {
     "data": {
      "text/html": [
       "<img src=\"data:image/png;base64,iVBORw0KGgoAAAANSUhEUgAABLAAAAOECAYAAACxbcj6AAAgAElEQVR4XuydCZwV1ZX/T9OsAg3douzI2qIoKjEaM0bRaDRCJi4QiFGHOCbzd81iDEQUEdyioiYaJ04kGWN0HHeMuEvAfQ3RxA0FDAQXFDcYcQn4r1PkkUfzlnr16lWfuvd7Px8+iXTVrXO+58errt+791TdZ8EQBgQgAAEIQAACEIAABCAAAQhAAAIQgAAEjBKow8AyWhnCggAEIAABCEAAAhCAAAQgAAEIQAACEAgJYGAhBAhAAAIQgAAEIAABCEAAAhCAAAQgAAHTBDCwTJeH4CAAAQhAAAIQgAAEIAABCEAAAhCAAAQwsNAABCAAAQhAAAIQgAAEIAABCEAAAhCAgGkCGFimy0NwEIAABCAAAQhAAAIQgAAEIAABCEAAAhhYaAACEIAABCAAAQhAAAIQgAAEIAABCEDANAEMLNPlITgIQAACEIAABCAAAQhAAAIQgAAEIAABDCw0AAEIQAACEIAABCAAAQhAAAIQgAAEIGCaAAaW6fIQHAQgAAEIQAACEIAABCAAAQhAAAIQgAAGFhqAAAQgAAEIQAACEIAABCAAAQhAAAIQME0AA8t0eQgOAhCAAAQgAAEIQAACEIAABCAAAQhAAAMLDUAAAhCAAAQgAAEIQAACEIAABCAAAQiYJoCBZbo8BAcBCEAAAhCAAAQgAAEIQAACEIAABCCAgYUGIAABCEAAAhCAAAQgAAEIQAACEIAABEwTwMAyXR6CgwAEIAABCEAAAhCAAAQgAAEIQAACEMDAQgMQgAAEIAABCEAAAhCAAAQgAAEIQAACpglgYJkuD8FBAAIQgAAEIAABCEAAAhCAAAQgAAEIYGChAQhAAAIQgAAEIAABCEAAAhCAAAQgAAHTBDCwTJeH4CAAAQhAAAIQgAAEIAABCEAAAhCAAAQwsNAABCAAAQhAAAIQgAAEIAABCEAAAhCAgGkCGFimy0NwEIAABCAAAQhAAAIQgAAEIAABCEAAAhhYaAACEIAABCAAAQhAAAIQgAAEIAABCEDANAEMLNPlITgIQAACEIAABCAAAQhAAAIQgAAEIAABDCw0AAEIQAACEIAABCAAAQhAAAIQgAAEIGCaAAaW6fIQHAQgAAEIQAACEIAABCAAAQhAAAIQgAAGFhqAAAQgAAEIQAACEIAABCAAAQhAAAIQME0AA8t0eQgOAhCAAAQgAAEIQAACEIAABCAAAQhAAAMLDUAAAhCAAAQgAAEIQAACEIAABCAAAQiYJoCBZbo8BAcBCEAAAhCAAAQgAAEIQAACEIAABCCAgYUGIAABCEAAAhCAAAQgAAEIQAACEIAABEwTwMAyXR6CgwAEIAABCEAAAhCAAAQgAAEIQAACEMDAQgMQgAAEIAABCEAAAhCAAAQgAAEIQAACpglgYJkuD8FBAAIQgAAEIAABCEAAAhCAAAQgAAEIYGChAQhAAAIQgAAEIAABCEAAAhCAAAQgAAHTBDCwTJeH4CAAAQhAAAIQgAAEIAABCEAAAhCAAAQwsNAABCAAAQhAAAIQgAAEIAABCEAAAhCAgGkCGFimy0NwEIAABCAAAQhAAAIQgAAEIAABCEAAAhhYaAACEIAABCAAAQhAAAIQgAAEIAABCEDANAEMLNPlITgIQAACEIAABCAAAQhAAAIQgAAEIAABDCw0AAEIQAACEIAABCAAAQhAAAIQgAAEIGCaAAaW6fIQHAQgAAEIQAACEIAABCAAAQhAAAIQgAAGFhqAAAQgAAEIQAACEIAABCAAAQhAAAIQME0AA8t0eQgOAhCAAAQgAAEIQAACEIAABCAAAQhAAAMLDUAAAhCAAAQgAAEIQAACEIAABCAAAQiYJoCBZbo8BAcBCEAAAhCAAAQgAAEIQAACEIAABCCAgYUGIAABCEAAAhCAAAQgAAEIQAACEIAABEwTwMAyXR6CgwAEIAABCEAAAhCAAAQgAAEIQAACEMDAQgMQgAAEIAABCEAAAhCAAAQgAAEIQAACpglgYJkuD8FBAAIQgAAEIAABCEAAAhCAAAQgAAEIYGChAQhAAAIQgAAEIAABCEAAAhCAAAQgAAHTBDCwTJeH4CAAAQhAAAIQgAAEIAABCEAAAhCAAAQwsNAABCAAAQhAAAIQgAAEIAABCEAAAhCAgGkCGFimy0NwEIAABCAAAQhAAAIQgAAEIAABCEAAAhhYaAACEIAABCAAAQhAAAIQgAAEIAABCEDANAEMLNPlITgIQAACEIAABCAAAQhAAAIQgAAEIAABDCw0AAEIQAACEIAABCAAAQhAAAIQgAAEIGCaAAaW6fIQHAQgAAEIQAACEIAABCAAAQhAAAIQgAAGFhqAAAQgAAEIQAACEIAABCAAAQhAAAIQME0AA8t0eQgOAhCAAAQgAAEIQAACEIAABCAAAQhAAAMLDUAAAhCAAAQgAAEIQAACEIAABCAAAQiYJoCBZbo8BAcBCEAAAhCAAAQgAAEIQAACEIAABCCAgYUGIAABCEAAAhCAAAQgAAEIQAACEIAABEwTwMAyXR6CgwAEIAABCEAAAhCAAAQgAAEIQAACEMDAQgMQgAAEIAABCEAAAhCAAAQgAAEIQAACpglgYJkuD8FBAAIQgAAEIAABCEAAAhCAAAQgAAEIYGChAQhAAAIQgAAEIAABCEAAAhCAAAQgAAHTBDCwTJeH4CAAAQhAAAIQgAAEIAABCEAAAhCAAAQwsNAABCAAAQhAAAIQgAAEIAABCEAAAhCAgGkCGFimy0NwEIAABCAAAQhAAAIQgAAEIAABCEAAAhhYaAACEIAABCAAAQhAAAIQgAAEIAABCEDANAEMLNPlITgIQAACEIAABCAAAQhAAAIQgAAEIAABDCw0AAEIQAACEIAABCAAAQhAAAIQgAAEIGCaAAaW6fIQHAQgAAEIQAACEIAABCAAAQhAAAIQgAAGFhqAAAQgAAEIQAACEIAABCAAAQhAAAIQME0AA8t0eQgOAhCAAAQgAAEIQAACEIAABCAAAQhAAAMLDUAAAhCAAAQgAAEIQAACEIAABCAAAQiYJoCBZbo8BAcBCEAAAhCAAAQgAAEIQAACEIAABCCAgYUGIAABCEAAAhCAAAQgAAEIQAACEIAABEwTwMAyXR6CgwAEIAABCEAAAhCAAAQgAAEIQAACEMDAQgMQgAAEIAABCEAAAhCAAAQgAAEIQAACpglgYJkuD8FBAAIQgAAEIAABCEAAAhCAAAQgAAEIYGChAQhAAAIQgAAEIAABCEAAAhCAAAQgAAHTBDCwTJeH4CAAAQhAAAIQgAAEIAABCEAAAhCAAAQwsNAABCAAAQhAAAIQgAAEIAABCEAAAhCAgGkCGFimy0NwEIAABCAAAQhAAAIQgAAEIAABCEAAAhhYaAACEIAABCAAAQhAAAIQgAAEIAABCEDANAEMLNPlITgIQAACEIAABCAAAQhAAAIQgAAEIAABDCw0AAEIQAACEIAABCAAAQhAAAIQgAAEIGCaAAaW6fIQHAQgAAEIQAACEIAABCAAAQhAAAIQgAAGFhqAAAQgAAEIQAACEIAABCAAAQhAAAIQME0AA8t0eQgOAhCAAAQgAAEIQAACEIAABCAAAQhAAAMLDUAAAhCAAAQgAAEIQAACEIAABCAAAQiYJoCBZbo8BAcBCEAAAhCAAAQgAAEIQAACEIAABCCAgYUGIAABCEAAAhCAAAQgAAEIQAACEIAABEwTwMAyXR6CgwAEIAABCEAAAhCAAAQgAAEIQAACEMDAQgMQgAAEIAABCEAAAhCAAAQgAAEIQAACpglgYJkuD8FBAAIQgAAEIAABCEAAAhCAAAQgAAEIYGChAQhAAAIQgAAEIAABCEAAAhCAAAQgAAHTBDCwTJeH4CAAAQhAAAIQgAAEIAABCEAAAhCAAAQwsNAABCAAAQhAAAIQgAAEIAABCEAAAhCAgGkCGFimy0NwEIAABCAAAQhAAAIQgAAEIAABCEAAAhhYaAACEIAABCAAAQhAAAIQgAAEIAABCEDANAEMLNPlITgIQAACEIAABCAAAQhAAAIQgAAEIAABDCw0AAEIQAACEIAABCAAAQhAAAIQgAAEIGCaAAaW6fIQHAQgAAEIQAACEIAABCAAAQhAAAIQgAAGFhpIlMD69evl7bffDufcYostpK6uLtH5mQwCEIAABCAAAQhAAAIQgAAEIJBP4LPPPpMPP/ww/KsePXpImzZtAOQgAQwsB4vamimtXLlSevbs2ZohcG0IQAACEIAABCAAAQhAAAIQ8JTAm2++KVtvvbWn2budNgaW2/VNPTsMrNSRc0EIQAACEIAABCAAAQhAAAIQ+AcBDCx3pYCB5W5tWyWzNWvWSNeuXcNrr1ixQrp169YqcXBRCFRL4O9//7vcdddd4TQHHnigtG3bttopOR8CrUIALbcKdi5aAwJouQZQmTJ1Aug4deRcsEYErGn5//7v/zbuBFq9erV06dKlRpkzbWsSwMBqTfoOXls/OHIfFu+99x4GloM19iUlvSnPnTs3THfMmDEYWL4U3sE80bKDRfU0JbTsaeEdSxsdO1ZQj9OxpuX851BdVNG5c2ePq+Nu6hhY7ta2VTLDwGoV7Fy0BgSs3ZRrkCJTekIALXtSaA/SRMseFNmDFNGxB0X2JEVrWsbA8kN4GFh+1Dm1LDGwUkPNhWpMwNpNucbpMr3DBNCyw8X1LDW07FnBHU0XHTtaWA/TsqZlDCw/RIiB5UedU8sSAys11FyoxgSs3ZRrnC7TO0wALTtcXM9SQ8ueFdzRdNGxo4X1MC1rWsbA8kOEGFh+1Dm1LDGwUkPNhWpMwNpNucbpMr3DBNCyw8X1LDW07FnBHU0XHTtaWA/TsqZlDCw/RIiB5UedU8sSAys11FyoxgSs3ZRrnC7TO0wALTtcXM9SQ8ueFdzRdNGxo4X1MC1rWsbA8kOEGFh+1Dm1LDGwUkPNhWpMwNpNucbpMr3DBNCyw8X1LDW07FnBHU0XHTtaWA/TsqZlDCw/RIiB5UedU8sSAys11FyoxgSs3ZRrnC7TO0wALTtcXM9SQ8ueFdzRdNGxo4X1MC1rWsbA8kOEGFh+1Dm1LDGwUkPNhWpMwNpNucbpMr3DBNCyw8X1LDW0HK3gn376qXzwwQeiv5OtW7cu2kkclRqB9evXy4oVK8Lr9e3bV9q0aZPatbkQBJIkUGst19fXS+fOnaWhoUHatWtXNnQMrLKInDgAA8uJMtpJAgPLTi2IpDoCPChVx4+z7RBAy3ZqQSTVEUDL5fnp72HLly+Xzz77rPzBHNEqBLQ2a9euDa/dqVMnqaura5U4uCgEqiWQlpb130j//v1DM6vUwMCqtqLZOB8DKxt1ykyUGFiZKRWBliHAgxIScYUAWnalkuSBlktrQFdeLV68eKN5pSt7dNUCBomtfzv60K+10kF9bNWGaCojUEst5+bWVV469HNsyJAhJVdiYWBVVr+sHo2BldXKGY0bA8toYQirYgI8KFWMjBOMEkDLRgtDWBUTQMulka1atUpWrlwZHtSjR4/wD+ZVxTKr+Qn6YP7++++H1+nWrRs1qjlxLlArArXWss7/9ttvh390bL311rLlllsWTQcDq1aVtjUvBlbC9dBl27feeqs8/vjj8uyzz8pbb70l+gtFhw4dZODAgbLPPvvIcccdJ8OHDy965enTp8uZZ55ZNrLjjz9eLrvsspLHLVy4UC6++GKZP39++EtNU1OT7LHHHnLiiSfK6NGjy16j0gMwsColxvFWCfCgZLUyxFUpAbRcKTGOt0oALZeuzLJly8K+V7ryqrm5GWPEqJBr/dBvNG3CcpBAGlrWayxatEh0JZZuIRwwYAAGloNaqiQlDKxKaEU4Vg0lNYdKDV0ufNFFF8kJJ5xQ8LCkDKzZs2fLscceu3GZcv7F9Bu5M844I/yT5MDASpImc7UmAR6UWpM+106SAFpOkiZztSYBtFya/tKlS+Wjjz4KvzQdPHhwa5aKa5cgkMZDPwWAQBoE0tLykiVL5OOPP5aOHTvKoEGDMLDSKK7ha2BgJVwcNY1uueUW2XfffWWXXXaRPn36hEu433zzTXn00UflvPPOk1deeSW86u233y5jxozZLIKcgaUO83PPPVc0wvbt24v+KTQeeOCBMAZ9+8zOO+8ss2bNkh133DHsjTB16lSZN29eeNo111wjhx9+eGIUMLASQ8lErUyAB6VWLgCXT4wAWk4MJRO1MgG0HM3AKveQ18pl9P7yaT30ew8aADUnkJaWc+Z8uc82thDWvOQmLoCBlXIZ3nvvPRkxYoS89tprsvfee4db+1qOnIG1zTbbyKuvvhorws9//vPy1FNPhQaammDdu3ffOM8nn3wiu+22mzzzzDPSr1+/0FDTb+uSGBhYSVBkDgsEeFCyUAViSIIAWk6CInNYIICW7RlY55wjEvxaGQ79TvXUUy0oxXYMaT3026ZAdC4QSEvLGFguqCW5HDCwkmMZeaaTTjpJLr30UunSpYusXr06cQPrySefDA0qHT/72c9Er9dyzJkzRw4++ODwr2+44QYZN25c5PhLHYiBlQhGJjFAgAclA0UghEQIoOVEMDKJAQJouXQRoj7kJVlKDKzKaab10F95ZJwBgcoIpKXlqJ9trMCqrH5ZPRoDqxUqd/LJJ4c9sHRroTZ5bzmqXYE1bdo0mTlzZjjtihUrwlVYLYe+vldXZX344Ydy1FFHyVVXXZUICQysRDAyiQECPCgZKAIhJEIALSeCkUkMEEDLtgysoN2W/PCHIh98IEHLCgn604gE7xeSHXbY8P8ZhQmk9dAPfwjUmkBaWsbAqnUlszU/BlbK9dLmmtqLSrftHXjggXLnnXeWNbD0rQv6p23btpGiHTt2rMydOzfcHqhvRSw29txzT3n44YeDXzR2kD//+c+R5i53EAZWOUL8PCsEeFDKSqWIsxwBtFyOED/PCgG0bMPACl5qLY89JsHvjiL33itB43gJfk+V4PdUCfqvinTqJMHvuiJf+IK+9t6OuvRt4H/961/DgM4+++xgu2Px/Y677rqrPP300+Gx3/ve9+SSSy5JLJG0HvoTC/gfEym7H//4x2H7k7fffjt8NtE3nX//+98veSl9cZQONSG0BoWGtkzJNedWPr6OHKv8/LfYYouQ2wEHHCA/+tGPCi5MKMXrv//7v+Xb3/62/Nu//Zvo/09ypKVlDKwkq5b9uTCwUqihfsBrE3fd2nfWWWeF/6vN1x988MGNW/3yw8itwOoU/AagH+YvvfRS2Iy9qakpPF5XTH3jG9+Q+vr6gtEPGzYsNMi+9KUviTZzLzaOPPJI+d3vfhf2v9KVWPra5WoHBla1BDnfCgEelKxUgjiqJYCWqyXI+VYIoOXSlYj6kFdNPdW0uvVWkaCla9DPVeTxxzeYVzrUp9AXhPXsKcFDtgQr/SVoV7HBzLIw8g2s5ubm8PfrQkN7x+qXu7mBgSWiRoX211VTT9nstNNO4Rfr+iKor3zlKyXLi4EVXf05VocddljYakaH9k1+PPiH9kGw1HHLLbeUBQsWhP2Uow4MrKikOC4rBDCwalgpXWF19913b3aFbbfdVq644oqwiXuhkTOwSoW21157yU033RRuQ2w5Ghsbg18s3hP98LvxxhuLTpPbyqgHvP/++9LQ0BCJhppUxYb+rKf+5hIM/XamW7dukebkIAhYI6APSrl/v/qtV9QVkNbyIB4IoGU04AoBtFy6krpCJsqr5uPqQc2r4FfPYBWTrqYR6dpVgi9oJfgiVIIvQTcYWMGvuKGxpS1e1cwK3kcU9FndsK2wtYd+KayMPve5z4VGzCOPPBKsEguWibUYp5xySvj2bl2FpS9E0l6ySa/AUjNCh/7uXWjVTWuzanl9NUeHDBkS1HOb8EvyYl+iF4o79wX5kiVLSq7AGjx4cHi6fvHv6yjG6o033gjfXL9w4UL54he/KA899FBkRPqM9/rrr4fPZL179458XpQD1dhMQ8s5c14XXagGiw19Ds29uGzNmjXSuXPnKGlwTMYIYGDVsGCFDKytttpKZsyYIUccccRGZ71lCHqT1A953Qqoq6m0h5X+I9Ttfuedd548+uij4Sn6AaYrrFreRHR1l/a4+ta3vhWusCo2pk6dKudo981gqLsf9UMt6o32uuuuC3og0AShhhJjaghAAAIQgAAEIBAS0C8w9YFNV27kvkxMCs1bb9UF24/aB8ZVm6A9RRsZOnR9sD3ws+B30vrAcNiwRaxNm8+C303XBat1RFaurAuMjjbSv//6wMhaH2xh+iT40rV1t4aNHDkybK3x05/+VCZPnhxuq9KetPlDdzzoCiM1UXSnghpZ/+///T8599xzk0KZyXn0GUSfS/7lX/5Fbr/99opyUF3q0LefDxgwoOC5y5YtC1d16Xj33Xcrmt+lg0uxytVA833hhRekV69eLqVeMhfdyaTPwmpQldKHtuqZOHFiOBcGlrvywMCqYW31H5F+W6g3wVWrVoVuud4A9UNn++23D28Auf3eUcPQG+s3v/nN8M2BOn7zm9/IpEmTNjk9Z2CpSXb11VcXnfq0004LewDoKNbsvdDJGFhRq8VxEIAABCAAAQhAIB0CtTSw7rijbbBiqa386U9tgy9X1wUG2QYz6pFHNjewctm++WadvPxyvey8898D4+Pv8tWv/j0dEEWukjOw9MtfbcehuxVefPHFsJVGbtxzzz0yYcKEoBn98aERqGZXMQNLtxpedtllYUsQfSmTmoe6aktXbGmf2ZZDe0f9/ve/D/qHPRZ+cbx27drQhNhnn33kBz/4QUFzR00jNS70PO2FpF9kaysSfcbYbrvtwv5T//qv/1oxV12Jpv2r5s2bF7Y50bl32WUXOeaYY+Sggw7aOF++sdTyIv3795dnn3227LWTMLCUr75Z/a677pK//e1vYc30WUrrqIZFy2eT4447Tv7nf/5HfvGLX4TbHFuOYj/Xliq//e1v5X//939Ds1NNEN22p6vDtE4/1LcWtBiV6qAUsFKs9M31OQNQdapbOq+99tpQq/pseOaZZ4YLE+4NGtNpTbWW+tyZf8zll19eMP7//M//DHWc04JeZ//995djjz02bGGTPyrNV1fsXXrppeGKR9W97mjQBR0777xzWD/dVVRuYGCVI+TXzzGwUq633qz0A1D3Mus3PPptRKW9p9QM0w8W/ZDVDxf9EMsfuS2E44I12zmjq1Catd5C+NjInaRLYN7VtWsnvYIP1YavHpgybS4HgfgE2KoSnx1n2iKAlm3Vg2jiE0DLpdnVaguhNmkPFiLJX/6iqxpERo3asF1QR/DMG76BUIe2Zg3ar24cuhLrj3+UwAjasIUweAl3q76dMLeF8I9BUHPmzAkf+K+//vpgi2Owx/EfQ80Q/Tv9/VxbdeiuiUJbCPXt3d/5znfCL6p15ZDumMj1KtIvrtU4UeMrf+SO0Zc5qXH1ySefyPPPPy9qEqlJoEaVthnJH/rMoD2PdFuj7tDQbXza/0hrrdsbdahRo6Zb1KFGgppUuvVLY9ItlbpFTQ0M/aJcV6flVpxpOxC9tv5c2yroyj7dYaJDjZ0LL7yw7GWr3UK4aNGi4OUA+4Z89QVVugNFY//DH/4QbplV80Z3nOSbWLq6Tmv061//erMv+jXgQj/Xuilv5aD10Ot0DfbJ6vY7rZNuxdPnuPwRRwelgJVipYsN1DTUobUfFfxD1P5WRx99dFjPvwT/QDU+7YGsW/tUZ9qWJneMNnHXhQ/5Q/9bdao7d7QvnJpKuspJmb/88suhwTl69OiNp7TMd+jQoaHRp1tyC+n+T3/6U2jm6jOr6lZNVz1Oz9GfaR1++ctfltUQWwjLIvLqAAysVii3fgOjH5A61CXfb7/9Ko5Cjav77rsvdLBX6utg8kauibs62nrTKzbU9dYVWrpiSz/wKjXSCs2b38T9ie1HSJfcbzXBwX1mXSjdgv3bDAhkgQDNgrNQJWKMQgAtR6HEMVkggJZLV6lWTdzVJ9HG7YHvERgeErSc+GccpQwsPSp49g8ehLXtxYaG7sECpVYbuSbu2kdI++ToqhrtK6Srm3Toiiw1lnRlj5pcuZ60LZu468+0d5a+bOnmm2+WL3/5yxtz0jYfX/3qV8MHdn3Dd74hpaaZ/v6vpoiaITp0lZe+4EnNNO23qSuM8oeaB/q7vJoz+qD/3e9+d+OPdTXWT37yk9DU0lUuUYau3NLnBF3FNGXKlHAnRu73fzW2NAZddXTHHXeEeeRG7tlF+/fq/69kVNvEXVcaqWGjO0tmz54dPrfo0Cb8OWNLVxbpaqHc0N0parYU2qmixxT6uXJW3rqKTlfpaX1zQ409/bleLzfi6qAUu1Ks1BQ94YQTwtVn77zzTrhqLtegXedUE0vN15Z9n4o1cdfFFLolVOuvRp/yzR/KXP89qGmoo1C+ubcQPvHEE+ELxlrqXg0qvf4FF1wQvkExf2gO+vZJNeLKjaifbfnPoWwhLEc1uz/HwGqF2qlZpB86Os4///zwm41Kh/a30iWh7YLVTfoNTv7Qm7HeeNSl1291ig116HVbozri6tonMUoZWLoSa9AtN0uHwK1nQMA6AR6UrFeI+KISQMtRSXGcdQJouXSFoj7kVVpnfR/RnXdKsGJCggdeCX73/OcM5QysYGFHsLJIgpUdEhgiEhgklV49uePzDSxdaaJmha560pUtW2+9dWgQqQmiK53UtCpmYOlLktS4UjNFV7+0HNo3Sx/WdbuZ/v+WI/fQr3+vjbXVtFCTQFf6qImmBldu5AwsXWGlvWXzh66a0bj1HDUCSjW3zp2n2+N0JY6aXmoAteyje8YZZ4SrztSU0y/KcyMJAytqJZVPbqiRpKaZctJVZy1fDqUGldagpYkXx8DSXStqwkR962S1OijEo5CBpbq4NXCQf/zjH4fmom4Z1K2rOnLmlJp6umKqUI+xYgaWbj1V8/b000zOmA8AACAASURBVE8Pa15uFMo3X8tXXnll+Eybr/vcM6maxvpvLu6I+tmGgRWXcLbOw8BqhXrpHubcG/8KOdJRQtIbiy7rLLQCa9q0aTJz5sxwmmLN2fWXQL0JqFOuTSr1hpbEKGVg6fzdx4+X3jPLf0gmEQtzQKAaAjwoVUOPcy0RQMuWqkEs1RBAy6XpRX3Iq7QGt92mOwYkWFEkgZnwz+2DOk85A0u9CN0MEOxmkq98ReRrX6v06skd39LAypkf2shde1DpqirdCqW/O+vv14UMLN3+pKu31EjQlh65nkX5UerKFV01pFvQ1CDLH2rCaA9c/eJY58gZSLrySvv86CoX7UWVGzkDS00INZ5aDt3+p+fo6qk99tijLCzti6TGmz4r6KqvlkPjU076Eqb8+JIwsNQA0RVnhYZeS7ds6sg3sHR1mhosumtEV1S1HPqZoIsC1MzTVWV9+/YND4ljYOkqtuHDh4crr3QLpcZb7AVX1eqgWKHK9RlWg02f2XJ923LmlGo395KvlnMXMrB0RZk+i+pzYBTzs1i++QaWGmi77bbbJrrPGaL692qSqRkZ5wVfUT/bMLDKfgQ4cQAGViuUce7cueGbPHToh/Whhx5aURTayFAddl0G/JXgtwHdk54/dBnn7rvvHv7Vz3/+cznxxBM3m/+24LeRr3/96+Hf63LT8YGxlMQoZ2DVBTeFYQvmS33wocmAgGUCPChZrg6xVUIALVdCi2MtE0DLpasT9SGv0hq7ugJLTRPt6aS9f3R1k5oXuipFt/rpKGRg6e/guuopytD+QPpQnxv68iTd9qfmQbGhRpE+5OdGzsC6//77N9m+1vLn2g8qv1dRsfl1W6CaZcUMMTUq1MDR3R1qqOVyTcLAUn2qOVZoqImSe7FVvoGlK+J0ZZzWQs2QQkM5L168OOwvrEaJjjgGlp6n2/R09Zw+Y+nQbaZaDzWzdItezmCqRgeltJObP2f26X9rPZSbPvO1XMWUM6fU2NLG84VGIQNLa6vbA9UIy+VaKq64+epzofaYy22N1ZViukVTt2KqKanbWaOMqJ9tGFhRaGb/GAyshGuobzPRG2Cxoa/+1K17+gYHXSKs3xbkVmPpOdosUf8+/40o+XPpNwxqNuVurvpthH4AtBz64aDfIumSZP2WJ3/Jrc6hBpcu59RvKvQbhzhueKEcyxlYek6v4CbUODF6s8mES8R0EIhEgAelSJg4KAME0HIGikSIkQig5dKYoj7kRYKdd5CLPbByRoDuQtAG4LrVSb9gzv9iuZCBlXvw1zepaTuPUqNHjx4bm5zfeOON4e/v+ju/vv1Pf09X80wNIjUpdLWWrqBpaUTlDKxiBlW5n7eMTxuw6xffpQwsfSbQZwULBpY2GL/iiitKGli6fXDJkiUVGVi5PsCFemRpw3pdJaemoTZ01y2mOnT3y53BXlpt3xJXB+X+7UXpF5Y/R7HtgeWOycWvtW7ZmL5QjKXyzbWyyfUmy9d9bi5dlaj/vrSPmL6FU6+pqw/17Yf6MoRyI+pnGwZWOZJu/BwDK+E66g1NV1cdcsgh4Vs91N3W5ni6HFm3/OnbOvTNCzp0/7LuY84fusdZX+2qjfS0ubuaYWo+abNHXR6sWw51qbAO/UZA5yzUfF33jKu7rd/y6FJkXR6tbz3UD/hTTz01/FDWoTftcjfgShBFMbCagsaKPadMrmRajoVA6gR4UEodOResEQG0XCOwTJs6AbRcGnnUh7xKC5f/FsKgC0bw+230txAG36UGX8zaeAthyy2EykF/H869TEnfqqe/r+cexAsZWKpBNaF01Yr+zpvf6LsUV327oa6QufTSS8Pf/XNN3HM9sNTI0lUutTawclsIdTWT5tdyaO9c7aWlxoa2PNHnGh2ttQIrt4VQt0+qWdNyFNtCqM3uf/WrXxXdiZIz/oo1ec+/jq7s0jcd6r8vXQ32H//xH+HbJ+PooNy/vbQMLH0+VO2phnXbaKHeWfmxFsu3UD+3cjnqv53/+q//ku9///vhvzU1x1r2Nms5R9TPNgyscvTd+DkGVsJ1LLd3WS+nN4Vzzjkn3G/fcqiBpeZXuaHfFKn5pPvwiw1tpqdmmH6L0nJonHrzKrYct9z1i/08ioFFH6y4dDkvTQI8KKVJm2vVkgBariVd5k6TAFouTTvqQ16cmmkfLO1lpYbUttv+802EpXpg6RsIgz7h4ZsHdVdca/a/0pwLGVi6ZW6nnXYKG6jrG9P0i+LcKNbEXVtwaCuOa665Rg4//PBIOHX7l755XH/P122K+QaWfhmdM9FqbWDlmrjrtskXXnhhsy/BtS+W5l2LJu5xthDmmrhrrzE1WvIb3Ct43Ymi2wVbNnHP5ZHf8DxXKN3tolsD1aCLYmDpefrcNnXq1PC5SrcZ6oijg3JiScvAyo+/mJnZMtZC+cYxsHLzqgZ1i622vtGecaVG1M82DKxyCnPj5xhYCddRl5rqjUg/cPWDVl1lXVqpzvJ2220Xvj5X35ZRzOnWb1+0J5Wutnr22Wdl5cqVotsOdUthnz59wq1/utx5//33jxS5bhPU1Vf6zYnO1dTUFDZ5POmkkyLtlY90kbyDohhYrMCqlCrHtwYBHpRagzrXrAUBtFwLqszZGgTQcmnqUR/y4tQu+BUy2MolwUp+CZo+S9A3KmgJ0UuCt1lLsNp/w4zBjqCgTYY24RYJdmHJokVqGmkfIZFgJ1jQGD3OlZM7p5CBVWr2YgaWtujQ36W1Ibl+Wdyyl61+caw9f3QrVa6xuv7erauv9Ato3aaY27alv+MfELyaMdcrq9YGll5X+w7ptjjtyaWNtXOmia400ucLNXZ0u5f2fMqN1lqBpdfPtUVRo0pX7ugWPh3KTJ+rNJfLL788fINkbujz2F577RWuknryySfDPmc61DjU5yh9+56OfANLn98+/vjjkEFu5Zkeo3+nBqQ+22kPs8mTN+wiiaODcmpO08BS4+hfgteK6k4eXd2mq8zyh+an21y1HU2xfPMNLG2mr9tT83WvdVGeLXtdPfPMM2G/Mv1M13Y6xZrl5+KJ+tmGgVVOYW78HAPLjTqaySKKgdUtaITY5+yzzMRMIBAoRIAHJXThCgG07EolyQMtl9ZA1Ie8uErStxDqi+KC72eD7VQSGDgSfDkqwZesEjwEb9hWqKuztGVQ0B89aMotwXY0CZo4b9hC2NojKQNL89Cm77piS7dD6Woe/ZJatxNqmxDth6tGifb30R5OOrTfrLYW+eCDD8IvsUeNGhUaRfqWwtyDvH55XWsDS2PRa6o5pbFsGxRMY9Ev3LU/kW4tU4NGjZr80ZoG1qLACVWjSrd39u/fP+wXprHnDCc1XnQ1XMtdMJqj9qzq3LlzaGbpUNMm17hfV8PlG1iXXHJJuDtGd7dorfQ4bfSvddFVW2qCqcmXv/ulUh2U+zeQpoGlsfz617/euCVStaC94fRZ7qVg6aQahC31WChfNfvURNTjW+pe51OzShvtaysbNbnUsFINqtZOOeUUOf/888thCbdv6r813cWUa/Zf6CQMrLIonTgAA8uJMtpJIoqBpdH2mXWhdAu+hWJAwCoBHpSsVoa4KiWAlislxvFWCaDl0pWJ+pBXTX3VxAqe+4MH1Q1GVfA8L8EuvHCogaWmVfDcH7wkSILdBxK0xbBhXml8SRpYOp+aUmp66NZANa50JYuuJFEz62vBfkl9k5zufMgNPf4nP/lJaIi88847oRmj5ov2ptVVWGogpWFgaTzaE/fcc8+Ve+65J9w+qSaPrnQ64YQTNr6lPF8nrWlgaRy6i0RNNV05pX26dGfKyJEjRXt6aX+sQi1cPvzww7BViu5s0RzVkNLVcrrq7Hvf+164/TDfwNL6XH311eFKK/3/uitGV3BpT7AJEyaI9tXKf/FWfl0r0UGpf39pG1gaixpM2qNZa6xGpuao/1a0p7OuHMzXcDHdK9sRI0Zspntthq81U+NPjSs1BLU/9I477hhux9S3YkYZUT/bMLCi0Mz+MRhY2a+hqQyiGlh1wfLfQbfcLB0CR54BAYsEeFCyWBViikMALcehxjkWCaDl0lWJ+pBXbW2D5/rgTWIStLqQwLyRYGXEBhNL+30H7w8KViJJYC6IfOELrb9tsNpca3F+NX2DahEPc0IgLoG0tBz1sw0DK24ls3UeBla26mU+2qgGliZCM3fz5fQ6QB6UvC6/U8mjZafK6XUyaNmGgZWLQo2rH/5Qgu1cG/pgBbt7gjfsbVhxpf+fUZhAWg/98IdArQmkpWUMrFpXMlvzY2Blq17mo63EwKoLvqIbtmC+1AdLVRkQsEaAByVrFSGeuATQclxynGeNAFq2ZWBpNMHL2YKXFW2Iq317CbbDWVONvXjSeui3lzkRuUYgLS1jYLmmnOrywcCqjh9ntyBQiYGlp/YKXtXbOHECHCFgjgAPSuZKQkAxCaDlmOA4zRwBtGzPwDInkgwElNZDfwZQEGLGCaSlZQysjAsl4fAxsBIG6vt0lRpYTcErcXtO2fA6WgYELBHgQclSNYilGgJouRp6nGuJAFrGwLKkx7ixpPXQHzc+zoNAVAJpaRkDK2pF/DgOA8uPOqeWZaUGFn2wUisNF6qQAA9KFQLjcLME0LLZ0hBYhQTQMgZWhZIxeXhaD/0mkycopwikpWUMLKdkU3UyGFhVI2SCfAKVGliswEI/VgnwoGS1MsRVKQG0XCkxjrdKAC1jYFnVZiVxpfXQX0lMHAuBOATS0jIGVpzquHsOBpa7tW2VzCo1sOiB1Spl4qIRCPCgFAESh2SCAFrORJkIMgIBtIyBFUEm5g9J66HfPAgCzDyBtLSMgZV5qSSaAAZWojiZrGID66yZ0jhuHOAgYI4AD0rmSkJAMQmg5ZjgOM0cAbQczcDq0KGDDB482Fz9CGgDgbQe+uENgVoTSEvLS5YskY8//lg6duwogwYNKppW/nPomjVrpHPnzrVGwPytQAADqxWgu3zJSg2sunbtZNAtN0uHoUNdxkJuGSTAg1IGi0bIBQmgZYThCgG0XLqSy5YtE/09rE2bNtLc3Cx1dXWulN6pPNJ66HcKGsmYJJCGlvUaixYtkvXr14eG1IABAzCwTKohvaAwsNJj7cWVKjWwFAqN3L2QRuaS5EEpcyUj4CIE0DLScIUAWi5dyVWrVsnKlSvDg3r06BH+wcSyp/40HvrtZU1ELhKotZZ1/rfffjv8o2PrrbeWLbfcEgPLRTFVkBMGVgWwOLQ8gTgGVl2nTjJswXypb2gofwGOgEBKBHhQSgk0l6k5AbRcc8RcICUCaLk06E8//VQWL14cblHToSux2gUr3TGxUhJoxMtofbRWOqhPRGgcZpJALbWcm1tXXunQz7EhQ4aE/2aKDbYQmpRJ4kFhYCWO1O8J4xhYSoxm7n7rxmL2PChZrAoxxSGAluNQ4xyLBNBy+aro72HLly/faGKVP4Mj0iagD+Zr164NL9sp+BIXgzHtCnC9pAikpWX9N9K/f/+yPa0wsJKqrO15MLBs1ydz0cU1sJomTZKeUyZnLl8CdpcAD0ru1ta3zNCybxV3N1+0HK22urrngw8+CPthrVu3LtpJHJUaAV1RsmLFivB6ffv2DVfKMSCQRQK11nJ9fX1oWjUEu3RKrbzKscPAyqKKKo8ZA6tyZpxRgkBcA4s+WMjKGgEelKxVhHjiEkDLcclxnjUCaNlaRYgnDgF0HIca51gkYE3LGFgWVZJ8TBhYyTP1esa4BhYrsLyWjcnkrd2UTUIiqEwQQMuZKBNBRiCAliNA4hDzBNCx+RIRYEQC1rSMgRWxcBk/DAMr4wW0Fn5cA4seWNYqSTzWbspUBAJxCaDluOQ4zxoBtGytIsQThwA6jkONcywSsKZlDCyLKkk+Jgys5Jl6PWMcA4u3EHotGbPJW7spmwVFYOYJoGXzJSLAiATQckRQHGaaADo2XR6Cq4CANS1jYFVQvAwfioGV4eJZDD2OgUX/K4uVJCZrN2UqAoG4BNByXHKcZ40AWrZWEeKJQwAdx6HGORYJWNMyBpZFlSQfEwZW8ky9nrFiAyt488rg2+ZIh6FDveZG8vYIWLsp2yNERFkhgJazUiniLEcALZcjxM+zQAAdZ6FKxBiFgDUtY2BFqVr2j8HAyn4NTWVQqYHVee+9ZMAVV5jKgWAgoASs3ZSpCgTiEkDLcclxnjUCaNlaRYgnDgF0HIca51gkYE3LGFgWVZJ8TBhYyTP1esZKDSy2D3otF9PJW7spm4ZFcKYJoGXT5SG4Cgig5QpgcahZAujYbGkIrEIC1rSMgVVhATN6OAZWRgtnNexKDaymSZOk55TJVtMhLo8JWLspe1wKUq+SAFquEiCnmyGAls2UgkCqIICOq4DHqaYIWNMyBpYpedQsGAysmqH1c+JKDaxe06dL48QJfsIia9MErN2UTcMiONME0LLp8hBcBQTQcgWwONQsAXRstjQEViEBa1rGwKqwgBk9HAMro4WzGnYlBlZdp04ybMF8qW9osJoOcXlMwNpN2eNSkHqVBNBylQA53QwBtGymFARSBQF0XAU8TjVFwJqWMbBMyaNmwWBg1QytnxNXYmDR/8pPjWQla2s35axwI057BNCyvZoQUTwCaDkeN86yRQAd26oH0cQnYE3LGFjxa5mlMzGwslStDMQa1cCqa9dOBt1ys3QYOjQDWRGijwSs3ZR9rAE5J0MALSfDkVlanwBabv0aEEH1BNBx9QyZwQYBa1rGwLKhi1pHgYFVa8KezR/VwOoz60LpNmaMZ3RIN0sErN2Us8SOWG0RQMu26kE08Qmg5fjsONMOAXRspxZEUh0Ba1rGwKqunlk5GwMrK5XKSJzlDCxdedX7vHMxrzJST5/DtHZT9rkW5F4dAbRcHT/OtkMALdupBZHEJ4CO47PjTFsErGkZA8uWPmoVDQZWrch6Om8xA0sbtncbO1aa/u0otg16qo2spW3tppw1fsRrhwBatlMLIqmOAFqujh9n2yCAjm3UgSiqJ2BNyxhY1dc0CzNgYGWhShmKMf+D46UpP5Fu3bpJ+4EDpeGgr/K2wQzVkVBFrN2UqQkE4hJAy3HJcZ41AmjZWkWIJw4BdByHGudYJGBNyxhYFlWSfEwYWMkz9XrG/A+O9957LzSwGBDIIgFrN+UsMiRmGwTQso06EEX1BNBy9QyZofUJoOPWrwERJEPAmpYxsJKpq/VZMLCsVyhj8eV/cLz6m99Ix9ffkPUf/p+02aKztB+kK7EOYiVWxmrqa7jWbsq+1oG8qyeAlqtnyAw2CKBlG3UgiuoIoOPq+HG2HQLWtIyBZUcbtYwEA6uWdD2cu2wT97AX1hhpOirohTVsmIeESDkrBKzdlLPCjTjtEUDL9mpCRPEIoOV43DjLFgF0bKseRBOfgDUtY2DFr2WWzsTAylK1MhBrOQMrl0L4NsJzg7cRBmYWAwIWCVi7KVtkREzZIICWs1EnoixPAC2XZ8QR9gmgY/s1IsJoBKxpGQMrWt2yfhQGVtYraCz+qAZWLuw+sy6UbmMwsYyVkXACAtZuyhQFAnEJoOW45DjPGgG0bK0ixBOHADqOQ41zLBKwpmUMLIsqST4mDKzkmXo9Y6UGlq7EGnTLzdJh6FCvuZG8PQLWbsr2CBFRVgig5axUijjLEUDL5Qjx8ywQQMdZqBIxRiFgTcsYWFGqlv1jMLCyX0NTGVRqYGnw3cePl94zZ5jKg2AgYO2mTEUgEJcAWo5LjvOsEUDL1ipCPHEIoOM41DjHIgFrWsbAsqiS5GPCwEqeqdczxjGw6oLG7sMWzOfthF4rx17y1m7K9ggRUVYIoOWsVIo4yxFAy+UI8fMsEEDHWagSMUYhYE3LGFhRqpb9YzCwsl9DUxnEMbA0gV7Tp0vjxAmmciEYvwlYuyn7XQ2yr4YAWq6GHudaIoCWLVWDWOISQMdxyXGeNQLWtIyBZU0htYkHA6s2XL2dNa6B1TRpkvScMtlbbiRuj4C1m7I9QkSUFQJoOSuVIs5yBNByOUL8PAsE0HEWqkSMUQhY0zIGVpSqZf8YDKzs19BUBnENLPpgmSojwQQErN2UKQoE4hJAy3HJcZ41AmjZWkWIJw4BdByHGudYJGBNyxhYFlWSfEwYWMkz9XrGuAYWK7C8lo3J5K3dlE1CIqhMEEDLmSgTQUYggJYjQOIQ8wTQsfkSEWBEAta0jIEVsXAZPwwDK+MFtBZ+XAOLHljWKkk81m7KVAQCcQmg5bjkOM8aAbRsrSLEE4cAOo5DjXMsErCmZQwsiypJPiYMrOSZej1jHAOLtxB6LRmzyVu7KZsFRWDmCaBl8yUiwIgE0HJEUBxmmgA6Nl0egquAgDUtY2BVULwMH4qBleHiWQw9joFF/yuLlSQmazdlKgKBuATQclxynGeNAFq2VhHiiUMAHcehxjkWCVjTMgaWRZUkHxMGVvJMvZ6xUgOrrl07GXTLzdJh6FCvuZG8PQLWbsr2CBFRVgig5axUijjLEUDL5Qjx8ywQQMdZqBIxRiFgTcsYWFGqlv1jMLCyX0NTGVRqYPWZdaF0GzPGVA4EAwElYO2mTFUgEJcAWo5LjvOsEUDL1ipCPHEIoOM41DjHIgFrWsbAsqiS5GPCwEqeqdczRjWwdOVV7/POxbzyWi22k7d2U7ZNi+gsE0DLlqtDbJUQQMuV0OJYqwTQsdXKEFelBKxpGQOr0gpm83gMrGzWzWzUUQysDs3N0veiWWwbNFtFAlMC1m7KVAUCcQmg5bjkOM8aAbRsrSLEE4cAOo5DjXMsErCmZQwsiypJPiYMrOSZej1jFAOr1/Tp0jhxgtecSN4+AWs3ZfvEiNAqAbRstTLEVSkBtFwpMY63SAAdW6wKMcUhYE3LGFhxqpi9czCwslcz0xGXNbA6dJDmBx+Q+oYG03kQHASs3ZSpCATiEkDLcclxnjUCaNlaRYgnDgF0HIca51gkYE3LGFgWVZJ8TBhYyTP1esayBlZdnfS54ALpNpbG7V4LJQPJW7spZwAZIRolgJaNFoawKiaAlitGxgkGCaBjg0UhpFgErGkZAytWGTN3EgZW5kpmO+CyBtY/wm/69iTpOXmy7WSIzmsC1m7KXheD5KsigJarwsfJhgigZUPFIJTYBNBxbHScaIyANS1jYBkTSI3CwcCqEVhfp41qYCmfrmPGSL9ZF/qKiryNE7B2UzaOi/AME0DLhotDaBURQMsV4eJgowTQsdHCEFbFBKxpGQOr4hJm8gQMrEyWzW7QlRhYmkXjEd+SXqedZjchIvOWgLWbsreFIPGqCaDlqhEygRECaNlIIQijKgLouCp8nGyIgDUtY2AZEkcNQ8HAqiFcH6eu1MBSRv0u/4V03XdfH3GRs2EC1m7KhlERmnECaNl4gQgvMgG0HBkVBxomgI4NF4fQKiJgTcsYWBWVL7MHY2BltnQ2A49jYLUfNEiG3HmHzYSIylsC1m7K3haCxKsmgJarRsgERgigZSOFIIyqCKDjqvBxsiEC1rSMgWVIHDUMBQOrhnB9nDqOgaWchtx/n7Tv29dHZORslIC1m7JRTISVAQJoOQNFIsRIBNByJEwcZJwAOjZeIMKLTMCaljGwIpcu0wdiYGW6fPaCj2tgNYwdK30vvMBeQkTkLQFrN2VvC0HiVRNAy1UjZAIjBNCykUIQRlUE0HFV+DjZEAFrWsbAMiSOGoaCgVVDuD5OHdfA6jhihAy66UYfkZGzUQLWbspGMRFWBgig5QwUiRAjEUDLkTBxkHEC6Nh4gQgvMgFrWsbAily6TB+IgZXp8tkLPq6B1W6bbWTo3XfZS4iIvCVg7absbSFIvGoCaLlqhExghABaNlIIwqiKADquCh8nGyJgTcsYWIbEUcNQMLBqCNfHqeMaWG1795Zhf5jnIzJyNkrA2k3ZKCbCygABtJyBIhFiJAJoORImDjJOAB0bLxDhRSZgTcsYWJFLl+kDMbAyXT57wcc1sNoNHixD75hrLyEi8paAtZuyt4Ug8aoJoOWqETKBEQJo2UghCKMqAui4KnycbIiANS1jYBkSRw1DwcCqIVwfp45rYDUcdJD0vWiWj8jI2SgBazdlo5gIKwME0HIGikSIkQig5UiYOMg4AXRsvECEF5mANS1jYEUuXaYPxMDKdPnsBR/XwGqaNEl6TplsLyEi8paAtZuyt4Ug8aoJoOWqETKBEQJo2UghCKMqAui4KnycbIiANS1jYBkSRw1DwcCqIVwfp45rYPWaPl0aJ07wERk5GyVg7aZsFBNhZYAAWs5AkQgxEgG0HAkTBxkngI6NF4jwIhOwpmUMrMily/SBGFiZLp+94OMYWHWdOsmwBfOlvqHBXkJE5C0BazdlbwtB4lUTQMtVI2QCIwTQspFCEEZVBNBxVfg42RABa1rGwDIkjhqGgoFVQ7g+Th3HwOp6wAHS72eX+IiLnA0TsHZTNoyK0IwTQMvGC0R4kQmg5cioONAwAXRsuDiEVhEBa1rGwKqofJk9GAMr4dItX75cbr31Vnn88cfl2WeflbfeektWrVolHTp0kIEDB8o+++wjxx13nAwfPrzslVevXi0XX3yx3HjjjbJ06VKpr6+X5uZmOfzww+X444+Xdu3alZ1j4cKF4Rzz58+XlStXSlNTk+yxxx5y4oknyujRo8ueX+kBGFiVEuN4qwSs3ZStciIu+wTQsv0aEWE0Amg5GieOsk0AHduuD9FFJ2BNyxhY0WuX5SMxsBKu3mWXXRaaQ6WGGk8XXXSRnHDCCUUPU8Nqv/32kyVLlhQ85nOf+5zce++90tjYWHSO2bNny7HHHiuffvrpZsfU1dXJGWecEf5JcsQxsNhCmGQFmCspAtZuyknlxTz+EUDL/tXc1YzRsquV9SsvdOxXvV3O1pqWMbBcVts/c8PASrjOahrdcsstsu+++8ouu+wiffr0kR49esibb74pjz76qJx33nnyyiuvhFe9hIuQKgAAIABJREFU/fbbZcyYMZtF8Mknn8ioUaPkueeek05Bf6jzzz9fDjnkkNCIuuqqq2TGjBmyfv162X///eWee+4pmMEDDzwQxrBu3TrZeeedZdasWbLjjjvK4sWLZerUqTJv3rzwvGuuuSZc0ZXUiGNg6bVp4p5UBZgnKQLWbspJ5cU8/hFAy/7V3NWM0bKrlfUrL3TsV71dztaaljGwXFYbBlarVfe9996TESNGyGuvvSZ77713uLWv5chfxXX99dfL+PHjNzlEDa3JkyeXNME+//nPy1NPPRUaaGqEde/efeMcapDttttu8swzz0i/fv1CQ023OCYx4hpYTZMmSc8pG3JiQMACAWs3ZQtMiCGbBNByNutG1JsTQMuowgUC6NiFKpKDErCmZQwsP3TJCqxWqPNJJ50kl156qXTp0kW0z1XLoQbX888/H67g+uMf/7jZz3UlVt++fcP+WrqCS1dy5Y8nn3wyNKh0/OxnPxO9XssxZ84cOfjgg8O/vuGGG2TcuHGJkIhrYHUPTLreM2ckEgOTQCAJAtZuyknkxBx+EkDLftbdxazRsotV9S8ndOxfzV3N2JqWMbBcVdqmeWFgtUKdTz755LAHlm4tVBMqf2jPqyFDhoR/dfbZZ8upp55aMMLvfOc7cuWVV0rHjh3DJvFbbLHFxuOmTZsmM2fODP97xYoV4SqslkNNMF2V9eGHH8pRRx0Vbk1MYsQ1sFiBlQR95kiSgLWbcpK5MZdfBNCyX/V2OVu07HJ1/ckNHftTa9cztaZlDCzXFbchPwyslOv80Ucfhb2odNvegQceKHfeeecmEegbB3NbBu+77z758pe/XDBCNa/UxNKhWwW1qXtujB07VubOnRtuD9S3IhYbe+65pzz88MOyww47yJ///OdESMQ1sOiBlQh+JkmQgLWbcoKpMZVnBNCyZwV3OF207HBxPUoNHXtUbMdTtaZlDCzHBfeP9DCwUqizNlzXJu66te+ss84K/7d9+/by4IMPbtzqlwtDV12ddtpp4X9qw/XBgwcXjPD+++8P31Ko43e/+51861vf2njcsGHDQoPsS1/6kmgz92LjyCOPDM/V/le6EqtNmzZV04hjYPEWwqqxM0ENCFi7KdcgRab0hABa9qTQHqSJlj0osgcpomMPiuxJita0jIHlh/AwsGpYZ11hdffdd292hW233VauuOKKsIl7y/GDH/xALrnkkvCvtT+W9skqNHTF1MiRI8Mftexz1djYKNos/rDDDhNd0VVs5LYy6s/ff/99aWhoiERDPxyKDf1Zz549wx8/NnIn6RKYd+VGt0MPlV6nbzDtGBCwQkBvyrl/vwcccIC0bdvWSmjEAYGKCKDlinBxsGECaNlwcQgtMgF0HBkVBxonYE3L+hyae3HZmjVrpHPnzsYJEl4cAhhYcahFPKeQgbXVVlvJjBkz5IgjjihoTn33u9+VX/3qV+EVtE9VsYfml19+WZqbm8PjzjnnHPnJT36yMSpd3aXn6qosXWFVbEydOjU8V4e+FbF3796RMqurq4t03HXXXRf26GJAAAIQgAAEIAABCEAAAhCAAARqRUBb9UycODGcHgOrVpRbf14MrBrWQP8RqTOtWwi10fpDDz0k5557rrzwwguy/fbbh28PHDRo0CYR5BtYem59fX3BCHWLoG4V1NGy2XvOwFKT7Oqrry6aoW5V1HN1FGv2XuhkDKwaioapIQABCEAAAhCAAAQgAAEIQKAiAhhYFeHK7MEYWCmXbu3atbLPPvvI448/HjZPf+aZZzbpPZW/hbCUcxxlC+G4cePkhhtuKJqhlS2Evc89RxqC7ZYMCFgiYG1ZtCU2xJItAmg5W/Ui2uIE0DLqcIEAOnahiuSgBKxpmS2EfugSA6sV6jx//vzQxNJx7733bmzGrv+d38R9yZIlm63QyoU7b968jW8oLNbEfa+99pIFCxYUzfCoo44KV2jpii011lqtiXu7djLolpulw9ChrVANLgmBwgSsNaakThCISwAtxyXHedYIoGVrFSGeOATQcRxqnGORgDUt08TdokqSjwkDK3mmZWdUs2iLLbYIjzv//PPllFNO2XiOrpj6xje+Ef63vmlw3333LTjf7Nmz5Zhjjgl/pm813HXXXTceN2bMGLnjjjukf//+smzZsqLx6FsKdVvjiBEj5C9/+UvZuKMcEOcthDpv9/HjpffMGVEuwTEQSIWAtZtyKklzEScJoGUny+plUmjZy7I7lzQ6dq6k3iZkTcsYWH5IEQOrFeqsbxfMvfHvggsukB/96Ecbo9BVV0OGDAn/u2Vz9vxQc72yOnToIO+8885GQ0yPmTZtmsycOTM8vFhzdv3A6datm3z44Ydy5JFHym9/+9tESMQ1sOo6dZJhC+ZLfcQ3ISYSLJNAoAQBazdligWBuATQclxynGeNAFq2VhHiiUMAHcehxjkWCVjTMgaWRZUkHxMGVvJMy844d+5cGTt2bHjcTTfdJIceeugm52iDd230PmrUKHn66ac3m08/LPr16ydvvvmmHHTQQaLz5Y8nnnhCdt999/Cvfv7zn8uJJ5642Ry33XabfP3rXw///vrrr5fxwQqoJEZcA0uv3Wv6dGmcOCGJMJgDAlUTsHZTrjohJvCWAFr2tvTOJY6WnSuplwmhYy/L7mTS1rSMgeWkzDZLCgMr4Tq/+OKLMnz48KKzvvvuu6Jb95577jnp2rWr/O1vf9u4Git30qWXXionnXRS+J833nijHHbYYZvMd+GFF27cdvj73/9+oxmWf5BuKVTzS40u3R6oq61y49NPPw0NroULF0rfvn1F32jYsWPHREhUY2A1TZokPadMTiQOJoFAtQSs3ZSrzYfz/SWAlv2tvWuZo2XXKupnPujYz7q7mLU1LWNguaiyzXPCwEq4zm3btg0NpUMOOUQ+97nPSa9evcLm6LqVTxuvq/m0fPny8KqXXXaZHH/88ZtF8Mknn4Srr9Tk6hRsrdNzDj74YFHj6aqrrpIZM2bIunXrZP/995d77rmnYAYPPPBA2D9Lj9tll13koosuCt96qFsUTz311LC/lo6WDeCrxVGNgUUfrGrpc36SBKzdlJPMjbn8IoCW/aq3y9miZZer609u6NifWrueqTUtY2C5rrgN+WFgJVznurq6sjPqaiftb/WDH/yg6LFLly4N306ohlOhoeaYvsGwsbGx6BxXXnmlHHfccaHx1XJonGeccUb4J8lRjYHFCqwkK8Fc1RKwdlOuNh/O95cAWva39q5ljpZdq6if+aBjP+vuYtbWtIyB5aLKNs8JAyvhOj/44IPhSitdAfXXv/417FOlK6p0C992220n++yzjxx99NEyYMCAslfWZu8XX3xxuI1Qjaz6+nppbm6Www8/XE444QRp165d2Tl0m6Cuvpo/f76sXLlSmpqaZI899gi3KI4ePbrs+ZUeUI2BRQ+sSmlzfC0JWLsp1zJX5nabAFp2u74+ZYeWfaq2u7miY3dr61tm1rSMgeWHAjGw/KhzalnGNrACM6754Yd4C2FqleJC5QhYuymXi5efQ6AYAbSMNlwhgJZdqaTfeaBjv+vvUvbWtIyB5ZK6iueCgeVHnVPLMq6B1X7IEBky9/bU4uRCEChHwNpNuVy8/BwCGFhowHUCfC67XmE/8kPHftTZhyytaRkDywfV0QPLjyqnmGVcA6vD9tvL4JtvSjFSLgWB0gSs3ZSpFwTiEkDLcclxnjUCaNlaRYgnDgF0HIca51gkYE3LGFgWVZJ8TKzASp6p1zPGNbA6jhghg2660Wt2JG+LgLWbsi06RJMlAmg5S9Ui1lIE0DL6cIEAOnahiuSgBKxpGQPLD11iYPlR59SyjGtgdRo1SgZee01qcXIhCJQjYO2mXC5efg6BYgTQMtpwhQBadqWSfueBjv2uv0vZW9MyBpZL6iqeCwaWH3VOLcu4Blb3b35Tep8xLbU4uRAEyhGwdlMuFy8/hwAGFhpwnQCfy65X2I/80LEfdfYhS2taxsDyQXX0wPKjyilmGdfA6jV9ujROnJBipFwKAqUJWLspUy8IxCWAluOS4zxrBNCytYoQTxwC6DgONc6xSMCaljGwLKok+ZhYgZU8U69njGVgdeggzQ8+IPUNDV6zI3lbBKzdlG3RIZosEUDLWaoWsZYigJbRhwsE0LELVSQHJWBNyxhYfugSA8uPOqeWZRwDq/v48dJ75ozUYuRCEIhCwNpNOUrMHAOBQgTQMrpwhQBadqWSfueBjv2uv0vZW9MyBpZL6iqeCwaWH3VOLcuKDaz6ehk851bpMHRoajFyIQhEIWDtphwlZo6BAAYWGnCZAJ/LLlfXn9zQsT+1dj1Ta1rGwHJdcRvyw8Dyo86pZVmpgdV5r71kwH9dkVp8XAgCUQlYuylHjZvjINCSAFpGE64QQMuuVNLvPNCx3/V3KXtrWsbAckldxXPBwPKjzqllWamBxfbB1ErDhSokYO2mXGH4HA6BjQTQMmJwhQBadqWSfueBjv2uv0vZW9MyBpZL6sLA8qOaBrKs1MBqmjRJek6ZbCByQoDApgSs3ZSpDwTiEkDLcclxnjUCaNlaRYgnDgF0HIca51gkYE3LGFgWVZJ8TKzASp6p1zNWamD1mj5dGidO8JoZydskYO2mbJMSUWWBAFrOQpWIMQoBtByFEsdYJ4COrVeI+KISsKZlDKyolcv2cRhY2a6fuegrMrCCBu7Njz4i9Q0N5vIgIAhYuylTEQjEJYCW45LjPGsE0LK1ihBPHALoOA41zrFIwJqWMbAsqiT5mDCwkmfq9YwVGVgBqX6X/0K67ruv18xI3iYBazdlm5SIKgsE0HIWqkSMUQig5SiUOMY6AXRsvULEF5WANS1jYEWtXLaPw8DKdv3MRV+pgdV+0CAZcucd5vIgIAhYuylTEQjEJYCW45LjPGsE0LK1ihBPHALoOA41zrFIwJqWMbAsqiT5mDCwkmfq9YyVGlgKa8j990n7vn295kby9ghYuynbI0REWSGAlrNSKeIsRwAtlyPEz7NAAB1noUrEGIWANS1jYEWpWvaPwcDKfg1NZRDHwGoYO1b6XniBqTwIBgLWbspUBAJxCaDluOQ4zxoBtGytIsQThwA6jkONcywSsKZlDCyLKkk+Jgys5Jl6PWMcA6td//4y9N57vOZG8vYIWLsp2yNERFkhgJazUiniLEcALZcjxM+zQAAdZ6FKxBiFgDUtY2BFqVr2j8HAyn4NTWUQx8CSdu1kuz8/ayoPgoGAtZsyFYFAXAJoOS45zrNGAC1bqwjxxCGAjuNQ4xyLBKxpGQPLokqSjwkDK3mmXs8Yy8AKiNEHy2vZmEze2k3ZJCSCygQBtJyJMhFkBAJoOQIkDjFPAB2bLxEBRiRgTcsYWBELl/HDMLAyXkBr4cc1sOiDZa2SxGPtpkxFIBCXAFqOS47zrBFAy9YqQjxxCKDjONQ4xyIBa1rGwLKokuRjwsBKnqnXM8Y1sDpsu60MnnOr1+xI3hYBazdlW3SIJksE0HKWqkWspQigZfThAgF07EIVyUEJWNMyBpYfusTA8qPOqWUZ18Cq33JLaX74odTi5EIQKEfA2k25XLz8HALFCKBltOEKAbTsSiX9zgMd+11/l7K3pmUMLJfUVTwXDCw/6pxalhhYqaHmQjUmYO2mXON0md5hAmjZ4eJ6lhpa9qzgjqaLjh0trIdpWdMyBpYfIsTA8qPOqWUZ18Bq17+/DL33ntTi5EIQKEfA2k25XLz8HALFCKBltOEKAbTsSiX9zgMd+11/l7K3pmUMLJfUVTwXDCw/6pxalnENrG7jxkmfs2amFicXgkA5AtZuyuXi5ecQwMBCA64T4HPZ9Qr7kR869qPOPmRpTcsYWD6oTgQDy486p5ZlXAOr1/Tp0jhxQmpxciEIlCNg7aZcLl5+DgEMLDTgOgE+l12vsB/5oWM/6uxDlta0jIHlg+owsPyocopZxjKw6uul+dFHpL6hIcVIuRQEShOwdlOmXhCISwAtxyXHedYIoGVrFSGeOATQcRxqnGORgDUtY2BZVEnyMbECK3mmXs8Yx8Bqt802MvTuu7zmRvL2CFi7KdsjRERZIYCWs1Ip4ixHAC2XI8TPs0AAHWehSsQYhYA1LWNgRala9o/BwMp+DU1lEMfAqm9sDFdgMSBgiYC1m7IlNsSSLQJoOVv1ItriBNAy6nCBADp2oYrkoASsaRkDyw9dYmD5UefUsoxjYGlw21z3P7LFzjunFicXgkA5AtZuyuXi5ecQKEYALaMNVwigZVcq6Xce6Njv+ruUvTUtY2C5pK7iuWBg+VHn1LKMa2B1GjVKBl57TWpxciEIlCNg7aZcLl5+DgEMLDTgOgE+l12vsB/5oWM/6uxDlta0jIHlg+po4u5HlVPMMq6BJW3bSvMjD9PIPcVacanSBKzdlKkXBOISQMtxyXGeNQJo2VpFiCcOAXQchxrnWCRgTcsYWBZVknxMrMBKnqnXM8Y2sAJqvaZPl8aJE7zmR/J2CFi7KdshQyRZI4CWs1Yx4i1GAC2jDRcIoGMXqkgOSsCaljGw/NAlBpYfdU4ty2oMrKZJk6TnlMmpxcqFIFCKgLWbMtWCQFwCaDkuOc6zRgAtW6sI8cQhgI7jUOMciwSsaRkDy6JKko8JAyt5pl7PWI2B1X38eOk9c4bX/EjeDgFrN2U7ZIgkawTQctYqRrzFCKBltOECAXTsQhXJQQlY0zIGlh+6xMDyo86pZVmNgcUKrNTKxIUiELB2U44QModAoCABtIwwXCGAll2ppN95oGO/6+9S9ta0jIHlkrqK54KB5UedU8uyGgOLHliplYkLRSBg7aYcIWQOgQAGFhpwmgCfy06X15vk0LE3pXY+UWtaxsByXnJhghhYftQ5tSxjG1j19dL86CO8hTC1SnGhcgSs3ZTLxcvPIVCMAFpGG64QQMuuVNLvPNCx3/V3KXtrWsbAckldxXPBwPKjzqllGdvAatNGmh97FAMrtUpxoXIErN2Uy8XLzyGAgYUGXCfA57LrFfYjP3TsR519yNKaljGwfFAdK7D8qHKKWcY2sIIY2UKYYqG4VFkC1m7KZQPmAAgUIYCWkYYrBNCyK5X0Ow907Hf9XcrempYxsFxSV/FcWIHlR51Ty7IaA4sm7qmViQtFIGDtphwhZA6BQEECaBlhuEIALbtSSb/zQMd+19+l7K1pGQPLJXVhYPlRTQNZVmNgdR8/XnrPnGEgC0KAgL1XA1MTCMQlYO0XzLh5cB4E0DIacIEAOnahiuSgBKxpGQPLD12yAsuPOqeWZTUGFiuwUisTF4pAwNpNOULIHAKBggTQMsJwhQBadqWSfueBjv2uv0vZW9MyBpZL6iqeCwaWH3VOLctqDCx6YKVWJi4UgYC1m3KEkDkEAhhYaMBpAnwuO11eb5JDx96U2vlErWkZA8t5yYUJYmD5UefUsoxtYHXsKM0PLOAthKlViguVI2DtplwuXn4OgWIE0DLacIUAWnalkn7ngY79rr9L2VvTMgaWS+oqngsGlh91Ti3LuAYW/a9SKxEXikjA2k05YtgcBoHNCKBlROEKAbTsSiX9zgMd+11/l7K3pmUMLJfUhYHlRzUNZBnLwGrbVgbfeot0GDrUQAaEAIENBKzdlKkLBOISQMtxyXGeNQJo2VpFiCcOAXQchxrnWCRgTcsYWBZVknxMrMBKnqnXM8YxsHqcdKJsddxxXnMjeXsErN2U7REioqwQQMtZqRRxliOAlssR4udZIICOs1AlYoxCwJqWMbCiVC37x2BgZb+GpjKIY2B1GjVKBl57jak8CAYC1m7KVAQCcQmg5bjkOM8aAbRsrSLEE4cAOo5DjXMsErCmZQwsiypJPiYMrOSZej1jHANL6uul+dFHaODutXLsJW/tpmyPEBFlhQBazkqliLMcAbRcjhA/zwIBdJyFKhFjFALWtIyBFaVq2T8GAyv7NTSVQSwDK8ig1/Tp0jhxgqlcCMZvAtZuyn5Xg+yrIYCWq6HHuZYIoGVL1SCWuATQcVxynGeNgDUtY2BZU0ht4sHAqg1Xb2eNa2A1Hn649Jp2urfcSNweAWs3ZXuEiCgrBNByVipFnOUIoOVyhPh5Fgig4yxUiRijELCmZQysKFXL/jEYWNmvoakM4hpY9MEyVUaCCQhYuylTFAjEJYCW45LjPGsE0LK1ihBPHALoOA41zrFIwJqWMbAsqiT5mDCwkmfq9YxxDayOI0bIoJtu9JodydsiYO2mbIsO0WSJAFrOUrWItRQBtIw+XCCAjl2oIjkoAWtaxsDyQ5cYWH7UObUs4xpYrMBKrURcKCIBazfliGFzGAQ2I4CWEYUrBNCyK5X0Ow907Hf9XcrempYxsFxSV/FcMLD8qHNqWcY1sLp/85vS+4xpqcXJhSBQjoC1m3K5ePk5BIoRQMtowxUCaNmVSvqdBzr2u/4uZW9NyxhYLqkLA8uPahrIMq6BxVsIDRSPEDYhYO2mTHkgEJcAWo5LjvOsEUDL1ipCPHEIoOM41DjHIgFrWsbAsqiS5GNiBVbyTL2eMZaB1aaNND/2qNQ3NHjNjuRtEbB2U7ZFh2iyRAAtZ6laxFqKAFpGHy4QQMcuVJEclIA1LWNg+aFLDCw/6pxalnEMrPZDhsiQubenFiMXgkAUAtZuylFi5hgIFCKAltGFKwTQsiuV9DsPdOx3/V3K3pqWMbBcUlfxXDCw/KhzalnGMbA6bLedDL7l5tRi5EIQiELA2k05SswcAwEMLDTgMgE+l12urj+5oWN/au16pta0jIHluuI25IeB5UedU8syjoElwRbCwbfNkQ5Dh6YWJxeCQDkC1m7K5eLl5xAoRgAtow1XCKBlVyrpdx7o2O/6u5S9NS1jYLmkruK5YGD5UefUsoxlYAXRdR8/XnrPnJFanFwIAuUIWLspl4uXn0MAAwsNuE6Az2XXK+xHfujYjzr7kKU1LWNg+aA6VmD5UeUUs4xrYNV16iTDFsynkXuKteJSpQlYuylTLwjEJYCW45LjPGsE0LK1ihBPHALoOA41zrFIwJqWMbAsqiT5mFiBlTxTr2eMa2AptF7Tp0vjxAle8yN5OwSs3ZTtkCGSrBFAy1mrGPEWI4CW0YYLBNCxC1UkByVgTcsYWH7oEgPLjzqnlmU1BlbTpEnSc8rk1GLlQhAoRcDaTZlqQSAuAbQclxznWSOAlq1VhHjiEEDHcahxjkUC1rSMgWVRJcnHhIGVPFOvZ6zGwKIPltfSMZe8tZuyOUAElBkCaDkzpSLQMgTQMhJxgQA6dqGK5KAErGkZA8sPXWJg+VHn1LKsxsBiBVZqZeJCEQhYuylHCJlDIFCQAFpGGK4QQMuuVNLvPNCx3/V3KXtrWsbAckldxXPBwKpBndeuXSt33XWX3H333fLkk0/K4sWLRf9Bde/eXUaOHCmHHXaYfPvb35ZOQePyQmN60AvqzDPPLBvZ8ccfL5dddlnJ4xYuXCgXX3yxzJ8/X1auXClNTU2yxx57yIknniijR48ue41KD6jGwKIHVqW0Ob6WBKzdlGuZK3O7TQAtu11fn7JDyz5V291c0bG7tfUtM2taxsDyQ4EYWDWoc0NDg6xevbrkzMOHD5fbbrtNhg0bttlxSRlYs2fPlmOPPVY+/fTTza5RV1cnZ5xxRvgnyRHXwOIthElWgbmSIGDtppxETszhJwG07GfdXcwaLbtYVf9yQsf+1dzVjK1pGQPLVaVtmhcGVg3qrOZQ+/bt5dBDD5WDDz5YPv/5z0tjY6MsW7ZMrrjiCvnlL38pn332mQwcOFD+/Oc/S5cuXTaJImdgDRgwQJ577rmiEeo19E+h8cADD8i+++4r69atk5133llmzZolO+64Y7gabOrUqTJv3rzwtGuuuUYOP/zwxCjENbDof5VYCZgoIQLWbsoJpcU0HhJAyx4W3dGU0bKjhfUsLXTsWcEdTtealjGwHBZbXmoYWDWos27tO/3006VXr14FZ//pT38qU6ZMCX+m///HP/5xQQNrm222kVdffTVWhGqaPfXUU9KnT5/QBNPti7nxySefyG677SbPPPOM9OvXT1555RXp0KFDrOu0PCmWgRUYfoN/f5t0GDo0kRiYBAJJELB2U04iJ+bwkwBa9rPuLmaNll2sqn85oWP/au5qxta0jIHlqtI2zQsDqxXqrP/Y1dxatWpV2IfqD3/4Q6IGlvbdUoNKx89+9jM56aSTNstyzpw54eowHTfccIOMGzcuERJxDazmxx+T+mDrJQMCVghYuylb4UIc2SOAlrNXMyIuTAAtowwXCKBjF6pIDkrAmpYxsPzQJQZWK9VZG6k/9thj0tzcLC+99FKiBta0adNk5syZ4ZwrVqwIV2G1HNoXS1dlffjhh3LUUUfJVVddlQiJWAZWcGUauCeCn0kSJGDtppxgakzlGQG07FnBHU4XLTtcXI9SQ8ceFdvxVK1pGQPLccH9Iz0MrFaq8+DBg2Xp0qWy6667hm8qzB+5Hli5LYTr168X/dO2bdtI0Y4dO1bmzp0bbg9cvnx50XP23HNPefjhh2WHHXYIe3ElMeIaWE2TJknPKZOTCIE5IJAIAWs35USSYhIvCaBlL8vuZNJo2cmyepcUOvau5M4mbE3LGFjOSm2TxDCwWqHOCxculFGjRoVX1n5Zl112WUEDq1OnTjJo0KBwhZY2Y29qagq3BuqKqW984xtSX19fMHp9s6H2tfrSl74k2sy92DjyyCPld7/7Xdj/SlditWnTpmoacQ0smrhXjZ4JEiZg7aaccHpM5xEBtOxRsR1PFS07XmBP0kPHnhTagzStaRkDywPRBSliYLVCnffbbz+5//77Rd9W+Kc//UlGjhxZ0MAqFdpee+0lN910k/To0WOzw/SNh++9954cdthhcuONNxad5uSTT5aLLroo/Pn7778vDRF7UOmHQ7GhP+vZs2f448dG7iRdgpVjUUZBQP4wAAAgAElEQVTjEUfI1if/MMqhHAOBVAjoTfnuu+8Or3XAAQdEXgGZSnBcBAIVEEDLFcDiUNME0LLp8hBcRALoOCIoDjNPwJqW9Tk09+KyNWvWSOfOnc0zJMDKCWBgVc6sqjMuuOCCjW8dPPbYY+Xyyy/fbL5LLrlElixZIroVUFdTaQ8r/Ueo2/3OO+88efTRR8NzvvjFL4YrrFquxGrfvr1oj6tvfetb4QqrYmPq1KlyzjnnhD9+7bXXpHfv3pFyU+MtyrjuuuukY8eOUQ7lGAhAAAIQgAAEIAABCEAAAhCAQCwCH330kUycODE8FwMrFsJMnISBlWKZdDXHmDFjwu2AO+64ozz++OOi2wQrGXruN7/5zfDNgTp+85vfyKSgf1T+yBlYRwSrmq6++uqi05922mly9tlnhz8v1uy90MkYWJVUjGMhAAEIQAACEIAABCAAAQhAoJYEMLBqSdfO3BhYKdXi6aefln322UdWr14t/fv3D1dT6f/GGatWrZIBAwaEfav2339/ueeeezaZJreFcNy4cRuNrkLXsbKFsPO++0q/WRfGQcE5EKgZAWvLomuWKBM7TwAtO19ibxJEy96U2ulE0bHT5fUqOWtaZguhH/JzwsD67LPPQmNIR6E+Ttpn6qc//am8+OKLsuWWW4YrmP793/89tQovWrRI9I1/b731lmy11Vbhtr/hw4dXdX01ru67775wvpUrV24yV66Ju/bJWrBgQdHraDN4XaGlK7bWrl3bak3c2wfbJIf8/raqeHAyBJImYK0xZdL5MZ8/BNCyP7V2PVO07HqF/cgPHftRZx+ytKZlmrj7oDpHmrhfe+21om/UU1Poueee26RyTz31lOy9996iSwrV6NKhW+C+/e1vy5VXXlnzKi9fvjw0r5YtWybdunWTP/zhD7LLLrtUfV3tb6V5t2vXTj755JNN5tNtinfccUe4wkuvW2zoWwofeughGTFihPzlL3+pOiadIM5bCOsDU7H54YcSuT6TQCApAtZuyknlxTz+EUDL/tXc1YzRsquV9SsvdOxXvV3O1pqWMbBcVts/c3NiBZauJNJm5WeddZaceuqpm1ROTRrdrqe9pr7yla/I0qVL5dlnnw1NrLvuuivcgleroSuu9PovvfRSeH3d6qdmVhLjy1/+ssybN6/gCqxp06bJzJkzw8sUa86uHzhqqOk2RDX/fvvb3yYRVkEDq03Qt6vrmtXyia706rTFZtep69JFhj/1ZCLXZxIIJEXA2k05qbyYxz8CaNm/mruaMVp2tbJ+5YWO/aq3y9la0zIGlstqc8zA0obozz//fLhdLt8gWrx4cfgWPzWrHnzwwfCtfboK65BDDpHbbrstfEuBrmKqxfjggw/Cnld//OMfw1VSer0DDzwwkUupMaY9sHRVmZpy2hw+fzzxxBOy++67h3/185//XE488cTNrqvxfP3rXw///vrrr5fx48cnEttmK7ACo2zw0iXSIXgroq5/+1ufvrKma9dNrlUXvOJ0+NNPJXJ9JoFAUgSs3ZSTyot5/COAlv2ruasZo2VXK+tXXujYr3q7nK01LWNguaw2xwysnj17yttvvy1LliyRbbbZZmN2v/zlL+W4446TPfbYI1yFlRvag2r06NEyaNAgUZMr6aHG0gEHHBD2umrTpo1cd911kQ0izaNrYPB06NChYFifBkaQmk1z5swJf37VVVeJrkBrOXbddVfRxvH9+vULtwfqaqvc0DnU4Fq4cKH07dtXXnnlFenYsWMiGFoaWH3efVf6vv7axrnXB2biS83bbnKtNj16yLYPPZjI9ZkEAkkRsHZTTiov5vGPAFr2r+auZoyWXa2sX3mhY7/q7XK21rSMgeWy2hwzsLQJ+bpgm5qaP/oGvtzQPlFqHk2fPl1OP/30jX//xhtvSJ8+fULTRrfQJTk0jkMPPTRccaXj4osvlmOOOaboJdTg2mKLf26ru/XWW0PT7YgjjpD99tsv7Oul5tP7778vjzzyiFxwwQXhqi4d2ttLtxHqHC2Hmmf7Bm/303i059ZFF10kO+ywQ2jy6TbL+++/PzxFt14qp6RGSwNr0BuvS4933tlk+he23bSBfcdgBd2gG65PKgTmgUAiBKzdlBNJikm8JICWvSy7k0mjZSfL6l1S6Ni7kjubsDUtY2A5K7VNEnOiB5aaVrplT7cRbrvtP1f36Oqj119/Pew9pT2jcuOdwFDpEaz66RxsXcu9vTCpcr/66qvhyq6oQ1eM6Tm5oQaWbnEsN7RRu5pP3bt3L3qoNqlXM0xXXLUcuq3yjDPOCP8kOVoaWENeWyFN771X0sAKHDgZfNsc6TB0aJKhMBcEqiJg7aZcVTKc7DUBtOx1+Z1KHi07VU5vk0HH3pbeucStaRkDyzmJFUzICQPrC1/4gjz55JPhKqPvfe97YaK6ZVAbqOvqLDWs8lc5qdGlq5GGDBkiL7/8cqKVrtbA0v5W2pNKV1tps/mVK1fKu8E2PN1SqKvGdOufNl2P2nxetwkql/nz54dzNTU1hVsqTzrppHAbZdKjpYHV/Lfl0i0wF/NHyxVY+rPuwbbI3jNnJB0O80EgNgFrN+XYiXCi9wTQsvcScAYAWnamlF4ngo69Lr9TyVvTMgaWU/IqmowTBtbZZ58dbhHUFVXnnXee9O7dW6ZOnSqLFi2Sr33ta6KrmvKHvnFv0qRJ4Ra7++67z49Kp5RlSwNr+LK/Bm8gXFPWwKoLtnMOe2CB1Dc0pBQpl4FAaQLWbsrUCwJxCaDluOQ4zxoBtGytIsQThwA6jkONcywSsKZlDCyLKkk+JicMrDWBQbLTTjvJ0qVLwzcO6tC3Derqq8cee0x23nnnTchpjyptgq7b56ZNm5Y8VY9nbGlgbR/UpPPaTfuMFVqBpch6Bb3KGidO8JgeqVsiYO2mbIkNsWSLAFrOVr2ItjgBtIw6XCCAjl2oIjkoAWtaxsDyQ5dOGFhaqtdee01OOeUUueuuu8LG5Wpa6Wos3V6YP1asWCEDBw6U9evXy0MPPRRup2MkR6ClgbXD4lek08cfb3KBYgZWU7AqrueUyckFw0wQqIKAtZtyFalwqucE0LLnAnAofbTsUDE9TgUde1x8x1K3pmUMLMcEViQdZwysqOXStw5qnykdAwYM2LhiK+r5HFeaQEsDa6eXF0n7vCby64MVci81/7PRfv5s9MFCXZYIWLspW2JDLNkigJazVS+iLU4ALaMOFwigYxeqSA5KwJqWMbD80KV3BpYfZW29LFsaWLu89KK0DVbE5cbf6+vl5aHDCgbICqzWqxtX3pyAtZsyNYJAXAJoOS45zrNGAC1bqwjxxCGAjuNQ4xyLBKxpGQPLokqSjwkDK3mmXs/Y0sD63AvPS5ugH1lufNyunSwZPKQgI3pgeS0dc8lbuymbA0RAmSGAljNTKgItQwAtIxEXCKBjF6pIDkrAmpYxsPzQZeYMrGXLliVaGd1GyEiOQEsD6/PPP7fJ5GuDtw2+us3AzS7IWwiTqwEzJUPA2k05mayYxUcCaNnHqruZM1p2s66+ZYWOfau4u/la0zIGlrtay88scwZWfbAFLamhbyzUf3iM5AiUM7D+b4stZFn/zU1D+l8lVwNmSoaAtZtyMlkxi48E0LKPVXczZ7TsZl19ywod+1Zxd/O1pmUMLHe1lmkDq02bNolVRg0sfWMhIzkC5Qys1V26yN/69tv0gkFNB982RzoMHZpcIMwEgSoJWLspV5kOp3tMAC17XHzHUkfLjhXU03TQsaeFdzBta1rGwHJQZAVSytwKrAULFhSszDvvvCMnn3yyvPrqq7LbbrvJIYccIsOHD5cugWGyZs0aefHFF+XWW2+Vxx9/XAYNGiSzZs2SxsZG2Xvvvf2odEpZljOw3mtokNd799kkml5nzZTGceNSipDLQCAaAWs35WhRcxQENieAllGFKwTQsiuV9DsPdOx3/V3K3pqWMbBcUlfxXDJnYBVKRcW6++67y+LFi2X27Nly+OGHF8342muvlaOPPlqGDRsmjz32mHTu3NmPSqeUZTkD653u3eXNnr02iWbw7b9n9VVK9eEy0QlYuylHj5wjIbApAbSMIlwhgJZdqaTfeaBjv+vvUvbWtIyB5ZK6HDewpk+fLjNnzgz/nHrqqWUrd/bZZ8vpp58up512msyYMaPs8RwQnUA5A+vtpi3lra222mRC+l9F58uR6RGwdlNOL3Ou5BoBtOxaRf3NBy37W3uXMkfHLlXT71ysaRkDyw89OrECa8SIEeEWwVdeeSXcHlhuLF26VIYMGRJuMXz++efLHc7PKyBQzsBa2WMrWbXllpvMWNepkwxbMF/qg+2FDAhYIWDtpmyFC3FkjwBazl7NiLgwAbSMMlwggI5dqCI5KAFrWsbA8kOXThhYug3wo48+kpUrV8qWLcyRQmVctWqVbBWsAtoieCOe9sdiJEegnIH1+tY95b2g91jL0StYRdc4cUJygTATBKokYO2mXGU6nO4xAbTscfEdSx0tO1ZQT9NBx54W3sG0rWkZA8tBkRVIyQkDq0ePHvLuu+/KHXfcIQcccEDZyt15550yZswYaWpqkrfffrvs8RwQnUA5A2tF797yQUO3zSZsmjRJek6ZHP1CHAmBGhOwdlOucbpM7zABtOxwcT1LDS17VnBH00XHjhbWw7SsaRkDyw8ROmFgjR07NjSvRo4cKQ888IA0lNiK9sEHH8iee+4pzz33nHz1q1+V22+/3Y9Kp5RlOQNred++sqZL182ioQ9WSgXiMpEJWLspRw6cAyHQggBaRhKuEEDLrlTS7zzQsd/1dyl7a1rGwHJJXcVzccLAmjdvnuy3335SV1cngwcPFm3q/rWvfW0TI2v16tUyZ84cOfPMM8O3Feqx999/v4wePdqPSqeUZTkD66/9B8iHwdbNloMVWCkViMtEJmDtphw5cA6EAAYWGnCUAJ/LjhbWs7TQsWcFdzhda1rGwHJYbHmpOWFgaT7nnXde+AZCNaZ06P/26tVLtD+WivmNN96Qzz77LPyj49xzz5XJk9mylrTMyxlYS7YZKB937LjZZemBlXQlmK9aAtZuytXmw/n+EkDL/tbetczRsmsV9TMfdOxn3V3M2pqWMbBcVNnmOTljYGlqc+fOlR/96Efy0ksvFa2evnnwwgsvlIMOOsiPCqecZTkD65VBg+XT9u03jSowtJofWMBbCFOuFZcrTcDaTZl6QSAuAbQclxznWSOAlq1VhHjiEEDHcahxjkUC1rSMgWVRJcnH5JSBlcPzxBNPyCOPPCKvvvpquPpKV2ENHDhQvvjFL8puu+2WPEVm3EignIG1aOgwWVdfvwmxTqNGycBrr4EiBEwRsHZTNgWHYDJFAC1nqlwEW4IAWkYeLhBAxy5UkRyUgDUtY2D5oUsnDSw/Smczy3IG1gvN2+r+zk2C7zrmIOk3a5bNhIjKWwLWbsreFoLEqyaAlqtGyARGCKBlI4UgjKoIoOOq8HGyIQLWtIyBZUgcNQwFA6uGcH2cuqyBte3wzbB02H57GXzzTT7iImfDBKzdlA2jIjTjBNCy8QIRXmQCaDkyKg40TAAdGy4OoVVEwJqWMbAqKl9mD8bAymzpbAYex8Cqb2yU5kcfsZkQUXlLwNpN2dtCkHjVBNBy1QiZwAgBtGykEIRRFQF0XBU+TjZEwJqWMbAMiaOGoWTOwJoxY8ZGHNOmTQv/f/7fVcoqN0el53F8YQJxDCzdUtj8+GM0cUdUpghYuymbgkMwmSKAljNVLoItQQAtIw8XCKBjF6pIDkrAmpYxsPzQZeYMrDZt2gR+x4YeSuvWrQv/N//vKi1bbo5Kz+P48gbWk8O3k11ffGGTA18osIVQD+g1fbo0TpwAVgiYIWDtpmwGDIFkjgBazlzJCLgIAbSMNFwggI5dqCI5YGChgdYikDkDS98mmDOwli5dGnLL/7tKQebmqPQ8ji9vYD0dNGwfteilSAZW06RJ0nPKZLBCwAwBfsE0UwoCqZIAWq4SIKebIYCWzZSCQKoggI6rgMeppghY0zIrsEzJo2bBZM7AqhkJJk6EQP4Hx8Khw2TnV16OZGB1Hz9ees/85/bQRIJhEghUQcDaTbmKVDjVcwJo2XMBOJQ+WnaomB6ngo49Lr5jqVvTMgaWYwIrkg4Glh91Ti3L/A+OZwYNlpFLl0QysFiBlVqJuFBEAtZuyhHD5jAIbEYALSMKVwigZVcq6Xce6Njv+ruUvTUtY2C5pK7iuWBg+VHn1LLM/+D4yzYDZcRfX41kYNEDK7UScaGIBKzdlCOGzWEQwMBCA84S4HPZ2dJ6lRg69qrcTidrTcsYWE7LbWNyzhpYa9eulRUrVsjq1aula9eu0rdvX+nUqZMfVW3FLPM/OJ7v31+2W768rIFVF9Rl2IL5vIWwFevGpTcnYO2mTI0gEJcAWo5LjvOsEUDL1ipCPHEIoOM41DjHIgFrWsbAsqiS5GNyysDSNwrOnj07/LNw4cKNbylUbPX19bLLLrvIMcccI0cffXT434zkCeR/cLzYp69s+9qKsgYW/a+SrwMzVk/A2k25+oyYwVcCaNnXyruXN1p2r6Y+ZoSOfay6mzlb0zIGlps6a5mVMwbWm2++KV/7/+y9CXhVRbb+vTKQCchEIBNjEgKCCIITChgRRIV7AQUJKHTaSzeNil/b/cmoAUGccG6crnDRFkQZWrEFW0RmHEBAEERE5kGZx8sQDPmf2na4ITnDPnvX2Wftqrf64VGT2lVr/dabU+Ht2lX/8R+0evVqI8eysjKvFRQ3GF511VX00UcfUXp6uh5VdjDLih8cWzIyKO+XX/waWBHVqlGjD/5BsXl5DkaJqUAgMAFui3LgiNEDBLwTgJahDFUIQMuqVFLvPKBjveuvUvbctAwDSyV1+c5FCQPr/PnzdPXVV9N3331nGFctW7akXr16UfPmzY3XB0+dOkUbN26kWbNm0bfffkvCxBJ9Vq5cSdHR0XpU2qEsK35wbK1Th3IOHPBrYGU8Po5SPLVCAwFuBLgtytz4IB73EICW3VMrROqfALQMhahAADpWoYrIQRDgpmUYWHroUgkD65VXXqEhQ4YYZtTf/vY3GjRokM/qvfHGG/TAAw/QhQsXaOLEiTR48GA9Ku1QlhU/OLanpVHDQ4f8G1hjxlBKYR+HosM0IGCeALdF2Xzk6AkClxKAlqEIVQhAy6pUUu88oGO9669S9ty0DANLJXX5zkUJA+vGG2+k5cuX07Bhw+iJJ54IWLmRI0fSU089Re3bt6clS5YE7I8O5glU/ODYmZJK9Y8e8WtgpRYVUfrwYeYnQE8QcIgAt0XZobQxjYIEoGUFi6ppStCypoVXLG3oWLGCapwONy3DwNJDjEoYWGmenT5Hjx6lTZs2UX5+fsDK/fjjj9S0aVNKTU2lQ5V2CAV8GB38Eqj4wbEnKYmyjx/3a2DhAHcIiisBbosyV06Iiz8BaJl/jRChOQLQsjlO6MWbAHTMuz6IzjwBblqGgWW+dm7uqYSBFRcXR+IcLGFGpaSkBKzHkSNHSJheMTExdPbs2YD90cE8gYofHPtq1KTMUyf9GlhJPXpQ1lNPmp8APUHAIQLcFmWH0sY0ChKAlhUsqqYpQcuaFl6xtKFjxQqqcTrctAwDSw8xKmFg1atXj/bt20dLly6lG264IWDlVqxYYbw+mJ2dTbt37w7YHx3ME6j4wfFLQgKlnz7t18CKb92aGr47zfwE6AkCDhHgtig7lDamUZAAtKxgUTVNCVrWtPCKpQ0dK1ZQjdPhpmUYWHqIUQkDq7CwkGbMmEFdunShefPmGbcM+mri8Pbbb7+dPvvsM+rduze99957elTaoSwrfnAc9OyMS6u0w21Tk6aXRBLh6dN46RKKSkx0KEJMAwLmCHBblM1FjV4gUJUAtAxVqEIAWlalknrnAR3rXX+VsuemZRhYKqnLdy5KGFiLFy+mjh07GsbVbbfdRi+//DLl5ORUyXrr1q304IMP0ieffGL0XbhwIYkD4NHkEaj4wXG4WjVK9bzaWd4ueJhvzm9SZbIM3EQorwAYSRoBbouytMQwkHYEoGXtSq5swtCysqXVKjHoWKtyK50sNy3DwFJabheTU8LAEtk88MAD9Oqrr17cfXXFFVdQs2bNqEaNGnTq1Cn6/vvvaf369UbiZWVlRn9hdKHJJVDxg+NoVBQll5ZenOBXz39vyWtcZULcRCi3BhhNDgFui7KcrDCKjgSgZR2rrmbO0LKaddUtK+hYt4qrmy83LcPAUldrFTNTxsASptS4ceNo/PjxxoHuolV8lVB8X7Rqnl1Bjz76KI0aNcrvq4Z6lF9+lhU/OE54hq9ZYYoSD/utOblVJsVNhPLrgBHtE+C2KNvPCCPoSgBa1rXy6uUNLatXUx0zgo51rLqaOXPTMgwsNXVWOStlDKzyxH755ReaOnUqLV++nHbu3GnsvhK7sBo2bEjt2rWje+65h9LT0/WobhiyvOSDwzN/9QoxnImNpR0NG1WJCjuwwlAoTBmQALdFOWDA6AACPghAy5CGKgSgZVUqqXce0LHe9Vcpe25ahoGlkrp856KcgaVH2fhm6c/A+t/4BNpVv36V4OsMG0a1fl/ENylEpiUBbouylkVA0lIIQMtSMGIQBgSgZQZFQAi2CUDHthFiACYEuGkZBhYTYYQ4DBhYIQas2/D+DKyTnp1we7LrVkGS+J//SdnPPK0bKuTLnAC3RZk5LoTHmAC0zLg4CC0oAtByULjQmSkB6JhpYRBW0AS4aRkGVtAldOUDMLBcWTa+QfszsI4nJtK+zKyqwXtuJ8z550cUm5fHNzFEph0BbouydgVAwtIIQMvSUGKgMBOAlsNcAEwvhQB0LAUjBmFAgJuWYWAxEIUDIShnYG3evJlWrVpF+/fvp9OnTxs3DvprxcXFDmDWZwp/BtaR5GTan57hFUbCdddSg7fe0gcUMmVPgNuizB4YAmRLAFpmWxoEFiQBaDlIYOjOkgB0zLIsCMoCAW5ahoFloYgufEQZA2v9+vX0pz/9ib7++uugylBaWhpUf3T2T8CfgXUoNZUO1q7jc4AG702nhFatgBgEWBDgtiizgIIgXEkAWnZl2RC0FwLQMmShAgHoWIUqIgdBgJuWYWDpoUslDKwtW7bQNddcQydOnLi446p27dqUkJAQsIrbt28P2AcdzBPwZ2AdSKtNh2vV8jlYfOvW1PDdaeYnQ08QCCEBbotyCFPF0IoTgJYVL7BG6UHLGhVb4VShY4WLq1lq3LQMA0sPASphYPXv35+mTZtG8fHx9OSTT9KAAQMo2fO6GprzBPwZWL/USaejKSm+g4qOpvwvVlCU56wsNBAINwFui3K4eWB+9xKAlt1bO0R+KQFoGYpQgQB0rEIVkYMgwE3LMLD00KUSBlZWVpZx5tUrr7xivEaIFj4C/gysvRmZdCIpyW9wGWPGUEphn/AlgJlB4N8EuC3KKAwIWCUALVslh+e4EYCWuVUE8VghAB1boYZnOBLgpmUYWBxVIj8mJQysuLg4On/+PO3du5cyMrwfEi4fHUb0RsCfgbU7K5tO1azpF1xqURGlDx8GuCAQdgLcFuWwA0EAriUALbu2dAi8EgFoGZJQgQB0rEIVkYMgwE3LMLD00KUSBlaDBg1oz549xi6stLQ0PSrHNEt/BtbOevXodEJ1v5En9+5NmePGMs0OYelEgNuirBN75CqXALQslydGCx8BaDl87DGzPALQsTyWGCm8BLhpGQZWePXg1OxKGFgDBw6kKVOm0Mcff0y33XabU+wwjxcC/gys7Q0a0lnPbjl/DTuwICsuBLgtyly4IA73EYCW3VczROydALQMZahAADpWoYrIQRDgpmUYWHroUgkDa+vWrdTac4Ndfn4+LVu2jMQrhWjhIeDPwPqpUQ6dj4nxGxjOwApP3TBrVQLcFmXUCASsEoCWrZLDc9wIQMvcKoJ4rBCAjq1QwzMcCXDTMgwsjiqRH5MSBpbAsnjxYurVqxfl5OTQ008/TR06dKCoqCj5xDCiXwL+DKwfc/Oo1HPToK8W4blFsvGSxbiFEBpjQYDboswCCoJwJQFo2ZVlQ9BeCEDLkIUKBKBjFaqIHAQBblqGgaWHLpUwsIRpJdrx48fp2LFjxr/HxsZS7dq1/ZpYERERJHZvockj4M/A+qFxPpVFRvqcDOdfyasDRrJPgNuibD8jjKArAWhZ18qrlze0rF5NdcwIOtax6mrmzE3LMLDU1FnlrJQwsCL9mCL+yigMrNLSUj0q7VCW/gysTU2a+owiolo1avTBPyg2L8+hSDENCPgnwG1RRr1AwCoBaNkqOTzHjQC0zK0iiMcKAejYCjU8w5EANy3DwOKoEvkxKWFgPfbYY5bJjB492vKzeLAqAasGVtZzz1JS165ACgJsCHBblNmAQSCuIwAtu65kCNgHAWgZ0lCBAHSsQhWRgyDATcswsPTQpRIGlh6lckeWQRtYnl1wWc9OgHnljvJqFSW3RVkr+EhWKgFoWSpODBZGAtByGOFjamkEoGNpKDFQmAlw0zIMrDALwqHpYWA5BFqXaYI1sJJ69KCsp57UBQ/ydBEBbouyi9AhVGYEoGVmBUE4lglAy5bR4UFGBKBjRsVAKLYIcNMyDCxb5XTNwzCwXFMqdwQarIGVdv99VHvIEHckhyi1IsBtUdYKPpKVSgBalooTg4WRALQcRviYWhoB6FgaSgwUZgLctAwDK8yCcGh6GFgOgdZlmmANrMTu3Sn76ad0wYM8XUSA26LsInQIlRkBaJlZQRCOZQLQsmV0eJARAeiYUTEQii0C3LQMA8tWOV3zsHIG1sKFC+nzzz+nH3/8kY4fP24cLueriVsIRV80eQSCNbAi4uOp8ZLFFJWYKC8IjAQCEghwW5QlpIQhNCUALWtaeAXThpYVLKqGKUHHGhZd0ZS5aRkGlqJCq5SWMhpde8gAACAASURBVAbW1q1bqbCwkNasWXNJimVlZcZ/C7OqvFX8WmlpqR6VdijLYA0sEVbGmDGUUtjHoQgxDQiYI8BtUTYXNXqBQFUC0DJUoQoBaFmVSuqdB3Ssd/1Vyp6blmFgqaQu37koYWCJnVZXXnkl7dixg1JSUqhTp040c+ZMw7Tq27cvCTFv2LCBhMklvpafn0/XXXedQWXKlCl6VNqhLK0YWKlFRZQ+fJhDEWIaEDBHgNuibC5q9AIBGFjQgLoE8Lmsbm11ygw61qnaaufKTcswsNTWW3l2ShhY48ePp0cffZQaNGhAX3/9NdWpU4ciIyMNs+rkyZOUkJBg5Lty5Uq67777aN26dTRhwgT685//rEeVHczSioGV3Ls3ZY4b62CUmAoEAhPgtigHjhg9QMA7AWgZylCFALSsSiX1zgM61rv+KmXPTcswsFRSl+9clDCwxG6qVatW0csvv0z333+/ka03A0t8/cyZM3TDDTfQ+vXradGiRdS+fXs9Ku1QllYMLOzAcqg4mCYoAtwW5aCCR2cQqEAAWoYcVCEALatSSb3zgI71rr9K2XPTMgwsldSluIGVmppqHNj+3XffUbNmzS4xsI4cOUJJSUmXEJg3bx5169aN7rjjDpo1a5YelXYoSysGFs7Acqg4mCYoAtwW5aCCR2cQgIEFDShIAJ/LChZVw5SgYw2LrmjK3LQMA0tRoVVKS4kdWDExMSQOYz906JBxBpZo4rXBc+fO0fbt26l+/fqXpC36idcMs7KyaM+ePXpU2qEsgzWwcAuhQ4XBNEET4LYoB50AHgCBfxOAliEFVQhAy6pUUu88oGO9669S9ty0DANLJXX5zkUJA0uYUYcPHzYOaW/YsKGRrTgPS5hT//rXv6hz586XEBD9GjduTML4Onv2rB6VdijLYA0snH/lUGEwTdAEuC3KQSeAB0AABhY0oBgBfC4rVlBN04GONS28gmlz0zIMLAVF5iUlJQysG2+8kZYvX278adu2rZFmz5496aOPPqI//OEP9Prrr1+S+pNPPkmjRo2izMxM2rt3r/RKi3O2hHH26aefGmdzCcNM/EAlJyfTFVdcQXfeeSf9/ve/p/j4eL9ziwPoX3jhBeM1R7GTLCoqyrhBsV+/fsZZX9WqVQsY+9q1a40xFi9eTAcOHCDxuqVgNGTIECooKAj4fLAdgjWw6jz8MNX6r3uDnQb9QSDkBLgtyiFPGBMoSwBaVra02iUGLWtXciUTho6VLKuWSXHTMgwsPWSohIH1+OOP0+jRo+m55567eLPg9OnT6e677zYOcx85ciT19tx0J14z/Oc//0ni1sLz589T//796a233pJe6cTEROP2Q3+tadOmhsEmdoJ5a8Kw6tSpE23bts3r99u0aUOfffbZxVcmvXWaPHkyDR482Mi1chM3NApm4o/MFqyBFeEx4Rp98A+KzcuTGQbGAgHbBLgtyrYTwgDaEoCWtS29colDy8qVVMuEoGMty65k0ty0DANLSZlV9THKPM3tqW7YsMHY2SR2Fq1YscJIR6QldhgtW7aMhFlTsYnvibOyvvnmG2rUqJH09MV84vVEcUh8jx496Oqrrzbm27VrF73xxhvGjjARg3jdURw8X6NGjUtiKCkpodatW9PGjRuNXVrPPPOMsaNMGFFvv/02jR07li5cuGC8Gjl//nyv8S9dupQ6duxomHatWrUyzL0WLVoYu8HE7rOFCxcaz02bNs3Y0SWrBWtgiXnxGqEs+hhHJgFui7LM3DCWXgSgZb3qrXK20LLK1dUnN+hYn1qrnik3LcPAUl1xv+WnxA4skcj69esNo0qYNOXt1KlTxo4sYdKIA93LW7t27ei1116j5s2bh6TK4vW+Rx99lDIyMryO//TTT9Pw4cON74l/Hzp06CX9Jk6caLziJ9qMGTOM3WMVmzC0hg0bZnzp448/pq5du1aZR5hmwqATB9ULI0y8vljehEF2zTXX0Lp166hu3br0008/UWxsrBQWVgwsHOQuBT0GkUyA26IsOT0MpxEBaFmjYiueKrSseIE1SQ861qTQGqTJTcswsDQQnSdFZQwsf+U6ffo0bd682TCxxK4nX8aSUyUXP+wiBnHwvNgltmjRokumFsba999/T1deeSWtWbOmSlhiJ1Z2djYdPHjQMK+EiVWxiXO3hEEl2ksvvUQPPvhglTHmzJlj7A4TbebMmdSrVy8p6fsysMQ2vx+aNPU5R8aYMZRS2EdKDBgEBGQQ4LYoy8gJY+hJAFrWs+4qZg0tq1hV/XKCjvWruaoZc9MyDCxVlXZpXloYWBxLKV53/Oqrr4xD2YW5Vt7EmVe5ubnGf4qzusT5Xd6aOJx+0qRJFBcXZxhhCQkJF7sVFxfTuHHjjP8Wh9SLXViVmzDBxK4sYe4NGDDAeDVRRvNlYP3qOYtsS+N8n1OkFhVR+vDfdpWhgQAHAtwWZQ5MEIM7CUDL7qwboq5KAFqGKlQgAB2rUEXkIAhw0zIMLD10qYSBtXr1ahKHmrup5eTkGDcLXnXVVcZNheVN3DhY/srgggUL6Oabb/aaljCvhIklmnhVsGL+3bp1o7lz5xqvB+7evdsnFvEqpTgz7PLLLzfO4pLRfBlYJZ7D2rfm/GbMeWs4B0sGfYwhkwC3RVlmbhhLLwLQsl71VjlbaFnl6uqTG3SsT61Vz5SblmFgqa643/JTwsASNw02adLEuHWwb9++F3cwcS3h2rVrjUPaRRPnZYkzr8qb2HX1yCOPGP8pDlwXRpe39vnnnxu3FIo2depUI/fyJm42FOdatW/fnsRh7r6auIVRPCvOvxI7sQRHu82XgXXWM8f2hr4PzMcOLLvk8bxsAtwWZdn5YTx9CEDL+tRa9UyhZdUrrEd+0LEeddYhS25ahoGlg+oUMrBEucpvGxTnPwlz5q677qK0tDR2lRTGkzCgRLzffvutcYNieXvooYfoxRdfNP7z5MmTVW4oLO8ndkyVP1f5nCtx4+GxY8fozjvvJLGjy1f761//Ss8//7zx7ePHj1NiYqIpVuLDwVcT30tPTze+fcrzp/q/O/5vQnXa4cOME13SPTcjJve609T86AQCThAQi/Knn35qTNWlSxeKjo52YlrMAQLSCUDL0pFiwDARgJbDBB7TSiUAHUvFicHCSICblsXfQ8svLhOXuVWvXv430TBCwtTSCSixA+uzzz6jd999lz744AM6ceKEAUmYQ1FRUdS5c2djd5I4sLziOVHSSZoccMKECRdvHRw8eDC9+uqrlzz5xz/+kd58803ja+KcKl9/ad6yZYtxfpZoTzzxBI0YMeLiODExMcazIm+xw8pXG+UxjcSzou3bt48yMzNNZVFuFAbqXNHA+sXzquTX/95ZFug5fB8EQAAEQAAEQAAEQAAEQAAEQAAEzBI4e/YsFRYWGt1hYJml5r5+ShhY5djFLYP//Oc/adq0afTJJ59QSUnJxV1Zwrzq2bMn9evXj2655RYpr8sFW26xm0PcGlhaWkotWrSgr7/+muLj4y8ZpqKBJVxtYcJ5a+IVQfGqoGiVD3svN7Duueceeuedd3yGKV5VFM+K5uuwd28PWzGwdnfoQGv+8pdgkaE/CIAACIAACIAACIAACIAACIAACPglAANLD4EoZWBVLJl4JW7mzJnGzixxDtSFCxcumlnitULhzgoz69prr3Wk0uKg+Ztuusl4LbBevXrG4enin5VbxVcI/TnHZl4h7NWrl8HAV3PyFcIjqan0c1a211Aazp5FsX5eL3SkQJgEBCoR4LYtGgUCAasEoGWr5PAcNwLQMreKIB4rBKBjK9TwDEcC3LSMVwg5qkR+TMoaWBVRidfjhJEldmatW7fu4rfEoeXiBy/U7ccffyRx49/Bgwepdu3ahqHWtGlTr9NWPMR927Zt1KiR94PPFy5cePGGQl+HuHfw7HpasmSJz/QGDBhg7NASO7bOnDkjZVear0PcD3kMrIO161SNxVOD/K++pCiT52+FulYYHwTKCXA7mBKVAQGrBKBlq+TwHDcC0DK3iiAeKwSgYyvU8AxHAty0jEPcOapEfkxaGFgVsS1btoyEcbNz505jR5Z4nS+Ubffu3YZ5tWvXLkpKSqJFixbRlVde6XNKsWNKHD4vmjjovWPHjl77Tp48mQYOHGh8b9WqVXSV54yp8iZeU5w3b56xw0vM66uJWwqXL19OzZs3pw0bNkjB4MvAOuDZ9Xa4lvcD9TPGjKGUwj5S5scgICCLALdFWVZeGEc/AtCyfjVXNWNoWdXK6pUXdKxXvVXOlpuWYWCprLb/y00LA0vsLvrwww+NHVjiwHfxw1ZWVhZyA0vsuBIm0ebNm42zrubPn2+YWf6a2HWVm5trdKl8OHvF58rPyoqNjaUjR45cckB9cXExjRs3zuju63B2wUAYaqdPnzZubPz73/8uRfG+DKxf6tShoympXudI8hywn/XUk1LmxyAgIIsAt0VZVl4YRz8C0LJ+NVc1Y2hZ1crqlRd0rFe9Vc6Wm5ZhYKmsNg0MLLGzShyaLl4dnDNnjmHUCNNKNGH6dOvW7eLthKEotbgNUZx5tWbNGqpWrRp99NFHdOutt5qaqlmzZrRp0yZq3bo1ibOzKjfxYVG3bl3av38/3X777TR37txLuqxcufLi2V4vv/wyDRkypMoYIp7u3bsbX58xYwb17t3bVGyBOvkysPZlZNJxj2HmrcV4XpPM/WReoKHxfRBwlAC3RdnR5DGZUgSgZaXKqXUy0LLW5VcmeehYmVJqnwg3LcPA0kOSyu3A+uKLL4ydVuJVvMOHDxtVFMaVOO+qoKDAMK3uvPNOSgzhmUviBoQuXboYZ12Jed97772gDKK//e1v9OCDDxqxz5o1y4i3Ynv22Wfp4YcfNr4kbl0UZlzlJl4pFOaXMLrE64Fit1V5O3/+vGFwrV27lrKzs0ncaBgXFydF8b4MrD2eA9xP1qzpfY7oaMr/YgXOwZJSAQwiiwC3RVlWXhhHPwLQsn41VzVjaFnVyuqVF3SsV71VzpablmFgqay2/8tNCQNr48aNxk6r6dOnG2dblZtW4p/ivClhWvXt25cyMzNDXlWx8+uOO+4wdlyJ9sILL1w8q8rb5MLgSkhIuORbJSUlxu4rkZd49VAYVj08r9kJ4+ntt9+msWPHGmd3de7c2Xgt0VsT5pk4P0v0Ewyef/55uvzyy0m8ojhy5EjjfC3RKh8AbxeQLwNrZ916dLp6dZ/D4xwsu+TxvGwC3BZl2flhPH0IQMv61Fr1TKFl1SusR37QsR511iFLblqGgaWD6oiUMLCECSQOZC9/RVDc3NevXz/DuPJ121+oyrtjxw6fNwd6m7NBgwYknqnctm/fTp06dTIMJ2+tTZs2xnleKSkpPlOZNGkS3XfffYbxVbkJXqNHjzb+yGy+DKzt9RvQWY8Z56ulFhVR+vBhMkPBWCBgiwC3RdlWMnhYawLQstblVyp5aFmpcmqbDHSsbemVS5yblmFgKScxrwkpY2CleW65E7f3CdOqbdu2YaueLANLJHDy5EljB5d4jVAYWVFRUZSfn2+Ycw888IBxtlagJl4TFLuvFi9eTAcOHKDU1FSDj3hFUbxSKbv5MrC2NsqhkpgYn9Mle87gyhw3VnY4GA8ELBPgtihbTgQPak8AWtZeAsoAgJaVKaXWiUDHWpdfqeS5aRkGllLy8pmMEgbWvHnzjDOnhMGDFl4CvgysH3PzqNRz1pWvhh1Y4a0bZq9KgNuijBqBgFUC0LJVcniOGwFomVtFEI8VAtCxFWp4hiMBblqGgcVRJfJjUsLAko8FI1ol4MvA+qFxPpV5XvX01XAGllXieC5UBLgtyqHKE+OqTwBaVr/GumQILetSabXzhI7Vrq9O2XHTMgwsPdQHA0uPOjuWpS8Da1N+E8+JaxFe44jwnI3VeMli3ELoWJUwkRkC3BZlMzGjDwh4IwAtQxeqEICWVamk3nlAx3rXX6XsuWkZBpZK6vKdi5IG1pYtW+jHH3+k48ePk/jB8tcGDBigR6UdytKngdWkqc8IErt3p+ynn3IoQkwDAuYIcFuUzUWNXiBQlQC0DFWoQgBaVqWSeucBHetdf5Wy56ZlGFgqqUsTA2vixIk0YcIE2rNnj6nqiZv4AhlcpgZCp4sErBhYNW/pTHVffhkUQYAVAW6LMis4CMZVBKBlV5ULwfohAC1DHioQgI5VqCJyEAS4aRkGlh66VGYH1u9+9zuaOnUqlZWVBVW5CxcuBNUfnf0TsGJgkedsrJyP5lBsXh7wggAbAtwWZTZgEIjrCEDLrisZAvZBAFqGNFQgAB2rUEXkAAMLGggXASUMrDlz5lDPnj2pWrVq9Morr1C/fv2oRo0aniOXIozXCEtLS2nDhg00bdo0mjRpEuXn59OsWbOoaVPfr7WFqyBun9eSgeVJOrl3b8ocN9bt6SN+hQjgF0yFiql5KtCy5gJQKH1oWaFiapwKdKxx8RVLnZuWsQNLMYH5SEcJA6u75wyljz/+mP70pz8ZBpZokZ5dPcLAOnnyJCUkJFxMf8WKFXTbbbdRUlISrV27ltLS0vSotENZWjWwcJC7QwXCNKYJcFuUTQeOjiBQiQC0DEmoQgBaVqWSeucBHetdf5Wy56ZlGFgqqct3LkoYWNnZ2fTLL7+QMKeuu+66SwwssQNL7Maq2J599lkaOnQoPfzww/T000/rUWmHsrRqYInwMsaMoZTCPg5FimlAwD8Bbosy6gUCVglAy1bJ4TluBKBlbhVBPFYIQMdWqOEZjgS4aRkGFkeVyI9JCQMrNjbWOERu7969lJGRYVCKiYkxXh38+eefqU6dOpeQ27FjB+Xk5BivEH7//ffyqWo8oh0DK7WoiNKHD9OYHlLnRIDbosyJDWJxFwFo2V31QrS+CUDLUIcKBKBjFaqIHAQBblqGgaWHLpUwsGrWrEmnT5+mffv2UXp6ulE58Wrg0aNHaeXKldSmTZtLqrl//37KzMyk6tWrG68YoskjYMfAwjlY8uqAkewT4LYo288II+hKAFrWtfLq5Q0tq1dTHTOCjnWsupo5c9MyDCw1dVY5KyUMrBYtWhg7qVavXk2tWrUycmzXrh19+eWX9Nxzz9Gf//znS/KeO3cu/cd//IfxauGJEyf0qLRDWdoxsLADy6EiYRpTBLgtyqaCRicQ8EIAWoYsVCEALatSSb3zgI71rr9K2XPTMgwsldTlOxclDKw//vGPNHnyZHr//fepV69eRraPPfaY8UfstFq8eDE1btzY+Pq2bdvo9ttvpy1bthgm15IlS/SotENZ2jGwcAaWQ0XCNKYIcFuUTQWNTiAAAwsaUJgAPpcVLq5GqUHHGhVb8VS5aRkGluKC+3d6ShhY8+bNo27dulHfvn1p2rRpRmoHDhygyy67jI4dO0ZRUVEkdmmJM7F++OEHOn/+vNFn5syZdMcdd+hRaYeytGpg4RZChwqEaUwT4LYomw4cHUGgEgFoGZJQhQC0rEol9c4DOta7/iplz03LMLBUUpfvXJQwsM6dO0cjRowgcRaW2HVV3sTuKrEj6/Dhw5cQiIyMNPqNGjVKjyo7mKVVAwvnXzlYJExligC3RdlU0OgEAl4IQMuQhSoEoGVVKql3HtCx3vVXKXtuWoaBpZK6FDew/JXq+PHjNGvWLFq/fj0Jo6tRo0bGrqvyVwr1KLNzWVoysCIiKOefH1FsXp5zgWImEAhAgNuijIKBgFUC0LJVcniOGwFomVtFEI8VAtCxFWp4hiMBblqGgcVRJfJjUmIHlnwsGNEqASsGVrW6dSlvwWdWp8RzIBASAtwW5ZAkiUG1IAAta1FmLZKElrUos/JJQsfKl1ibBLlpGQaWHtKDgaVHnR3L0oqBFd+6NTV897ezy9BAgAsBbosyFy6Iw30EoGX31QwReycALUMZKhCAjlWoInIQBLhpGQaWHrqEgaVHnR3L0oqBldKvH2UUP+pYjJgIBMwQ4LYom4kZfUDAGwFoGbpQhQC0rEol9c4DOta7/iplz03LMLBUUpfvXFxnYC1dulRqZTp06CB1PN0Hs2JgZYwZQymFfXRHh/yZEeC2KDPDg3BcRABadlGxEKpfAtAyBKICAehYhSoiB0GAm5ZhYOmhS9cZWOIGwQjPod8ymhhH/OChySPgzcAq8wz/Q5Om3ifx1CD/668oKjFRXhAYCQQkEOC2KEtICUNoSgBa1rTwCqYNLStYVA1Tgo41LLqiKXPTMgwsRYVWKS1XGliySiMMrNLSUlnDYRwPAW8GVqnHdPyxcT4MLCjEVQS4LcqugodgWRGAllmVA8HYIAAt24CHR9kQgI7ZlAKB2CTATcswsGwW1CWPu87A2rlzp1S0DRo0kDqe7oN5M7DOR0fTT7l5PtHgFULdVcMzf26LMk9KiMoNBKBlN1QJMZohAC2boYQ+3AlAx9wrhPjMEuCmZRhYZivn7n6uM7DcjVv96L0ZWGdjYml7o0Y+k08tKqL04cPUh4MMXUWA26LsKngIlhUBaJlVORCMDQLQsg14eJQNAeiYTSkQiE0C3LQMA8tmQV3yOAwslxTKLWF6M7BOx8fTzvq+d7ol9+5NmePGuiVFxKkJAW6LsibYkWYICEDLIYCKIcNCAFoOC3ZMKpkAdCwZKIYLGwFuWoaBFTYpODoxDCxHcas/mTcD61T16rS7bj2fyWMHlvq6cGOG3BZlNzJEzDwIQMs86oAo7BOAlu0zxAjhJwAdh78GiEAOAW5ahoElp67cR3GdgdW6dWvjFsIvvviCYmNjufPVLj5vBtbxmjVpX1a2TxZpf/7/qPaf/qQdKyTMmwC3RZk3LUTHmQC0zLk6iC0YAtByMLTQlysB6JhrZRBXsAS4aRkGVrAVdGd/1xlYkZ4b7YSBdfLkSUpISKhCXQi3pscwEf3EDxWaswS8GVhHk5Lpl4wMn4HU7NKF6r70orOBYjYQCECA26KMgoGAVQLQslVyeI4bAWiZW0UQjxUC0LEVaniGIwFuWoaBxVEl8mNS1sASJldpaal8YhjRLwFvBtbhlFQ6UKeOz+fimjenRrNngSwIsCLAbVFmBQfBuIoAtOyqciFYPwSgZchDBQLQsQpVRA6CADctw8DSQ5cwsPSos2NZejOwDtZKo0NpaT5jiPHcUJj7yTzHYsREIGCGALdF2UzM6AMC3ghAy9CFKgSgZVUqqXce0LHe9Vcpe25ahoGlkrp85wIDS486O5alNwPrF8/uq6OeXVi+WkxuLuXO/dixGDERCJghwG1RNhMz+oAADCxoQGUC+FxWubr65AYd61Nr1TPlpmUYWKor7rf8YGDpUWfHsvRmYO3znH913HMOlq9WrV49yvtsvmMxYiIQMEOA26JsJmb0AQEYWNCAygTwuaxydfXJDTrWp9aqZ8pNyzCwVFccDCw9Kuxwlt4MrD1ZWXSyZqLvSDy3SeYvW0pRiX76OJwHpgMBbosyKgICVglAy1bJ4TluBKBlbhVBPFYIQMdWqOEZjgS4aRkGFkeVyI8JO7DkM9V6RG8G1q669eh/q1f3yyVjzBhKKeyjNTskz4sAt0WZFx1E4yYC0LKbqoVY/RGAlqEPFQhAxypUETkIAty0DANLD1261sAaMWIExcTEVKlSSUkJPfHEEyRuIRw9enTAKhYXFwfsgw7mCXgzsLbXb0Bn4+P9DpJaVETpw4eZnwg9QSDEBLgtyiFOF8MrTABaVri4mqUGLWtWcEXThY4VLayGaXHTMgwsPUToWgNLVnlKS0tlDYVxPAS8GVhbGzaiEs9rgv5acu/elDluLBiCABsC3BZlNmAQiOsIQMuuKxkC9kEAWoY0VCAAHatQReQgCHDTMgwsPXTpSgNLVmnELi0YWLJo/jaONwNrS24e/Rod7Xci7MCSWweMZp8At0XZfkYYQVcC0LKulVcvb2hZvZrqmBF0rGPV1cyZm5ZhYKmps8pZuc7A2rlzp9TKNGjQQOp4ug/mzcD6oXE+lUVG+kWDM7B0Vw6//LktyvwIISK3EICW3VIpxBmIALQciBC+7wYC0LEbqoQYzRDgpmUYWGaq5v4+rjOw3I9c7Qy8GVib8puQ51Ay34lHRVH+l1/gFkK1peG67Lgtyq4DiIDZEICW2ZQCgdgkAC3bBIjHWRCAjlmUAUFIIMBNyzCwJBTVBUPAwHJBkdwUolcDq0lT/yl4dmflf/UlDCw3FVqDWLktyhogR4ohIgAthwgshnWcALTsOHJMGAIC0HEIoGLIsBDgpmUYWGGRgeOTwsByHLnaE1oysDxI8Aqh2rpwY3bcFmU3MkTMPAhAyzzqgCjsE4CW7TPECOEnAB2HvwaIQA4BblqGgSWnrtxHgYHFvUIui8+qgZXcty9lji52WbYIV2UC3BZllVkjt9ASgJZDyxejO0cAWnaONWYKHQHoOHRsMbKzBLhpGQaWs/UP12wwsMJFXtF5rRpY8a1bU8N3pylKBWm5kQC3RdmNDBEzDwLQMo86IAr7BKBl+wwxQvgJQMfhrwEikEOAm5ZhYMmpK/dRYGBxr5DL4rNqYMU1b06NZs9yWbYIV2UC3BZllVkjt9ASgJZDyxejO0cAWnaONWYKHQHoOHRsMbKzBLhpGQaWs/UP12wwsMJFXtF5rRpY2IGlqCBcnBa3RdnFKBF6mAlAy2EuAKaXRgBaloYSA4WRAHQcRviYWioBblqGgSW1vGwHg4HFtjTuDMyqgZXSrx9lFD/qzqQRtZIEuC3KSkJGUo4QgJYdwYxJHCAALTsAGVOEnAB0HHLEmMAhAty0DAPLocKHeRoYWGEugGrTWzWwcAuhakpwfz7cFmX3E0UG4SIALYeLPOaVTQBalk0U44WDAHQcDuqYMxQEuGkZBlYoqsxvTNcZWH/5y18oIiKCnn76aYqOjuZHVPOIrBhYEbGx1HjZUopKTNScHtLnRIDbosyJDWJxFwFo2V31QrS+CUDLUIcKMMQfxQAAIABJREFUBKBjFaqIHAQBblqGgaWHLl1nYEVGRhoG1smTJykhIcGokvia+HPixImLX9OjfPyytGJgJfXoTllPPcUvGUSkNQFui7LWxUDytghAy7bw4WFGBKBlRsVAKJYJQMeW0eFBZgS4aRkGFjOBhCgc1xlYUVFRBgphVlWvXv2igVXZ1AoRLwwbgIAVAyvtvvuo9oNDwBYEWBHgtiizgoNgXEUAWnZVuRCsHwLQMuShAgHoWIUqIgdBgJuWYWDpoUvXGVhJSUl06tQp+vHHHyk3NxcGFjOdWjGwUouKKH34MGaZIBzdCXBblHWvB/K3TgBats4OT/IiAC3zqgeisUYAOrbGDU/xI8BNyzCw+GkkFBG5zsC67rrraNWqVdS7d2965JFHKNFzblLDhg2N1wq///57io+PD4pT/fr1g+qPzv4JWDGwkj21zBw3FmhBgBUBbosyKzgIxlUEoGVXlQvB+iEALUMeKhCAjlWoInIQBLhpGQaWHrp0nYH1yiuv0JAhQwzDqryVlZUZ/1rxa2bKJ/qLHzw0eQSsGFjYgSWPP0aSR4DboiwvM4ykGwFoWbeKq5svtKxubXXKDDrWqdpq58pNyzCw1NZbeXauM7CEWSVuInz11Vfp/PnztqokDKzS0lJbY+DhSwlYMbAyxoyhlMI+QAkCrAhwW5RZwUEwriIALbuqXAjWDwFoGfJQgQB0rEIVkYMgwE3LMLD00KXrDKzysohzsH744QcSQr3pppuM3Vdz584N+hXCG2+8UY9KO5SlFQOr4ZwPKb5JE4cixDQgYI4At0XZXNToBQJVCUDLUIUqBKBlVSqpdx7Qsd71Vyl7blqGgaWSunzn4loDq2JKkZGRhoF18uRJSkhI0KNyTLO0YmAldutG2c9OYJoRwtKVALdFWdc6IG/7BKBl+wwxAg8C0DKPOiAKewSgY3v88DQfAty0DAOLjzZCGYkSBtYYzytowsAaNWoURUdHh5IXxg5AwIqBFde8OTWaPQtsQYAVAW6LMis4CMZVBKBlV5ULwfohAC1DHioQgI5VqCJyEAS4aRkGlh66VMLA0qNU7sjSioEV06gR5X4yzx0JIkptCHBblLUBj0SlE4CWpSPFgGEiAC2HCTymlUoAOpaKE4OFkQA3LcPACqMYHJxaSQPrxIkT9NVXX9GuXbuM1wpr1qxJDRo0oGuvvZYSExMdxKvfVFYMLOzA0k8nbsiY26LsBmaIkScBaJlnXRBV8ASg5eCZ4Ql+BKBjfjVBRNYIcNMyDCxrdXTbU0oZWLt376Zhw4bR7NmzjS2NlZt4vbBXr1705JNPUv369d1WK1fEa8XAwhlYriitdkFyW5S1KwASlkYAWpaGEgOFmQC0HOYCYHopBKBjKRgxCAMC3LQMA4uBKBwIQRkDa8WKFdTNcxi42H1VVlbmE504K0vswpo3bx61bdvWAcR6TWHFwMr9fAHFZGfrBQrZsifAbVFmDwwBsiUALbMtDQILkgC0HCQwdGdJADpmWRYEZYEANy3DwLJQRBc+ooSBdejQIWrSpAkdPXqUYmNjadCgQdS7d29q7jkcXLw+eOrUKdq4cSPNnDmTXn/9dTp37hzVqlWLfvjhB+OfaPIIBGtg4fwreewxklwC3BZludlhNJ0IQMs6VVvtXKFlteurS3bQsS6VVj9PblqGgaW+5kSGShhY4vZB8VqgMKMWLFhALVu29Fm99evX080330xHjhyhESNG0OOPP65HpR3KsrKBleCZ94cmTX3OXvfVV6hmx44ORYdpQMA8AW6LsvnI0RMELiUALUMRqhCAllWppN55QMd611+l7LlpGQaWSurynYsSBpYwrDZs2GDsrvrDH/4QsHJvvvmmsUvriiuuoG+//TZgf3QwT6CygRUbFUVb8hp7HSCxR3fKfuop84OjJwg4SIDbouxg6phKMQLQsmIF1TgdaFnj4iuUOnSsUDE1T4WblmFg6SFIJQwscaaVEKy4dTDbxFlKe/fupXr16lGNGjWMM7PQ5BGobGBFxcTQ9kY5Xieo0bkz1fvby/Imx0ggIJEAt0VZYmoYSjMC0LJmBVc4XWhZ4eJqlBp0rFGxFU+Vm5ZhYCkuuH+np4SBVb16dTp79iz98ssvVLt27YCVO3jwIKWnp1NCQoJxPhaaPAKVDSyKT6Bdfm58zHruWUrq2lVeABgJBCQR4LYoS0oLw2hIAFrWsOiKpgwtK1pYzdKCjjUruMLpctMyDCyFxVYhNSUMLHGA+08//USzZs2inj17BqzcP/7xD+rVqxfl5+cbB7mjySNQ2cAq9RyivzfLzw2D0dGU8+EHFJuXJy8IjAQCEghwW5QlpIQhNCUALWtaeAXThpYVLKqGKUHHGhZd0ZS5aRkGlqJCq5SWEgbW/fffT6+99ho1btyYvvjiC783C4obC6+//nraunUrDR48mCZOnKhHpR3KsrKBdS45mfanZ/idPdlzY2TmuLEORYhpQMAcAW6Lsrmo0QsEqhKAlqEKVQhAy6pUUu88oGO9669S9ty0DANLJXX5zkUJA2vbtm3UrFkzOn/+PNWtW5fGjBlj7MRK9pgn5e3YsWMkdl6J7+3Zs4diY2Np48aNlJPj/XwmPcovP8vKBtZpz82Qh9L8v9YZER9PjZcspijPWWZoIMCFALdFmQsXxOE+AtCy+2qGiL0TgJahDBUIQMcqVBE5CALctAwDSw9dKmFgiVJNnTqVioqKqKys7GLlMjIyjIPaxTlX4nws0cT3IyMj6e2336a7775bjyo7mGVlA+tknXQ6mpISMIIMj7GYUtgnYD90AAGnCHBblJ3KG/OoRwBaVq+mumYELetaebXyho7VqqfO2XDTMgwsPdSojIElyrVkyRIaMmQIbdiwwWf1WrRoQX/729+oQ4cOIauwMMnE2VorV668+Gf9+vVUUlJi7PwSB877a2KX2GOPPRYwPvHqZKBXINeuXUsvvPACLV68mA4cOECpqanUtm1bg1NBQUHAOYLtUNnAOpqZRSdN7KxK9ZiP6cOHBTsd+oNAyAhwW5RDligGVp4AtKx8ibVJEFrWptRKJwodK11erZLjpmUYWHrITykDq7xk33zzDS1fvpx27txp7L4Su7AaNmxI7dq1ozZt2oS8sjt27KBGjRp5ncdJA2vy5MnGOV/i1crKLSIigkaPHm38kdkqG1iH6tWj0wnVA06Bc7ACIkIHhwlwW5QdTh/TKUQAWlaomJqnAi1rLgBF0oeOFSmkS9M4e2gvbf7gNTr68x4q8WyqiImLo5TMutSk52CKS/Nz8ZaXfLlpGQaWS0UZZNhKGlhBMpDevaKBlZ2dTddccw2Jw+OXLVsW1A6s+vXrG+d0+WoxMTEk/nhrS5cupY4dO1JpaSm1atWKnnvuORK7z8Th9aNGjaKFCxcaj02bNo369esnjUFlA+uXho2oxLPrLFDDDqxAhPB9pwlwW5Sdzh/zqUMAWlanlrpnAi3rrgA18oeO1aij27I4tG4RrXn/Ddq07Tj9WhZVJfzoiFK6LCeJWvcZRGktbzKVHjctw8AyVTbXd4KBFYISnjx50jCIrr32WhLncIlW/lpgMDuwGjRoQMIMs9KuvvpqEjvRsrKyDBOs4oH24lVGYaqtW7fOOPT+p59+Mow1Ga2ygbU3N49Ko6MDDo0zsAIiQgeHCXBblB1OH9MpRABaVqiYmqcCLWsuAEXSh44VKaSL0tg0/Rn6dM5iKi2LDBh1VMQF6tK9gC7rOzRgX25ahoEVsGRKdICB5VAZnTSwVq1aZRhUor300kv04IMPVslyzpw51KNHD+PrM2fOpF69ekkhUdnA2pXfhMjzuqK/FlGtGjVesRy3EEqpAAaRRYDboiwrL4yjHwFoWb+aq5oxtKxqZfXKCzrWq97hzlaYV/M+XBp0GF17dqCmhf5NLG5ahoEVdJld+QAMLIfK5qSBVVxcTOPGjTMy27t3r7ELq3IT52KJXVmnT5+mAQMGGLcyymhVDKwmTQMOG5ufTzkfzQnYDx1AwEkC3BZlJ3PHXGoRgJbVqqfO2UDLOldfndyhY3VqyT0T8drg1CcnmNp5VTkXsROr/4ihVKtlgc80uWkZBhZ3RcqJDwaWHI4BR7FjYF24cIHEn2gTr+KJQLp160Zz5841Xg/cvXu3z9jEofYrVqygyy+/nL777ruAOZjpYMXAqtmlC9V96UUzw6MPCDhGgNui7FjimEg5AtCyciXVNiFoWdvSK5U4dKxUOVknM39kIX239ZTlGFvk1aRbxk+HgWWZIB4MBQEYWKGg6mVMKwZWfHy8cZvh5s2bjcPYU1NTjVcDxY6pu+66i6Kiqh7AJ6Zu3Lixca5V+/btSRzm7qv179+fpk6dapx/JXZiRUYGfi86EC4rBlaK5xD5jOJHAw2N74OAowTwC6ajuDFZCAlAyyGEi6EdJQAtO4obk4WIAHQcIrAY9hIC4rbBNx4Y6PXAdrOoxMHugyZO8nk7ITctYweW2cq6ux8MLIfqZ8XA8hdahw4daPbs2ZSWllalW0pKCh07dozuvPNOmjVrls9h/vrXv9Lzzz9vfP/48eOUmJhoiob4cPDVxPfS09ONbwu/f8flLQKOWfO22yjrifEB+6EDCDhJQCzKn376qTFlF88uQbM7IJ2MEXOBgBkC0LIZSujjBgLQshuqhBgDEYCOAxHC92UQ+G7KWFq0aL3toW7qeAW1KCr2Og43LYu/h5ZfXHbq1CmqXr267fwxAD8CMLAcqkkwBtaLL75I27ZtM14FFLupxBlW4odQvO731FNP0ZdffmlEff311xs7rCrvxIqJiSFxxtXdd99t7LDy1UaNGkVPPPGE8e19+/ZRZmamKRoRAQ5lLx9EGFgLPvzQ1JjoBAIgAAIgAAIgAAIgAAIgAAIgAAJWCJw9e5YKCwuNR2FgWSHojmdgYDlUp2AMLH8hiVcJ+/bta9wcKNqUKVOoqKjokkfKDax77rmH3nnnHZ/DPfLIIzR+/G87n3wd9u7tYRhYDokG04AACIAACIAACIAACIAACIAACAQkAAMrICIlOihhYO3atcsoRv369U0Xxcozpgf30lGWgSWGPnz4sJGrOLeqc+fONH/+/EtmLH+FsFevXheNLm+xc3mFMMVjtNX561/s4MWzICCdALdt0dITxIDaEICWtSm18olCy8qXWIsEoWMtyhz2JJc9NYjWfn/YdhxXNkuj9sNf9zoONy3jFULb5XbFAEoYWOLwcfHnxIkTlJCQEBC82MVUrVo14xnxg+dEk2lgiXiFcbVgwQKqXbs2HThw4JIUyg9xF+dkLVmyxGd64jB4sUNL7Ng6c+ZM2A5xzxgzhlIK+zhRBswBAqYJcDuY0nTg6AgClQhAy5CEKgSgZVUqqXce0LHe9Xcq+3VvPuL5u+K3tqfr1LkVtRz4uE8DS9x8L1rXrl3Dfl4sDnG3XW5XDKCMgSVeazt58mRQBpZ4RphZTjTZBpY43+rdd981jLiSkpJLUhAfIPPmzaN69epR+U4zbzmKWwqXL19OzZs3pw0bNkjBEOwthBGemxYbL1lMUSYPkJcSJAYBARME8AumCUjo4goC0LIryoQgTRCAlk1AQhf2BKBj9iVSIkDcQohD3JUQspcktDSwxKt3NWrUMFziyuZPqAot28C6+eabaeHChV53YBUXF9O4ceOMVHwdzi4Wz6SkJOM1xP79+9Pf//53KakHa2Al9+5NmePGSpkbg4CATAL4BVMmTYwVTgLQcjjpY26ZBKBlmTQxVrgIQMfhIq/fvPNHFtJ3W8W1WtZai7yadMv46T4f5qZl7MCyVme3PaWlgbVy5Uq67rrrDPNn//79jtRMpoF18OBB4wwscVDdLbfcQp9++uklOYj8rr32WuNrL7/8Mg0ZMqRKjh999BF1797d+PqMGTOot8dIktGCNbByPv4nxeblyZgaY4CAVALcFmWpyWEwrQhAy1qVW+lkoWWly6tNctCxNqUOe6KH1i2iqU9OoNKyyKBjiYq4QP1HDKVaLQtgYAVNDw+EkoArDazKu4XELXzidcDXX3+dYmNjffISrwv+/PPP9Pbbb9NPP/1kmD+ffPJJKPleHNusgXXo0CGqWbOmzzzOnz9vmE1z5swxxha5iLOsKrerrrqKVq9eTXXr1jVeDxS7rcqbGEMYXGvXrqXs7GyDRVxcnBQOMLCkYMQgDAjgF0wGRUAIUghAy1IwYhAGBKBlBkVACLYJQMe2EWKAIAhsmv4MzftwaRBP/Na1a88O1LRwqN/nuGkZO7CCLrMrH3ClgSUOXxeGVXkrKysz/rXi1/xVQ/QXfT/++GO67bbbQlK477//3jhUvrxNmjSJJk+ebByYXvlg9SuvvPKiYfXhhx/SfffdR/d4bubr1KkTNW3a1DCfjh8/Tl988QVNmDCB1qxZYwx74403Gq8RCh6V29KlS6ljx47GGV9i/Oeff54uv/xy2rZtG40cOZI+//xz45GpU6eSOE9LVgvWwMIrhLLIYxzZBLgtyrLzw3j6EICW9am16plCy6pXWI/8oGM96swpS2FifTpnsamdWGLn1a09CgKaVyI/blqGgcVJdaGLxbUGVkUk5cZVuZHlC5c486pWrVrUunVr47W6W2+9NWRkCwoK/N4AWHHi7du3U8OGDY0vCQOrZ8+eAeMSB7UL8yk5OdlnX2GaCTNM7Liq3ASz0aNHG39ktmANLI9zR/nLluIQd5lFwFhSCHBblKUkhUG0JAAta1l2JZOGlpUsq3ZJQcfalZxFwofXLabVM96gTVuP0a9lUVViio4opctyk6nNXYP8vjZY8UFuWoaBxUJqIQ/ClQZWZSrlO7LM3kIYcqqeCawaWOJ8K3EmldhttX79ejpw4AAdPXrU2KGVlZVlvPonDl3v3LmzqTTEa4Ji99XixYuNsVJTU6lt27b04IMPGjHKbkEbWJ4AMsaMoZTCPrJDwXggYIsAt0XZVjJ4WGsC0LLW5VcqeWhZqXJqmwx0rG3pWSQubifc/OFrdHTfXio5d5ZiYuMoJSubmvQYTHFp2UHFGAotG/F94Inv5z1U4jnvOcZzzE1KZl1q0jNwfDCwgiqfazsrYWAJI0bsKPrXv/7l9wws11bJRYFbMbCS+/alzNHFLsoSoepAIBSLsg7ckCM/AtAyv5ogImsEoGVr3PAULwLQMa96uDUaO0aPrJxlalkcOL/mfc8OsW3Hfe8Qy0mi1n0GUVrLm7ymAANLVmV5j6OEgcUbsV7RWTGw4j2vdDZ8d5peoJAtewIyF2X2ySJApQlAy0qXV6vkoGWtyq1sstCxsqV1JDEZRo+sQGVpOdgzurp0L6DL+lY9YB4GlqzK8h4HBhbv+rguOisGVlzz5tRo9izX5YqA1SYga1FWmxKycwMBaNkNVUKMZghAy2YoqdmHw24TWWShY1kk9RtHltEji5wMLcu8JREGlqzK8h5HSQNrz549tH//fjp9+jQFOti9Q4cOvCvksugsGVhXXEGNZrzvskwRruoEZCzKqjNCfu4gAC27o06IMjABaDkwI9V6cNptIostdCyLpF7jyDR6ZJGzq2Xx8z31yQmmbkesHLO4LbH/iKGXHDgPA0tWZXmPo4yBJQQ7fvx4euuttwzzykwT52aJHzw0eQSsGFgJV19NDd75u7wgMBIISCBgd1GWEAKGAAEpBKBlKRgxCAMC0DKDIjgYArfdJrJS56xjlXa6yaoXh3FkGz2ycrKr5fkjC+m7racsh9MirybdMn76xedhYFlG6aoHlTCwTpw4Qe3bt6cNGzYE3HFVsTrCwCotLXVVwbgHa8nA8tyK2GDK/3BPDfFpRsDuoqwZLqTLmAC0zLg4CC0oAtByULhc3ZnjbhNZQDnqWMWdbrLqxWEc2UaPrJzsaFmYpW88MNDrge1m44uOKKVBEyddvD0RBpZZcu7up4SBNXz4cHrmmWeMSvTo0YN+97vfUX5+PiUkJASsToMGDQL2QQfzBKwYWEk9ulPWU0+ZnwQ9QcABAnYWZQfCwxQgYJoAtGwaFToyJwAtMy+QpPC47jaRlJ7x9sfcuXON4bp27UrR0dGyhrY0jqo73SzBYPhQKIweWWna0fK6Nx+hBQu+tR1Kp86tqOXAx41xYGDZxumKAZQwsIRZtXXrVnrggQfopZdecgV4VYO0YmClFhVR+vBhqiJBXi4lYGdRdmnKCFtRAtCyooXVMC1oWY+ic91tIos+Jx2rvNNNVr3CPU4ojB5ZOdnR8uKxRbR64yHbobRpXpsKiqfAwLJN0j0DKGFgxcfHU0lJCW3evJny8vLcQ1/BSK0YWBljxlBKYR8FaSAlNxOwsyi7OW/Erh4BaFm9muqaEbSsfuU57zaRRT/cOi4/52rfls20aafnwiuKCDo1bwdoBz0IHjBFIBRGj6mJTXSyo2W7RnV5eBXPwcIOLBNFU6CLEgZWRkYGHTx4kA4fPkzJyckKlMW9KVT84DgWGUn7GucHTCb38wUUk50dsB86gICTBOwsyk7GiblAIBABaDkQIXzfLQSgZbdUynqcnHebWM/q0ifDpeNA51wFm1/lA7SDfR79zREIhdFjbubAvexoORTGHAyswDVToYcSBla3bt3ok08+oS+//JKuueYaFeri2hwqfnAcjomh/Y1yAuaCHVgBEaFDGAjYWZTDEC6mBAGfBKBliEMVAtCyKpX0nUco/lLLjVo4dBzMOVdmeVU+QNvsc+gXHAHOPxN2tBwKsxoGVnDacmtvJQysRYsWUadOneiuu+6i6dP/7ypNtxbFzXFX/ODY73m183D9wIfk4wwsN1dc3djtLMrqUkFmbiQALbuxaojZGwFoWX1dcN5tIou+0zq2es6VmXwrHqBtpj/6BE8gFEZP8FF4f8KOlkPxujAMLFmV5T2OEgaWQPzss8/SsGHDaPDgwfTkk09SzZo1eZNXNLqKHxz7PDU4lhX41cDk3r0pc9xYRYkgLbcSsLMouzVnxK0mAWhZzbrqmBW0rH7VOe82kUXfSR3budHRTL4VD9A20x99gicQCqMn+CjkG1hiRLuGdeXXWGFgyaos73GUMLDuvfdeg/KSJUtox44dlJCQQNdddx1lZWVRVFSUzwpERETQ5MmTeVfIZdFV/ODYlZxCp9LTA2aAHVgBEaFDGAg4+QtmGNLDlBoRgJY1KrbiqULLihfYkx7n3Say6DupY7sGQaCccQ5WIEJyvm+3jqGqk10t2zFYvV0kAANLjt64j6KEgRXpOSxcmFGilZWVXWRe/jVvRRD9xPdLS0u518hV8VX84NielkZnaqUFjB9nYAVEhA5hIGB3UQ5DyJgSBLwSgJYhDFUIQMuqVNJ3Hpx3m8ii75SOZbAMlDN2YAUiJOf7so0eOVERydCy1Vdcu/bsQE0Lh16SCgwsWZXlPY4SBlZBQcFFAytY3OL8LDR5BCp+cPzk2X1V4tmF5a9FVKtGjVcsp6jERHlBYCQQkEBAxqIsIQwMAQK2CUDLthFiACYEoGUmhQhxGFx3m8hK2ykdy9rN5i9vnIElSxWBx5Fp9ASezVwPWVoO5pIBsfPq1h4FVcwrETEMLHN1c3svJQwstxdBpfgrfnD84Dn/6kKAs8hi8/Mp56M5KiFALooQkLUoK4IDabiYALTs4uIh9EsIQMt6CILrbhNZ9J3SsazzxHzljVsIZSnC/DiyjB7zM/rvKVPLh9ctptUz3qBNW4/Rr2VVjwASerssN5na3DWIarUs8BoYDCxZleU9Dgws3vVxXXQVPzg2em4gjPDcROiv1ezSheq+9KLr8kTA6hOQuSirTwsZciYALXOuDmILhgC0HAwtd/fluNtEFlGndGx3J1ugfEN1rlKgeXX/vgyjRxbDUGhZvPq6+cPX6Oi+vVRy7izFxMZRimdTRJMegykuzf/lYDCwZFWW9zgwsHjXx3XRVfzgWJeTS9U8rwj6a9U7dKD6//2G6/JEwOoTCMWirD41ZMiRALTMsSqIyQoBaNkKNfc+w223iSySTuk4lDuwvB2gLYsPxjFHwI7RY26GwL2c0nLgSH7rAQPLLCl394OB5e76sYu+4gfHas/rgfERkf5j9NwSmTPnQ4rNy2OXCwLSmwC3RVnvaiB7OwSgZTv08CwnAtAyp2o4Ewun3SayMnZKx6E8A8vbAdqy+GAc9xBwSstmicDAMkvK3f2UMLDGjh1ruQrFxcWWn8WDVQlU/OBYeVkzqnHhQkBMyb17U+Y46zUMOAE6gIAFAtwWZQsp4BEQMAhAyxCCKgSgZVUqGXweHHabBB+19yec0nEobiH0d4C2LD4Yxz0EnNKyWSIwsMyScnc/JQysyMhIy7cQlpaWuruCzKK/xMBq1pxqmOArzslqvGQxbiJkVkvdw+G2KOteD+RvnQC0bJ0dnuRFAFrmVQ9EY42AkzqWdQ6WmQO0rdHAU24m4KSWzXCCgWWGkvv7KGFgNWzY0K+BJX64Dh06ROfOnTMqlpycTElJSca/b9++3f1VZJSBFQNLhJ8xZgylFPZhlAlC0Z0At0VZ93ogf+sEoGXr7PAkLwLQMq96IBprBJzUsZ0bHSOojJo1rE6ZjfNNHaBtjQaecjMBJ7VshhMMLDOU3N9HCQPLTBnED9iiRYto2LBhtHv3bpo9ezZ18BwgjiaXgFUDK7WoiNKHD5MbDEYDARsEuC3KNlLBo5oTgJY1F4BC6UPLChVT41Sc1rHKNzpqLCMWqTut5UBJw8AKREiN72tjYJWX68yZM3TDDTfQjh07aM2aNSR2b6HJI2DVwMI5WPJqgJHkEOC2KMvJCqPoSABa1rHqauYMLatZV92yCoeOVb3R0S3aMc5w++A1OvrzHio5e5Zi4uIoJbMuNek5mOLSst2SRpU4w6Flf7BgYLlWSkEFrp2BJeh8/PHH9J//+Z80cOBA+u///u+ggKGzfwKWDay+fSlzNA7Uh774EOC2KPMhg0jcRgBadlvFEK8/mOHfAAAgAElEQVQvAtAytKECgXDpWMUbHbnrQbzCueb9N2jTtuP0a1lUlXCNs8Vykqh1n0GU1vIm7unAwHJdhdQMWEsD6+DBg5Senk716tWjnTt3qlnZMGVl1cBK7NaNsp+dEKaoMS0IVCUQrl8wUQsQkE0AWpZNFOOFiwC0HC7ymFcmgXDrWKUbHWXWRfZYwe5669K9gC7rO1R2GCEdL9xarpwcdmCFtNxsBtfSwPrll18oKyuLYmNjSbxSiCaPgFUDK6VfP8ooflReIBgJBGwS4LYo20wHj2tMAFrWuPiKpQ4tK1ZQTdOBjtUvvC7njnHTMgws9X+2RIZaGlivv/463XfffYaJtWfPHj0q7VCWVg0snIHlUIEwjWkC3BZl04GjIwhUIgAtQxKqEICWVamk3nlAx2rX387Nj1ERF6j/iKFUq2WBKyBx0zIMLFfIxnaQWhlYJ06coKlTp9LDDz9MZz0H6N1zzz309ttv24aIAf6PgFUDC7cQQkXcCHBblLnxQTzuIQAtu6dWiNQ/AWgZClGBAHSsQhV95zB/ZCF9t/WU5SRb5NWkW8ZPt/y8kw9y0zIMLCerH765lDCwcnJyAhIUrwqKs6/KysqMP8nJybRq1SrKzc0N+Cw6mCdg1cDKGDOGUgr7mJ8IPUEgxAS4LcohThfDK0wAWla4uJqlBi1rVnBF04WOFS2sJy1xvtgbDwz0emC72azFwe6DJk5yxe2E3LQMA8usytzdTwkDKzIyMqgqXHPNNfTGG29Qy5Ytg3oOnQMTsGRgRUdT/hcrKCoxMfAE6AECDhHgtig7lDamUZAAtKxgUTVNCVrWtPCKpQ0dK1bQCumse/MRWrDgW9sJdurciloOfNz2OKEegJuWYWCFuuI8xlfCwHrsscf80oyIiKC4uDjKyMggYV41bdqUB30Fo7BiYMU0akS5n8xTkAZScjMBbouym1ki9vASgJbDyx+zyyMALctjiZHCRwA6Dh/7UM+8eGwRrd54yPY0bZrXpoLiKbbHCfUA3LQMAyvUFecxvhIGFg+UiEIQsGJgJfXoQVlPPQmAIMCKALdFmRUcBOMqAtCyq8qFYP0QgJYhDxUIQMcqVNF7DnbPvyof1S3nYHHTMgwsdX+2KmYGA0uPOjuWpRUDq87wYVSrqMixGDERCJghwG1RNhMz+oCANwLQMnShCgFoWZVK6p0HdKxu/bEDKzqsxYWBFVb8jk0OA8sx1HpMZMnAGuYxsH4PA0sPhbgnS/yC6Z5aIVL/BKBlKEQVAtCyKpXUOw/oWN364wwsGFjqqptPZsoZWMeOHaPp06fTsmXLaNeuXXTy5EmqWbMmNWjQgNq1a0d9+/Y1biBECw0BKwZWqmf3VbpnFxYaCHAigF8wOVUDsdghAC3boYdnORGAljlVA7FYJQAdWyXH/zncQujdwBJcNn/wGh39eQ+VnD1LMZ6zqVMy61KTnoOl3raIHVj8f0ZkRKiUgfXSSy/RqFGj6MyZMwabsrKyi4zEQe6iJSQk0Pjx4+nBBx+UwQ9jVCJgxcBK7t2bMseNBUsQYEUAv2CyKgeCsUEAWrYBD4+yIgAtsyoHgrFIADq2CM4lj9k9B8st51+JcgTS8qF1i2jN+2/Qpm3H6deyqCoVjI4opctykqh1n0GU1vIm2xWGgWUboSsGUMbAGuZ5De3ZZ5+9aFrl5uZS8+bNjd1Xp06doo0bN9JPP/1kFEWYWQ8//DA99dRTriiSm4K0YmBhB5abKqxPrIEWZX1IIFO3E4CW3V5BxF9OAFqGFlQgAB2br6JTO3fMRxS4pzBtpj45gUrLIgN3rtQjKuIC9R8xlGq1LAj62XA84E/Lm6Y/Q5/OWWyKg8i7S/cCuqzvUFtpwMCyhc81DythYK1YsYLat29vQBevCb788svUqlWrKkVYt26dsfNKvF4oTCzxz+uvv941xXJDoFYMrIwxYyilsI8b0kOMGhHAL5gaFVvxVKFlxQusUXrQskbFVjhV6DhwcZ3euRM4ouB6CPNm3odLg3vI07trzw7UtNCeiRP0pDYe8KXlcOUPA8tGMV30qBIGVr9+/ei9994zTKwFCxZQtWrVfJZA/KB16tSJli5dapyHNW3aNBeVi3+oVgys/JVfU1RiIv/kEKFWBPALplblVjpZaFnp8mqVHLSsVbmVTRY69l/acOzcCYXYgs3j1h4FrjKvBDNvWg7nDjQYWKFQMr8xlTCw6tevT3v37qWFCxfSjTfeGJDykiVL6KabbqJ69erRzp07A/ZHB/MEYGCZZ4WevAngF0ze9UF05glAy+ZZoSdvAtAy7/ogOnMEoGPfnMK1c8dc5YLvdXjdYlo9w3MG1NZjvs+Ayk2mNncNcs1rgxUpeNNyOM8Ag4EVvEbd+IQSBlac5yaD8+fP08GDByk1NTVgHY4cOUJpaWkUGxt78cD3gA+hgykCVgwsvEJoCi06OUwAv2A6DBzThYwAtBwytBjYYQLQssPAMV1ICEDH3rGGc+dOSApdYVDjLK8PPbfw7dtLJec8t/DFem7hy8qmJj3k3sIX6jwqj19Zy78e209vPDDQq1lnNjZxsPugiZMs3U4IA8ssZXf3U8LAqlWrFh07dow2b95MeXl5ASsiDnPPz8+nlJQUOnz4cMD+6GCegBUDC4e4m+eLns4RwC+YzrHGTKElAC2Hli9Gd44AtOwca8wUOgLQsXe24dy5E7pqqz1yZS1vnDLGc5zPt7aT7tS5FbUc+HjQ48DAChqZKx9QwsASB7d/+eWXNHr0aCouLg5YiMcee4zEnxtuuME4yB1NHgErBlZy796UOW6svCAwEghIIIBfMCVAxBAsCEDLLMqAICQQcFLLbrz9TAJiDOEAASd17EA6UqYQP2/h3LkjJQkNB6ms5eVPDKTVGw/ZJtGmeW0qKJ5CwX4Ow8Cyjd4VAyhhYL344ov0l7/8xXgl8K233qI+fXzfaCcOey8qKjJeOXzhhReMWwnR5BGwYmCleA7hzyh+VF4QGAkEJBDAL5gSIGIIFgSgZRZlQBASCDihZbfffiYBM4YIMQEndBziFKQPv+7NR8K6c0d6QpoMWFnLC4vvoe+2nrKdfeOsaIqLj6NN2477PjssJ4la9xlEaS1vujgfDCzb6F0xgBIGVklJCbVs2dJ4hTAiIsLYWXXnnXdSs2bNqEaNGnTq1Cn6/vvvafbs2bRixQoqKyujyy67jNauXUsxMTGuKJRbgrRiYCV260bZz05wS4qIUxMC+AVTk0JrkCa0rEGRNUkx1FoO9tawLt0L6LK+7rnyXhOZsE8z1DpmD8BLgIvHFkndueNGBm6MOVQ7sCKozPO/iIBIoiIuUMXPYRhYAZEp0UEJA0tUYteuXXTbbbfRpk2bDBPLVxPmVfPmzWnu3Lkkbi9Ek0vAioGV3LcvZY4O/Oqn3EgxGgj4J4BfMKEQVQhAy6pUEnmEUsuq3X4GtfAlEEod883af2R2z78qH71FXk26Zfx0t2JwXdyhOgMrWBBde3agpoVDCQZWsOTc2V8ZA0vgP3fuHE2cOJGmTJli7Liq2ISpJXZk3XvvvXTfffcZrxuiySdgycDCGVjyC4ERbRPAL5i2EWIAJgSgZSaFQBi2CYRKyyrffmYbOgaQTiBUOpYeqIMDYgeWg7AlThWKWwithCd2YvUfMZTi8q423r4STbyBVb16dSvD4RnmBJQysCqyPnr0qLErS4hXCFnsthK3DqKFloAVAwu3EIa2JhjdGgH8gmmNG57iRwBa5lcTRGSNQKi0bHf3B3Z9WKunrk+FSsdu5okzsNxZPW9atvt5apWE+By+YeQkGFhWAbroOWUNLBfVQKlQrRhYGWPGUEqh74P3lQKEZFxDAL9guqZUCDQAAWgZElGFQCi0jNvPVFGHe/IIhY7dk733SPFz6M4KetOynR2tdihER5TSPU+/TGkN841hsAPLDk3ez8LA4l0f10UXtIFVrRrlr1hOUYmJrssVAatNAL9gql1fnbKDlnWqttq5hkLL2PmhtmY4ZhcKHXPMM9iY7O7cwU7IYInb7+9Ly1bPFLQb0Q0dmlHbB367GAwGll2afJ9X0sC6cOECHTlyhM6cOWPcOOiv4SB3ueIM2sCKjKScj+ZQbF6e3EAwGgjYJIBfMG0CxONsCEDLbEqBQGwSCIWWcfaOzaLg8aAJhELHQQfB8AE7O3fKz0Cq1bKAYWbqhuRPy8Hc6mr21sFAJJs1Tqbbx0+DgRUIlMu/r4yBJUyrN998k95++21au3YtlZSUBCyNONhd/OChySMQtIHlmToZh7jLKwBGkkYAv2BKQ4mBwkwAWg5zATC9NAKh0LLdXR/lyWH3h7QyKz9QKHSsCjSrO3fKb6FThYNb8gik5cPrFtPqGW/Qpq3H6NeyqCppidf+LstNprOnz9KWfedtp924fjx1f3YWDCzbJHkPoISBdfr0abr99ttp2bJlAXdcVSyHMLBKS0t5V8hl0VkxsCLi46nxksV4jdBltVY93ECLsur5Iz91CEDL6tRS90xCoWXswNJdVc7nHwodO59F6GYMZueO2Hl1a48Calo4NHQBYWSfBMxqWZxxtvnD1+jovr1Ucu4sxcTGUUpWNjXpMZji0rJJ1ucwdmDpIVYlDKwRI0bQ008/bVSsXbt21KdPH8rNzaV4jzESqN14442BuuD7QRCwYmCJ4XGQexCQ0dURAmYXZUeCwSQgYIMAtGwDHh5lRSAUWsYZWKxKrEUwodCxauDM7txpc9cgwmuD4au+LC3L+hzGGVjh04KTMythYOXk5NDOnTtp0KBB9OqrrzrJD3NVImDVwEotKqL04cPAEwTYEJC1KLNJCIFoSwBa1rb0yiUeCi3j9jPlZMI+oVDomH3SFgMMtHPH4rB4TBIBWVqW9TmMWwglFZb5MEoYWGKnlTjzasuWLSTMLLTwEbBqYOEcrPDVDDN7JyBrUQZfEAg3AWg53BXA/LIIhErLds/BwvlXsiqsxzih0rEe9JAlJwIytSzjc/iGkZOoRo0aBiLcQshJKXJjUcLAatSoEe3atYsOHjxIqampcglhtKAIWDWwsAMrKMzo7AABmYuyA+FiChDwSQBahjhUIRAqLeP2M1UU4o48QqVjd2SPKFUiIFPLMj6H4/KuhoGlksB85KKEgXXvvfcatw9+/vnnVFBQoEHZ+KZo1cDCGVh8a6prZDIXZV0ZIm8eBKBlHnVAFPYJhFLLuP3Mfn0wgjkCodSxuQjQCwTkEJCtZbufwxX/HoodWHJqzHEUJQyszZs301VXXUVXXnklLVy4kKKjozmy1iImSwZWtWqUv2I5biHUQiHuSVL2ouyezBGpagSgZdUqqm8+odYybj/TV1tOZh5qHTuZC+bSm0AotGzncxgGlh56VMLAEqX617/+RX379qXLL7+cnnjiCbrhhhsoMjJSjyoyytKKgRWbn085H81hlAVCAQGiUCzK4AoC4SAALYeDOuYMBQEntIzbz0JROYxZkYATOgZxEHCCQKi0bPVzGAaWE1UP/xzKGFgC5fz586lbt25UWlpKcXFxlJaWRlFRUT4pR0RE0NatW8NfBYUisGJg1ezSheq+9KJCFJCKCgRCtSirwAY5uIsAtOyueiFa3wSc1DJuP4MSQ0XASR2HKgeMCwKCQKi1HOznMAwsPXSpjIH12GOP0eOPP04XLlygsrIyU9UTBpYwu9DkEbBiYKX060cZxY/KCwIjgYAEAqFelCWEiCFAwBQBaNkUJnRyAQFo2QVFCkOIxl9yP3iNjv68h0rOnqUYz/+JnZJZl5r0HExxadlhiMj/lNAxu5IgIIsEuGkZBpbFQrrsMSUMrKlTp9KAAQMM9ImJiXTLLbdQTk4OxcfHByzH6NGjA/ZBB/MErBhYiZ5dc9nPTjA/CXqCgAMEuC3KDqSMKRQlAC0rWlgN04KWNSy6n5TFrWVr3n+DNm07Tr+WVX3jIjqilC7LSaLWfQZRWsub2MCDjtmUAoHYJMBNyzCwbBbUJY8rYWBdc8019M0331CHDh1ozpw5lJSU5BL86oVpxcBK9pxdljm6WD0YyMjVBLgtyq6GieDDSgBaDit+TC6RALQsEabLhwr2oOcu3Qvosr5DWWQtQ8dO7DpzYg4WBUEQlgnI0LLlyb08CANLJk2+YylhYIldV0Kwq1atotatW/OlrUFklgys3r0pc9xYDeggRTcR4LYou4kdYuVFAFrmVQ9EY50AtGydnUpPCvNq3odLg06pa88O1LQw/CaWHR07sevMiTmCLh4eYEnAjpZDkRAMrFBQ5TemEgZWnTp16PDhw8af5ORkfpQ1isiKgZVaVETpw4dpRAmpuoEAt0XZDcwQI08C0DLPuiCq4AlAy8EzU+0JYa5MfXIClZYFf9N4VMQF6j9iKNVqWRBWLFZ17MSuMyfmCCt8TC6VgFUtSw2iwmAwsEJFlte4ShhYXTy32C1YsIBWr15NrVq14kVYs2isGFhp999HtYcM0YwU0uVOgNuizJ0X4uNLAFrmWxtEFhwBaDk4Xir2nj+ykL7bespyai3yatIt46dbfl7Gg1Z07MSuMyfmkMEPY/AhYEXLoYweBlYo6fIZWwkD65NPPqGuXbvSvffeS5MmTeJDV8NIrBhY8W3aUMNpUzWkhZQ5E+C2KHNmhdh4E4CWedcH0ZknAC2bZ6ViT3Em0xsPDPR6YLvZfMXB7oMmTgrr7YTB6tiJXWdOzGG2RujnHgLBajnUmcHACjVhHuMrYWAJlOPGjaMxY8bQQw89RI899hhVr16dB2HNorBiYAlEDd6bTgnYPaeZWniny21R5k0L0XEmAC1zrg5iC4YAtBwMLfX6rnvzEc8bF9/aTqxT51bUcuDjtsexOkCwOnZi15kTc1jlheeCJ+DUAfzBajn4TMw/IXL+9r2XqO2Q3262P3XqFPwA8/hc1VMJA0vsvBJt8eLFtHPnTkOsbdu2pYyMDIqKqnqtbnmFIiIiaPLkydILVlZWRj/88AOtXLny4p/169dTSUkJxcbG0tmzZ03NefLkSXrhhRdo1qxZtH37diOX/Px86tevH91///1UrVq1gOOsXbvWGEOwOXDgAKWmphpshnhe2SsoKAj4fLAdrBpY8Z7D9xu+Oy3Y6dAfBEJGgNOiHLIkMbAWBKBlLcqsRZLQshZl9pnk4rFFtHrjIdsQ2jSvTQXFU2yPY3WAYHTsxK4zJ+awygrPBUfA6QP4g9FycJmY710x5/89X0aj/vGp8TAMLPMM3dZTCQMrMjKShBklmjCPylv517wVRfQT3y8tLZVesx07dlCjRo28jmvWwBKGVadOnWjbtm1ex2njee3us88+o5SUFJ/xC3Nu8ODBdP78+Sp9RO6jR482/shsVg0sio6m/C9WUJTnRkk0EOBAgMOizIEDYnA/AWjZ/TVEBr8RgJb1VoLdXULl9MJ9DlYwOnZi15kTc+itXGeyD8cB/MFoORQUKud87tdfYWCFAjSzMZUwsMROIn9mlT/mixYtkl6SigZWdnY2XXPNNXTo0CFatmyZqR1YYqdWa8+OpI0bN1J8fDw988wz1LNnT8OIevvtt2ns2LF04cIF6ty5M82fP99r/EuXLqWOHTsaBp042P65556jFi1a0NatW2nUqFG0cOFC47lp06YZO7pkNcsGlieADM8roCmFfWSFgnFAwBaBcC/KtoLHwyBQgQC0DDmoQgBaVqWS1vLQcQeWEzk7MYe1iuMpswTCdQB/OD+TveUMA8usYtzdTwkDi1sJxKt/wiC69tprjdcYRRPnc4mzuczswJo4caLxip9oM2bMoN69e1+SojC0hg0bZnzt448/Ng6wr9yuvvpq+uabbygrK8swwpKTky92EQaZMNXWrVtHdevWpZ9++smIS0azY2ClFhVR+vDf8kIDgXATCOeiHO7cMb9aBKBlteqpczbQss7VJ1Jlp1AwOnZi15kTc+it3NBmH84D+IPRskwKvnKGgSWTMt+xYGA5VJtgDKzmzZvT999/T1deeSWtWbOmSoRiJ5bY2XXw4EHDvBImVsW2atUqw6AS7aWXXqIHH3ywyhhz5syhHj16GF+fOXMm9erVSwoJOwZWsseoyxw3VkocGAQE7BII16JsN248DwKVCUDL0IQqBKBl+5V06nBn+5FWHUGVs5qC0bETu6OcmCMUesCYvxGwa0DaeaU2GC3LrJevnGFgyaTMdyxtDaxjx47R+++/T4MGDXKkOmYNLHHmVW5urhHT+PHjaeTIkV7j+8Mf/kCTJnmuAY6Lo8OHD1NCQsLFfsXFxcatjKLt3bvX2IVVuQkTTOzKOn36NA0YMMB4NVFGs2NgYQeWjApgDFkEwrUoy4of44BAOQFoGVpQhQC0bL2STh/ubD1S/0+G8y/rsnIKRsdO7DpzYg5Z7DDOpQTCbeoGo2VZtfOXMwwsWZR5j6OVgSVMG7Fb6Z133qFPPvnEOFNK/OA50cwaWOLGwfJXBhcsWEA333yz1/CEeSVMLNHEq4LiUPfy1q1bN5o7d67xeuDu3bt9pteuXTtasWIFXX755fTdd99JwWDHwMIZWFJKgEEkEQjHoiwpdAwDApcQgJYhCFUIQMvWKhmOw52tRRr4KTuvS0VGXKABI4ZSrZYFgScKYY9gdOyEQeHEHCHEqfXQ4TYfg9GyrEL5yxkGlizKvMfRwsASJo0wrcSrcmLnlWihvIXQW8nNGlhi19UjjzxiDCEOXM/JyfGqoM8//9y4pVC0qVOn0t13332xX+PGjY1zrdq3b0/iMHdfrX///saz4vwrsRNL3OZot1k1sCI8h9U3XrIYtxDaLQCel0YgHIuytOAxEAhUIAAtQw6qEICWg69kuA53Dj5S809YzSmSLlDz3ERq3WcQpbW8yfyEJnoG82pmsDp2YteZE3OYwIguQRII9+ufwWo5yPS8dveXMwwsGYT5j6GsgfXjjz8a5oy4ZU/cCiiaMK1ES0tLozvuuIP69u1LN954oyNVMmtgPfTQQ/Tiiy8aMYnD4GvUqOE1PrFj6oorrjC+V/mcq5SUFMOou/POO0ns6PLV/vrXv9Lzzz9vfPv48eOUmJhoioUwqXw18b309HTj219d0ZJqeG5LNNOSPPXIePQ34w4NBDgQEIvyp59+aoTSpUsXio6O5hAWYgCBoAlAy0EjwwNMCUDLwRXm8HdL6b1nX6TSsuD/D8ooz26lvv//Q5Taon1wkzrUe/PMF2jBx8ss59apW3tq0vsh29EKxt/Onkybt5+gX8uiqowXHVFKTRolUqs7/4tqtehgfD9YHTtRRyfmsA0bA1Qh8PmY39HGbb7/XmYWWfPcGnTz6LfMdr/YL1gtBz2Blwf85SwMrJEz5xpPnTp1iqpXry5jSozBjIBSBtahQ4fovffeM3ZbidfqRCs3rSIiIkjsOCosLKTOnTtTVFTVRSaUtTFrYP3xj3+kN9980whFvOLo6y/NW7Zsofz8fKPfE088QSNGjLgYfkxMjPGs2JUlTDxfbdSoUcazou3bt48yMzNNIRAszTRRC3FGFxoIgAAIgAAIgAAIgAAIgAAIgAAIhIrA2bNnjb/riwYDK1SUwz+u6w2sc+fOkbhRT5hW8+fPN/5fjXLTSphULVu2NG7yE6ZLaWlp2IhbMbBELr6MNvGKoHhVULTKh72XG1j33HOPwcVXE68qimdF83XYu7dnYWCFTUaYGARAAARAAARAAARAAARAAARAoBIBGFh6SMK1BtaiRYuM3UWzZ882XrUTrdy4uuqqq0iYN8KBFYeYX3311a4xsCq+QujPOTbzCmGvXr2Mc798NQ6vEEZ5XufM+2y+Hj9tyNJVBMKxLdpVgBCsawhAy64pFQINQABaNi+R76aMpUWL1pt/wEfPmzpeQS2Kim2PE6oB7L5CZeXVKTuv2wkOEVHRlNOrv4Fk26x3qKz0/y6UEq9u+nu98ch3y2jtPzyvLG477vuVxZwkuvKO/7L8+qcTc4RKD7qNe/bwPvqfv9zvVQtmWYjXXO99/hWKq1X11vpAY4TjM9lfzniFMFDF1Pi+6wws8aqcONdK7BiqaFqJw8779etnGFflr9aJ769evdpVBlbFQ9y3bdtGjRo18qq0hQsXXryh0Nch7h06dKAlS5b4VOqAAQOMHVpix9aZM2fCcoh7Qtu21GDK/6jx04QslCIQjoMplQKIZNgQgJbZlAKB2CQALZsHGO7Dnc1Har1nuG7Ps3vguTCwcvv83kh86/tTLjGwyml07dmBmhYO9QnHODT+w9fo6L69VHLuLMXExlFKVjY16TGY4tKyrUOt8KQTc0gJVPNB7OqxRV5NumX8dEsUw/WZ7CtnHOJuqYyue8h1Bpa4KU+8wiZ2W9WqVYvuuusuw7Rq6zFCvDW3GVhix5TISTRx02DHjh295jV58mQaOHCg8b1Vq1aR2HV2cdHr2pXmzZtH9erVo127dvkUpbilcPny5dS8eXPasGGDFPEGewthneHDqFZRkZS5MQgIyCQQrkVZZg4YCwQEAWgZOlCFALRsvpJ2/1JbPpOdv9yaj9Zaz3VvPkILFnxr7eEKT3Xq3IpaDnzc1DgyTDMzBpbYidV/xFCq1bLAVFzopC+BQ+s8byU9OcHyhQZ2dBauz2RfOcPA0uPnwLUGlijP9ddfT0Ue86N3794+b9Bzm4Eldl3l5uYa6qt8OHtFSZYf9h4bG0tHjhyhhISEi98uLi6mcePGGf/t63B28YGTlJREp0+fNg63//vf/y5F8UEZWB4zMv+rLynK5O2HUgLEICBgkkC4FmWT4aEbCJgmAC2bRoWOzAlAy+YLpMMOrHDkKMM0M2NgiUpzNg/NKxE9nSCwafozNO/DpUFPFWinX6ABw/mZ7C1nGFiBKqbG911nYIkbBMX5VxcuXDB2YokmTJyunl1H4tY98c9q1apdrI7bDCwReLNmzWjTpk3UunVr4xXIyk18WNStW5f2799Pt99+O5ctapQAACAASURBVM2d+9t1oeVt5cqVdO211xr/+fLLL9OQIUOqjPHRRx9R9+7dja/PmDHDMAFltGAMrFhPnjn/mC1jWowBAtIJhHNRlp4MBtSaALSsdfmVSh5aNl9OGUaLmC2Y3Unmo5PTMxy7zGSYZmYNLHE20aCJk6S9EiiHOkbhSkAYOp/OWWxqJ5bY4XdrjwK/r6mayTPcn8mVc4aBZaZq7u/jOgNLIP/555+Nc7DE2U/r1/92QGW5mZWcnGy8gifMrHbt2v0/9q4DPKoqbb+THkJIB0KHQOgGKXYhKiAKLqAiiLqiotjWXXft+ruKvayua0WxK4gdEdaCimJFQFhEsCRAKKEkkAQSUif/OZNMcmdyZ+49955759yZc3j2cWFO+c77fbec937FcTmw6F4ef/xxXHPNNZ59vf322zjrrLN8LO3hhx/G9ddf7/m3JUuWYNKkSW0skYYUUvKLEl00PJB6W3lbXV2dh+D66aef0LVrV9CKhgkJCVysmYXASp54Orr9619c1pWTSAR4IxDqhzLv/cj5IhcBacuRq/tw27m0Zf0a5RHqJjqBwoNMooiOGJyF/Ntf1AUuD9JML4FFBRKZQNQFmOxkKwKl61dgzZvzsKmgLGCS/4E5qRhxzhwu4aki3JOVe66sa8St737swTxYMTRblSIX446AIwksJQqUnHn55ZfxxhtvtCR295JZPXr08IQZLly40PYqhL/88gsqKipaRJ0/fz5o3iqaMN0/sfqRRx7p8SLzttraWo/31caNG5GYmAhKWE2ZMgWUeKJ7nTt3LhoaGkC90T75RL2C31dffeXJn0X70fkfeeQRDBkyBDRE8ZZbbvHk16LNPwG8WQtjIbAS8vLQe9EbZpeU4yUCliAgwkPZko3JSSMOAWnLEafysN2wtGU21ZolW0QPYQuFlxkP0oyFwGIh19isQ/YOZwTsSsAv0j2Z7nndosdw7NUPSQIrnI2b7M3xBJZXPzSpO63MR6vqvfvuux7WlTZvwnf63wceeADTp0/3JDe3uuXn5wetAKhcf8uWLejVq5ePSPTfxo4d6yGc1NqIESPw6aefIi0tLeBWKGl25ZVXeogv/0bx+Oc//+n5H8/GQmDFZGej3xef81xeziUR4IaASA9lbpuSE0UkAtKWI1LtYblpactsag1lcmc2SY31DoWXGQ/SjIXAEp1ENKY5OSpcEBDtnqw8h0oPrHCxsrb7CBsCS7m1w4cP47333vN4F1GSh3oh0UZJG/o/WrFw5syZOPvss5GVlWWJds0SWFSogwcP4tFHH/WEEVIiKzo6Grm5uR7Zr776ap9cX4E2QcMEqffVihUrsHfvXqSnp3v2T0MUqYy8GwuBFUWSt/df9QNvEeR8EgEuCIj2UOayKTlJRCIgbTki1R6Wm5a2zK7WUCV3ZpfU2Ai7vcx4kGYsBJb0wDJmF3KUPQiIdk+WBJY9eg/1KmFJYClBpaSNN18WJXO8RBb9b0xMDGpqakKtg7Ban4XAohvv8q+HkUIS78smERANAdEeyqLhI+VxDgLSlp2jKylpcAQi2ZY9IUHvPY0DxTtQW12NOJK7NC27G/pPvUIzyXcokjvbZcuh8DIzS5qxEFgyB5ZdliTXMYKAaPdkSWAZ0aLzxoQ9gaVUCa3s98orr2DBggXYvn277XmxnGce7BKzElguUjGy93vvIr5vX/bF5AiJgIUIiPZQtnCrcuowR0DacpgrOIK2F4m2TAmatYtIUubC8sBJmfukYPj0OcjMOymgNdid3NlOs7Tby8wMaUZx0UtgiZ5E304dy7XEREC0e7IksMS0E95SRRSBpQTviy++8IQY0sTqsvFDgJXAoiunTpuG7Lvm8hNCziQR4ICAaA9lDluSU0QoAtKWI1TxYbjtSLNlVs+pUyfnY+C5NwTVvF3JnY2Yn5O8zIySZiwElsx/ZcSK5Bg7ERDtniwJLDu1H7q1IpbACh3k4b2yEQLLRSot9vtyBaJJTizZJAKiICDaQ1kUXKQczkNA2rLzdCYlVkcgkmzZKEEycepoDJgRnMQSzb6c6mXGQjAqMdfjgeWCGxfecgMy8vJFU5cj5DFDhjpig4IIKdo9WRJYghiGxWJIAstigCNteiMEFsWo8x13IG3G9EiDS+5XYAREeygLDJUUTXAEpC0LriApnm4EIsWWzYSoRbvcuOBm5xAfLCQQ3ZtoXmZaoZlAI7Fvl4+N6yGwogiB9WdJYOm+N3g78iJDmReO0AGi3ZMlgRUZhigJrMjQs227NEpgpc+ahU433WibnHIhiYAWAqI9lLXklb9LBAIhIG1Z2ka4IBAptmw2SbhTQs/CyctMLTSzeOce7CqLanP56SGw6CCn6FGU+4sVZKgoexNVDtHuyZLAEtVS+MolCSy+eEb8bEYJLJkHK+JNRzgARHsoCweQFMgxCEhbdoyqpKAaCESCLVMiZN7Vs1UTtus1ECck/w53L7NgetRLYDlBj3pt0up+4USGWo0Vz/lFuydLAoundsWdSxJY4urGkZIZJbCkB5Yj1R3WQov2UA5rsOXmLEVA2rKl8MrJbUQgEmx5/XO3YfnydaZRHTtuGPJm3216HqsmCHcvs2B61EtgUexF16NV9sEyb7iToSxY2N1XtHuyJLDstoDQrCcJrNDgHrarGiWwZA6ssDUJx25MtIeyY4GUgoccAWnLIVeBFIATApFgyyvmzsKajSWmERsxOAv5t79oeh4rJogEL7NgemQhsETWoxW2YWTOcCdDjWBi1xjR7smSwLJL86FdRxJYocU/7FY3QmDJKoRhZwZhsSHRHsphAarcREgQkLYcEtjlohYgEAm2bPYw7oVd5PxJkeBlFkyPLASWyHq04BJnnjISyFBmUGwcINo9WRJYNio/hEtJAiuE4Ifj0kYILJn/Khwtwfl7Eu2h7HxE5Q5ChYC05VAhL9fljUAk2HIkeGBF+h5ZCCzpgRX8LhIJZCjv+yjP+US7J0sCi6d2xZ1LElji6saRkrESWK7YWPR+713E9+3ryP1KocMXAdEeyuGLtNyZ1QhIW7YaYTm/XQhEgi1HwoHcbi8zT4XA957GgeIdqK2uRlxCAtKyu6H/1CuQkNnVEvOVObAsgbXNpJFAhtqDpLFVRLsnSwLLmB6dNkoSWE7TmODyshJYmdf8BVlXXin4rqR4kYiAaA/lSNSB3DMfBKQt88FRzhJ6BCLBlsM9JIrub8ntc1BUat6etLyTaHLvtYvmYVNhuWpVR1rlb2CfFAyfPgeZeSeZF0gxg6xCyBXOgJPZTYbasyvnrCLaPVkSWM6xHTOSSgLLDHpybBsEWAmsxOHD0WvB6xJJiYBwCIj2UBYOICmQYxAQxZbLyw9g3YpvULevEqhtBOJciM1KwrD845GSkuYYPKWgoUNAFFu2GgGzh3IR8yZpkUlGMA1WoW/Twgfx8eIVaGiM0pw62uXGqZPzMfDcGzT7snQIpEe9IYQi6pFl/3b0lR5YdqAceA3R7smSwAqtPdi1uiSw7EI6QtZhJbAQE4Pcb79BdIcOEYKQ3KZTEBDtoewU3KSc4iEQalsu+G0Ttixfj97bsxDfGNcGoGpXDbZ2L0HvsXnIyR0oHoBSImEQCLUt2wUEJXteu+8hXeSLv0yUjLng5huQkZdvl7ia67CQSZqTNXeg3lNznpivGgJI11v2/ld6p2rpN3HqaAyYwY/ECqRHPQSWiHpkBtSGAU4OuQ2Hjzqi3ZMlgWXDRSfAEpLAEkAJ4SQCM4FFNt/5jjuQNmN6OMEg9xIGCIj2UA4DSOUWQoRAKG35208+QfYXsYhtjNHcfZ2rHsUn1eG48eM1+/Ls4JRDhFPk5Kkb/7nUbNkHl8NuxFU2edzUJrmBxCjHevnZScLwsi21eRrLdmDTmm9R564xZRqxUfHokTQQybHpiImKQ137GsQe17+NB6do5J+aHvUQWLzJNFPgCzzYiSG34fRRJ5TvF2pmKQksgS9WjqJJAosjmHIqwAiBlT5rFjrddKOETyIgFAKiPZSFAkcK4ygEQmXLlLzq8XkiM1ZFp1TjuHHjmMexDnDKIcIpcrLib6S/0pYH9e+LbZ9vCOjZp5yfkqP7Eg7gUHIt3B2cE7rK4rlEPXYmTMln8iDiZVta89S7a7GtchN+K1+NiroSJtV3iM1EbspI9EwaRIir2DZj/T04jYZfegmy9hkknLknSezOMcTZX4+BCCyPDO0HoH3PLkB6BlcZmEB3WGejOvdu085QTSd81GFRf6jeLwLJKAksFu05t68ksJyrOyElN0JgpU6bhuy75gq5HylU5CIg2kM5cjUhd24WAattWc3rAnFRyNmUqcvzyn9/lGxovCQbffoOMLv1gOOdcohwipw8FKXHC0hpy0NWJSO+oS2hoVcWp4Sulq5fgTVvkkTkBWWBE5HnpGLEOXOYwgZ52RbLPA2N9Vi1bxmKCJmlp1GPq6OyTke0S58H585jyrBm4bOqOAVaj5Ug02Onamsp9dhAiKqc6Rd5uhUsehHJUamEpBtByKtBiHXJMGs9tqHsI5rXXSD5Rf+ow4o77W/1+wWrTJLAYkXMmf0lgeVMvQkrtRECS3pgCavOiBZMtIdyRCvDps0bPZjYJJ7hZayyZS2vC8MCk4Gbe+7E2CtmmJkiKHklsmeYV3Cjh53CEyowetJES7CzYlItO/IQTV32ASkxaKx1oyorwSPGsB/SEO12mRapAQ3YdnwlRp8hBmaB7kMD83JQvPx1HNi1E7U11YiLT0Bal67oP+UK1TxQwYAxalv+3pFG5/l27wfYrkFiUfLq2I5/Ytavnrm9kzIRZKjH9tR96FqeYSqXHw152/T+PBRljfCIEbv6RwyqOwUx5I9WC1WYtZZcIvxuVcgt1dev7z2NA8U7UFtNrrsEct1ld0P/qWzXHb3PRb24W9iPOkZ1aNX7hVF5JIFlFDlnjZMElrP0Jby0RggsmQNLeLVGpICiPZStUkK4kjYseOk6QDs4ybgVtszidcGiC29fSlpk3TSCe3VCpxwizMjZiEb83nEXek7SToof6uuf1Y4aohqx7ugDXAksr80Vphaj65lDQ1ZIwK77kBnbUnpHmpmHemJ9svMlEk5Yqnp7oF5R47teqMvzyn8Crbm9/ft3OArDMk4ycnsKOkaLZKLX3E8rvkY5SI420owQsXaFWXMHx+IJeYbcalXNpEUEBvZJwfDpc5CZp21Hy596AwOKSGiqwWblRx2DInmGWfF+YUYeSWCZQc85YyWB5RxdOUJSVgLLlZiIfl+ukFUIHaHdyBJStIcyb/TtOizxlpv3fCwHaK2DCW/ZeM3H25aNel2w7qfg2HKMmTyJdVjQ/k45RJiVk4JQRzxGik9WT4ovwvVvxI6sJLC0MONqiH6T2XkfMmtb3oO02XkKKtZhdenHqrCOzJyAnOQ8w5AHm5tOSsmrvPR8uFzmPfgCCelPMimvuRhXrCki1o4wa8Pgh3ggj5BbViLs1Mn5GHhu4OqVlLQsuX+tqueeXris+qijd/1A/Xi/X5iVRxJYZhF0xnhJYDlDT46RkpXAkvmvHKPaiBNUtIcyTwXYeVjiKTfvuYwcoKkMTvv6zdOWzXhdsOpvc79dGHsJvwq1TjlE8JBTifWvR5bglOlTW/5JhOvfqB1ZTWB5QbLzGrfzPsTDtuhBOuGqvqh5ssDUgZwmdv9g+1Oe6oTKCoNxUQnoSXJBRbmiWW8ZLf2Vc/tPYjQ0kVWYekIgb457G1H1pWhw9cHAhnEtYYI87FhUjxxWnKzq7wn9e5+E/jGG3FoRivjl4g+R812K6a1a8VHHrFA83y/MykLHSwKLB4rizyEJLPF15CgJWQmsPh8uQXzfvo7aoxQ2MhAQ7aHMC3U7D0u8ZLZiHqMHaCpLqL9+s4Z98bRls14XLLrkfUBzyiGCl5xerD0hhYTEOnn6mRDl+jdqRzwO/nps0K5r3O77EC/bKnD/jJyoIXqgDNrn5wNfIzEmOWCFQTMLrC75CAUH1/tMYSY00Ygs1BNsb3VRm1xePOxYVI8cIziJMsaqZPDL5y/CgD9IZUmTjfdHHZPieIbzfL/gIY8ksHigKP4cksASX0eOkpCJwIqKQu7338nwQUdpOHKEFe2hzAN5Ow5LrOQKj30ZmcPoAdq7Fm9yRc8ejIZ98bJlHt4bevbZgjFnDyynHCJ4yemPNfXE6rMuNeRJhM3YEY+Dv14btOMat/s+xMu29tfsRnp8Z71QBuznbnQTT6so0/OoTfBr+Sqs2/+Fz09mQxNZBa1313nCFP2rKPKyYxE9clgxEqn/J7fMwIaCQ4ZFGto3GePvWdhmvNnrPJTvHVpg8Hq/0FpH7++SwNKLlLP7SQLL2foTTnomAotILxO4C6dCKVAzAqI9lHkoxuxLVLADnVFyxcy+jJJlZg7QXnnt/vptJuyLly3z8t7Qq3PehzOz9m/XIYKXnP44u0nS6Cjyx2jjReiYsSNeB389GFh9jYfiPsTLtipqS9EhLkMPjCHr458Hi4Yp/qn7VYiJig2ZTN6FedmxiB45IQfXoAA05HDe1bNR32g8dJUmdp/zxPw2VUF5Ecci6pvX+4VBtbUZJgksXkiKPY8ksMTWj+OkYyWw0mfNQqebbnTcPqXA4Y+AaA9ls4hbeVgyQ64Y2ZdZsszMAVopL2+CJRAWZsO+eNkyr5dwPTq3gjzgJb/VhwhecurBmaUPL52Y2R+vg7/efVt5jYfiPmQGeyVmvDyw9OrBSD9/D6yc5GEYmXmqkam4j+Flx7xIZdYNGv14xLqOnf3XP3cbli9fZ3rJseOGIW/23T7zhOJaN70RnRPwer/QuZxmN0lgaUIUFh0kgRUWahRnE6wEVvKpp6LbY/8WZwNSEolAMwKiPZTNKsaqFyiz5ArrvniQZbwOcV4iw8qXeR5hnz169cXSpUs9UE+cOBExMTGssHv68/Le0LO4FQczq64BPfth6cNLTpY19fblQeiYsSNeB3+9+7WSrOR9H9KzJ162tfXQRvRqP1jPkiHr458Da1j6yeifMipk8igX5mXHVtqnGlBmPx4JAX4AIVbMnYU1G0tMizhicBbyb3/RZx4rPyAqF/Ikrn+PJK4v3oHa6mrEJSQgLbsb+k+9oo1XmOmNCvquLAksXpoVex5JYImtH8dJx0pgxefmos8Hix23Tylw+CMQbgSWFYcl+jIb/cLulspKLFZhJEkyL7LMzAFaucffMncgrjYG3SqyCAZtww6ox8rW7iXoPTYPObkD28Cjh/gyKyslgvIvPZsPgcUpEa2WnajZhh6stOa16xChJYfW7zzk1FrD6O88Dsxm7kW8Dv5691+QugtjbuJXCVO5rtlr2zsXC9nLw7Zohb//7ngep3WbLUQ4npou1aoQ2p3/KpiN8bJjHoSy3muBx8cjvWuFop/Z/Fdema3KgxXsOqfJ59cumodNheWqIZA0tHFgnxQMnz4HmXkncYVXtHdlSWBxVa+wk0kCS1jVOFMwVgILsbHI/eZrmcjdmeoOa6lFeyibBduKw9JX97+JPmXZhkVjOXjx8ETq03eAR1YzB2jlZml1Nxf5o9UoIVN8Uh2OGz/e01XvV+zOx/VF4qJyU6XqKYmWfv0wrFz5jWdtUx5Yr7yFAb+YT9yshVfRKdU4btw4JqwCkYT+a5m9DpQ260OqHXYjrrIpv1RtkhtIjEJsVhKG5R+PlJQ0rS23+d2snMwL6hzAcs0GmtKMFxCvg7/O7aKB5A1rmN0J3nuH3nF6+vG6D7GSimZty5tbSiRCyB9v//xX9Pdw88DiFdKrx1Z5fTzSs1ao+ljpgeV97ke9uJt7EY1NCx/Ex4tXoKFRO79htMuNUyfnY+C5N3CDWbR3ZUlgcVOt0BNJAkto9ThPOGYCi2xRJnJ3np4jQWLRHspmMed9WPp53WqkvFGli8AJJDvLC7jZQ9emrtsR16MD6vZVImFvFHpVWE/E+O+bEjNobET2F7G6XmIbyPE5WsWzi9UW/ji2DOXkIE6bUQKL5es7q3ze/h6i7+T6FvKKZU1/kjCQDDyI0EZ3I7YsX4/e27M0yUUtL7xgcsa8sIeL/o3qQ20cK1miNocZLyC7CSwqPw/STg0HM0Secj5WLxwz10BDYz0+2fkSKupIEvfYTIzvemGbCns87c3IXEoZlePDLQeWVXbpj7kZezHiaW1E5zzGWJkDyysfbyKQklfL3v+KefsTp47GgBl8SCzR3pUlgcVsDo4cIAksR6pNXKGNEFgykbu4+oxkyUR7KJvVBe/D0tf3vsWFBNJz+DJz4PXiptdbyizOwcbXo95QuKVZmYra78W+oU15r4wQWEZfuvXK7SF5epSgD0l+6/V0Mbqm0nsr0Ppm5mYhIJXr6yXYlF5dWduSkFGXohdGW/rpuV71CGKUkA4FgcVCtOvZu7cPj/uaUdmMXgPf7v0A2ys3tWyzR9JAHNvxTyzbtryvv4zeBcOpCiF9lrhnZ1viGeivIKPXqnceu4g2s4ZlZRVCpWwsH2bqCWH8S8yn6Norqk0eKxo2+Np9D+nyvPLHhnpiXXDzDcjIyzcLG0R7V5YElmmVOmICSWA5Qk3OEdIIgZU6bRqy75rrnE1KSSMCAdEeymZB53lYorIcuG+9at4nVjn1eHTwIt9YZQuX/spDf7tdh9HnlLY5uQLlmGrXMQUdF/PxBFPDsyBlF4ZdOd4nzM6OL/4shwivZxglr3p8nmjKLAIRbFphpaYW5TTYKFmiqneSP89IOE0oCCwqPy/iTiRygOUaoF5NP+xb5kNeefdCSayjsk7X5YnFy6tUzabodbrzmDKsWfisah4gOkaUsEcedqyHrDd76fN8bzASSm1WftbxZvNgBcp/5S9H4R+bUfjpOvQqykRCY3wbMWkOt22HfsFvFas93o60+eexsktWLQxFe1eWBJaWxsLjd0lghYcehdmFEQJLemAJoz4piAIB0R7KPJTD60sqT0JJz9dZXuGPPDB04hz+hyW3u4GE6jXl5NIiTqz2XKPzF5/mxlFj8lugNWunWzvsxtCrxmrmntI6RCg9w2jYYDQJ6VNL1s9iE/QA//ugfRg1uVU+FiKBZS3effVcqyxrGvEC4nHwZ5HR21cP0W5kXjvI2mByaV0Dagdptfk6xGYgt8NI9Gw/iCR2j2vTxXstISmaex49KmNB+9/Re2a+xyMp2MFelLBHHnZsR3ger2e9VQSwkWsu2Bi7vZpaPhxt2IrYYjfq3XU4WLcfRZWbUeeuURWVek+dPH4UvvhkVUCiVg8ulBCb88R809UJRXtXlgSWHu07v48ksJyvQ6F2YITAkjmwhFKhFKYZAa2HMo+qaHaDzeuwxJNQ0nMwNEto2I2zaOsFOixt7rwDOXs668rHZeWeihNKMeqOKZ4leHzxp/NUoyksUU9y95ZruaSSZGBvBOJciM30TcD+1f2LSMGCLtxgqHbVkgqV++DKiEP/n7K4zWvVRFYdllnJOx4HfyMY8SbvlDIYIfLoeJ4eOMprIKqoFI17D2sepNVwpGF6PZIGIDk2Ha5OiXB3z/C5lnhc3+7GBo93Sq27Scbiqi3ITuqN9oNzyLXbjlzDVTi0sQBFh9RJAKNhjzzJfF52bKVdUv3yetbrec4buS6tGGN3Ximj6/HY+1gStp83+25TU2m9K5ua3MBgSWAZAM2BQySB5UCliSwyK4HlSkxEvy9XyCqEFik1EMmSM2IICtb87Elo3XJgM1ExyyLxQzptoIeylseK0aTNdm2Wx2GJJ6Gk58ssr5douzAWbR1ehyWr9kUPhrsnuzDq2BPB64u/V1a9uaeC7W3jujXo8EalqYIFgebneSi2Sj+8yRJ/ObW8gJT9Q2XLVh/AWYg8NynI8PuR+3HK9KmWqNzqXEBmnx/eCoPUmyo3hXh9JVGvr9g2WHi8x0i+rt/KaRhWic/vLGGP9B5S0G0PBmzvyg1vXnbMM6xXbXNmdeWd02qijZtimidirew3YUq+oaToZjy+eOx5xOAs5N/+oqmpJIFlCj452CACksAyCJwcpo4AK4HVYfJkdH3gfgknZwS0SJZAhybRyRfOMAWdTu2hzHLI4HFwtmq/zPtQVIajMvEilGgi2rSbh2mGevEmNazCVdR5eR2WrNwfPZTvOLkGVUUHMOAPfp5OXpnNeKvwKlhgJX5Wze1fGdKqdei8Si+gxqoG9NvZpU3IZqhsWQ/Rbhabzxe9i74/ZSCK/NFqVj9frMyvY8YT2FthMDWuo/68WyR/1yqSv6tIkXye4qs37JEWlyhcsZ7rfYmnHVtpm7ye9VYTwFrXi5HfS9evwJo352FTQZlqqJ4nJ1VOKkacM8dwMnSz15mRfSnH6M3ZFWwdSWCZ1YIcbwQBSWAZQU2OCYgAK4GVedWVyPrLXySiHBFgIScCLWv1yzHH7Vo2lf9DedXnnxtK4Gzm4GzZ5sjEWl4PapXhvPLwIpS2dCjGibeco7lNHmEnmouEcQeehyWrYSpMLSahetnclzEaAkdtj1fBAu6bsnDCepKr64+eu30qQ1q4XJupA91jQmHLVnu50M3z8IzlqR8zniF6KpwZ3S+tMOgiGzVS+VCtOiElIXJ7ZyK+38lwN9LwQ/UQYl6eSBW1JWgX0wGumFisO/qAR2XDfkhDtJvuylizkhzi9ay3kmQzhpr+UdQj8df3n8aBXTtRW1ONuPgEpHXpiv5TrjCVP4qHp6P+Xaj3lB5YZhGU40OFgCSwQoV8mK7LSmClTJmCLvffF6Zo2L8toy+FgSQVlXzRg6zZHFVKAmtQ/76IeXmvoVxBRg/OevbIo4+e/D/+6/AglKgXYMW5SRicN0LXNj5/5A3k7uUXwqFr0TDpFIpDv1HoGognVrQODxQj8xsJY+F1gDMibyjHbOq9E+PmzAiZCIE8P0Jhy0bshgU4Mx5JVj5fjObmmTh1tK5wKpaPbd4qiOW1+zC+64W6Kh76Rb+9dgAAIABJREFU64B6/G6OfwdR9aXMJAQvT6Rfy1dhY9m36NFhEFynj/SIaJrA6rkTY6+w5lrl8ay3gwBmud5E6bv+uduwfPm6kIojc2CFFH65uAkEJIFlAjw5tC0CrARWXO/eyPnvMgklBwTMvAQHWt7/5dgsKcRhm5pTaIVP6g2TVBJY7XYdxsBtxskTqw5AodSH2S/Sham7MPqm6Zr6pB08B53PYxFLAopkY0cgFId+dimtHxHsIBXoWqorPoQBW41f+9bvypoVQu0xEej+YrctW0kQeTVn9l5q1fOFymd1LiCvJ3CfrVmkdkLb6oX+VRBHZk5ATnKeYaM3ihUvInt1yUcoOLgerugY5Ey/iA+B1W8Xxl6i71lqBDiR7dPIfkQZs2LuLKzZ6JubzU7ZZBVCO9GWa/FGQBJYvBGN8PlYCSzExCD3229kEncOdmP2JSOQCPSFr/cpediyfD16b89CfGOAEtnd9VX84rDVgFOwfNHVCpP08cBalYTEhnjDovP+AsmLpDO8ITLQDGFKw5Pcszt7Sp5rNd5ehVrrhePvdh/6zWJoZWJzLzHTQlgVHURqaSIyq1Pb5Fui+6C2GkN8wpzQ6H1mS5e9yNnVGXGNbZNa690D7/uV3nWV/UTxwLLaC9kJHi525AL69I7ZqNzRyVO9MIYQWfWNtW2qINIKh3/qfpVqwna9NlZDqn9m3jRcM++i/3w89ETJuA+2P4U6dw1XAstqstnMs94OAliv7kXrFw75rzzPyPp6LF261APvxIkTybEutB8aZRVC0SzdGnkkgWUNrhE7KzOBRZDqfMcdSJth3dejSFAGj5erQDjVog4uFykr36j9UNIihazUhVGiI9ABRflQNuviT/fN6yWTF0nHw3uLN+b+9mHmxdlKW3Pa3E4jsKzEd3PXHSDxRwHJeCvXtmLunYn7cLBbHWIzkzAs/3jPwdzsxwyjXio89xfqHFh2Ja/n5dnD6/kSTIdW5QKia+oJp8pJHoaRmaeaNrPN3UnI3VXsIXdmrytv9US6AV4eWHaRzVY/600r1YEThNIDS0+eOr2QSgJLL1KyH08EJIHFE005F4wQWOmzZqHTTTdK9EwgwOsl2IQIPkOt/mrNk+gI9IWQN4HFI9Eqj5dI3t5bzISaX0XDYDZn9sDAy56dPo8TCawG4vkUbYHnE612qKfKm1N0rkZcmCF+RfGYCPRRxg5bpqRg1nmDdHmImrUTXrmVeDxfzO7FzHg9Ca2HpZ+M/imjzCzTMtbIO4qZ68pbPbGirtQjAy8Cy06y2cpnPRelOmwSPaStVVvSm6dOz/qSwNKDkuzDGwFJYPFGNMLnM0JgpU6bhuy75kY4cua2z+sl2JwUraPtPgSZJTrUXgK5E1gmE62aeXn26mN3YRGyvyC5pDh705mpaBjI5qz0KuRl506Zx45DP28saI60PmVdeE8bVvMF877gQXazgMXDo9N/PbX7uh22bCcpYPbZ5cXMTplZ7IKlr1ZIldn8V0pZjL6jGL2u/CsgKgmsod8nGwr5NboHFp3497XiWW9GHieP1UPaau2P5rE6afzR+PyTVWhojNLqTpyP3ZgwJV9XkQXNyZo7SAJLL1KyH08EJIHFE005l/TACpEN8HoJ5ik+7xfqQAeknBFDUPNkgWpuLr37UTsIciewTCZaNatjo4QAy5dqIxUNA+lINK9CvbYkYj87Dv289009Stp1T9NNuPJe3wnzad1j7fCY4O3RqcRdjbS3w5bt9Gbi9fHJTpmtujZK1n+B1+57KOBBnKcHFt2D1vUTaJ8s15W3euL2yk0+0ykJrNoPv8WxGZOYYWV5NjNPrjGA57Oet2xOmk+LtNXay9C+yRh/z0LYkacukCySwNLSkvzdCgQkgWUFqhE8pxEPLJkDy7zB8HoJNi9J6wy8cjNoHZDoV0g9HkVae/MPxeFNYJnJUcLDG8loYuxQfOWlOi9duBldDmdqqU3+rgMBOw79OsRg6uK9Xlq/+GchQaWABNOkYdRZ73VppccEy0HeaH5Ef48XO2zZzL2a1cR4EfV2ysy6R5b+tOrhsve/Uh3CKweWd3Iz7yha15V/9UT/DSkJrIJFL6J7Qj8clXU68ZDRmWuUIRSfBX/Z114EtEjbYNKo5bGyMk+dJLDstQ25WnAEJIElLYQrAswElqxCyAV/Xi/BXIRRTGL2pZrlgGRWdv8v2DwJLDMvynRfodav0S/VRnTCW+fhlvPICKZ2HPqNyBVojNr1QkncDU8uR6+KzjyXcuxcrN4XvD0mjIZSscpNFaS8J1hty2bv1awGxePjhN0ys+6RtT8lsT5evKKNJxaPKoT+sph9R1G7rqJclfhl+RLUNNQF3Lo/gdXYUI8OsRnITRmBbh0GB6723KMEfcYNsyU/G6venNTfQ/S89zQOFO9AbXU14hISkJbdDf2nXoGEzK62biUYaRtMEJ55rMxsWHpgmUFPjjWKgCSwjCInx6kiwEpgJRxxBHq/uUiiaRIBHi/BJkVQHW4mrMHoAcnoPvxJmv37S7By5Tee6cxWIfy10w6ccu25RkVDqD3s7DogWaHzzd2aqs71KsokHjzxhnXg5IFWH/p5YxOIMDWTB463jKGaz67qeMH2Z0YPej3H/Nf3erz02JGBTUdVcbkvq+3RTrLeu77Z8PBQyGy1/QcKieKZB4vuwcw7SjAMtEgJNQKLzkdJiezTLsW6Fd+grqQSqG0E4kgVaEWVUauxD+f5qcfT2kXzsKmwHPWN0W22SnNKDeyTguHT5yAz7yTboAhE2qoJYEUeKzMblQSWGfTkWKMISALLKHJynCoCrARW+uxL0Om668ICTSuS2LIAY/YlmGUtvX2NvlibOSDplc2/n/+L7IrFS1BOKpbRFnIC66k3MKDI3q+C/vgUkKTaGJiEYfnHIyUlzSjMAcdZpXPvF3bv9YnNlcg5EFnJwZ1EYGkRHFaQnNyN2cCE9aTqYkGnYvTcS0Ml2xKtlETeKoj3hdlnjdHnAoVV+WGhXfFhuGKbDvcukr+4+7dJpsLJtWzPgFp1DTFz7wuVzLo2xqGTf0iUOzodA2rPRgz5w6OZsUWt9YOREv4EVpS7lntybS35Iu13VpLo1Mn5GHjuDbbBFMo8VmY2KQksM+jJsUYRkASWUeTkOFUEWAms9uPGofvj/3E0mlo5mjwHj+4l6D02Dzm5Ay3bq5mXYKuEMvp10+wBych+/EMJPp2/CFVZCVwILLMeTMsfX4gBO7sZ2Rb3MVbZsxU6DxSKVnL/WlNJ/7mDynFCmqy/e3lHn4O8kwgsPSFmLGGmVoWQNhDCKZr84dW8++Yd6sdLPu88PLx9zdwPgx2WvF5aOUXU/mOZt67H9pgn1TnAKDEbSpl1bo17N6NYqQli9B1F76YCkRJKAith9VsYefZsZOTl651W9mNEQMsjLtB0oQjTC0UeK0Y4fbpLAssMenKsUQQkgWUUOTlOFQFWAsuVlIQBa1Y7Fk2Wg5TRJLYs4PB8sWNZN1BfI/kleByQWGVXO1B9+vQbqOqS6JnKrAcWncMIFnQc1WnXz+O4HpZZ8VHrz9OerdJ5oK/rVpBlPDA1O4fXG4POU/jpupawyVASWHoJJNbQOK0kyl6PJRInYgn5u3nwHuBQfcDQVL1FE+pQj+JT6nEc+ZjjhMYrH5/R+6GewxK9n/z42sfot72zrvsmq+1ZpSfm94kITuS9/EnilbzdvFeyUTtktQF/UiI2MQkVQ8/wTDNx4kTEkHywslmDAO9E6dZI6dxZ9dyT7dyd8hx66NAhJJFzpmzhh4AksMJPpyHdESuBRYXNXfUDojt0CKncRhY3ShZZ/cWU5SU40L7poQoumArHMPqVndcBiUWnOxP3oXpYnE94HE8PLCqLkS+9Rm2MZe9m+/KwZyt0Hiy0RkRvRbN6oOP9dUEP8pveeg+pXxagpl0JYquqkL0rGY3xHVCf0RO1nfuT/GDsnip6ZaU62DfBhYpfdgckesyGxql6LKUlYHiPbCTvLcFvHy5Dx01uuBpq0RjXDu7EFNRl5aAusxcQZcyDSnlvC+QxldErG7u//R29tpHca1AJCQTxzO3pvITMvPLxGbkfUrtjOSzpJTlFSortRJn13g949qPXXel9axFH/hhtRt9RjK6nHMdixzzWi+Q5PrllBjYUHDIMwdC+yRh/z0LD48N9oGi2LAmscLe4pv1JAisy9GzbLo0QWJ3vuANpM6bbJiOPhcwcgJlzVmzdCvTuzUNsFF++CA0p2QjkHeA9TObmpqH89Q/Ra8MexBVvQuye3xFVX9MiQ8Xxs1BxwsVBZTKaW2LVzXdj1AP/JDenpvxT3rbjRvXS2maAiS4vRvYzfGzPi20geTTx2LIFGDIEICSDsmnNa2b/PMYy27PKorwOxcqptYi1YOSgq7aK2PxviNu1idj/ZsTt3oSY8t1c7LHz0+cgpsJ3Lr162Df9EdT0Gtmmu48HCamohGXLgA8+AD77DNhBktgHaI0xcagacDIOHjUD9Vl99Iqhu59SB16ix72jFMkFheiwowCpO7cic8d2RBUV+c7ZSBIXs7adO4FHHwW+IYUX1q0DKA5BmjshGZWDx+MQ2XtDh05Mq2ley4rZRA8JZNo46czLe5EFQ6WMRg5LTtSBE2VmtSWz/c3aolEbNCs3HW/EjnmsG2lzUM+3eVfPVk3YrhcLmth9zhPzba9OqFe+UPcTzZYlgRVqi7BnfUlg2YNzxKxihMBKnzULnW660VEY2frixInAanS58NUj8wgZlo2cEUNQsOZnnyo3STiMkQtfRexP5PC3f39QfWgRWIZJjdpaHOqVg/aktLF/E5nAaiTuasV/WQx3u9SAuGl6HIwfD3z6aZvxohNYVODihFKUd6tBbJaxJO9mryclaHrDgegBcf/963y8DNuvWoSkDcsQU7qtDYHKyx55Elg0PO/XrjvhSiFeVLVuJO7YhaMfuBUx1YeZ7qeNUTGEkL4IB4+9gGlcoM40P9TOU+p8w+IeeQR48UXgl18Aty853WYeIwTW8uWAgTA8d2wiyk75C6ryJunau+F7m67Z2TqFonAIL7JZ834YAArRDktsGpO9eSJg64dEnoJLAoszmoGnW//cbVi+nLzTmmxjxw1D3uy7Tc4SnsNFuydLAis87cx/V5LAigw927ZLIwRWypTJ6HL//bbJaHYhHvl6mFzXORFYGD0a+PJLBDr0DE/vgOTRY3TBo0VgaXm/BFpk/zVXI/3xJ1V/FpnAqumeh30zHw+KXdBcGy+/DBAiV605gcBSym0kyTuvQzENBc06bxD69B2gacdqYYsZ796CxN+/1hxLOxi1R94EFg33jW8Oo6Gekp1eusRH/sYoUp7tiCOwPS0NNampyNoVg/jSXYgvWouoWl+i6+DR56I8/wpd+w/WiRJYv/fY7Vu4YsoUYPFifXPzILDS04GhQ0mMei4OEG9O18ZqxFRVIG7vH4glXnUu4oeqbAfGXYvK4VM15TN6b9OcmKFDKAuH8Ar3NZp7SLTDEoPaZFcLEDAaZh/q61jasQXGoDLlirmzsGZjienFRgzOQv7t5AOMbG0QEM2WJYEVGUYqCazI0LNtuzRCYLU79lj0fPEF22Q0u1CoX+B1y+93YNx77934X0oOem/PUq3A5t67ET1e9Du8Eq+tqq5dEV3fDvG7f2tZOhCBpdf7RW0PPz33HIZdcRXJVVMHdyyp/ueKJgfsypaurIRBHeoQS/4YbcESX/sTHftPuwlVR5wecKmghOXevcBAUp2Ser1RsiErC9hDEkQ3N6cRWF659SZ5p4Tq6pc+Qv9i81UWWQ7FaqSZGoHljksiuaJySRjhZh/Ch9UevbgoCazKIRNwYOItRk20zTglgVXbeQAq885AxcATsWNCHEqaQ+oGD+yHrZ/9D31+i0fHFS+h/ToSaqhoJWfdj+q+x3GRyccG1AgsmvtwxAjgxx9JQnRFjhIjBNYXXwD//Cdw5pnA2LHA4MHkHkIS+TU35UE3+sAOpH3yCBK2thYQoeGUuy9+CQ1p6nZo5t7GBUzFPrK/IHe2Ru2kz3qvQRb5bP+A4yecaIclFuxkX2sQYMn7Kcp1LO3YGlvwn9Vs/ivvfF1S3cju2hG15Dkal5CAtOxu6D/1ChlWSAASzZYlgWXPtRXqVSSBFWoNhNn6kUBg8fIWMRpCoctkSsgXpy5dgLo6T/cG8sDdfuU7iIlNDjg8lngmZLx9I2qy+6Pk+H7oed55wEiSbyclBXsfuA8db2o9aPsTWGYTMX/70UcYMft6xO/82SNfGfECab/2PZ9cQSyEAZUn4aq+njDJxHW16HKYkEKMLRCBFVVVhuwnz4TLTRLdk0ZDkIqvfs+TIDpQC5prY8YMYNGipqFXXgls3OjxlPM2pxJYXvkDfen2epEcsXQtOi57yNO9vkNn7L7iTUZNNXVn8mok/dXCFtMX30FyXRWjNnsg+d8Az3/r03t4iBB/zykWe/TYCQ3367YLJ879GxL2EdKSNCsIrLSPH0b5mMtQ05MQQ81NacveildeT8yeTz+LXh8vaelbl9ELe2a/YkgHgQZ5bOD55wGa5+2oo4BRo5r+258kkackU69ewLZtrcONEFg6JPY56JLrN/PN65CwbW3LyIMjp6GchBMqm9l7mw6xdHcRxdvEbMivmdxDoh2WdCtPdrQUAW/y+95F6h/o6t212HboF/xxaBW6d6vD8OlzkJl3kqUyBZtc2rE90PPywFKTlubGGtgnJeS2ZA+SgVcRzZYlgRVqi7BnfUlg2YNzxKxihMDqMHkyuj7gnBBCsy/vXmMw8xKvaVCPPQb87W8t3SqHnEo8PW7VHKbs4EM8vPQScNFFLT8XnnEWCk87G4hzITbTWN4j72SUyEi5+mlkftoUgldLKoTtnfUcOs+baZjA8mJrxlsgEIHVfvVbSP2sNVxQC1uaMP+PjF3od+4x6NaNHNSV7cMPgTOaSmkjOxvYtAkg10M4EVhqOYOUREK7Df9F+rL7PBCYIbBYrydWItosgdVyPSnIGt4EFhoIqRrd1jNHjcBqMUOSd46G2SkJpN2XvIJ6WqWPU9PMG2UTgUW3o6zylryrEJ1emdOyyzpCVu689GXsSyhDWeZhxHVP9qlMygkOQ9OIlO8nlLKIdlgypEw5yBIENi18EJ8t+Q7d2g1Ccmw6YlxxJHl3LQ7W7UdR5WbUuVsL0US73Dh1cj4GnnuDJbJoTSrtWAshPr/zyoEVTJpQ2xIfpIzPIpotSwLLuC6dNFISWE7SlgNkNUJg2ZnEnUfSW9aDbyC1WeqBNXw48NNPLUvvm/Fv4pFB/o2h+Rw6/QgsT6gOqR7Jo62850kcP/cGEp5VhUZXFPad/xRquwwy7PFCCaPi09w4akw+zIR7BiKwOpIcQ3Ek15C36cWWyrUnYT8a8jvg6PyTgYMHgUGDWqvEvUk8j6ZNA/Lzw4rAojgpySV/LxIeBJYmQaJiqKy2YZTAqic5qnadUt+a0NxKAivABRmUwKJj/vEPgCZZb277T78ZVUNP43F5t8wRlGC0kcDyCuR9Fhw/fRpiapoqFtYnJKJy907idJrGde88JjP74YSV4NWSOVTeYKIdlrRwkr/bgwAlr5a9z16peOLU0Rgww34SS9qxPXbBowqhXklDZUt65bOqn2i2LAksqzQt1rySwBJLH46XxgiB1ZkQIWkzplu6d55Jb1kPvoE2xpKvhwmcDRs8SZu9zePVcjkJUVPkg9E7X8uhxyICix4iY0achqSCHzwiHTpyCsrG/93z/40SBnSsV24zZKMagRWzrwCdX2j1RDOCLSWydrbbh+7fv4Cu/13WpIrTSf6spUub/n8YElje8L6SPbsR9eJun/w9PAgsIwl5N65bgw5vVJJk3q15koJdF0bssZ4kMz90bjKG5LWG8ynD5bh7YAXYgNKWTzzxeKSnZ/r2fOYZ4IrW/Hf78y9D1dHn671N6OoXNMQzBARWi9A01Lq4uOmv7UgYcGVr3j1dG7OhkxlPUq94rCG2erYVitxDdh6W6OH31/eexgFSFVfmvtFjEaHpU7L+C7x230NoaCQ5JBkb9Z654OYbkJGXzzjSXHc77dicpM4fzSsPlhYSobIlLbms/l00W5YEltUaF2N+SWCJoYewkUJ549hDql51PHDAszda76mgdx/UxcX57jU+Hrkrv0I0Tebr32hoSzeSUHffvqZfjjkG+O47ZqyYX7JPIuXfx48PuI6oh4kWgf28KSqOuxAVJ/pWJtMLYsuh5z1SPUwRQsjLA2vT36/DwEf/5RGnoX0Gds9+DY3xSZ6/GyEMvPvyyv3j6x9jQFFXvdv16adGYKV8/gSSf2zN0WQU27gdG5D1+tWeSmgNcfHY8d8P0fNkkniaNkYCK2ntu0j79N8tsh/uczRKz35Qm7AkeYYy3rkZiQXftowtO+UaHBpJQkMtaJSwrdt5qI0+zBBYZhLysnq0GLXHNkR1iD2wUhCF/MnNYatePT9EcpDd0OqFsGXOHMSmkhx4nFtA0j5UBFZVlSfHH8lC27TTIUMA+gFAsCbyRxNlSGZCY3wb5HjnELPjsEQJkbWL5mFTYTkJQYtusycRc99EMtlmlqAY2jcZ4+9ZaOtVb4cd27ohgRczQ3CybisUtsQqI+/+otmyJLB4a1jM+SSBJaZeHCuV8sbxvz45GFpY0LKXElLWfF9WR5+9JZJQt14LXlff70LyQjFzZutv1AvowguZsLEqzIH18OsvNO9wjpb56UGMkn7KKnaXLSSVtYyROHRez6HzAEkKz5vAKi1FLSE14w5WeMQvnXwnDg9oTapqlDDwYuEhTPZVYsAfxMPCQGtDYNU3IPupsxFdSaoFNrdiI9iSKoudXrwYsaVNSatpwvoDx0xDsZc4ZSSw6Bzpi/+JdptJFbbmVj76Uhw89oKgu27/wwKkriCeN82tKnc09k+92wBS+oZs6rUTfba1TbBrhMAyeyg2QkIbtcc2ocIKsmb38NGoH2cd5l7NKG25XUk1xl3i5/F6AbGV115rVeRbb+Fb8lFBb7U7fRZAPCP77cJY/7Xp4FARWC+/DMya1Sr+zTcD996rdzu29TPjSaoU0sqw9Zbw/BLiwVZLPllxyI+oBrDVhyUaivbx4hW6vHlEyH3jRLKN54XDI0SMEpJznphva0U5q+2YJ8bhMJfREFPWvYfCllhl5N1fNFuWBBZvDYs5nySwxNSLY6XyDyEctKUQSYcPe/ZTHx2N33P6+niGpJDS6l3ub0rg3KaNGQN81ZzTgJBf2LkTINX09DYrE81aObfe/an2UyYFJx1quh2Bfec9YWpKz6EnmuiQN4H15z8Dr77qke1wn2NQOo14DSmaUcLAOwWVmyaYz/mOeFgYaP4EVtJv3yHznZtaZjKKbYeVz6PDt+TgTFptx77Ye+GzQFRT4m1PKNw99zDnwHLVVKHjK5cidv92zzyNrmiUzHgENT2OVN153I7/IWvhX0klxQbP7/WpXbBn1nzi/dbeAFL6hmzpUIzeFSRRvV9jJbA2d9mBURdOMJWnyIhHi1F7bENWK8iaGlKFrx6dEU9yqkVVEm/VRlKrMLEDGkjYb033I1Cdcxxquw3VB3CQXj4EVvFhjLucVL70Nhoy17kzid891PQvUSQMZ/duICurJeF5322dEYO2niisggUk7kNBYK1bB4wlXo+ESPe0TBJWSSuAdvT9yMK6Ryv6m/1g4pXJsg8nVmw6wJxWHpaMHnJDlfvGaWSbFWbCK0n32HHDkDfb+o8JXgystGMrcA6HOVmuFzP7tduWzMjKY6xotiwJLB5aFX8OSWCJryNHSehPYGWXHUC3Xbta9rAzuwsqFOGCqSRpdfZdc9vukVZjowmuve3aa32SDOsBJdBLv/LArGceI32KSc6phpS2h3U6l5F8PbploEnA3367pfv+025E1RETdQ9X6+g59CSSJMc8CaxPPgFOPdWznDs2EXsueZngRQ7RimaUMPBOQeUeNfNUlNy/FvGNfqGrOhDxJ7Cy3iVeTr+uMIVtzD5S9eyl2YQ4qvdJWO+dlIbEdf78RiSu+rFlnWC2pNxG7N4CZL16OaLqmyotNSSlY89FL8BN/qtsUVVl6PjiJYg51BSa2xgdh73nP4nDnXMISdG2gp0OqHR12Z60F90r25IDzARWIC8eXVI0dTLi0WLUHoN5YOkRuabrUJSNvQZ1nfvr6a7aJ6gH1p13+hZkOJkUGPjsM595lj/zBgZsNe7F2XJNhtIDq4GQtTSk/eefm+6Rzz1HGGQSpk5be0Lc0hx0o0cbxtjKgUbsVU0eKz2wrNy/cm6rDktmwoxCkfvGaWSbVfaxYu4srNlIPMRNthGDs5B/+4smZ9E/3Co71i9BZPYsXb8Ca94k4cEFZarhwTxQsduWeMhsZg7RbFkSWGa06ZyxksByjq4cIWmbJO4kpK0vCSOMbc4xUpmYiKIePVv2ErAC4V//CvznP039aPLxzZubSr3rbMFChEJFYJnJ16Nr2/Rwlk1Is5pmAoPkVtp95WLiVUMSE5tov2fsxElZHAks6vFBc81s3eqRiobQHTr63DYSGiUMvBN5D2tGvReUh/7hK2LQ7fEz4WpoOvC6YxNQfNX7bNgS75qsV69EfPEvnjkODZ+KsnGEmPVrSe/OQdrvhMBtbmtImFP6pu4+ic8DqTP+fx8g678Pt/xcTSpPlkwn1eVIdUdPI3mvMt+6HglbVrX0OUCS5leS5PmUWKW/8w4b8y60lXhg9eLhgUUJ1SsUHkQGbNuITRi1x2A5sPSKTknGA+P+hqq8SXqH+PRT2rJPDizqcTSCJJhvvmd4BlGv1xNP9BlvxGNNTVBbc2CtXg2MGqWN1ySC6aOPAn2Jd7CgzXL8Bd23mlhWHZaclEfJaWSbleZlVm9e2ezOXWSVHVuJdTjN7ckZ9z4p0LBrJ2pJFdq4ePJOt3NmuQi8AAAgAElEQVQPdpWxFwLwx8VuWwq1XkSzZUlghdoi7FlfElj24Bwxq6hVIcwsKUFWaesXsoJevVFLkrfTplqBkIYc0spQZWVNuKl4BGgBGuyF324Cy2y+Hq29tvz+1FPAVVe1/HV3/kmoP5p4V5hsDaSSWmLad+h40y2tM/3zn75eGyxr/O1vwGOPeUY0ECJr6+n/Qrwrsc0MRgkD70Tew7LRcE/lof+Ep1Yg45PWROmVg0/FgUm3suwa7Uny91SSBN6z7/aZJGH9qy0J65UTZSy4Gonb/9f6T1u2oLC+GoWfrkOvokxoJkq+i4TkvvJKy/iKY/+MitGzPX9PJqGLKSSE0duqBpyMPVNuQ/HJ9Thu3DjPP2slZWbadHNnzzXQs0TViyecPbBUK7/RcLm6OuBPfwIo5kNJiCAJ4SvcsRXbl3yLvj9VoMMfq5H0vw8RVUuSjDe3RkJC7ptyB2pz85lVoFqFkBLJRx/dFDbnbdTL8oUX2sxvJGeY/yS2VyHUIrBISDuuvhq4/nqgq3nvMmalMAywHH8GWULd1YrDktPyKJklbcLpgC09sEJ9RYbP+k61pVBrwIp7spk9SQLLDHrOGSsJLOfoyhGSqhFY0cT7ql/BHy3F6venpmFPp04ez6rcH75vW4GQHqAuUVTNIwmFcTZbZbRQhFzYlcQ2oCHQw+iqVs+aQ4vfx57v2hsKn/Nfo3zXAgx+tTXht+EqhFS+Y48lLkzuplw7pKrk8tWFqpUCzRBY9YR0KxxRhhHjx3hyJRlJ5q889E+44mbiOdXqFbVvxqOo6Uk8V3S26PLd6PT8hYiqa8oHVzp5LklYr05EZC24BvHbSX4ebyMElifJNWm6bIxWVjvqqBZighIfJbQqYUwsMt/4O1yNTXmvatO74Zvb5qLnGceiT98BbXaiXCtlezyyqzN07rZtt52J+3AotQb9i0mBAb/GSmAF9OJhkM6IR4sRe1TNOUTD82h+vxj1cE0v7q4/dmDoM48h7Q/ifdrc6hMSsffSRXC3S2XYLSFMoxqx7uimirATJ05EDCVvaLjxO++0ztOvH7BmDWE5k1XnNuK1ppwoaP4lK3JgaRFYXuFoZdxrrgFo7jn/KrlMKFvb2VL8rRWd6+xWHJaclEfJaWQbV+WrTOYk3SnFt8KOrcY63Od3qi2FWi+i2bIksEJtEfasLwkse3COmFXUCCy6+S7ETTfl4EEPDg2EuKDJ3KOJ10G/r75siw09fP/YnAOIJhcuKgJiY5kwNPuy713MMUlv/XOG9SRhmoT4WP70IlVyiAlM0jl2wwfotKw1NM0QgUW9Tmi4krdMPfUWe+IJBPKQMkIY+O/L4/nTvQS9x+Zhz9btTOFx3kN/++3bccpf/tIydT1JsL2b5DjzhLbqbJlv0rC9Hzy9D+cci9KzHwg4MhiBpXO5ppDbkSMB6mVDWi3JO0eJrPjyJq/GBnJQr/r8MyQff4KuKY14sXV7wOJ8Qia8AI14tLDaIw0ZbrwkW5Uc1AU67UT1dwLREU043tzKjjoHh04inkMMrQ2BRb2O/t3qUYhUQoh9/TUweHDAWY3YgHcyTSysILD8d0LzXRFvYA+Wi8j1S6vc0nuSt40fDyxZIiyJZSn+DLYU6q5WHJac5HkhD9m+FuhUQs8KOw71ten09Z1qS6HGXTRblgRWqC3CnvUlgWUPzhGzSiACK5F4hfTaToio5raLEFPR//gHOl13nS82P/0EDB/e+m+33QbcdRczfqHwwGIWkueAm0h1vAcUpMj//R8wd66HHIp5YQ+pH2auglibsEsj5AHV4+23N+2ahohS0q05ob+ahxQrYRAMTk/+sZPq0LlPj6CheMo5vIf+QSQcr9+777b8VHHchag4UeEhqKHHdj9/jPSlxLuDtEAJ65VTcCGw6IQLFgDnnacuHU1gPbsprFBvY/ViE5nAontmJblZ7ZFbsQbipYjjjmtRUw2plrfvklZ71KM/JYE1iRDI0fT+4G0kLyFoUQVKlGk0VhvwTqeJhR0Elv/e6LPmjDOaqtt62803A/feqwVDyH63DP+Q7Yh9YSsOS2ZD8ry7sCM0z0lkG7t2jY0wqz879Oa/Myvs2Bh6cpQSASfaUqg1KJotSwIr1BZhz/qSwLIH54hZJRCBRQHovXULEpqTBR9OSED0H38gzj/3yGWXNVWHoo2GmNHwqR49mPEzEiKktgiPcCVm4VkH0HA8ipHyIEawRU6OZ6YVD72BvqXmcryYJrCoR9CwYa3JolXCQunhTJlAnJUw0AOb9yDtH4qXVBLbpkKe59A/qhTjL70UiaWlLdMXX7YQDWn68KQV/zrNvwDRh8s94wMlrFfKzo3AopPOmQM8+6wvNBdc4JMjSw9u3j7+Ogo2VnQCi9WjRa89WlKsgVZkpYRvc1v7/PMk0X9vXYn9qTy7CHlbQnIL9vrvf5E3b16r2mgY4/vv07hC3WbAYgO6sQgFgUV3TL1B6QeT5iIjoGQe8bhEhvFwWd1AGuxoCf4GZQnFMCsOS04ihcwesL06CwVpY5W9ODGpvRV2bBW+kTSvE20p1PoRzZYlgRVqi7BnfUlg2YNzxKwSjMBKJUnZs/fsbsGi4t770OFm4jnkbRUVTZ45zWFPnq/jH3xgCDsjIUL+CwVNOmxIKosGffwxMGFC6+S0ghitJNbcWD1N1KQ0TWCddRbg9WKih+UPP1QFQ5lAvNdTFyCmotVedtzYuiejSAYKZVLDiBJYO+M+x3F3tibCr+l2BPad15SIXU9LIUnbk0nydtpqO/bF3gsJmRSlnvvIOx9XAovm9nn8cV9R33gDmD5dj/iaOlJLKM86sd4cWJpePKwLk/4sHi1aBJalxRqotxwhrVoaIXsLe3fXndi/R6++WH/DDRhOiie4KOFNGw2BffXVwF56QfDUSvTPjEWoCCy6xz//uQkHb6MFECjJK3Djjr/Ae/UXzYrDkpPC8pxEttlpVpsWPohl77O/I0ycOhoDZtxgp6ietaywY9s3EaYLOs2WQq0G0WxZElihtgh71pcElj04M62ydetW9O7dW3NMUlISDh06FLDfQZJz6lFSHvztt98mjkxbEE0S9+bm5mLmzJmkWN1VJK0UW14pTYFIh2AEFj040WTu0c0HqIOkbHny77+3Tvvkk01Vobxt6VLg9NP1LKvaJxBxY0cVQo/nWHPibcMb0DuQ6NOTz8Xb5s/3SYLPI5zSNIGVnw98qZLvTO8eVfoZJbTU8pqpYUQJrOivb0O3lStbVt8/4QZU5U3SLXXa0nuR9PNHuvvr6qjXtmiCbrXiB2lpwNq1pu3T68WWuK4WXQ5n6RJdrZMWgaXbi8egBHo9WvwJrOXzCRFY20hyJrkQm5mEYfnHewoGWNJuIRVA7yPVJb2Nhoeee67nb3oS+ze89x5cJGl7VENTAn9Po1VLr7jClLh61ta1gAkCq0WGfSRfmFcfWQz6oITVhRe2iknD2h96SJfYoe7EDf9Qb4RhfSsOS07KfeMkso1BrVy6UuLh48Ur0NBIvPc1WrTLjQlT8kNCXlHRrLBjrT3L3/Uj4CRb0r8ra3qKZsuSwLJGz6LNKgks0TRC5OFBYFHCauzYsSgsLFTd4QiSTPvTTz9FGj3McmzBCCy6TKe9e5B+oKkalpt4ANSRqlfxRx7ZJMERR7Qm+KYHmoKCpjBCgy1QiFBYEVjUa40muifhQZ7Wrh2wm3gtKSqJ8QinDCcCS82zTonR3qi9WJr6Fiob9+Du279FDE3+TFpDbDx2X7UYjfEEY53NDgJrx96teH353dhdVYQadw3io+Ix4GAqLr3jI0RVNBVOACG7Wzwb6d9poQRKzDVXXVObo3O7HjhvLCHwOpJr0a95+xcf2orq6sOId8chs7YTJpZNQ0d3R13oeHHuQ5Jqn7fwV8+YsrR2KLz8Fc8cSi+euA4JeOG/t+CX6k2oiKrDIUIu1jbn0Kd3iFjCI8UTx6IUdwzS0R7topOgJr9yn1UNlSgHqdhIWnt3AhLq49DxcCdMKpveZg87onYg95lLyL2r+TojY2Y8MwyDEgbi4tPuVcVIFwh6O/3tbwDxnmppNOxv8mR9oz//HI3kQ4CrOXzbM+j++4Ebb9Q33o5eBggsen/fsnw9em/PUq20qizgkJM7MPAuaP6vU09t/Z2EDLcJu7UDA7mGLgSsOiyZDc2zKyTPSWSbLoVy7lS6fgXWvDkPmwrKUN/YNvdnjKsBA3NSMeKcOcjIy+e8uv7prLJj/RLInloIOMWWtPZh9e+i2bIksKzWuBjzSwJLDD34SKEksJYtW4YTaUiYSnMRAoh6Yfm3WnLgHk7yemzcuJGk9EjEgw8+iKlTp5KCS3V4+eWXSW7vuXATL6hx48aR3L3k5Z1j0yKwYolsOVsK4a3fVkZkSKUyfPONbxJhmkiXJtQ12dRChMKKwKL5wmjeMG87/3zfcBjy7zzCKU1XIRTIA4tC5Z/bjGK0/JHnsDxjMX5MLkdNlAvnrCjH/71E8uE0t2XHpmDJjMGYUHoWRtSM0mWZVhBY338wD8eccRm+XLMYi9Y8glWxpR55vS22zo3X7i7EoG3Vnn9qJPcJFw3FpaGmpOpjS/vrX/HlBSepzuHtk+BuxKi6DEwf8XeMGTE54JrK/iMPpgTFaE38j/go450WnCevPIC7n29KpL0zIxZTHsrFkVUdcGbeX8j9qx1eWn0PfoqvQgND1Ud/+Y/sNAY/7fmyDVZqSqR7PrIyGSMbxgHRLnwTvRTrE6ux9Lrf0LW0tWrd0JeGeIZHN5L+Ne0wa+StHowsaTScWhl2S++XisTuAdf8/nuQGz2Iq25LFzcp+BCl9OayRGDGSRkJLL1ec1QKbwGH42iVQbVGPJRBvNNaGgm19CmIwbgV2d1aBKw6LDkp941TyDZrLSH47JTo+/X9p3GAVMCuralGXHwC0rp0Rf8pVyAhU18OSyvlt8qOrZQ5UucW3ZZCrRfRbFkSWKG2CHvWlwSWPTgzraIksL744gvk08M/Q3uCHFL/8pe/eEa8+eab5N1c8XJO/o0SWjc2f33/kByKJjIk8NUSQ4vAouO7kyS57atIuAdp1eSlIpZ4ZUWTkEa89lrT9NQrhCbS7ajPk0NLJubDzsn1OI4e+pzQaOUwepj1tuXLgVNOaSO52TxY5bsWYPCrz7TOa6QKIQOeVGdHTbuQew4srwib++3C2Eta80A98c51eOHgR+Sw20oEvXLPFhz5e5Od0jb7hl74YVB74u3TiJnFR2NG+SyGHQXv+kbKS1iQ/YNn/RfuK8SoX5s8g2g7lRA6u7LINdHc6Pon1HXC17F7fOT1/n7by7sw/Yv9Lf1fOi0Dhy6ZhavPIKTw8ccDq1e3/HbdVd3x8agUzX1orek/QSCMlPv0jvEnsCb8q7/nJ0oM0WxNlIAz3chcnpxPDI2uT0Z5PEVp++gfv6oSWN4paf/ZyRNw9VkPM6yioysln7KzW0komnidFhVoruAZcIb//Q/k4QE0e7zSfoXkXt+DeG/F0DlEagwEFkveMuUWA+ZQox9KqEeat9GcccpQdpFwkrJYGnrllNw3TiLbpMmqIyDaoV/qSSJgFAHRbFkSWEY16axxksASUF9mCazBgwfjl19+wZEkNG8tzXXj16gnVldS/W/fvn0e8oqSWLyaHgKr/aGD6K6omHfoH9eh/RPk0OANcaEJpmmiaY4tLJPe0kqD/fq1okQrEZL8aWoHddaKa0roqQdDUur36HgTycPjbRYSWF5Zuz810zoCq+dOjL1ihmc3lLyad4h4Jyla9z01WHZja362YuIZNP7hXB9sZ+06GtPLFblzDNorJXVe7rKqZbQWgRVsmdO+L8ODz+xo6bK2XztcfFNvNBBPossJuXLVkVc2VV0jBRVoq0iMwvQ7+2JHx1aCzOA2VIcpMfLfp3dAIAKLpxw85tIisLxreHA+k2MOJVpE4I47WrcwerR2Pjl6b6Dk9p49LeOKTj4ZP5EPGxMnTXIsgWX2PtZ4STb69B3QimUVIYr7E8J0R+s1g19JOCvJFSmbmAhYfVhySu4bp5BtYlpR6KWy2o5Dv0MpQaQgIJotSwIrMixPElgC6tkMgUVzXuXk5Hh2dc899+AWmvxXpV1K8nzMJ8m+ExISyMf8UpI6SX9en2CQ6SGwQDwVaBhhHCHSaHMTGaKqm8KdPG3FCmDMGEs0E1ZJb//v/4C7727F6bbbgLvuCoibKc8FSjhedFHr3BYSWF5vMa2qb4E26h+2t//0m1E19DSf7l4PLBqGd+2GW9t4Ml39zh7MWbKvZcxzZ3TCf87yTVROvYzu2HIxhusIJ6xHA2LQNh/HD/Hf4Z7er/isb5TA6rm7BovuKEBSdVOVuf3J0TiHkFN70puKNVB5HzviXqR9/h2GXN/qcbKxVwIuuLUP6mKN55sLpAsvRtST6c7eL6h6jIUbgRVDcP4PwfnE4X/yhYXmUqPE0qBB+u9tS5aAxH+TBGyK5OskITumTAk8B71Wqafdtm0tfdzEC3fJDELYkkIe9KOFaQ8seo8+6aRWGej9mv6b0abTAyuQJ6mrphLRFXtRnxW8+IlPAQdaTIRWIHz99VapjzkG+O47o7uQ42xAwI7DklNy37CQbS7iz9qrYwzaJ7dDHHnnSsvuhv5TxQins8FshFvCDjsWbtNSoLBEQDRblgRWWJpZm01JAktAPasRWDSvVVxzwuVgItOKg96QweUknOwUlXAyOp6SV5TEom01CSmiSd15NF0EFlkog5BmHUtaCYKWtQeSZLvEe0w2DQRoSBStVKk4pIJWdCSVHYM1w+GUL71kC4GlzNdlJYHlzYF15bNjsDK+NdzOgx3B9iO/fEeTHxiEwk5tCZ4Tyjvg1l2K8KMA4G/qtRNx2e1RV6KolEYq1y3a/QBWJjR5Q3mbEQIrvtaNBXMLkLujxjONm0S9XXltT3xzRLLP3KNr0+n2cOw7G3HBJyQMrbktPCUd917QxZLLjmJE29cppOCASgs3AotukeL85KV+VTep11t6OnDmmcCsWQDNyRTonl5S0lQJ72ESjthctdUDHfGiwmefBdYTDS2kHlrKeyghrOrfegtLm/MdOpXACpbLL7q8GJ3nnYvDuaNRNeRUVPcmRQqi21bZbSngsGFjUxL7b79txZIWDKE5w0bpy29nycUiJ9VEwM7DkhNy32iRbZS4Iq7DJBy6bQi1J6F5nxQMnz4HmXkKQlpTC7KDWQTstGOzssrxEoFgCIhmy5LAigx7lQSWgHpWElg0HJD+nV6Q8fHx5OP9IM8XdJrjqqNKjijqdXUb9cQhrYBU8evTp4/qDj8jhyBapZC210juqfPOO48LEnoJrOj6evQtLEAUPU0rG620dc01XGQJ60lIZTGfXFc0XIhWldPRgoVTmk46btITQ1kN0CoCy3uIPVhTjilLJ/kkQKfwHfXLITz/4NYWJEsJqTruxgTUkT/+jSb8nvf7nZqV9/yTxtN5aEU8tfWNEFh3Pr8DZ65sJcKenZSFx8/upCovPc5QTuSlewuRV9haVe8fV3bHJ0dp58PSYWI+XShGdM1aRaJ5ZQeRCKwu+2rx8fW/sW7Rp/9FN/bChv7t8P7Epb7VCSmBpaz6Sr1eaeVV6pFF/514RXhCO3/+uYlIUVYNpCvQfl9/7TuHv6T+RLPRnWhdx0Y8sGh4MyXdTbR95z6Gmh7NVWsV81ACK/uZ1px27ph41GXloD6zF/HwbY/GmAS4aqsQfXAvovb/ggRKECobJa9efLHJI0s2oREQ7bAkClj+ZNuhikps3dugSlz5yxztcuPUyfkYeC4pYCCbLQhIO7YFZrmIDQiIZsuSwLJB6QIsIQksAZTgL4KSwAokXho58CxcuJBU/1aU/yadr732Wvz73//2DDt48CDat2+vOsWGDRvI2Ykcnkh7jJBG1zCQRvTmEKjR3zp1ajo4f39EHilP3xTOpNa67tiO1OZcPPT3RnKga6AeRampAmpFLJGiSDhflDfpPRGtYd48NF58MZOQFRVl+N/K74hXEMkDU0eIxFgXhr7+LDp/Qcgxg62ReH80BPMQ0Zj3i5feQW4hSVhNWtenpiOmfHfLiG03+3m0BJgr48P70H7DRy2/lky8CZVHtIYQ/tZjF06afTYeefMqvFH3Y5tZ7nxuG874ptUr6ydSYODyUT+qElh08Fl7B+L8A3MC7qzGVYPMfxxJcm772nWg9Z+973eM/LW1atzEhwahOCs+4PwTvynFXc8Vtfy+pn97zLmxL9wBCCNvx+ySWiz452akVDaFpx0k+bDOv2MAtncKvJZBswg67IyVpbjz+Sb5d2XEYdK/BluxjK45s/fVYOn15jxALyXYrxmYjHNjj8K15yiqPpJ7XUyWbxiqLqFIJ/c558D95JOa90YXqTIbPXu23mkD9tO6jl1ffono5g8gdBKt/p6FCIEVo8zZZ0DK3TP/jZqeKgRWWTG6Pd2U0461NXbrBvdTT6HxNN8wY9Z5ZH97EKCHpY9pRVXS6PuP6XBYe8S2dZVf33oUHy9RFHfRufqEPx2P3LOv1dlbdjODgLRjM+jJsSIhIJot03NoavM58hApgpOUlCQSXFIWTghIAosTkDynKSoqwmWXXYaZM2eSfMvD0YMk56Yvab+S5LIvkS/sT5KDTAPJiZKYmEg+yH/t6eNtdNxzzz3n+StN1h7o5e53Em6W25yo9t5778XNtBKTzubSWc3rDZKInebYCtSy1q/HcTSXUnPbRsId1zVXT9QpSkR2iz58GBMIgRXTnDesnnjmfUzsop7Yg9l2JCEze5DKl0ZbCfEY/IZ4AfJo40iIaztSaMDbFpPqaXqa/x7WEpvaHiCU1n8+K7HVIzvtc/yttyJzIwlxam6fEHLycDMp7D9HMqnWOfr661tsoSYlBSsefRTVNFRNR+u0ahWOvu8+kAeBp3cZ8ZBZ+cADcOsIV9Yxva4u3QnhOZxWfiOtihA8nzbfv3QN5twpkSQ9Hz8nMBmpZ7mvSR660qFD23R1kfvxgEWLkEF0m0q8Y6NpTqwgrZ7oYC8J7S4kSddLyXWlpymx1NM/UB+t6ziDfAA5gebga25a/Wk3q7HtRp6FHUnREopv4n6/sGC/jdLKluXEO5kmtqf/a+Bw7zSDtxwrEZAISAQkAhIBiYB5BKrJ2WgGzflJmiSwzOMp6gySwBJVM0Hkep8c5M8keVQayaFzDAn1WKFInqsksCgrHk2S9qq1P0gy4X7NX8ODJXtXG8uLwBpAkuf2J7lZvO1LkvOlzOQXegeqU4osEZAIRBoC5ANE8q5daFdcjESStyqGkNJR5H5dT7xQa8nXwkPEK6ickImN5MOFbOwIJBBMk0llwcS9exFHvsBGEfKwnnxMoSR/VefOKCPkVb38KssOrBwhEZAISAQkAhIBgRGQBJbAyuEomiSwOIJp51SUXV5EvubTtpNUnerSpSkBszKEMBjzHPIQQkK+5f66GbHk0EabOy8PbpJMXrbIRuDrpf9F7x/452Gqd9Vj95h6HE2TYDe3G1/6E76IbQ1R9Ec+FrG4JbWpiue9ZfcGDCEcU5aJv+1pyjvn33bkV/usqfxda/3ItgTn7/7kumzcP2uxEBsRzcXfCCi87g1bji7HCRNluKARHYgwJhxs2Socq0t34YW/X4X6RvUPl3rWpYndL37kSSRkBC7qUbrhK6x753n8uqVCdS06R//eHTDsrEuQMZQUlZCtDQLSjqVRhAsCotmyDCEMF8sKvg9JYDlUz68T76Xzzz/fI/3SpUtx+umne/6/Mol7YWEhyZmrnjT3c5IE3FuhMBRJ3DuUl6Pr7uIW9CsvvxxJTz/tUG1IsXkhEKzSmJE1aML2rT1K0GfcMPTpO8BnigcWzMZrdT8EnJYSWP9MbQpxvbPszoAE1vQ9gzFr/1U+89QRwqz45HocN25cwPm11jeyXzlGHAQuiD0GN8xsCucOdRMtyaoRPHjcG1qqEKaQpPmyORKBcLBlq4Bf/9xtWL58nenpx5LnZd7su1Xn2bTwQXy8eAUaGttW5fUfIJPDB1aFtGPTZionEAQB0WxZJnEXxDAsFkMSWBYDbNX0n376KanCTsqwk0bJLJovi7a3SEjeOSThL2200uDJCo8TpSzPP/88Zjcn+/3xxx8xcuRILqLqqULoIond+2zdgjgS1kFbPQlzLL3jTnS67VYuMshJnI3A8qfewICiroY3UZxQivLuNYjNTMKw/OOREuCwGqgKoHdhPQSWfxXCYISZ/4a01jcMQJCBWhUBw2VNK/bBMmc8uce1qULIMgHnvqK9YBrdntl7w+aeOzH2CmPJ3o3KLMfxRSCUtuyp9Pfe0zhQvAO1JM9KHAlLTcvuhv5Tr0BCpvFnFi+EVsydhTUb/SpsGph8xOAs5N9OqnL6NUpeLXv/K+YZJ04djQEzZIVDJXChtGNmBcoBEoEgCIhmy5LAigxzlQSWQ/X86quvkorfTSW/lR5Y1OsqJyfH8+/BkrN7c2XFkwTg+0nC23a0pDuHFpTAImGD8bU16Lh3H9pXtVYy3N2xIxovm4Psu+ZykEBO4XQECn7bhKgXdyO2kT3/D/V8arwku423VSBMrnx2DFbGqyd81kNgHXcwGdOirwHiXJqEmZoMwda3Qo+ja9NJ7jwE3HO4rGnFPljmpDg/eam+qpks8xrtK9oLptF92HlvMCqjHGctAqGw5ZL1X2DtonnYVFgeMGRuYJ8UDJ8+B5l5J1kLQJDZP7llBjYUtFawNSrI0L7JGH/PQp/hFIPX7ntIl+eV/7rUE+uCm29ARl6+UZHCblwo7DjsQJQbEgIB0WxZElhCmIXlQkgCy3KIrVng7LPPxjvvvOOZXJkDi/590KBB2LRpk6c64Zo1a9oIQG823UiS4D2k4hYNPaQEGK+mRmD12VKIWOJtRSudufwWqiYE2paevZBOqup1uulGXmLIeW3OIzAAACAASURBVByOwLeffIIen7NXVSw6pTpo2J4/LF+uWYxrN9yKOpXKmloEViyx58eOuBcnDv+TYbSDrW940gADvfK6idyB9mzVmp9tWIB30FpZkfc6Is0XQ/D9j0m74L0f0V4wzezPrnuDGRnlWOsQsNuWnRQyZ6UHlllyTI0Us85KxJ/ZbjsWHxEpoVMREM2WJYHlVEtik1sSWGx42dKbElJduwZ2R3/zzTc9JUJpFcKTTjoJNJ+Vsj1OStJfcw3xCiHt7bffxllnneXz+8MPP4zrr7/e829LlizBJFKmnVdTI7ByCv5AXHOyduU6daTC1rbuPVBHysV3vuMOpM2YzksMOU8YIEAPqtlfEBpJhyeWnpxTgSB54p3rMO/Qx21+1iKwLk+egKvOfMg00oHWNz2x3wRKee1cc0jPE/BXQhI2qJCEvPdo13wJ1Q04/9NS1MS68Or4DCCqNR8ML7vguRfRXjDN7s2ue4NZOeV4/gjYactOC5mzKgcWDZ2cd/Vs08nh5zwxX4hQS/5WyT6jnXbMLp0cIRHQj4BotiwJLP26c3JPSWAJqL2sLJJ/ID8fU6ZMwZFHHolOnTrBTXKq/Prrr3jllVcwf/58D3mVRMqAf/PNN8gjFfyUrba21uN9tXHjRiSSsuGUsKJz1REvqJdffhlz585FAynjPo4kmP6EkAQ8mxaB5SaH2LrYWBxs3x770zPQQPJfuYiM/b5cgegOHXiKIucKAwQK/9iMwk/XoVdRJhIa49vsiCXnVDA4KKHzwsGPfDyxAhFY1JPpkg6ncSGvvDKprR9IXrr+CXWd8HXsHlXPMf9xgeRlXfOY2gx8G1eqi4hSrnnRvKOwOuFwGFgj0HVPDRbf9gfi60gcZnPb3D0e0+7qh2iil0s52wUv0ER7weSxL7vuDTxklXPwQ8AuW3ZiyJxVRJNVxBg/q3DeTHbZsfOQkRI7DQHRbFkSWE6zIGPySgLLGG6WjkpNTUU5qdIXrHXp0gULFizAmDFjVLtt2bIFY8eOBc2JpdZGjBgBmgg+LY1vNSY9Sdz95UmdNk3mv7LUopw/Oa1Atm7FN6grIbnTagl5YDDnVDAkVq79AG+s+RdWxZSiOorktPKrQhjtrsVR9RmYMeIfpsIGA8ngv75/P5qAXbk+a3+1dfXMMaQ2CZSu+TmuEjUEl2DNX0aaqH7Sskm6SC9RrbRvtQsdfy/HM/8qahMCTWV2k/9d8sxRuHjUrZbYBQ9cRHvB5LEn7xx23Bt4yivnMoeAXbbs1JA5K+S2MjTRnDWINZolyb9ddiwWQlKacERANFuWBFY4WlnbPUkCS0A9v/vuu1i5ciV++OEHT36rkpIS0BtEenq6x9uKhvxdeOGFSE5ODir9wYMH8eijj3rCCCmRFU28nXJzcz0VC6+++mrEEk8o3o2ZwCKhN30+WIz4vn15iyLnkwgYQoCSLguW34O9VbtwYtZlnjl+q/wvzh17E7p17GVoTpZB3vV3VxWhprEa8a4EdG7XAzPH3qq6Pmt/NVkCzeFyRWNhzde6PL2iiAfS+fEn4Ppzn2lZYu7LM/EWNrBsX5i+NGffk19m4cSXVgSVqb5LNmJ27hJGbjVBRHvBFBosKZzQCNhhy1Z5MtkBrBWeY2ZJMe++wzUPlpEk/3bYsR32JteQCIhmy5LAigyblARWZOjZtl2yElhJY0ajx7x5tsknF5II6EVAtIeyXrl59TOaJ0uZA2rGvCOxMaGel0i2zXPn8ztw5soyfetRb1nBw58j3Zb1KVL2cgICdtiy00PmeOfukh5Yga8Mo0n+7bBjJ1zPUkbnIyCaLUsCy/k2pWcHksDSg5LsoxsBVgJLhg/qhlZ2tBkB0R7Kdm7fTHVEZXXGSc8NxbY4OyU3sRbJM/ja3VuQV6gjXxf1Xl27FhgyxMSC9g2NZFu2D2W5kh0I2GHLdhI2LGFnLPiyEisTpuRjwIwbVJdwOqHHghtLXzNEYd+z/95SAXzixImIIUWNZJMIOBEBO+7JLLhIAosFLef2lQSWc3UnpOSsBFb6rFnodNONQu5FChXZCIj2ULZTG1c+OwYr4/cbXnJ0bTqevPRLOIHAal9ZjyU3/47Migbt/ZKCGti8GSB5Cp3UItmWnaQnKas2AnbYsh0hc0bCzrTR8e1Run4F1rw5D5sKylQrCMa4GjAwJxUjzpmDjLz8gNM7OaSSFTO9/c2Gas688Xp8V1ThWU4SWHpRl/1ERMCOezLLviWBxYKWc/tKAsu5uhNSclYCq/MddyBtxnQh9yKFimwERHso26UNmg9rytJJmgnbg8lDK/KdWJuF3137sJMk3Bex9dlZjbdv/wOxOngrjBoFfP89QHL2ObFFqi07UVdS5uAI2GHLVntgsXpHnTo5HwPPVfeO0mMvHi+v95/GgV07UVtTjbj4BKR16Yr+U65AQmZXPVPALKkXbvmvzOIxJDcV1SOnSQJLl/XJTiIjYMc9mWX/ksBiQcu5fSWB5VzdCSk5E4FFk8p/9y2iBc8fIyTQUijLERDtoWz5hpsXeGDBbLxW94Ndy9m+zpifKvDEY0W61l18fAq+nHU0Hpn9sa7+onaKVFsWVR9SLuMI2GHLVobMmQk7CxTiZxxN/SPNehxdcPMNQb289EsS+p48PNJiY1zoec5sSWCFXp1SApMI2HFPZhFRElgsaDm3rySwnKs7ISWXBJaQapFCGUBAtIeygS0YGnLt/PFYHltsaKzIgy75cC/+9vZeXSI+OKMTXp2Q5enrDYfUNVDQTpFqy4KqQ4plAgE7bJkHQUHD8+Y8Md/Hw8npJJBTyTcT5qY6lAfB6YqOQc70iySBxVs5cj7bEbDjnsyyKUlgsaDl3L6SwHKu7oSUnInAIjuQIYRCqlEKRRAQ7aHsrxQa6vf68ruxu6oINe4axEfFo3O7Hjhv7G3o1rGXYR2azX9leGGLBj7wdBFO/6Ep10iw1kh+vOLvPfHNEck+3cbVdZEeWFrgyd8lAjYhYNd92WyImFrInBVz2gR7yzKs4Y/BksPbLTuv9XiEmEoCi5c25DyhRsCue7LefUoCSy9Szu4nCSxn60846VkJLJnEXTgVSoGaERDtoexVDK0QuGjNI1gVW6qapyrB3YhRdRmYPuLvGDNiMrM+w8EDK6rejUV3FmLA9mrN/deQUI6pd/fF9s7xqn0viD0GN8x8TnMekTuIassiYyZlExMBu2yZt7eUVV5dodASr+TwoZCdx5pmiUgqgySweGhCziECAnbdk/XuVRJYepFydj9JYDlbf8JJz0pgpU6bhuy75gq3DymQREC0hzLVyBPvXIcXDn6EOpd2YvRYkkj94uQJuPqsh5mU6eQcWCkH6/HhTb8htdKtuefdaTGYfE9fVLULXL6ckoHvTfzQlEebpiA2dBDRlm3YtlwiDBGw05Z5hszxCDuj6hw7bhjyZt8thGZ5JIcXYiOMQkgPLEbAZPewRsDOe7IeICWBpQcl5/eRBJbzdSjUDlgJLOmBJZT6pDAKBER7KFPyat4h9mTilxMS66ozH9Kt2w9WzMftW/+NBh0kme5JLe6Yu+0w3ryzANHavBVW57bDRTf10lVRMBzyX1HoRbNli81BTh/GCNhty7xC5niQHlStIwZnIf/2F8NYw+JvjQcZKT2wxNezlFAfAnbfk7WkkgSWFkLh8bsksMJDj8LsgpXAkjmwhFGdFMQPAZEeyjRs8NoNt+ryvPJXJPXEeuyIe3Hi8D9p6pjFw0tzMhs6jFtVhkee2qFrpUUnpeHuC/WVjKcTsuCmS4AQdhLJlkMIg1w6DBAIhS3zCJnjEXZG1aeWWysM1OqoLfAIB5VVCB2lcilsEARCcU8OphBJYEWGuUoCKzL0bNsuWQgsV2Ii+n25AtEdOtgmn1xIIqAXAZEeymYTq+vxJDLq4aUXT579rnpnNy5fUqJryrsvyMaiUzJ09VV2YvVcY17AxgEi2bKN25ZLhSECobRlMyFz0gMrvIzRLCE5JDcV1SOneUCZOHEiYmICh7KHF3JyN+GGQCjvyWpYSgIr3CxMfT+SwIoMPdu2SxYCS+a/sk0tciEDCIjyUKbVBqcsnaSasF3vtrRyOZnx8NIrA49+/35sG0756aDmVLSi4MU39sLqge01+/p3oJ5Xl3Q4jSnsknkRmweIYss2b1suF4YIONWWeYSdUXWKlAMrDM1L95bMJvmfeeP1+K6oqTquJLB0wy47CoiAaPdkSWAJaCQWiCQJLAtAjeQp9RJYrthY9H7vXcT37RvJcMm9C4yAKA9lXknVldX0KCn2+vK7sbuqCDXuGhS59mNbnJjKiCEVBd/5vz/Qp7hWU8DDcS6SmL0firPYN0NJvqPqMzBjxD90hVtqCiNQB1FsWSBIpCgORcCptswj7CzG1YA5T8xHQqb+UGiHqtkRYptJ8t/37L9j6dKlksByhKalkMEQEO2eLAmsyLBXSWBFhp5t26VeAqvLvx5GCnGblk0iICoCojyUr50/Hstji03DNK6uCyYfeSUWrH4Qq+LKUB8VZXpOKyfIPFCLD275A8mHtTOz78iMxdS7+6E6Qf+eMurcGNyYiXhXAjq364GZY291fLXBQPoQxZattBc5d2Qg4GRbNht2JvNfiWfjRpP8O9mOxdOClCiUCIhmy5LACqU12Le2JLDswzoiVtJDYCWPG4duj/8nIvCQm3QuAqI8lM3mv/JqIKcGKIxrRKPg1QWH/FGJ1+/ZgigaB/j/7F0HfBTV9v6y6T2EUEILvUiVCII0CwoCKlIUsQtWFP+ozwaKFRXsnQf67IqKIDYEFBEBpUvvNUACBAgkIWWz+d87m002my0zu7Mzd2fO9ed7wt6595zvnJ2d+80pPsby9vG488EMWR0Fqy3F0gSnNHsAV/S7zdcWhvhcFF82BJikhK4IhLIvB5p2duNjD6N25wt1xZ82r4mAP0X+Q9mPyQcIAWcERPNlIrDM4Z9EYJnDzppp6ZPAYoUqWy9fRoXbNbMIbeQvAqL8KKsVgeUvDlpdN2TZSbww45Cs7T6+rDZeHp0ua667Se2LIvDVnev8vj7ULhTFl0MNN5JXPARC3ZcDSTtrO+ph8QxCElUioKTIf6j7MZmdEHAgIJovE4FlDt8kAsscdtZMS18EFhVu18wUtFGACIjyo6xWDawA4Qja5Q98dQS3zs+Vtf6kMQ3wfZ9UWXM9TQpn0VdvdZpiuDpX3kARxZcDMhxdTAgwBIzgy/6mnZEDGAcBI/ixcaxBmgSCgGi+TARWINYMnWuJwAodW4WEpF4JrPBwNP9+LhVuDwlLkpCi/Cir0YVQOGvabHjv1QPovSnfp2i8AtYNk5phY8t4n3PlTLgrcaChOgzK0VkUX5YjK80hBMxAxvqTdkaeYRwE6J5sHFuaXRPRfJkILHN4JBFY5rCzZloSgaUZ1LRRkBEQ6UdZrTpYQYbM5/JRJTbMnbgTjY+V+pybzwqyX/FCSxyvpbyjoLvFI1nk1Ziky01HXnEsRPJln4anCYSAFwSM5stK0s7IMYyDgNH82DiWIU2UIiCaLxOBpdSCoTmfCKzQtJuwUlMKobCmIcEUIiDSj/KSNd9jwsaJKBW8ALsniOvlso6Cj+1EXInvyux70qMw/NmWsEbI6ygYbStHZkky1kblocgSVkOEGPZ5d2ttjMp80FRpg85AiOTLCr+GNJ0QqIYA+TI5hBEQID82ghVJBxFfkBGBZQ6/JALLHHbWTEtfBFZYbCxaLfmDirhrZhHayF8EgvGAydMBP1/0HLILD6DYVoxoSzTqxzXB9f0noVHdpl5FHT/jEiyOOuqvOrpc13V7AT56YS9q0ko1xVncORHjJ7COggpH35JUvHP7EnBsv1j0vB3b8iJEh8VI2I7uP9Entgq3DLnpwfDlkAOBBDYEAuTLhjCj6ZUgPza9CxgGANF8mQgsw7iWV0WIwDKHnTXT0heBxQWp/9RTqDXqWs1koo2Cj0AgxEzwpfNvBzV/lHkE1aw1r2JlZC6KPUQJdSutjWszH0C/zKtqCLxg+Q8Y/+tnKCpIQbk1CmERJYhIOIXohrtgiSrxT8EgXjVi8QlM/viwrB1mDE7DmyPry5rrOomnBb5hsoLs/gClpi/7sz9dQwiohQD5slpImmudoiJg0yYgl/ULKS4GoqOB2rWBDh2AmBh1sJDSQee8h5NHslDCNoxiC9dKb4Q2V9+NmLSG1TYhP1YHc1pFfwRE82UisPT3CS0kIAJLC5RNtIccAiv1lltQ79FHTISKcVUNlJgRGRm1fpTfnv0QPjwzX1b6HydkbmNFxu8d/rIEzVEWcPX338DzH87AnjIbbMVxgC0csJTBEl3IyKtixDRmqXktNiAi6YTucD7+yWFc97s8Of5zVyPM75ESkMxmLMjuD2Bq+bI/e9M18hHQ4pAtXxoxZ5Ivi2kXUaVy/IZu3AicPQvks74hZWUA6ymEhASAJQWgY0egRw+gbl3/tDj+72KsnTUdW/fkwVrOFnYZEWFlaNc8GV2vvRNpnS8C/56vX2/F/PkrUVoajl69zmN7h6tKpvmnCV1FCChHQLR7MhFYym0YilcQgRWKVhNYZjkEVsrIkUh/9hmBtSDR5CAQCDEjZ32956jxo8wxmp7/q2JVODHTt9U0zJ0LHDych2/XLkPxafa6uNypLlSYDRHJuYhMOYrwuHwkdf1dIrM0H6yj4P9e2ofzthf63LqM5RKOmtwC25qyU0MAw8wF2f2BTQ1f9mdf0a8RhTDS4pAtui3kyke+LBcpmsdJK/4beuoUcJgFBOfksPc/vK1txbCwn9N69YAGDYAU9i5l6FA7maVkbP1yKn79/g+UOf82e1igsDgRqS1H4lStYSgosGHjxr1MnjC0aNEUSUkWVcg0JbLTXEJADQREuycTgaWGVcVfgwgs8W0UUhLKIbAoAiukTOpW2ECImXHDpoUEAIH+KAdSeN16oCV6ZL0IlLTBkr+341j0EUQwoioi8aQUfcWjsKxnasF6qi5sRfGIqnMIkbUPI7nbQsQ02qUJvjFFZZj3+E6kn7D63O9UvAVXvtAaJ5MifM71NoEKsvsHX6C+7N+u4l4lEmGkxSFbXEsol4x8WTlmZryCf69mzwb27wf27rVHWzVkWXxpaUAE+xmysp+t48eBQ4fsUVnNmgEZrATjiBH2tEI5g5NXP8/9U85UHDmVgU2HeuJsaRwSardDYXQbHDtmj1auzXIZw8PDAibTZAlCkwgBlREQ7Z5MBJbKBhZ0OSKwBDVMqIolh8CiGlihal273IEQM6FUsyjQH+V7/tsPS6PlpdM5e4T1dCpOLB6JWtnNkR49CMdtPyI75QAKd3a1pw/ywUis+NZrwTIOYc1LQ0lOU0SlHWZEVhZSL/qapRMyoitIo2FOMb6ftAvRpb47Cm5rHI1rWcSVTWZHQWeRI9ir8t6l9WBj6RdUkD0wYwbqy4HtXnW1CBFPIhFGWhyy1bKdKOuI4sui4EFy1ESAE9TTpwN79gD79gGtW7Paq6zM4l9/2dMH+eAphH36sKBm9jOWnQ3s2AE0bQo0bw7cdRdQp453ZHna4GcvTJMVecXJqw1ZvXCysA5O5NdHTGQhMns2QmFYPpOjnO3ZGidOWAIi08gPCAG9EBDtnkwEll6eoO2+RGBpi7fhd/NFYGnZhVCEw5IRDe4vMePAwtE1TnRsAvlR5kXtr/x5iKy6V644nF53IQq2ZaJ47zlolX4KuUk7cZYVfi/YUZPAclxbeoqRWNnNENt0M+LbrkbSuUtUh7fnxjOY/sp+WR0F53dLwn/GNQlIhlDxk4CU1OjiQHxZDRFFiXgSiTDS4pCthu1EW0NvXxYND1Hl0fP5a9489qKN/QSuWQO0aQOkp9tRWrq0JoHlwO/IEWD7duC884B+/YArrvCO7ILHR2Hjbha65WOcKUrG37svR25BPZxg/9ZJOITEmJM4VtgZ1gSWv8hG3bqp6NvX4jeZ5ksG+pwQCCYCot2TicAKprXFWZsILHFsYQhJfBFYceefj4yPPwqqrqIcloKqZICL+/twyYmZoT8NcdtJT65IPA1szuAf0ahuU7mX6DIvkB/lRz+8Ej+Fs7wFhcNWEoXj829G0aGWLDUwDjEZWxDG6kbx4Y3A4m+Ri/afA0tMIWJYZ8K0gR+r1p3w+l+P4dEvWfEQGePNq+tixlV+VsJ1Wj+UIvVkwKL7lEB8OVDhRYl48kQYOb5fznr6G5WhBCstDtlK5AmVuXr6cqhgpKecej9/8WebV16xdxw8cwbIzETlb6g3Aot/5znhlZhoTyF88EHP3Ql5t8Hp9451W7DdFfvNh7pj97EOyDrRCnUSs5AUa4+O3pfbnkVN2zsTOggsx7VKyTQ97U17EwKi3ZOJwDKHTxKBZQ47a6alLwKLC9LglZeRPHhwUGQS5bAUFOVUWDTQh8uXvhiLz0r/CViSGyN74OHRMwJeJ5gL+PujzEm+G34YjFw/0ubOsqirvDUXo3BXF0TV288KtLMiHRXDG4HFp0hRWDkZiGu5HsmZvyO22ZaA4Hn6gywMW8qq37qMIkRjEzogF7VRzP47mv3v/66JxMb+R1Qjzai7YECmq3Gxv74cqBQiRTyJRBhpccgO1HaiXq+XL4uKh0hyifD8tXq1vXD78uVAq1ZV0VccJ28EFv+cE0c7WR+UCy6wF3Tn0Vjuxr8zJmHRovU+oS8ti8SS7VcjOy8DxdZYNEzZVUmm7T3eAdF1WPV4NlwJLCVkmk8hZEzw94WmjKUNMUUkfESSxWFc0e7JRGAZ4mvnUwkisHxCRBOUICCHwAqLjESzOd8humVLJUv7nCvSYcmnsDpMUOPhcsLMy7Aokj3lBTjaF0UgPbwOim2MArFEo35cE1zff5JQUVlKf5R5bbBZa17FyshcvyPUzmy8AGc29EbRgbaIa7UWYeEVBTsY3r4IrHJrBCO+zkVMk21I7PQXEjuyJ3ilg9Wd+vy5vei0h/UbdxlHUQd/owc2oiPOIhZ5SMBP56ciLykMluhCRl4VS10Q41psYDW4lNf+4tsZobsgPWDaHUekFDnRCCMtDtlKv/qhMl/pfTlU9Ap1OUV5/vqVNf395RdgPeOXevVivymRVcj6IrBKS4Fly4AuXYDLLwcGDHBvlT+euQVrNle9XPJku4MnWrLC7T2w73g7pCUcroy+4vO9EVj8c7lkWiB+E+gLzUD2DoVrRcJHJFmcbcd/W9evt2L+/JUoLQ1n37nzGCEbLkUxxsToY2UisPTBXetdicDSGnGD7yeHwOIQpIwcifRnn1ENDdHSQ1RTTKWF1Hq4DLT+lTd1eGpht9LauDbzAfTLvEolzf1fRslBiXdl/PDMfL9qXjlLyOtf5W/qiaKsVohrs6rybS2f45PAYikQhdu7sS6EO5HQYbmiOlgJBVb88NhOpJ2uIsyc5drIIq7mYihOIRl7Ixrht2ZNYbVUFJTnE8NsiEjOZRFjRxEel4+krr9LZJbcEc6Is17WNIzKfBB9ul4p9zJpniiEkagPmBwjJb6sCHwvk0WKeBKNMNLikK2WHUVbRw9fFg0D0eQR6fmL33cWLgT4Mw+vZeWcIuyLwOKRT7x2VseOwGWXea6DJbf+1fbsrth6JBOHTzZH07QtCOcdhCuGLwJLLpnmry+o8ULT371D4TqR8BFJFoftnJ93Cgps7Pu2FzZbGFq0aIqkJAtiY+3fox49eIShthYnAktbvPXajQgsvZA36L5yCSy1i7l7Oix5g9ksdQbUfLhUKwLLm114FM5tiQNx7/CXdfmW8BTAzxc9h6OFh9G3zp2SDNsLfsbo/o+5jRDj5NX0fPbaV4WhdQTWudsL8MkL3mt1cfJqNoZjXXxzLGrYFpbYQkQwoioikdXy4A/krDOi9UwtWE/VZXW74lknxEOIrH0Yyd0WMjJtl0dULMzODdkb787hLTBuyBuKo++CShhlZQEzZ9pbU+Xm2nuvt2gB3HgjspIjJf/ILjxQGUGI4z0Rfur/UF5aC4cPAzmsZBjj5CqHxQJdW6RrfegXLeJJNMLI+ZB9Vae9aLlnAeoc24yk01kozMmHFeE4E5mKg/HtUDBoJHLTWCXqiiH3kK3C7UjbJfJZQexPPgH+/tsevse/QCkpQPv2wKBBQLdukjxa+7K2IPi/m55EvkhktRbfdbkRWLz+1Y6cc3HkVFM0r7OxGpnmi8AK5vdcrRea/nur9yv19GUumUj4iCSLw2quhFp2tg3Hjtmj7mvXrs06a4bp+rxDBFawvplirUsEllj2CHlp5BJYXNH6Tz2FWqOuDVhn0Q5LASuk8gJqkntq1cCSo6LWdZBcUwAjEYnJKZMlUZ8+9TTCbSU1IsT4NRM2Tgw48sqBh1Y1sK5fcByPfsF6h/sYPG3w/5rcj1+atEfJ8QasLtc+Fml1vNqDuGMJ/sBtzeN1uJqy4rSHGZGVhdSLvmbphPaitXy0KbKgSXh9KWV0dP+JikkrTw9QqhFGn38OPPCA/QDtZjAVcSIpHC+MTsevPdjhmo2ig62Qt7o/bMfTEXW0KTLqpaPTOfUlzisigh+4geMs2+TQIYCf0Zs1AzIygBEj7MWCfY79+4EvvwR++81emdhxuHdcyPvB8008DD1C/EWLeNIiKsOnHZ0mHLhyHBIXz0NS/hFGVbmPenRerygqERs634ifB76F0jKLrDQnWfLcfz/w5pvVpzr5kyYHyd9/B+66y158yNvgcrGWctZVq/ATD7FhYzCrpRnBv2SOMXYs8MEHslT3uZeX75T0vWepM/zryPnt4mIgOpof3uzfaS1TZ4JK5MtAUrTnLy3uPXJrYIkYgaXmC00Z7qFoit6+zIUVCR+RZHEY0h2hlp5uw8mTOxlxVY7mzVvjxAmL/887ijzG/WQisFQAMQSWIAIrBIwUSiIqIbBSb7kF9R59JGD1tHhgCVhInRZQ++FSjS6EcqHQshOduxRA0x2P/wAAIABJREFUVwKrFCxciA3nCDG1UyoD6kK4rz2Ljirw2oXwpfcOYNA/p2WZYOqoenin3kgUbMvEWbZ2VP29lUXlvaUzSsXks5shtulmxLddXS2V8dLSBnh1bGDRakF7I8lzRioOxr4A4kTWH10Scc9t5+LE4pEoOdaokuCLZgRf1+iW6H4OW89pKO5sxzq2Yt06Vp3f7ncehwcCS88Qfy2iIHzZyPlz0eSxxichopC1SFM4iqKT8eKQv/DniQ4+C037XHovi7zkdSidQwX5Rcyfjh62SoFQ/Lt2lpXD48RrGePZuKslJEC99BAeWcULFikYK1lX1J+X73Bfb0UtAouzUfzH080Q4ZDtEEuE1CLRnr/UfuZx5wNyuxB6q4HlrQsh3zNYNbDUfKGp4Gvrc6oIvsyFFAkfkSIbOTaeCLXychsLVmfR6my0bt0aFhZyrvh5x6eHyJ9ABJZ8rEJ5JhFYoWw9AWVXQmCpVQdLtMOJSGYJxsOl2qSNN7z6lqTindtZUYogDk8pgJ4ILIcoN0f3xldnl/pdsN2TSrwOlpqkEd/nh0d2oGlOiU8UOTFz9wMZWNYpEQGRafvPgSWmsAaZFqg9g1YYnBdq+MeluyY/rbNwqSOWAuQXnEDjoyWIKeUIVY3vW7fCmGaP1yD4+IzzOInVrjqJxf9eduoyLyLh4RBdTQg3BJbeIf6iRTwF4z7o88vkZUJ5UhLCztgJLO5RZeHRKIxLQwH79/jZBETZilC75DBSS7LBjgLVVioNi8JDg7agbs8WePDBAKJ9eIu2XTVTfMuZPz032YpTrAFp0NJhOWnWtm3NqCtesCg9HahTB4iLA3utD7B03nLGoLFPpPHMhFys2nnSbb2VS2eNRewXKkRg9e1rL4bkMkQ5ZHOxgkbkK3RsEZ+/tDj4y6mD5a0L4dGCzrAm1JPQ1qoLoRbknkL3kaaL4ssi4SOSLA6bevpe/fmnjZFb9hRCV1+W/bzjj+N4uIYILBXBFHgpIrAENk4oiqaEwFIrAku0w5JIdgvGw6XaaXMcL06WFB9qCWt+CsqtUQiLKEFEAisZ3mAnvh/6nd+pZr5s4U0XXwRWOHvFVOZcIdbXZjI/t55OrRHV40/aXoTVhpV3bkGk7wwlSbLrJjXDppbxlVIGI50x0AisoBxMJk4Epkypbp0rWSH5b77Bko2/VEsRHfvDUdz33VFYKjgF/n/jmo3Hp0lXIyZjS2VqJY9QC2O1wVrGN0PtlDT06VO1vOwW6e4ILO5vPE+J5yQ6hguBJUKIfzDuOzK/Pm6nCXcYaNQIZ8ISsbzRtZhZfhtSOzeReBs+nAtNx5YX4oWTd6Hzxk8rCRw+52it1vjn4+244go/UZk2DXj4YfvFvECbUxSWLSwcY262ggdo8Wirhg3tJeBUSYd1iMvbwy136pLK/ZpHT/F0Rpf8O+7Piz45jO4LnkXm5k8xvMcB7D9lLzCnSr2VwkK7ovyL6RiLFwMXXlgNXFEO2ZL9WYbz9OnAnj3Avn086oGVZKhfvWC5Q/hgR0KI+PylBT7H/12Mz16YhrJy9v3xMngdrN3HOiDrRCvUScySOhFawsrRsdcFOJjHck/ZcEStOJYJ1qFfNCJfNF8WCR+RZOF28vYb6o3Akv284+dPmbvLiMBSEUyBlyICS2DjhKJoSggstWpgiXZYEsluwXq4VKtwOSdrCnd3kuoI2UqiYStmb93ZwZ8XB7dEF8ISVYzLm1ow9ZF7g9LJxFM0GSfUyg61xSiMk1JVZhWz4sIJxxHdcBeTyXckU6A+4KirVJrbgKWnNWTRTAX2wumM1EM4q3dUFiGRfe4Kp2fEbsGiB+3h3HJG77faIi/RqY5MxUXBKCh/Y2QPPDx6hhyxaswJCgnB69zEM9KuxMmm110HfPGFtL87/xjw9ylMez+rklDIsySgaZ8PKtMr+XWOFMtkWwTaNT63GoHFP5eVHsKidCRGjEfK8AP/1VdXHaqdiVMnAkuUEP+gP3w76//aa8D//Z9PnwoK+elzV88TlByyL/hrKi797ZFKn5Nqsa3Ygdo9mG8oHZz85GyZo8bThAkAx7BilDECq38/a/BIEV6o/eabq6Tm/stZu549a2iiCRn7+OPACy9U7Z2cDCn8zGkosVWwCSMulki+LOrzlxaE49Yvp+LnuX96/QaeKUrG37svR25BPZxg/9ZJOITMc5NQu31PzdOuRLSVSCl7IuEjkizcwb39pnsjsGQ/7yj9HfMynwgsFcEUeCkisAQ2TiiKJpfAUrMLYdAPS6FoiAqZg/kj6K5ulBKoOElzeu3FKCtMQCnrYGfNY5Elzm8zw2ysYHguWiYVYmifERg61N6WV63hrp6XM6EWVhKHbrhISlVZWbqCVenNlwi1mMY7EddiAytObg+ZDtaQi08kI7bC4/LRJ2kevv3YXtzY1zgTa8EF77AUHh594WHwVMb8TT1RlNUKcW1WVSvc7q0GFl+OH+IKt3djXQh3IqHDcqkOVoytHHMG/+h3NF1Qvuf84MoPsI7BIzEqUru81Xv7/Jnd6LSHFQeqGE+2G473W19c+WcHPjxSq1PdDrj0EpYO6DQCbpHugcASJcQ/KGSjM4B+EFiikRBcHSWH7E8X1EWt0mNVKIwfD7zxhq+ves3PzzsPWLPG/vc8VY8D44RnGSsrf88d1sqIMG8bKI4U4aQZJ2Z5YS3H+PZbYPjwGttoRsY2aGBnlB3j1luBDz+sJo9IhFHQv1sKPSoo92WFMnia7kj5zMuzN9Hw1OyDRxly3pK/I5DVWMNpQ05i/fr9H14jsY6cysCGrF44Vci+b7FtULc5j7jUvvB1sF5o+msu0XxZJHxEkoXb19tZwheBFfDzjkIHIwJLIWAhOp0IrBA1nKhiyyWw1Kp/xXHw9iPoDSc9Qlu1tpu3h0tfssiJElm6dh6+WvMKVkbkosjiqFLia+Wqzm01IowSWc0TFn3Fo7CsZ2pJEUaJhckY0OtcZZ3bnETgRMTni55DduEBFNuKEW2JlrrgFZcW4huw/JSK4UoY2VhHvYzw5tKn+6z7UB5WJhFqDsIoqevvEpkVzGE9XasiQq21xwi1K4+swpQV81m/QKe0Mg9CbWgWi+snt5AlstoRWBcUJ6N5Qtsadri+/yRZpFZQyNhu3eyvFh2DR4Z89JH0J28dN7tvPoMPprHugBVjB6tl0vuSJyv/7EzwpYcn4IaR7aphHnCLdDcElmgh/kE99PtBYHEDKCGM/OoYKeubVX2S3EP2pH+GoP3en6ouHjKEFbf7QdmOn30G3Hhj1TU88ql37+oEFovAeuYJayWn5ZzSyIOl/EqHdez49NMA6z5cOTp3Btavd6uDJ/+xsXRH14LBjgUUE2q88yHPv3MefBGej1cxRDtki0YYiYaPqzMdY5wvb0iwYYPnhgSdOgG8DCLnc/0Zuf/+gTVfT8fW3adgLWdfEpcRwZ4dYhI7Yl/U3SiNbSaRadnZNhw7Zn8J5pwKGwiZ5kv2oPyG+trUy+ei+bJI+IgkCzehN0LNF4EV8POOQh8jAkshYCE6nQisEDWcqGLLIbDCIiPRbM53iOYdkFQaIoUhe1JJj7bbWpF7nCT6YtHzdnKivAjRYTE4XHYUm2PYG3eXobTGU/qpJqhtGYKmTcFa9No7rst50OT1rWateRUrI3PdFlp3rmHlLmUvOiUXF6Z1kFoDLyn8C8Vnktym7MU0qlkIWSW3rlymeo2wSFYjrBSP/rANt+z4BzGw19HwNr64JBUv3MgiDRQMNWtgxbGOhBEsGqnUDcnJI7O6ldbGtZkPoF/mVR4lDMobydRUe6Fox/iJEQS8MxobE2ZehkWRTpEZLpL9e8smVmDbPmwsuavBFa/DZrGnYjoTWLURgdtGnVvt6oDfSLohsEQL8Q9qxJOfBBY3glzCKJgHSVcnl3PIvmnhDWi85POqS7mfcn+VO/iPQa1aVY0BnK93jsBiBNazT1bdt70RWHxrOS86KkV0jXZasAC49NIaGmhGxo4YAcyeXbU//4HZvbuaPHTI9u1gofb8xTPGo6Ls5QR5xJVL2TXfCnuYwbsTbp/7Hk4ePoSS4iJERcegVoOGaDP0bsSkNWSEVRWZVlBgY/eivTWaEQRKpnkTnnzZu2lFwkckWThqFIHl922BLgwSAkRgBQlYsy4rh8Bq8MrLSB48WFWIgnpYClBSvdtu6/Vw6SmCRWmXvc7hjdA87Ups3846u7Hsl3794LN4sZL0Rk+EWgQ7yPWLYZuxsaRoCcrYP/xNkpVFZpXkNEVU2mFE1clC6kVfs3RCJxIkQH/xdfmCB7Yh/URNYtDddY/e0Qg/XZBS46OYojL8c/fWymLkBdFh6DG9fbV53roQepORY1S0rz0ssQU1uhB6uy6SXXhb4kDcO/xlt9OC8kbStVC6U/SFr26bK8duRay1qkL+jd3vwK/pLKLEZWSUxWJwJktLchqKDv3u0HBDYMl9wOwXvR1vr+3DKDd70Wr+v/8btQCfHLkUXboAl18ODBjgwVIPPFCtXpJUP4zf4HjHODcjaBFPARBYXEw5hFEwD5KevgfOLzlqHLIvcSl8/tBDAC/GLndcxjpiLqxIMeYndk7cOk7uARBYsslY3tKQs4KOwX2moMCt9JqRsVwG53TGl9m9h7d2dBpBue/ItZmbeUEh8gOQh18q8vNXgKoF5XL+PV+/3or581eyGpsWVuKwG6vxGa4qmeZOcK1eaMoFTTRfFgkf0SIbNbsny3UeL/MoAksFEENgCSKwQsBIoSSiNwKLR16lv/iC6uSVA5+gHZYCMIAIbbf1erh0V0PIGynirq4Sj9oZ1Xo0EuNSpLItiYn2N6be2scrLTDviVA7u+M8ZFjsKYT7bXsQ27oq1az0FCOxspshlkUWxbddLdV4CubgHQVX37EF4fbmWz7HsGdaYGeT6nWXnC967NPDGP1bVQ2vb/um4OnbGtVY1xM23gQIFJu7GIk1bljNg3lQ3kjy1/D8BO4Y/DBbcaj3FYG14q4tSCiqMsg7zS/G0x1r1vJpYUvEgK5VaVuqpC67IbCUhPg/YXsWFy55qrIoeGlEDK7udgjNMlPBeQ633e1++w3o378KKy4DD8/hBea9jKBEPAVIYDnE9UoYMY5HmME75aUwItrZV3kLumbN5InIWZiBA6vmzpwJjBlT3ZYVf+JF3JVEYMlOD3n9dRbWyArGO0bXrlW1uFy0kEvGurZs58vIJtTmzAGGDavamedHctbQpS6gaIds0Qg1B4AiPn/J+3LoM8vK6sH9VBFBOZi90I3gbT41GHq90HSnmoi+LBI+QU3DV+hrmkXFKpTL3XQisFQAMQSWIAIrBIwUSiK6I7B4wfZkVq8j9eabVE0bdIdLUA5LfhpApAc6vWRxjWJRmpbmHL0iJ2qFpw1O2DgRpc4HXC/280aoeSOwpCij/eew7oCFiqKMlLpS2skSzHt8FxLP+maueCRNj3fbojDO94Pw8ru3VK7JV+7FCrrnx9e8Tmm6pxrRaTwS641OU9Cn65XV4ArKG0letN05CmTbNqBNG2lfbzWw+Odrxm5GlNUexcTHn8ntMeLCe2qYmEcQ9upYpYviOj3unCaACCzHoX/MzJ5ofIgVh6kYB2Nb4ZU7driPwOJd2Xj6l3O0yqRJwLPPynJp1SOeVCKwZAmv9yROqvBaUdw3HYMXovrTe/ezyrmsZhR4qiyvZM0HfwPAfxCchxYRWDzq+uefq3a97z7gzTdZO0VGpPNGCt99Z//vMhbpyuSxWqJwKLoZdne7DksvrKovp1q9Fedi9lwqD5iKdsgOCpGvko+L9PylkkpBW0YvAkuvF5rugBTRl0XCRyRZuP1EaRLj60tJBJYvhIzxORFYxrCjMFo43zh2PvMsarMW8EmDLkc47zyk0VD9sOSH3KL98HAV9Hi4dCWUlBQGT2q9FgPrXYKMdDuhIOfNuq+0L1dTeiPUvBFYkjw8CisnA3Et1yM583fENtvih6e4v6TDrgJ8/vzeyhQ/OQt/1j8VL93gu85Vn/Wn8e7rByqX3JIRg2uf9lyPzl19sAjW+TAigZEa4SyVsSwC1vwUqT7YW3tfwy2n58kR1+85b12zFLNzeks8U3q672W8EkauNXleeQXgaXJseOtCmFBgxfJx2yojmPj87ZEZ6HHBVFbo/3hlAWxHBGFSfIqUfpqdDVaAGorrudXQUoUaWBZrCR5+uS5iiiuIDbbJyi63wzLjv1KqbrXRjhWhdyZQePH7lSt9g+8yQ7WIJ6MTWMdZQwYecvrFF8DXX1fVreJ48jS8XazuntzCPddfb1+HDx5dtJ81H2jkEm0ZAIEl58WCtDd7FpDkdgxHp78776weWebGq0oi4zF72OfY3vYqxtvZWMqaPXrU7wgsTgry9GFO7jkGjzC8uKqTqOOvRTtkB4XIV/xN9nyBCM9fKqoTtKX0IrC4Qnq90HQFU6SUPWfZRMFHJFtxWTTrDBvgt44IrAABDJHLicAKEUOFipjON45T7K19Mu9NrNNQ7bDkh/wihSE7i6/Hw6VzSh9PScvf1BNFWa0Q12aVc/f2aoWveSfCfh1Po3s7ls9UMXylqngjHDyZ0Buh5ovAKrdGoHDXuYhpsg2Jnf5CYsflfnhK9UuGLDuJF2awFkUyxqpWMei6qwisxrw0TseyWhrvnePzym+e2IW2B1kRDjb4pXc+mIEVHVluppfh2qHRmseq35Y7SpizC8NsUofGt7NexI2HWFpZEMf/bluKP229sW+fvYEYbxjmLuBOFmHEO7k5F8J2SWvyRIiO/yYbt/9Uvevjwag0tG32M4vKK4CD4MtAJAZ0vhWcj+Cdp1TrbKewC6Gnzm31jqzHnf/tyorRV9XDKv16LqJGOhXTHzcOePfdKovyPF7+JCuXQAmGLxiNwKpXz46pt8HJp6uvthNaLmluHi9buxbIzKz6mJOznKR1HS4ElnMXQm8iKUqH5WwzZ3AdY/x4ewSWzME99NcBr2FqyXivBJYsQs21GyJ/weaIUHORR8RDtqjPF87Q6fn8JdOldJ2mJ4HFFdfjhaY7wEX1ZVHwEclWDll43wv+HmTvXoAHsaen21hJxZ1Sw6PmzVuzQFqLus87Cr+pRGApBCxEpxOBFaKGE1VskQgsvTAS8YHXFQutHy4dRdVPbOqFMxt6o+hAW8S1Wouw8Koi2I4aWKyyDhpGpmDwwDrYsOdP5JfmoaycR/pEI3dvJi7uUx8jhyfXKDTtK+XLnT94I9R8EljsRFW4vRtiGu1EQoflAdXBeuCrI7h1fq4sl/3w8tp47Vp76NHMl/bi/K1VhZDv+b8mWNrFc7RjUr4Vf91bFTmUF2dB73d9k158L+vpWijc3QlFB1vDVhINWzErgGxjdWMY2WiJLoQlqhhvbH8fozZvlaWHv5N2f7QUn+7tXe0BigelpKWB1RFhcjJXkU0Y8ZQm14YSq1bZuwWw4S4lldcjWzZuK+KKq9IH+dxj0Ylod+GbLDKvLiv0XxthjOBrGd8MKYlpEt/AOQrVOtu5IbC4DJ4OA54ILH5Nh/nTMPyfh6uiyXhdsIMHeXiLPeXLGR++7z//ADwCS89hNgKL24QXbecpm3LJK24f5whDbs+cHPdWcyawEI577rAGHt3ouhOv4eWBJJKKG957L3AjqxXXuDGKVv6LnRPexTkbZzGCvuo3opx56b1dl2JJsT0q1zUCSzahxvZAVlaVhLfcwjoZ/M+jR4t2yBYxwlvP20Eo7q03gSX9Zjl1ReTZ4fwFC8vgZUSEnZjgQYrBbmYhsi+LgI/Dt0WSxZXcy862MV+yR8XWZq09w8PD1H3eUfgFJwJLIWAhOp0IrBA1nKhiE4EFiJZyIIqvLF07D2/O/hF/bcjE6V1dEFVvPyJTqqJYirZ3RQIjqRKjaiHfmovyNv/AytmsiuFI2UtiKXu9Oq7BfcMHo19mVaSIr6Lb7nDQNQKLpa+89+oB9N7Enhp9DJ7ocsOkZtjYknV9cxqtDpzF7Cd3V5IP2xrHYOSzntMBn5mZhav/Yql/FeOjAbXxynUy8vCc9uR1w4oPtZTSBsutkQiLKJXSCaMb7sKtid2xPm8l/o1hKToBjktLG+DVsaz4tJuh6ttR1+gX/uS+lZFwFWlW1ZoCMJtxvFtnFdeQ6hSrPdb59jsrCb4O5e3QoVnf4BwGPBBY/ob4v7vtIrTL/qNKp6ZNAU7kcQyKnXTlBAqvfaX3MBuB5cA7Ohp47z3g1updLd2ag3e6ePXVqo/++stzwX2XCKz+/ayBRze6CuXa8c/xeceOvCWb2+Lp/87bj4f+1x6xtiqS/nRCA9wxmKX7sdGahWBanAg9WfXleOgA92/nwcMjOdnnYYh4yBYpzUnv20Eo7i8CgeXATesXmq72Et2X9cbHGS9RZHEm1AoKbCyiby/LyA5DixZNkZRk0YT89PS9JwIrFO+IymUmAks5ZnSFFwSIwGJpDuzM/csv9mdy3qCLNV+sHLxpF3/DxQd/y8XrxjoPOXWeQtkB+Y/vk0+fxII/duI0+9FLbbIVkZYIJEQmo2Pzvti2fyXWlexC1Tt3u7ZS0fR97WGJLagsmh4dWYzbWMe6e4ez1udsKK1/xa/RowZWVIkNcybuRJNjTt3vPBg1P8aCK15oieO1WASGh/HrA9vR4IR9LR4T1Pvttjid4L6Q+z93bEZciT1yqIyRgz1YymER2yPQwQuvj0m6HB0yeuM+VkSfF2EOdPQtScU7t3vu7qjaG8k//gAuuqi6uPzLOWoUwAtNswP2pzPHoWTBj7iWdW50dB7kKDpreSw5Ahe/0RbhJZG47OTNuKTz/VJTMx48w15Kqtsi3QOBxZVwdxjwFeLftLEVE9+sh4i8qs6UUoog/8I6xgUXAMuWBWpWz9e3ZMTr7t3BW5/blIfniT54XSYeHfQ3K7D/1Vf2FFfuSM7jueeAiRM9a8JJmuasg6qjxhOPovvxR8/znfzJxroQjrnZWpkeoiS6Ma/UirlHT2FPYTHy2Q9dAsO8eVw0htZNQXJtVkj+zJnqMnCy+ORJe+iky3CQRjzib9JPPSq/a/x793y/mdhUv1clgSUrXdix/nXX2XF1DI6TDL8T8ZCtKpEv+vfCYPKJRGCJAC35sghWUC4Df0RYv96K+fNXsjq1rIxFr24sMjZc3ecdhWIRgaUQsBCdTgRWiBpOVLGJwLKn8SxcaD9I9utXvT6PLwLLV50nUe2uRC5P6RgrtyzAakZeuRtS9FV2M8Q23Yz4tqurpevdxUisccOmwZ8IrIC6ELoQapYo71FH9XJ5R8GdNVLP3Om7Jz0Kw1kklTXCN7k0alEuJn52pHKZ7/qkYPIYlyLN7NOBf5/CtPer0mbWtIrDLRPZ4S3A0b4oHOO6PSN1DfSHRPS0vbcILOdrVHkj+cIL9k5oMgc/RM+6KBWjFlcRPgfrRuLF53piVOaDNTooylxW/jQvBBZfxK8Q/3AWdcY71DkXtnZIxGsZckaBs3HBGkRguUe2sJCx0r2BdeuqPuf2529IeH6Pu8GLw+3caf+EE5GcJPJWs8zJn8oZ6fTcZKuU7ccDk3jWobNLuEuHjWh2FjMOHsN3OSdx1lY9tZaLEMsu2jT0QsSfYnI4j8mTgaee8uhRDtLo1jfPRcZJpm/FWJl+MV7p845/9VZcO4++zF6A8Gg1GUPEQ7ZqRL4M/WmKeggQgVUTS/Jl9fxLy5VE82UisLS0vn57EYGlH/aG3JkILIrA8uXY7tIximzbsODY724jr6x5vNtfU0SlHUZUnSykXvQ1IpKqDkI8+ueNTlOwfNs8fFbK6vMoHLwOVsG2TJxlhFRU/b2VaY3hrBZMvxjGQLKxpGgJk60qLswboea6fdftBfjohb3VonU8ibi4cyLGT8hQqAHL9rp9M2JK7QfHwugwnD+9fY01vn9sB5ofsZNsfOb1blISFW/MLnDg36xRJwz9aQiKLYFHX3E5bozsgYdHz/BHJP+u4cWxeS0cXgzEyyhnJM6PYy6A9cQRXD1re+XMkg7MfzZu8m9vpVf5ILD4cn6F+PNi7bxou/Pge/Fi4F26KJVS2fxQIrC81XNy1pq/weARfmqMJk3stckcw0MnyLPTXkbsw/+p/J7PnfIKTt90kz0KKtJ9ZGa1LgiMwDp2xCoFgG3YYP86eKuN85ftJO7fegAl/O2Ll7HumsuQfpwV3XEeBSw1kKcWehmcNMp+aBouXfBw5ayciPq4pM1G5fVWeGj0oEFVu/GoPB7dpqCumKiHbFWIfDX8lNaQhYBoh35ZQms0iXxZI6BV2kY0XyYCSyXDCr4MEViCGyjUxCMCy3sNLF/2lNVBydciIfC5azrGvhPLkZeaJdVSQjgv2B4h1ViysoLYtqJ4RlwdQmTtw0jutpAVTa8ZpcXTzR676mO/CBTr6VScWDwSJccaoeR4A1abax/rqHccESyVxpXA4mc0X4SaA/4RLDpn8seHZVlj+hVpeHs4a6fn55gy/SCuWMFCJirGI3c0ws8XsKLJFaPOiRL89sCOShLteFI4LnqznZ+71byM498kvpVfBKI7IWJYFMecwT+iUd2mqskoayEeasIjQmbNgtTmkOf0cqPzg24qS4EaMQJ48UWwIg/AbbdVL/zMC1B/8omsbQKeJIPAcuyhKMT/gw+AsWOri1enju8OeQErpHABvWtg6UFguaa68rQ77p8VY1uBPQrquS5tEFtsT/3c0qwlLv7gG+m/eRTUsHopuL1xHbSNZ9WZnYcHf/J1kJzDIq7u3sLSFWWMhbePQsfdVYSvFBHmgyx2LJu7dDNq92XRgRXjbHgcRgzYqLzeSs+e9tRMx+A5/H/+KUP6mlN8YePXonSRaRAQ7dBvGuBJUdUREM2XicBS3cRCLkgElpBmCV2hiMCyl43hnco3sWAMXvKDdzGXUxJIdgel0HWPapI70jGyjuThmzXLUHyVXmc2AAAgAElEQVSaFQpindsqR5iNEUm5LCLqKMLj8pGU+Ztb8orPdxAeU+bejKXRTnV8ZGJVdLAV8lb3R2luA0ZkNYQlpgDRKbm4MK2D1Bp4SQGTLz9RFqH2+CeHcd3v8mT4z12NML9HFdEkU9wa02qdtmLJ+KrugjwF8aoXWBpRxZj2zgEMXHW68s/vDK2L99m/ag2O//mldXDRZ+sxfGlVkXi11q+2Ds/D5SlVeo/2LMpty5YqKXhdnWuv1UYqBQQWF0jWAyavA9SGdXdzFOlz1mTYMID3zhZlhCiB5bVGlKfoKCfMy1lBxTCnOl5Tl61FvYzGjGwHHttxSIqCyup/HiJsrlUEAzCch9phnDC7bNUOn5FXjp3fmjIRIxexrpYVo4yRwOGeuhK6isvTKOOrGlhYWd3EyY8uVVZvhePGSTNn//6NFYO/+OIAwKFLCQH/EJB1T/ZvabqKENAUAdF8mQgsTc2v22ZEYOkGvTE3JgLLblfR2m6L6m08HeOhl97C/L3lsJVEw1bM0klsLNrFUgZLdCEsUcWIabwDcS02VEsbdKcPTzk7v80QTGBFxEvlMIYui3AS6/Tai1FWmIBSHvnFUhczwu01ovZZ97HC5GWeCTUWufPhS/vQbTs7aPkYvHj6qMktsK2pSxSErwt9fP71k7vQ7oA98oIn81zyamscS7XXLFrNUgyjK1IMrYwjzPzvObDJqK+lRKQ2RRZc9/kB8xBYvMe4c5FzHk3irc6QEjB9zVWbwOKRZ+msGyXP7/U0PvoIuPlmX5Jp87neBJZCLR3RUZ5qRLE7HromxeHJlg3QLZkVNncZjuuf7toOCWer7jH93/8Cm1pXj6TUisB6cNsBfH5EHlHP1blp3jeY+vqUSs2KWepgNE8hlDMOs0hWXk2+YpQxIu/Hb77BYFacPsJNAXi3S/LIycceq/qIR1HKJdDkyEhzCAEFCIh26FcgOk0lBKohIJovE4FlDgclAsscdtZMSyKw7FCL2HZbMydQuBEvvr6gPBfFh1jRcpY2WG5lUQYRpVI6YXTDXYzE8l4c3bGdo+j327MfwvR81grSj2E9XQuFuzuh6GBrhJXEoRsukloDrypdgfLo/BqEWkxRmVSYPf2E7+5mp+ItuJJFRZ1M8lCHxg95nS/psekM/vvy/so0wV+6J+Hhe5pg5O+5ePKTqiLvyzok4K6Hmga4W83Lk8pseOCjw+YgsObMAXhUkmPw+k2OotmqI+tmQbUJLF4XiNcHcoxGrAnAE08Ad95Z9XecKNixA2jWTAsNve8RQgQWT7OTUyPKoXCvlAQ837oh0qMipY5+C47nYfGJM2AUI/YP6M6I6Kq0wTZzFyMvqXoEZ7AJLB5F9iUjrp7dfbhGzUJvRkvKP43tV/arvD+VsZTG/KJiz3W5nBfjHRSvuKLyb0pYIfZfPvtMGYHVlN3zeHdGx+BkLCdlaRACOiAg2qFfBwhoS4MgIJovE4FlEMfyoQYRWOaws2ZaEoFVBbWIbbc1cwQFG6nVuS6D8Vx94s9HeFgEPi5ZpkCCmlN5d8KyQ20xCuOk1sCzij8FEo5XEmoNc4rx/aRdlVFN3jbb3iga1zzVQvWIJ3d7/nnvVtTKt6cPFUeG4bwZ7fHLQ9vR6Lj90Msjs4Y+3xJ7GrJUGkGH5sXb/cHhnHOAraxrn2Pw4ud33+3PSv5doyaB9d57wD33VMnBoluwZw/ASayrrrKHkzpGfVanjRfq03uECIGlpEaUM6S8DQJPC6wImpQ+qssKoP/LCqE7WiTYGAYNfmPF9QMYPPKL3y2yLz63chWrJRxNf1uNhtFR6JIYi4SIcCSwNMK4cAv2FBbhZ0aoOculZPu11wxAg+NVUX6/zPkRlw8d7HsJ3lzh448r551ghPFS1j1QdgRWFuu+2rhx9X14i8UGDXzvTTMIgSAgINqhPwgq0pImQUA0XyYCyxyORwSWOeysmZZEYFWHWsS225o5g8yN7v3vRVgSfVzmbBnTeDExP1IIXVeORCQmp7A272w8fepplLJ/XKOcvEkzv1sS/jOOdQ7TcNw7Oxt3/lCFJS8Ofwf7s+PQezg1EgNeZXWOBB26FW9XgseXXwKjR1ddkZgInK6qL6ZkKb/nqkVgbWdFtXktL+e6QK61vHhqYXZ2lahXXgl8/73foqtyYQgQWEprRPnCZebkBzFk6e+V0w7WS0e3L6tqSvm63tvnrgRWo0WrA1nO47VPvv8q7vmavQyoGPszuyNjtYzOsSziCk7phptvuAG7WEMF2QQWj7ZybrDAowg5SUuDENAJAdEO/TrBQNsaAAHRfJkILAM4lQwViMCSARJNkY8AEVg1sRK17bZ8qwZ35tjpPfFPTH5wN/FjdWcCa8ese/CfL+V1FHzz6rqYcZV6BdKViG6x2rDmji2siLP9Kh5x5SCv+J9fHF0fn1+WpmRJTefybobv3L5E0z0VbfbXX8CFF1YnfDiZw0kdb4N39uMd/hyjRQtgV81umrJlUYPA4nWv6jI/zc2t2pYTc59/Xl2MvXuB1qwhgFPxcMyYUbNboWzhVZioIYHlb+F1TzWihi/8Cb/0ugiFrAaU3HHN/Hl4Y+rkat/lKbeNw5s3uHSMlLugyzx/CaztV/RBckHVvfuJex7CjBHXe5aC+dzeQRcgtqS46v703XfA1Vd7vob7JCeNK0Z5VBTmffEFC1GLkE9gJSdXJ5mnTgX+8x8/0aLLCIHAERDt0B+4RrSCWREQzZeJwDKHJxKBZQ47a6YlEVieoaa22+6xuY9FYP2hZgSWSt7OCaw5n6Yig3eqkjHuv68xfs9kByWdx7uv7EOfjTUJwRKWk5Q5k0XbCDoiWeTcG52moE9XH2SQ2vLzgnW8hhWP0pg4EeBpcq6Dd0EbPx748EPGCnJasGJcdhnwq4x6ayISWJdeCixaVKVLRgbrVrDPPbo8fYuncTkG70zHo7c4EafH0IDAklN4vUlsFGqx7oHxrJ5T/egIpLL0y/ToSJxl9eCm7cuW6la5jhU3XIHG2YextGt3vHH9WPzdmbWp9TAyDh3Ei29MwYWr/65GXh2tlYpOs+Xdl+SYRzMCiwkz7ov/YdLMN6v04bacwoq7P/podVFLWE74yJHVU1jZjDI278cePaS5siKwfmdRa5dcUt13+drMZjQIAb0QEO3QrxcOtG/oIyCaLxOBFfo+JUcDIrDkoERzZCNABJZsqGhiBQJq1cBSDVAWJfDZc3vReQ/rKudjlLJz/DVPtcSuxuLUlMo4UoQfHttV7cDL1ViYmYQH7tM2pdEXfs6f35U4EOOGTVNyiTpzeXocT5NzDJ4SyOs/pbDi2LyzIA+h5F3QnIkrPrdjR2DDBnky+ENgvf46MGGCvPU9zVq6FOjdmwVPWfHTTz9Js6RD/9tvV1+b1706cMA9eedYe/hwgEfLOAaP3uL1sPQgAoJMYCktvK7ESJzAanaY1WSqGLzmVC7ztROsGPuZ+ASEs3TOJBbVVJ/ViuIdB50jKPklhdEx6PXRdzjCUgjVGloSWFzmLx++GxcxUq7a4F09OZHMv3/8O8dT/JxTW/nk88+HlUVBVvNlX10I+/YF+PfAMdj3odqf1QKR1iEEFCAg2qFfgeg0lRCohoBovkwEljkclAgsc9hZMy2JwNIMasNsxLsQLorUvzB0QoGVdRTchTp5vjsKHk8Kx1VTWuF0QnA6CgZq3J/+sx1NjlV1K+MxQwOmtcaROlGBLq369TzyakzS5fqQV1wbVwJLjoa8uPncuXJm2ueIRGCxSKuITBb1w1MIHeObbwBWU8jnaNjQTuY5xuWXAz+rU4fJ597OE4JIYPlbeF2u/K4Eltzr+Lw9DZtg+Mvvq0peSV8BlyLucmtgKU4hdFJ29gN34IL1q2oQdB7x6N+fsfALa5Kx3ggs7uPR0dXTX3nUoXNElhID0FxCQCUERDv0q6QWLWNCBETzZSKwzOGERGCZw86aaUkElmZQG2ajl74Yi89KZRTyDZLGTQ8V4bsndyHS3rzP69jYNBajn2QFgPWIOvElnNPnt/50DA98k1P5N/vqReGKl1gdI40H7wyZE1GOIotrHAnAC7Z3t9bGqMwHtU8bdMaBpwdyQmfnzpoRH6548VpQ06fb62ApGaIQWCwS68rbb0fYyZNV0t90U7UOb17V4lFaPG3QuR6W1h0YuYBOBNbKyc/ip+tvRT6L1uHd8prHRWNo3RQks9Q+pUPtwuvu9r+cFWK/85tP0WHXdsQXnfVJ4HDyeU+jJnjzutsw63JGnAZh6EFg8TvC2u3/IP2JScBxL008eKTfq68C19trayk6LLlGMSYlAXl5QUCQliQElCGgyI+VLU2zCQFNERDNl4nA0tT8um1GBJZu0BtzYyKwvNs1P+8E1i1ZglM5BSgtsiEyxoKUevE4t18/JCSnGtMpfGiVdXQfhv40BMVuSI5gAtJv3Wm8/QY7kMsYP/SqhcdvZ9EnITI+fn4Puu5kxEzFeHxMA/zQR3v/4kXZH7vqY3yx6HlkFx5AcXkRosNiUD+uCUb3n4hGdZuKheiKFfaaVlu2AKdO2WWrUwfo2RPgRA8/AIfgEO0BM1AIfdWnimUE87B6Kbi9cR20jWepaTKHp8LrMi9XPC0hPx+X/v0nOu/YikY5h5HAyNRyxuzkJSQhp3YalmT2wB/n9YTNV5qc4p3FuGBIWjJmdmQvBDZvRtEnn+LI1u0oZU0FjjD9DzTOwKJh1yK9RTO0S4itJCWN5stiWIKk0BoB8mOtEaf9goWAaL5MBFawLC3WukRgiWWPkJeGCCz3Jjy4azNW/bIG2dvqorysZhpXWHgx6rc9hm6XZ6JxS3ELbQfLQbWsgzXmx6P4v29Z4W4ZY9Ott2I3Sxd7+tTTKGX/hMKIYcTo33dvQXhFrfGzUWHo/l99fOrS0gZ4dayMIuehAGwIyyjaA2YgUCqpTxXFIrXeaNcEV9er5XNL3m2ww7JNKHWq0e/zIpoQEAKshCC+P7clvsw+gW9zTqKYRWV6GtHMliPq18KYBrWwczErzM6GrCLuAUlIFxMCwUHASPfk4CBEq4YKAqL5MhFYoeI5gclJBFZg+NHVLggYncDyJ4Jq1cKfsWpOOMptrFCyjxFmKUW3q8vQ7dJBvqYa6vMla77HhI0TUepc20ZlDV987yAG/+M7fYQfoe5+IAMrO6VicspkSYpQIrAmfXwI1y6uShGb3ScFT41hRcl1GDdG9sDDo2fosDNt6YyAaA+Y/lrH3/pU75+TgaE+SKwJWw9IRAoNbRHgvQDddWv0JEUCyvHKaXvkLBFY2tqKdlMPAaPck9VDhFYKVQRE82UisELVk5TJTQSWMrxotg8ERCSw/CGdXK+xsbre+SciUHAsjSHgrraK85tj9t+MiIpOOM0al4Wh5Ay/RtnoMuQMeg0JTr0TZZJoN/vt2Q9her660ToWqw1fPbMH7Q4U+VSkOCIMVz/XEgfrs6K/bESyf0KNwOKF6P8cv62ynpeNpSP1fKctCuOU1wPyCZiPCbzG1ZzBP4qXJhioYiF4vWgPmP5AGEh9Kk6SDGLpag1joqrVyOJRV3OPnsLqvAIpAoiCr/yxjLbXRJXb8NaZg9KmRGBpiz3tph4CRrgnq4cGrRTKCIjmy0RghbI3yZedCCz5WNFMGQiIRGDt/Hclln+3E/lHWRHYcp6s4DLCWNHfukdxwbBWaNW5O44e2ouFH/2FMznJKCuJY5P5sUevUY7UjENIaRCBYkZK5OWEw2a1wBJhQ3I9G2o3SlC1bpaDsMvNOuP3Xv4QhQ50HdeuWbcXe8oKUcRSKvNijmFX2lqURJytZoQoayxaHu+K5KI6iCqLRombuclnrPjx0R1IKfD9bj+nVgSufL5lDZInlAisCEbU9Vt3BpM/Poxa+VXV6Bd1TcSE8Rm6ODGvf/XO7Ut02Zs2rY6AaA+Y/tjnvi378Q0jmdQanNL13W9Urd1oHbUQcCawWl90CdolJai1NK1DCGiGgBHuyZqBRRsJjYBovkwEltDuoppwRGCpBiUtxBHQk8DiJMiqBb9h/4ZSFJ5IYbWmeCRNze5nNS3F3rszMstOcsmZL4itw6yo0yIbiXUiYC2xuS0K74tUctTmOrK1Hsvj8JziGBZewmp0HXVbo8tXfS9YipFQ5wRiE8tQmMcIufxY2EpZHTCGeZiFxzyUo6w4nv1/TZKxjB0xjybux4qM71HKiKpOR/ox8uo8RNpq1hErZfuctf6Ih2e+W1n/yZulVreOw62PNvXYUVBLAksOKedOl9VjNyPKao8bcfXcosgw9HmrLYpi3JC3QXbhyPJyvNFpir7dBYOsYygtL9oDphLseOTVO/tzGHlVUVRfycU013AIOBNYy1p1xtRz2D2cBiEQYgiE8j05xKAmcYOMgGi+TARWkA0uyPJEYAliCKOIoQWB5S697/SxKJw9UdstCWIUbJXpUQZLZBGL2opxG33Gi8Yn1s3F6WzWYa3cd20ux96OGl3tuveQuike2JiPUwfT2cfBjVYrl5J7yhlJ436fFrv/wMBFz8qC6OsLa+HZW3x3FNSCwKpVWN8nKbcrbQ02pC/BybjsGvqtu20TWFBejVHG2Ky7HszA3x0SZWGi9qS7Egdi3LBpai9L6/mJgGgPmI7UvT2FxcgvY5Gw4eHVUvscaiop2O4nNHRZiCHgTGA9nMxqFfbqgORI7VOkQww2ElcwBES7JwsGD4kTQgiI5stEYIWQ8wQgKhFYAYBHl9ZEIJgEls9IHzKIdghYWPKNTf9DQ7dVH6H72k9l6f3cjemYdQknOeWNYBNYPA3yol3Xs2gx3ziWsWi7xS0/l1IqnYczgcUpvhJWx2t7kxg8ekejylpe8rRVZxaPvBqTdDmRV+rAqdoqojxg8miqGQeP4TuWCnjWTce5WIsFw+ql4PbGdbA1vwh3s7RBGoSAMwLOBNZ9iY3xXJsmuKmh8jqThCohoCcCotyT9cSA9jYGAqL5MhFYxvArX1oQgeULIQN8PnfuXLz//vtYt24d8vLy0KBBAwwcOBAPPvggWrRooaqGwSKwlHTyU1UhWkxIBAb++iRa7FvmUzZO6swZPBXbW2SgjKUsWlkq5KmYo/inyQ/Ij7HX02E3QZRXdD90TuWLKY/BJed2kOa8cHwqCiJOS/+tJN3P3dz8yFOoU9gQrY939ym/64SFrT7C7rR1iq8L9gWRNht6WtMwKvNBShsMNth+rC/CA6aSaKpI9n20se9lVTU3P5SmSwyJgCuBdWuTeni6pe+IWkOCQUqFLAIi3JNDFjwSXCgERPNlIrCEco+gCUMEVtCg1X/hcnYAGDt2LD788EO3wiQkJGDWrFkYNGiQasIGg8Di5NXK2SwVjoapEbBYS3Dt7DuResreQt3bKI2IxhcjP0R+Un2303hKYkn4WeQk7EJY4m6sStmLdkd7VKuvFRZejoaX5UvXH1wQi7yIE1IdrlpF9VjanvsaXI50P36Nt3pdvuT39DmPxPq201SWTpjj7xKqX9eQ1V+bedVP1G1QdWTVW1DvB0xOXlE0lXr2NPNKrgTWNQ3q4OW2jc0MCekeggjofU8OQchIZEEREM2XicAS1FFUFosILJUBFWm5KVOmYOLEiZJI11xzjfTf6enpWLFiBe6//37s27cPnMRas2YNWrdurYroahNYPG3wh1ezUO6lwLgqgtMiwiIQW3gC18+6BdElBT5lzEusj69GfgBrpDLCkxNaYS5l0J0JrEMLElhTAHkF/m1SQwBeFSw4xdO31F2OP1vM8omFFhPCGUn+FhVr1wLqgPbQ8wGTpw1etmoHSpiv0CAEAkWAIrACRZCuFwEBPe/JIuhPMhgHAdF8mQgs4/iWN02IwDKonXNycqT0QP5FHjx4MH744QeEVaRJcZX37t2Ljh07Sp+PGDEC33zzjSpIqE1gfffWJziyuZEqstEioYVA3ZytGDH3PkYr+T74HmiYiR8Gveixo6A/mvtLYPmzl5JreLfFTzMns3pXZ5VcFpS5VKw9KLCqvqieD5gPbjuAz4+cUF0nWtCcCFANLHPa3Wha63lPNhqWpI++CIjmy0Rg6esPWu1OBJZWSGu8z7Rp0/Dwww9Lu65fvx6dO3euIcGECRPw+uuvw8IK5x45cgR169YNWEo1CSzebfCTx1eyyJea6VoBC0oLCItA6x0LcOnil2TJt77jMCy7YJysuUoniUpgcT2WNJ+FrfWW11DJuZ6XXH0dhdd5yvGHZ+aj1Ino9rQGFWuXi64Y8/R6wOTdBrss3+y2YLsYyJAUoYYAdSEMNYuRvO4Q0OueTNYgBNRGQDRfJgJLbQuLuR4RWGLaJWCp+vbti6VLl6JVq1bYsWOH2/WWLVuG3r17S5/xOlm33nprwPuqSWAtnTcHG35ODlgmWiA0EOi54n103SAvEvD3vg9ha7vLg6qYyATWv+mLsaLp3Gr6c1Lp3tSRWJPzO1ZG5KLI4j3lMYZ1geturV2t8PrStfPw1ZpXPF7v7pqgGoEWVwUBvR4wPz50HI/syFJFB1qEEOAIOBNYy1p1xtRzmhIwhEDIIaDXPTnkgCKBhUdANF8mAkt4l1FFQCKwVIFRvEUSExORn5+PG264AZ9++qlbAYuLixEfH4+ysjLce++9eOuttwJWRE0C64cZn+HAmgYBy0QLCIwA61435JfHkZG1yqeQvErV7KveQE799j7nqjFBZALLXR0s53S+rKP78MWi55FdeAAFZfk4jUIJkqSweMRb4lE/rglG95/osfC68/XF5UWIDovxeY0amNMawUFArwfMyTsPYXrWseAoRauaEgFnAqv1RZegXVKCKXEgpUMbAb3uyaGNGkkvIgKi+TIRWCJ6ifoyEYGlPqa6r3jo0CE0amSvG/XEE0/gmWee8ShT48aNkZWVhf79+2PhwoUBy64mgUX1rwI2h7AL8I6C130zBimnD/uUsTgyDl9c8yEKE+r4nKvmBJEJLOcILErnU9PqxlxLrwdMqn9lTH/SUytnAovX94yIiNBTHNqbEPALAb3uyX4JSxcRAl4QEM2XicAyh7sSgWVAO//777/o0qWLpBmPquLRVZ5GZmYm1q5di3PPPVf6fzmD3xw8Df5ZvXr1pI+PHz+O5GT/UwB//t9XyFqfLkckmhMiCMSfycF1X41BVGmRT4lPpjTCrGv+C1uEPjXQOIHV4BK7rx/+LV52F0KfiqkwYWnT2diftgLnWVMx4tzxuKDLYBVWpSWMigB/wPz1118l9QYMGKDZof/53YfxAUsjpEEIuCJwc4Pa6JoUj/9sP6ioQyXrB4sXztjTUrX0ZbIgIaAmAnrdk9XUgdYiBDgCovkyP4empKRIxuGZSDzTiIbxECACy3g2xfLly9GrVy9JsxkzZmDs2LEeteTz+PzWrVtj+/btstBw7mbo7YKvvvoKMTExstakScZGIHXzZvSeOJElAfoeR847DysnTfI9kWYQAoQAIUAIEAKEACFACBAChAAhwBAoKirCqFGjiMAyuDcQgWVAAzsTWDNnzsSYMWM8asmLuPNi7t6KvbteTASWAZ0mSCo1YVEf5773nqzVdwwfjq033ihrLk0iBAgBQoAQIAQIAUKAECAECAFCwIEAEVjm8AUisAxoZ+cUwrfffhvjxo3zqKXIKYRc6Hnvf4HsrQ0NaCVjq9T7z7fQadP3spRc0P9x7Gp9say5Wk4SMYUwzFKKQeMboWGztlpCQXuFOAJ6hvg/tuMgZmWfDHEESXwLg6BvaiL6pyZhSJ1kJEW6rz11utSKH4/lYW9RMQqsNsRHWNAsJtrrNUrQ1dOXlchJcwkBbwiQH5N/GAUB0XyZUgiN4lne9SACy4B2di7i/uSTT+Lpp5/2qGWTJk1w8OBBIYu4c6EP7tqMH17NQrkt0oCWMp5Kff98DR23/uhTMVuYBV9f/Q5y67T2OVevCSIWce8+ogjd+g/SCxLaN0QR0LPI6raCs7hs1Q5FdY4cMEewnOOwcqA0RHE3gtixFguG16uF2xvXQZt4/UsC6OnLRrAn6SAGAuTHYtiBpAgcAdF8mYq4B27TUFiBCKxQsJIfMiYmJkrF625kKVmffPKJ2xWKi4ul4nZlZWVSlBaP1gp0qNmF0CHLqoU/Y+Vs/R+cA8XG6Ne32/IjLl76mlc1i6IT8fk1/0NRXC3h4RCJwOKRV92GlRF5JbzXiCmg3g+Yc3JO4u4t+xWD8/45GWiXEIsZB4/h6+xcRoIpXkL4C3hdwFfaNEZsuAXjtx5AablvJSPDwnB+cjzWnC7EWZutho4xbNH60VGIsoTBxpaLY2u3jIvGvU3qYunJfCw6cRrHSqxSTcK0qAgpqmoQi6pafOIMdp+tipxqERuNq+qmINlDtJUe4Orty3roTHsaDwHyY+PZ1KwaiebLRGCZwxOJwDKonfv27YulS5d6Lc7uXCvrgw8+wG233RYwGsEgsLhQnMRaNSecIrECtlDwFhg6bwIaHtngdoPjqc0wa/j7gCV0Wp4LQWBZStDgnKPodvl5aNTinOAZj1Y2NAIiPGByEut+RtCUyCBoohhB82a7JhjKIn8cI4+lpn1/9BTWny7A8lMFyC+zoaxirTxrGWrSOGKblKfkDUpLxn+ap1dGNm0vKJLIutkMK3fElGs0lAMT0UknNS0hgi+rqQ+tZU4EyI/NaXcjai2aLxOBZUQvq6kTEVgGtfPUqVPxyCOPSNpt2LABHTt2rKHpAw88gNdeew0WliJw+PBh1KtXL2A0gkVgccGydm/Bql9W48jWOigviw5YVlpAXQTabJuPS5ZMq9ZpcFfzvvj10snqbqTRanoTWPXbZ2HATUOQkJyqkca0jVEREOUBUylBI9ceDiJna/5ZbGYkUBEjt2LY71oCy0HccOYsjpeWyV3K7TxOqMkh3txdzImqGBYJxSOsarNIpnrRkVLE06j0VI+RTWYkpuQaSBRflisvzWKbrW4AACAASURBVCME3CFAfkx+YRQERPNlIrCM4lne9SACy6B2zsnJQfPmzVFYWIgrrrgC8+bNq6bpvn370KFDB/Av+nDW/e3bb79VBYlgElgOAfPzTmD9kiU4lVOA0mIbIqMtKDlrw5EtnIALhVpZPEWEJ28Yb2TsX4EmB1bhZK0MbOpwVUgr6DeBFcYPy8zG5f5Fm1G6YEi7jZDCi/aAqTVBc5Clxb2w5wh2FRajkJFbjE9CCcutyy4pRRHPsXMZ4ezzVnExGMwipO5gtZ94Cp1rBBiP+uJrMW4LEex+nh4TiXhGUrVLiEE4LFLxchFT8IR0UAVCiebLCkSnqYRAJQLkx+QMRkFANF8mAssonkUEljks6UbL559/HpMmTZI+ufbaazFx4kTUr18f//zzD8aPH4+9e/ciISEBq1evRps2bVTBSQsCy5Ogjgitw1vqADZ3EVqliIgtZAcOlnpSGg1bKa+rxd+PexrsYMNqD8WlHmdRasDZvER2HbvGFu7hunJYIgtQv81JhLGDzKnDjFgriEV5eRjCo0oQk1CKhu1i0Lh1Bjb+udVjJFlYeDFSGh9D0ZlInD2RxogQvp+ZhuNA6Y7kU0L+eVvHi80ryEWlBBa3W3q7Y1K6Hx9KowWdr6d0QTP5e/B1Fe0BM/gay9tBayJNnlQ0yxsC5MvkH0ZAgPzYCFYkHTgCovkyEVjm8EuKwDKwnctZfZCxY8fiww8/dKslJ69mzZqFQYPU62qmJ4HlUNJdhFZKvXh06devWjqWY15u1hkWzWWBzcrem0fYkFzfhrSGCTXmK13fl2vJkdN5TlGBjZFaFpQWhaEoPwG24nj3RFpYKZIaZaO0IApnT9b2EAnkqBjjhsCzWBGTfBKxycUoLQxDYV4Syq1RbJ0wFlfEohciSxGblC+pV26zX19mtaD4dAr7C3cRcFZEJ59CSnoRajeKY3PKkXe8yCPB1+3Si1GYn4cls5YiPzeSrR2O8IgyJNQuRffBXbD1n004tNWColNct5rknjMRFBUTK61zOicaJYXxHklLxzUd+7bDrvU72frhKD5TCw0vPSvpd2hBAktbrSDULMVIqJOL+Fo2JheL+WMRgO78i1/nzsbxKYxcZWEbBSeLKiMIPV3vy4foc0JADgKiPWDKkZnmEALuECBfJr8wAgLkx0awIulABBb5gF4IEIGlF/Ia7jtnzhxMnz4da9euxenTp9GgQQMMGDAADz30EFq0aKGqJCIQWKoqJPBiSgkwR7qlgyzhqrmmYgZCpMiRR004/dlPyTV5J47hj6XLJZFtWXmIjPJMVKmpF61FCKiNAB2W1EaU1tMLAfJlvZCnfdVEgPxYTTRpLT0REM2XKQJLT2/Qbm8isLTD2hQ7EYFlCjObQknRfpRNATopGRQEyJeDAistqgMC5Ms6gE5bqo4A+bHqkNKCOiEgmi8TgaWTI2i8LRFYGgNu9O2IwDK6hc2jn2g/yuZBnjRVGwHyZbURpfX0QoB8WS/kaV81ESA/VhNNWktPBETzZSKw9PQG7fYmAks7rE2xExFYpjCzKZQU7UfZFKCTkkFBgHw5KLDSojogQL6sA+i0peoIkB+rDiktqBMCovkyEVg6OYLG2xKBpTHgRt+OCCyjW9g8+on2o2we5ElTtREgX1YbUVpPLwTIl/VCnvZVEwHyYzXRpLX0REA0XyYCS09v0G5vIrC0w9oUOxGBZQozm0JJ0X6UTQE6KRkUBMiXgwIrLaoDAuTLOoBOW6qOAPmx6pDSgjohIJovE4GlkyNovC0RWBoDbvTtiMAyuoXNo59oP8rmQZ40VRsB8mW1EaX19EKAfFkv5GlfNREgP1YTTVpLTwRE82UisPT0Bu32JgJLO6xNsRMRWKYwsymUFO1H2RSgk5JBQYB8OSiw0qI6IEC+rAPotKXqCJAfqw4pLagTAqL5MhFYOjmCxtsSgaUx4Ebfjggso1vYPPqJ9qNsHuRJU7URIF9WG1FaTy8EyJf1Qp72VRMB8mM10aS19ERANF8mAktPb9BubyKwtMPaFDsRgWUKM5tCSdF+lE0BOikZFATIl4MCKy2qAwLkyzqATluqjgD5seqQ0oI6ISCaLxOBpZMjaLwtEVgaA2707YjAMrqFzaOfaD/K5kGeNFUbAfJltRGl9fRCgHxZL+RpXzURID9WE01aS08ERPNlIrD09Abt9iYCSzusTbETEVimMLMplBTtR9kUoJOSQUGAfDkosNKiOiBAvqwD6LSl6giQH6sOKS2oEwKi+TIRWDo5gsbbEoGlMeBG344ILKNb2Dz6ifajbB7kSVO1ESBfVhtRWk8vBMiX9UKe9lUTAfJjNdGktfREQDRfJgJLT2/Qbm8isLTD2hQ7EYFlCjObQknRfpRNATopGRQEyJeDAistqgMC5Ms6gE5bqo4A+bHqkNKCOiEgmi8TgaWTI2i8LRFYGgNu9O2IwDK6hc2jn2g/yuZBnjRVGwHyZbURpfX0QoB8WS/kaV81ESA/VhNNWktPBETzZSKw9PQG7fYmAks7rE2xExFYpjCzKZQU7UfZFKCTkkFBgHw5KLDSojogQL6sA+i0peoIkB+rDiktqBMCovkyEVg6OYLG2xKBpTHgRt+OCCyjW9g8+on2o2we5ElTtREgX1YbUVpPLwTIl/VCnvZVEwHyYzXRpLX0REA0XyYCS09v0G5vIrC0w9oUOxGBZQozm0JJ0X6UTQE6KRkUBMiXgwIrLaoDAuTLOoBOW6qOAPmx6pDSgjohIJovE4GlkyNovC0RWBoDbvTtiMAyuoXNo59oP8rmQZ40VRsB8mW1EaX19EKAfFkv5GlfNREgP1YTTVpLTwRE82UisPT0Bu32JgJLO6xNsRMRWKYwsymUFO1H2RSgk5JBQYB8OSiw0qI6IEC+rAPotKXqCJAfqw4pLagTAqL5MhFYOjmCxtsSgaUx4Ebfjggso1vYPPqJ9qNsHuRJU7URIF9WG1FaTy8EyJf1Qp72VRMB8mM10aS19ERANF8mAktPb9BubyKwtMPaFDsRgWUKM5tCSdF+lE0BOikZFATIl4MCKy2qAwLkyzqATluqjgD5seqQ0oI6ISCaLxOBpZMjaLwtEVgaA2707YjAMrqFzaOfaD/K5kGeNFUbAfJltRGl9fRCgHxZL+RpXzURID9WE01aS08ERPNlIrD09Abt9iYCSzusTbETEVimMLMplBTtR9kUoJOSQUGAfDkosNKiOiBAvqwD6LSl6giQH6sOKS2oEwKi+TIRWDo5gsbbEoGlMeBG344ILKNb2Dz6ifajbB7kSVO1ESBfVhtRWk8vBMiX9UKe9lUTAfJjNdGktfREQDRfJgJLT2/Qbm8isLTD2hQ75efnIzExUdL10KFDSE5ONoXepKTxEOA/yvPnz5cUGzhwICIiIoynJGlkCgTIl01hZlMoSb5sCjMbXknyY8Ob2DQKiubLnMCqV6+ehP+ZM2eQkJBgGluYSVEisMxkbQ10PXr0aOWNQ4PtaAtCgBAgBAgBQoAQIAQIAUKAECAECAFCoBKBnJwc1K1blxAxIAJEYBnQqHqqtHfvXjRv3lxPEWhvQoAQIAQIAUKAECAECAFCgBAgBAgBkyJABJZxDU8ElnFtq4tmPFwzKSlJ2js7O5tCN3WxAm2qBgLOYcj8RzA+Pl6NZWkNQkBzBMiXNYecNgwSAuTLQQKWltUUAfJjTeGmzYKIgGi+XF5ejsLCQknjtLQ0WCyWIGpPS+uFABFYeiFv0H2peJ5BDWtCtciXTWh0g6pMvmxQw5pQLfJlExrdgCqTHxvQqCZViXzZpIbXWW0isHQ2gNG2pxuZ0SxqXn3Il81re6NpTr5sNIuaVx/yZfPa3kiakx8byZrm1oV82dz210t7IrD0Qt6g+9KNzKCGNaFa5MsmNLpBVSZfNqhhTagW+bIJjW5AlcmPDWhUk6pEvmxSw+usNhFYOhvAaNvTjcxoFjWvPuTL5rW90TQnXzaaRc2rD/myeW1vJM3Jj41kTXPrQr5sbvvrpT0RWHohb9B96UZmUMOaUC3yZRMa3aAqky8b1LAmVIt82YRGN6DK5McGNKpJVSJfNqnhdVabCCydDWC07elGZjSLmlcf8mXz2t5ompMvG82i5tWHfNm8tjeS5uTHRrKmuXUhXza3/fXSnggsvZA36L50IzOoYU2oFvmyCY1uUJXJlw1qWBOqRb5sQqMbUGXyYwMa1aQqkS+b1PA6q00Els4GoO0JAUKAECAECAFCgBAgBAgBQoAQIAQIAUKAECAEvCNABBZ5CCFACBAChAAhQAgQAoQAIUAIEAKEACFACBAChIDQCBCBJbR5SDhCgBAgBAgBQoAQIAQIAUKAECAECAFCgBAgBAgBIrDIBwgBQoAQIAQIAUKAECAECAFCgBAgBAgBQoAQIASERoAILKHNQ8IRAoQAIUAIEAKEACFACBAChAAhQAgQAoQAIUAIEIFFPkAIEAKEACFACBAChAAhQAgQAoQAIUAIEAKEACEgNAJEYAltHhKOECAECAFCgBAgBAgBQoAQIAQIAUKAECAECAFCgAgs8gFCgBAgBAgBQoAQIAQIAUKAECAECAFCgBAgBAgBoREgAkto85BwhAAhQAgQAoQAIUAIEAKEACFACBAChAAhQAgQAkRgkQ+ohsDcuXPx/vvvY926dcjLy0ODBg0wcOBAPPjgg2jRooVq+9BChEAwENi3bx+aNWvmc+n4+Hjk5+f7nEcTCIFgIVBeXo5t27Zh5cqVlf9u2LABJSUliI6ORlFRkaytz5w5g9deew3ffvst9u7di/DwcLRu3RqjR4/GuHHjEBkZKWsdmkQI+ItAoL781FNP4emnn/a5Pffnt99+2+c8mkAI+IvA2bNnMX/+fPz6669YtWoVdu/ejYKCAqSkpKBTp04YPnw4br31VsTGxnrdgu7L/lqArlMDgUD9mO7JaliB1vCFABFYvhCiz30iwB9Ax44diw8//NDt3ISEBMyaNQuDBg3yuRZNIAT0QoAILL2Qp32VIuDNV+USWJyw6t+/P/bs2eN2+8zMTCxcuBC1atVSKh7NJwRkIxCoL9NhSTbUNDHICCQlJYGTT95G27ZtMW/ePLRq1crtNLovB9lItLxPBAL1Y7on+4SYJqiAABFYKoBo9iWmTJmCiRMnSjBcc8010n+np6djxYoVuP/++8EfUDmJtWbNGuntPg1CQEQEnA9SP//8M/r06eNWzLCwMPAoLBqEgF4IOPtqw4YN0b17dxw/fhxLly6VFYHFI7W6du2KzZs3S9EAU6dOxdVXX43S0lJ8/PHHeOaZZ2Cz2XDppZdiwYIFeqlJ+5oAgUB92XFYatKkieTPnkZUVBT4vzQIgWAhwJ8NuI8NGzYMQ4cORbdu3aQXAAcOHMD06dOlDAX+wrdp06bYuHGj9FzsPOi+HCzL0LpKEAjUj+merARtmusvAkRg+YscXSchkJOTI6UH8jDpwYMH44cffgC/+TkGf5vUsWNH6fMRI0bgm2++IeQIASERcD5ILV68GBdeeKGQcpJQhAB/y//777/j/PPPR/369SVAHA+NciKweCrVfffdJ1339ddfY+TIkdVA5YTWI488Iv3djz/+KN3baRACwUAgUF92+H1GRob0sowGIaAXAjxN9Yknnqi8J7vK8dJLL+HRRx+V/pr/98MPP1xtCt2X9bIc7euMQKB+TPdk8ictECACSwuUDbzHtGnTKn+E169fj86dO9fQdsKECXj99ddhsVhw5MgR1K1b18CIkGqhigARWKFqOZKbI6CEwGrfvj22bNmCc889F2vXrq0BII/E4pFdx44dk8grTmLRIAS0QkCJL9NhSSur0D6BImC1WiVyKzc3V3pBxl+UOQ+6LweKMF2vBQK+/JjuyVpYgfYgAot8ICAE+vbtK6Wt8Hz+HTt2uF1r2bJl6N27t/QZr5PFi1jSIAREQ4AILNEsQvIoQUDuoZ/XvHI01Xj++efx+OOPu93m9ttvx8yZMxETEyMduOLi4pSIQ3MJAb8RkOvLfAM6LPkNM12oAwI9e/bE33//LZXT2L59e6UEdF/WwRi0pd8IePJjuif7DSldqBABIrAUAkbTqyOQmJgodWS74YYb8Omnn7qFp7i4WKoZVFZWhnvvvRdvvfUWwUgICIeAOwKL16SguinCmYoEcoOA3EM/7zjoSBlctGgRLrnkErd4cvKKk1h8rF69GryoOw1CQAsE5Pqyu8MSr93G/42IiNBCVNqDEFCEQPPmzaWOr+edd57UqdAx6L6sCEaarDMCnvyY7sk6G8ZE2xOBZSJjq63qoUOH0KhRI2lZnvfPC/96Go0bN0ZWVpbU9Yp3tqJBCIiGgDOBxUP5+Z957TZeU+icc86RUql43SBKgRXNciSP80OjrxpYPOpq0qRJEmi8zTt/EHU3fvvtN+l+zcdnn32G66+/noAmBDRBwB8CizcjaNasmRTVwl+WpaamSs0NbrrpJqm5THh4uCay0yaEgCcE1q1bJzXP4IPXGeI1rxyD7svkN6GCgDc/dn4WoXtyqFg0NOUkAis07SaE1P/++y+6dOkiycKjqnh0lafB397zWiueaq4IoRAJYWoEvLVzdwDDOwp9+eWXGDBggKmxIuXFQ0Duod9Rk5BrwAtou3bCcmjGu2R16tRJ+uMbb7yB8ePHi6c0SWRIBOT6svNhyRsQvNTB7NmzkZaWZki8SKnQQIC/EOAvBnijI14z1nF/5dLTfTk0bEhSQnqx5cmP6Z5MHqIVAkRgaYW0AfdZvnw5evXqJWk2Y8YMjB071qOWfB6f75r3b0BYSKUQRYC3ur7jjjswevRo6S0pb8vO01D4G/2PPvoI77zzjvRmn79V+uuvvyrfpIaouiS2wRCQe+jnPs7v13zwYu2eUq127twp3a/5mDJlCh577DGDIUbqiIqAXF/m8vMGMbx+0JAhQ6RanA0aNJDKGvDamy+++CJWrFghqXnBBRfgzz//pEgsUY1ucLmcGx7dfffdePfdd6tpTPdlgzuAQdTz5cd0TzaIoUNADSKwQsBIooroTGDxeiljxozxKCov4s4fKL0VexdVT5KLEOAIzJ07F8OGDfv/9u4Eeqr5/+P4W2ix/EqWInu2soSQLS2KtBwlnWSLshVCZCmidFBKyL60UaSFIrss2Slr1uxbWUpSWiz/8/qc/51zv9OdmTtz536b5fk5x0HfO3d53DvDvL7vz/tj//33nzVr1sxeeOEFYBAoGIGwX/r9X5S0mlCqqVXz5893n9ca6Zq9FwwAJ1IyAmGf5UwXrF84dOvWzSZPnuw2HTNmjJ1yyimZXsbPEcirwFNPPeVaEOh53HPPPe2NN95wvwjzDz6X80rOzmIQCPMcZzosn8mZhPh5WAECrLBSbLeGgH8Koebya05/qsEUQh6gUhA47rjjbNKkSe5S1ANOv+1nIFAIAmG/9PunqqhSRQtsBA2mEBbCXS3Pcwj7LIfR0QqaqqZdvny5tW7d2p5++ukwL2MbBPIiMGfOHGvRooWbrq1esPpFrv6ePPhczgs3O4lJIOxzHObwfCaHUWKbTAIEWJmE+HlKAX8T94EDB9qgQYNSbqv/gfzuu+9o4s7zVNQCEyZMcCtuasycOdPatm1b1NfDyZeOQNgv/f5mwZp6pcbXQWPWrFmJFQpp4l46z0kxXEnYZznstSi40oqbm2++uf38889hX8Z2CEQS+Oyzz0yzD3755Rf37GkK62677Ra4Tz6XI1Hz4hgFsnmOw54Gn8lhpdgulQABFs9GJIGNN97Y9Zs46aSTbPz48YH7Wrlypfstv0pHk1deiXRwXoxAJQtoBc0jjjjCHVVhlvplMRAoBIGwX/o1nUqrsmmoEWvLli0DT//ee+9N9DXUcu9a9p2BQGUIhH2Ww56LVtCcOHGirb/++rZq1aqwL2M7BHIW0C9sFV6pt2bNmjXt+eefd4sYpRp8LudMzQtjFMj2OQ57Knwmh5Viu1QCBFg8G5EEtLrP7Nmz0zZn9/fK0peiHj16RDomL0ZgbQncd999bll2DSqw1tZd4LhBAmG/9Kvqqn79+m4X6Zqzez1ZqlWrZosWLbINNtgAeAQqRSDssxz2ZA4//HBTRSEVWGHF2C6KgCqumjZt6haAUa8rTVtVmJVu8LkcRZzXxiGQy3Mc9jz4TA4rxXYEWDwDsQgMGzbMLrnkErfv999/3zWoTB59+/a1kSNHWpUqVezHH3+0OnXqxHIu7BSBuAWOPfZYtxy7Bj2w4tZm/9kIZPOlv2HDhvbxxx+7lTTV2yJ5qLn71ltvbQsXLnTTZBXWMhCoLIFsnuVM56QvYWphsGLFClc9q0bEDATiEvjjjz9cz6u5c+e6ir8ZM2ZYmzZtQh2Oz+VQTGxUCQJRnuNMp8dnciYhfh5GgAqsMEpsk1JAX3B23HFH1yC1Q4cO7j/W/vH111/bHnvsYcuWLbPOnTvblClT0ESgIAUUSNWrVy/luT300EOmJu5ahVD/g6rf6DMQKBSBbL70jxo1yvr06eNOXZ/J+mz2j+HDh1u/fv3cHz366KPWvn37QrlMzqMMBMI+y7/++qupjYGqBIPG6tWrrUuXLjZ9+nT343HjxiUqaMuAkUusZAGFpEceeaTrdaVf2D744IPu+Qs7+FwOK8V2cQpEeY75TI7zzrBvvwABFs9DZAF/88muXbvagAEDrG7dum6pYH1J+uqrr2yjjTayt99+23bdddfIx2MHCMQhoOklzZs3t44dO7peFaoU/Pfff900APV3u+eee1x4pX5uWkmoUaNGcZwG+0QglMBHH31k+i2pN/R8aop21apV7cUXX6ywDz3P/i/56gOk6qt58+a5KS4KrPTc6wu/vuQPHjzY9Sxk1bZQt4KNIgrk+iw/8sgj1rt3b7ewRqtWrVyDbPUbWrJkial1wfXXX+8qYTSaNWvmfumgYIGBQL4F9Hl5zDHHJH6Jq1kHp512WsrD6DlMnpbN53K+7wr7y1Yg6nPMZ3K24myfqwABVq5yvC4hoC/1+g/16NGjA1UUXk2aNIkV23hmClqgVq1a7otPurHVVlu5ZsD6MsRAYG0KKGxNDqpSnY9+ibD99ttX+LH+TF/61XslaDRu3Ni0aMEmm2yyNi+TY5eBQK7Psr4sderUKaNQu3btTCtp6jOegUAcApptkGpF16DjbbfddqbXJA8+l+O4O+wzrEDU55jP5LDSbBdVgAArqiCvTwg8/PDDduedd7rfeKoyQF/2VU590UUXJZoGw4VAoQpMmzbNLUigykFNJ1QptHoB1a5d21VbaRpV9+7d3ZQVBgJrWyDXL/3+8166dKnrT6hphAqy1l13Xbcgh1bXPOecc1wPFwYCcQvk+iyrl4qmdqvaSj04f/75Z1u8eLGrNtT/fzRp0sStkKxKQgYCcQpE/eLP53Kcd4d9hxWI+hzzmRxWmu2iChBgRRXk9QgggAACCCCAAAIIIIAAAggggAACsQoQYMXKy84RQAABBBBAAAEEEEAAAQQQQAABBKIKEGBFFeT1CCCAAAIIIIAAAggggAACCCCAAAKxChBgxcrLzhFAAAEEEEAAAQQQQAABBBBAAAEEogoQYEUV5PUIIIAAAggggAACCCCAAAIIIIAAArEKEGDFysvOEUAAAQQQQAABBBBAAAEEEEAAAQSiChBgRRXk9QgggAACCCCAAAIIIIAAAggggAACsQoQYMXKy84RQAABBBBAAAEEEEAAAQQQQAABBKIKEGBFFeT1CCCAAAIIIIAAAggggAACCCCAAAKxChBgxcrLzhFAAAEEEEAAAQQQQAABBBBAAAEEogoQYEUV5PUIIIAAAggggAACCCCAAAIIIIAAArEKEGDFysvOEUAAAQQQQAABBBBAAAEEEEAAAQSiChBgRRXk9QgggAACCCCAAAIIIIAAAggggAACsQoQYMXKy84RQAABBBBAAAEEEEAAAQQQQAABBKIKEGBFFeT1CCCAAAIIIIAAAggggAACCCCAAAKxChBgxcrLzhFAAAEEEEAAAQQQQAABBBBAAAEEogoQYEUV5PUIIIAAAggggAACCCCAAAIIIIAAArEKEGDFysvOEUAAAQQQCCfQunVre/bZZ93GF198sQ0dOjTcC9mq6AT+/fdfu/322238+PH28ccf259//mn//fefnXfeeXbjjTdmvJ6vv/7adthhh8R29evXt/nz52d83WGHHWazZ89ObPfaa6/ZgQcemPF12WzQvHlze/HFF6179+42duzYCi/Vv5966qnuz3S9a3NU5vtt++23t2+++cauvPJKu+qqq7K+7BdeeMFatGjhXvfVV1+Z9sdAAAEEEECgHAUIsMrxrnPNCCCAAAIFJfDjjz/aNttsYwo2NOrVq2fffvutValSpaDOs5hPZp111nGnP2bMGDvllFPW6qVccMEFgUFVrgGWLiZTGKUARaGXPzjK9JpckIohwKrs9xsBVi5PEq9BAAEEEEBgTQECLJ4KBBBAAAEE1rLA8OHDrV+/fhXOQtVYhx9++Fo+s9I5fKEEWEuXLrVNN93UVq9ebccee6xdc801VrduXdP5Va1a1f2VafgrsP73v//ZH3/8YWeffbbdcsstKV+q4wwYMMC87cOEXpnOI+jnxRBgVfb7jQArlyeJ1yCAAAIIIECAxTOAAAIIIIBAwQk0atTI3n//fTv44IPt008/td9++81VCalaiJEfgUIJsN566y074IAD3EW9++67pnuf7fAHWHpONDVv8803N1UWrbfeeoG723333e2jjz5yU/i856qyK7Cyvc64ti+29xtTCON6EtgvAggggECxCVCBVWx3jPNFAAEEECgpgQ8++MD22msvd0133XWXvfPOO64/0sYbb2wLFy60GjVqlNT1rq2LKZQAS/2hVKWkkWs/I3+Adf/999uFF17onpXHHnvM2rVrtwaxnql9993XPUsPPfSQdejQm3oFVQAAEqtJREFUwW1TjgFWMb7fCLDW1qcGx0UAAQQQKDQBAqxCuyOcDwIIIIBAWQlo6qCmNFWrVs0WLFjgqmQOOeQQZ/DAAw/Ycccdl9IjebrWE0884XorzZ0711asWGG77bab9enTx0466aTEPj755BMbNmyYzZo1yx1vyy23tK5du9oVV1xhG264YcpjrVy50gVrkydPdo3Hly1bZltssYUdeuihbvqa/h401LR60KBBtt1225mCl1Qj3TSr5Ot8/vnnbcSIEaZqpiVLlrj+Ycccc4z179/fatasWeEQ3mvTPVS5BElffPGF3XDDDfbMM8/Y999/b+uuu67rMdW+fXtTjytVRPmH55DuPMI2NvcHWHpGXn/9dbvpppusW7duNnHixDUOoYBL56pn6cwzz0w0BA8KsPTcPPfcczZ9+nR79dVX3T1btWqVbbbZZrbffvtZjx49rGPHjqGfSf+GYZu4v/nmm3bnnXe6hvOqKlMvON3jxo0bu2s48sgjnXcuI8r7zTue7rmuRT56DykY1PmpglLn16xZswqnFmYKod6PeqZ1L//66y/XqL1Lly5uavHbb79NE/dcbjavQQABBBAoOQECrJK7pVwQAggggECxCKhp+7bbbms//PCDC2CmTp3qTl2ryn355ZfWtm1bmzlzZqiwYMcdd3SrnAWNgQMHuhDpySefdH2XFD4lj6ZNm7pQK2gKmhrKKzRQ+JVq6Iu2Vk70Kp287fIdYGkq3CWXXBK4it0ee+zhQgVVr3kjjgBLVU89e/Z0wU7Q2GSTTWzGjBkVQr04A6yddtrJ9t9/f9tggw1cJdZGG22UOC09YwpXFASpQkshpbeiXVCAlarBvP86TzzxRLeCYvK91jZRemD9/fffbiXG2267Le1bOJfAUTuM+n7T++bkk0+2adOmpT2/5CAyU4B13XXX2WWXXRa4z4YNG9rVV19tnTt3dj/P9dqL5TOR80QAAQQQQCCdAAEWzwcCCCCAAAJrSUCN2lu3bu2OrvBKIZaGqqGGDBniwiSFW6p0ChpeWKAvyKqUUT+kc88911VvKADr27evq2JRBcvjjz/uKq0UAA0ePNj1Xvr9999d9ZeqXTQUHPTq1avCoVSRo8oXVYapwfill15qJ5xwgtWuXds0HUvh2Msvv+xeoyofBSD+kc8ASxVOuk6FcLq2XXbZxX799VcbNWpUooG5wi0FAt5QNcs///yTCLXuuOMOd/7+oVAnKIwJMtcUwJYtW7owRMHRtddeawr/FGbJWFVgixYtcs3S1ddMlWca+rn+0v1QMKkxb948F2B6wx88pXskkyuwVPWjajv1T1Ow5K+4854xVVD99NNP7l6lC7B0Pz///HPr1KmTuz5V6CmQ0THvu+8+u+eee0xBkyq+VN2XPKIEWL1793ZVfhraz0UXXeSmPuq50yqKqrxT/y4FcXrGsx1R3m8yUHWd7rGG3quqPNT7Se8vVeSpMmv06NEuZPKPdAGWAmrtV0MBrEJghZFqzK/qOoVXW221VaJ6kQAr27vO9ggggAACpSRAgFVKd5NrQQABBBAoKoHu3bu7wKFWrVpuKpKmEWooiFAgoZEqKNDP/NVF559/vo0cObLC9SugUoCiL8MKw/TFWP10kle6UwCjYKNJkyZuCpN/aFqTggSNCRMm2PHHH1/h5wpltFqiXq+pVJpOp3DLG/kMsLTPs846KxFy+E9EgcsjjzxiderUcZbJI189sNSvTMHd1ltvbXPmzFkjXFRj9gMPPNA05VKB4YMPPljhVPLRzygowFLQofBJlXKqtPOGQs1x48YlVin0Hz+XHljq06ZpiLp+VeYlB3+5Blh6fvQcauicFQQFhYoKkhQe5jKFMMr7TVV3XjDoVTQGfdgo3EuuYkwXYDVo0MBVNqqCUs+TPgv8Q+85Vbx5gwArSJ0/QwABBBAoFwECrHK501wnAggggEBBCSxfvtyFLX/++aedfvrproG7fyhsUu8b9R1Sr6eg4YUFqiBSdY1/6py3vfroTJkyxf2rKli8BuL+/d1yyy2uckvBlqZJ+b+Ae6vXqS+XV2mVfC5ek3D9ufalyhRv5DPA0hQ5TYVL7nOlYym8UoiloWodf2WT/iwfAZZ/BcG7777bTjvttMD7omlwN998s3P85ZdfKoQScQVYqrjT1FMFO6ra07Ol6jP9fenSpW5q5UEHHeQCzHQVWJneJHpuvV5pCl523XXXCi/JNcBS2KcG86oU0/3Tvc7niPp+U7ir3lyqknrvvfdc1VXYkSrAeuONN1zYqaGQUdMTg4Z3bP2MACusOtshgAACCJSiAAFWKd5VrgkBBBBAoOAF/JUVmpZ22GGHVThnVV6pqkpDTdO9iiz/Rl5Y0KpVKzd9KWhoSp2atlevXt0FGUE9rtT83ZvWph5K3pRFTYXbdNNN3W6Dpgf6j6fpZppGlVx1lM8AS1P31GA8aGiKo8I2DQUNCgD9Ix8BlircNHVR47fffqtQaeY/lr+aSLZt2rRJ/DiuAEsHUBNxVVWpkb9CtEmTJrmm4qru0b3RCBNg6RnQVMunn37aVQepgk+VRclDfb68FQ29n+UaYKnpvaaDqrpLx873iPJ+0/Wrr5kqvzRlVNNosxmpAizvedKzqfdacvWVdwx/jywCrGzk2RYBBBBAoNQECLBK7Y5yPQgggAACRSFw1FFHualeqhTSlLDk6VIKEerVq+f6Nw0YMMD1xEoeXligKUbqTxQ0vABJU76+++67wG38oYbOxevbpOlw++yzj3uNzlXT01KNo48+2jUuV5WPqn28kc8AK911+qfV6XqSV4LLR4ClQFHBYt26dV3FW6qxePHiRLil/mJnnHFGYtM4A6xbb73VzjnnHBfeKcRTuKR+Ueqppr5nGpkCLIWpqmTTNWQaeub809u0fS4BlgIir6ouqA9bpvMI8/Mo7zf1MlPPOA31wNK+shmpAiyvUk99xlRZmGr4qwsJsLKRZ1sEEEAAgVITIMAqtTvK9SCAAAIIFLyAP5xShcyFF14YeM6qRpk7d26iKXs2/Ya8HYYJkFKFKv5KIv2zphGmGgoyVOWiKVbqEZXN8bVtuj5B6UIR7zj+ACtoqmQ+AixNGbz33ntdc3M1Ok81VK20/vrrux+rSb7//sYZYKmCSQ2/V69eba+88ooLk/TP6qmmhvca6QIs9UzTtam6TCGdep+pMlCrGGpKn6bNqQeVGtRrqKG6+lX5Ry4BlqY8KmDVCArFor6ho77fZHnooYe601ATfu+fw55Xqmc77PPkbz5PgBVWne0QQAABBEpRgACrFO8q14QAAgggUNAC/qloYU/0pZdeSjS59l4TJtiJEmBlU4HVsWNHmz59+hoVWIMGDTKdg6q6FDKlGgowFGRceeWVbvuwoYi3XWUEWGErsBQEacqZRmVWYOl4XtWVVmxU2OFVY3lO6QIsrTCofmzqo/Xhhx8GTlv1X1u+Aqy4K7Civt+owAr7KcV2CCCAAAIIxCtAgBWvL3tHAAEEEEBgDYF9993X1Pg8mxHU6D3uAEt9edRUW1U3mXpg7bzzzjZ//nzXc+mBBx5IXNrQoUNdzyD11VIlTNBQlZAa0GvlvkIOsNRb6oILLnCXkK4Hlr9iJ3nqZZwVWDovrXrYrVu3BLPXDytMgNWnTx8bNWqU7b333imfT39VXr4CLJ2bng81vE+1ymQ275XkbaO+39Q7ToGkpvOqH5X6ymUzwvTA0pTNoMUJdBx6YGWjzbYIIIAAAqUsQIBVyneXa0MAAQQQKDgBf7PxMF+Gu3fvbuPHj3cNnhcsWGDVqlVLXFPcAZYOpCmB8+bNc9MHU61CqFXZFHpoJK9CqNXVNM0sXaNqNaA/4ogj3OvjCrA0pU9T+1Rl1LNnz5yeC60K6TWHT7cKoUIuBUeVuQqhd0H+lQf9KxJ6P09XgaUpq1oNc8899zRVHQWN3r172+233+5+lM8AS6Gbwjc1c9cqhDVq1MjpHiW/KF/vN/V2e/31152Nnvfk6bzpTjbqKoRaqVArFmowhTAvjwU7QQABBBAoUgECrCK9cZw2AggggEBxClx22WWuokJfgPVl1GuYnupq/CsETpkyxTp37pzYtDICLFVeeT2c1OPq+OOPr3Cqqp7SKoia4qg+SWoUX7t27cQ2WkGxYcOG7t9V3aMm4/6xfPly11PIq0iLK8BSTydVgF199dV2+eWX5/zw7LXXXq7Hlxrsqz+Zt2Kjt0MFPwcccICrJktekVHbxF2BpWMoAFKQVbVqVbcCoX+kC7C8Sh+FfQp+1A/LP7y+Wt6KhPkMsPxVawoYFRAGhUSqBtRqgArnwox8vd/8qxiqIb4a4wcN2SSv9Jmuv1uDBg3cSo+6T3PmzFljJcKJEyfaCSeckDgUAVaYu842CCCAAAKlKkCAVap3lutCAAEEECg4AX35VmClkOfggw92jbYzDX0h1iplatCtlf60Ipk3KiPAWrFihe23336uCkuBiAIBfaFWSKU+SQqctHKdRqpphk2aNHGr4qmqZsSIEaZ+WQog9GcDBw50gYumZy1ZsiS2Cqy2bduawkCFMvfff7+rLPOq2ZIDh3T3RNfasmVLF6JoXwp9mjZtaqtWrXL7l4+mF6rRuSp1FF6kCpByDSP8/b40XVPTNsOOdAHWZ599ZgpUdG1q+q57pXuvMGzq1KmmfmZq6K5QUiOfAZb256/ukrGCU03/03On94zOXU30tdplsmvQ9efz/aZ9qb/YzJkz3aG6dOlivXr1cs+RF0ar2bqCty+//LLC6aQLsLS/9u3bu+21L025VQCqvmC6twrL1Jjf6x+X6zMT9vlgOwQQQAABBApZgACrkO8O54YAAgggUFICWh1PX8w1gqqRUl2sN7VLX+R/+umnRIVTZQRYOicFTG3atHGVIqmGVqwbNmxYYNWMmsHrXBVQJQ8FPWr+rmmGOk5cFVj+Srbkc8g2FNBKeVpBTqFV0FC/JIUsQavVVUYFVro3TboAS68bMmRIyuoiBakKaXbffXd3iHwHWAprzz77bDeNMd0Ie7/y/X5btmyZq0DUvU03FHb5R7oAS9v5e1wl71eBou6JV3kZ9tpL6oOTi0EAAQQQQOD/BQiweBQQQAABBBCoJIEePXq4L/1BvYnChg633Xabq/zQqKwAS8dSJdYdd9xhkydPdtPLNPVP0+fUG0vTAoPCGv81ff75566a5LnnnnMVSnqt+l7179/f6tev7ypq4gywdC6qdrn55pvd1D81zVbVl0YuoYAa1qviTIHO999/b1WqVHHTwNq1a2d9+/Z1vZyCRqEHWDpnTVW96aab3LROhTGqulKVUL9+/axOnTqJkDLfAZbnpV5rWr1x9uzZbtpn9erV3ZRN9R/TtEw9N/LONPL9fvOO99hjj9nYsWNdTyw1ntcCBDo/vQdUDaeKPP/IFGBp21mzZtnw4cPdPvVe23bbbV1opQUQNLWwRYsWOT+rmZz4OQIIIIAAAsUiQIBVLHeK80QAAQQQQAABBBBAAAEEEEAAAQTKVIAAq0xvPJeNAAIIIIAAAggggAACCCCAAAIIFIsAAVax3CnOEwEEEEAAAQQQQAABBBBAAAEEEChTAQKsMr3xXDYCCCCAAAIIIIAAAggggAACCCBQLAIEWMVypzhPBBBAAAEEEEAAAQQQQAABBBBAoEwFCLDK9MZz2QgggAACCCCAAAIIIIAAAggggECxCBBgFcud4jwRQAABBBBAAAEEEEAAAQQQQACBMhUgwCrTG89lI4AAAggggAACCCCAAAIIIIAAAsUiQIBVLHeK80QAAQQQQAABBBBAAAEEEEAAAQTKVIAAq0xvPJeNAAIIIIAAAggggAACCCCAAAIIFIsAAVax3CnOEwEEEEAAAQQQQAABBBBAAAEEEChTAQKsMr3xXDYCCCCAAAIIIIAAAggggAACCCBQLAIEWMVypzhPBBBAAAEEEEAAAQQQQAABBBBAoEwFCLDK9MZz2QgggAACCCCAAAIIIIAAAggggECxCBBgFcud4jwRQAABBBBAAAEEEEAAAQQQQACBMhUgwCrTG89lI4AAAggggAACCCCAAAIIIIAAAsUiQIBVLHeK80QAAQQQQAABBBBAAAEEEEAAAQTKVIAAq0xvPJeNAAIIIIAAAggggAACCCCAAAIIFIsAAVax3CnOEwEEEEAAAQQQQAABBBBAAAEEEChTAQKsMr3xXDYCCCCAAAIIIIAAAggggAACCCBQLAIEWMVypzhPBBBAAAEEEEAAAQQQQAABBBBAoEwFCLDK9MZz2QgggAACCCCAAAIIIIAAAggggECxCBBgFcud4jwRQAABBBBAAAEEEEAAAQQQQACBMhUgwCrTG89lI4AAAggggAACCCCAAAIIIIAAAsUi8H+mC7BkpT+nEgAAAABJRU5ErkJggg==\" width=\"640\">"
      ],
      "text/plain": [
       "<IPython.core.display.HTML object>"
      ]
     },
     "metadata": {},
     "output_type": "display_data"
    }
   ],
   "source": [
    "# Plot sample means with error bars\n",
    "fig, ax = plt.subplots()\n",
    "ax.errorbar(np.arange(0, len(samples), 1)+1,means, yerr=sems, fmt=\"o\", color=\"b\",\n",
    "            alpha=0.5, label=\"Mean of House Prices\")\n",
    "ax.set_xlim(0, len(means)+1)\n",
    "ax.set_xlabel(\"Sample Number\")\n",
    "ax.set_ylabel(\"Mean of Median House Prices ($1000)\")\n",
    "plt.legend(loc=\"best\", fontsize=\"small\", fancybox=True)\n",
    "plt.grid()\n",
    "plt.show()"
   ]
  },
  {
   "cell_type": "code",
   "execution_count": 45,
   "metadata": {},
   "outputs": [
    {
     "name": "stdout",
     "output_type": "stream",
     "text": [
      "The range of SEM values in the sample set is 1.5559807261488328\n"
     ]
    }
   ],
   "source": [
    "# Calculate the range of SEM values\n",
    "print(f\"The range of SEM values in the sample set is {max(sems)-min(sems)}\")"
   ]
  },
  {
   "cell_type": "code",
   "execution_count": 46,
   "metadata": {},
   "outputs": [
    {
     "data": {
      "text/plain": [
       "[1.7599043036184485,\n",
       " 1.1886082086559095,\n",
       " 1.5034044698616535,\n",
       " 1.9699515756805586,\n",
       " 2.1312956276949424,\n",
       " 2.617315820695538,\n",
       " 1.9231840375027198,\n",
       " 2.5460898814084563,\n",
       " 1.3575500378487555,\n",
       " 1.8553961131904164,\n",
       " 2.718264490829629,\n",
       " 2.29212008273655,\n",
       " 2.7445889348047423,\n",
       " 1.8579201019589506,\n",
       " 1.8373522138922453,\n",
       " 1.9230085392699803,\n",
       " 2.109058158465402,\n",
       " 2.424982636942724,\n",
       " 2.6410172980162496,\n",
       " 2.4308161397487793,\n",
       " 1.4610450477582637,\n",
       " 1.7782975300166048,\n",
       " 1.5130293766932759,\n",
       " 2.3084102526927146,\n",
       " 2.3483488040031784]"
      ]
     },
     "execution_count": 46,
     "metadata": {},
     "output_type": "execute_result"
    }
   ],
   "source": [
    "# sems.sort()\n",
    "sems"
   ]
  },
  {
   "cell_type": "code",
   "execution_count": 47,
   "metadata": {},
   "outputs": [
    {
     "name": "stdout",
     "output_type": "stream",
     "text": [
      "The smallest SEM observed was 1.1886082086559095\n",
      "The sample with the smallest SEM is sample 2\n"
     ]
    }
   ],
   "source": [
    "# Determine which sample's mean is closest to the population mean\n",
    "print(f\"The smallest SEM observed was {min(sems)}\")\n",
    "samp_index = sems.index(min(sems))\n",
    "print(f\"The sample with the smallest SEM is sample {samp_index+1}\")"
   ]
  },
  {
   "cell_type": "code",
   "execution_count": 48,
   "metadata": {},
   "outputs": [
    {
     "name": "stdout",
     "output_type": "stream",
     "text": [
      "The mean of the sample 2 is 17.4\n",
      "The mean of the population data set is 22.532806324110698\n"
     ]
    }
   ],
   "source": [
    "# Compare to the population mean\n",
    "print(f\"The mean of the sample {samp_index+1} is {samples[samp_index].MEDV.mean()}\")\n",
    "print(f\"The mean of the population data set is {housing_data.MEDV.mean()}\")"
   ]
  },
  {
   "cell_type": "markdown",
   "metadata": {},
   "source": [
    "# =========================================="
   ]
  },
  {
   "cell_type": "markdown",
   "metadata": {},
   "source": [
    "## Break (0:30)"
   ]
  },
  {
   "cell_type": "markdown",
   "metadata": {},
   "source": [
    "# =========================================="
   ]
  },
  {
   "cell_type": "markdown",
   "metadata": {},
   "source": [
    "### 3.06 Instructor Do: Correlation Conundrum (15 min)"
   ]
  },
  {
   "cell_type": "markdown",
   "metadata": {},
   "source": [
    "**Correlation** describes the question, `Is there a relationship between A and B?`\n",
    "\n",
    "![correlations.png](../Images/correlations.png)"
   ]
  },
  {
   "cell_type": "markdown",
   "metadata": {},
   "source": [
    "**Pearson's Correlation Coefficient**\n",
    "In statistics, we quantify correlation using **Pearson’s r**.\n",
    "* Pearson’s correlation coefficient describes the variability between two factors, denoted by the variable r.\n",
    "* Pearson’s r is –1 ≤ r ≤ 1\n",
    "  * –1 indicates perfect negative correlation.\n",
    "  * 1 indicates perfect positive correlation.\n",
    "  * 0 indicates no correlation.\n",
    "* Real-world data is never perfect."
   ]
  },
  {
   "cell_type": "code",
   "execution_count": 49,
   "metadata": {},
   "outputs": [],
   "source": [
    "# Dependencies\n",
    "import pandas as pd\n",
    "import matplotlib.pyplot as plt\n",
    "import scipy.stats as st"
   ]
  },
  {
   "cell_type": "code",
   "execution_count": 50,
   "metadata": {},
   "outputs": [
    {
     "data": {
      "text/html": [
       "<div>\n",
       "<style scoped>\n",
       "    .dataframe tbody tr th:only-of-type {\n",
       "        vertical-align: middle;\n",
       "    }\n",
       "\n",
       "    .dataframe tbody tr th {\n",
       "        vertical-align: top;\n",
       "    }\n",
       "\n",
       "    .dataframe thead th {\n",
       "        text-align: right;\n",
       "    }\n",
       "</style>\n",
       "<table border=\"1\" class=\"dataframe\">\n",
       "  <thead>\n",
       "    <tr style=\"text-align: right;\">\n",
       "      <th></th>\n",
       "      <th>Country Name</th>\n",
       "      <th>Adjusted net national income per capita (current US$)</th>\n",
       "      <th>Population (in thousands) total</th>\n",
       "      <th>Population Median Age</th>\n",
       "      <th>Percent Population over 65</th>\n",
       "      <th>Domestic general government health expenditure (% of general government expenditure)</th>\n",
       "      <th>Life expectancy at birth, female (years)</th>\n",
       "      <th>Life expectancy at birth, male (years)</th>\n",
       "      <th>Total alcohol consumption per capita (liters of pure alcohol, projected estimates, 15+ years of age)</th>\n",
       "      <th>People using at least basic drinking water services (% of population)</th>\n",
       "      <th>Mobile cellular subscriptions (per 100 people)</th>\n",
       "      <th>Mobile cellular subscriptions</th>\n",
       "      <th>Immunization, measles (% of children ages 12-23 months)</th>\n",
       "      <th>Military expenditure (% of GDP)</th>\n",
       "    </tr>\n",
       "  </thead>\n",
       "  <tbody>\n",
       "    <tr>\n",
       "      <th>0</th>\n",
       "      <td>Afghanistan</td>\n",
       "      <td>473.319371</td>\n",
       "      <td>37171.922</td>\n",
       "      <td>18.9</td>\n",
       "      <td>2.584927</td>\n",
       "      <td>1.798056</td>\n",
       "      <td>66.026</td>\n",
       "      <td>63.047</td>\n",
       "      <td>0.21</td>\n",
       "      <td>69.601931</td>\n",
       "      <td>59.120848</td>\n",
       "      <td>21976355.0</td>\n",
       "      <td>64.0</td>\n",
       "      <td>1.006746</td>\n",
       "    </tr>\n",
       "    <tr>\n",
       "      <th>1</th>\n",
       "      <td>Albania</td>\n",
       "      <td>4326.330596</td>\n",
       "      <td>2866.376</td>\n",
       "      <td>32.9</td>\n",
       "      <td>13.744742</td>\n",
       "      <td>9.709609</td>\n",
       "      <td>80.167</td>\n",
       "      <td>76.816</td>\n",
       "      <td>7.17</td>\n",
       "      <td>94.436391</td>\n",
       "      <td>94.176998</td>\n",
       "      <td>2714878.0</td>\n",
       "      <td>94.0</td>\n",
       "      <td>1.161266</td>\n",
       "    </tr>\n",
       "    <tr>\n",
       "      <th>2</th>\n",
       "      <td>Algeria</td>\n",
       "      <td>3219.975007</td>\n",
       "      <td>42228.415</td>\n",
       "      <td>28.1</td>\n",
       "      <td>6.362495</td>\n",
       "      <td>10.734436</td>\n",
       "      <td>77.938</td>\n",
       "      <td>75.494</td>\n",
       "      <td>0.95</td>\n",
       "      <td>94.037413</td>\n",
       "      <td>111.664792</td>\n",
       "      <td>47154264.0</td>\n",
       "      <td>80.0</td>\n",
       "      <td>5.467824</td>\n",
       "    </tr>\n",
       "    <tr>\n",
       "      <th>4</th>\n",
       "      <td>Angola</td>\n",
       "      <td>2000.546817</td>\n",
       "      <td>30809.787</td>\n",
       "      <td>15.9</td>\n",
       "      <td>2.216374</td>\n",
       "      <td>5.426737</td>\n",
       "      <td>63.666</td>\n",
       "      <td>58.064</td>\n",
       "      <td>6.94</td>\n",
       "      <td>56.591749</td>\n",
       "      <td>43.130519</td>\n",
       "      <td>13288421.0</td>\n",
       "      <td>50.0</td>\n",
       "      <td>1.871776</td>\n",
       "    </tr>\n",
       "    <tr>\n",
       "      <th>7</th>\n",
       "      <td>Armenia</td>\n",
       "      <td>3685.765957</td>\n",
       "      <td>2951.741</td>\n",
       "      <td>35.1</td>\n",
       "      <td>11.253833</td>\n",
       "      <td>5.269859</td>\n",
       "      <td>78.354</td>\n",
       "      <td>71.215</td>\n",
       "      <td>5.55</td>\n",
       "      <td>99.951924</td>\n",
       "      <td>121.259018</td>\n",
       "      <td>3579257.0</td>\n",
       "      <td>95.0</td>\n",
       "      <td>4.119886</td>\n",
       "    </tr>\n",
       "  </tbody>\n",
       "</table>\n",
       "</div>"
      ],
      "text/plain": [
       "  Country Name  Adjusted net national income per capita (current US$)  \\\n",
       "0  Afghanistan                                         473.319371       \n",
       "1      Albania                                        4326.330596       \n",
       "2      Algeria                                        3219.975007       \n",
       "4       Angola                                        2000.546817       \n",
       "7      Armenia                                        3685.765957       \n",
       "\n",
       "   Population (in thousands) total  Population Median Age  \\\n",
       "0                        37171.922                   18.9   \n",
       "1                         2866.376                   32.9   \n",
       "2                        42228.415                   28.1   \n",
       "4                        30809.787                   15.9   \n",
       "7                         2951.741                   35.1   \n",
       "\n",
       "   Percent Population over 65  \\\n",
       "0                    2.584927   \n",
       "1                   13.744742   \n",
       "2                    6.362495   \n",
       "4                    2.216374   \n",
       "7                   11.253833   \n",
       "\n",
       "   Domestic general government health expenditure (% of general government expenditure)  \\\n",
       "0                                           1.798056                                      \n",
       "1                                           9.709609                                      \n",
       "2                                          10.734436                                      \n",
       "4                                           5.426737                                      \n",
       "7                                           5.269859                                      \n",
       "\n",
       "   Life expectancy at birth, female (years)  \\\n",
       "0                                    66.026   \n",
       "1                                    80.167   \n",
       "2                                    77.938   \n",
       "4                                    63.666   \n",
       "7                                    78.354   \n",
       "\n",
       "   Life expectancy at birth, male (years)  \\\n",
       "0                                  63.047   \n",
       "1                                  76.816   \n",
       "2                                  75.494   \n",
       "4                                  58.064   \n",
       "7                                  71.215   \n",
       "\n",
       "   Total alcohol consumption per capita (liters of pure alcohol, projected estimates, 15+ years of age)  \\\n",
       "0                                               0.21                                                      \n",
       "1                                               7.17                                                      \n",
       "2                                               0.95                                                      \n",
       "4                                               6.94                                                      \n",
       "7                                               5.55                                                      \n",
       "\n",
       "   People using at least basic drinking water services (% of population)  \\\n",
       "0                                          69.601931                       \n",
       "1                                          94.436391                       \n",
       "2                                          94.037413                       \n",
       "4                                          56.591749                       \n",
       "7                                          99.951924                       \n",
       "\n",
       "   Mobile cellular subscriptions (per 100 people)  \\\n",
       "0                                       59.120848   \n",
       "1                                       94.176998   \n",
       "2                                      111.664792   \n",
       "4                                       43.130519   \n",
       "7                                      121.259018   \n",
       "\n",
       "   Mobile cellular subscriptions  \\\n",
       "0                     21976355.0   \n",
       "1                      2714878.0   \n",
       "2                     47154264.0   \n",
       "4                     13288421.0   \n",
       "7                      3579257.0   \n",
       "\n",
       "   Immunization, measles (% of children ages 12-23 months)  \\\n",
       "0                                               64.0         \n",
       "1                                               94.0         \n",
       "2                                               80.0         \n",
       "4                                               50.0         \n",
       "7                                               95.0         \n",
       "\n",
       "   Military expenditure (% of GDP)  \n",
       "0                         1.006746  \n",
       "1                         1.161266  \n",
       "2                         5.467824  \n",
       "4                         1.871776  \n",
       "7                         4.119886  "
      ]
     },
     "execution_count": 50,
     "metadata": {},
     "output_type": "execute_result"
    }
   ],
   "source": [
    "# Import the WHO dataset, drop missing data\n",
    "who_data = pd.read_csv('06-Ins_Correlation_Conundrum/Resources/WDI_2018.csv')\n",
    "who_data = who_data.dropna()\n",
    "who_data.head()"
   ]
  },
  {
   "cell_type": "code",
   "execution_count": 51,
   "metadata": {},
   "outputs": [],
   "source": [
    "# For the first example, determine which pairs of factors are correlated. \n",
    "plt.scatter(who_data.iloc[:,1],who_data.iloc[:,8])\n",
    "plt.xlabel('Income Per Capita')\n",
    "plt.ylabel('Average Alcohol Consumed Per Person Per Year (L)')\n",
    "plt.show()"
   ]
  },
  {
   "cell_type": "code",
   "execution_count": 52,
   "metadata": {},
   "outputs": [],
   "source": [
    "plt.scatter(who_data.iloc[:,3],who_data.iloc[:,10])\n",
    "plt.xlabel('Population Median Age')\n",
    "plt.ylabel('Cell Phones Per 100 People')\n",
    "plt.show()"
   ]
  },
  {
   "cell_type": "code",
   "execution_count": 53,
   "metadata": {},
   "outputs": [],
   "source": [
    "plt.scatter(who_data.iloc[:,5],who_data.iloc[:,7])\n",
    "plt.xlabel('% Government Expenditure on Health')\n",
    "plt.ylabel('Male Life Expectancy')\n",
    "plt.show()"
   ]
  },
  {
   "cell_type": "code",
   "execution_count": 54,
   "metadata": {},
   "outputs": [],
   "source": [
    "plt.scatter(who_data.iloc[:,1],who_data.iloc[:,12])\n",
    "plt.xlabel('Income Per Capita')\n",
    "plt.ylabel('% Measles Immunization')\n",
    "plt.show()"
   ]
  },
  {
   "cell_type": "code",
   "execution_count": 55,
   "metadata": {},
   "outputs": [
    {
     "name": "stdout",
     "output_type": "stream",
     "text": [
      "The correlation between both factors is 0.42\n"
     ]
    }
   ],
   "source": [
    "# The next example will compute the Pearson correlation coefficient between \"Income per Capita\" and \"Average Alcohol Consumed\"\n",
    "income = who_data.iloc[:,1]\n",
    "alcohol = who_data.iloc[:,8]\n",
    "correlation = st.pearsonr(income,alcohol)\n",
    "print(f\"The correlation between both factors is {round(correlation[0],2)}\")"
   ]
  },
  {
   "cell_type": "code",
   "execution_count": 56,
   "metadata": {},
   "outputs": [
    {
     "name": "stdout",
     "output_type": "stream",
     "text": [
      "The correlation between both factors is 0.42\n"
     ]
    }
   ],
   "source": [
    "# Compare the calcualted Pearson's r to the plots\n",
    "plt.scatter(income,alcohol)\n",
    "plt.xlabel('Income Per Capita')\n",
    "plt.ylabel('Average Alcohol Consumed Per Person Per Year (L)')\n",
    "print(f\"The correlation between both factors is {round(correlation[0],2)}\")\n",
    "plt.show()"
   ]
  },
  {
   "cell_type": "code",
   "execution_count": 57,
   "metadata": {},
   "outputs": [
    {
     "name": "stdout",
     "output_type": "stream",
     "text": [
      "The correlation between both factors is 0.53\n"
     ]
    }
   ],
   "source": [
    "age = who_data.iloc[:,3]\n",
    "cell_phones = who_data.iloc[:,10]\n",
    "correlation = st.pearsonr(age,cell_phones)\n",
    "plt.scatter(age,cell_phones)\n",
    "plt.xlabel('Population Median Age')\n",
    "plt.ylabel('Cell Phones Per 100 People')\n",
    "print(f\"The correlation between both factors is {round(correlation[0],2)}\")\n",
    "plt.show()"
   ]
  },
  {
   "cell_type": "code",
   "execution_count": 58,
   "metadata": {},
   "outputs": [
    {
     "name": "stdout",
     "output_type": "stream",
     "text": [
      "The correlation between both factors is 0.64\n"
     ]
    }
   ],
   "source": [
    "government = who_data.iloc[:,5]\n",
    "life = who_data.iloc[:,7]\n",
    "correlation = st.pearsonr(government,life)\n",
    "plt.scatter(government,life)\n",
    "plt.xlabel('% Government Expenditure on Health')\n",
    "plt.ylabel('Male Life Expectancy')\n",
    "print(f\"The correlation between both factors is {round(correlation[0],2)}\")\n",
    "plt.show()"
   ]
  },
  {
   "cell_type": "code",
   "execution_count": 59,
   "metadata": {},
   "outputs": [
    {
     "name": "stdout",
     "output_type": "stream",
     "text": [
      "The correlation between both factors is 0.34\n"
     ]
    },
    {
     "data": {
      "text/plain": [
       "(0.34498231095144055, 8.715746870154126e-05)"
      ]
     },
     "execution_count": 59,
     "metadata": {},
     "output_type": "execute_result"
    }
   ],
   "source": [
    "income = who_data.iloc[:,1]\n",
    "measles = who_data.iloc[:,12]\n",
    "correlation = st.pearsonr(income,measles)\n",
    "plt.scatter(income,measles)\n",
    "plt.xlabel('Income Per Capita')\n",
    "plt.ylabel('% Measles Immunization')\n",
    "print(f\"The correlation between both factors is {round(correlation[0],2)}\")\n",
    "plt.show()\n",
    "correlation"
   ]
  },
  {
   "cell_type": "markdown",
   "metadata": {},
   "source": [
    "# =========================================="
   ]
  },
  {
   "cell_type": "markdown",
   "metadata": {},
   "source": [
    "### 3.07 Student Do: Correlation Conquerors (10 min)"
   ]
  },
  {
   "cell_type": "markdown",
   "metadata": {},
   "source": [
    "## Instructions\n",
    "\n",
    "* Execute the starter code to import the wine recognition dataset from scikit-learn.\n",
    "* Using the dataset, plot the factors malic acid versus flavanoids on a scatter plot. Is this relationship positively correlated, negatively correlated, or not correlated? How strong is the correlation?\n",
    "* Calculate the Pearson's correlation coefficient for  malic acid versus flavanoids. Compare the correlation coefficient to the Strength of Correlation table below. Was your prediction correct?\n",
    "\n",
    "![correlation strength table](../Images/correlation_table.png)\n",
    "\n",
    "* Plot the factors alcohol versus color intensity on a scatter plot. Is this relationship positively correlated, negatively correlated, or not correlated? How strong is the correlation?\n",
    "* Calculate the Pearson's correlation coefficient for alcohol versus color intensity. Compare the correlation coefficient to the Strength of Correlation table. Was your prediction correct?\n",
    "\n",
    "## Bonus\n",
    "\n",
    "* Look at the [Pandas documentation](https://pandas.pydata.org/pandas-docs/stable/) to find how to generate a correlation matrix. This matrix will contain the Pearson's correlation coefficient for all pairs of factors in the DataFrame.\n",
    "* Generate the correlation matrix and try to find the pair of factors that generate the strongest positive and strongest negative correlations."
   ]
  },
  {
   "cell_type": "code",
   "execution_count": 78,
   "metadata": {},
   "outputs": [],
   "source": [
    "# Dependencies\n",
    "import pandas as pd\n",
    "import sklearn.datasets as dta\n",
    "import scipy.stats as st\n",
    "import matplotlib.pyplot as plt"
   ]
  },
  {
   "cell_type": "code",
   "execution_count": 79,
   "metadata": {},
   "outputs": [
    {
     "name": "stdout",
     "output_type": "stream",
     "text": [
      ".. _wine_dataset:\n",
      "\n",
      "Wine recognition dataset\n",
      "------------------------\n",
      "\n",
      "**Data Set Characteristics:**\n",
      "\n",
      "    :Number of Instances: 178 (50 in each of three classes)\n",
      "    :Number of Attributes: 13 numeric, predictive attributes and the class\n",
      "    :Attribute Information:\n",
      " \t\t- Alcohol\n",
      " \t\t- Malic acid\n",
      " \t\t- Ash\n",
      "\t\t- Alcalinity of ash  \n",
      " \t\t- Magnesium\n",
      "\t\t- Total phenols\n",
      " \t\t- Flavanoids\n",
      " \t\t- Nonflavanoid phenols\n",
      " \t\t- Proanthocyanins\n",
      "\t\t- Color intensity\n",
      " \t\t- Hue\n",
      " \t\t- OD280/OD315 of diluted wines\n",
      " \t\t- Proline\n",
      "\n",
      "    - class:\n",
      "            - class_0\n",
      "            - class_1\n",
      "            - class_2\n",
      "\t\t\n",
      "    :Summary Statistics:\n",
      "    \n",
      "    ============================= ==== ===== ======= =====\n",
      "                                   Min   Max   Mean     SD\n",
      "    ============================= ==== ===== ======= =====\n",
      "    Alcohol:                      11.0  14.8    13.0   0.8\n",
      "    Malic Acid:                   0.74  5.80    2.34  1.12\n",
      "    Ash:                          1.36  3.23    2.36  0.27\n",
      "    Alcalinity of Ash:            10.6  30.0    19.5   3.3\n",
      "    Magnesium:                    70.0 162.0    99.7  14.3\n",
      "    Total Phenols:                0.98  3.88    2.29  0.63\n",
      "    Flavanoids:                   0.34  5.08    2.03  1.00\n",
      "    Nonflavanoid Phenols:         0.13  0.66    0.36  0.12\n",
      "    Proanthocyanins:              0.41  3.58    1.59  0.57\n",
      "    Colour Intensity:              1.3  13.0     5.1   2.3\n",
      "    Hue:                          0.48  1.71    0.96  0.23\n",
      "    OD280/OD315 of diluted wines: 1.27  4.00    2.61  0.71\n",
      "    Proline:                       278  1680     746   315\n",
      "    ============================= ==== ===== ======= =====\n",
      "\n",
      "    :Missing Attribute Values: None\n",
      "    :Class Distribution: class_0 (59), class_1 (71), class_2 (48)\n",
      "    :Creator: R.A. Fisher\n",
      "    :Donor: Michael Marshall (MARSHALL%PLU@io.arc.nasa.gov)\n",
      "    :Date: July, 1988\n",
      "\n",
      "This is a copy of UCI ML Wine recognition datasets.\n",
      "https://archive.ics.uci.edu/ml/machine-learning-databases/wine/wine.data\n",
      "\n",
      "The data is the results of a chemical analysis of wines grown in the same\n",
      "region in Italy by three different cultivators. There are thirteen different\n",
      "measurements taken for different constituents found in the three types of\n",
      "wine.\n",
      "\n",
      "Original Owners: \n",
      "\n",
      "Forina, M. et al, PARVUS - \n",
      "An Extendible Package for Data Exploration, Classification and Correlation. \n",
      "Institute of Pharmaceutical and Food Analysis and Technologies,\n",
      "Via Brigata Salerno, 16147 Genoa, Italy.\n",
      "\n",
      "Citation:\n",
      "\n",
      "Lichman, M. (2013). UCI Machine Learning Repository\n",
      "[https://archive.ics.uci.edu/ml]. Irvine, CA: University of California,\n",
      "School of Information and Computer Science. \n",
      "\n",
      ".. topic:: References\n",
      "\n",
      "  (1) S. Aeberhard, D. Coomans and O. de Vel, \n",
      "  Comparison of Classifiers in High Dimensional Settings, \n",
      "  Tech. Rep. no. 92-02, (1992), Dept. of Computer Science and Dept. of  \n",
      "  Mathematics and Statistics, James Cook University of North Queensland. \n",
      "  (Also submitted to Technometrics). \n",
      "\n",
      "  The data was used with many others for comparing various \n",
      "  classifiers. The classes are separable, though only RDA \n",
      "  has achieved 100% correct classification. \n",
      "  (RDA : 100%, QDA 99.4%, LDA 98.9%, 1NN 96.1% (z-transformed data)) \n",
      "  (All results using the leave-one-out technique) \n",
      "\n",
      "  (2) S. Aeberhard, D. Coomans and O. de Vel, \n",
      "  \"THE CLASSIFICATION PERFORMANCE OF RDA\" \n",
      "  Tech. Rep. no. 92-01, (1992), Dept. of Computer Science and Dept. of \n",
      "  Mathematics and Statistics, James Cook University of North Queensland. \n",
      "  (Also submitted to Journal of Chemometrics).\n",
      "\n"
     ]
    }
   ],
   "source": [
    "# Read in the wine recognition data set from sklearn and load into Pandas\n",
    "data = dta.load_wine()\n",
    "wine_data = pd.DataFrame(data.data,columns=data.feature_names)\n",
    "# wine_data\n",
    "print(data.DESCR)"
   ]
  },
  {
   "cell_type": "code",
   "execution_count": 80,
   "metadata": {},
   "outputs": [],
   "source": [
    "# Plot malic_acid versus flavanoids on a scatterplot\n",
    "malic_acid = wine_data.malic_acid\n",
    "flavanoids = wine_data.flavanoids\n",
    "plt.scatter(malic_acid,flavanoids)\n",
    "plt.xlabel(\"Amount of Malic Acid\")\n",
    "plt.ylabel(\"Amount of Flavanoids\")\n",
    "plt.show()"
   ]
  },
  {
   "cell_type": "code",
   "execution_count": 81,
   "metadata": {},
   "outputs": [
    {
     "name": "stdout",
     "output_type": "stream",
     "text": [
      "The correlation coefficient between malic acid and flavanoids is -0.41\n"
     ]
    }
   ],
   "source": [
    "# Calculate the correlation coefficient between malic_acid and flavanoids\n",
    "print(f\"The correlation coefficient between malic acid and flavanoids is {round(st.pearsonr(malic_acid,flavanoids)[0],2)}\")"
   ]
  },
  {
   "cell_type": "code",
   "execution_count": 64,
   "metadata": {},
   "outputs": [],
   "source": [
    "# Plot alcohol versus colour_intensity on a scatterplot\n",
    "alcohol = wine_data.alcohol\n",
    "color_intensity = wine_data.color_intensity\n",
    "plt.scatter(alcohol,color_intensity)\n",
    "plt.xlabel(\"Amount of Alcohol\")\n",
    "plt.ylabel(\"Intensity of Color\")\n",
    "plt.show()"
   ]
  },
  {
   "cell_type": "code",
   "execution_count": 65,
   "metadata": {},
   "outputs": [
    {
     "name": "stdout",
     "output_type": "stream",
     "text": [
      "The correlation coefficient between alcohol and color intensity is 0.55\n"
     ]
    }
   ],
   "source": [
    "# Calculate the correlation coefficient between alcohol and color_intensity\n",
    "print(f\"The correlation coefficient between alcohol and color intensity is {round(st.pearsonr(alcohol,color_intensity)[0],2)}\")"
   ]
  },
  {
   "cell_type": "code",
   "execution_count": 66,
   "metadata": {
    "scrolled": true
   },
   "outputs": [
    {
     "data": {
      "text/html": [
       "<div>\n",
       "<style scoped>\n",
       "    .dataframe tbody tr th:only-of-type {\n",
       "        vertical-align: middle;\n",
       "    }\n",
       "\n",
       "    .dataframe tbody tr th {\n",
       "        vertical-align: top;\n",
       "    }\n",
       "\n",
       "    .dataframe thead th {\n",
       "        text-align: right;\n",
       "    }\n",
       "</style>\n",
       "<table border=\"1\" class=\"dataframe\">\n",
       "  <thead>\n",
       "    <tr style=\"text-align: right;\">\n",
       "      <th></th>\n",
       "      <th>alcohol</th>\n",
       "      <th>malic_acid</th>\n",
       "      <th>ash</th>\n",
       "      <th>alcalinity_of_ash</th>\n",
       "      <th>magnesium</th>\n",
       "      <th>total_phenols</th>\n",
       "      <th>flavanoids</th>\n",
       "      <th>nonflavanoid_phenols</th>\n",
       "      <th>proanthocyanins</th>\n",
       "      <th>color_intensity</th>\n",
       "      <th>hue</th>\n",
       "      <th>od280/od315_of_diluted_wines</th>\n",
       "      <th>proline</th>\n",
       "    </tr>\n",
       "  </thead>\n",
       "  <tbody>\n",
       "    <tr>\n",
       "      <th>alcohol</th>\n",
       "      <td>1.000000</td>\n",
       "      <td>0.094397</td>\n",
       "      <td>0.211545</td>\n",
       "      <td>-0.310235</td>\n",
       "      <td>0.270798</td>\n",
       "      <td>0.289101</td>\n",
       "      <td>0.236815</td>\n",
       "      <td>-0.155929</td>\n",
       "      <td>0.136698</td>\n",
       "      <td>0.546364</td>\n",
       "      <td>-0.071747</td>\n",
       "      <td>0.072343</td>\n",
       "      <td>0.643720</td>\n",
       "    </tr>\n",
       "    <tr>\n",
       "      <th>malic_acid</th>\n",
       "      <td>0.094397</td>\n",
       "      <td>1.000000</td>\n",
       "      <td>0.164045</td>\n",
       "      <td>0.288500</td>\n",
       "      <td>-0.054575</td>\n",
       "      <td>-0.335167</td>\n",
       "      <td>-0.411007</td>\n",
       "      <td>0.292977</td>\n",
       "      <td>-0.220746</td>\n",
       "      <td>0.248985</td>\n",
       "      <td>-0.561296</td>\n",
       "      <td>-0.368710</td>\n",
       "      <td>-0.192011</td>\n",
       "    </tr>\n",
       "    <tr>\n",
       "      <th>ash</th>\n",
       "      <td>0.211545</td>\n",
       "      <td>0.164045</td>\n",
       "      <td>1.000000</td>\n",
       "      <td>0.443367</td>\n",
       "      <td>0.286587</td>\n",
       "      <td>0.128980</td>\n",
       "      <td>0.115077</td>\n",
       "      <td>0.186230</td>\n",
       "      <td>0.009652</td>\n",
       "      <td>0.258887</td>\n",
       "      <td>-0.074667</td>\n",
       "      <td>0.003911</td>\n",
       "      <td>0.223626</td>\n",
       "    </tr>\n",
       "    <tr>\n",
       "      <th>alcalinity_of_ash</th>\n",
       "      <td>-0.310235</td>\n",
       "      <td>0.288500</td>\n",
       "      <td>0.443367</td>\n",
       "      <td>1.000000</td>\n",
       "      <td>-0.083333</td>\n",
       "      <td>-0.321113</td>\n",
       "      <td>-0.351370</td>\n",
       "      <td>0.361922</td>\n",
       "      <td>-0.197327</td>\n",
       "      <td>0.018732</td>\n",
       "      <td>-0.273955</td>\n",
       "      <td>-0.276769</td>\n",
       "      <td>-0.440597</td>\n",
       "    </tr>\n",
       "    <tr>\n",
       "      <th>magnesium</th>\n",
       "      <td>0.270798</td>\n",
       "      <td>-0.054575</td>\n",
       "      <td>0.286587</td>\n",
       "      <td>-0.083333</td>\n",
       "      <td>1.000000</td>\n",
       "      <td>0.214401</td>\n",
       "      <td>0.195784</td>\n",
       "      <td>-0.256294</td>\n",
       "      <td>0.236441</td>\n",
       "      <td>0.199950</td>\n",
       "      <td>0.055398</td>\n",
       "      <td>0.066004</td>\n",
       "      <td>0.393351</td>\n",
       "    </tr>\n",
       "    <tr>\n",
       "      <th>total_phenols</th>\n",
       "      <td>0.289101</td>\n",
       "      <td>-0.335167</td>\n",
       "      <td>0.128980</td>\n",
       "      <td>-0.321113</td>\n",
       "      <td>0.214401</td>\n",
       "      <td>1.000000</td>\n",
       "      <td>0.864564</td>\n",
       "      <td>-0.449935</td>\n",
       "      <td>0.612413</td>\n",
       "      <td>-0.055136</td>\n",
       "      <td>0.433681</td>\n",
       "      <td>0.699949</td>\n",
       "      <td>0.498115</td>\n",
       "    </tr>\n",
       "    <tr>\n",
       "      <th>flavanoids</th>\n",
       "      <td>0.236815</td>\n",
       "      <td>-0.411007</td>\n",
       "      <td>0.115077</td>\n",
       "      <td>-0.351370</td>\n",
       "      <td>0.195784</td>\n",
       "      <td>0.864564</td>\n",
       "      <td>1.000000</td>\n",
       "      <td>-0.537900</td>\n",
       "      <td>0.652692</td>\n",
       "      <td>-0.172379</td>\n",
       "      <td>0.543479</td>\n",
       "      <td>0.787194</td>\n",
       "      <td>0.494193</td>\n",
       "    </tr>\n",
       "    <tr>\n",
       "      <th>nonflavanoid_phenols</th>\n",
       "      <td>-0.155929</td>\n",
       "      <td>0.292977</td>\n",
       "      <td>0.186230</td>\n",
       "      <td>0.361922</td>\n",
       "      <td>-0.256294</td>\n",
       "      <td>-0.449935</td>\n",
       "      <td>-0.537900</td>\n",
       "      <td>1.000000</td>\n",
       "      <td>-0.365845</td>\n",
       "      <td>0.139057</td>\n",
       "      <td>-0.262640</td>\n",
       "      <td>-0.503270</td>\n",
       "      <td>-0.311385</td>\n",
       "    </tr>\n",
       "    <tr>\n",
       "      <th>proanthocyanins</th>\n",
       "      <td>0.136698</td>\n",
       "      <td>-0.220746</td>\n",
       "      <td>0.009652</td>\n",
       "      <td>-0.197327</td>\n",
       "      <td>0.236441</td>\n",
       "      <td>0.612413</td>\n",
       "      <td>0.652692</td>\n",
       "      <td>-0.365845</td>\n",
       "      <td>1.000000</td>\n",
       "      <td>-0.025250</td>\n",
       "      <td>0.295544</td>\n",
       "      <td>0.519067</td>\n",
       "      <td>0.330417</td>\n",
       "    </tr>\n",
       "    <tr>\n",
       "      <th>color_intensity</th>\n",
       "      <td>0.546364</td>\n",
       "      <td>0.248985</td>\n",
       "      <td>0.258887</td>\n",
       "      <td>0.018732</td>\n",
       "      <td>0.199950</td>\n",
       "      <td>-0.055136</td>\n",
       "      <td>-0.172379</td>\n",
       "      <td>0.139057</td>\n",
       "      <td>-0.025250</td>\n",
       "      <td>1.000000</td>\n",
       "      <td>-0.521813</td>\n",
       "      <td>-0.428815</td>\n",
       "      <td>0.316100</td>\n",
       "    </tr>\n",
       "    <tr>\n",
       "      <th>hue</th>\n",
       "      <td>-0.071747</td>\n",
       "      <td>-0.561296</td>\n",
       "      <td>-0.074667</td>\n",
       "      <td>-0.273955</td>\n",
       "      <td>0.055398</td>\n",
       "      <td>0.433681</td>\n",
       "      <td>0.543479</td>\n",
       "      <td>-0.262640</td>\n",
       "      <td>0.295544</td>\n",
       "      <td>-0.521813</td>\n",
       "      <td>1.000000</td>\n",
       "      <td>0.565468</td>\n",
       "      <td>0.236183</td>\n",
       "    </tr>\n",
       "    <tr>\n",
       "      <th>od280/od315_of_diluted_wines</th>\n",
       "      <td>0.072343</td>\n",
       "      <td>-0.368710</td>\n",
       "      <td>0.003911</td>\n",
       "      <td>-0.276769</td>\n",
       "      <td>0.066004</td>\n",
       "      <td>0.699949</td>\n",
       "      <td>0.787194</td>\n",
       "      <td>-0.503270</td>\n",
       "      <td>0.519067</td>\n",
       "      <td>-0.428815</td>\n",
       "      <td>0.565468</td>\n",
       "      <td>1.000000</td>\n",
       "      <td>0.312761</td>\n",
       "    </tr>\n",
       "    <tr>\n",
       "      <th>proline</th>\n",
       "      <td>0.643720</td>\n",
       "      <td>-0.192011</td>\n",
       "      <td>0.223626</td>\n",
       "      <td>-0.440597</td>\n",
       "      <td>0.393351</td>\n",
       "      <td>0.498115</td>\n",
       "      <td>0.494193</td>\n",
       "      <td>-0.311385</td>\n",
       "      <td>0.330417</td>\n",
       "      <td>0.316100</td>\n",
       "      <td>0.236183</td>\n",
       "      <td>0.312761</td>\n",
       "      <td>1.000000</td>\n",
       "    </tr>\n",
       "  </tbody>\n",
       "</table>\n",
       "</div>"
      ],
      "text/plain": [
       "                               alcohol  malic_acid       ash  \\\n",
       "alcohol                       1.000000    0.094397  0.211545   \n",
       "malic_acid                    0.094397    1.000000  0.164045   \n",
       "ash                           0.211545    0.164045  1.000000   \n",
       "alcalinity_of_ash            -0.310235    0.288500  0.443367   \n",
       "magnesium                     0.270798   -0.054575  0.286587   \n",
       "total_phenols                 0.289101   -0.335167  0.128980   \n",
       "flavanoids                    0.236815   -0.411007  0.115077   \n",
       "nonflavanoid_phenols         -0.155929    0.292977  0.186230   \n",
       "proanthocyanins               0.136698   -0.220746  0.009652   \n",
       "color_intensity               0.546364    0.248985  0.258887   \n",
       "hue                          -0.071747   -0.561296 -0.074667   \n",
       "od280/od315_of_diluted_wines  0.072343   -0.368710  0.003911   \n",
       "proline                       0.643720   -0.192011  0.223626   \n",
       "\n",
       "                              alcalinity_of_ash  magnesium  total_phenols  \\\n",
       "alcohol                               -0.310235   0.270798       0.289101   \n",
       "malic_acid                             0.288500  -0.054575      -0.335167   \n",
       "ash                                    0.443367   0.286587       0.128980   \n",
       "alcalinity_of_ash                      1.000000  -0.083333      -0.321113   \n",
       "magnesium                             -0.083333   1.000000       0.214401   \n",
       "total_phenols                         -0.321113   0.214401       1.000000   \n",
       "flavanoids                            -0.351370   0.195784       0.864564   \n",
       "nonflavanoid_phenols                   0.361922  -0.256294      -0.449935   \n",
       "proanthocyanins                       -0.197327   0.236441       0.612413   \n",
       "color_intensity                        0.018732   0.199950      -0.055136   \n",
       "hue                                   -0.273955   0.055398       0.433681   \n",
       "od280/od315_of_diluted_wines          -0.276769   0.066004       0.699949   \n",
       "proline                               -0.440597   0.393351       0.498115   \n",
       "\n",
       "                              flavanoids  nonflavanoid_phenols  \\\n",
       "alcohol                         0.236815             -0.155929   \n",
       "malic_acid                     -0.411007              0.292977   \n",
       "ash                             0.115077              0.186230   \n",
       "alcalinity_of_ash              -0.351370              0.361922   \n",
       "magnesium                       0.195784             -0.256294   \n",
       "total_phenols                   0.864564             -0.449935   \n",
       "flavanoids                      1.000000             -0.537900   \n",
       "nonflavanoid_phenols           -0.537900              1.000000   \n",
       "proanthocyanins                 0.652692             -0.365845   \n",
       "color_intensity                -0.172379              0.139057   \n",
       "hue                             0.543479             -0.262640   \n",
       "od280/od315_of_diluted_wines    0.787194             -0.503270   \n",
       "proline                         0.494193             -0.311385   \n",
       "\n",
       "                              proanthocyanins  color_intensity       hue  \\\n",
       "alcohol                              0.136698         0.546364 -0.071747   \n",
       "malic_acid                          -0.220746         0.248985 -0.561296   \n",
       "ash                                  0.009652         0.258887 -0.074667   \n",
       "alcalinity_of_ash                   -0.197327         0.018732 -0.273955   \n",
       "magnesium                            0.236441         0.199950  0.055398   \n",
       "total_phenols                        0.612413        -0.055136  0.433681   \n",
       "flavanoids                           0.652692        -0.172379  0.543479   \n",
       "nonflavanoid_phenols                -0.365845         0.139057 -0.262640   \n",
       "proanthocyanins                      1.000000        -0.025250  0.295544   \n",
       "color_intensity                     -0.025250         1.000000 -0.521813   \n",
       "hue                                  0.295544        -0.521813  1.000000   \n",
       "od280/od315_of_diluted_wines         0.519067        -0.428815  0.565468   \n",
       "proline                              0.330417         0.316100  0.236183   \n",
       "\n",
       "                              od280/od315_of_diluted_wines   proline  \n",
       "alcohol                                           0.072343  0.643720  \n",
       "malic_acid                                       -0.368710 -0.192011  \n",
       "ash                                               0.003911  0.223626  \n",
       "alcalinity_of_ash                                -0.276769 -0.440597  \n",
       "magnesium                                         0.066004  0.393351  \n",
       "total_phenols                                     0.699949  0.498115  \n",
       "flavanoids                                        0.787194  0.494193  \n",
       "nonflavanoid_phenols                             -0.503270 -0.311385  \n",
       "proanthocyanins                                   0.519067  0.330417  \n",
       "color_intensity                                  -0.428815  0.316100  \n",
       "hue                                               0.565468  0.236183  \n",
       "od280/od315_of_diluted_wines                      1.000000  0.312761  \n",
       "proline                                           0.312761  1.000000  "
      ]
     },
     "metadata": {},
     "output_type": "display_data"
    },
    {
     "data": {
      "text/html": [
       "<div>\n",
       "<style scoped>\n",
       "    .dataframe tbody tr th:only-of-type {\n",
       "        vertical-align: middle;\n",
       "    }\n",
       "\n",
       "    .dataframe tbody tr th {\n",
       "        vertical-align: top;\n",
       "    }\n",
       "\n",
       "    .dataframe thead th {\n",
       "        text-align: right;\n",
       "    }\n",
       "</style>\n",
       "<table border=\"1\" class=\"dataframe\">\n",
       "  <thead>\n",
       "    <tr style=\"text-align: right;\">\n",
       "      <th></th>\n",
       "      <th></th>\n",
       "      <th>0</th>\n",
       "    </tr>\n",
       "  </thead>\n",
       "  <tbody>\n",
       "    <tr>\n",
       "      <th>malic_acid</th>\n",
       "      <th>hue</th>\n",
       "      <td>-0.561296</td>\n",
       "    </tr>\n",
       "    <tr>\n",
       "      <th>hue</th>\n",
       "      <th>malic_acid</th>\n",
       "      <td>-0.561296</td>\n",
       "    </tr>\n",
       "    <tr>\n",
       "      <th>nonflavanoid_phenols</th>\n",
       "      <th>flavanoids</th>\n",
       "      <td>-0.537900</td>\n",
       "    </tr>\n",
       "    <tr>\n",
       "      <th>flavanoids</th>\n",
       "      <th>nonflavanoid_phenols</th>\n",
       "      <td>-0.537900</td>\n",
       "    </tr>\n",
       "    <tr>\n",
       "      <th>hue</th>\n",
       "      <th>color_intensity</th>\n",
       "      <td>-0.521813</td>\n",
       "    </tr>\n",
       "    <tr>\n",
       "      <th>color_intensity</th>\n",
       "      <th>hue</th>\n",
       "      <td>-0.521813</td>\n",
       "    </tr>\n",
       "    <tr>\n",
       "      <th>od280/od315_of_diluted_wines</th>\n",
       "      <th>nonflavanoid_phenols</th>\n",
       "      <td>-0.503270</td>\n",
       "    </tr>\n",
       "    <tr>\n",
       "      <th>nonflavanoid_phenols</th>\n",
       "      <th>od280/od315_of_diluted_wines</th>\n",
       "      <td>-0.503270</td>\n",
       "    </tr>\n",
       "    <tr>\n",
       "      <th>total_phenols</th>\n",
       "      <th>nonflavanoid_phenols</th>\n",
       "      <td>-0.449935</td>\n",
       "    </tr>\n",
       "    <tr>\n",
       "      <th>nonflavanoid_phenols</th>\n",
       "      <th>total_phenols</th>\n",
       "      <td>-0.449935</td>\n",
       "    </tr>\n",
       "    <tr>\n",
       "      <th>proline</th>\n",
       "      <th>alcalinity_of_ash</th>\n",
       "      <td>-0.440597</td>\n",
       "    </tr>\n",
       "    <tr>\n",
       "      <th>alcalinity_of_ash</th>\n",
       "      <th>proline</th>\n",
       "      <td>-0.440597</td>\n",
       "    </tr>\n",
       "    <tr>\n",
       "      <th>color_intensity</th>\n",
       "      <th>od280/od315_of_diluted_wines</th>\n",
       "      <td>-0.428815</td>\n",
       "    </tr>\n",
       "    <tr>\n",
       "      <th>od280/od315_of_diluted_wines</th>\n",
       "      <th>color_intensity</th>\n",
       "      <td>-0.428815</td>\n",
       "    </tr>\n",
       "    <tr>\n",
       "      <th>flavanoids</th>\n",
       "      <th>malic_acid</th>\n",
       "      <td>-0.411007</td>\n",
       "    </tr>\n",
       "    <tr>\n",
       "      <th>malic_acid</th>\n",
       "      <th>flavanoids</th>\n",
       "      <td>-0.411007</td>\n",
       "    </tr>\n",
       "    <tr>\n",
       "      <th>od280/od315_of_diluted_wines</th>\n",
       "      <th>malic_acid</th>\n",
       "      <td>-0.368710</td>\n",
       "    </tr>\n",
       "    <tr>\n",
       "      <th>malic_acid</th>\n",
       "      <th>od280/od315_of_diluted_wines</th>\n",
       "      <td>-0.368710</td>\n",
       "    </tr>\n",
       "    <tr>\n",
       "      <th>nonflavanoid_phenols</th>\n",
       "      <th>proanthocyanins</th>\n",
       "      <td>-0.365845</td>\n",
       "    </tr>\n",
       "    <tr>\n",
       "      <th>proanthocyanins</th>\n",
       "      <th>nonflavanoid_phenols</th>\n",
       "      <td>-0.365845</td>\n",
       "    </tr>\n",
       "    <tr>\n",
       "      <th>flavanoids</th>\n",
       "      <th>alcalinity_of_ash</th>\n",
       "      <td>-0.351370</td>\n",
       "    </tr>\n",
       "    <tr>\n",
       "      <th>alcalinity_of_ash</th>\n",
       "      <th>flavanoids</th>\n",
       "      <td>-0.351370</td>\n",
       "    </tr>\n",
       "    <tr>\n",
       "      <th>malic_acid</th>\n",
       "      <th>total_phenols</th>\n",
       "      <td>-0.335167</td>\n",
       "    </tr>\n",
       "    <tr>\n",
       "      <th>total_phenols</th>\n",
       "      <th>malic_acid</th>\n",
       "      <td>-0.335167</td>\n",
       "    </tr>\n",
       "    <tr>\n",
       "      <th>alcalinity_of_ash</th>\n",
       "      <th>total_phenols</th>\n",
       "      <td>-0.321113</td>\n",
       "    </tr>\n",
       "  </tbody>\n",
       "</table>\n",
       "</div>"
      ],
      "text/plain": [
       "                                                                  0\n",
       "malic_acid                   hue                          -0.561296\n",
       "hue                          malic_acid                   -0.561296\n",
       "nonflavanoid_phenols         flavanoids                   -0.537900\n",
       "flavanoids                   nonflavanoid_phenols         -0.537900\n",
       "hue                          color_intensity              -0.521813\n",
       "color_intensity              hue                          -0.521813\n",
       "od280/od315_of_diluted_wines nonflavanoid_phenols         -0.503270\n",
       "nonflavanoid_phenols         od280/od315_of_diluted_wines -0.503270\n",
       "total_phenols                nonflavanoid_phenols         -0.449935\n",
       "nonflavanoid_phenols         total_phenols                -0.449935\n",
       "proline                      alcalinity_of_ash            -0.440597\n",
       "alcalinity_of_ash            proline                      -0.440597\n",
       "color_intensity              od280/od315_of_diluted_wines -0.428815\n",
       "od280/od315_of_diluted_wines color_intensity              -0.428815\n",
       "flavanoids                   malic_acid                   -0.411007\n",
       "malic_acid                   flavanoids                   -0.411007\n",
       "od280/od315_of_diluted_wines malic_acid                   -0.368710\n",
       "malic_acid                   od280/od315_of_diluted_wines -0.368710\n",
       "nonflavanoid_phenols         proanthocyanins              -0.365845\n",
       "proanthocyanins              nonflavanoid_phenols         -0.365845\n",
       "flavanoids                   alcalinity_of_ash            -0.351370\n",
       "alcalinity_of_ash            flavanoids                   -0.351370\n",
       "malic_acid                   total_phenols                -0.335167\n",
       "total_phenols                malic_acid                   -0.335167\n",
       "alcalinity_of_ash            total_phenols                -0.321113"
      ]
     },
     "execution_count": 66,
     "metadata": {},
     "output_type": "execute_result"
    }
   ],
   "source": [
    "# BONUS: Generate the correlation matrix and find the strongest positive and negative correlations\n",
    "wine_corr = wine_data.corr()\n",
    "display(wine_corr)\n",
    "all_df = wine_corr.unstack().sort_values().to_frame()\n",
    "all_df.head(25)"
   ]
  },
  {
   "cell_type": "markdown",
   "metadata": {},
   "source": [
    "# =========================================="
   ]
  },
  {
   "cell_type": "markdown",
   "metadata": {},
   "source": [
    "### 3.08 Instructor Do: Fits and Regression (10 min)"
   ]
  },
  {
   "cell_type": "markdown",
   "metadata": {},
   "source": [
    "**Equation of a Straight Line**\n",
    "\n",
    "* y = mx + b\n",
    "\n",
    "* **m** is Slope or Gradient, **Slope** = Change in Y / Change in X |\n",
    "* **Y Intercept** the value of **y** when **x** = 0"
   ]
  },
  {
   "cell_type": "code",
   "execution_count": 67,
   "metadata": {},
   "outputs": [],
   "source": [
    "# Dependencies\n",
    "from matplotlib import pyplot as plt\n",
    "from scipy.stats import linregress\n",
    "import numpy as np\n",
    "from sklearn import datasets\n",
    "import pandas as pd"
   ]
  },
  {
   "cell_type": "code",
   "execution_count": 68,
   "metadata": {},
   "outputs": [],
   "source": [
    "# This example compares different factors in the Boston housing data set\n",
    "boston_data = datasets.load_boston()\n",
    "housing_data = pd.DataFrame(data=boston_data.data,columns=boston_data.feature_names)\n",
    "housing_data['MEDV'] = boston_data.target"
   ]
  },
  {
   "cell_type": "code",
   "execution_count": 69,
   "metadata": {},
   "outputs": [],
   "source": [
    "# Plot out rooms versus median house price\n",
    "x_values = housing_data['RM']\n",
    "y_values = housing_data['MEDV']\n",
    "plt.scatter(x_values,y_values)\n",
    "plt.xlabel('Rooms in House')\n",
    "plt.ylabel('Median House Prices ($1000)')\n",
    "plt.show()"
   ]
  },
  {
   "cell_type": "code",
   "execution_count": 70,
   "metadata": {},
   "outputs": [
    {
     "data": {
      "text/plain": [
       "0      24.0\n",
       "1      21.6\n",
       "2      34.7\n",
       "3      33.4\n",
       "4      36.2\n",
       "       ... \n",
       "501    22.4\n",
       "502    20.6\n",
       "503    23.9\n",
       "504    22.0\n",
       "505    11.9\n",
       "Name: MEDV, Length: 506, dtype: float64"
      ]
     },
     "execution_count": 70,
     "metadata": {},
     "output_type": "execute_result"
    }
   ],
   "source": [
    "y_values"
   ]
  },
  {
   "cell_type": "code",
   "execution_count": 71,
   "metadata": {},
   "outputs": [],
   "source": [
    "# Add the linear regression equation and line to plot\n",
    "x_values = housing_data['RM']\n",
    "y_values = housing_data['MEDV']\n",
    "(slope, intercept, rvalue, pvalue, stderr) = linregress(x_values, y_values)\n",
    "regress_values = x_values * slope + intercept\n",
    "line_eq = \"y = \" + str(round(slope,2)) + \"x + \" + str(round(intercept,2))\n",
    "plt.scatter(x_values,y_values)\n",
    "plt.plot(x_values,regress_values,\"r-\")\n",
    "plt.annotate(line_eq,(6,10),fontsize=15,color=\"red\")\n",
    "plt.xlabel('Rooms in House')\n",
    "plt.ylabel('Median House Prices ($1000)')\n",
    "plt.show()"
   ]
  },
  {
   "cell_type": "code",
   "execution_count": 72,
   "metadata": {},
   "outputs": [
    {
     "name": "stdout",
     "output_type": "stream",
     "text": [
      "The r-squared is: 0.6953599470715394\n"
     ]
    }
   ],
   "source": [
    "# Print out the r-squared value along with the plot.\n",
    "x_values = housing_data['RM']\n",
    "y_values = housing_data['MEDV']\n",
    "(slope, intercept, rvalue, pvalue, stderr) = linregress(x_values, y_values)\n",
    "regress_values = x_values * slope + intercept\n",
    "line_eq = \"y = \" + str(round(slope,2)) + \"x + \" + str(round(intercept,2))\n",
    "plt.scatter(x_values,y_values)\n",
    "plt.plot(x_values,regress_values,\"r-\")\n",
    "plt.annotate(line_eq,(6,10),fontsize=15,color=\"red\")\n",
    "plt.xlabel('Rooms in House')\n",
    "plt.ylabel('Median House Prices ($1000)')\n",
    "print(f\"The r-squared is: {rvalue}\")\n",
    "plt.show()"
   ]
  },
  {
   "cell_type": "code",
   "execution_count": 73,
   "metadata": {},
   "outputs": [],
   "source": [
    "# The next example looks at a diabetes data set with less linear relationships\n",
    "diabetes_data = datasets.load_diabetes()\n",
    "data = pd.DataFrame(diabetes_data.data,columns=diabetes_data.feature_names)\n",
    "data['1Y_Disease_Progress'] = diabetes_data.target"
   ]
  },
  {
   "cell_type": "code",
   "execution_count": 74,
   "metadata": {},
   "outputs": [
    {
     "name": "stdout",
     "output_type": "stream",
     "text": [
      "The r-squared is: 0.4414838489308861\n"
     ]
    }
   ],
   "source": [
    "x_values = data['bp']\n",
    "y_values = data['1Y_Disease_Progress']\n",
    "(slope, intercept, rvalue, pvalue, stderr) = linregress(x_values, y_values)\n",
    "regress_values = x_values * slope + intercept\n",
    "line_eq = \"y = \" + str(round(slope,2)) + \"x + \" + str(round(intercept,2))\n",
    "plt.scatter(x_values,y_values)\n",
    "plt.plot(x_values,regress_values,\"r-\")\n",
    "plt.annotate(line_eq,(0,50),fontsize=15,color=\"red\")\n",
    "plt.xlabel('Normalized Blood Pressure')\n",
    "plt.ylabel('1Y_Disease_Progress')\n",
    "print(f\"The r-squared is: {rvalue}\")\n",
    "plt.show()"
   ]
  },
  {
   "cell_type": "markdown",
   "metadata": {},
   "source": [
    "# =========================================="
   ]
  },
  {
   "cell_type": "markdown",
   "metadata": {},
   "source": [
    "### 3.09 Student Do: Fits and Regression (15 min)"
   ]
  },
  {
   "cell_type": "markdown",
   "metadata": {},
   "source": [
    "## Instructions\n",
    "\n",
    "* Execute the starter code. This starter code will import the dependencies you will need as well as load the FBI CIUS (Crime in the United States 20*) dataset.\n",
    "* Generate a scatter plot with Matplotlib using the year as the independent (*x*) variable and the violent crime rate as the dependent (*y*) variable.\n",
    "* Use `stats.linregress` to perform a linear regression with the year as the independent variable (*x*) and the violent crime rate as the dependent variable (*y*).\n",
    "* Use the information returned by `stats.linregress` to create the equation of a line from the model.\n",
    "* Calculate the predicted violent crime rate of the linear model using the year as the *x* values.\n",
    "* Plot the linear model of year versus violent crime rate on top of your scatter plot.\n",
    "  * **Hint**: Your scatter plot and line plot share the same axis.\n",
    "  * **Hint**: In order to overlay plots in a notebook, the plots must be in the same code block.\n",
    "* Repeat the process of generating a scatter plot, calculating the linear regression model, and plotting the regression line over the scatter plot for the following pairs of variables:\n",
    "  * Year versus murder rate.\n",
    "  * Year versus aggravated assault.\n",
    "\n",
    "## Bonus\n",
    "* Use `pyplot.subplots` from Matplotlib to create a new figure that displays all three pairs of variables on the same plot. For each pair of variables, there should be a scatter plot and a regression line.\n",
    "  * **Hint**: All three plots share the same x-axis.\n",
    "* Use the regression lines you created to predict what the violent crime rate, murder rate, and assault rate will be in 20*.\n",
    "\n",
    "## Hints\n",
    "\n",
    "* See the documentation for [stats.linregress](https://docs.scipy.org/doc/scipy-0.*.0/reference/generated/scipy.stats.linregress.html).\n",
    "* Recall that `stats.linregress` returns a slope, called *m*,, and a *y*-intercept, called *b*. These let you define a line for each fit by simply writing: `y-values = m * x-values + b`, for each linear regression you perform."
   ]
  },
  {
   "cell_type": "code",
   "execution_count": 75,
   "metadata": {},
   "outputs": [],
   "source": [
    "# Dependencies\n",
    "from matplotlib import pyplot as plt\n",
    "from scipy import stats\n",
    "import numpy as np\n",
    "import pandas as pd"
   ]
  },
  {
   "cell_type": "code",
   "execution_count": 77,
   "metadata": {
    "scrolled": true
   },
   "outputs": [
    {
     "data": {
      "text/html": [
       "<div>\n",
       "<style scoped>\n",
       "    .dataframe tbody tr th:only-of-type {\n",
       "        vertical-align: middle;\n",
       "    }\n",
       "\n",
       "    .dataframe tbody tr th {\n",
       "        vertical-align: top;\n",
       "    }\n",
       "\n",
       "    .dataframe thead th {\n",
       "        text-align: right;\n",
       "    }\n",
       "</style>\n",
       "<table border=\"1\" class=\"dataframe\">\n",
       "  <thead>\n",
       "    <tr style=\"text-align: right;\">\n",
       "      <th></th>\n",
       "      <th>year</th>\n",
       "      <th>type</th>\n",
       "      <th>engine</th>\n",
       "      <th>number</th>\n",
       "    </tr>\n",
       "  </thead>\n",
       "  <tbody>\n",
       "    <tr>\n",
       "      <th>0</th>\n",
       "      <td>2006</td>\n",
       "      <td>Cars</td>\n",
       "      <td>Petrol</td>\n",
       "      <td>471707</td>\n",
       "    </tr>\n",
       "    <tr>\n",
       "      <th>1</th>\n",
       "      <td>2006</td>\n",
       "      <td>Cars</td>\n",
       "      <td>Diesel</td>\n",
       "      <td>7</td>\n",
       "    </tr>\n",
       "    <tr>\n",
       "      <th>2</th>\n",
       "      <td>2006</td>\n",
       "      <td>Cars</td>\n",
       "      <td>Petrol-Electric</td>\n",
       "      <td>379</td>\n",
       "    </tr>\n",
       "    <tr>\n",
       "      <th>3</th>\n",
       "      <td>2006</td>\n",
       "      <td>Cars</td>\n",
       "      <td>Petrol-Electric (Plug-In)</td>\n",
       "      <td>0</td>\n",
       "    </tr>\n",
       "    <tr>\n",
       "      <th>4</th>\n",
       "      <td>2006</td>\n",
       "      <td>Cars</td>\n",
       "      <td>Petrol-CNG</td>\n",
       "      <td>214</td>\n",
       "    </tr>\n",
       "  </tbody>\n",
       "</table>\n",
       "</div>"
      ],
      "text/plain": [
       "   year  type                     engine  number\n",
       "0  2006  Cars                     Petrol  471707\n",
       "1  2006  Cars                     Diesel       7\n",
       "2  2006  Cars            Petrol-Electric     379\n",
       "3  2006  Cars  Petrol-Electric (Plug-In)       0\n",
       "4  2006  Cars                 Petrol-CNG     214"
      ]
     },
     "execution_count": 77,
     "metadata": {},
     "output_type": "execute_result"
    }
   ],
   "source": [
    "# Load crime data set into pandas\n",
    "crime_data = pd.read_csv(\"09-Stu_Fits_and_Regression/Resources/singapore-motor-vehicle-population.csv\")\n",
    "crime_data.head()"
   ]
  },
  {
   "cell_type": "code",
   "execution_count": null,
   "metadata": {},
   "outputs": [],
   "source": [
    "# Generate a scatter plot of year versus violent crime rate\n",
    "year = crime_data.iloc[:,0]\n",
    "violent_crime_rate = crime_data.iloc[:,3]\n",
    "plt.scatter(year,violent_crime_rate)\n",
    "plt.xticks(year, rotation=90)\n",
    "plt.xlabel('Year')\n",
    "plt.ylabel('Violent Crime Rate')\n",
    "plt.show()"
   ]
  },
  {
   "cell_type": "code",
   "execution_count": null,
   "metadata": {},
   "outputs": [],
   "source": [
    "# Perform a linear regression on year versus violent crime rate\n",
    "vc_slope, vc_int, vc_r, vc_p, vc_std_err = stats.linregress(year, violent_crime_rate)"
   ]
  },
  {
   "cell_type": "code",
   "execution_count": null,
   "metadata": {},
   "outputs": [],
   "source": [
    "# Create equation of line to calculate predicted violent crime rate\n",
    "vc_fit = vc_slope * year + vc_int\n",
    "vc_fit"
   ]
  },
  {
   "cell_type": "code",
   "execution_count": null,
   "metadata": {},
   "outputs": [],
   "source": [
    "# Plot the linear model on top of scatter plot \n",
    "year = crime_data.iloc[:,0]\n",
    "violent_crime_rate = crime_data.iloc[:,3]\n",
    "plt.scatter(year,violent_crime_rate)\n",
    "plt.plot(year,vc_fit,\"--\", color=\"red\")\n",
    "plt.xticks(year, rotation=90)\n",
    "plt.xlabel('Year')\n",
    "plt.ylabel('Violent Crime Rate')\n",
    "plt.show()"
   ]
  },
  {
   "cell_type": "code",
   "execution_count": null,
   "metadata": {},
   "outputs": [],
   "source": [
    "# Repeat plotting scatter and linear model for year versus murder rate\n",
    "murder_rate = crime_data.iloc[:, 5]\n",
    "m_slope, m_int, m_r, m_p, m_std_err = stats.linregress(year, murder_rate)\n",
    "m_fit = m_slope * year + m_int\n",
    "plt.scatter(year,murder_rate)\n",
    "plt.plot(year,m_fit,\"--\", color=\"red\")\n",
    "plt.xticks(year, rotation=90)\n",
    "plt.xlabel('Year')\n",
    "plt.ylabel('Murder Rate')\n",
    "plt.show()"
   ]
  },
  {
   "cell_type": "code",
   "execution_count": null,
   "metadata": {},
   "outputs": [],
   "source": [
    "# Repeat plotting scatter and linear model for year versus aggravated assault\n",
    "aggravated_assault_rate = crime_data.iloc[:, 9]\n",
    "aa_slope, aa_int, aa_r, aa_p, aa_std_err = stats.linregress(\n",
    "    year, aggravated_assault_rate)\n",
    "aa_fit = aa_slope * year + aa_int\n",
    "plt.scatter(year,aggravated_assault_rate)\n",
    "plt.plot(year,aa_fit,\"--\", color=\"red\")\n",
    "plt.xticks(year, rotation=90)\n",
    "plt.xlabel('Year')\n",
    "plt.ylabel('Aggravated Assault Rate')\n",
    "plt.show()"
   ]
  },
  {
   "cell_type": "code",
   "execution_count": null,
   "metadata": {},
   "outputs": [],
   "source": [
    "# Generate a facet plot of all 3 figures\n",
    "fig, (ax1, ax2, ax3) = plt.subplots(3, sharex=True)\n",
    "fig.suptitle(\"Crime Rates Over Time\", fontsize=16, fontweight=\"bold\")\n",
    "\n",
    "ax1.set_xlim(min(year), max(year))\n",
    "ax1.plot(year, violent_crime_rate, linewidth=1, marker=\"o\")\n",
    "ax1.plot(year, vc_fit, \"b--\", linewidth=1)\n",
    "ax1.set_ylabel(\"Violent Crime Rate\")\n",
    "\n",
    "ax2.plot(year, murder_rate, linewidth=1, marker=\"o\", color=\"r\")\n",
    "ax2.plot(year, m_fit, \"r--\", linewidth=1)\n",
    "ax2.set_ylabel(\"Murder Rate\")\n",
    "\n",
    "ax3.plot(year, aggravated_assault_rate, linewidth=1, marker=\"o\", color=\"g\")\n",
    "ax3.plot(year, aa_fit, \"g--\", linewidth=1)\n",
    "ax3.set_ylabel(\"Aggravated Assault Rate\")\n",
    "ax3.set_xlabel(\"Year\")\n",
    "\n",
    "plt.show()"
   ]
  },
  {
   "cell_type": "code",
   "execution_count": null,
   "metadata": {},
   "outputs": [],
   "source": [
    "# aa_slope, aa_int, aa_r, aa_p, aa_std_err\n",
    "# m_slope, m_int, m_r, m_p, m_std_err Murder\n",
    "\n",
    "# y = aa_slope * x + aa_int\n",
    "y = (2019 * aa_slope) + aa_int\n",
    "print(y)\n",
    "Murders = (2019 * m_slope) + m_int\n",
    "print(\"Murders in 2019 will be appro: \", Murders)"
   ]
  },
  {
   "cell_type": "code",
   "execution_count": null,
   "metadata": {},
   "outputs": [],
   "source": []
  },
  {
   "cell_type": "code",
   "execution_count": null,
   "metadata": {},
   "outputs": [],
   "source": [
    "# Calculate the crime rates for 2019\n",
    "year = 2019\n",
    "print(f\"The violent crime rate in 2019 will be {round(vc_slope * year + vc_int,2)}.\")\n",
    "print(f\"The murder rate in 2019 will be {round(m_slope * year + m_int,2)}.\")\n",
    "print(f\"The aggravated assault rate in 2019 will be {round(aa_slope * year + aa_int,2)}.\")"
   ]
  },
  {
   "cell_type": "markdown",
   "metadata": {},
   "source": [
    "# =========================================="
   ]
  },
  {
   "cell_type": "markdown",
   "metadata": {},
   "source": [
    "### Rating Class Objectives\n",
    "\n",
    "* rate your understanding using 1-5 method in each objective"
   ]
  },
  {
   "cell_type": "code",
   "execution_count": null,
   "metadata": {},
   "outputs": [],
   "source": [
    "title = \"05-Matplotlib - Day 3 - Introduction to Statistics\"\n",
    "objectives = [\n",
    "    \"Calculate summary statistics such as mean, median, mode, variance and standard deviation using Python\",\n",
    "    \"Plot, characterize, and quantify a normally distributed dataset using Python\",\n",
    "    \"Qualitatively and quantitatively identify potential outliers in a dataset\",\n",
    "    \"Differentiate between a sample and a population in regards to a dataset\",\n",
    "    \"Define and quantify correlation between two factors\",\n",
    "    \"Calculate and plot a linear regression in Python\",\n",
    "]\n",
    "rating = []\n",
    "total = 0\n",
    "for i in range(len(objectives)):\n",
    "    rate = input(objectives[i]+\"? \")\n",
    "    total += int(rate)\n",
    "    rating.append(objectives[i] + \". (\" + rate + \"/5)\")\n",
    "print(\"=\"*96)\n",
    "print(f\"Self Evaluation for: {title}\")\n",
    "print(\"-\"*24)\n",
    "for i in rating:\n",
    "    print(i)\n",
    "print(\"-\"*64)\n",
    "print(\"Average: \" + str(total/len(objectives)))"
   ]
  }
 ],
 "metadata": {
  "kernelspec": {
   "display_name": "Python 3 (ipykernel)",
   "language": "python",
   "name": "python3"
  },
  "language_info": {
   "codemirror_mode": {
    "name": "ipython",
    "version": 3
   },
   "file_extension": ".py",
   "mimetype": "text/x-python",
   "name": "python",
   "nbconvert_exporter": "python",
   "pygments_lexer": "ipython3",
   "version": "3.9.7"
  }
 },
 "nbformat": 4,
 "nbformat_minor": 4
}
