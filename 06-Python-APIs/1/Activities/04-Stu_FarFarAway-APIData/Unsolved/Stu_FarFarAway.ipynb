{
 "cells": [
  {
   "cell_type": "code",
   "execution_count": 1,
   "metadata": {},
   "outputs": [],
   "source": [
    "# Dependencies\n",
    "import requests\n",
    "import json"
   ]
  },
  {
   "cell_type": "code",
   "execution_count": 2,
   "metadata": {},
   "outputs": [],
   "source": [
    "# URL for GET requests to retrieve Star Wars character data\n",
    "base_url = \"https://swapi.dev/api/people/\""
   ]
  },
  {
   "cell_type": "code",
   "execution_count": 15,
   "metadata": {},
   "outputs": [
    {
     "name": "stdout",
     "output_type": "stream",
     "text": [
      "https://swapi.dev/api/people/1\n"
     ]
    }
   ],
   "source": [
    "# Create a url with a specific character id\n",
    "character_id = '1'\n",
    "url = base_url + character_id\n",
    "print(url)"
   ]
  },
  {
   "cell_type": "code",
   "execution_count": 16,
   "metadata": {},
   "outputs": [
    {
     "name": "stdout",
     "output_type": "stream",
     "text": [
      "https://swapi.dev/api/people/1\n"
     ]
    }
   ],
   "source": [
    "# Perform a get request for this character\n",
    "response = requests.get(url)\n",
    "print(response.url)"
   ]
  },
  {
   "cell_type": "code",
   "execution_count": 17,
   "metadata": {
    "tags": []
   },
   "outputs": [
    {
     "name": "stdout",
     "output_type": "stream",
     "text": [
      "{\n",
      "    \"name\": \"Luke Skywalker\",\n",
      "    \"height\": \"172\",\n",
      "    \"mass\": \"77\",\n",
      "    \"hair_color\": \"blond\",\n",
      "    \"skin_color\": \"fair\",\n",
      "    \"eye_color\": \"blue\",\n",
      "    \"birth_year\": \"19BBY\",\n",
      "    \"gender\": \"male\",\n",
      "    \"homeworld\": \"https://swapi.dev/api/planets/1/\",\n",
      "    \"films\": [\n",
      "        \"https://swapi.dev/api/films/1/\",\n",
      "        \"https://swapi.dev/api/films/2/\",\n",
      "        \"https://swapi.dev/api/films/3/\",\n",
      "        \"https://swapi.dev/api/films/6/\"\n",
      "    ],\n",
      "    \"species\": [],\n",
      "    \"vehicles\": [\n",
      "        \"https://swapi.dev/api/vehicles/14/\",\n",
      "        \"https://swapi.dev/api/vehicles/30/\"\n",
      "    ],\n",
      "    \"starships\": [\n",
      "        \"https://swapi.dev/api/starships/12/\",\n",
      "        \"https://swapi.dev/api/starships/22/\"\n",
      "    ],\n",
      "    \"created\": \"2014-12-09T13:50:51.644000Z\",\n",
      "    \"edited\": \"2014-12-20T21:17:56.891000Z\",\n",
      "    \"url\": \"https://swapi.dev/api/people/1/\"\n",
      "}\n"
     ]
    }
   ],
   "source": [
    "# Storing the JSON response within a variable\n",
    "data = response.json()\n",
    "# Use json.dumps to print the json stored in variable\n",
    "# YOUR CODE HERE\n",
    "print(json.dumps(data, indent=4))"
   ]
  },
  {
   "cell_type": "code",
   "execution_count": 18,
   "metadata": {
    "tags": []
   },
   "outputs": [
    {
     "name": "stdout",
     "output_type": "stream",
     "text": [
      "Luke Skywalker\n"
     ]
    }
   ],
   "source": [
    "# Print the name of the character retrieved\n",
    "# YOUR CODE HERE\n",
    "print(data[\"name\"])"
   ]
  },
  {
   "cell_type": "code",
   "execution_count": 19,
   "metadata": {
    "tags": []
   },
   "outputs": [
    {
     "name": "stdout",
     "output_type": "stream",
     "text": [
      "4\n"
     ]
    }
   ],
   "source": [
    "# Print the number of films that they were in (hint: use len())\n",
    "# YOUR CODE HERE\n",
    "print(len(data[\"films\"]))"
   ]
  },
  {
   "cell_type": "code",
   "execution_count": 20,
   "metadata": {
    "tags": []
   },
   "outputs": [
    {
     "data": {
      "text/plain": [
       "{'name': 'X-wing',\n",
       " 'model': 'T-65 X-wing',\n",
       " 'manufacturer': 'Incom Corporation',\n",
       " 'cost_in_credits': '149999',\n",
       " 'length': '12.5',\n",
       " 'max_atmosphering_speed': '1050',\n",
       " 'crew': '1',\n",
       " 'passengers': '0',\n",
       " 'cargo_capacity': '110',\n",
       " 'consumables': '1 week',\n",
       " 'hyperdrive_rating': '1.0',\n",
       " 'MGLT': '100',\n",
       " 'starship_class': 'Starfighter',\n",
       " 'pilots': ['https://swapi.dev/api/people/1/',\n",
       "  'https://swapi.dev/api/people/9/',\n",
       "  'https://swapi.dev/api/people/18/',\n",
       "  'https://swapi.dev/api/people/19/'],\n",
       " 'films': ['https://swapi.dev/api/films/1/',\n",
       "  'https://swapi.dev/api/films/2/',\n",
       "  'https://swapi.dev/api/films/3/'],\n",
       " 'created': '2014-12-12T11:19:05.340000Z',\n",
       " 'edited': '2014-12-20T21:23:49.886000Z',\n",
       " 'url': 'https://swapi.dev/api/starships/12/'}"
      ]
     },
     "execution_count": 20,
     "metadata": {},
     "output_type": "execute_result"
    }
   ],
   "source": [
    "# Request the starships URI found in the starships property of the\n",
    "# previously retreived json, then use the response to figure out what this \n",
    "# character's first starship was\n",
    "# YOUR CODE HERE\n",
    "starships = requests.get(data[\"starships\"][0]).json()\n",
    "starships"
   ]
  },
  {
   "cell_type": "code",
   "execution_count": 21,
   "metadata": {},
   "outputs": [
    {
     "name": "stdout",
     "output_type": "stream",
     "text": [
      "X-wing\n"
     ]
    }
   ],
   "source": [
    "# Print the name of the character's first starship\n",
    "# YOUR CODE HERE\n",
    "print(starships[\"name\"])"
   ]
  },
  {
   "cell_type": "code",
   "execution_count": null,
   "metadata": {},
   "outputs": [],
   "source": []
  }
 ],
 "metadata": {
  "kernelspec": {
   "display_name": "Python 3 (ipykernel)",
   "language": "python",
   "name": "python3"
  },
  "language_info": {
   "codemirror_mode": {
    "name": "ipython",
    "version": 3
   },
   "file_extension": ".py",
   "mimetype": "text/x-python",
   "name": "python",
   "nbconvert_exporter": "python",
   "pygments_lexer": "ipython3",
   "version": "3.9.7"
  },
  "varInspector": {
   "cols": {
    "lenName": 16,
    "lenType": 16,
    "lenVar": 40
   },
   "kernels_config": {
    "python": {
     "delete_cmd_postfix": "",
     "delete_cmd_prefix": "del ",
     "library": "var_list.py",
     "varRefreshCmd": "print(var_dic_list())"
    },
    "r": {
     "delete_cmd_postfix": ") ",
     "delete_cmd_prefix": "rm(",
     "library": "var_list.r",
     "varRefreshCmd": "cat(var_dic_list()) "
    }
   },
   "types_to_exclude": [
    "module",
    "function",
    "builtin_function_or_method",
    "instance",
    "_Feature"
   ],
   "window_display": false
  }
 },
 "nbformat": 4,
 "nbformat_minor": 4
}
