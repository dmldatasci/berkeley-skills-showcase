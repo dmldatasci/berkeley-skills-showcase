{
 "cells": [
  {
   "cell_type": "code",
   "execution_count": 15,
   "metadata": {},
   "outputs": [],
   "source": [
    "#Dependencies\n",
    "import requests\n",
    "import json\n",
    "import pandas as pd\n",
    "import numpy as np\n",
    "import matplotlib.pyplot as plt"
   ]
  },
  {
   "cell_type": "code",
   "execution_count": 16,
   "metadata": {},
   "outputs": [],
   "source": [
    "#list of tv show titles to query\n",
    "tv_shows = [\"Altered Carbon\", \"Grey's Anatomy\", \"This is Us\", \"The Flash\", \"Vikings\", \"Shameless\", \"Arrow\", \"Peaky Blinders\", \"Dirk Gently\"]\n",
    "\n",
    "# make iterative requests to TVmaze search endpoint\n",
    "url = \"https://api.tvmaze.com/search/shows?q=\""
   ]
  },
  {
   "cell_type": "code",
   "execution_count": 18,
   "metadata": {},
   "outputs": [
    {
     "data": {
      "text/plain": [
       "[{'name': 'Altered Carbon', 'score': 8},\n",
       " {'name': \"Grey's Anatomy\", 'score': 7.7},\n",
       " {'name': 'This Is Us', 'score': 7.9},\n",
       " {'name': 'The Flash', 'score': 7.7},\n",
       " {'name': 'Vikings', 'score': 8.6},\n",
       " {'name': 'Shameless', 'score': 8.5},\n",
       " {'name': 'Arrow', 'score': 7.4},\n",
       " {'name': 'Peaky Blinders', 'score': 8.5},\n",
       " {'name': 'Dirk Gently', 'score': 7.4}]"
      ]
     },
     "execution_count": 18,
     "metadata": {},
     "output_type": "execute_result"
    }
   ],
   "source": [
    "all_tvs = []\n",
    "for show in tv_shows:\n",
    "    response = requests.get(url+show).json()\n",
    "    all_tvs.append({\n",
    "        \"name\": response[0][\"show\"][\"name\"],\n",
    "        \"score\": response[0][\"show\"]['rating']['average'],\n",
    "    })\n",
    "    # [\"score\"]\n",
    "    # [\"show\"][\"name\"]\n",
    "all_tvs"
   ]
  },
  {
   "cell_type": "code",
   "execution_count": 19,
   "metadata": {},
   "outputs": [],
   "source": [
    "df = pd.DataFrame(all_tvs)"
   ]
  },
  {
   "cell_type": "code",
   "execution_count": 20,
   "metadata": {},
   "outputs": [
    {
     "data": {
      "text/html": [
       "<div>\n",
       "<style scoped>\n",
       "    .dataframe tbody tr th:only-of-type {\n",
       "        vertical-align: middle;\n",
       "    }\n",
       "\n",
       "    .dataframe tbody tr th {\n",
       "        vertical-align: top;\n",
       "    }\n",
       "\n",
       "    .dataframe thead th {\n",
       "        text-align: right;\n",
       "    }\n",
       "</style>\n",
       "<table border=\"1\" class=\"dataframe\">\n",
       "  <thead>\n",
       "    <tr style=\"text-align: right;\">\n",
       "      <th></th>\n",
       "      <th>name</th>\n",
       "      <th>score</th>\n",
       "    </tr>\n",
       "  </thead>\n",
       "  <tbody>\n",
       "    <tr>\n",
       "      <th>4</th>\n",
       "      <td>Vikings</td>\n",
       "      <td>8.6</td>\n",
       "    </tr>\n",
       "    <tr>\n",
       "      <th>5</th>\n",
       "      <td>Shameless</td>\n",
       "      <td>8.5</td>\n",
       "    </tr>\n",
       "    <tr>\n",
       "      <th>7</th>\n",
       "      <td>Peaky Blinders</td>\n",
       "      <td>8.5</td>\n",
       "    </tr>\n",
       "    <tr>\n",
       "      <th>0</th>\n",
       "      <td>Altered Carbon</td>\n",
       "      <td>8.0</td>\n",
       "    </tr>\n",
       "    <tr>\n",
       "      <th>2</th>\n",
       "      <td>This Is Us</td>\n",
       "      <td>7.9</td>\n",
       "    </tr>\n",
       "    <tr>\n",
       "      <th>1</th>\n",
       "      <td>Grey's Anatomy</td>\n",
       "      <td>7.7</td>\n",
       "    </tr>\n",
       "    <tr>\n",
       "      <th>3</th>\n",
       "      <td>The Flash</td>\n",
       "      <td>7.7</td>\n",
       "    </tr>\n",
       "    <tr>\n",
       "      <th>6</th>\n",
       "      <td>Arrow</td>\n",
       "      <td>7.4</td>\n",
       "    </tr>\n",
       "    <tr>\n",
       "      <th>8</th>\n",
       "      <td>Dirk Gently</td>\n",
       "      <td>7.4</td>\n",
       "    </tr>\n",
       "  </tbody>\n",
       "</table>\n",
       "</div>"
      ],
      "text/plain": [
       "             name  score\n",
       "4         Vikings    8.6\n",
       "5       Shameless    8.5\n",
       "7  Peaky Blinders    8.5\n",
       "0  Altered Carbon    8.0\n",
       "2      This Is Us    7.9\n",
       "1  Grey's Anatomy    7.7\n",
       "3       The Flash    7.7\n",
       "6           Arrow    7.4\n",
       "8     Dirk Gently    7.4"
      ]
     },
     "execution_count": 20,
     "metadata": {},
     "output_type": "execute_result"
    }
   ],
   "source": [
    "df.sort_values(\"score\", ascending=False)"
   ]
  },
  {
   "cell_type": "code",
   "execution_count": 22,
   "metadata": {},
   "outputs": [
    {
     "data": {
      "text/plain": [
       "<AxesSubplot:xlabel='name'>"
      ]
     },
     "execution_count": 22,
     "metadata": {},
     "output_type": "execute_result"
    },
    {
     "data": {
      "image/png": "[encoded data removed]",
      "text/plain": [
       "<Figure size 640x480 with 1 Axes>"
      ]
     },
     "metadata": {},
     "output_type": "display_data"
    }
   ],
   "source": [
    "df.set_index(\"name\").plot.bar()"
   ]
  },
  {
   "cell_type": "code",
   "execution_count": 21,
   "metadata": {},
   "outputs": [
    {
     "name": "stdout",
     "output_type": "stream",
     "text": [
      "[{'score': 1.1665542, 'show': {'id': 3570, 'url': 'https://www.tvmaze.com/shows/3570/dirk-gently', 'name': 'Dirk Gently', 'type': 'Scripted', 'language': 'English', 'genres': ['Drama', 'Comedy', 'Crime'], 'status': 'Ended', 'runtime': 55, 'averageRuntime': 55, 'premiered': '2012-03-05', 'ended': '2012-03-19', 'officialSite': 'http://www.bbc.co.uk/programmes/b01d8jmz', 'schedule': {'time': '21:00', 'days': ['Monday']}, 'rating': {'average': 7.4}, 'weight': 48, 'network': {'id': 51, 'name': 'BBC Four', 'country': {'name': 'United Kingdom', 'code': 'GB', 'timezone': 'Europe/London'}, 'officialSite': None}, 'webChannel': None, 'dvdCountry': None, 'externals': {'tvrage': 27204, 'thetvdb': 213081, 'imdb': 'tt2303367'}, 'image': {'medium': 'https://static.tvmaze.com/uploads/images/medium_portrait/18/46777.jpg', 'original': 'https://static.tvmaze.com/uploads/images/original_untouched/18/46777.jpg'}, 'summary': \"<p>Drama series featuring writer Douglas Adams's holistic detective Dirk Gently, who operates based on the fundamental interconnectedness of all things.</p>\", 'updated': 1624161014, '_links': {'self': {'href': 'https://api.tvmaze.com/shows/3570'}, 'previousepisode': {'href': 'https://api.tvmaze.com/episodes/233137'}}}}, {'score': 0.4287203, 'show': {'id': 11405, 'url': 'https://www.tvmaze.com/shows/11405/dirk-gentlys-holistic-detective-agency', 'name': \"Dirk Gently's Holistic Detective Agency\", 'type': 'Scripted', 'language': 'English', 'genres': ['Comedy', 'Science-Fiction', 'Mystery'], 'status': 'Ended', 'runtime': 60, 'averageRuntime': 60, 'premiered': '2016-10-22', 'ended': '2017-12-16', 'officialSite': 'http://www.bbcamerica.com/shows/dirk-gentlys-holistic-detective-agency', 'schedule': {'time': '21:00', 'days': ['Saturday']}, 'rating': {'average': 8.4}, 'weight': 90, 'network': {'id': 15, 'name': 'BBC America', 'country': {'name': 'United States', 'code': 'US', 'timezone': 'America/New_York'}, 'officialSite': None}, 'webChannel': None, 'dvdCountry': None, 'externals': {'tvrage': None, 'thetvdb': 312505, 'imdb': 'tt4047038'}, 'image': {'medium': 'https://static.tvmaze.com/uploads/images/medium_portrait/133/332939.jpg', 'original': 'https://static.tvmaze.com/uploads/images/original_untouched/133/332939.jpg'}, 'summary': \"<p>Corpses—cops—trap—cult—assassins—Pararibulitis—vampires—lottery ticket—kitten—corgi—<i>Everything is connected!</i></p><p>Welcome to the world of <b>Dirk Gently's Holistic Detective Agency</b>; a trippy mystery that thrusts a reluctant sidekick into the bizarre world of an unconventional detective who believes in the interconnectedness of all things. When washed-up rocker Todd Brotzman stumbles upon the murder scene of a millionaire, all hell breaks loose. Eccentric detective, Dirk Gently, wholly believes they're destined to untangle the peculiar events surrounding the mystery together, whether Todd likes it or not! A collection of wild and dangerous characters' further infiltrate and complicate their world, each episode landing them a few random steps closer to uncovering the truth.</p><p>The series is an adaptation of the wildly popular novels by Douglas Adams.</p>\", 'updated': 1662744847, '_links': {'self': {'href': 'https://api.tvmaze.com/shows/11405'}, 'previousepisode': {'href': 'https://api.tvmaze.com/episodes/1359674'}}}}]\n"
     ]
    }
   ],
   "source": [
    "\n",
    "print(response)"
   ]
  },
  {
   "cell_type": "code",
   "execution_count": null,
   "metadata": {},
   "outputs": [],
   "source": [
    "# create dataframe"
   ]
  },
  {
   "cell_type": "code",
   "execution_count": null,
   "metadata": {},
   "outputs": [],
   "source": [
    "# use pandas to create a bar chart from the dataframe"
   ]
  }
 ],
 "metadata": {
  "kernelspec": {
   "display_name": "Python 3 (ipykernel)",
   "language": "python",
   "name": "python3"
  },
  "language_info": {
   "codemirror_mode": {
    "name": "ipython",
    "version": 3
   },
   "file_extension": ".py",
   "mimetype": "text/x-python",
   "name": "python",
   "nbconvert_exporter": "python",
   "pygments_lexer": "ipython3",
   "version": "3.9.13"
  }
 },
 "nbformat": 4,
 "nbformat_minor": 4
}
