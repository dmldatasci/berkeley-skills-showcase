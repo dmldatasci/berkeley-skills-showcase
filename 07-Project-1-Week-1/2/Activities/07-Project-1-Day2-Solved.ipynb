{
 "cells": [
  {
   "cell_type": "markdown",
   "metadata": {},
   "source": [
    "**2023-01-23 `07-Project one - Day 2 - Pulling and Merging with Git`**"
   ]
  },
  {
   "cell_type": "markdown",
   "metadata": {},
   "source": [
    "**Objectives**\n",
    "\n",
    "* Pull a branch from GitHub.\n",
    "* Merge branches with Git.\n",
    "* Open, review, and merge PRs with GitHub."
   ]
  },
  {
   "cell_type": "markdown",
   "metadata": {},
   "source": [
    "**Presentation**\n",
    "* [07.2 Pulling and Merging with Git](https://ucb.bootcampcontent.com/UCB-Coding-Bootcamp/UCB-VIRT-DATA-PT-11-2022-U-LOLC/-/blob/main/slides/Data-07.2_Pulling_and_Merging_with_Git.pdf)"
   ]
  },
  {
   "cell_type": "markdown",
   "metadata": {},
   "source": [
    "**Supplemental**\n",
    "* [Pull Request Workflow](https://ucb.bootcampcontent.com/UCB-Coding-Bootcamp/UCB-VIRT-DATA-PT-11-2022-U-LOLC/-/blob/main/07-Project-1-Week-1/2/Supplemental/PullRequestWorkflow.md)\n",
    "* [Pull Workflow](https://ucb.bootcampcontent.com/UCB-Coding-Bootcamp/UCB-VIRT-DATA-PT-11-2022-U-LOLC/-/blob/main/07-Project-1-Week-1/2/Supplemental/PullWorkflow.md)"
   ]
  },
  {
   "cell_type": "markdown",
   "metadata": {},
   "source": [
    "# =========================================="
   ]
  },
  {
   "cell_type": "markdown",
   "metadata": {},
   "source": [
    "### 2.01 Instructor Do: Pull (0:10)"
   ]
  },
  {
   "cell_type": "markdown",
   "metadata": {},
   "source": [
    "# pull.sh\n",
    "```pash\n",
    "# The syntax for pull mirrors that of push\n",
    "git pull origin main\n",
    "\n",
    "# To pull from GitHub to a different branch, we simply specify the branch\n",
    "git checkout other_branch\n",
    "git pull origin other_branch\n",
    "\n",
    "# Merge most recent version of main into other_branch\n",
    "git checkout other_branch\n",
    "git pull origin main\n",
    "```"
   ]
  },
  {
   "cell_type": "markdown",
   "metadata": {},
   "source": [
    "# =========================================="
   ]
  },
  {
   "cell_type": "markdown",
   "metadata": {},
   "source": [
    "### 2.02 Instructor Do: Git Pull (0:10)"
   ]
  },
  {
   "cell_type": "markdown",
   "metadata": {},
   "source": [
    "## Instructions\n",
    "\n",
    "* For the sake of this activity, elect a team leader. This leader will **create** and **push** changes to a repository that other members will **pull** from.\n",
    "\n",
    "* **Before starting**:\n",
    "\n",
    "  * The team leader should create a new GitHub repo.\n",
    "\n",
    "  * Each member of the team should `clone` this repo to their computer..\n",
    "\n",
    "* On the `main` branch of the project, the team _leader_ should add and commit a file, called `data_exploration.py`, and then push their changes to GitHub.\n",
    "\n",
    "  * Team members should then pull these changes to their local machines.\n",
    "\n",
    "* After pulling, each team member should **create a new branch**, whose name should follow the formula: `<name>/branching_exercise`, where `<name>` is a placeholder for your name.\n",
    "\n",
    "  * Next, each team member should add and commit a file named: `<name>.txt`. Add a message to the file so it can be committed.\n",
    "\n",
    "  * After saving the file, each team member should push their respective branches to GitHub.\n",
    "\n",
    "* Next, each team member should checkout the `main` branch.\n",
    "\n",
    "* While on `main`, everyone should should pull changes from GitHub.\n",
    "\n",
    "* After pulling from GitHub, explore what's new: Look at what teammates have added, etc.\n",
    "\n",
    "* Try checking out a team member's branch: `git checkout <team_member_name>`.\n"
   ]
  },
  {
   "cell_type": "markdown",
   "metadata": {},
   "source": [
    "# =========================================="
   ]
  },
  {
   "cell_type": "markdown",
   "metadata": {},
   "source": [
    "### 2.03 Students Do: Merging Into main (0:15)"
   ]
  },
  {
   "cell_type": "markdown",
   "metadata": {},
   "source": [
    "## Instructions\n",
    "\n",
    "* After pulling changes from GitHub, each team member should checkout `main`.\n",
    "\n",
    "* Each team member should merge the branch they created and named into `main`.\n",
    "\n",
    "  * After merging, team members should push their changes to GitHub.\n",
    "\n",
    "* You will probably run into trouble here. As a team, try to figure out why.\n",
    "\n",
    "* If Git refuses to `push`, run `git pull`, and try again.\n",
    "\n",
    "  * Take a moment to discuss why this is necessary.\n",
    "\n",
    "* Once everyone has pushed their changes to GitHub, each team member should pull the repository.\n",
    "\n",
    "* After pulling, discuss newly added files with your teammates.\n",
    "\n",
    "## Hints\n",
    "\n",
    "* A common, extra-safe workflow is to _always_ `git pull` before you `git push`, even if you expect that nothing's changed.\n"
   ]
  },
  {
   "cell_type": "markdown",
   "metadata": {},
   "source": []
  },
  {
   "cell_type": "markdown",
   "metadata": {},
   "source": [
    "# =========================================="
   ]
  },
  {
   "cell_type": "markdown",
   "metadata": {},
   "source": [
    "### 3.04 Students Do: A Basic PR Workflow (0:10)"
   ]
  },
  {
   "cell_type": "markdown",
   "metadata": {},
   "source": [
    "This activity allows students to practice pushing local branches to GitHub; opening pull requests for those branches; and reviewing submitted code. **This activity must be completed in succession with previous one**—it cannot stand alone.\n",
    "\n",
    "## Instructions\n",
    "\n",
    "* After pulling the updated `main` branch, each team member should create a new branch, named according to the formula: `<name>/<name of feature>`.\n",
    "\n",
    "* Add or change whatever you'd like on this branch.\n",
    "\n",
    "* Once you're done making changes, push the branch to GitHub.\n",
    "\n",
    "* Next, navigate to your repository in the browser.\n",
    "\n",
    "* Find the drop-down menu on the top right of your repository's file display.\n",
    "\n",
    "  * Click it, and select the new branch you just pushed.\n",
    "\n",
    "  * Open a **Pull Request** against this branch.\n",
    "\n",
    "* Next, find and click the Pull Requests tab near the top of the repository.\n",
    "\n",
    "* Click one of your teammates' Pull Requests.\n",
    "\n",
    "  * Explore the pull request. In particular, take a look at the **Files Changed** tab.\n",
    "\n",
    "  * Leave a comment on the pull request.\n",
    "\n",
    "  * Then, approve and merge it, using the GUI provided in the browser.\n",
    "\n",
    "* Discuss the advantages and disadvantages to PR workflow like this one, and if your team will use this approach to manage projects.\n"
   ]
  },
  {
   "cell_type": "markdown",
   "metadata": {},
   "source": [
    "# =========================================="
   ]
  },
  {
   "cell_type": "markdown",
   "metadata": {},
   "source": [
    "### BREAK (0:10)"
   ]
  },
  {
   "cell_type": "markdown",
   "metadata": {},
   "source": [
    "# =========================================="
   ]
  },
  {
   "cell_type": "markdown",
   "metadata": {},
   "source": [
    "# Everyone Do: Project Work (0:45)\n",
    "* Spend the remainder of class working with your groups on your project."
   ]
  },
  {
   "cell_type": "markdown",
   "metadata": {},
   "source": [
    "# =========================================="
   ]
  },
  {
   "cell_type": "markdown",
   "metadata": {},
   "source": [
    "### Rating Class Objectives\n",
    "\n",
    "* rate your understanding using 1-5 method in each objective"
   ]
  },
  {
   "cell_type": "code",
   "execution_count": null,
   "metadata": {},
   "outputs": [],
   "source": [
    "title = \"07-Project one - Day 2 - Pulling and Merging with Git\"\n",
    "objectives = [\n",
    "    \"Pull a branch from GitHub\",\n",
    "    \"Merge branches with Git\",\n",
    "    \"Open, review, and merge PRs with GitHub\",\n",
    "]\n",
    "rating = []\n",
    "total = 0\n",
    "for i in range(len(objectives)):\n",
    "    rate = input(objectives[i]+\"? \")\n",
    "    total += int(rate)\n",
    "    rating.append(objectives[i] + \". (\" + rate + \"/5)\")\n",
    "print(\"=\"*96)\n",
    "print(f\"Self Evaluation for: {title}\")\n",
    "print(\"-\"*24)\n",
    "for i in rating:\n",
    "    print(i)\n",
    "print(\"-\"*64)\n",
    "print(\"Average: \" + str(total/len(objectives)))"
   ]
  },
  {
   "cell_type": "code",
   "execution_count": null,
   "metadata": {},
   "outputs": [],
   "source": []
  }
 ],
 "metadata": {
  "kernelspec": {
   "display_name": "Python [conda env:.conda-PythonData]",
   "language": "python",
   "name": "conda-env-.conda-PythonData-py"
  },
  "language_info": {
   "codemirror_mode": {
    "name": "ipython",
    "version": 3
   },
   "file_extension": ".py",
   "mimetype": "text/x-python",
   "name": "python",
   "nbconvert_exporter": "python",
   "pygments_lexer": "ipython3",
   "version": "3.7.15"
  }
 },
 "nbformat": 4,
 "nbformat_minor": 4
}
