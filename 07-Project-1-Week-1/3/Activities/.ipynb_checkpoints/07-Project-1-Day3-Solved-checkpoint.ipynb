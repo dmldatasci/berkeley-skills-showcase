{
 "cells": [
  {
   "cell_type": "markdown",
   "metadata": {},
   "source": [
    "**2023-01-24 `07-Project one - Day 3 - Hypothesis Testing and Statistical Tests`**"
   ]
  },
  {
   "cell_type": "markdown",
   "metadata": {},
   "source": [
    "**Objectives**\n",
    "\n",
    "* Understand the difference between null hypothesis and alternate hypothesis.\n",
    "* Merge branches with Git.\n",
    "* Apply one-sample t-test to identify significant difference between sample and population data.\n",
    "* Apply two sample t-test to identify significant differences between two groups.\n",
    "* Apply ANOVA to compare the means of three or more groups.\n",
    "* Perform Chi Square Test to compare distribution of categorical data."
   ]
  },
  {
   "cell_type": "markdown",
   "metadata": {},
   "source": [
    "**Presentation**\n",
    "* [07.3 Hypothesis Testing and Statistical Tests](https://ucb.bootcampcontent.com/UCB-Coding-Bootcamp/UCB-VIRT-DATA-PT-11-2022-U-LOLC/-/blob/main/slides/Data-07.3_Hypothesis_Testing_and_Statistical_Tests.pdf)"
   ]
  },
  {
   "cell_type": "markdown",
   "metadata": {},
   "source": [
    "**Definitions**\n",
    "- **Hypothesis**: Proposed explanation for a phenomenon\n",
    "- **Hypothesis Testing**: Statistical methods to determine if something happened purely by chance.\n",
    "- **Hypothesis Statement**: The Hypothesis is often expressed as an If/Then statement."
   ]
  },
  {
   "cell_type": "markdown",
   "metadata": {},
   "source": [
    "# =========================================="
   ]
  },
  {
   "cell_type": "markdown",
   "metadata": {},
   "source": [
    "### 3.00 Instructor Do: Intro to Hypothesis Testing (0:15)"
   ]
  },
  {
   "cell_type": "markdown",
   "metadata": {},
   "source": [
    "### Points about Hypothesis Testing:\n",
    "\n",
    "  * Hypothesis testing applies statistical methods to determine if something happened purely by chance.\n",
    "\n",
    "  * Scientists and researchers often form a Hypothesis for their observations along with a Null Hypothesis. The Null Hypothesis assumes that observations or effects are simply by chance.\n",
    "\n",
    "  * The goal of hypothesis testing is to reject the Null Hypothesis through statistical tests. Rejecting the Null Hypothesis presumes that the Hypothesis was true.\n",
    "\n",
    "  * A Hypothesis is a measurable and testable statement about something that you expect will happen.\n",
    "\n",
    "  * The Hypothesis is often expressed as an **If**/**Then** statement.\n",
    "\n",
    "    * \"If San Diego, CA is warmer than Austin, TX in July, then the average daily temperature will be higher.\"\n",
    "\n",
    "  * The Null Hypothesis is typically stated that **NO** differences exist between the variables or groups of interest.\n",
    "\n",
    "    * \"If San Diego, CA is not warmer than Austin, TX in July, then there will be no difference in the average daily temperatures.\"\n",
    "\n",
    "  * Rejecting the Null Hypothesis is never absolute. Instead, statisticians calculate the probability of observing the event. This is called the `P value`. The P value is then compared to a fixed significance level to determine if the Null Hypothesis can be rejected. A smaller P value indicates stronger evidence against the Null Hypothesis.\n"
   ]
  },
  {
   "cell_type": "markdown",
   "metadata": {},
   "source": [
    "### Steps for Hypothesis Testing:\n",
    "\n",
    "  1. Determine the Hypothesis and Null Hypothesis.\n",
    "\n",
    "  2. Identify the appropriate statistical test.\n",
    "\n",
    "  3. Determine the acceptable significance value.\n",
    "\n",
    "  4. Compute the P-value.\n",
    "\n",
    "  5. Determine if the P-value rejects the Null Hypothesis by comparing it to the significance value (Typically &lt; 0.05)."
   ]
  },
  {
   "cell_type": "markdown",
   "metadata": {},
   "source": [
    "# =========================================="
   ]
  },
  {
   "cell_type": "markdown",
   "metadata": {},
   "source": [
    "### 3.01 Partners Do: Forming a Null Hypothesis (0:10)"
   ]
  },
  {
   "cell_type": "markdown",
   "metadata": {},
   "source": [
    "**Hypothesis**: Proposed explanation for a phenomenon"
   ]
  },
  {
   "cell_type": "markdown",
   "metadata": {},
   "source": [
    "# Instructions\n",
    "\n",
    "* Convert the following Questions into an Hypothesis and Null Hypothesis\n",
    "\n",
    "  1. Does Dark Chocolate affect arterial function in healthy individuals?\n",
    "\n",
    "  2. Does Coffee have anti-aging properties?"
   ]
  },
  {
   "cell_type": "markdown",
   "metadata": {},
   "source": [
    "# Null Hypothesis\n",
    "\n",
    "* Does Dark Chocolate affect arterial function in healthy individuals?\n",
    "\n",
    "  * Hypothesis - If dark chocolate is related to arterial function in healthy individuals, then consuming 30g of dark chocolate for 1 year will result in improved arterial function.\n",
    "\n",
    "  * Null Hypothesis - If dark chocolate is not related to arterial function in healthy individuals, then consuming 30g of dark chocolate over for 1 year will show no improvement in arterial function.\n",
    "\n",
    "* Does Coffee have anti-aging properties?\n",
    "\n",
    "  * Hypothesis - If coffee consumption is related to anti-aging properties, then consuming 400 mg of coffee daily will reduce mortality from age related disease such as heart disease.\n",
    "\n",
    "  * Null Hypothesis - If coffee consumption is not related to anti-aging properties, then consuming 400 mg of coffee daily will not show a reduction in age related disease such as heart disease.\n"
   ]
  },
  {
   "cell_type": "markdown",
   "metadata": {},
   "source": [
    "# =========================================="
   ]
  },
  {
   "cell_type": "markdown",
   "metadata": {},
   "source": [
    "### 3.02 Instructor Do: T-Test (0:10)"
   ]
  },
  {
   "cell_type": "markdown",
   "metadata": {},
   "source": [
    "**Student's t-test**: A way of measuring the level of significance of a set of data to a mean."
   ]
  },
  {
   "cell_type": "markdown",
   "metadata": {},
   "source": [
    "**P-Value**:\n",
    "* Indicate how likely it is that a result occurred by chance.\n",
    "* If the `p-value` is `small`, it indicates the result was unlikely to have occurred by chance alone. Which known as being `statistically significant`.\n",
    "\n",
    "\\begin{align}\n",
    "\\alpha & = .05 \\\\\n",
    "\\end{align}\n",
    "\n",
    "| P-Value (Sig.) | Decision | Outcome of Test |\n",
    "|------|------|------|\n",
    "|   .001  | p < .05 | significant |\n",
    "|   .051  | p > .05 | not significant |\n",
    "|   .049  | p < .05 | significant |\n",
    "|   .259  | p > .05 | not significant |\n",
    "|   .020  | p < .05 | significant |"
   ]
  },
  {
   "cell_type": "code",
   "execution_count": 22,
   "metadata": {},
   "outputs": [],
   "source": [
    "def pvalue_eval(pval, a=.05):\n",
    "    if pval<a :\n",
    "        return f\"{pval} ({pval:0.6f}) is Statistically Significant (reject the null hypothesis)\"\n",
    "    return f\"{pval} ({pval:0.6f}) is Statistically Non-Significant (failed to reject the null hypothesis)\""
   ]
  },
  {
   "cell_type": "code",
   "execution_count": 23,
   "metadata": {},
   "outputs": [],
   "source": [
    "import warnings\n",
    "warnings.filterwarnings('ignore')"
   ]
  },
  {
   "cell_type": "code",
   "execution_count": 3,
   "metadata": {},
   "outputs": [],
   "source": [
    "%matplotlib inline\n",
    "from matplotlib import pyplot as plt\n",
    "import numpy as np\n",
    "import scipy.stats as stats"
   ]
  },
  {
   "cell_type": "markdown",
   "metadata": {},
   "source": [
    "# Helper Functions to Generate and Plot Data"
   ]
  },
  {
   "cell_type": "code",
   "execution_count": 25,
   "metadata": {},
   "outputs": [],
   "source": [
    "# Generate some fake data to test with\n",
    "def gendata(loc=0):\n",
    "    # Generate random variates \n",
    "    population = stats.norm.rvs(size=1000, random_state=42)\n",
    "    sample = stats.norm.rvs(loc=loc, size=200, random_state=42)\n",
    "\n",
    "    # Scatter Plot of Data\n",
    "    plt.subplot(2, 1, 1)\n",
    "    plt.scatter(range(len(population)), population, label=\"population\")\n",
    "    plt.scatter(range(len(sample)), sample, label=\"sample\")\n",
    "    plt.legend()\n",
    "\n",
    "    # Histogram Plot of Data\n",
    "    plt.subplot(2, 1, 2)\n",
    "    plt.hist(population, 20, density=True, alpha=0.7, label=\"population\")\n",
    "    plt.hist(sample, 20, density=True, alpha=0.7, label=\"sample\")\n",
    "    plt.axvline(population.mean(), color='k', linestyle='dashed', linewidth=1)\n",
    "    plt.axvline(sample.mean(), color='k', linestyle='dashed', linewidth=1)\n",
    "    plt.legend()  \n",
    "    \n",
    "    return population, sample"
   ]
  },
  {
   "cell_type": "markdown",
   "metadata": {},
   "source": [
    "# One Sample T-Tests\n",
    "\n",
    "One Sample t-tests allow you to compare your sample mean to the population mean.\n",
    "\n",
    "### Assumptions\n",
    "\n",
    "1. Data is normally distributed\n",
    "2. Data is independent\n",
    "3. Data is randomly sampled\n",
    "\n",
    "https://docs.scipy.org/doc/scipy-0.14.0/reference/generated/scipy.stats.ttest_1samp.html"
   ]
  },
  {
   "cell_type": "code",
   "execution_count": 27,
   "metadata": {},
   "outputs": [
    {
     "data": {
      "image/png": "[encoded data removed]",
      "text/plain": [
       "<Figure size 432x288 with 2 Axes>"
      ]
     },
     "metadata": {
      "needs_background": "light"
     },
     "output_type": "display_data"
    }
   ],
   "source": [
    "# Generate some data and show the scatter plot\n",
    "population, sample = gendata()"
   ]
  },
  {
   "cell_type": "code",
   "execution_count": 30,
   "metadata": {},
   "outputs": [
    {
     "data": {
      "text/plain": [
       "Ttest_1sampResult(statistic=-0.912976906342992, pvalue=0.362359438860515)"
      ]
     },
     "execution_count": 30,
     "metadata": {},
     "output_type": "execute_result"
    }
   ],
   "source": [
    "ret = stats.ttest_1samp(sample, population.mean())\n",
    "ret"
   ]
  },
  {
   "cell_type": "code",
   "execution_count": 31,
   "metadata": {},
   "outputs": [
    {
     "data": {
      "text/plain": [
       "'0.362359438860515 (0.362359) is Statistically Non-Significant (failed to reject the null hypothesis)'"
      ]
     },
     "execution_count": 31,
     "metadata": {},
     "output_type": "execute_result"
    }
   ],
   "source": [
    "pvalue_eval(ret[1])"
   ]
  },
  {
   "cell_type": "code",
   "execution_count": 32,
   "metadata": {},
   "outputs": [
    {
     "data": {
      "image/png": "[encoded data removed]",
      "text/plain": [
       "<Figure size 432x288 with 2 Axes>"
      ]
     },
     "metadata": {
      "needs_background": "light"
     },
     "output_type": "display_data"
    }
   ],
   "source": [
    "# Generate data with a bigger difference in means\n",
    "population, sample = gendata(loc=-2)"
   ]
  },
  {
   "cell_type": "code",
   "execution_count": 33,
   "metadata": {},
   "outputs": [
    {
     "data": {
      "text/plain": [
       "Ttest_1sampResult(statistic=-31.293376800980507, pvalue=8.680069844900927e-79)"
      ]
     },
     "execution_count": 33,
     "metadata": {},
     "output_type": "execute_result"
    }
   ],
   "source": [
    "ret = stats.ttest_1samp(sample, population.mean())\n",
    "ret"
   ]
  },
  {
   "cell_type": "code",
   "execution_count": null,
   "metadata": {},
   "outputs": [],
   "source": [
    "# 0.00000000000000000000000000000000000000000868006"
   ]
  },
  {
   "cell_type": "code",
   "execution_count": 10,
   "metadata": {},
   "outputs": [
    {
     "data": {
      "text/plain": [
       "'8.680069844900927e-79 (0.000000) is Statistically Significant (reject the null hypothesis)'"
      ]
     },
     "execution_count": 10,
     "metadata": {},
     "output_type": "execute_result"
    }
   ],
   "source": [
    "pvalue_eval(ret[1])"
   ]
  },
  {
   "cell_type": "code",
   "execution_count": 34,
   "metadata": {},
   "outputs": [
    {
     "data": {
      "text/plain": [
       "'0.000000'"
      ]
     },
     "execution_count": 34,
     "metadata": {},
     "output_type": "execute_result"
    }
   ],
   "source": [
    "format(stats.ttest_1samp(sample, population.mean())[1], 'f')"
   ]
  },
  {
   "cell_type": "markdown",
   "metadata": {},
   "source": [
    "### Ins_independent_ttest"
   ]
  },
  {
   "cell_type": "code",
   "execution_count": 35,
   "metadata": {},
   "outputs": [],
   "source": [
    "import warnings\n",
    "warnings.filterwarnings('ignore')"
   ]
  },
  {
   "cell_type": "code",
   "execution_count": 36,
   "metadata": {},
   "outputs": [],
   "source": [
    "%matplotlib inline\n",
    "from matplotlib import pyplot as plt\n",
    "import numpy as np\n",
    "import scipy.stats as stats"
   ]
  },
  {
   "cell_type": "markdown",
   "metadata": {},
   "source": [
    "# Helper Functions to Generate and Plot Data"
   ]
  },
  {
   "cell_type": "code",
   "execution_count": 37,
   "metadata": {},
   "outputs": [],
   "source": [
    "# Generate some fake data to test with\n",
    "def gendata(loc1=0, loc2=0):\n",
    "    population1 = stats.norm.rvs(loc=loc1, size=50, random_state=0)\n",
    "    population2 = stats.norm.rvs(loc=loc2, size=45, random_state=42)\n",
    "\n",
    "    # Scatter Plot of Data\n",
    "    plt.subplot(2, 1, 1)\n",
    "    plt.scatter(range(len(population1)), population1, label=\"population1\")\n",
    "    plt.scatter(range(len(population2)), population2, label=\"population2\")\n",
    "    plt.legend()\n",
    "\n",
    "    # Histogram Plot of Data\n",
    "    plt.subplot(2, 1, 2)\n",
    "    plt.hist(population1, 10, density=True, alpha=0.7, label=\"population1\")\n",
    "    plt.hist(population2, 10, density=True, alpha=0.7, label=\"population2\")\n",
    "    plt.axvline(population1.mean(), color='k', linestyle='dashed', linewidth=1)\n",
    "    plt.axvline(population2.mean(), color='k', linestyle='dashed', linewidth=1)\n",
    "    plt.legend()  \n",
    "    \n",
    "    return population1, population2"
   ]
  },
  {
   "cell_type": "markdown",
   "metadata": {},
   "source": [
    "# Independent T-Tests\n",
    "\n",
    "Independent t-tests will compare the means of 2 independent populations.\n",
    "\n",
    "### Assumptions\n",
    "\n",
    "1. Data is normally distributed\n",
    "2. Data is independent\n",
    "3. Data is homogenous (The standard deviations are roughly equal)\n",
    "\n",
    "https://docs.scipy.org/doc/scipy/reference/generated/scipy.stats.ttest_ind.html"
   ]
  },
  {
   "cell_type": "code",
   "execution_count": 38,
   "metadata": {},
   "outputs": [
    {
     "data": {
      "image/png": "[encoded data removed]",
      "text/plain": [
       "<Figure size 432x288 with 2 Axes>"
      ]
     },
     "metadata": {
      "needs_background": "light"
     },
     "output_type": "display_data"
    }
   ],
   "source": [
    "# Generate some data and show the scatter plot\n",
    "population1, population2 = gendata()"
   ]
  },
  {
   "cell_type": "code",
   "execution_count": 40,
   "metadata": {},
   "outputs": [
    {
     "data": {
      "text/plain": [
       "Ttest_indResult(statistic=1.680399057852556, pvalue=0.09626493123724687)"
      ]
     },
     "execution_count": 40,
     "metadata": {},
     "output_type": "execute_result"
    }
   ],
   "source": [
    "# Note: Setting equal_var=False performs Welch's t-test which does \n",
    "# not assume equal population variance\n",
    "ret = stats.ttest_ind(population1, population2, equal_var=False)\n",
    "ret"
   ]
  },
  {
   "cell_type": "code",
   "execution_count": 41,
   "metadata": {},
   "outputs": [
    {
     "data": {
      "text/plain": [
       "'0.09626493123724687 (0.096265) is Statistically Non-Significant (failed to reject the null hypothesis)'"
      ]
     },
     "execution_count": 41,
     "metadata": {},
     "output_type": "execute_result"
    }
   ],
   "source": [
    "pvalue_eval(ret[1])"
   ]
  },
  {
   "cell_type": "code",
   "execution_count": 42,
   "metadata": {},
   "outputs": [
    {
     "data": {
      "image/png": "[encoded data removed]",
      "text/plain": [
       "<Figure size 432x288 with 2 Axes>"
      ]
     },
     "metadata": {
      "needs_background": "light"
     },
     "output_type": "display_data"
    }
   ],
   "source": [
    "# Generate data with a bigger difference in means\n",
    "population1, population2 = gendata(loc1=0, loc2=1)"
   ]
  },
  {
   "cell_type": "code",
   "execution_count": 43,
   "metadata": {},
   "outputs": [
    {
     "data": {
      "text/plain": [
       "Ttest_indResult(statistic=-3.029216121188858, pvalue=0.0031807310798192046)"
      ]
     },
     "execution_count": 43,
     "metadata": {},
     "output_type": "execute_result"
    }
   ],
   "source": [
    "ret = stats.ttest_ind(population1, population2, equal_var=False)\n",
    "ret"
   ]
  },
  {
   "cell_type": "code",
   "execution_count": 44,
   "metadata": {},
   "outputs": [
    {
     "data": {
      "text/plain": [
       "'0.0031807310798192046 (0.003181) is Statistically Significant (reject the null hypothesis)'"
      ]
     },
     "execution_count": 44,
     "metadata": {},
     "output_type": "execute_result"
    }
   ],
   "source": [
    "pvalue_eval(ret[1])"
   ]
  },
  {
   "cell_type": "markdown",
   "metadata": {},
   "source": [
    "# =========================================="
   ]
  },
  {
   "cell_type": "markdown",
   "metadata": {},
   "source": [
    "### 3.03 Students Do: T-Test (0:15)"
   ]
  },
  {
   "cell_type": "markdown",
   "metadata": {},
   "source": [
    "# Student Sardines T-Test\n",
    "\n",
    "* Calculate the mean for each population.\n",
    "\n",
    "* Use a T-Test to determine if there is a statistically significant difference in the number of vertebrae of Adult Sardines in Alaska vs. San Diego.\n",
    "\n",
    "* It is up to you to determine if you should use a One Sample or Independent t-test."
   ]
  },
  {
   "cell_type": "code",
   "execution_count": 46,
   "metadata": {},
   "outputs": [],
   "source": [
    "# Dependencies\n",
    "import pandas as pd\n",
    "import scipy.stats as stats"
   ]
  },
  {
   "cell_type": "markdown",
   "metadata": {},
   "source": [
    "# Dataset: sardine.dat\n",
    "\n",
    "**Source**: F.N. Clark (1936). \"Variations in the Number of Vertebrae in Sardine,\n",
    "Sardinops caerulea (Girard)\", Copeia, Vol. 1936, #3, pp.147-150.\n",
    "\n",
    "**Description**: Number of Vertebrae and Location of 12858 adult sardines caught in the Pacific.\n",
    "```\n",
    "Locations:\n",
    "1=Alaska\n",
    "2=British Columbia\n",
    "3=San Francisco\n",
    "4=Monterey\n",
    "5=San Pedro\n",
    "6=San Diego\n",
    "\n",
    "\n",
    "Variables/Columns\n",
    "Location   8\n",
    "Number of Vertebrae   15-16\n",
    "```"
   ]
  },
  {
   "cell_type": "code",
   "execution_count": 47,
   "metadata": {},
   "outputs": [
    {
     "data": {
      "text/html": [
       "<div>\n",
       "<style scoped>\n",
       "    .dataframe tbody tr th:only-of-type {\n",
       "        vertical-align: middle;\n",
       "    }\n",
       "\n",
       "    .dataframe tbody tr th {\n",
       "        vertical-align: top;\n",
       "    }\n",
       "\n",
       "    .dataframe thead th {\n",
       "        text-align: right;\n",
       "    }\n",
       "</style>\n",
       "<table border=\"1\" class=\"dataframe\">\n",
       "  <thead>\n",
       "    <tr style=\"text-align: right;\">\n",
       "      <th></th>\n",
       "      <th>location</th>\n",
       "      <th>vertebrae</th>\n",
       "    </tr>\n",
       "  </thead>\n",
       "  <tbody>\n",
       "    <tr>\n",
       "      <th>0</th>\n",
       "      <td>1</td>\n",
       "      <td>51</td>\n",
       "    </tr>\n",
       "    <tr>\n",
       "      <th>1</th>\n",
       "      <td>1</td>\n",
       "      <td>51</td>\n",
       "    </tr>\n",
       "    <tr>\n",
       "      <th>2</th>\n",
       "      <td>1</td>\n",
       "      <td>51</td>\n",
       "    </tr>\n",
       "    <tr>\n",
       "      <th>3</th>\n",
       "      <td>1</td>\n",
       "      <td>51</td>\n",
       "    </tr>\n",
       "    <tr>\n",
       "      <th>4</th>\n",
       "      <td>1</td>\n",
       "      <td>51</td>\n",
       "    </tr>\n",
       "  </tbody>\n",
       "</table>\n",
       "</div>"
      ],
      "text/plain": [
       "   location  vertebrae\n",
       "0         1         51\n",
       "1         1         51\n",
       "2         1         51\n",
       "3         1         51\n",
       "4         1         51"
      ]
     },
     "execution_count": 47,
     "metadata": {},
     "output_type": "execute_result"
    }
   ],
   "source": [
    "df = pd.read_csv(\"03-Stu_Sardines-TTest/Resources/sardines.csv\")\n",
    "df.head()"
   ]
  },
  {
   "cell_type": "code",
   "execution_count": 49,
   "metadata": {},
   "outputs": [
    {
     "data": {
      "text/plain": [
       "51.5"
      ]
     },
     "execution_count": 49,
     "metadata": {},
     "output_type": "execute_result"
    }
   ],
   "source": [
    "# Calculate the population mean for Sardine Vertebrae in Alaska\n",
    "population1 = df[df[\"location\"] == 1]\n",
    "population1.vertebrae.mean()"
   ]
  },
  {
   "cell_type": "code",
   "execution_count": 50,
   "metadata": {},
   "outputs": [
    {
     "data": {
      "text/plain": [
       "51.743362831858406"
      ]
     },
     "execution_count": 50,
     "metadata": {},
     "output_type": "execute_result"
    }
   ],
   "source": [
    "# Calculate the population mean for Sardine Vertebrae in San Diego\n",
    "population2 = df[df[\"location\"] == 6]\n",
    "population2.vertebrae.mean()"
   ]
  },
  {
   "cell_type": "code",
   "execution_count": 52,
   "metadata": {},
   "outputs": [
    {
     "data": {
      "text/plain": [
       "Ttest_indResult(statistic=-1.96067447006733, pvalue=0.060719723777883004)"
      ]
     },
     "execution_count": 52,
     "metadata": {},
     "output_type": "execute_result"
    }
   ],
   "source": [
    "# Calculate Independent (Two Sample) T-Test\n",
    "ret = stats.ttest_ind(population1.vertebrae, population2.vertebrae, equal_var=False)\n",
    "ret"
   ]
  },
  {
   "cell_type": "code",
   "execution_count": 53,
   "metadata": {},
   "outputs": [
    {
     "data": {
      "text/plain": [
       "'0.060719723777883004 (0.060720) is Statistically Non-Significant (failed to reject the null hypothesis)'"
      ]
     },
     "execution_count": 53,
     "metadata": {},
     "output_type": "execute_result"
    }
   ],
   "source": [
    "pvalue_eval(ret[1])"
   ]
  },
  {
   "cell_type": "markdown",
   "metadata": {},
   "source": [
    "# =========================================="
   ]
  },
  {
   "cell_type": "markdown",
   "metadata": {},
   "source": [
    "### 3.04 Instructor Do: ANOVA (0:10)"
   ]
  },
  {
   "cell_type": "markdown",
   "metadata": {},
   "source": [
    "### ANOVA (Analysis of variance)"
   ]
  },
  {
   "cell_type": "markdown",
   "metadata": {},
   "source": [
    "[research paper](https://www.ncbi.nlm.nih.gov/pmc/articles/PMC4925378/)\n",
    "\n",
    "\n",
    "* This paper compares 5 treatments to reduce Mosquito/Human contact.\n",
    "\n",
    "* ANOVA is applied to compare all 5 treatments for statistical significance.\n",
    "\n",
    "* ANOVA only implies a statistically significant difference between the group means, but further analysis has to be completed between the groups.\n"
   ]
  },
  {
   "cell_type": "code",
   "execution_count": 54,
   "metadata": {},
   "outputs": [],
   "source": [
    "import warnings\n",
    "warnings.filterwarnings('ignore')"
   ]
  },
  {
   "cell_type": "code",
   "execution_count": 55,
   "metadata": {},
   "outputs": [],
   "source": [
    "# Dependencies\n",
    "%matplotlib inline\n",
    "import pandas as pd\n",
    "import scipy.stats as stats"
   ]
  },
  {
   "cell_type": "markdown",
   "metadata": {},
   "source": [
    "### Comparison of 5 Treatments to Reduce Mosquito/Human Contact\n",
    "\n",
    "The problem: How do we know if any of the 5 treatments are statistically significant?\n",
    "\n",
    "The solution: ANOVA - are any of the treatments significantly different than the rest?"
   ]
  },
  {
   "cell_type": "markdown",
   "metadata": {},
   "source": [
    "### Dataset:  mosquito.csv\n",
    "\n",
    "**Source**: A. Bhatnagar and V.K. Mehta (2007). \"Efficacy of Deltamethrin and Cyfluthrin Impregnated Cloth Over Uniform Against Mosquito Bites,\" Medical Journal Armed Forces India, Vol. 63, pp. 120-122.\n",
    "\n",
    "**Description**: Comparison of 5 pretreated patches to reduce mosquito human contact. 30 replicates per treatment.\n",
    "\n",
    "**Treatments**:\n",
    "\n",
    "```\n",
    "1=Odomos\n",
    "2=Deltamethrin\n",
    "3=Cyfluthrin\n",
    "4=D+O\n",
    "5=C+O\n",
    "```\n",
    "\n",
    "**Variables**:\n",
    "\n",
    "treatment\n",
    "\n",
    "mosq - The number of mosquitoes caught in one hour (Per Man-Hour Mosquito Catch)\n"
   ]
  },
  {
   "cell_type": "code",
   "execution_count": 56,
   "metadata": {},
   "outputs": [
    {
     "data": {
      "text/html": [
       "<div>\n",
       "<style scoped>\n",
       "    .dataframe tbody tr th:only-of-type {\n",
       "        vertical-align: middle;\n",
       "    }\n",
       "\n",
       "    .dataframe tbody tr th {\n",
       "        vertical-align: top;\n",
       "    }\n",
       "\n",
       "    .dataframe thead th {\n",
       "        text-align: right;\n",
       "    }\n",
       "</style>\n",
       "<table border=\"1\" class=\"dataframe\">\n",
       "  <thead>\n",
       "    <tr style=\"text-align: right;\">\n",
       "      <th></th>\n",
       "      <th>treatment</th>\n",
       "      <th>mosq</th>\n",
       "    </tr>\n",
       "  </thead>\n",
       "  <tbody>\n",
       "    <tr>\n",
       "      <th>0</th>\n",
       "      <td>1</td>\n",
       "      <td>4.50</td>\n",
       "    </tr>\n",
       "    <tr>\n",
       "      <th>1</th>\n",
       "      <td>1</td>\n",
       "      <td>10.04</td>\n",
       "    </tr>\n",
       "    <tr>\n",
       "      <th>2</th>\n",
       "      <td>1</td>\n",
       "      <td>13.05</td>\n",
       "    </tr>\n",
       "    <tr>\n",
       "      <th>3</th>\n",
       "      <td>1</td>\n",
       "      <td>0.26</td>\n",
       "    </tr>\n",
       "    <tr>\n",
       "      <th>4</th>\n",
       "      <td>1</td>\n",
       "      <td>10.61</td>\n",
       "    </tr>\n",
       "  </tbody>\n",
       "</table>\n",
       "</div>"
      ],
      "text/plain": [
       "   treatment   mosq\n",
       "0          1   4.50\n",
       "1          1  10.04\n",
       "2          1  13.05\n",
       "3          1   0.26\n",
       "4          1  10.61"
      ]
     },
     "execution_count": 56,
     "metadata": {},
     "output_type": "execute_result"
    }
   ],
   "source": [
    "df = pd.read_csv(\"04-Ins_ANOVA/Resources/mosquito.csv\")\n",
    "df.head()"
   ]
  },
  {
   "cell_type": "code",
   "execution_count": 57,
   "metadata": {},
   "outputs": [
    {
     "data": {
      "text/plain": [
       "<AxesSubplot:title={'center':'mosq'}, xlabel='treatment'>"
      ]
     },
     "execution_count": 57,
     "metadata": {},
     "output_type": "execute_result"
    },
    {
     "data": {
      "image/png": "[encoded data removed]",
      "text/plain": [
       "<Figure size 1440x720 with 1 Axes>"
      ]
     },
     "metadata": {
      "needs_background": "light"
     },
     "output_type": "display_data"
    }
   ],
   "source": [
    "# Create a boxplot to compare means\n",
    "df.boxplot(\"mosq\", by=\"treatment\", figsize=(20, 10))"
   ]
  },
  {
   "cell_type": "code",
   "execution_count": 59,
   "metadata": {},
   "outputs": [],
   "source": [
    "# Extract individual groups\n",
    "group1 = df[df[\"treatment\"] == 1][\"mosq\"]\n",
    "group2 = df[df[\"treatment\"] == 2][\"mosq\"]\n",
    "group3 = df[df[\"treatment\"] == 3][\"mosq\"]\n",
    "group4 = df[df[\"treatment\"] == 4][\"mosq\"]\n",
    "group5 = df[df[\"treatment\"] == 5][\"mosq\"]"
   ]
  },
  {
   "cell_type": "code",
   "execution_count": 60,
   "metadata": {},
   "outputs": [
    {
     "data": {
      "text/plain": [
       "F_onewayResult(statistic=4.479761857514025, pvalue=0.0019240241330402644)"
      ]
     },
     "execution_count": 60,
     "metadata": {},
     "output_type": "execute_result"
    }
   ],
   "source": [
    "# Perform the ANOVA\n",
    "ret = stats.f_oneway(group1, group2, group3, group4, group5)\n",
    "ret"
   ]
  },
  {
   "cell_type": "code",
   "execution_count": 61,
   "metadata": {},
   "outputs": [
    {
     "data": {
      "text/plain": [
       "[4.479761857514025, 0.0019240241330402644]"
      ]
     },
     "execution_count": 61,
     "metadata": {},
     "output_type": "execute_result"
    }
   ],
   "source": [
    "list(ret)"
   ]
  },
  {
   "cell_type": "code",
   "execution_count": null,
   "metadata": {},
   "outputs": [
    {
     "data": {
      "text/plain": [
       "'0.0019240241330402644 (0.001924) is Statistically Non-Significant (failed to reject the null hypothesis)'"
      ]
     },
     "execution_count": 63,
     "metadata": {},
     "output_type": "execute_result"
    }
   ],
   "source": [
    "pvalue_eval(ret[1])"
   ]
  },
  {
   "cell_type": "markdown",
   "metadata": {},
   "source": [
    "# =========================================="
   ]
  },
  {
   "cell_type": "markdown",
   "metadata": {},
   "source": [
    "### 3.05 Students Do: ANOVA (0:10)"
   ]
  },
  {
   "cell_type": "code",
   "execution_count": 64,
   "metadata": {},
   "outputs": [],
   "source": [
    "import warnings\n",
    "warnings.filterwarnings('ignore')"
   ]
  },
  {
   "cell_type": "code",
   "execution_count": 65,
   "metadata": {},
   "outputs": [],
   "source": [
    "%matplotlib inline\n",
    "import pandas as pd\n",
    "import scipy.stats as stats"
   ]
  },
  {
   "cell_type": "markdown",
   "metadata": {},
   "source": [
    "# Comparison of Hair Color and Pain Threshold"
   ]
  },
  {
   "cell_type": "markdown",
   "metadata": {},
   "source": [
    "# Description\n",
    "```\n",
    "Studies conducted at the University of Melbourne indicate that there may be a difference between the pain thresholds of blonds and brunettes. Men and women of various ages were divided into four categories according to hair colour: light blond, dark blond, light brunette, and dark brunette. The purpose of the experiment was to determine whether hair colour is related to the amount of pain produced by common types of mishaps and assorted types of trauma. Each person in the experiment was given a pain threshold score based on his or her performance in a pain sensitivity test (the higher the score, the higher the person’s pain tolerance).\n",
    "\n",
    "Variable      Values\n",
    "HairColour    LightBlond, DarkBlond, LightBrunette or DarkBrunette\n",
    "Pain          Pain theshold score\n",
    "Download\n",
    "Data file (tab-delimited text)\n",
    "\n",
    "Source\n",
    "Family Weekly, Gainesville, Sun, Gainesville, Florida, February 5, 1978.\n",
    "\n",
    "McClave, J. T., and Dietrich II, F. H. (1991). Statistics. Dellen Publishing, San Francisco, Exercise 10.20.\n",
    "```"
   ]
  },
  {
   "cell_type": "code",
   "execution_count": 66,
   "metadata": {},
   "outputs": [
    {
     "data": {
      "text/html": [
       "<div>\n",
       "<style scoped>\n",
       "    .dataframe tbody tr th:only-of-type {\n",
       "        vertical-align: middle;\n",
       "    }\n",
       "\n",
       "    .dataframe tbody tr th {\n",
       "        vertical-align: top;\n",
       "    }\n",
       "\n",
       "    .dataframe thead th {\n",
       "        text-align: right;\n",
       "    }\n",
       "</style>\n",
       "<table border=\"1\" class=\"dataframe\">\n",
       "  <thead>\n",
       "    <tr style=\"text-align: right;\">\n",
       "      <th></th>\n",
       "      <th>HairColour</th>\n",
       "      <th>Pain</th>\n",
       "    </tr>\n",
       "  </thead>\n",
       "  <tbody>\n",
       "    <tr>\n",
       "      <th>0</th>\n",
       "      <td>LightBlond</td>\n",
       "      <td>62</td>\n",
       "    </tr>\n",
       "    <tr>\n",
       "      <th>1</th>\n",
       "      <td>LightBlond</td>\n",
       "      <td>60</td>\n",
       "    </tr>\n",
       "    <tr>\n",
       "      <th>2</th>\n",
       "      <td>LightBlond</td>\n",
       "      <td>71</td>\n",
       "    </tr>\n",
       "    <tr>\n",
       "      <th>3</th>\n",
       "      <td>LightBlond</td>\n",
       "      <td>55</td>\n",
       "    </tr>\n",
       "    <tr>\n",
       "      <th>4</th>\n",
       "      <td>LightBlond</td>\n",
       "      <td>48</td>\n",
       "    </tr>\n",
       "  </tbody>\n",
       "</table>\n",
       "</div>"
      ],
      "text/plain": [
       "   HairColour  Pain\n",
       "0  LightBlond    62\n",
       "1  LightBlond    60\n",
       "2  LightBlond    71\n",
       "3  LightBlond    55\n",
       "4  LightBlond    48"
      ]
     },
     "execution_count": 66,
     "metadata": {},
     "output_type": "execute_result"
    }
   ],
   "source": [
    "df = pd.read_csv(\"05-Stu_ANOVA/Resources/hair.csv\")\n",
    "df.head()"
   ]
  },
  {
   "cell_type": "code",
   "execution_count": 67,
   "metadata": {},
   "outputs": [
    {
     "data": {
      "text/plain": [
       "<AxesSubplot:title={'center':'Pain'}, xlabel='HairColour'>"
      ]
     },
     "execution_count": 67,
     "metadata": {},
     "output_type": "execute_result"
    },
    {
     "data": {
      "image/png": "[encoded data removed]",
      "text/plain": [
       "<Figure size 1440x720 with 1 Axes>"
      ]
     },
     "metadata": {
      "needs_background": "light"
     },
     "output_type": "display_data"
    }
   ],
   "source": [
    "# Create a boxplot to compare means\n",
    "df.boxplot(\"Pain\", by=\"HairColour\", figsize=(20, 10))"
   ]
  },
  {
   "cell_type": "code",
   "execution_count": 68,
   "metadata": {},
   "outputs": [],
   "source": [
    "# Extract individual groups\n",
    "group1 = df[df[\"HairColour\"] == \"LightBlond\"][\"Pain\"]\n",
    "group2 = df[df[\"HairColour\"] == \"DarkBlond\"][\"Pain\"]\n",
    "group3 = df[df[\"HairColour\"] == \"LightBrunette\"][\"Pain\"]\n",
    "group4 = df[df[\"HairColour\"] == \"DarkBrunette\"][\"Pain\"]"
   ]
  },
  {
   "cell_type": "code",
   "execution_count": 69,
   "metadata": {},
   "outputs": [
    {
     "data": {
      "text/plain": [
       "F_onewayResult(statistic=6.791407046264097, pvalue=0.004114227333077399)"
      ]
     },
     "execution_count": 69,
     "metadata": {},
     "output_type": "execute_result"
    }
   ],
   "source": [
    "# Perform the ANOVA\n",
    "ret = stats.f_oneway(group1, group2, group3, group4)\n",
    "ret"
   ]
  },
  {
   "cell_type": "code",
   "execution_count": 70,
   "metadata": {},
   "outputs": [
    {
     "data": {
      "text/plain": [
       "'0.004114227333077399 (0.004114) is Statistically Significant (reject the null hypothesis)'"
      ]
     },
     "execution_count": 70,
     "metadata": {},
     "output_type": "execute_result"
    }
   ],
   "source": [
    "pvalue_eval(ret[1])"
   ]
  },
  {
   "cell_type": "markdown",
   "metadata": {},
   "source": [
    "# =========================================="
   ]
  },
  {
   "cell_type": "markdown",
   "metadata": {},
   "source": [
    "### 3.06 Instructor Do: Chi Square (0:15)"
   ]
  },
  {
   "cell_type": "markdown",
   "metadata": {},
   "source": [
    "\\begin{equation*}\n",
    "\\chi_2{=} \\sum \\frac{(O - E)^2}{E} \n",
    "\\end{equation*}\n",
    "\n",
    "\\begin{equation*}\n",
    "O = Observation\n",
    "\\end{equation*}\n",
    "\n",
    "\\begin{equation*}\n",
    "E = Expectation (Mean)\n",
    "\\end{equation*}"
   ]
  },
  {
   "cell_type": "markdown",
   "metadata": {},
   "source": [
    "**Chi Square** Allowing us to calculate the level of significance in the differences between what we expect in a data set or population and what we actually observed in the data set or population "
   ]
  },
  {
   "cell_type": "code",
   "execution_count": 71,
   "metadata": {},
   "outputs": [],
   "source": [
    "import numpy as np\n",
    "import pandas as pd"
   ]
  },
  {
   "cell_type": "code",
   "execution_count": 72,
   "metadata": {},
   "outputs": [],
   "source": [
    "# The statistical module used to run chi square test\n",
    "import scipy.stats as stats"
   ]
  },
  {
   "cell_type": "code",
   "execution_count": 73,
   "metadata": {},
   "outputs": [],
   "source": [
    "# Observed data in a (hypothetical) survey of 300 people \n",
    "observed = pd.Series([220,55,25], index=[\"omnivores\", \"carnivores\", \"herbivores\"])"
   ]
  },
  {
   "cell_type": "code",
   "execution_count": 74,
   "metadata": {},
   "outputs": [
    {
     "data": {
      "text/html": [
       "<div>\n",
       "<style scoped>\n",
       "    .dataframe tbody tr th:only-of-type {\n",
       "        vertical-align: middle;\n",
       "    }\n",
       "\n",
       "    .dataframe tbody tr th {\n",
       "        vertical-align: top;\n",
       "    }\n",
       "\n",
       "    .dataframe thead th {\n",
       "        text-align: right;\n",
       "    }\n",
       "</style>\n",
       "<table border=\"1\" class=\"dataframe\">\n",
       "  <thead>\n",
       "    <tr style=\"text-align: right;\">\n",
       "      <th></th>\n",
       "      <th>omnivores</th>\n",
       "      <th>carnivores</th>\n",
       "      <th>herbivores</th>\n",
       "    </tr>\n",
       "  </thead>\n",
       "  <tbody>\n",
       "    <tr>\n",
       "      <th>0</th>\n",
       "      <td>220</td>\n",
       "      <td>55</td>\n",
       "      <td>25</td>\n",
       "    </tr>\n",
       "  </tbody>\n",
       "</table>\n",
       "</div>"
      ],
      "text/plain": [
       "   omnivores  carnivores  herbivores\n",
       "0        220          55          25"
      ]
     },
     "execution_count": 74,
     "metadata": {},
     "output_type": "execute_result"
    }
   ],
   "source": [
    "# Create a data frame\n",
    "df = pd.DataFrame([observed])\n",
    "df"
   ]
  },
  {
   "cell_type": "code",
   "execution_count": 75,
   "metadata": {},
   "outputs": [
    {
     "data": {
      "text/html": [
       "<div>\n",
       "<style scoped>\n",
       "    .dataframe tbody tr th:only-of-type {\n",
       "        vertical-align: middle;\n",
       "    }\n",
       "\n",
       "    .dataframe tbody tr th {\n",
       "        vertical-align: top;\n",
       "    }\n",
       "\n",
       "    .dataframe thead th {\n",
       "        text-align: right;\n",
       "    }\n",
       "</style>\n",
       "<table border=\"1\" class=\"dataframe\">\n",
       "  <thead>\n",
       "    <tr style=\"text-align: right;\">\n",
       "      <th></th>\n",
       "      <th>0</th>\n",
       "    </tr>\n",
       "  </thead>\n",
       "  <tbody>\n",
       "    <tr>\n",
       "      <th>omnivores</th>\n",
       "      <td>220</td>\n",
       "    </tr>\n",
       "    <tr>\n",
       "      <th>carnivores</th>\n",
       "      <td>55</td>\n",
       "    </tr>\n",
       "    <tr>\n",
       "      <th>herbivores</th>\n",
       "      <td>25</td>\n",
       "    </tr>\n",
       "  </tbody>\n",
       "</table>\n",
       "</div>"
      ],
      "text/plain": [
       "              0\n",
       "omnivores   220\n",
       "carnivores   55\n",
       "herbivores   25"
      ]
     },
     "execution_count": 75,
     "metadata": {},
     "output_type": "execute_result"
    }
   ],
   "source": [
    "df.T"
   ]
  },
  {
   "cell_type": "code",
   "execution_count": 76,
   "metadata": {},
   "outputs": [
    {
     "data": {
      "text/html": [
       "<div>\n",
       "<style scoped>\n",
       "    .dataframe tbody tr th:only-of-type {\n",
       "        vertical-align: middle;\n",
       "    }\n",
       "\n",
       "    .dataframe tbody tr th {\n",
       "        vertical-align: top;\n",
       "    }\n",
       "\n",
       "    .dataframe thead th {\n",
       "        text-align: right;\n",
       "    }\n",
       "</style>\n",
       "<table border=\"1\" class=\"dataframe\">\n",
       "  <thead>\n",
       "    <tr style=\"text-align: right;\">\n",
       "      <th></th>\n",
       "      <th>0</th>\n",
       "    </tr>\n",
       "  </thead>\n",
       "  <tbody>\n",
       "    <tr>\n",
       "      <th>omnivores</th>\n",
       "      <td>220</td>\n",
       "    </tr>\n",
       "    <tr>\n",
       "      <th>carnivores</th>\n",
       "      <td>55</td>\n",
       "    </tr>\n",
       "    <tr>\n",
       "      <th>herbivores</th>\n",
       "      <td>25</td>\n",
       "    </tr>\n",
       "  </tbody>\n",
       "</table>\n",
       "</div>"
      ],
      "text/plain": [
       "              0\n",
       "omnivores   220\n",
       "carnivores   55\n",
       "herbivores   25"
      ]
     },
     "execution_count": 76,
     "metadata": {},
     "output_type": "execute_result"
    }
   ],
   "source": [
    "df = df.transpose()\n",
    "df"
   ]
  },
  {
   "cell_type": "code",
   "execution_count": 78,
   "metadata": {},
   "outputs": [
    {
     "data": {
      "text/html": [
       "<div>\n",
       "<style scoped>\n",
       "    .dataframe tbody tr th:only-of-type {\n",
       "        vertical-align: middle;\n",
       "    }\n",
       "\n",
       "    .dataframe tbody tr th {\n",
       "        vertical-align: top;\n",
       "    }\n",
       "\n",
       "    .dataframe thead th {\n",
       "        text-align: right;\n",
       "    }\n",
       "</style>\n",
       "<table border=\"1\" class=\"dataframe\">\n",
       "  <thead>\n",
       "    <tr style=\"text-align: right;\">\n",
       "      <th></th>\n",
       "      <th>0</th>\n",
       "      <th>1</th>\n",
       "    </tr>\n",
       "  </thead>\n",
       "  <tbody>\n",
       "    <tr>\n",
       "      <th>omnivores</th>\n",
       "      <td>220</td>\n",
       "      <td>100</td>\n",
       "    </tr>\n",
       "    <tr>\n",
       "      <th>carnivores</th>\n",
       "      <td>55</td>\n",
       "      <td>100</td>\n",
       "    </tr>\n",
       "    <tr>\n",
       "      <th>herbivores</th>\n",
       "      <td>25</td>\n",
       "      <td>100</td>\n",
       "    </tr>\n",
       "  </tbody>\n",
       "</table>\n",
       "</div>"
      ],
      "text/plain": [
       "              0    1\n",
       "omnivores   220  100\n",
       "carnivores   55  100\n",
       "herbivores   25  100"
      ]
     },
     "execution_count": 78,
     "metadata": {},
     "output_type": "execute_result"
    }
   ],
   "source": [
    "# Add a column whose default values are the expected values\n",
    "df[1] = 100\n",
    "df"
   ]
  },
  {
   "cell_type": "code",
   "execution_count": 80,
   "metadata": {},
   "outputs": [],
   "source": [
    "# Rename columns\n",
    "df.columns = [\"observed\", \"expected\"]"
   ]
  },
  {
   "cell_type": "code",
   "execution_count": 83,
   "metadata": {},
   "outputs": [
    {
     "data": {
      "text/html": [
       "<div>\n",
       "<style scoped>\n",
       "    .dataframe tbody tr th:only-of-type {\n",
       "        vertical-align: middle;\n",
       "    }\n",
       "\n",
       "    .dataframe tbody tr th {\n",
       "        vertical-align: top;\n",
       "    }\n",
       "\n",
       "    .dataframe thead th {\n",
       "        text-align: right;\n",
       "    }\n",
       "</style>\n",
       "<table border=\"1\" class=\"dataframe\">\n",
       "  <thead>\n",
       "    <tr style=\"text-align: right;\">\n",
       "      <th></th>\n",
       "      <th>observed</th>\n",
       "      <th>expected</th>\n",
       "    </tr>\n",
       "  </thead>\n",
       "  <tbody>\n",
       "    <tr>\n",
       "      <th>omnivores</th>\n",
       "      <td>220</td>\n",
       "      <td>100</td>\n",
       "    </tr>\n",
       "    <tr>\n",
       "      <th>carnivores</th>\n",
       "      <td>55</td>\n",
       "      <td>100</td>\n",
       "    </tr>\n",
       "    <tr>\n",
       "      <th>herbivores</th>\n",
       "      <td>25</td>\n",
       "      <td>100</td>\n",
       "    </tr>\n",
       "  </tbody>\n",
       "</table>\n",
       "</div>"
      ],
      "text/plain": [
       "            observed  expected\n",
       "omnivores        220       100\n",
       "carnivores        55       100\n",
       "herbivores        25       100"
      ]
     },
     "execution_count": 83,
     "metadata": {},
     "output_type": "execute_result"
    }
   ],
   "source": [
    "# View the data frame\n",
    "df"
   ]
  },
  {
   "cell_type": "code",
   "execution_count": 84,
   "metadata": {},
   "outputs": [],
   "source": [
    "# The degree of freedom is 3-1 = 2\n",
    "# With a p-value of 0.05, the confidence level (inverseof p-value) is 1.00-0.05 = 0.95.\n",
    "# ppf: probability point function\n",
    "critical_value = stats.chi2.ppf(q = 0.95, df = 2)"
   ]
  },
  {
   "cell_type": "code",
   "execution_count": 85,
   "metadata": {},
   "outputs": [
    {
     "data": {
      "text/plain": [
       "5.991464547107979"
      ]
     },
     "execution_count": 85,
     "metadata": {},
     "output_type": "execute_result"
    }
   ],
   "source": [
    "# The critical value\n",
    "critical_value"
   ]
  },
  {
   "cell_type": "code",
   "execution_count": 87,
   "metadata": {},
   "outputs": [
    {
     "data": {
      "text/plain": [
       "Power_divergenceResult(statistic=220.5, pvalue=1.3153258948574585e-48)"
      ]
     },
     "execution_count": 87,
     "metadata": {},
     "output_type": "execute_result"
    }
   ],
   "source": [
    "# Run the chi square test with stats.chisquare()\n",
    "ret = stats.chisquare(df['observed'], df['expected'])\n",
    "ret"
   ]
  },
  {
   "cell_type": "code",
   "execution_count": 88,
   "metadata": {},
   "outputs": [
    {
     "data": {
      "text/plain": [
       "[220.5, 1.3153258948574585e-48]"
      ]
     },
     "execution_count": 88,
     "metadata": {},
     "output_type": "execute_result"
    }
   ],
   "source": [
    "list(ret)"
   ]
  },
  {
   "cell_type": "code",
   "execution_count": 89,
   "metadata": {},
   "outputs": [
    {
     "data": {
      "text/plain": [
       "'1.3153258948574585e-48 (0.000000) is Statistically Significant (reject the null hypothesis)'"
      ]
     },
     "execution_count": 89,
     "metadata": {},
     "output_type": "execute_result"
    }
   ],
   "source": [
    "pvalue_eval(ret[1])"
   ]
  },
  {
   "cell_type": "markdown",
   "metadata": {},
   "source": [
    "### Conclusion\n",
    "\n",
    "* Since the chi square value of 220.5 exceeds the critical value of 5.99, we conclude that the results are statistically significant."
   ]
  },
  {
   "cell_type": "markdown",
   "metadata": {},
   "source": [
    "# =========================================="
   ]
  },
  {
   "cell_type": "markdown",
   "metadata": {},
   "source": [
    "### 3.07 Students Do: Chi Square (0:15)"
   ]
  },
  {
   "cell_type": "markdown",
   "metadata": {},
   "source": [
    "# Popular Lattes\n",
    "\n",
    "## Instructions\n",
    "\n",
    "| Cafe | Daily Visits |\n",
    "| ---- | ------------ |\n",
    "| #1   | 1500         |\n",
    "| #2   | 1350         |\n",
    "| #3   | 1600         |\n",
    "| #4   | 1550         |\n",
    "\n",
    "* You are the owner of four cafés in a town of avid coffee drinkers.\n",
    "\n",
    "* Using a Chi-square goodness-of-fit test, determine whether the results suggest that customers are more likely to frequent one cafe over another.\n",
    "\n",
    "* Perform the necessary calculations by using Python.\n",
    "\n",
    "* Then perform the calculations by hand to verify your findings.\n",
    "\n",
    "* Use a p-value of 0.05.\n",
    "\n",
    "* Consult a Chi-square table to find your critical value: <https://www.medcalc.org/manual/chi-square-table.php> "
   ]
  },
  {
   "cell_type": "code",
   "execution_count": 56,
   "metadata": {},
   "outputs": [],
   "source": [
    "import numpy as np\n",
    "import pandas as pd"
   ]
  },
  {
   "cell_type": "code",
   "execution_count": 57,
   "metadata": {},
   "outputs": [],
   "source": [
    "# The statistical module used to run chi square test\n",
    "import scipy.stats as stats"
   ]
  },
  {
   "cell_type": "code",
   "execution_count": 58,
   "metadata": {},
   "outputs": [
    {
     "data": {
      "text/html": [
       "<div>\n",
       "<style scoped>\n",
       "    .dataframe tbody tr th:only-of-type {\n",
       "        vertical-align: middle;\n",
       "    }\n",
       "\n",
       "    .dataframe tbody tr th {\n",
       "        vertical-align: top;\n",
       "    }\n",
       "\n",
       "    .dataframe thead th {\n",
       "        text-align: right;\n",
       "    }\n",
       "</style>\n",
       "<table border=\"1\" class=\"dataframe\">\n",
       "  <thead>\n",
       "    <tr style=\"text-align: right;\">\n",
       "      <th></th>\n",
       "      <th>observed</th>\n",
       "      <th>expected</th>\n",
       "    </tr>\n",
       "  </thead>\n",
       "  <tbody>\n",
       "    <tr>\n",
       "      <th>1</th>\n",
       "      <td>1500</td>\n",
       "      <td>1500</td>\n",
       "    </tr>\n",
       "    <tr>\n",
       "      <th>2</th>\n",
       "      <td>1350</td>\n",
       "      <td>1500</td>\n",
       "    </tr>\n",
       "    <tr>\n",
       "      <th>3</th>\n",
       "      <td>1600</td>\n",
       "      <td>1500</td>\n",
       "    </tr>\n",
       "    <tr>\n",
       "      <th>4</th>\n",
       "      <td>1550</td>\n",
       "      <td>1500</td>\n",
       "    </tr>\n",
       "  </tbody>\n",
       "</table>\n",
       "</div>"
      ],
      "text/plain": [
       "   observed  expected\n",
       "1      1500      1500\n",
       "2      1350      1500\n",
       "3      1600      1500\n",
       "4      1550      1500"
      ]
     },
     "execution_count": 58,
     "metadata": {},
     "output_type": "execute_result"
    }
   ],
   "source": [
    "# Observed data in a (hypothetical) survey of 6000 people \n",
    "observed = pd.Series([1500, 1350, 1600, 1550], index=[\"1\", \"2\", \"3\", \"4\"])\n",
    "\n",
    "# Create a data frame\n",
    "df = pd.DataFrame([observed]).T\n",
    "\n",
    "# Add a column whose default values are the expected values\n",
    "df[1] = 1500\n",
    "\n",
    "# Rename the columns\n",
    "df.columns = [\"observed\", \"expected\"]\n",
    "\n",
    "# View the data frame\n",
    "df"
   ]
  },
  {
   "cell_type": "code",
   "execution_count": 59,
   "metadata": {},
   "outputs": [],
   "source": [
    "# With four rows, the degree of freedom is 4-1 = 3\n",
    "# With a p-value of 0.05, the confidence level is 1.00-0.05 = 0.95.\n",
    "critical_value = stats.chi2.ppf(q = 0.95, df = 3)"
   ]
  },
  {
   "cell_type": "code",
   "execution_count": 60,
   "metadata": {},
   "outputs": [
    {
     "data": {
      "text/plain": [
       "7.814727903251179"
      ]
     },
     "execution_count": 60,
     "metadata": {},
     "output_type": "execute_result"
    }
   ],
   "source": [
    "# The critical value\n",
    "critical_value"
   ]
  },
  {
   "cell_type": "code",
   "execution_count": 61,
   "metadata": {},
   "outputs": [
    {
     "data": {
      "text/plain": [
       "Power_divergenceResult(statistic=23.333333333333336, pvalue=3.4411276663397364e-05)"
      ]
     },
     "execution_count": 61,
     "metadata": {},
     "output_type": "execute_result"
    }
   ],
   "source": [
    "# Run the chi square test with stats.chisquare()\n",
    "ret = stats.chisquare(df['observed'], df['expected'])\n",
    "ret"
   ]
  },
  {
   "cell_type": "code",
   "execution_count": 62,
   "metadata": {},
   "outputs": [
    {
     "data": {
      "text/plain": [
       "'3.4411276663397364e-05 (0.000034) is Statistically Significant (reject the null hypothesis)'"
      ]
     },
     "execution_count": 62,
     "metadata": {},
     "output_type": "execute_result"
    }
   ],
   "source": [
    "pvalue_eval(ret[1])"
   ]
  },
  {
   "cell_type": "markdown",
   "metadata": {},
   "source": [
    "### Conclusion\n",
    "* Since the chi-square value of 23.3 at a confidence level of 95% exceeds the critical value of 7.8, we conclude that the differences seen in the number of visits per cafe are statistically significant."
   ]
  },
  {
   "cell_type": "markdown",
   "metadata": {},
   "source": [
    "# =========================================="
   ]
  },
  {
   "cell_type": "markdown",
   "metadata": {},
   "source": [
    "### BREAK (0:10)"
   ]
  },
  {
   "cell_type": "code",
   "execution_count": 63,
   "metadata": {},
   "outputs": [],
   "source": [
    "from datetime import datetime"
   ]
  },
  {
   "cell_type": "code",
   "execution_count": 64,
   "metadata": {},
   "outputs": [
    {
     "name": "stdout",
     "output_type": "stream",
     "text": [
      "2021-08-26 14:37:32\n"
     ]
    }
   ],
   "source": [
    "thistime = datetime.now().strftime(\"%Y-%m-%d %H:%M:%S\")\n",
    "print(thistime)"
   ]
  },
  {
   "cell_type": "markdown",
   "metadata": {},
   "source": [
    "# =========================================="
   ]
  },
  {
   "cell_type": "markdown",
   "metadata": {},
   "source": [
    "# Everyone Do: Project Work (0:45)\n",
    "* Spend the remainder of class working with your groups on your project."
   ]
  },
  {
   "cell_type": "markdown",
   "metadata": {},
   "source": [
    "# =========================================="
   ]
  },
  {
   "cell_type": "markdown",
   "metadata": {},
   "source": [
    "### Rating Class Objectives\n",
    "\n",
    "* rate your understanding using 1-5 method in each objective"
   ]
  },
  {
   "cell_type": "code",
   "execution_count": null,
   "metadata": {},
   "outputs": [],
   "source": [
    "title = \"07-Project one - Day 3 - Hypothesis Testing and Statistical Tests\"\n",
    "objectives = [\n",
    "    \"Understand the difference between null hypothesis and alternate hypothesis\",\n",
    "    \"Merge branches with Git\",\n",
    "    \"Apply one-sample t-test to identify significant difference between sample and population data\",\n",
    "    \"Apply two sample t-test to identify significant differences between two groups\",\n",
    "    \"Apply ANOVA to compare the means of three or more groups\",\n",
    "    \"Perform Chi Square Test to compare distribution of categorical data\",\n",
    "]\n",
    "rating = []\n",
    "total = 0\n",
    "for i in range(len(objectives)):\n",
    "    rate = input(objectives[i]+\"? \")\n",
    "    total += int(rate)\n",
    "    rating.append(objectives[i] + \". (\" + rate + \"/5)\")\n",
    "print(\"=\"*96)\n",
    "print(f\"Self Evaluation for: {title}\")\n",
    "print(\"-\"*24)\n",
    "for i in rating:\n",
    "    print(i)\n",
    "print(\"-\"*64)\n",
    "print(\"Average: \" + str(total/len(objectives)))"
   ]
  },
  {
   "cell_type": "code",
   "execution_count": null,
   "metadata": {},
   "outputs": [],
   "source": []
  }
 ],
 "metadata": {
  "kernelspec": {
   "display_name": "Python 3 (ipykernel)",
   "language": "python",
   "name": "python3"
  },
  "language_info": {
   "codemirror_mode": {
    "name": "ipython",
    "version": 3
   },
   "file_extension": ".py",
   "mimetype": "text/x-python",
   "name": "python",
   "nbconvert_exporter": "python",
   "pygments_lexer": "ipython3",
   "version": "3.9.12"
  }
 },
 "nbformat": 4,
 "nbformat_minor": 4
}
