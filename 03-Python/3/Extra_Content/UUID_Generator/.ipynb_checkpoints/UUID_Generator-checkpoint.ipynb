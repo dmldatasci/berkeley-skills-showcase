{
 "cells": [
  {
   "cell_type": "markdown",
   "id": "3c52fe4c",
   "metadata": {},
   "source": [
    "# Instructions\n",
    "\n",
    "* In this activity, you will generate a universally unique id (UUID) string using functions and module imports.\n",
    "\n",
    "* See [link](https://stackoverflow.com/questions/292965/what-is-a-uuid) for more info on UUIDs.\n",
    "\n",
    "* Import the [random](https://docs.python.org/3/library/random.html) and [string](https://docs.python.org/3/library/string.html) modules.\n",
    "\n",
    "\n",
    "* Create a function that returns a universally unique id (UUID).\n",
    "\n",
    "  * The function should accept a parameter for uuid length with the default size of 4.\n",
    "\n",
    "  * The function should accept a parameter for a string of characters.\n",
    "\n",
    "    * This string of characters will be the alphabet used to generate the uuid.\n",
    "\n",
    "    * For example, if we pass `'abcdef'`, the uuid can only consist of the letters 'abcdef'.\n",
    "\n",
    "  * The length and characters parameters should be optional and have default values.\n",
    "\n",
    "  * Define a default character alphabet using the constants provided by the [string module](https://docs.python.org/3/library/string.html).\n",
    "\n",
    "  * To select random characters for your uuid, use one of the functions available for sequence selection in the [random module](https://docs.python.org/3/library/random.html) to randomly select a character from the alphabet.\n",
    "\n",
    "\n",
    "* Complete the test function to generate a variety of UUIDs and print them to the console."
   ]
  },
  {
   "cell_type": "code",
   "execution_count": 14,
   "id": "6c5d5511",
   "metadata": {},
   "outputs": [],
   "source": [
    "# load dependencies\n",
    "import random\n",
    "import string\n",
    "\n",
    "# define a function that makes `length` random choices from the user-provided `alphabet`\n",
    "def UUIDGen(length=4,\n",
    "           alphabet='abcdef'):\n",
    "    \n",
    "    uuid_makeup = random.choices(alphabet, k=length)\n",
    "    \n",
    "    # convert choices to a string\n",
    "    uuid = ''.join(uuid_makeup)\n",
    "    \n",
    "    return uuid\n",
    "\n",
    "\n",
    "# define a function that calls the UUIDGen function a user-specified number of times\n",
    "def ManyIDs(num_ids=10):\n",
    "    \n",
    "    for i in range(num_ids):\n",
    "        print(UUIDGen())\n",
    "        \n",
    "    # Generate a uuid using default values\n",
    "    uuid = UUIDGen()\n",
    "    print(\"UUID using default values: {}\".format(uuid))\n",
    "\n",
    "    # Generate a uuid of length 16 using the default character set\n",
    "    uuid16 = UUIDGen(length=16)\n",
    "    print(\"UUID of length 16: {}\".format(uuid16))\n",
    "\n",
    "    # Generate a uuid of random numbers using the default length\n",
    "    uuid_random_numbers = UUIDGen(alphabet=string.digits)\n",
    "    print(\"UUID of only numbers: {}\".format(uuid_random_numbers))\n",
    "\n",
    "    # Generate a uuid consisting of only letters\n",
    "    uuid_random_letters = UUIDGen(alphabet=string.ascii_letters)\n",
    "    print(\"UUID of only letters: {}\".format(uuid_random_letters))\n",
    "\n",
    "    # Generate a uuid of length 8 that includes punctuation in the character set\n",
    "    uuid_with_punctuation = UUIDGen(\n",
    "        length=8,\n",
    "        alphabet=string.ascii_letters + string.digits + string.punctuation)\n",
    "    print(\"UUID with punctuation: {}\".format(uuid_with_punctuation))\n",
    "        \n",
    "    return"
   ]
  },
  {
   "cell_type": "code",
   "execution_count": 16,
   "id": "f64a5b03",
   "metadata": {},
   "outputs": [
    {
     "name": "stdout",
     "output_type": "stream",
     "text": [
      "cbdf\n",
      "beab\n",
      "edac\n",
      "cbab\n",
      "facd\n",
      "edcf\n",
      "adcc\n",
      "acca\n",
      "efaf\n",
      "ffbe\n",
      "UUID using default values: ffbf\n",
      "UUID of length 16: beecddbcaeffdfdb\n",
      "UUID of only numbers: 4275\n",
      "UUID of only letters: bXgC\n",
      "UUID with punctuation: +hNo3`Q9\n"
     ]
    }
   ],
   "source": [
    "ManyIDs()"
   ]
  },
  {
   "cell_type": "markdown",
   "id": "6d7a1bb4",
   "metadata": {},
   "source": [
    "#### Hints\n",
    "\n",
    "* Define a default character alphabet that combines ascii letters with digits.\n",
    "\n",
    "* The random module has a function for making a random choice from an array. See the documentation on [functions for sequences](https://docs.python.org/3/library/random.html#functions-for-sequences).\n",
    "\n",
    "* The code for the uuid function should create a list, append `length` random characters to the list, and then return the result of using `join` to create a string from it."
   ]
  }
 ],
 "metadata": {
  "kernelspec": {
   "display_name": "Python 3 (ipykernel)",
   "language": "python",
   "name": "python3"
  },
  "language_info": {
   "codemirror_mode": {
    "name": "ipython",
    "version": 3
   },
   "file_extension": ".py",
   "mimetype": "text/x-python",
   "name": "python",
   "nbconvert_exporter": "python",
   "pygments_lexer": "ipython3",
   "version": "3.9.12"
  }
 },
 "nbformat": 4,
 "nbformat_minor": 5
}
