{
 "cells": [
  {
   "cell_type": "markdown",
   "id": "2946e79f",
   "metadata": {},
   "source": [
    "## Set Operations"
   ]
  },
  {
   "cell_type": "code",
   "execution_count": 3,
   "id": "d0497d2c",
   "metadata": {},
   "outputs": [
    {
     "name": "stdout",
     "output_type": "stream",
     "text": [
      "<class 'set'>\n",
      "<class 'set'>\n"
     ]
    }
   ],
   "source": [
    "# create a set denovo or cast a list as a set\n",
    "hero1 = {\"smart\", \"rich\", \"armored\", \"martial_artist\", \"strong\"}\n",
    "\n",
    "hero2 = [\"smart\", \"fast\", \"strong\", \"invulnerable\", \"antigravity\"]\n",
    "hero2 = set(hero2)\n",
    "\n",
    "print(type(hero1))\n",
    "print(type(hero2))"
   ]
  },
  {
   "cell_type": "code",
   "execution_count": 6,
   "id": "417f62e6",
   "metadata": {},
   "outputs": [
    {
     "data": {
      "text/plain": [
       "{'antigravity',\n",
       " 'armored',\n",
       " 'fast',\n",
       " 'invulnerable',\n",
       " 'martial_artist',\n",
       " 'rich',\n",
       " 'smart',\n",
       " 'strong'}"
      ]
     },
     "execution_count": 6,
     "metadata": {},
     "output_type": "execute_result"
    }
   ],
   "source": [
    "# union (or) takes attributes found in either set\n",
    "hero1 | hero2\n",
    "# hero1.union(hero2)"
   ]
  },
  {
   "cell_type": "code",
   "execution_count": 7,
   "id": "2d91485f",
   "metadata": {},
   "outputs": [
    {
     "data": {
      "text/plain": [
       "{'smart', 'strong'}"
      ]
     },
     "execution_count": 7,
     "metadata": {},
     "output_type": "execute_result"
    }
   ],
   "source": [
    "# intersection (and) takes attributes common to both heros\n",
    "hero1 & hero2\n",
    "# hero1.intersection(hero2)"
   ]
  },
  {
   "cell_type": "code",
   "execution_count": 9,
   "id": "774257d1",
   "metadata": {},
   "outputs": [
    {
     "data": {
      "text/plain": [
       "{'armored', 'martial_artist', 'rich'}"
      ]
     },
     "execution_count": 9,
     "metadata": {},
     "output_type": "execute_result"
    }
   ],
   "source": [
    "# difference takes attributes in the first set that are not in the second set\n",
    "hero1 - hero2\n",
    "# hero1.difference(hero2)"
   ]
  },
  {
   "cell_type": "code",
   "execution_count": 10,
   "id": "c9822056",
   "metadata": {},
   "outputs": [
    {
     "data": {
      "text/plain": [
       "{'antigravity', 'fast', 'invulnerable'}"
      ]
     },
     "execution_count": 10,
     "metadata": {},
     "output_type": "execute_result"
    }
   ],
   "source": [
    "hero2 - hero1"
   ]
  },
  {
   "cell_type": "code",
   "execution_count": 11,
   "id": "4ab7e18b",
   "metadata": {},
   "outputs": [
    {
     "data": {
      "text/plain": [
       "{'antigravity', 'armored', 'fast', 'invulnerable', 'martial_artist', 'rich'}"
      ]
     },
     "execution_count": 11,
     "metadata": {},
     "output_type": "execute_result"
    }
   ],
   "source": [
    "# symmetric difference takes attributes not found in both sets\n",
    "hero1 ^ hero2\n",
    "hero1.symmetric_difference(hero2)"
   ]
  }
 ],
 "metadata": {
  "kernelspec": {
   "display_name": "Python 3 (ipykernel)",
   "language": "python",
   "name": "python3"
  },
  "language_info": {
   "codemirror_mode": {
    "name": "ipython",
    "version": 3
   },
   "file_extension": ".py",
   "mimetype": "text/x-python",
   "name": "python",
   "nbconvert_exporter": "python",
   "pygments_lexer": "ipython3",
   "version": "3.9.12"
  }
 },
 "nbformat": 4,
 "nbformat_minor": 5
}
