{
 "cells": [
  {
   "cell_type": "markdown",
   "metadata": {},
   "source": [
    "---\n",
    "# Resume Analysis\n",
    "In this activity, you will generate a Python script to analyze a resume text file.\n",
    "## Instructions\n",
    "* Read the resume file as text using the `with` statement.\n",
    "* Create a list containing all words in the resume.\n",
    "  * Convert each word to lowercase to normalize the data.\n",
    "* Use `split` to remove and trailing punctuation so only words remain.\n",
    "* Create a set of unique words from the resume using `set()`.\n",
    "* Use set operations to filter out all remaining punctuation from the set of words.\n",
    "  * Create a set from `string.punctuation` to use in the difference operation.\n",
    "* Use the cleaned set (no punctuation) to find all of the words from the resume that match the required skills.\n",
    "* Use the cleaned set (no punctuation) to find all of the words that match the desired skills.\n",
    "## Bonuses\n",
    "* Count the number of occurrences for each word in the resume and print the top 10 occuring words in the resume.\n",
    "  * Use a dictionary data structure to hold the counts for each word.\n",
    "  * Make sure to remove punctuation and [stop words](https://en.wikipedia.org/wiki/Stop_words)\n",
    "## Hints\n",
    "* Carefully consider when to use a Dictionary data structure vs. a Set data structure when operating on Unique and Non-unique elements.\n"
   ]
  },
  {
   "cell_type": "code",
   "execution_count": 9,
   "metadata": {},
   "outputs": [
    {
     "data": {
      "text/plain": [
       "'Resume Analysis Module.'"
      ]
     },
     "execution_count": 9,
     "metadata": {},
     "output_type": "execute_result"
    }
   ],
   "source": [
    "# -*- coding: UTF-8 -*-\n",
    "\"\"\"Resume Analysis Module.\"\"\""
   ]
  },
  {
   "cell_type": "code",
   "execution_count": 10,
   "metadata": {},
   "outputs": [],
   "source": [
    "import os\n",
    "import string\n",
    "\n",
    "# Counter is used for the bonus solution\n",
    "from collections import Counter"
   ]
  },
  {
   "cell_type": "code",
   "execution_count": 11,
   "metadata": {},
   "outputs": [],
   "source": [
    "# Paths\n",
    "resume_path = os.path.join(\"..\", \"Extra_Content\", \"ADVANCED_Stu_Resume_Analysis\", \"Unsolved\", \"resume.md\")"
   ]
  },
  {
   "cell_type": "code",
   "execution_count": 12,
   "metadata": {},
   "outputs": [],
   "source": [
    "# Skills to match\n",
    "REQUIRED_SKILLS = {\"excel\", \"python\", \"mysql\", \"statistics\"}\n",
    "DESIRED_SKILLS = {\"r\", \"git\", \"html\", \"css\", \"leaflet\"}"
   ]
  },
  {
   "cell_type": "code",
   "execution_count": 13,
   "metadata": {},
   "outputs": [],
   "source": [
    "def load_file(filepath):\n",
    "    \"\"\"Helper function to read a file and return the data.\"\"\"\n",
    "    with open(filepath, \"r\") as resume_file_handler:\n",
    "        return resume_file_handler.read().lower().split()"
   ]
  },
  {
   "cell_type": "code",
   "execution_count": 14,
   "metadata": {},
   "outputs": [
    {
     "ename": "FileNotFoundError",
     "evalue": "[Errno 2] No such file or directory: '../Extra_Content/ADVANCED_Stu_Resume_Analysis/Unsolved/resume.md'",
     "output_type": "error",
     "traceback": [
      "\u001b[0;31m---------------------------------------------------------------------------\u001b[0m",
      "\u001b[0;31mFileNotFoundError\u001b[0m                         Traceback (most recent call last)",
      "Input \u001b[0;32mIn [14]\u001b[0m, in \u001b[0;36m<cell line: 2>\u001b[0;34m()\u001b[0m\n\u001b[1;32m      1\u001b[0m \u001b[38;5;66;03m# Grab the text for a Resume\u001b[39;00m\n\u001b[0;32m----> 2\u001b[0m word_list \u001b[38;5;241m=\u001b[39m \u001b[43mload_file\u001b[49m\u001b[43m(\u001b[49m\u001b[43mresume_path\u001b[49m\u001b[43m)\u001b[49m\n",
      "Input \u001b[0;32mIn [13]\u001b[0m, in \u001b[0;36mload_file\u001b[0;34m(filepath)\u001b[0m\n\u001b[1;32m      1\u001b[0m \u001b[38;5;28;01mdef\u001b[39;00m \u001b[38;5;21mload_file\u001b[39m(filepath):\n\u001b[1;32m      2\u001b[0m     \u001b[38;5;124;03m\"\"\"Helper function to read a file and return the data.\"\"\"\u001b[39;00m\n\u001b[0;32m----> 3\u001b[0m     \u001b[38;5;28;01mwith\u001b[39;00m \u001b[38;5;28;43mopen\u001b[39;49m\u001b[43m(\u001b[49m\u001b[43mfilepath\u001b[49m\u001b[43m,\u001b[49m\u001b[43m \u001b[49m\u001b[38;5;124;43m\"\u001b[39;49m\u001b[38;5;124;43mr\u001b[39;49m\u001b[38;5;124;43m\"\u001b[39;49m\u001b[43m)\u001b[49m \u001b[38;5;28;01mas\u001b[39;00m resume_file_handler:\n\u001b[1;32m      4\u001b[0m         \u001b[38;5;28;01mreturn\u001b[39;00m resume_file_handler\u001b[38;5;241m.\u001b[39mread()\u001b[38;5;241m.\u001b[39mlower()\u001b[38;5;241m.\u001b[39msplit()\n",
      "\u001b[0;31mFileNotFoundError\u001b[0m: [Errno 2] No such file or directory: '../Extra_Content/ADVANCED_Stu_Resume_Analysis/Unsolved/resume.md'"
     ]
    }
   ],
   "source": [
    "# Grab the text for a Resume\n",
    "word_list = load_file(resume_path)"
   ]
  },
  {
   "cell_type": "code",
   "execution_count": 15,
   "metadata": {},
   "outputs": [],
   "source": [
    "# Create a set of unique words from the resume\n",
    "resume = set()"
   ]
  },
  {
   "cell_type": "code",
   "execution_count": 16,
   "metadata": {},
   "outputs": [
    {
     "ename": "NameError",
     "evalue": "name 'word_list' is not defined",
     "output_type": "error",
     "traceback": [
      "\u001b[0;31m---------------------------------------------------------------------------\u001b[0m",
      "\u001b[0;31mNameError\u001b[0m                                 Traceback (most recent call last)",
      "Input \u001b[0;32mIn [16]\u001b[0m, in \u001b[0;36m<cell line: 2>\u001b[0;34m()\u001b[0m\n\u001b[1;32m      1\u001b[0m \u001b[38;5;66;03m# Remove trailing punctuation from words\u001b[39;00m\n\u001b[0;32m----> 2\u001b[0m \u001b[38;5;28;01mfor\u001b[39;00m token \u001b[38;5;129;01min\u001b[39;00m \u001b[43mword_list\u001b[49m:\n\u001b[1;32m      3\u001b[0m     resume\u001b[38;5;241m.\u001b[39madd(token\u001b[38;5;241m.\u001b[39msplit(\u001b[38;5;124m'\u001b[39m\u001b[38;5;124m,\u001b[39m\u001b[38;5;124m'\u001b[39m)[\u001b[38;5;241m0\u001b[39m]\u001b[38;5;241m.\u001b[39msplit(\u001b[38;5;124m'\u001b[39m\u001b[38;5;124m.\u001b[39m\u001b[38;5;124m'\u001b[39m)[\u001b[38;5;241m0\u001b[39m])\n\u001b[1;32m      4\u001b[0m \u001b[38;5;28mprint\u001b[39m(resume)\n",
      "\u001b[0;31mNameError\u001b[0m: name 'word_list' is not defined"
     ]
    }
   ],
   "source": [
    "# Remove trailing punctuation from words\n",
    "for token in word_list:\n",
    "    resume.add(token.split(',')[0].split('.')[0])\n",
    "print(resume)"
   ]
  },
  {
   "cell_type": "code",
   "execution_count": 17,
   "metadata": {},
   "outputs": [
    {
     "name": "stdout",
     "output_type": "stream",
     "text": [
      "set()\n"
     ]
    }
   ],
   "source": [
    "# Remove Punctuation that were read as whole words\n",
    "punctuation = set(string.punctuation)\n",
    "resume = resume - punctuation\n",
    "print(resume)"
   ]
  },
  {
   "cell_type": "code",
   "execution_count": 18,
   "metadata": {},
   "outputs": [
    {
     "name": "stdout",
     "output_type": "stream",
     "text": [
      "set()\n"
     ]
    }
   ],
   "source": [
    "# Calculate the Required Skills Match using Set Intersection\n",
    "print(resume & REQUIRED_SKILLS)"
   ]
  },
  {
   "cell_type": "code",
   "execution_count": 19,
   "metadata": {},
   "outputs": [
    {
     "name": "stdout",
     "output_type": "stream",
     "text": [
      "set()\n"
     ]
    }
   ],
   "source": [
    "# Calculate the Desired Skills Match using Set Intersection\n",
    "print(resume & DESIRED_SKILLS)"
   ]
  },
  {
   "cell_type": "code",
   "execution_count": 20,
   "metadata": {},
   "outputs": [
    {
     "ename": "NameError",
     "evalue": "name 'word_list' is not defined",
     "output_type": "error",
     "traceback": [
      "\u001b[0;31m---------------------------------------------------------------------------\u001b[0m",
      "\u001b[0;31mNameError\u001b[0m                                 Traceback (most recent call last)",
      "Input \u001b[0;32mIn [20]\u001b[0m, in \u001b[0;36m<cell line: 4>\u001b[0;34m()\u001b[0m\n\u001b[1;32m      1\u001b[0m \u001b[38;5;66;03m# Bonus: Resume Word Count\u001b[39;00m\n\u001b[1;32m      2\u001b[0m \u001b[38;5;66;03m# ==========================\u001b[39;00m\n\u001b[1;32m      3\u001b[0m \u001b[38;5;66;03m# Initialize a dictionary with default values equal to zero\u001b[39;00m\n\u001b[0;32m----> 4\u001b[0m word_count \u001b[38;5;241m=\u001b[39m {}\u001b[38;5;241m.\u001b[39mfromkeys(\u001b[43mword_list\u001b[49m, \u001b[38;5;241m0\u001b[39m)\n",
      "\u001b[0;31mNameError\u001b[0m: name 'word_list' is not defined"
     ]
    }
   ],
   "source": [
    "# Bonus: Resume Word Count\n",
    "# ==========================\n",
    "# Initialize a dictionary with default values equal to zero\n",
    "word_count = {}.fromkeys(word_list, 0)"
   ]
  },
  {
   "cell_type": "code",
   "execution_count": 21,
   "metadata": {},
   "outputs": [
    {
     "ename": "NameError",
     "evalue": "name 'word_list' is not defined",
     "output_type": "error",
     "traceback": [
      "\u001b[0;31m---------------------------------------------------------------------------\u001b[0m",
      "\u001b[0;31mNameError\u001b[0m                                 Traceback (most recent call last)",
      "Input \u001b[0;32mIn [21]\u001b[0m, in \u001b[0;36m<cell line: 2>\u001b[0;34m()\u001b[0m\n\u001b[1;32m      1\u001b[0m \u001b[38;5;66;03m# Loop through the word list and count each word.\u001b[39;00m\n\u001b[0;32m----> 2\u001b[0m \u001b[38;5;28;01mfor\u001b[39;00m word \u001b[38;5;129;01min\u001b[39;00m \u001b[43mword_list\u001b[49m:\n\u001b[1;32m      3\u001b[0m     word_count[word] \u001b[38;5;241m+\u001b[39m\u001b[38;5;241m=\u001b[39m \u001b[38;5;241m1\u001b[39m\n\u001b[1;32m      4\u001b[0m \u001b[38;5;28mprint\u001b[39m(word_count)\n",
      "\u001b[0;31mNameError\u001b[0m: name 'word_list' is not defined"
     ]
    }
   ],
   "source": [
    "# Loop through the word list and count each word.\n",
    "for word in word_list:\n",
    "    word_count[word] += 1\n",
    "print(word_count)"
   ]
  },
  {
   "cell_type": "code",
   "execution_count": 22,
   "metadata": {},
   "outputs": [
    {
     "ename": "NameError",
     "evalue": "name 'word_list' is not defined",
     "output_type": "error",
     "traceback": [
      "\u001b[0;31m---------------------------------------------------------------------------\u001b[0m",
      "\u001b[0;31mNameError\u001b[0m                                 Traceback (most recent call last)",
      "Input \u001b[0;32mIn [22]\u001b[0m, in \u001b[0;36m<cell line: 2>\u001b[0;34m()\u001b[0m\n\u001b[1;32m      1\u001b[0m \u001b[38;5;66;03m# Bonus using collections.Counter\u001b[39;00m\n\u001b[0;32m----> 2\u001b[0m word_counter \u001b[38;5;241m=\u001b[39m Counter(\u001b[43mword_list\u001b[49m)\n\u001b[1;32m      3\u001b[0m \u001b[38;5;28mprint\u001b[39m(word_counter)\n",
      "\u001b[0;31mNameError\u001b[0m: name 'word_list' is not defined"
     ]
    }
   ],
   "source": [
    "# Bonus using collections.Counter\n",
    "word_counter = Counter(word_list)\n",
    "print(word_counter)"
   ]
  },
  {
   "cell_type": "code",
   "execution_count": 33,
   "metadata": {},
   "outputs": [
    {
     "name": "stdout",
     "output_type": "stream",
     "text": [
      "True\n"
     ]
    }
   ],
   "source": [
    "# Comparing both word count solutions\n",
    "print(word_count == word_counter)"
   ]
  },
  {
   "cell_type": "code",
   "execution_count": 34,
   "metadata": {},
   "outputs": [
    {
     "name": "stdout",
     "output_type": "stream",
     "text": [
      "Top 10 Words\n",
      "=============\n"
     ]
    }
   ],
   "source": [
    "# Top 10 Words\n",
    "print(\"Top 10 Words\")\n",
    "print(\"=============\")"
   ]
  },
  {
   "cell_type": "code",
   "execution_count": 37,
   "metadata": {},
   "outputs": [],
   "source": [
    "# Clean Punctuation\n",
    "_word_count = [word for word in word_count if word not in string.punctuation]\n"
   ]
  },
  {
   "cell_type": "code",
   "execution_count": 38,
   "metadata": {},
   "outputs": [],
   "source": [
    "# Clean Stop Words\n",
    "stop_words = [\"and\", \"with\", \"using\", \"##\", \"working\", \"in\", \"to\"]\n",
    "_word_count = [word for word in _word_count if word not in stop_words]"
   ]
  },
  {
   "cell_type": "code",
   "execution_count": 39,
   "metadata": {},
   "outputs": [
    {
     "name": "stdout",
     "output_type": "stream",
     "text": [
      "Token: data                 Count: 7\n",
      "Token: analytics            Count: 3\n",
      "Token: python               Count: 3\n",
      "Token: visualization        Count: 2\n",
      "Token: scripts              Count: 2\n",
      "Token: social               Count: 2\n",
      "Token: media                Count: 2\n",
      "Token: web                  Count: 2\n",
      "Token: html,                Count: 2\n",
      "Token: css,                 Count: 2\n"
     ]
    }
   ],
   "source": [
    "# Sort words by count and print the top 10\n",
    "sorted_words = []\n",
    "for word in sorted(_word_count, key=word_count.get, reverse=True)[:10]:\n",
    "    print(f\"Token: {word:20} Count: {word_count[word]}\")"
   ]
  },
  {
   "cell_type": "markdown",
   "metadata": {},
   "source": [
    "---\n",
    "**UUID Generator**\n",
    "# Instructions\n",
    "* In this activity, you will generate a universally unique id (UUID) string using functions and module imports.\n",
    "* See [link](https://stackoverflow.com/questions/292965/what-is-a-uuid) for more info on UUIDs.\n",
    "* Import the [random](https://docs.python.org/3/library/random.html) and [string](https://docs.python.org/3/library/string.html) modules.\n",
    "* Create a function that returns a universally unique id (UUID).\n",
    "  * The function should accept a parameter for uuid length with the default size of 4.\n",
    "  * The function should accept a parameter for a string of characters.\n",
    "    * This string of characters will be the alphabet used to generate the uuid.\n",
    "    * For example, if we pass `'abcdef'`, the uuid can only consist of the letters 'abcdef'.\n",
    "  * The length and characters parameters should be optional and have default values.\n",
    "  * Define a default character alphabet using the constants provided by the [string module](https://docs.python.org/3/library/string.html).\n",
    "  * To select random characters for your uuid, use one of the functions available for sequence selection in the [random module](https://docs.python.org/3/library/random.html) to randomly select a character from the alphabet.\n",
    "* Complete the test function to generate a variety of UUIDs and print them to the console.\n",
    "## Hints\n",
    "* Define a default character alphabet that combines ascii letters with digits.\n",
    "* The random module has a function for making a random choice from an array. See the documentation on [functions for sequences](https://docs.python.org/3/library/random.html#functions-for-sequences).\n",
    "* The code for the uuid function should create a list, append `length` random characters to the list, and then return the result of using `join` to create a string from it.\n"
   ]
  },
  {
   "cell_type": "code",
   "execution_count": 41,
   "metadata": {},
   "outputs": [
    {
     "name": "stdout",
     "output_type": "stream",
     "text": [
      "UUID using default values: lofK\n",
      "UUID of length 16: kZMk9f95OGOXRZhg\n",
      "UUID of only numbers: 3040\n",
      "UUID of only letters: cjhx\n",
      "UUID with punctuation: EX)\"CT)?\n"
     ]
    }
   ],
   "source": [
    "\"\"\"UUID Generator.\n",
    "\n",
    "This module allows us to generate a universally unique identifier (UUID)\n",
    "with a custom length and character set.\n",
    "\n",
    "Example:\n",
    "    $ python uuid.py\n",
    "\n",
    "\"\"\"\n",
    "\n",
    "# Use import to access code from other modules.\n",
    "import string\n",
    "import random\n",
    "\n",
    "\n",
    "# Use default parameters in our function declaration to allow us to change the length and characters\n",
    "def generate_uuid(length=4, characters=string.ascii_letters + string.digits):\n",
    "    \"\"\"Generate a string of random characters.\n",
    "\n",
    "    Args:\n",
    "        length (int, optional): The length of the UUID to generate.\n",
    "        characters (string, optional): The character set used to build the UUID.\n",
    "\n",
    "    Returns:\n",
    "        string: A string representation of the generated UUID.\n",
    "    \"\"\"\n",
    "    # Loop through a range defined by the length size\n",
    "    # In each loop, make a random choice from our characters and append that to the uuid list\n",
    "    uuid = []\n",
    "    for _ in range(length):\n",
    "        uuid.append(random.choice(characters))\n",
    "    # Use join to convert the uuid list to a string\n",
    "    return ''.join(uuid)\n",
    "\n",
    "\n",
    "def test():\n",
    "    \"\"\"Run test code.\"\"\"\n",
    "\n",
    "    # Generate a uuid using default values\n",
    "    uuid = generate_uuid()\n",
    "    print(\"UUID using default values: {}\".format(uuid))\n",
    "\n",
    "    # Generate a uuid of length 16 using the default character set\n",
    "    uuid16 = generate_uuid(length=16)\n",
    "    print(\"UUID of length 16: {}\".format(uuid16))\n",
    "\n",
    "    # Generate a uuid of random numbers using the default length\n",
    "    uuid_random_numbers = generate_uuid(characters=string.digits)\n",
    "    print(\"UUID of only numbers: {}\".format(uuid_random_numbers))\n",
    "\n",
    "    # Generate a uuid consisting of only letters\n",
    "    uuid_random_letters = generate_uuid(characters=string.ascii_letters)\n",
    "    print(\"UUID of only letters: {}\".format(uuid_random_letters))\n",
    "\n",
    "    # Generate a uuid of length 8 that includes punctuation in the character set\n",
    "    uuid_with_punctuation = generate_uuid(\n",
    "        length=8,\n",
    "        characters=string.ascii_letters + string.digits + string.punctuation)\n",
    "    print(\"UUID with punctuation: {}\".format(uuid_with_punctuation))\n",
    "\n",
    "\n",
    "# This conditional will execute the test function when running as a script.\n",
    "# https://docs.python.org/3/library/__main__.html\n",
    "if __name__ == '__main__':\n",
    "    test()\n"
   ]
  },
  {
   "cell_type": "markdown",
   "metadata": {},
   "source": [
    "# ==============================="
   ]
  },
  {
   "cell_type": "markdown",
   "metadata": {},
   "source": [
    "### Rating Class Objectives\n",
    "\n",
    "* rate your understanding using 1-5 method in each objective"
   ]
  },
  {
   "cell_type": "code",
   "execution_count": null,
   "metadata": {},
   "outputs": [],
   "source": [
    "title = \"03-Python - Day 3 - Python Deeper Dive\"\n",
    "objectives = [\n",
    "    \"add, commit, and push code up to GitHub from the command line\",\n",
    "    \"Create and use Python dictionaries\",\n",
    "    \"read data in from a dictionary\",\n",
    "    \"Use list comprehensions\",\n",
    "    \"Write and re use Python function\",\n",
    "    \"Have a firm understanding of coding logic and reasoning\",\n",
    "]\n",
    "rating = []\n",
    "total = 0\n",
    "for i in range(len(objectives)):\n",
    "    rate = input(objectives[i]+\"? \")\n",
    "    total += int(rate)\n",
    "    rating.append(objectives[i] + \". (\" + rate + \"/5)\")\n",
    "print(\"=\"*96)\n",
    "print(f\"Self Evaluation for: {title}\")\n",
    "print(\"-\"*24)\n",
    "for i in rating:\n",
    "    print(i)\n",
    "print(\"-\"*64)\n",
    "print(\"Average: \" + str(total/len(objectives)))"
   ]
  }
 ],
 "metadata": {
  "kernelspec": {
   "display_name": "Python 3 (ipykernel)",
   "language": "python",
   "name": "python3"
  },
  "language_info": {
   "codemirror_mode": {
    "name": "ipython",
    "version": 3
   },
   "file_extension": ".py",
   "mimetype": "text/x-python",
   "name": "python",
   "nbconvert_exporter": "python",
   "pygments_lexer": "ipython3",
   "version": "3.9.12"
  }
 },
 "nbformat": 4,
 "nbformat_minor": 4
}
