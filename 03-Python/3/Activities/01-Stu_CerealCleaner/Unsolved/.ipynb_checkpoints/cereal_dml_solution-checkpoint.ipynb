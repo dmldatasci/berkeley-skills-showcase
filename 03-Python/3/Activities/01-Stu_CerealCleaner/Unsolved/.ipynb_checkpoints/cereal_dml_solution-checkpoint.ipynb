{
 "cells": [
  {
   "cell_type": "markdown",
   "id": "e77844d4",
   "metadata": {},
   "source": [
    "## Cereal Cleaner\n",
    "\n",
    "In this activity, you will create an application that reads in cereal data from a CSV file and then prints only those cereals that contain 5 or more grams of fiber.\n",
    "\n",
    "### Instructions\n",
    "\n",
    "* Open the file, `cereal.csv` and start by skipping the header row. See hints below for this.\n",
    "\n",
    "* Read through the remaining rows and find the cereals that contain five grams of fiber or more, printing the data from those rows to the terminal."
   ]
  },
  {
   "cell_type": "code",
   "execution_count": 13,
   "id": "5dcd1b5b",
   "metadata": {},
   "outputs": [
    {
     "name": "stdout",
     "output_type": "stream",
     "text": [
      "['100% Bran', 'N', 'C', '70', '4', '1', '130', '10', '5', '6', '280', '25', '3', '1', '0.33', '68.402973']\n",
      "['All-Bran', 'K', 'C', '70', '4', '1', '260', '9', '7', '5', '320', '25', '3', '1', '0.33', '59.425505']\n",
      "['All-Bran with Extra Fiber', 'K', 'C', '50', '4', '0', '140', '14', '8', '0', '330', '25', '3', '1', '0.5', '93.704912']\n",
      "['Bran Flakes', 'P', 'C', '90', '3', '0', '210', '5', '13', '5', '190', '25', '3', '1', '0.67', '53.313813']\n",
      "['Fruit & Fibre Dates; Walnuts; and Oats', 'P', 'C', '120', '3', '2', '160', '5', '12', '10', '200', '25', '3', '1.25', '0.67', '40.917047']\n",
      "['Fruitful Bran', 'K', 'C', '120', '3', '0', '240', '5', '14', '12', '190', '25', '3', '1.33', '0.67', '41.015492']\n",
      "['Post Nat. Raisin Bran', 'P', 'C', '120', '3', '1', '200', '6', '11', '14', '260', '25', '3', '1.33', '0.67', '37.840594']\n",
      "['Raisin Bran', 'K', 'C', '120', '3', '1', '210', '5', '14', '12', '240', '25', '2', '1.33', '0.75', '39.259197']\n"
     ]
    }
   ],
   "source": [
    "# load dependencies\n",
    "import os\n",
    "import csv\n",
    "\n",
    "# set file path\n",
    "filepath = os.path.join(\"..\", \"Resources\", \"cereal.csv\")\n",
    "\n",
    "with open(filepath) as cereal_file:\n",
    "    \n",
    "    # create a reader object\n",
    "    filereader = csv.reader(cereal_file, delimiter=\",\")\n",
    "    \n",
    "    # skip the header\n",
    "    next(filereader, None)\n",
    "    \n",
    "    # iterate through cereals and pull entries with more than 5 grams fiber\n",
    "    for cereal in filereader:\n",
    "        if float(cereal[7]) >= 5:\n",
    "            print(cereal)"
   ]
  },
  {
   "cell_type": "markdown",
   "id": "63a499ca",
   "metadata": {},
   "source": [
    "#### Bonus\n",
    "\n",
    "Try the activity again, but this time use `cereal_bonus.csv`, which does not include a header."
   ]
  },
  {
   "cell_type": "code",
   "execution_count": 16,
   "id": "286857fe",
   "metadata": {},
   "outputs": [
    {
     "name": "stdout",
     "output_type": "stream",
     "text": [
      "['100% Bran', 'N', 'C', '70', '4', '1', '130', '10', '5', '6', '280', '25', '3', '1', '0.33', '68.402973']\n",
      "['All-Bran', 'K', 'C', '70', '4', '1', '260', '9', '7', '5', '320', '25', '3', '1', '0.33', '59.425505']\n",
      "['All-Bran with Extra Fiber', 'K', 'C', '50', '4', '0', '140', '14', '8', '0', '330', '25', '3', '1', '0.5', '93.704912']\n",
      "['Bran Flakes', 'P', 'C', '90', '3', '0', '210', '5', '13', '5', '190', '25', '3', '1', '0.67', '53.313813']\n",
      "['Fruit & Fibre Dates; Walnuts; and Oats', 'P', 'C', '120', '3', '2', '160', '5', '12', '10', '200', '25', '3', '1.25', '0.67', '40.917047']\n",
      "['Fruitful Bran', 'K', 'C', '120', '3', '0', '240', '5', '14', '12', '190', '25', '3', '1.33', '0.67', '41.015492']\n",
      "['Post Nat. Raisin Bran', 'P', 'C', '120', '3', '1', '200', '6', '11', '14', '260', '25', '3', '1.33', '0.67', '37.840594']\n",
      "['Raisin Bran', 'K', 'C', '120', '3', '1', '210', '5', '14', '12', '240', '25', '2', '1.33', '0.75', '39.259197']\n"
     ]
    }
   ],
   "source": [
    "# load dependencies\n",
    "import os\n",
    "import csv\n",
    "\n",
    "# set file path\n",
    "filepath = os.path.join(\"..\", \"Resources\", \"cereal_bonus.csv\")\n",
    "\n",
    "with open(filepath) as cereal_file:\n",
    "    \n",
    "    # create a reader object\n",
    "    filereader = csv.reader(cereal_file, delimiter=\",\")\n",
    "    \n",
    "    # set an indicator for first iteration\n",
    "    first_it = True\n",
    "    \n",
    "    # iterate through cereals and pull entries with more than 5 grams fiber\n",
    "    for cereal in filereader:\n",
    "        \n",
    "        # remove the random nonsense from top of file\n",
    "        if first_it == True:\n",
    "            cereal[0] = cereal[0].replace(\"\\ufeff\", \"\")\n",
    "            first_it = False\n",
    "        \n",
    "        if float(cereal[7]) >= 5:\n",
    "            print(cereal)"
   ]
  },
  {
   "cell_type": "markdown",
   "id": "0227840c",
   "metadata": {},
   "source": [
    "#### Hints\n",
    "\n",
    "* Every value within the csv is stored as a string, and certain values have a decimal. This means that they will have to be cast to be used.\n",
    "\n",
    "* `csv.reader` begins reading the CSV file from the first row. `next(csv_reader, None)` will skip the header row.\n",
    "\n",
    "  * Refer to this Stack Overflow post on [how to skip the header](https://stackoverflow.com/a/14257599) for more information.\n",
    "\n",
    "* Integers in Python are whole numbers and, as such, cannot contain decimals. Decimal numbers As such, your numbers containing decimal points will have to be cast as a `float`.\n",
    "\n",
    "#### References\n",
    "\n",
    "Crawford, C. (2017, October 24). 80 cereals. [https://www.kaggle.com/crawford/80-cereals](https://www.kaggle.com/crawford/80-cereals), originally sourced from [http://lib.stat.cmu.edu/datasets/1993.expo/](http://lib.stat.cmu.edu/datasets/1993.expo/)\n"
   ]
  }
 ],
 "metadata": {
  "kernelspec": {
   "display_name": "Python 3 (ipykernel)",
   "language": "python",
   "name": "python3"
  },
  "language_info": {
   "codemirror_mode": {
    "name": "ipython",
    "version": 3
   },
   "file_extension": ".py",
   "mimetype": "text/x-python",
   "name": "python",
   "nbconvert_exporter": "python",
   "pygments_lexer": "ipython3",
   "version": "3.9.12"
  }
 },
 "nbformat": 4,
 "nbformat_minor": 5
}
