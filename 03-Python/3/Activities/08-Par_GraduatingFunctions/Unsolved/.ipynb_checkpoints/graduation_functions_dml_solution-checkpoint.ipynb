{
 "cells": [
  {
   "cell_type": "markdown",
   "id": "7db30a2c",
   "metadata": {},
   "source": [
    "## Graduating Functions\n",
    "\n",
    "In this activity, you will create a function that searches a list of students and graduates by state to determine state graduation rates for public, private nonprofit, and private for-profit institutions.\n",
    "\n",
    "### Instructions\n",
    "\n",
    "* Analyze the code and CSV provided, looking specifically for what needs to still be added to the application.\n",
    "\n",
    "* Using the starter code provided, create a function called `print_percentages` which takes in a parameter called `state_data` and does the following:\n",
    "\n",
    "  * Uses the data stored within `state_data` to calculate the estimated graduation rates in each category of Title IV 4-year institutions (public, non-profit private, and for-profit private).\n",
    "\n",
    "  * Prints out the graduation rates for each school type for the state to the terminal.\n",
    "\n",
    "_Note: Some states do not have non-profit or for-profit private schools, so data must be checked for zeros._"
   ]
  },
  {
   "cell_type": "code",
   "execution_count": 40,
   "id": "f3df925e",
   "metadata": {},
   "outputs": [],
   "source": [
    "# load dependencies\n",
    "import os\n",
    "import csv"
   ]
  },
  {
   "cell_type": "code",
   "execution_count": 41,
   "id": "4448442f",
   "metadata": {},
   "outputs": [],
   "source": [
    "# define a function that takes in a state\n",
    "def RetrieveData(state, filename='graduation_data.csv'):\n",
    "    \n",
    "    # define the filepath\n",
    "    filepath = os.path.join(\"..\", \"Resources\", filename)\n",
    "    \n",
    "    # open the file for reading\n",
    "    with open(filepath, 'r') as grad_file:\n",
    "        \n",
    "        # \n",
    "        filereader = csv.reader(grad_file)\n",
    "        \n",
    "        # read the csv contents\n",
    "        header = next(filereader)\n",
    "        state_data = [state_line for state_line in filereader]\n",
    "        \n",
    "        # instantiate a found variable\n",
    "        found = False\n",
    "        \n",
    "        # find the requested state\n",
    "        for item in state_data:\n",
    "            \n",
    "            if item[0] == state:\n",
    "                \n",
    "                found = True\n",
    "                print_percentages_bonus(item)\n",
    "                break\n",
    "        \n",
    "        if not found:\n",
    "            \n",
    "            print(f\"Sorry, we didn't find data for {state}.\")\n",
    "            \n",
    "            return\n",
    "            \n",
    "    return"
   ]
  },
  {
   "cell_type": "code",
   "execution_count": 42,
   "id": "d99b04b7",
   "metadata": {},
   "outputs": [],
   "source": [
    "# define the print_percentages function with a state_data parameter\n",
    "def print_percentages(state_data):\n",
    "    \n",
    "    state = state_data[0]\n",
    "    adj_cohort_pub = int(state_data[1])\n",
    "    comp_pub = int(state_data[2])\n",
    "    adj_cohort_np_priv = int(state_data[3])\n",
    "    comp_np_priv = int(state_data[4])\n",
    "    adj_cohort_priv = int(state_data[5])\n",
    "    comp_priv = int(state_data[6])\n",
    "    \n",
    "    print(f\"\\n\\nIn {state}, graduation rates by school classification are as follows:  \\n\\n\" +\n",
    "          f\"Public              –   {comp_pub / adj_cohort_pub * 100}%\\n\" +\n",
    "          f\"Non-Profit Private  –   {comp_np_priv / adj_cohort_np_priv * 100}%\\n\" +\n",
    "          f\"For-Profit Private  –   {comp_priv / adj_cohort_priv * 100}%\" )\n",
    "    \n",
    "    return"
   ]
  },
  {
   "cell_type": "code",
   "execution_count": 43,
   "id": "782dedab",
   "metadata": {},
   "outputs": [],
   "source": [
    "def GradRateApp():\n",
    "    \n",
    "    u_request = input(\"What state/district graduation rates are you looking for? \")\n",
    "    \n",
    "    RetrieveData(u_request)\n",
    "    \n",
    "    return"
   ]
  },
  {
   "cell_type": "code",
   "execution_count": 54,
   "id": "7268abd1",
   "metadata": {},
   "outputs": [
    {
     "name": "stdout",
     "output_type": "stream",
     "text": [
      "What state/district graduation rates are you looking for? Massachusetts\n",
      "\n",
      "\n",
      "In Massachusetts, graduation rates by school classification are as follows:  \n",
      "\n",
      "Public              –   56.8983%\n",
      "Non-Profit Private  –   75.2291%\n",
      "For-Profit Private  –   33.6439%\n",
      "\n",
      "The overall graduation rate is 69.2335%, which means the state is successful.\n"
     ]
    }
   ],
   "source": [
    "GradRateApp()"
   ]
  },
  {
   "cell_type": "markdown",
   "id": "7db43b73",
   "metadata": {},
   "source": [
    "#### Bonus\n",
    "\n",
    "* Still within the `print_percentages()` function, calculate the overall graduation rate, and create a conditional that checks a state's overall graduation rate and prints either \"Graduation success\" to the screen if the number was greater than fifty or \"State needs improvement\" if the number was less than 50.\n",
    "* Address the 'divide by zero' case."
   ]
  },
  {
   "cell_type": "code",
   "execution_count": 50,
   "id": "0a9750ac",
   "metadata": {},
   "outputs": [],
   "source": [
    "# define the print_percentages function with a state_data parameter\n",
    "def print_percentages_bonus(state_data):\n",
    "    \n",
    "    state = state_data[0]\n",
    "    adj_cohort_pub = int(state_data[1])\n",
    "    comp_pub = int(state_data[2])\n",
    "    adj_cohort_np_priv = int(state_data[3])\n",
    "    comp_np_priv = int(state_data[4])\n",
    "    adj_cohort_priv = int(state_data[5])\n",
    "    comp_priv = int(state_data[6])\n",
    "    \n",
    "    if adj_cohort_pub > 0:\n",
    "        rate_pub = round(comp_pub / adj_cohort_pub * 100, 4)\n",
    "    else:\n",
    "        rate_pub = \"Data Unavailable\"\n",
    "        \n",
    "    if adj_cohort_np_priv > 0:\n",
    "        rate_np_priv = round(comp_np_priv / adj_cohort_np_priv * 100, 4)\n",
    "    else:\n",
    "        rate_np_priv = \"Data Unavailable\"\n",
    "        \n",
    "    if adj_cohort_priv > 0:\n",
    "        rate_priv = round(comp_priv / adj_cohort_priv * 100, 4)\n",
    "    else:\n",
    "        rate_priv = \"Data Unavailable\"\n",
    "    \n",
    "    if (adj_cohort_pub + adj_cohort_np_priv + adj_cohort_priv) > 0:\n",
    "        overall_grad_rate = round((comp_pub + comp_np_priv + comp_priv) / (adj_cohort_pub + adj_cohort_np_priv + adj_cohort_priv) * 100, 4)\n",
    "        \n",
    "        if overall_grad_rate > 50:\n",
    "            success = True\n",
    "        else:\n",
    "            success = False\n",
    "    else:\n",
    "        overall_grad_rate = \"Data Unavailable\"\n",
    "        \n",
    "    if success:\n",
    "        success_clause = \"the state is successful\"\n",
    "    else:\n",
    "        success_clause = \"the state needs improvement\"\n",
    "    \n",
    "    print(f\"\\n\\nIn {state}, graduation rates by school classification are as follows:  \\n\\n\" +\n",
    "          f\"Public              –   {rate_pub}%\\n\" +\n",
    "          f\"Non-Profit Private  –   {rate_np_priv}%\\n\" +\n",
    "          f\"For-Profit Private  –   {rate_priv}%\\n\\n\" +\n",
    "          f\"The overall graduation rate is {overall_grad_rate}%, which means {success_clause}.\")\n",
    "    \n",
    "    return"
   ]
  },
  {
   "cell_type": "markdown",
   "id": "e175d3b8",
   "metadata": {},
   "source": [
    "#### References\n",
    "\n",
    "Data Source: U.S. Department of Education, National Center for Education Statistics, IPEDS, Winter 2012-13, Graduation Rates component (final data). [https://nces.ed.gov/datalab/table/library/detail/12572](https://nces.ed.gov/datalab/table/library/detail/12572)"
   ]
  }
 ],
 "metadata": {
  "kernelspec": {
   "display_name": "Python 3 (ipykernel)",
   "language": "python",
   "name": "python3"
  },
  "language_info": {
   "codemirror_mode": {
    "name": "ipython",
    "version": 3
   },
   "file_extension": ".py",
   "mimetype": "text/x-python",
   "name": "python",
   "nbconvert_exporter": "python",
   "pygments_lexer": "ipython3",
   "version": "3.9.12"
  }
 },
 "nbformat": 4,
 "nbformat_minor": 5
}
