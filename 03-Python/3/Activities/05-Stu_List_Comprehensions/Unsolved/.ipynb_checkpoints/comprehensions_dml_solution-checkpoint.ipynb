{
 "cells": [
  {
   "cell_type": "markdown",
   "id": "eff690a7",
   "metadata": {},
   "source": [
    "## List Comprehensions\n",
    "\n",
    "In this activity, you’ll use list comprehensions to compose a wedding invitation, which you will send to every name on your mailing list.\n",
    "\n",
    "### Instructions\n",
    "\n",
    "* Open the file called `comprehensions.py`.\n",
    "\n",
    "* Run the provided program. Note that nothing forces you to write the name properly in title case&mdash;for example, as \"Jane\" instead of \"jAnE\". You will use list comprehensions to fix this.\n",
    "\n",
    "  * First, use list comprehensions to create a new list that contains the lowercase version of each of the names your user provided.\n",
    "\n",
    "  * Then, use list comprehensions to create a new list that contains the title-case versions of each of the names in your lowercase list."
   ]
  },
  {
   "cell_type": "code",
   "execution_count": 7,
   "id": "4e9a5394",
   "metadata": {},
   "outputs": [
    {
     "name": "stdout",
     "output_type": "stream",
     "text": [
      "Please enter the name of an invitee:  JaNET VISSering\n",
      "Please enter the name of an invitee:  HELL STORM\n",
      "Please enter the name of an invitee:  JohNY troUBle\n",
      "Please enter the name of an invitee:  WILFred gEm\n",
      "Please enter the name of an invitee:  GIl LIEBERMAN\n"
     ]
    }
   ],
   "source": [
    "# instantiate a counter\n",
    "i_count = 0\n",
    "\n",
    "# instantiate an empty invitee list\n",
    "invitees = []\n",
    "\n",
    "# accept user input for five invitees\n",
    "while i_count < 5:\n",
    "    \n",
    "    invitee = input(\"Please enter the name of an invitee:  \")\n",
    "    invitees.append(invitee)\n",
    "    \n",
    "    i_count += 1"
   ]
  },
  {
   "cell_type": "code",
   "execution_count": 8,
   "id": "af6a52b4",
   "metadata": {},
   "outputs": [
    {
     "name": "stdout",
     "output_type": "stream",
     "text": [
      "['janet vissering', 'hell storm', 'johny trouble', 'wilfred gem', 'gil lieberman']\n",
      "['Janet Vissering', 'Hell Storm', 'Johny Trouble', 'Wilfred Gem', 'Gil Lieberman']\n"
     ]
    }
   ],
   "source": [
    "# create a lower case list with a list comprehension\n",
    "lowered = [name.lower() for name in invitees]\n",
    "print(lowered)\n",
    "\n",
    "# create a title case list with a list comprehension\n",
    "titled = [name.title() for name in invitees]\n",
    "print(titled)"
   ]
  },
  {
   "cell_type": "code",
   "execution_count": 9,
   "id": "3ce3b454",
   "metadata": {},
   "outputs": [
    {
     "name": "stdout",
     "output_type": "stream",
     "text": [
      "Dear Janet Vissering, please come to the wedding this Saturday!\n",
      "Dear Hell Storm, please come to the wedding this Saturday!\n",
      "Dear Johny Trouble, please come to the wedding this Saturday!\n",
      "Dear Wilfred Gem, please come to the wedding this Saturday!\n",
      "Dear Gil Lieberman, please come to the wedding this Saturday!\n"
     ]
    }
   ],
   "source": [
    "# create a list comprehension of invite text using an f-string\n",
    "invitations = [f\"Dear {name}, please come to the wedding this Saturday!\" for name in titled]\n",
    "\n",
    "# print all invitations\n",
    "for invitation in invitations:\n",
    "    print(invitation)"
   ]
  },
  {
   "cell_type": "markdown",
   "id": "8ea40f28",
   "metadata": {},
   "source": [
    "#### Hint\n",
    "\n",
    "* Check out the documentation for the [title method](https://docs.python.org/3/library/stdtypes.html#str.title)."
   ]
  }
 ],
 "metadata": {
  "kernelspec": {
   "display_name": "Python 3 (ipykernel)",
   "language": "python",
   "name": "python3"
  },
  "language_info": {
   "codemirror_mode": {
    "name": "ipython",
    "version": 3
   },
   "file_extension": ".py",
   "mimetype": "text/x-python",
   "name": "python",
   "nbconvert_exporter": "python",
   "pygments_lexer": "ipython3",
   "version": "3.9.12"
  }
 },
 "nbformat": 4,
 "nbformat_minor": 5
}
