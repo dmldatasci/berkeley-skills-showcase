{
 "cells": [
  {
   "cell_type": "markdown",
   "id": "da0e06c2",
   "metadata": {},
   "source": [
    "## Hobby Book: Dictionaries\n",
    "\n",
    "In this activity, you will create and access dictionaries that are based on your own hobbies.\n",
    "\n",
    "### Instructions\n",
    "\n",
    "1. Create a dictionary to store the following information:\n",
    "    * Your name\n",
    "    * Your age\n",
    "    * A list of a few of your hobbies\n",
    "    * A dictionary that includes a few days and the time you typically wake up on those days\n",
    "\n",
    "\n",
    "2. Print out your name, how many hobbies you have, and a time you typically wake up during the week."
   ]
  },
  {
   "cell_type": "code",
   "execution_count": 2,
   "id": "5c6a872f",
   "metadata": {},
   "outputs": [
    {
     "name": "stdout",
     "output_type": "stream",
     "text": [
      "My name is David Levy, and I have 4 hobbies. I usually wake up at 6:30 am.\n"
     ]
    }
   ],
   "source": [
    "hobby_book = {\n",
    "    'name' : 'David Levy',\n",
    "    'age' : 29,\n",
    "    'hobbies' : ['climbing', 'running', 'role-playing games', 'music'],\n",
    "    'wake-up times' : {\n",
    "        'Monday' : '6:30 am',\n",
    "        'Tuesday' : '6:30 am',\n",
    "        'Wednesday' : '6:30 am',\n",
    "        'Thursday' : '6:30 am',\n",
    "        'Friday' : '6:30 am',\n",
    "        'Saturday' : '7:30 am',\n",
    "        'Sunday' : '8:30 am',\n",
    "    }\n",
    "}\n",
    "\n",
    "print(f\"My name is {hobby_book['name']}, and I have {len(hobby_book['hobbies'])} hobbies. \" +\n",
    "      f\"I usually wake up at {hobby_book['wake-up times']['Wednesday']}.\")"
   ]
  }
 ],
 "metadata": {
  "kernelspec": {
   "display_name": "Python 3 (ipykernel)",
   "language": "python",
   "name": "python3"
  },
  "language_info": {
   "codemirror_mode": {
    "name": "ipython",
    "version": 3
   },
   "file_extension": ".py",
   "mimetype": "text/x-python",
   "name": "python",
   "nbconvert_exporter": "python",
   "pygments_lexer": "ipython3",
   "version": "3.9.12"
  }
 },
 "nbformat": 4,
 "nbformat_minor": 5
}
