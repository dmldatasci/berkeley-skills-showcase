{
 "cells": [
  {
   "cell_type": "code",
   "execution_count": 1,
   "id": "42d6952d",
   "metadata": {},
   "outputs": [
    {
     "data": {
      "text/plain": [
       "'b'"
      ]
     },
     "execution_count": 1,
     "metadata": {},
     "output_type": "execute_result"
    }
   ],
   "source": [
    "# a reminder that lists store values in single units\n",
    "a_list = [\n",
    "    \"a\",\n",
    "    \"b\",\n",
    "    123,\n",
    "]\n",
    "\n",
    "a_list[1]"
   ]
  },
  {
   "cell_type": "code",
   "execution_count": 5,
   "id": "bd334be1",
   "metadata": {},
   "outputs": [
    {
     "data": {
      "text/plain": [
       "'b'"
      ]
     },
     "execution_count": 5,
     "metadata": {},
     "output_type": "execute_result"
    }
   ],
   "source": [
    "# whereas dictionaries store values in key : value pairs\n",
    "a_dict = {\n",
    "    \"name\":\"a\",\n",
    "    \"age\":\"b\",\n",
    "    \"salary\":123,\n",
    "}\n",
    "\n",
    "a_dict[\"age\"]"
   ]
  },
  {
   "cell_type": "code",
   "execution_count": 8,
   "id": "7026b672",
   "metadata": {},
   "outputs": [
    {
     "name": "stdout",
     "output_type": "stream",
     "text": [
      "<class 'dict'>\n",
      "<class 'dict'>\n"
     ]
    }
   ],
   "source": [
    "# two methods for creating dictionaries\n",
    "# create a dictionary to hold the actor's names.\n",
    "actors_1 = {}\n",
    "print(type(actors_1))\n",
    "\n",
    "# create a dictionary using the built-in function.\n",
    "actors_2 = dict()\n",
    "print(type(actors_2))"
   ]
  },
  {
   "cell_type": "code",
   "execution_count": 11,
   "id": "03354b91",
   "metadata": {},
   "outputs": [
    {
     "name": "stdout",
     "output_type": "stream",
     "text": [
      "Tom Cruise\n"
     ]
    }
   ],
   "source": [
    "# a dictionary of an actor\n",
    "actors = {\"name\": \"Tom Cruise\"}\n",
    "\n",
    "print(f'{actors[\"name\"]}')"
   ]
  },
  {
   "cell_type": "code",
   "execution_count": 12,
   "id": "fb9c7237",
   "metadata": {},
   "outputs": [
    {
     "name": "stdout",
     "output_type": "stream",
     "text": [
      "{'name': 'Denzel Washington'}\n",
      "Denzel Washington\n"
     ]
    }
   ],
   "source": [
    "# add an actor to the dictionary with the key \"name\"\n",
    "# and the value \"Denzel Washington\".\n",
    "actors[\"name\"] = \"Denzel Washington\"\n",
    "\n",
    "# print the actors dictionary\n",
    "print(actors)\n",
    "\n",
    "# print only the actor\n",
    "print(f'{actors[\"name\"]}')"
   ]
  },
  {
   "cell_type": "code",
   "execution_count": 15,
   "id": "22b55163",
   "metadata": {},
   "outputs": [
    {
     "name": "stdout",
     "output_type": "stream",
     "text": [
      "Angelina Jolie\n"
     ]
    }
   ],
   "source": [
    "# a list of actors\n",
    "actors_list = [\n",
    "    \"Tom Cruise\",\n",
    "    \"Angelina Jolie\",\n",
    "    \"Kristen Stewart\",\n",
    "    \"Denzel Washington\"]\n",
    "\n",
    "# overwrite the value, \"Denzel Washington\", with the list of actors.\n",
    "actors[\"name\"] = actors_list\n",
    "\n",
    "# print the first actor\n",
    "print(f'{actors[\"name\"][1]}')"
   ]
  },
  {
   "cell_type": "code",
   "execution_count": 23,
   "id": "95a25450",
   "metadata": {},
   "outputs": [
    {
     "name": "stdout",
     "output_type": "stream",
     "text": [
      "Angelina Jolie is an actress from The United States of America known for starring in action movies\n"
     ]
    }
   ],
   "source": [
    "# a dictionary can contain multiple pairs of information\n",
    "actress = {\n",
    "    'name': \"Angelina Jolie\",\n",
    "    \"genre\": \"Action\",\n",
    "    \"nationality\": \"The United States of America\"\n",
    "}\n",
    "\n",
    "print(f\"{actress['name']} is an actress from {actress['nationality']} known for starring in {actress['genre'].lower()} movies\")"
   ]
  },
  {
   "cell_type": "code",
   "execution_count": 24,
   "id": "e4ecd62e",
   "metadata": {},
   "outputs": [
    {
     "name": "stdout",
     "output_type": "stream",
     "text": [
      "Sylvester Stallone was in Rocky 3\n"
     ]
    }
   ],
   "source": [
    "# a dictionary can contain multiple types of information\n",
    "another_actor = {\n",
    "    \"name\": \"Sylvester Stallone\",\n",
    "    \"age\": 62,\n",
    "    \"married\": True,\n",
    "    \"best movies\": [\n",
    "        \"Rocky\",\n",
    "        \"Rocky 2\",\n",
    "        \"Rocky 3\"]}\n",
    "\n",
    "print(f'{another_actor[\"name\"]} was in {another_actor[\"best movies\"][2]}')"
   ]
  },
  {
   "cell_type": "code",
   "execution_count": 25,
   "id": "26ebad5a",
   "metadata": {},
   "outputs": [
    {
     "name": "stdout",
     "output_type": "stream",
     "text": [
      "Interstellar made 360 million dollars in the US.\n"
     ]
    },
    {
     "data": {
      "text/plain": [
       "73"
      ]
     },
     "execution_count": 25,
     "metadata": {},
     "output_type": "execute_result"
    }
   ],
   "source": [
    "# a dictionary can even contain another dictionary\n",
    "film = {\n",
    "    \"title\": \"Interstellar\",\n",
    "    \"revenues\": {\n",
    "        \"United States\": 360,\n",
    "        \"China\": 250,\n",
    "        \"United Kingdom\": 73\n",
    "    }\n",
    "}\n",
    "print(f'{film[\"title\"]} made {film[\"revenues\"][\"United States\"]}'\" million dollars in the US.\")\n",
    "# ---------------------------------------------------------------\n",
    "film[\"revenues\"][\"United Kingdom\"]"
   ]
  }
 ],
 "metadata": {
  "kernelspec": {
   "display_name": "Python 3 (ipykernel)",
   "language": "python",
   "name": "python3"
  },
  "language_info": {
   "codemirror_mode": {
    "name": "ipython",
    "version": 3
   },
   "file_extension": ".py",
   "mimetype": "text/x-python",
   "name": "python",
   "nbconvert_exporter": "python",
   "pygments_lexer": "ipython3",
   "version": "3.9.12"
  }
 },
 "nbformat": 4,
 "nbformat_minor": 5
}
