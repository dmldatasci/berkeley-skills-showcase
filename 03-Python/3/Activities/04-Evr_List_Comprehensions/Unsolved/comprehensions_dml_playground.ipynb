{
 "cells": [
  {
   "cell_type": "code",
   "execution_count": 1,
   "id": "0ba8cb15",
   "metadata": {},
   "outputs": [
    {
     "name": "stdout",
     "output_type": "stream",
     "text": [
      "['h', 'a', 'l', 'i', 'b', 'u', 't']\n"
     ]
    }
   ],
   "source": [
    "# instantiate a string to loop through for illustration\n",
    "fish = \"halibut\"\n",
    "\n",
    "# the standard way to generate a list by looping through an object\n",
    "# is to instantiate the empty list, write the loop for iterating through the elements,\n",
    "# and append each to a list\n",
    "\n",
    "letters1 = []\n",
    "\n",
    "for letter in fish:\n",
    "    letters1.append(letter)\n",
    "\n",
    "print(letters1)"
   ]
  },
  {
   "cell_type": "code",
   "execution_count": 2,
   "id": "2346b2e9",
   "metadata": {},
   "outputs": [
    {
     "name": "stdout",
     "output_type": "stream",
     "text": [
      "['h', 'a', 'l', 'i', 'b', 'u', 't']\n"
     ]
    }
   ],
   "source": [
    "# a second way to generate a list is a list comprehension\n",
    "\n",
    "# list comprehensions provide concise syntax for creating lists\n",
    "\n",
    "letters2 = [letter for letter in fish]\n",
    "\n",
    "print(letters2)"
   ]
  },
  {
   "cell_type": "code",
   "execution_count": 3,
   "id": "092514e6",
   "metadata": {},
   "outputs": [
    {
     "name": "stdout",
     "output_type": "stream",
     "text": [
      "['H', 'A', 'L', 'I', 'B', 'U', 'T']\n"
     ]
    }
   ],
   "source": [
    "# we can use list comprehension syntax to manipulate each element as we go\n",
    "\n",
    "# the standard way is with the classic `for` loop\n",
    "\n",
    "capital_letters1 = []\n",
    "\n",
    "for letter in fish:\n",
    "    capital_letters1.append(letter.upper())\n",
    "\n",
    "print(capital_letters1)"
   ]
  },
  {
   "cell_type": "code",
   "execution_count": 4,
   "id": "c1a0efeb",
   "metadata": {},
   "outputs": [
    {
     "name": "stdout",
     "output_type": "stream",
     "text": [
      "['H', 'A', 'L', 'I', 'B', 'U', 'T']\n"
     ]
    }
   ],
   "source": [
    "# list comprehension with manipulation\n",
    "\n",
    "capital_letters2 = [letter.upper() for letter in fish]\n",
    "\n",
    "print(capital_letters2)"
   ]
  },
  {
   "cell_type": "code",
   "execution_count": 5,
   "id": "21e124ae",
   "metadata": {},
   "outputs": [
    {
     "name": "stdout",
     "output_type": "stream",
     "text": [
      "[92, 106]\n"
     ]
    }
   ],
   "source": [
    "# we can also add conditional logic (if statements) to list comprehensions\n",
    "\n",
    "#  the traditional way with `for` loops is shown below\n",
    "\n",
    "july_temperatures = [87, 85, 92, 79, 106]\n",
    "hot_days = []\n",
    "\n",
    "# \n",
    "for temperature in july_temperatures:\n",
    "    if temperature > 90:\n",
    "        hot_days.append(temperature)\n",
    "print(hot_days)"
   ]
  },
  {
   "cell_type": "code",
   "execution_count": 6,
   "id": "172fef0f",
   "metadata": {},
   "outputs": [
    {
     "name": "stdout",
     "output_type": "stream",
     "text": [
      "[92, 106]\n"
     ]
    }
   ],
   "source": [
    "# list comprehension with conditional\n",
    "\n",
    "hot_days = [temperature for temperature in july_temperatures if temperature > 90]\n",
    "\n",
    "print(hot_days)"
   ]
  }
 ],
 "metadata": {
  "kernelspec": {
   "display_name": "Python 3 (ipykernel)",
   "language": "python",
   "name": "python3"
  },
  "language_info": {
   "codemirror_mode": {
    "name": "ipython",
    "version": 3
   },
   "file_extension": ".py",
   "mimetype": "text/x-python",
   "name": "python",
   "nbconvert_exporter": "python",
   "pygments_lexer": "ipython3",
   "version": "3.9.12"
  }
 },
 "nbformat": 4,
 "nbformat_minor": 5
}
