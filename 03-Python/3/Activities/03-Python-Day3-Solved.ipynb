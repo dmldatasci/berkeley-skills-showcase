{
 "cells": [
  {
   "cell_type": "markdown",
   "metadata": {},
   "source": [
    "## **2022-12-15 `03-Python - Day 3 - Python Deeper Dive`**"
   ]
  },
  {
   "cell_type": "markdown",
   "metadata": {},
   "source": [
    "### **Objectives**\n",
    "\n",
    "* Create and use Python `dictionaries`.\n",
    "* Read in data from a `dictionary`.\n",
    "* Use `list` comprehensions.\n",
    "* Write and reuse Python `functions`.\n",
    "* Use coding `logic` and `reasoning`.\n",
    "* `Add`, `commit`, and `push` code to GitHub from the command line.\n",
    "---"
   ]
  },
  {
   "cell_type": "markdown",
   "metadata": {},
   "source": [
    "### **Presentation**\n",
    "* [Python Deeper Dive](https://ucb.bootcampcontent.com/UCB-Coding-Bootcamp/UCB-VIRT-DATA-PT-11-2022-U-LOLC/-/blob/main/slides/3.3_Deeper_Dive_into_Python.pdf)\n",
    "---"
   ]
  },
  {
   "cell_type": "markdown",
   "metadata": {},
   "source": [
    "# ==============================="
   ]
  },
  {
   "cell_type": "markdown",
   "metadata": {},
   "source": [
    "### 3.01 Students Do: Cereal Cleaner (0:20)"
   ]
  },
  {
   "cell_type": "markdown",
   "metadata": {},
   "source": [
    "# Instructions\n",
    "* Open the file, `cereal.csv` and start by skipping the header row. See hints below for this.\n",
    "* Read through the remaining rows and find the cereals that contain five grams of fiber or more, printing the data from those rows to the terminal.\n",
    "\n",
    "  > Hint\n",
    "    * Everything within the csv is stored as a string and certain rows have a decimal. This means that they will have to be cast to be used.\n",
    "    * You may have to use a string `encode()` method when you are opening and reading the file. This will require you to add a parameter in the `with open()` function. Refer to these stackoverflow to help you to better understand what encoder to use.\n",
    "        1. [Weird character added](https://stackoverflow.com/questions/22974765/weird-characters-added-to-first-column-name-after-reading-a-toad-exported-csv-fi)\n",
    "\n",
    "        2. [Difference between utf-8 and utf-sig](https://stackoverflow.com/questions/57152985/what-is-the-difference-between-utf-8-and-utf-8-sig)\n",
    "    * The `csv.reader` begins reading the csv file at the first row. `next(csv_reader, None)` will skip the header row. Refer to this stackoverflow answer on [how to skip the header](https://stackoverflow.com/a/14257599) for more information.\n",
    "    * Integers in Python are whole numbers and, as such, cannot contain decimals. As such, your numbers containing decimal points will have to be cast as a `float`.\n",
    "\n",
    "## Bonus\n",
    "* Try the following again but this time using `cereal_bonus.csv`, which does not include a header.\n",
    "> **Note:** Refer to the encoder hint in the **hint** section above. \n",
    "\n",
    "---"
   ]
  },
  {
   "cell_type": "code",
   "execution_count": 1,
   "metadata": {},
   "outputs": [
    {
     "name": "stdout",
     "output_type": "stream",
     "text": [
      "Header: name,mfr,type,calories,protein,fat,sodium,fiber,carbo,sugars,potass,vitamins,shelf,weight,cups,rating\n",
      "\n",
      "['100% Bran', 'N', 'C', '70', '4', '1', '130', '10', '5', '6', '280', '25', '3', '1', '0.33', '68.402973']\n",
      "['All-Bran', 'K', 'C', '70', '4', '1', '260', '9', '7', '5', '320', '25', '3', '1', '0.33', '59.425505']\n",
      "['All-Bran with Extra Fiber', 'K', 'C', '50', '4', '0', '140', '14', '8', '0', '330', '25', '3', '1', '0.5', '93.704912']\n",
      "['Bran Flakes', 'P', 'C', '90', '3', '0', '210', '5', '13', '5', '190', '25', '3', '1', '0.67', '53.313813']\n",
      "['Fruit & Fibre Dates; Walnuts; and Oats', 'P', 'C', '120', '3', '2', '160', '5', '12', '10', '200', '25', '3', '1.25', '0.67', '40.917047']\n",
      "['Fruitful Bran', 'K', 'C', '120', '3', '0', '240', '5', '14', '12', '190', '25', '3', '1.33', '0.67', '41.015492']\n",
      "['Post Nat. Raisin Bran', 'P', 'C', '120', '3', '1', '200', '6', '11', '14', '260', '25', '3', '1.33', '0.67', '37.840594']\n",
      "['Raisin Bran', 'K', 'C', '120', '3', '1', '210', '5', '14', '12', '240', '25', '2', '1.33', '0.75', '39.259197']\n"
     ]
    }
   ],
   "source": [
    "import os\n",
    "import csv\n",
    "\n",
    "cereal_csv = os.path.join(\"01-Stu_CerealCleaner\", \"Resources\", \"cereal.csv\")\n",
    "\n",
    "# Open and read csv\n",
    "with open(cereal_csv, \"r\", encoding='utf-8-sig') as csv_file:\n",
    "    csv_reader = csv.reader(csv_file, delimiter=\",\")\n",
    "\n",
    "    # Read the header row first (skip this part if there is no header)\n",
    "    csv_header = next(csv_file)\n",
    "    print(f\"Header: {csv_header}\")\n",
    "\n",
    "    # Read through each row of data after the header\n",
    "    for row in csv_reader:\n",
    "\n",
    "        # Convert row to float and compare to grams of fiber\n",
    "        if float(row[7]) >= 5:\n",
    "            print(row)\n"
   ]
  },
  {
   "cell_type": "code",
   "execution_count": 2,
   "metadata": {},
   "outputs": [
    {
     "name": "stdout",
     "output_type": "stream",
     "text": [
      "['100% Bran', 'N', 'C', '70', '4', '1', '130', '10', '5', '6', '280', '25', '3', '1', '0.33', '68.402973']\n",
      "['All-Bran', 'K', 'C', '70', '4', '1', '260', '9', '7', '5', '320', '25', '3', '1', '0.33', '59.425505']\n",
      "['All-Bran with Extra Fiber', 'K', 'C', '50', '4', '0', '140', '14', '8', '0', '330', '25', '3', '1', '0.5', '93.704912']\n",
      "['Bran Flakes', 'P', 'C', '90', '3', '0', '210', '5', '13', '5', '190', '25', '3', '1', '0.67', '53.313813']\n",
      "['Fruit & Fibre Dates; Walnuts; and Oats', 'P', 'C', '120', '3', '2', '160', '5', '12', '10', '200', '25', '3', '1.25', '0.67', '40.917047']\n",
      "['Fruitful Bran', 'K', 'C', '120', '3', '0', '240', '5', '14', '12', '190', '25', '3', '1.33', '0.67', '41.015492']\n",
      "['Post Nat. Raisin Bran', 'P', 'C', '120', '3', '1', '200', '6', '11', '14', '260', '25', '3', '1.33', '0.67', '37.840594']\n",
      "['Raisin Bran', 'K', 'C', '120', '3', '1', '210', '5', '14', '12', '240', '25', '2', '1.33', '0.75', '39.259197']\n"
     ]
    }
   ],
   "source": [
    "import os\n",
    "import csv\n",
    "\n",
    "cereal_csv = os.path.join(\"01-Stu_CerealCleaner\", \"Resources\", \"cereal_bonus.csv\")\n",
    "\n",
    "with open(cereal_csv, encoding='utf-8-sig') as csvfile:\n",
    "    csv_reader = csv.reader(csvfile, delimiter=\",\")\n",
    "\n",
    "    # @NOTE: This time, we do not use `next(csv_reader)` because there is no header for this file\n",
    "\n",
    "    # Read through each row of data after the header\n",
    "    for row in csv_reader:\n",
    "\n",
    "        # Convert row to float and compare to grams of fiber\n",
    "        if float(row[7]) >= 5:\n",
    "            print(row)\n"
   ]
  },
  {
   "cell_type": "markdown",
   "metadata": {},
   "source": [
    "# ==============================="
   ]
  },
  {
   "cell_type": "markdown",
   "metadata": {},
   "source": [
    "### 3.02 Instructor Do: Dictionaries (0:05)"
   ]
  },
  {
   "cell_type": "markdown",
   "metadata": {},
   "source": []
  },
  {
   "cell_type": "code",
   "execution_count": 3,
   "metadata": {},
   "outputs": [
    {
     "name": "stdout",
     "output_type": "stream",
     "text": [
      "Tom Cruise\n",
      "{'name': 'Denzel Washington'}\n",
      "Denzel Washington\n",
      "Tom Cruise\n",
      "Sylvester Stallone was in Rocky\n",
      "Interstellar made 360 million dollars in the US.\n"
     ]
    }
   ],
   "source": [
    "# Unlike lists, dictionaries store information in pairs\n",
    "# ---------------------------------------------------------------\n",
    "\n",
    "# Create a dictionary to hold the actor's names.\n",
    "actors = {}\n",
    "\n",
    "# Create a dictionary using the built-in function.\n",
    "actors = dict()\n",
    "\n",
    "# A dictionary of an actor.\n",
    "actors = {\"name\": \"Tom Cruise\"}\n",
    "print(f'{actors[\"name\"]}')\n",
    "\n",
    "# Add an actor to the dictionary with the key \"name\"\n",
    "# and the value \"Denzel Washington\".\n",
    "actors[\"name\"] = \"Denzel Washington\"\n",
    "\n",
    "# Print the actors dictionary.\n",
    "print(actors)\n",
    "\n",
    "# Print only the actor.\n",
    "print(f'{actors[\"name\"]}')\n",
    "\n",
    "# A list of actors\n",
    "actors_list = [\n",
    "    \"Tom Cruise\",\n",
    "    \"Angelina Jolie\",\n",
    "    \"Kristen Stewart\",\n",
    "    \"Denzel Washington\"]\n",
    "\n",
    "# Overwrite the value, \"Denzel Washington\", with the list of actors.\n",
    "actors[\"name\"] = actors_list\n",
    "\n",
    "# Print the first actor\n",
    "print(f'{actors[\"name\"][0]}')\n",
    "\n",
    "# ---------------------------------------------------------------\n",
    "\n",
    "# A dictionary can contain multiple pairs of information\n",
    "actress = {\n",
    "    \"name\": \"Angelina Jolie\",\n",
    "    \"genre\": \"Action\",\n",
    "    \"nationality\": \"United States\"\n",
    "}\n",
    "\n",
    "# ---------------------------------------------------------------\n",
    "\n",
    "# A dictionary can contain multiple types of information\n",
    "another_actor = {\n",
    "    \"name\": \"Sylvester Stallone\",\n",
    "    \"age\": 62,\n",
    "    \"married\": True,\n",
    "    \"best movies\": [\n",
    "        \"Rocky\",\n",
    "        \"Rocky 2\",\n",
    "        \"Rocky 3\"]}\n",
    "print(f'{another_actor[\"name\"]} was in {another_actor[\"best movies\"][0]}')\n",
    "# ---------------------------------------------------------------\n",
    "\n",
    "# A dictionary can even contain another dictionary\n",
    "film = {\n",
    "    \"title\": \"Interstellar\",\n",
    "    \"revenues\": {\n",
    "        \"United States\": 360,\n",
    "        \"China\": 250,\n",
    "        \"United Kingdom\": 73\n",
    "    }\n",
    "}\n",
    "print(f'{film[\"title\"]} made {film[\"revenues\"][\"United States\"]}'\" million dollars in the US.\")\n",
    "# ---------------------------------------------------------------\n"
   ]
  },
  {
   "cell_type": "markdown",
   "metadata": {},
   "source": [
    "# ==============================="
   ]
  },
  {
   "cell_type": "markdown",
   "metadata": {},
   "source": [
    "### 3.03 Students Do: Hobby-Book - Dictionaries (0:15)"
   ]
  },
  {
   "cell_type": "markdown",
   "metadata": {},
   "source": [
    "## Instructions\n",
    "\n",
    "* Create a dictionary to store the following:\n",
    "\n",
    "  * Your name\n",
    "  * Your age\n",
    "  * A list of a few of your hobbies\n",
    "  * A dictionary of a few times you wake up during the week\n",
    "\n",
    "* Print out your name, how many hobbies you have and a time you get up during the week.\n"
   ]
  },
  {
   "cell_type": "code",
   "execution_count": 4,
   "metadata": {},
   "outputs": [
    {
     "name": "stdout",
     "output_type": "stream",
     "text": [
      "Hello I am Rex and I am a dog\n",
      "I have 4 hobbies!\n",
      "On the weekend I get up at 10\n"
     ]
    }
   ],
   "source": [
    "# Dictionary full of info\n",
    "my_info = {\"name\": \"Rex\",\n",
    "           \"occupation\": \"dog\",\n",
    "           \"age\": 21,\n",
    "           \"hobbies\": [\"barking\", \"eating\", \"sleeping\", \"loving my owner\"],\n",
    "           \"wake-up\": {\"Mon\": 5, \"Friday\": 5, \"Saturday\": 10, \"Sunday\": 9}}\n",
    "\n",
    "# Print out results are stored in the dictionary\n",
    "print(f'Hello I am {my_info[\"name\"]} and I am a {my_info[\"occupation\"]}')\n",
    "print(f'I have {len(my_info[\"hobbies\"])} hobbies!')\n",
    "print(f'On the weekend I get up at {my_info[\"wake-up\"][\"Saturday\"]}')\n"
   ]
  },
  {
   "cell_type": "markdown",
   "metadata": {},
   "source": [
    "# ==============================="
   ]
  },
  {
   "cell_type": "markdown",
   "metadata": {},
   "source": [
    "### 3.04 Everyone Do: List Comprehensions (0:10)"
   ]
  },
  {
   "cell_type": "markdown",
   "metadata": {},
   "source": []
  },
  {
   "cell_type": "code",
   "execution_count": 5,
   "metadata": {},
   "outputs": [
    {
     "name": "stdout",
     "output_type": "stream",
     "text": [
      "['h', 'a', 'l', 'i', 'b', 'u', 't']\n",
      "['h', 'a', 'l', 'i', 'b', 'u', 't']\n",
      "['H', 'A', 'L', 'I', 'B', 'U', 'T']\n",
      "['H', 'A', 'L', 'I', 'B', 'U', 'T']\n",
      "[92, 106]\n",
      "[92, 106]\n"
     ]
    }
   ],
   "source": [
    "fish = \"halibut\"\n",
    "\n",
    "# Loop through each letter in the string\n",
    "# and push to an array\n",
    "letters = []\n",
    "for letter in fish:\n",
    "    letters.append(letter)\n",
    "\n",
    "print(letters)\n",
    "\n",
    "# List comprehensions provide concise syntax for creating lists\n",
    "letters = [letter for letter in fish]\n",
    "\n",
    "print(letters)\n",
    "\n",
    "# We can manipulate each element as we go\n",
    "capital_letters = []\n",
    "for letter in fish:\n",
    "    capital_letters.append(letter.upper())\n",
    "\n",
    "print(capital_letters)\n",
    "\n",
    "# List Comprehension for the above\n",
    "capital_letters = [letter.upper() for letter in fish]\n",
    "\n",
    "print(capital_letters)\n",
    "\n",
    "# We can also add conditional logic (if statements) to a list comprehension\n",
    "july_temperatures = [87, 85, 92, 79, 106]\n",
    "hot_days = []\n",
    "for temperature in july_temperatures:\n",
    "    if temperature > 90:\n",
    "        hot_days.append(temperature)\n",
    "print(hot_days)\n",
    "\n",
    "# List Comprehension with conditional\n",
    "hot_days = [temperature for temperature in july_temperatures if temperature > 90]\n",
    "\n",
    "print(hot_days)\n"
   ]
  },
  {
   "cell_type": "markdown",
   "metadata": {},
   "source": [
    "# ==============================="
   ]
  },
  {
   "cell_type": "markdown",
   "metadata": {},
   "source": [
    "### 3.05 Students Do: List Comprehensions (0:10)"
   ]
  },
  {
   "cell_type": "markdown",
   "metadata": {},
   "source": [
    "In this activity, you will use list comprehensions to compose a wedding invitation to send to every name on your mailing list.\n",
    "## Instructions\n",
    "* Open the file called `comprehensions.py`.\n",
    "* Run the provided program. Note that nothing forces you to write the name \"properly\"—e.g., as \"Jane\" instead of \"jAnE\". You will use list comprehensions to fix this.\n",
    "  * First, use list comprehensions to create a new list that contains the lowercase version of each of the names your user provided.\n",
    "  * Then, use list comprehensions to create a new list that contains the capitalize versions of each of the names in your lower-cased list.\n",
    "## Bonuses\n",
    "* Create a thank you note to address to all guests using f-string and print the statement using `title()` function. \n",
    "## Hints\n",
    "* See the documentation for the [title](https://docs.python.org/3/library/stdtypes.html#str.title) method.\n",
    "---"
   ]
  },
  {
   "cell_type": "code",
   "execution_count": 6,
   "metadata": {},
   "outputs": [
    {
     "name": "stdin",
     "output_type": "stream",
     "text": [
      "Please enter the name of someone you know.  khaled\n",
      "Please enter the name of someone you know.  karman\n",
      "Please enter the name of someone you know.  abdo\n",
      "Please enter the name of someone you know.  ali\n",
      "Please enter the name of someone you know.  ahmed\n"
     ]
    },
    {
     "name": "stdout",
     "output_type": "stream",
     "text": [
      "Dear Khaled, please come to the wedding this Saturday!\n",
      "Dear Karman, please come to the wedding this Saturday!\n",
      "Dear Abdo, please come to the wedding this Saturday!\n",
      "Dear Ali, please come to the wedding this Saturday!\n",
      "Dear Ahmed, please come to the wedding this Saturday!\n",
      "Dear Khaled, Thanks For Coming And Celebrating With Us!\n",
      "Dear Karman, Thanks For Coming And Celebrating With Us!\n",
      "Dear Abdo, Thanks For Coming And Celebrating With Us!\n",
      "Dear Ali, Thanks For Coming And Celebrating With Us!\n",
      "Dear Ahmed, Thanks For Coming And Celebrating With Us!\n"
     ]
    }
   ],
   "source": [
    "names = []\n",
    "for _ in range(5):\n",
    "    name = input(\"Please enter the name of someone you know. \")\n",
    "    names.append(name)\n",
    "\n",
    "lowercased = [name.lower() for name in names]\n",
    "caps = [name.capitalize() for name in lowercased]\n",
    "invitations = [\n",
    "    f\"Dear {name}, please come to the wedding this Saturday!\" for name in caps]\n",
    "\n",
    "for invitation in invitations:\n",
    "    print(invitation)\n",
    "\n",
    "# BONUS\n",
    "# Create a thank you note to be addressed to all guests using\n",
    "# f-string and print the statement using `title()` function.\n",
    "\n",
    "ty_note = [\n",
    "    f\"Dear {name}, thanks for coming and celebrating with us!\" for name in caps]\n",
    "for note in ty_note:\n",
    "    print(note.title())\n"
   ]
  },
  {
   "cell_type": "markdown",
   "metadata": {},
   "source": [
    "# ==============================="
   ]
  },
  {
   "cell_type": "markdown",
   "metadata": {},
   "source": [
    "### 3.06 Instructor Do: Functions (0:15)"
   ]
  },
  {
   "cell_type": "markdown",
   "metadata": {},
   "source": []
  },
  {
   "cell_type": "code",
   "execution_count": 7,
   "metadata": {},
   "outputs": [
    {
     "name": "stdout",
     "output_type": "stream",
     "text": [
      "Hi!\n",
      "Hello, World!\n",
      "Here is a beef quesadilla with guacamole\n",
      "Here is a chicken quesadilla with salsa\n",
      "Here is a sour cream quesadilla with beef\n",
      "Here is a chicken quesadilla with sour cream\n",
      "Here is a beef quesadilla with guacamole\n",
      "4\n",
      "4\n",
      "9\n"
     ]
    }
   ],
   "source": [
    "# Basic Definition\n",
    "def name(parameters):\n",
    "    # code goes here\n",
    "    return\n",
    "\n",
    "\n",
    "# Simple Function with no parameters\n",
    "def show():\n",
    "    print(f\"Hi!\")\n",
    "\n",
    "\n",
    "# You use parenthesis to run the code in a function\n",
    "show()\n",
    "\n",
    "\n",
    "# Simple function with one parameter\n",
    "def show(message):\n",
    "    print(message)\n",
    "\n",
    "\n",
    "# Think of the parameter `message` as a variable\n",
    "# You assign the string \"Hello, World!\" when you call the function\n",
    "# This is like saying `message = \"Hello, World!\"`\n",
    "show(\"Hello, World!\")\n",
    "\n",
    "\n",
    "# Functions can have more than one parameter\n",
    "def make_quesadilla(protein, topping):\n",
    "    quesadilla = f\"Here is a {protein} quesadilla with {topping}\"\n",
    "    print(quesadilla)\n",
    "\n",
    "\n",
    "# Supply the arguments (values) when calling the function\n",
    "make_quesadilla(\"beef\", \"guacamole\")\n",
    "make_quesadilla(\"chicken\", \"salsa\")\n",
    "\n",
    "# @NOTE: Order is important when supplying arguments!\n",
    "make_quesadilla(\"sour cream\", \"beef\")\n",
    "\n",
    "\n",
    "# We can also specify default values for parameters\n",
    "def make_quesadilla(protein, topping=\"sour cream\"):\n",
    "    quesadilla = f\"Here is a {protein} quesadilla with {topping}\"\n",
    "    print(quesadilla)\n",
    "\n",
    "\n",
    "# Make a quesadilla using the default topping\n",
    "make_quesadilla(\"chicken\")\n",
    "\n",
    "# Make a quesadilla with a new topping\n",
    "make_quesadilla(\"beef\", \"guacamole\")\n",
    "\n",
    "\n",
    "# Functions can return a value\n",
    "def square(number):\n",
    "    return number * number\n",
    "\n",
    "\n",
    "# You can save the value that is returned\n",
    "squared = square(2)\n",
    "print(squared)\n",
    "\n",
    "# You can also just print the return value of a function\n",
    "print(square(2))\n",
    "print(square(3))\n"
   ]
  },
  {
   "cell_type": "markdown",
   "metadata": {},
   "source": [
    "# ==============================="
   ]
  },
  {
   "cell_type": "markdown",
   "metadata": {},
   "source": [
    "### 3.07 Students Do: Functions (0:10)"
   ]
  },
  {
   "cell_type": "markdown",
   "metadata": {},
   "source": [
    "In this activity, you will write a function to compute the arithmetic mean (average) for a list of numbers.\n",
    "## Instructions\n",
    "* Write a function called `average` that accepts a list of numbers.\n",
    "  * The function `average` should return the arithmetic [mean](https://en.wikipedia.org/wiki/Arithmetic_mean) (average) for a list of numbers.\n",
    "* Test your function by calling it with different values and printing the results.\n",
    "## Hints\n",
    "* [Arithmetic Mean (Average)](https://en.wikipedia.org/wiki/Arithmetic_mean)\n",
    "---"
   ]
  },
  {
   "cell_type": "code",
   "execution_count": 8,
   "metadata": {},
   "outputs": [
    {
     "name": "stdout",
     "output_type": "stream",
     "text": [
      "5.0\n",
      "5.0\n"
     ]
    }
   ],
   "source": [
    "# Write a function that returns the arithmetic average for a list of numbers\n",
    "def average(numbers):\n",
    "    length = len(numbers)\n",
    "    total = 0.0\n",
    "    for number in numbers:\n",
    "        total += number\n",
    "    return total / length\n",
    "\n",
    "\n",
    "# Test your function with the following:\n",
    "print(average([1, 5, 9]))\n",
    "print(average(range(11)))\n"
   ]
  },
  {
   "cell_type": "markdown",
   "metadata": {},
   "source": [
    "# ==============================="
   ]
  },
  {
   "cell_type": "markdown",
   "metadata": {},
   "source": [
    "---\n",
    "### BREAK (0:10)\n",
    "---"
   ]
  },
  {
   "cell_type": "markdown",
   "metadata": {},
   "source": [
    "### 3.08 Partners Do: Wrestling With Functions (0:15)"
   ]
  },
  {
   "cell_type": "markdown",
   "metadata": {},
   "source": [
    "## Instructions\n",
    "* Analyze the code and CSV provided, looking specifically for what needs to still be added to the application.\n",
    "* Using the starter code provided, create a function called `print_percentages` which takes in a parameter called `wrestler_data` and does the following:\n",
    "  * Uses the data stored within `wrestler_data` to calculate the percentage of matches the wrestler won, lost, and drew over the course of a year.\n",
    "  * Prints out the stats for the wrestler to the terminal.\n",
    "## Bonus\n",
    "* Still within the `print_percentages()` function, create a conditional that checks a wrestler's loss percentage and prints either \"Jobber\" to the screen if the number was greater than fifty or \"Superstar\" if the number was less than 50.\n",
    "---"
   ]
  },
  {
   "cell_type": "code",
   "execution_count": 9,
   "metadata": {},
   "outputs": [
    {
     "name": "stdin",
     "output_type": "stream",
     "text": [
      "What wrestler do you want to look for?  a\n"
     ]
    }
   ],
   "source": [
    "import os\n",
    "import csv\n",
    "\n",
    "# Path to collect data from the Resources folder\n",
    "wrestling_csv = os.path.join('08-Par_WrestlingWithFunctions', 'Resources', 'WWE-Data-2016.csv')\n",
    "\n",
    "\n",
    "# Define the function and have it accept the 'wrestler_data' as its sole parameter\n",
    "def print_percentages(wrestler_data):\n",
    "    # For readability, it can help to assign your values to variables with descriptive names\n",
    "    name = str(wrestler_data[0])\n",
    "    wins = int(wrestler_data[1])\n",
    "    losses = int(wrestler_data[2])\n",
    "    draws = int(wrestler_data[3])\n",
    "\n",
    "    # Total matches can be found by adding wins, losses, and draws together\n",
    "    total_matches = wins + losses + draws\n",
    "\n",
    "    # Win percent can be found by dividing the the total wins by the total matches and multiplying by 100\n",
    "    win_percent = (wins / total_matches) * 100\n",
    "\n",
    "    # Loss percent can be found by dividing the total losses by the total matches and multiplying by 100\n",
    "    loss_percent = (losses / total_matches) * 100\n",
    "\n",
    "    # Draw percent can be found by dividing the total draws by the total matches and multiplying by 100\n",
    "    draw_percent = (draws / total_matches) * 100\n",
    "\n",
    "    # If the loss percentage is over 50, type_of_wrestler is \"Jobber\". Otherwise it is \"Superstar\".\n",
    "    if loss_percent > 50:\n",
    "        type_of_wrestler = \"Jobber\"\n",
    "    else:\n",
    "        type_of_wrestler = \"Superstar\"\n",
    "\n",
    "    # Print out the wrestler's name and their percentage stats\n",
    "    print(f\"Stats for {name}\")\n",
    "    print(f\"WIN PERCENT: {win_percent}\")\n",
    "    print(f\"LOSS PERCENT: {loss_percent}\")\n",
    "    print(f\"DRAW PERCENT: {draw_percent}\")\n",
    "    print(f\"{name} is a {type_of_wrestler}\")\n",
    "\n",
    "\n",
    "# Read in the CSV file\n",
    "with open(wrestling_csv, 'r') as csvfile:\n",
    "\n",
    "    # Split the data on commas\n",
    "    csvreader = csv.reader(csvfile, delimiter=',')\n",
    "\n",
    "    header = next(csvreader)\n",
    "\n",
    "    # Prompt the user for what wrestler they would like to search for\n",
    "    name_to_check = input(\"What wrestler do you want to look for? \")\n",
    "\n",
    "    # Loop through the data\n",
    "    for row in csvreader:\n",
    "\n",
    "        # If the wrestler's name in a row is equal to that which the user input, run the 'print_percentages()' function\n",
    "        if name_to_check == row[0]:\n",
    "            print_percentages(row)\n"
   ]
  },
  {
   "cell_type": "markdown",
   "metadata": {},
   "source": [
    "# ==============================="
   ]
  },
  {
   "cell_type": "markdown",
   "metadata": {},
   "source": [
    "### 3.09 Instructor Do: Intro to Git (0:25)"
   ]
  },
  {
   "attachments": {
    "48181f96-dc5b-46e5-b363-8ba24e1b36a4.png": {
     "image/png": "[encoded data removed]"
    }
   },
   "cell_type": "markdown",
   "metadata": {},
   "source": [
    "![image.png](attachment:48181f96-dc5b-46e5-b363-8ba24e1b36a4.png)"
   ]
  },
  {
   "attachments": {
    "53cfabe9-8ac6-4dc7-8dbe-2602a3380b7b.png": {
     "image/png": "[encoded data removed]"
    }
   },
   "cell_type": "markdown",
   "metadata": {},
   "source": [
    "![image.png](attachment:53cfabe9-8ac6-4dc7-8dbe-2602a3380b7b.png)"
   ]
  },
  {
   "cell_type": "markdown",
   "metadata": {},
   "source": [
    "# ==============================="
   ]
  },
  {
   "cell_type": "markdown",
   "metadata": {},
   "source": [
    "### 3.10 Everyone Do: Adding Files from the Command Line (0:10)"
   ]
  },
  {
   "cell_type": "markdown",
   "metadata": {},
   "source": [
    "```bash\n",
    "  # Displays that status of files in the folder\n",
    "  git status\n",
    "\n",
    "  # Adds all the files into a staging area\n",
    "  git add .\n",
    "\n",
    "  # Check that thr files were added correctly\n",
    "  git status\n",
    "\n",
    "  # Commits all the files to your repo and adds a message\n",
    "  git commit -m <add commit message here>\n",
    "\n",
    "  # Pushes the changes up to GitHub\n",
    "  git push origin main\n",
    "  ```\n"
   ]
  },
  {
   "cell_type": "code",
   "execution_count": null,
   "metadata": {},
   "outputs": [],
   "source": []
  },
  {
   "cell_type": "markdown",
   "metadata": {},
   "source": [
    "# ==============================="
   ]
  },
  {
   "cell_type": "markdown",
   "metadata": {},
   "source": [
    "### 3.11 Students Do: Adding more to the repo (0:15)"
   ]
  },
  {
   "cell_type": "markdown",
   "metadata": {},
   "source": [
    "**Instructions**\n",
    "\n",
    "  * Using the repo that just created, make or add the following changes:\n",
    "\n",
    "    * Add new lines of code to one of the python files.\n",
    "    * Create a new folder.\n",
    "    * Add a file to the newly created folder.\n",
    "    * Add, commit and push the changes.\n",
    "    * Delete the new folder.\n",
    "    * Add, commit and push the changes again."
   ]
  },
  {
   "cell_type": "code",
   "execution_count": null,
   "metadata": {},
   "outputs": [],
   "source": []
  },
  {
   "cell_type": "markdown",
   "metadata": {},
   "source": [
    "# ==============================="
   ]
  },
  {
   "cell_type": "markdown",
   "metadata": {},
   "source": [
    "### 3.12 Extra Do: Additional Activities"
   ]
  },
  {
   "cell_type": "markdown",
   "metadata": {},
   "source": [
    "**Main Method Model**\n",
    "* When running a python file as a script, we utilize `if __name__ == \"__main__\":`.\n",
    "* Add more here\n",
    "* Reference this link for more information: [Main Method Model](https://docs.python.org/3/library/__main__.html)\n",
    "---"
   ]
  },
  {
   "cell_type": "markdown",
   "metadata": {},
   "source": [
    "**Set Operations.**"
   ]
  },
  {
   "cell_type": "code",
   "execution_count": 12,
   "metadata": {},
   "outputs": [],
   "source": [
    "hero1 = {\"smart\", \"rich\", \"armored\", \"martial_artist\", \"strong\"}\n",
    "hero2 = {\"smart\", \"fast\", \"strong\", \"invulnerable\", \"antigravity\"}\n",
    "\n",
    "print(type(hero1))\n",
    "print(type(hero2))"
   ]
  },
  {
   "cell_type": "code",
   "execution_count": 13,
   "metadata": {},
   "outputs": [
    {
     "data": {
      "text/plain": [
       "{'antigravity',\n",
       " 'armored',\n",
       " 'fast',\n",
       " 'invulnerable',\n",
       " 'martial_artist',\n",
       " 'rich',\n",
       " 'smart',\n",
       " 'strong'}"
      ]
     },
     "execution_count": 13,
     "metadata": {},
     "output_type": "execute_result"
    }
   ],
   "source": [
    "# Attributes for both heros (union)\n",
    "hero1 | hero2\n",
    "hero1.union(hero2)"
   ]
  },
  {
   "cell_type": "code",
   "execution_count": 14,
   "metadata": {},
   "outputs": [
    {
     "data": {
      "text/plain": [
       "{'smart', 'strong'}"
      ]
     },
     "execution_count": 14,
     "metadata": {},
     "output_type": "execute_result"
    }
   ],
   "source": [
    "# Attributes common to both heros (intersection)\n",
    "hero1 & hero2\n",
    "hero1.intersection(hero2)"
   ]
  },
  {
   "cell_type": "code",
   "execution_count": 15,
   "metadata": {},
   "outputs": [
    {
     "data": {
      "text/plain": [
       "{'armored', 'martial_artist', 'rich'}"
      ]
     },
     "execution_count": 15,
     "metadata": {},
     "output_type": "execute_result"
    }
   ],
   "source": [
    "# Attributes in hero1 that are not in hero2 (difference)\n",
    "hero1 - hero2\n",
    "hero1.difference(hero2)"
   ]
  },
  {
   "cell_type": "code",
   "execution_count": 16,
   "metadata": {},
   "outputs": [
    {
     "data": {
      "text/plain": [
       "{'antigravity', 'fast', 'invulnerable'}"
      ]
     },
     "execution_count": 16,
     "metadata": {},
     "output_type": "execute_result"
    }
   ],
   "source": [
    "# Attributes in hero2 that are not in hero1 (difference)\n",
    "hero2 - hero1\n",
    "hero2.difference(hero1)"
   ]
  },
  {
   "cell_type": "code",
   "execution_count": 17,
   "metadata": {},
   "outputs": [
    {
     "data": {
      "text/plain": [
       "{'antigravity', 'armored', 'fast', 'invulnerable', 'martial_artist', 'rich'}"
      ]
     },
     "execution_count": 17,
     "metadata": {},
     "output_type": "execute_result"
    }
   ],
   "source": [
    "# Attributes for hero1 or hero2 but not both (symmetric difference)\n",
    "hero1 ^ hero2\n",
    "hero1.symmetric_difference(hero2)"
   ]
  },
  {
   "cell_type": "markdown",
   "metadata": {},
   "source": [
    "---\n",
    "# Resume Analysis\n",
    "In this activity, you will generate a Python script to analyze a resume text file.\n",
    "## Instructions\n",
    "* Read the resume file as text using the `with` statement.\n",
    "* Create a list containing all words in the resume.\n",
    "  * Convert each word to lowercase to normalize the data.\n",
    "* Use `split` to remove and trailing punctuation so only words remain.\n",
    "* Create a set of unique words from the resume using `set()`.\n",
    "* Use set operations to filter out all remaining punctuation from the set of words.\n",
    "  * Create a set from `string.punctuation` to use in the difference operation.\n",
    "* Use the cleaned set (no punctuation) to find all of the words from the resume that match the required skills.\n",
    "* Use the cleaned set (no punctuation) to find all of the words that match the desired skills.\n",
    "## Bonuses\n",
    "* Count the number of occurrences for each word in the resume and print the top 10 occuring words in the resume.\n",
    "  * Use a dictionary data structure to hold the counts for each word.\n",
    "  * Make sure to remove punctuation and [stop words](https://en.wikipedia.org/wiki/Stop_words)\n",
    "## Hints\n",
    "* Carefully consider when to use a Dictionary data structure vs. a Set data structure when operating on Unique and Non-unique elements.\n"
   ]
  },
  {
   "cell_type": "code",
   "execution_count": 19,
   "metadata": {},
   "outputs": [
    {
     "data": {
      "text/plain": [
       "'Resume Analysis Module.'"
      ]
     },
     "execution_count": 19,
     "metadata": {},
     "output_type": "execute_result"
    }
   ],
   "source": [
    "# -*- coding: UTF-8 -*-\n",
    "\"\"\"Resume Analysis Module.\"\"\""
   ]
  },
  {
   "cell_type": "code",
   "execution_count": 20,
   "metadata": {},
   "outputs": [],
   "source": [
    "import os\n",
    "import string\n",
    "\n",
    "# Counter is used for the bonus solution\n",
    "from collections import Counter"
   ]
  },
  {
   "cell_type": "code",
   "execution_count": 21,
   "metadata": {},
   "outputs": [],
   "source": [
    "# Paths\n",
    "resume_path = os.path.join(\"..\", \"Extra_Content\", \"ADVANCED_Stu_Resume_Analysis\", \"Unsolved\", \"resume.md\")"
   ]
  },
  {
   "cell_type": "code",
   "execution_count": 22,
   "metadata": {},
   "outputs": [],
   "source": [
    "# Skills to match\n",
    "REQUIRED_SKILLS = {\"excel\", \"python\", \"mysql\", \"statistics\"}\n",
    "DESIRED_SKILLS = {\"r\", \"git\", \"html\", \"css\", \"leaflet\"}"
   ]
  },
  {
   "cell_type": "code",
   "execution_count": 23,
   "metadata": {},
   "outputs": [],
   "source": [
    "def load_file(filepath):\n",
    "    \"\"\"Helper function to read a file and return the data.\"\"\"\n",
    "    with open(filepath, \"r\") as resume_file_handler:\n",
    "        return resume_file_handler.read().lower().split()"
   ]
  },
  {
   "cell_type": "code",
   "execution_count": 24,
   "metadata": {},
   "outputs": [],
   "source": [
    "# Grab the text for a Resume\n",
    "word_list = load_file(resume_path)"
   ]
  },
  {
   "cell_type": "code",
   "execution_count": 25,
   "metadata": {},
   "outputs": [],
   "source": [
    "# Create a set of unique words from the resume\n",
    "resume = set()"
   ]
  },
  {
   "cell_type": "code",
   "execution_count": 26,
   "metadata": {},
   "outputs": [
    {
     "name": "stdout",
     "output_type": "stream",
     "text": [
      "{'sets', 'hadoop', 'bootstrap', 'html', 'microsoft', 'with', 'files', 'tableau', 'scripts', 'frank', 'big', 'basic', 'experience', 'education', 'git/github', '#', 'd3', 'software', 'media', 'n', 'html/css', 'pandas', 'machine', 'api', 'mysql', '*', 'writing', 'and', 'open-source', 'pivot', 'performing', 'forecasting', 'algorithms', 'camp', 'mining', 'sql', 'from', 'cloud', 'skills', 'vba', '##', 'creating', 'leaflet', 'apis', 'visualizations', 'apps', 'advanced', 'developing', 'the', 'modeling', 'analyze', 'css', 'in', 'interactions', 'visualization', 'databases', 'contributing', 'analytics', 'aws', 'mongodb', 'front-end', 'tables', 'r', 'boot', 'working', 'graduate', 'intelligence', 'excel', 'business', 'using', 'web', 'statistics', 'data', 'python', 'stein', 'javascript', 'to', 'social', 'learning', 'interests', 'designing'}\n"
     ]
    }
   ],
   "source": [
    "# Remove trailing punctuation from words\n",
    "for token in word_list:\n",
    "    resume.add(token.split(',')[0].split('.')[0])\n",
    "print(resume)"
   ]
  },
  {
   "cell_type": "code",
   "execution_count": 27,
   "metadata": {},
   "outputs": [
    {
     "name": "stdout",
     "output_type": "stream",
     "text": [
      "{'sets', 'hadoop', 'bootstrap', 'html', 'microsoft', 'with', 'files', 'tableau', 'scripts', 'frank', 'big', 'basic', 'experience', 'education', 'git/github', 'd3', 'software', 'media', 'n', 'html/css', 'pandas', 'machine', 'api', 'mysql', 'writing', 'and', 'open-source', 'pivot', 'performing', 'forecasting', 'algorithms', 'camp', 'mining', 'sql', 'from', 'cloud', 'skills', 'vba', '##', 'creating', 'leaflet', 'apis', 'visualizations', 'apps', 'advanced', 'developing', 'the', 'modeling', 'analyze', 'css', 'in', 'interactions', 'visualization', 'databases', 'contributing', 'analytics', 'aws', 'mongodb', 'front-end', 'tables', 'r', 'boot', 'working', 'graduate', 'intelligence', 'excel', 'business', 'using', 'web', 'statistics', 'data', 'python', 'stein', 'javascript', 'to', 'social', 'learning', 'interests', 'designing'}\n"
     ]
    }
   ],
   "source": [
    "# Remove Punctuation that were read as whole words\n",
    "punctuation = set(string.punctuation)\n",
    "resume = resume - punctuation\n",
    "print(resume)"
   ]
  },
  {
   "cell_type": "code",
   "execution_count": 28,
   "metadata": {},
   "outputs": [
    {
     "name": "stdout",
     "output_type": "stream",
     "text": [
      "{'mysql', 'python', 'statistics', 'excel'}\n"
     ]
    }
   ],
   "source": [
    "# Calculate the Required Skills Match using Set Intersection\n",
    "print(resume & REQUIRED_SKILLS)"
   ]
  },
  {
   "cell_type": "code",
   "execution_count": 29,
   "metadata": {},
   "outputs": [
    {
     "name": "stdout",
     "output_type": "stream",
     "text": [
      "{'html', 'css', 'r', 'leaflet'}\n"
     ]
    }
   ],
   "source": [
    "# Calculate the Desired Skills Match using Set Intersection\n",
    "print(resume & DESIRED_SKILLS)"
   ]
  },
  {
   "cell_type": "code",
   "execution_count": 30,
   "metadata": {},
   "outputs": [],
   "source": [
    "# Bonus: Resume Word Count\n",
    "# ==========================\n",
    "# Initialize a dictionary with default values equal to zero\n",
    "word_count = {}.fromkeys(word_list, 0)"
   ]
  },
  {
   "cell_type": "code",
   "execution_count": 31,
   "metadata": {},
   "outputs": [
    {
     "name": "stdout",
     "output_type": "stream",
     "text": [
      "{'#': 1, 'frank': 1, 'n.': 1, 'stein': 1, '##': 4, 'education': 1, '*': 15, 'data': 7, 'analytics': 3, 'and': 8, 'visualization': 2, 'boot': 1, 'camp': 1, 'graduate': 1, 'experience': 1, 'creating': 1, 'pivot': 1, 'tables': 1, 'vba': 1, 'scripts': 2, 'in': 2, 'excel.': 1, 'modeling': 1, 'forecasting': 1, 'using': 5, 'basic': 1, 'statistics': 1, 'writing': 1, 'python': 3, 'to': 2, 'analyze': 1, 'sets': 1, 'from': 1, 'files': 1, 'apis.': 1, 'social': 2, 'media': 2, 'mining': 1, 'working': 3, 'with': 6, 'mysql': 1, 'mongodb': 1, 'databases': 1, 'developing': 1, 'front-end': 1, 'web': 2, 'visualizations': 1, 'html,': 2, 'css,': 2, 'bootstrap,': 1, 'd3,': 1, 'leaflet.js': 1, 'the': 2, 'tableau': 1, 'business': 1, 'intelligence': 1, 'software': 2, 'performing': 1, 'big': 2, 'hadoop': 1, 'machine': 2, 'learning': 1, 'algorithms': 1, 'skills': 1, 'microsoft': 1, 'excel,': 1, 'python,': 1, 'javascript,': 2, 'html/css,': 1, 'api': 1, 'interactions,': 1, 'mining,': 1, 'sql,': 1, 'hadoop,': 1, 'tableau,': 1, 'advanced': 1, 'statistics,': 1, 'learning,': 1, 'r,': 1, 'git/github': 1, 'interests': 1, 'contributing': 1, 'open-source': 1, 'pandas': 1, 'designing': 1, 'apps': 1, 'd3': 1, 'cloud': 1, 'aws': 1}\n"
     ]
    }
   ],
   "source": [
    "# Loop through the word list and count each word.\n",
    "for word in word_list:\n",
    "    word_count[word] += 1\n",
    "print(word_count)"
   ]
  },
  {
   "cell_type": "code",
   "execution_count": 32,
   "metadata": {},
   "outputs": [
    {
     "name": "stdout",
     "output_type": "stream",
     "text": [
      "Counter({'*': 15, 'and': 8, 'data': 7, 'with': 6, 'using': 5, '##': 4, 'analytics': 3, 'python': 3, 'working': 3, 'visualization': 2, 'scripts': 2, 'in': 2, 'to': 2, 'social': 2, 'media': 2, 'web': 2, 'html,': 2, 'css,': 2, 'the': 2, 'software': 2, 'big': 2, 'machine': 2, 'javascript,': 2, '#': 1, 'frank': 1, 'n.': 1, 'stein': 1, 'education': 1, 'boot': 1, 'camp': 1, 'graduate': 1, 'experience': 1, 'creating': 1, 'pivot': 1, 'tables': 1, 'vba': 1, 'excel.': 1, 'modeling': 1, 'forecasting': 1, 'basic': 1, 'statistics': 1, 'writing': 1, 'analyze': 1, 'sets': 1, 'from': 1, 'files': 1, 'apis.': 1, 'mining': 1, 'mysql': 1, 'mongodb': 1, 'databases': 1, 'developing': 1, 'front-end': 1, 'visualizations': 1, 'bootstrap,': 1, 'd3,': 1, 'leaflet.js': 1, 'tableau': 1, 'business': 1, 'intelligence': 1, 'performing': 1, 'hadoop': 1, 'learning': 1, 'algorithms': 1, 'skills': 1, 'microsoft': 1, 'excel,': 1, 'python,': 1, 'html/css,': 1, 'api': 1, 'interactions,': 1, 'mining,': 1, 'sql,': 1, 'hadoop,': 1, 'tableau,': 1, 'advanced': 1, 'statistics,': 1, 'learning,': 1, 'r,': 1, 'git/github': 1, 'interests': 1, 'contributing': 1, 'open-source': 1, 'pandas': 1, 'designing': 1, 'apps': 1, 'd3': 1, 'cloud': 1, 'aws': 1})\n"
     ]
    }
   ],
   "source": [
    "# Bonus using collections.Counter\n",
    "word_counter = Counter(word_list)\n",
    "print(word_counter)"
   ]
  },
  {
   "cell_type": "code",
   "execution_count": 33,
   "metadata": {},
   "outputs": [
    {
     "name": "stdout",
     "output_type": "stream",
     "text": [
      "True\n"
     ]
    }
   ],
   "source": [
    "# Comparing both word count solutions\n",
    "print(word_count == word_counter)"
   ]
  },
  {
   "cell_type": "code",
   "execution_count": 34,
   "metadata": {},
   "outputs": [
    {
     "name": "stdout",
     "output_type": "stream",
     "text": [
      "Top 10 Words\n",
      "=============\n"
     ]
    }
   ],
   "source": [
    "# Top 10 Words\n",
    "print(\"Top 10 Words\")\n",
    "print(\"=============\")"
   ]
  },
  {
   "cell_type": "code",
   "execution_count": 37,
   "metadata": {},
   "outputs": [],
   "source": [
    "# Clean Punctuation\n",
    "_word_count = [word for word in word_count if word not in string.punctuation]\n"
   ]
  },
  {
   "cell_type": "code",
   "execution_count": 38,
   "metadata": {},
   "outputs": [],
   "source": [
    "# Clean Stop Words\n",
    "stop_words = [\"and\", \"with\", \"using\", \"##\", \"working\", \"in\", \"to\"]\n",
    "_word_count = [word for word in _word_count if word not in stop_words]"
   ]
  },
  {
   "cell_type": "code",
   "execution_count": 39,
   "metadata": {},
   "outputs": [
    {
     "name": "stdout",
     "output_type": "stream",
     "text": [
      "Token: data                 Count: 7\n",
      "Token: analytics            Count: 3\n",
      "Token: python               Count: 3\n",
      "Token: visualization        Count: 2\n",
      "Token: scripts              Count: 2\n",
      "Token: social               Count: 2\n",
      "Token: media                Count: 2\n",
      "Token: web                  Count: 2\n",
      "Token: html,                Count: 2\n",
      "Token: css,                 Count: 2\n"
     ]
    }
   ],
   "source": [
    "# Sort words by count and print the top 10\n",
    "sorted_words = []\n",
    "for word in sorted(_word_count, key=word_count.get, reverse=True)[:10]:\n",
    "    print(f\"Token: {word:20} Count: {word_count[word]}\")"
   ]
  },
  {
   "cell_type": "markdown",
   "metadata": {},
   "source": [
    "---\n",
    "**UUID Generator**\n",
    "# Instructions\n",
    "* In this activity, you will generate a universally unique id (UUID) string using functions and module imports.\n",
    "* See [link](https://stackoverflow.com/questions/292965/what-is-a-uuid) for more info on UUIDs.\n",
    "* Import the [random](https://docs.python.org/3/library/random.html) and [string](https://docs.python.org/3/library/string.html) modules.\n",
    "* Create a function that returns a universally unique id (UUID).\n",
    "  * The function should accept a parameter for uuid length with the default size of 4.\n",
    "  * The function should accept a parameter for a string of characters.\n",
    "    * This string of characters will be the alphabet used to generate the uuid.\n",
    "    * For example, if we pass `'abcdef'`, the uuid can only consist of the letters 'abcdef'.\n",
    "  * The length and characters parameters should be optional and have default values.\n",
    "  * Define a default character alphabet using the constants provided by the [string module](https://docs.python.org/3/library/string.html).\n",
    "  * To select random characters for your uuid, use one of the functions available for sequence selection in the [random module](https://docs.python.org/3/library/random.html) to randomly select a character from the alphabet.\n",
    "* Complete the test function to generate a variety of UUIDs and print them to the console.\n",
    "## Hints\n",
    "* Define a default character alphabet that combines ascii letters with digits.\n",
    "* The random module has a function for making a random choice from an array. See the documentation on [functions for sequences](https://docs.python.org/3/library/random.html#functions-for-sequences).\n",
    "* The code for the uuid function should create a list, append `length` random characters to the list, and then return the result of using `join` to create a string from it.\n"
   ]
  },
  {
   "cell_type": "code",
   "execution_count": 41,
   "metadata": {},
   "outputs": [
    {
     "name": "stdout",
     "output_type": "stream",
     "text": [
      "UUID using default values: lofK\n",
      "UUID of length 16: kZMk9f95OGOXRZhg\n",
      "UUID of only numbers: 3040\n",
      "UUID of only letters: cjhx\n",
      "UUID with punctuation: EX)\"CT)?\n"
     ]
    }
   ],
   "source": [
    "\"\"\"UUID Generator.\n",
    "\n",
    "This module allows us to generate a universally unique identifier (UUID)\n",
    "with a custom length and character set.\n",
    "\n",
    "Example:\n",
    "    $ python uuid.py\n",
    "\n",
    "\"\"\"\n",
    "\n",
    "# Use import to access code from other modules.\n",
    "import string\n",
    "import random\n",
    "\n",
    "\n",
    "# Use default parameters in our function declaration to allow us to change the length and characters\n",
    "def generate_uuid(length=4, characters=string.ascii_letters + string.digits):\n",
    "    \"\"\"Generate a string of random characters.\n",
    "\n",
    "    Args:\n",
    "        length (int, optional): The length of the UUID to generate.\n",
    "        characters (string, optional): The character set used to build the UUID.\n",
    "\n",
    "    Returns:\n",
    "        string: A string representation of the generated UUID.\n",
    "    \"\"\"\n",
    "    # Loop through a range defined by the length size\n",
    "    # In each loop, make a random choice from our characters and append that to the uuid list\n",
    "    uuid = []\n",
    "    for _ in range(length):\n",
    "        uuid.append(random.choice(characters))\n",
    "    # Use join to convert the uuid list to a string\n",
    "    return ''.join(uuid)\n",
    "\n",
    "\n",
    "def test():\n",
    "    \"\"\"Run test code.\"\"\"\n",
    "\n",
    "    # Generate a uuid using default values\n",
    "    uuid = generate_uuid()\n",
    "    print(\"UUID using default values: {}\".format(uuid))\n",
    "\n",
    "    # Generate a uuid of length 16 using the default character set\n",
    "    uuid16 = generate_uuid(length=16)\n",
    "    print(\"UUID of length 16: {}\".format(uuid16))\n",
    "\n",
    "    # Generate a uuid of random numbers using the default length\n",
    "    uuid_random_numbers = generate_uuid(characters=string.digits)\n",
    "    print(\"UUID of only numbers: {}\".format(uuid_random_numbers))\n",
    "\n",
    "    # Generate a uuid consisting of only letters\n",
    "    uuid_random_letters = generate_uuid(characters=string.ascii_letters)\n",
    "    print(\"UUID of only letters: {}\".format(uuid_random_letters))\n",
    "\n",
    "    # Generate a uuid of length 8 that includes punctuation in the character set\n",
    "    uuid_with_punctuation = generate_uuid(\n",
    "        length=8,\n",
    "        characters=string.ascii_letters + string.digits + string.punctuation)\n",
    "    print(\"UUID with punctuation: {}\".format(uuid_with_punctuation))\n",
    "\n",
    "\n",
    "# This conditional will execute the test function when running as a script.\n",
    "# https://docs.python.org/3/library/__main__.html\n",
    "if __name__ == '__main__':\n",
    "    test()\n"
   ]
  },
  {
   "cell_type": "markdown",
   "metadata": {},
   "source": [
    "# ==============================="
   ]
  },
  {
   "cell_type": "markdown",
   "metadata": {},
   "source": [
    "### Rating Class Objectives\n",
    "\n",
    "* rate your understanding using 1-5 method in each objective"
   ]
  },
  {
   "cell_type": "code",
   "execution_count": null,
   "metadata": {},
   "outputs": [],
   "source": [
    "title = \"03-Python - Day 3 - Python Deeper Dive\"\n",
    "objectives = [\n",
    "    \"add, commit, and push code up to GitHub from the command line\",\n",
    "    \"Create and use Python dictionaries\",\n",
    "    \"read data in from a dictionary\",\n",
    "    \"Use list comprehensions\",\n",
    "    \"Write and re use Python function\",\n",
    "    \"Have a firm understanding of coding logic and reasoning\",\n",
    "]\n",
    "rating = []\n",
    "total = 0\n",
    "for i in range(len(objectives)):\n",
    "    rate = input(objectives[i]+\"? \")\n",
    "    total += int(rate)\n",
    "    rating.append(objectives[i] + \". (\" + rate + \"/5)\")\n",
    "print(\"=\"*96)\n",
    "print(f\"Self Evaluation for: {title}\")\n",
    "print(\"-\"*24)\n",
    "for i in rating:\n",
    "    print(i)\n",
    "print(\"-\"*64)\n",
    "print(\"Average: \" + str(total/len(objectives)))"
   ]
  }
 ],
 "metadata": {
  "kernelspec": {
   "display_name": "Python 3 (ipykernel)",
   "language": "python",
   "name": "python3"
  },
  "language_info": {
   "codemirror_mode": {
    "name": "ipython",
    "version": 3
   },
   "file_extension": ".py",
   "mimetype": "text/x-python",
   "name": "python",
   "nbconvert_exporter": "python",
   "pygments_lexer": "ipython3",
   "version": "3.9.13"
  }
 },
 "nbformat": 4,
 "nbformat_minor": 4
}
