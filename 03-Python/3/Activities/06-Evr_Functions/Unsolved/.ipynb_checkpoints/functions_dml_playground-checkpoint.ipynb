{
 "cells": [
  {
   "cell_type": "code",
   "execution_count": 3,
   "id": "5a95f077",
   "metadata": {},
   "outputs": [
    {
     "data": {
      "text/plain": [
       "'My name is David'"
      ]
     },
     "execution_count": 3,
     "metadata": {},
     "output_type": "execute_result"
    }
   ],
   "source": [
    "# basic definition\n",
    "def my_name(parameters):\n",
    "    \n",
    "    # code goes here\n",
    "    msg = \"My name is \" + parameters\n",
    "    \n",
    "    return msg\n",
    "\n",
    "msg = my_name(\"David\")\n",
    "\n",
    "msg"
   ]
  },
  {
   "cell_type": "code",
   "execution_count": 4,
   "id": "cbb66517",
   "metadata": {},
   "outputs": [
    {
     "name": "stdout",
     "output_type": "stream",
     "text": [
      "Hi!\n"
     ]
    }
   ],
   "source": [
    "# simple function with no parameters\n",
    "def show():\n",
    "    \n",
    "    print(f\"Hi!\")\n",
    "\n",
    "# use parentheses to run the code in a function\n",
    "show()"
   ]
  },
  {
   "cell_type": "code",
   "execution_count": 5,
   "id": "0b065e00",
   "metadata": {},
   "outputs": [
    {
     "name": "stdout",
     "output_type": "stream",
     "text": [
      "Hello, World!\n"
     ]
    }
   ],
   "source": [
    "# simple function with one parameter\n",
    "def show(message):\n",
    "    \n",
    "    print(message)\n",
    "\n",
    "\n",
    "# think of the parameter `message` as a variable\n",
    "# assign the string \"Hello, World!\" when calling the function\n",
    "# this is like saying `message = \"Hello, World!\"`\n",
    "\n",
    "show(\"Hello, World!\")"
   ]
  },
  {
   "cell_type": "code",
   "execution_count": 6,
   "id": "d930697a",
   "metadata": {},
   "outputs": [
    {
     "name": "stdout",
     "output_type": "stream",
     "text": [
      "Here is a beef quesadilla with guacamole\n",
      "Here is a chicken quesadilla with salsa\n",
      "Here is a sour cream quesadilla with beef\n"
     ]
    }
   ],
   "source": [
    "# functions can have multiple parameters\n",
    "def make_quesadilla(protein, topping):\n",
    "    \n",
    "    quesadilla = f\"Here is a {protein} quesadilla with {topping}\"\n",
    "    \n",
    "    print(quesadilla)\n",
    "\n",
    "\n",
    "# supply the arguments (values) when calling the function\n",
    "make_quesadilla(\"beef\", \"guacamole\")\n",
    "make_quesadilla(\"chicken\", \"salsa\")\n",
    "\n",
    "# @NOTE: Order is important when supplying arguments!\n",
    "make_quesadilla(\"sour cream\", \"beef\")"
   ]
  },
  {
   "cell_type": "code",
   "execution_count": 7,
   "id": "6f1cb726",
   "metadata": {},
   "outputs": [
    {
     "name": "stdout",
     "output_type": "stream",
     "text": [
      "Here is a chicken quesadilla with sour cream\n",
      "Here is a chicken quesadilla with guacamole\n",
      "Here is a beef quesadilla with guacamole\n"
     ]
    }
   ],
   "source": [
    "# we can also specify default values for parameters\n",
    "def make_quesadilla(protein, topping=\"sour cream\"):\n",
    "    \n",
    "    quesadilla = f\"Here is a {protein} quesadilla with {topping}\"\n",
    "    \n",
    "    print(quesadilla)\n",
    "\n",
    "\n",
    "# make a quesadilla using the default topping\n",
    "make_quesadilla(\"chicken\")\n",
    "make_quesadilla(\"chicken\", \"guacamole\")\n",
    "\n",
    "# make a quesadilla with a new topping\n",
    "make_quesadilla(\"beef\", \"guacamole\")"
   ]
  },
  {
   "cell_type": "code",
   "execution_count": 8,
   "id": "1cc6772f",
   "metadata": {},
   "outputs": [
    {
     "name": "stdout",
     "output_type": "stream",
     "text": [
      "15129\n"
     ]
    }
   ],
   "source": [
    "# functions can return a value\n",
    "def square(number):\n",
    "    \n",
    "    return number * number\n",
    "\n",
    "\n",
    "# You can save the value that is returned\n",
    "squared = square(123)\n",
    "print(squared)"
   ]
  },
  {
   "cell_type": "code",
   "execution_count": 9,
   "id": "8d135748",
   "metadata": {},
   "outputs": [
    {
     "name": "stdout",
     "output_type": "stream",
     "text": [
      "4\n",
      "9\n"
     ]
    }
   ],
   "source": [
    "# You can also just print the return value of a function\n",
    "print(square(2))\n",
    "print(square(3))"
   ]
  }
 ],
 "metadata": {
  "kernelspec": {
   "display_name": "Python 3 (ipykernel)",
   "language": "python",
   "name": "python3"
  },
  "language_info": {
   "codemirror_mode": {
    "name": "ipython",
    "version": 3
   },
   "file_extension": ".py",
   "mimetype": "text/x-python",
   "name": "python",
   "nbconvert_exporter": "python",
   "pygments_lexer": "ipython3",
   "version": "3.9.12"
  }
 },
 "nbformat": 4,
 "nbformat_minor": 5
}
