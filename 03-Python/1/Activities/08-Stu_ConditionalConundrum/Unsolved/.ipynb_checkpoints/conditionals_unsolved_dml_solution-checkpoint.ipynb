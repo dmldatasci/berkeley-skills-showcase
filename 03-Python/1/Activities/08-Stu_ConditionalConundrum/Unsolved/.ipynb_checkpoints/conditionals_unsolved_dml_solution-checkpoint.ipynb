{
 "cells": [
  {
   "cell_type": "markdown",
   "id": "a7c36228",
   "metadata": {},
   "source": [
    "# \\#1\n",
    "\n",
    "```python\n",
    "x = 5\n",
    "y = 10\n",
    "\n",
    "if 2 * x > 10:\n",
    "    print(\"Question 1 works!\")\n",
    "else:\n",
    "    print(\"oooo needs some work\")\n",
    "```\n",
    "\n",
    "__Output prediction:__ _\"ooo needs some work\"_"
   ]
  },
  {
   "cell_type": "code",
   "execution_count": 6,
   "id": "37e750a9",
   "metadata": {},
   "outputs": [
    {
     "name": "stdout",
     "output_type": "stream",
     "text": [
      "oooo needs some work\n"
     ]
    }
   ],
   "source": [
    "# 1\n",
    "x = 5\n",
    "y = 10\n",
    "\n",
    "if 2 * x > 10:\n",
    "    print(\"Question 1 works!\")\n",
    "else:\n",
    "    print(\"oooo needs some work\")"
   ]
  },
  {
   "cell_type": "markdown",
   "id": "0f1aa960",
   "metadata": {},
   "source": [
    "# \\#2\n",
    "\n",
    "```python\n",
    "x = 5\n",
    "y = 10\n",
    "\n",
    "if len(\"Dog\") < x:\n",
    "    print(\"Question 2 works!\")\n",
    "else:\n",
    "    print(\"Still missing out\")\n",
    "```\n",
    "\n",
    "__Output prediction:__ _\"Question 2 works!\"_"
   ]
  },
  {
   "cell_type": "code",
   "execution_count": 7,
   "id": "5112e6d9",
   "metadata": {},
   "outputs": [
    {
     "name": "stdout",
     "output_type": "stream",
     "text": [
      "Question 2 works!\n"
     ]
    }
   ],
   "source": [
    "# 2\n",
    "x = 5\n",
    "y = 10\n",
    "\n",
    "if len(\"Dog\") < x:\n",
    "    print(\"Question 2 works!\")\n",
    "else:\n",
    "    print(\"Still missing out\")"
   ]
  },
  {
   "cell_type": "markdown",
   "id": "617c08cc",
   "metadata": {},
   "source": [
    "# \\#3\n",
    "\n",
    "```python\n",
    "x = 2\n",
    "y = 5\n",
    "\n",
    "if (x ** 3 >= y) and (y ** 2 < 26):\n",
    "    print(\"GOT QUESTION 3!\")\n",
    "else:\n",
    "    print(\"Oh good you can count\")\n",
    "```\n",
    "\n",
    "__Output prediction:__ _\"GOT QUESTION 3!\"_"
   ]
  },
  {
   "cell_type": "code",
   "execution_count": 8,
   "id": "bb6a3e0f",
   "metadata": {},
   "outputs": [
    {
     "name": "stdout",
     "output_type": "stream",
     "text": [
      "GOT QUESTION 3!\n"
     ]
    }
   ],
   "source": [
    "# 3\n",
    "x = 2\n",
    "y = 5\n",
    "\n",
    "if (x ** 3 >= y) and (y ** 2 < 26):\n",
    "    print(\"GOT QUESTION 3!\")\n",
    "else:\n",
    "    print(\"Oh good you can count\")"
   ]
  },
  {
   "cell_type": "markdown",
   "id": "2e76c677",
   "metadata": {},
   "source": [
    "# \\#4\n",
    "\n",
    "```python\n",
    "name = \"Dan\"\n",
    "group_one = [\"Greg\", \"Tony\", \"Susan\"]\n",
    "group_two = [\"Gerald\", \"Paul\", \"Ryder\"]\n",
    "group_three = [\"Carla\", \"Dan\", \"Jefferson\"]\n",
    "\n",
    "if name in group_one:\n",
    "    print(name + \" is in the first group\")\n",
    "elif name in group_two:\n",
    "    print(name + \" is in group two\")\n",
    "elif name in group_three:\n",
    "    print(name + \" is in group three\")\n",
    "else:\n",
    "    print(name + \" does not have a group\")\n",
    "```\n",
    "\n",
    "__Output prediction:__ _\"Dan is in group three\"_"
   ]
  },
  {
   "cell_type": "code",
   "execution_count": 9,
   "id": "f8a332ac",
   "metadata": {},
   "outputs": [
    {
     "name": "stdout",
     "output_type": "stream",
     "text": [
      "Dan is in group three\n"
     ]
    }
   ],
   "source": [
    "# 4\n",
    "name = \"Dan\"\n",
    "group_one = [\"Greg\", \"Tony\", \"Susan\"]\n",
    "group_two = [\"Gerald\", \"Paul\", \"Ryder\"]\n",
    "group_three = [\"Carla\", \"Dan\", \"Jefferson\"]\n",
    "\n",
    "if name in group_one:\n",
    "    print(name + \" is in the first group\")\n",
    "elif name in group_two:\n",
    "    print(name + \" is in group two\")\n",
    "elif name in group_three:\n",
    "    print(name + \" is in group three\")\n",
    "else:\n",
    "    print(name + \" does not have a group\")"
   ]
  },
  {
   "cell_type": "markdown",
   "id": "82f5ee40",
   "metadata": {},
   "source": [
    "# \\#5\n",
    "\n",
    "```python\n",
    "height = 66\n",
    "age = 16\n",
    "adult_permission = True\n",
    "\n",
    "if (height > 70) and (age >= 18):\n",
    "    print(\"Can ride all the roller coasters\")\n",
    "elif (height > 65) and (age >= 18):\n",
    "    print(\"Can ride moderate roller coasters\")\n",
    "elif (height > 60) and (age >= 18):\n",
    "    print(\"Can ride light roller coasters\")\n",
    "elif ((height > 50) and (age >= 18)) or ((adult_permission) and (height > 50)):\n",
    "    print(\"Can ride bumper cars\")\n",
    "else:\n",
    "    print(\"Stick to lazy river\")\n",
    "```\n",
    "\n",
    "__Output prediction:__ _\"Can ride bumper cars\"_"
   ]
  },
  {
   "cell_type": "code",
   "execution_count": 11,
   "id": "36e1a83b",
   "metadata": {},
   "outputs": [
    {
     "name": "stdout",
     "output_type": "stream",
     "text": [
      "Can ride bumper cars\n"
     ]
    }
   ],
   "source": [
    "# 5\n",
    "height = 66\n",
    "age = 16\n",
    "adult_permission = True\n",
    "\n",
    "if (height > 70) and (age >= 18):\n",
    "    print(\"Can ride all the roller coasters\")\n",
    "elif (height > 65) and (age >= 18):\n",
    "    print(\"Can ride moderate roller coasters\")\n",
    "elif (height > 60) and (age >= 18):\n",
    "    print(\"Can ride light roller coasters\")\n",
    "elif ((height > 50) and (age >= 18)) or ((adult_permission) and (height > 50)):\n",
    "    print(\"Can ride bumper cars\")\n",
    "else:\n",
    "    print(\"Stick to lazy river\")"
   ]
  }
 ],
 "metadata": {
  "kernelspec": {
   "display_name": "Python 3 (ipykernel)",
   "language": "python",
   "name": "python3"
  },
  "language_info": {
   "codemirror_mode": {
    "name": "ipython",
    "version": 3
   },
   "file_extension": ".py",
   "mimetype": "text/x-python",
   "name": "python",
   "nbconvert_exporter": "python",
   "pygments_lexer": "ipython3",
   "version": "3.9.12"
  }
 },
 "nbformat": 4,
 "nbformat_minor": 5
}
