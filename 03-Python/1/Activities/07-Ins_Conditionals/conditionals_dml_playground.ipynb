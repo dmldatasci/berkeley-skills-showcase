{
 "cells": [
  {
   "cell_type": "code",
   "execution_count": 1,
   "id": "c3d4ccaf",
   "metadata": {},
   "outputs": [],
   "source": [
    "# initiate two int variables\n",
    "x = 1\n",
    "y = 10"
   ]
  },
  {
   "cell_type": "code",
   "execution_count": 2,
   "id": "133b9ffd",
   "metadata": {},
   "outputs": [
    {
     "name": "stdout",
     "output_type": "stream",
     "text": [
      "x is equal to 1\n"
     ]
    }
   ],
   "source": [
    "# Checks if one value is equal to another\n",
    "if x == 1:\n",
    "    print(\"x is equal to 1\")"
   ]
  },
  {
   "cell_type": "code",
   "execution_count": 3,
   "id": "68539cba",
   "metadata": {},
   "outputs": [
    {
     "name": "stdout",
     "output_type": "stream",
     "text": [
      "y is not equal to 1\n"
     ]
    }
   ],
   "source": [
    "# Checks if one value is NOT equal to another\n",
    "if y != 1:\n",
    "    print(\"y is not equal to 1\")"
   ]
  },
  {
   "cell_type": "code",
   "execution_count": 4,
   "id": "ae2f38ef",
   "metadata": {},
   "outputs": [
    {
     "name": "stdout",
     "output_type": "stream",
     "text": [
      "x is less than y\n"
     ]
    }
   ],
   "source": [
    "# Checks if one value is less than another\n",
    "if x < y:\n",
    "    print(\"x is less than y\")"
   ]
  },
  {
   "cell_type": "code",
   "execution_count": 5,
   "id": "42ba1b3c",
   "metadata": {},
   "outputs": [
    {
     "name": "stdout",
     "output_type": "stream",
     "text": [
      "y is greater than x\n"
     ]
    }
   ],
   "source": [
    "# Checks if one value is greater than another\n",
    "if y > x:\n",
    "    print(\"y is greater than x\")"
   ]
  },
  {
   "cell_type": "code",
   "execution_count": 6,
   "id": "c799691a",
   "metadata": {},
   "outputs": [
    {
     "name": "stdout",
     "output_type": "stream",
     "text": [
      "x is greater than or equal to 1\n"
     ]
    }
   ],
   "source": [
    "# Checks if a value is greater than or equal to another\n",
    "if x >= 1:\n",
    "    print(\"x is greater than or equal to 1\")"
   ]
  },
  {
   "cell_type": "code",
   "execution_count": 7,
   "id": "d69493a4",
   "metadata": {},
   "outputs": [
    {
     "name": "stdout",
     "output_type": "stream",
     "text": [
      "Both values returned true\n"
     ]
    }
   ],
   "source": [
    "# Checks for two conditions to be met using \"and\"\n",
    "if x == 1 and y == 10:\n",
    "    print(\"Both values returned true\")"
   ]
  },
  {
   "cell_type": "code",
   "execution_count": 8,
   "id": "705f1f18",
   "metadata": {},
   "outputs": [
    {
     "name": "stdout",
     "output_type": "stream",
     "text": [
      "One or more of the statements were true\n"
     ]
    }
   ],
   "source": [
    "# Checks if either of two conditions is met\n",
    "if x < 45 or y < 5:\n",
    "    print(\"One or more of the statements were true\")"
   ]
  },
  {
   "cell_type": "code",
   "execution_count": 9,
   "id": "2c105636",
   "metadata": {},
   "outputs": [
    {
     "name": "stdout",
     "output_type": "stream",
     "text": [
      "x is less than 10 and y is greater than 5\n"
     ]
    }
   ],
   "source": [
    "# Nested if statements\n",
    "if x < 10:\n",
    "    if y < 5:\n",
    "        print(\"x is less than 10 and y is less than 5\")\n",
    "    elif y == 5:\n",
    "        print(\"x is less than 10 and y is equal to 5\")\n",
    "    else:\n",
    "        print(\"x is less than 10 and y is greater than 5\")"
   ]
  }
 ],
 "metadata": {
  "kernelspec": {
   "display_name": "Python 3 (ipykernel)",
   "language": "python",
   "name": "python3"
  },
  "language_info": {
   "codemirror_mode": {
    "name": "ipython",
    "version": 3
   },
   "file_extension": ".py",
   "mimetype": "text/x-python",
   "name": "python",
   "nbconvert_exporter": "python",
   "pygments_lexer": "ipython3",
   "version": "3.9.12"
  }
 },
 "nbformat": 4,
 "nbformat_minor": 5
}
