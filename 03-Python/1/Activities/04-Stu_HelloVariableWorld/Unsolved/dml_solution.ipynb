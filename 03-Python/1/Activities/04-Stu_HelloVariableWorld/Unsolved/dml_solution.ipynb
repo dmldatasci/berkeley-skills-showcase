{
 "cells": [
  {
   "cell_type": "code",
   "execution_count": 8,
   "id": "c0a49098",
   "metadata": {},
   "outputs": [],
   "source": [
    "# instantiate string variables\n",
    "name = \"Kat Barahona\"\n",
    "country = \"Honduras\"\n",
    "\n",
    "# instantiate integer variables\n",
    "age = 28\n",
    "hourly_wage = 7000\n",
    "\n",
    "# instantiate boolean variables\n",
    "satisfied = False\n",
    "\n",
    "# perform calulations\n",
    "daily_wage = hourly_wage * 8"
   ]
  },
  {
   "cell_type": "code",
   "execution_count": 9,
   "id": "ebaecc13",
   "metadata": {},
   "outputs": [
    {
     "name": "stdout",
     "output_type": "stream",
     "text": [
      "Kat Barahona is from Honduras. She is 28 years old and earns $7000 per hour.\n"
     ]
    }
   ],
   "source": [
    "# traditional string concatenation\n",
    "print(name + \" is from \" + country + \". She is \" + str(age) + \n",
    "      \" years old and earns $\" + str(hourly_wage) + \" per hour.\")"
   ]
  },
  {
   "cell_type": "code",
   "execution_count": 10,
   "id": "1764fe50",
   "metadata": {},
   "outputs": [
    {
     "name": "stdout",
     "output_type": "stream",
     "text": [
      "Daily Wage: $56000\n",
      "Satisfied: False\n"
     ]
    }
   ],
   "source": [
    "print(f\"Daily Wage: ${daily_wage}\\nSatisfied: {satisfied}\")"
   ]
  }
 ],
 "metadata": {
  "kernelspec": {
   "display_name": "Python 3 (ipykernel)",
   "language": "python",
   "name": "python3"
  },
  "language_info": {
   "codemirror_mode": {
    "name": "ipython",
    "version": 3
   },
   "file_extension": ".py",
   "mimetype": "text/x-python",
   "name": "python",
   "nbconvert_exporter": "python",
   "pygments_lexer": "ipython3",
   "version": "3.9.12"
  }
 },
 "nbformat": 4,
 "nbformat_minor": 5
}
