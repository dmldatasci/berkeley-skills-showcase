{
 "cells": [
  {
   "cell_type": "code",
   "execution_count": 2,
   "id": "100b42a8",
   "metadata": {},
   "outputs": [],
   "source": [
    "# call necessary libraries\n",
    "import random\n",
    "\n",
    "# instantiate the possible computer selections\n",
    "rps = ('r', 'p', 's')\n",
    "\n",
    "# provide a dictionary for cleaner UI output\n",
    "rps_dict = {'r' : \"Rock\",\n",
    "           'p' : \"Paper\",\n",
    "           's' : \"Scissors\"}\n",
    "\n",
    "# take user input and verify move validity \n",
    "def ObtainUserInput():\n",
    "    \n",
    "    # instantiate a blank user move\n",
    "    u_move = ''\n",
    "    \n",
    "    # use a while loop to verify user input\n",
    "    while u_move not in rps:\n",
    "        u_move = input(\"Rock (r), Paper (p) or Scissors (s)?\")\n",
    "        \n",
    "    return u_move\n",
    "    \n",
    "    \n",
    "def PlayGame():\n",
    "    \n",
    "    # select a random move from the rps tuple using the random library\n",
    "    c_move = random.choice(rps)\n",
    "    \n",
    "    # call our custom user input function\n",
    "    u_move = ObtainUserInput()\n",
    "    \n",
    "    # initiate computer feedback by letting the user know who made what move\n",
    "    print(f\"I chose {rps_dict[c_move]} and you chose {rps_dict[u_move]}...\\n\")\n",
    "    \n",
    "    # begin with the draw case\n",
    "    if c_move == u_move:\n",
    "        print(\"Draw! Let's play again\")\n",
    "        PlayGame()\n",
    "    \n",
    "    # if not a draw, consider possible outcomes when computer chose rock\n",
    "    elif c_move == 'r':\n",
    "        if u_move == 'p':\n",
    "            print(\"So I guess you beat me... Dammit!\")\n",
    "        else:\n",
    "            print(\"Which means I win! Haha! Let's play again.\")\n",
    "            PlayGame()\n",
    "            \n",
    "    # if not a draw, consider possible outcomes when computer chose paper\n",
    "    elif c_move == 'p':\n",
    "        if u_move == 's':\n",
    "            print(\"So I guess you beat me... Dammit!\")\n",
    "        else:\n",
    "            print(\"Which means I win! Haha! Let's play again.\")\n",
    "            PlayGame()\n",
    "    \n",
    "    # if not a draw, consider possible outcomes when computer chose scissors\n",
    "    else:\n",
    "        if u_move == 'r':\n",
    "            print(\"So I guess you beat me... Dammit!\")\n",
    "        else:\n",
    "            print(\"Which means I win! Haha! Let's play again.\")\n",
    "            PlayGame()"
   ]
  },
  {
   "cell_type": "code",
   "execution_count": 4,
   "id": "da6b4f71",
   "metadata": {},
   "outputs": [
    {
     "name": "stdout",
     "output_type": "stream",
     "text": [
      "Rock (r), Paper (p) or Scissors (s)?p\n",
      "I chose Rock and you chose Paper...\n",
      "\n",
      "So I guess you beat me... Dammit!\n"
     ]
    }
   ],
   "source": [
    "# start the game by calling our custom function!\n",
    "PlayGame()"
   ]
  },
  {
   "cell_type": "code",
   "execution_count": null,
   "id": "38fb3814",
   "metadata": {},
   "outputs": [],
   "source": []
  }
 ],
 "metadata": {
  "kernelspec": {
   "display_name": "Python 3 (ipykernel)",
   "language": "python",
   "name": "python3"
  },
  "language_info": {
   "codemirror_mode": {
    "name": "ipython",
    "version": 3
   },
   "file_extension": ".py",
   "mimetype": "text/x-python",
   "name": "python",
   "nbconvert_exporter": "python",
   "pygments_lexer": "ipython3",
   "version": "3.9.12"
  }
 },
 "nbformat": 4,
 "nbformat_minor": 5
}
