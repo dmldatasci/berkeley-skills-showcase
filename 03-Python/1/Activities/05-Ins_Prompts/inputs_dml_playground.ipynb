{
 "cells": [
  {
   "cell_type": "code",
   "execution_count": 7,
   "id": "2f6ea5fd",
   "metadata": {},
   "outputs": [
    {
     "name": "stdout",
     "output_type": "stream",
     "text": [
      "What is your name? David Levy\n"
     ]
    }
   ],
   "source": [
    "# Collects the user's input for the prompt \"What is your name?\"\n",
    "name = input(\"What is your name? \")"
   ]
  },
  {
   "cell_type": "code",
   "execution_count": 8,
   "id": "c4b9704c",
   "metadata": {},
   "outputs": [
    {
     "name": "stdout",
     "output_type": "stream",
     "text": [
      "How old are you? 3\n"
     ]
    }
   ],
   "source": [
    "# Collects the user's input for the prompt \"How old are you?\" and converts the string to an integer.\n",
    "age = int(input(\"How old are you? \"))"
   ]
  },
  {
   "cell_type": "code",
   "execution_count": 9,
   "id": "b4822aed",
   "metadata": {},
   "outputs": [
    {
     "name": "stdout",
     "output_type": "stream",
     "text": [
      "Is the input truthy? \n"
     ]
    }
   ],
   "source": [
    "# Collects the user's input for the prompt \"Is input truthy?\" and converts it to a boolean. Note that non-zero,\n",
    "#   non-empty objects are truth-y.\n",
    "trueOrFalse = bool(input(\"Is the input truthy? \"))"
   ]
  },
  {
   "cell_type": "code",
   "execution_count": 10,
   "id": "b0792034",
   "metadata": {},
   "outputs": [
    {
     "name": "stdout",
     "output_type": "stream",
     "text": [
      "My name is David Levy\n",
      "I will be 4 next year.\n",
      "The input was converted to False\n"
     ]
    }
   ],
   "source": [
    "# Creates three print statements that to respond with the output.\n",
    "print(\"My name is \" + str(name))\n",
    "print(\"I will be \" + str(age + 1) + \" next year.\")\n",
    "print(\"The input was converted to \" + str(trueOrFalse))"
   ]
  }
 ],
 "metadata": {
  "kernelspec": {
   "display_name": "Python 3 (ipykernel)",
   "language": "python",
   "name": "python3"
  },
  "language_info": {
   "codemirror_mode": {
    "name": "ipython",
    "version": 3
   },
   "file_extension": ".py",
   "mimetype": "text/x-python",
   "name": "python",
   "nbconvert_exporter": "python",
   "pygments_lexer": "ipython3",
   "version": "3.9.12"
  }
 },
 "nbformat": 4,
 "nbformat_minor": 5
}
