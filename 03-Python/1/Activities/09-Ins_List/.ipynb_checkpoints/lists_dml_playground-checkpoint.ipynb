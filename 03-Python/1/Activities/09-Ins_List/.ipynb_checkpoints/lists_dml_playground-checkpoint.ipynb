{
 "cells": [
  {
   "cell_type": "code",
   "execution_count": null,
   "id": "0c95b0dd",
   "metadata": {},
   "outputs": [],
   "source": [
    "# Create a variable and set it as an List\n",
    "myList = [\"Jacob\", 25, \"Ahmed\", 80]\n",
    "print(myList)\n",
    "\n",
    "# Adds an element onto the end of a List\n",
    "myList.append(\"Matt\")\n",
    "print(myList)\n",
    "\n",
    "# Returns the index of the first object with a matching value\n",
    "print(myList.index(\"Matt\"))\n",
    "\n",
    "# Changes a specified element within an List at the given index\n",
    "myList[3] = 85\n",
    "print(myList)\n",
    "\n",
    "# Returns the length of the List\n",
    "print(len(myList))\n",
    "\n",
    "# Removes a specified object from an List\n",
    "myList.remove(\"Matt\")\n",
    "print(myList)\n",
    "\n",
    "# Removes the object at the index specified\n",
    "myList.pop(0)\n",
    "myList.pop(0)\n",
    "print(myList)\n",
    "\n",
    "# Creates a tuple, a sequence of immutable Python objects that cannot be changed\n",
    "myTuple = ('Python', 100, 'VBA', False)\n",
    "print(myTuple)\n"
   ]
  }
 ],
 "metadata": {
  "kernelspec": {
   "display_name": "Python 3 (ipykernel)",
   "language": "python",
   "name": "python3"
  },
  "language_info": {
   "codemirror_mode": {
    "name": "ipython",
    "version": 3
   },
   "file_extension": ".py",
   "mimetype": "text/x-python",
   "name": "python",
   "nbconvert_exporter": "python",
   "pygments_lexer": "ipython3",
   "version": "3.9.12"
  }
 },
 "nbformat": 4,
 "nbformat_minor": 5
}
