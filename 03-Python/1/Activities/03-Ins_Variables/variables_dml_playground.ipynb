{
 "cells": [
  {
   "cell_type": "code",
   "execution_count": 2,
   "id": "587ceb0f",
   "metadata": {},
   "outputs": [],
   "source": [
    "# Creates a variable with a string \"Frankfurter\"\n",
    "title = \"Frankfurter\"\n",
    "\n",
    "# Creates a variable with an integer 80\n",
    "years = 80\n",
    "\n",
    "# Creates a variable with the boolean value of True\n",
    "expert_status = True"
   ]
  },
  {
   "cell_type": "code",
   "execution_count": 3,
   "id": "4d0bf3e5",
   "metadata": {},
   "outputs": [
    {
     "name": "stdout",
     "output_type": "stream",
     "text": [
      "Nick is a professional Frankfurter\n"
     ]
    }
   ],
   "source": [
    "# Prints a statement adding the variable\n",
    "print(\"Nick is a professional \" + title)"
   ]
  },
  {
   "cell_type": "code",
   "execution_count": 5,
   "id": "bf73147b",
   "metadata": {},
   "outputs": [
    {
     "ename": "TypeError",
     "evalue": "can only concatenate str (not \"int\") to str",
     "output_type": "error",
     "traceback": [
      "\u001b[0;31m---------------------------------------------------------------------------\u001b[0m",
      "\u001b[0;31mTypeError\u001b[0m                                 Traceback (most recent call last)",
      "Input \u001b[0;32mIn [5]\u001b[0m, in \u001b[0;36m<cell line: 2>\u001b[0;34m()\u001b[0m\n\u001b[1;32m      1\u001b[0m \u001b[38;5;66;03m# Convert the integer years into a string and prints\u001b[39;00m\n\u001b[0;32m----> 2\u001b[0m \u001b[38;5;28mprint\u001b[39m(\u001b[38;5;124;43m\"\u001b[39;49m\u001b[38;5;124;43mHe has been coding for \u001b[39;49m\u001b[38;5;124;43m\"\u001b[39;49m\u001b[43m \u001b[49m\u001b[38;5;241;43m+\u001b[39;49m\u001b[43m \u001b[49m\u001b[43myears\u001b[49m \u001b[38;5;241m+\u001b[39m \u001b[38;5;124m\"\u001b[39m\u001b[38;5;124m years\u001b[39m\u001b[38;5;124m\"\u001b[39m)\n",
      "\u001b[0;31mTypeError\u001b[0m: can only concatenate str (not \"int\") to str"
     ]
    }
   ],
   "source": [
    "# Will produce an error because concatenation only works with strings\n",
    "print(\"He has been coding for \" + years + \" years\")"
   ]
  },
  {
   "cell_type": "code",
   "execution_count": 6,
   "id": "4e99cd85",
   "metadata": {},
   "outputs": [
    {
     "name": "stdout",
     "output_type": "stream",
     "text": [
      "He has been coding for 80 years\n"
     ]
    }
   ],
   "source": [
    "# Convert the integer years into a string and the print command will be executed\n",
    "print(\"He has been coding for \" + str(years) + \" years\")"
   ]
  },
  {
   "cell_type": "code",
   "execution_count": 8,
   "id": "ff9dd77a",
   "metadata": {},
   "outputs": [
    {
     "ename": "TypeError",
     "evalue": "can only concatenate str (not \"bool\") to str",
     "output_type": "error",
     "traceback": [
      "\u001b[0;31m---------------------------------------------------------------------------\u001b[0m",
      "\u001b[0;31mTypeError\u001b[0m                                 Traceback (most recent call last)",
      "Input \u001b[0;32mIn [8]\u001b[0m, in \u001b[0;36m<cell line: 2>\u001b[0;34m()\u001b[0m\n\u001b[1;32m      1\u001b[0m \u001b[38;5;66;03m# Similar error here because a Boolean is not a string\u001b[39;00m\n\u001b[0;32m----> 2\u001b[0m \u001b[38;5;28mprint\u001b[39m(\u001b[38;5;124;43m\"\u001b[39;49m\u001b[38;5;124;43mExpert status: \u001b[39;49m\u001b[38;5;124;43m\"\u001b[39;49m\u001b[43m \u001b[49m\u001b[38;5;241;43m+\u001b[39;49m\u001b[43m \u001b[49m\u001b[43mexpert_status\u001b[49m)\n",
      "\u001b[0;31mTypeError\u001b[0m: can only concatenate str (not \"bool\") to str"
     ]
    }
   ],
   "source": [
    "# Similar error here because a Boolean is not a string\n",
    "print(\"Expert status: \" + expert_status)"
   ]
  },
  {
   "cell_type": "code",
   "execution_count": 9,
   "id": "13099bf8",
   "metadata": {},
   "outputs": [
    {
     "name": "stdout",
     "output_type": "stream",
     "text": [
      "Expert status: True\n"
     ]
    }
   ],
   "source": [
    "# Converts a boolean into a string and prints\n",
    "print(\"Expert status: \" + str(expert_status))"
   ]
  },
  {
   "cell_type": "code",
   "execution_count": 13,
   "id": "fb40d203",
   "metadata": {},
   "outputs": [
    {
     "name": "stdout",
     "output_type": "stream",
     "text": [
      "Expert status: True \n",
      "Years of experience: 80\n"
     ]
    }
   ],
   "source": [
    "# An f-string accepts all data types without conversion\n",
    "print(f\"Expert status: {expert_status} \\nYears of experience: {years}\")"
   ]
  }
 ],
 "metadata": {
  "kernelspec": {
   "display_name": "Python 3 (ipykernel)",
   "language": "python",
   "name": "python3"
  },
  "language_info": {
   "codemirror_mode": {
    "name": "ipython",
    "version": 3
   },
   "file_extension": ".py",
   "mimetype": "text/x-python",
   "name": "python",
   "nbconvert_exporter": "python",
   "pygments_lexer": "ipython3",
   "version": "3.9.12"
  }
 },
 "nbformat": 4,
 "nbformat_minor": 5
}
