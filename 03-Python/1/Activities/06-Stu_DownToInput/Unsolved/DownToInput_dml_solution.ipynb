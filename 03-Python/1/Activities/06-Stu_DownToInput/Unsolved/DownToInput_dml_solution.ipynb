{
 "cells": [
  {
   "cell_type": "code",
   "execution_count": 2,
   "id": "f9d509cb",
   "metadata": {},
   "outputs": [
    {
     "name": "stdout",
     "output_type": "stream",
     "text": [
      "What's your name?David\n",
      "What's your neighbor's name?Timo\n",
      "How many months has David been coding?24\n",
      "How many months has Timo been coding?48\n",
      "In total, David and Timo have 72 months of coding experience.\n"
     ]
    }
   ],
   "source": [
    "# get user input for names\n",
    "my_name = input(\"What's your name?\")\n",
    "neighbor_name = input(\"What's your neighbor's name?\")\n",
    "\n",
    "# get user inputs for months of coding experience\n",
    "my_months_coding = int(input(f\"How many months has {my_name} been coding?\"))\n",
    "neighbor_months_coding = int(input(f\"How many months has {neighbor_name} been coding?\"))"
   ]
  },
  {
   "cell_type": "code",
   "execution_count": null,
   "id": "afc28b48",
   "metadata": {},
   "outputs": [],
   "source": [
    "# calculate total experience\n",
    "total_exp = my_months_coding + neighbor_months_coding\n",
    "\n",
    "# print total experience with an f-string\n",
    "print(f\"In total, {my_name} and {neighbor_name} have {total_exp} months of coding experience.\")"
   ]
  }
 ],
 "metadata": {
  "kernelspec": {
   "display_name": "Python 3 (ipykernel)",
   "language": "python",
   "name": "python3"
  },
  "language_info": {
   "codemirror_mode": {
    "name": "ipython",
    "version": 3
   },
   "file_extension": ".py",
   "mimetype": "text/x-python",
   "name": "python",
   "nbconvert_exporter": "python",
   "pygments_lexer": "ipython3",
   "version": "3.9.12"
  }
 },
 "nbformat": 4,
 "nbformat_minor": 5
}
