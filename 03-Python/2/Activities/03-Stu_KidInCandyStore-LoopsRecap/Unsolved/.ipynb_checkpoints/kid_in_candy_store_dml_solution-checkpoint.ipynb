{
 "cells": [
  {
   "cell_type": "markdown",
   "id": "f5eaa3ca",
   "metadata": {},
   "source": [
    "## Kid in a Candy Store\n",
    "\n",
    "In this activity, you will create the code that a candy store will use in their state-of-the-art candy vending machine.\n",
    "\n",
    "### Instructions\n",
    "\n",
    "* Create a loop that prints all of the candies in the store to the terminal, with their index stored in brackets beside them.\n",
    "\n",
    "  * For example: `\"[0] Snickers\"`\n",
    "\n",
    "* Create a second loop that runs for a set number of times determined by the variable `allowance`.\n",
    "\n",
    "  * For example: If allowance is equal to five, the loop should run five times.\n",
    "\n",
    "  * Each time this second loop runs, take in a user's input, preferably a number, and then add the candy with the matching index to the variable `candy_cart`.\n",
    "\n",
    "  * For example: If the user enters \"0\" as their input, \"Snickers\" should be added into the `candy_cart` list.\n",
    "\n",
    "* Use another loop to print all of the candies selected to the terminal."
   ]
  },
  {
   "cell_type": "code",
   "execution_count": 13,
   "id": "4d1f8922",
   "metadata": {},
   "outputs": [
    {
     "name": "stdout",
     "output_type": "stream",
     "text": [
      "[0] Air Heads\n",
      "[1] Bazooka Bubble Gum\n",
      "[2] Charms Blow Pops\n",
      "[3] Double Bubble\n",
      "[4] Jelly Belly\n",
      "[5] Jolly Rancher\n",
      "[6] Kit Kat\n",
      "[7] Pop Rocks\n",
      "[8] Snickers\n",
      "[9] Milky Way\n",
      "[10] 3 Musketeers\n",
      "[11] Sour Patch Kids\n",
      "[12] Juicy Fruit\n",
      "[13] Swedish Fish\n",
      "[14] Skittles\n",
      "[15] Hershey Bar\n",
      "[16] Starbursts\n",
      "[17] M&Ms\n"
     ]
    }
   ],
   "source": [
    "# instantiate the candy catalogue\n",
    "candy_catalogue = ['Air Heads', 'Bazooka Bubble Gum',\n",
    "             'Charms Blow Pops', 'Double Bubble',\n",
    "             'Jelly Belly', 'Jolly Rancher',\n",
    "             'Kit Kat', 'Pop Rocks',\n",
    "             'Snickers', 'Milky Way',\n",
    "             '3 Musketeers', 'Sour Patch Kids',\n",
    "             'Juicy Fruit', 'Swedish Fish',\n",
    "             'Skittles', 'Hershey Bar',\n",
    "             'Starbursts', 'M&Ms']\n",
    "\n",
    "# print the candy catalogue in the desired format\n",
    "for candy in candy_catalogue:\n",
    "    print(f\"[{candy_catalogue.index(candy)}] {candy}\")"
   ]
  },
  {
   "cell_type": "code",
   "execution_count": 22,
   "id": "b409dca1",
   "metadata": {},
   "outputs": [
    {
     "name": "stdout",
     "output_type": "stream",
     "text": [
      "Your cart currently contains: [].\n",
      "You have 5 candies left in your allowance.\n",
      "\n",
      "Please make a selection:  10\n",
      "\n",
      "Added 3 Musketeers to your cart.\n",
      "Your cart currently contains: ['3 Musketeers'].\n",
      "You have 4 candies left in your allowance.\n",
      "\n",
      "Please make a selection:  11\n",
      "\n",
      "Added Sour Patch Kids to your cart.\n",
      "Your cart currently contains: ['3 Musketeers', 'Sour Patch Kids'].\n",
      "You have 3 candies left in your allowance.\n",
      "\n",
      "Please make a selection:  12\n",
      "\n",
      "Added Juicy Fruit to your cart.\n",
      "Your cart currently contains: ['3 Musketeers', 'Sour Patch Kids', 'Juicy Fruit'].\n",
      "You have 2 candies left in your allowance.\n",
      "\n",
      "Please make a selection:  help me\n",
      "Sorry, I need a catalogue number between 0 and 17.\n",
      "Please make another selection:  09\n",
      "\n",
      "Added Milky Way to your cart.\n",
      "Your cart currently contains: ['3 Musketeers', 'Sour Patch Kids', 'Juicy Fruit', 'Milky Way'].\n",
      "You have 1 candies left in your allowance.\n",
      "\n",
      "Please make a selection:  17\n",
      "\n",
      "Added M&Ms to your cart.\n",
      "\n",
      "\n",
      "Your finallized shopping cart contains: \n",
      "['3 Musketeers', 'Sour Patch Kids', 'Juicy Fruit', 'Milky Way', 'M&Ms']\n"
     ]
    }
   ],
   "source": [
    "# instantiate candy allowance and an empty cart for the user\n",
    "allowance = 5\n",
    "candy_cart = []\n",
    "\n",
    "# shopping loop\n",
    "for i in range(allowance):\n",
    "    \n",
    "    # let the user know what is currently in their cart and how many selections they have left\n",
    "    u_request = input(f\"Your cart currently contains: {candy_cart}.\\n\" +\n",
    "                      f\"You have {allowance - i} candies left in your allowance.\\n\\n\" +\n",
    "                      f\"Please make a selection:  \")\n",
    "    \n",
    "    # check first if we can cast the input as an int, and then if it's within range of the catalogue\n",
    "    while (not u_request.isdigit()) or (int(u_request) not in range(len(candy_catalogue) + 1)):\n",
    "        u_request = input(f\"Sorry, I need a catalogue number between 0 and {len(candy_catalogue) - 1}.\\n\" +\n",
    "                          f\"Please make another selection:  \")\n",
    "    \n",
    "    # once those conditions are satisfied, add the selected candy to the user's cart and print feedback\n",
    "    candy_cart.append(candy_catalogue[int(u_request)])\n",
    "    print(f\"\\nAdded {candy_catalogue[int(u_request)]} to your cart.\")\n",
    "\n",
    "# after all selections have been made, show the user their finalized cart\n",
    "print(f\"\\n\\nYour finallized shopping cart contains: \\n{candy_cart}\")"
   ]
  },
  {
   "cell_type": "markdown",
   "id": "ddaca833",
   "metadata": {},
   "source": [
    "#### Bonus\n",
    "\n",
    "Create a version of the code that allows a user to select as much candy as they want until they say they do not want any more."
   ]
  },
  {
   "cell_type": "code",
   "execution_count": 24,
   "id": "689c8c61",
   "metadata": {},
   "outputs": [
    {
     "name": "stdout",
     "output_type": "stream",
     "text": [
      "Your cart currently contains: [].\n",
      "Please make a selection:  03\n",
      "\n",
      "Added Double Bubble to your cart.\n",
      "\n",
      "Would you like to keep shopping (y/n)?y\n",
      "Your cart currently contains: ['Double Bubble'].\n",
      "Please make a selection:  14\n",
      "\n",
      "Added Skittles to your cart.\n",
      "\n",
      "Would you like to keep shopping (y/n)?n\n",
      "\n",
      "\n",
      "Your finallized shopping cart contains: \n",
      "['Double Bubble', 'Skittles']\n"
     ]
    }
   ],
   "source": [
    "# instantiate an empty cart for the user\n",
    "candy_cart = []\n",
    "cont = 'y'\n",
    "\n",
    "# shopping loop\n",
    "while cont == 'y':\n",
    "    \n",
    "    # let the user know what is currently in their cart and how many selections they have left\n",
    "    u_request = input(f\"Your cart currently contains: {candy_cart}.\\n\" +\n",
    "                      f\"Please make a selection:  \")\n",
    "    \n",
    "    # check first if we can cast the input as an int, and then if it's within range of the catalogue\n",
    "    while (not u_request.isdigit()) or (int(u_request) not in range(len(candy_catalogue) + 1)):\n",
    "        u_request = input(f\"Sorry, I need a catalogue number between 0 and {len(candy_catalogue) - 1}.\\n\" +\n",
    "                          f\"Please make another selection:  \")\n",
    "    \n",
    "    # once those conditions are satisfied, add the selected candy to the user's cart and print feedback\n",
    "    candy_cart.append(candy_catalogue[int(u_request)])\n",
    "    \n",
    "    cont = input(f\"\\nAdded {candy_catalogue[int(u_request)]} to your cart.\\n\\nWould you like to keep shopping (y/n)?\")\n",
    "    \n",
    "    while cont not in ('y', 'n'):\n",
    "        cont = input(\"Sorry, I didn't understand that. Would you like to keep shopping (y/n)?\")\n",
    "\n",
    "# after all selections have been made, show the user their finalized cart\n",
    "print(f\"\\n\\nYour finallized shopping cart contains: \\n{candy_cart}\")"
   ]
  }
 ],
 "metadata": {
  "kernelspec": {
   "display_name": "Python 3 (ipykernel)",
   "language": "python",
   "name": "python3"
  },
  "language_info": {
   "codemirror_mode": {
    "name": "ipython",
    "version": 3
   },
   "file_extension": ".py",
   "mimetype": "text/x-python",
   "name": "python",
   "nbconvert_exporter": "python",
   "pygments_lexer": "ipython3",
   "version": "3.9.12"
  }
 },
 "nbformat": 4,
 "nbformat_minor": 5
}
