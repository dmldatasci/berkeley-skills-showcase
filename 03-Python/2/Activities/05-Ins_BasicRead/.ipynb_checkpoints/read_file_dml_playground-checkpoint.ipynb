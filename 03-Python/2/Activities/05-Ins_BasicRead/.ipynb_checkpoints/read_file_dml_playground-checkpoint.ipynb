{
 "cells": [
  {
   "cell_type": "code",
   "execution_count": 10,
   "id": "2964479a",
   "metadata": {},
   "outputs": [],
   "source": [
    "# store the file path associated with the file (the backslash may be OS specific)\n",
    "file = 'Resources/input.txt'"
   ]
  },
  {
   "cell_type": "code",
   "execution_count": 14,
   "id": "f167b9d5",
   "metadata": {},
   "outputs": [
    {
     "name": "stdout",
     "output_type": "stream",
     "text": [
      "<_io.TextIOWrapper name='Resources/input.txt' mode='r' encoding='UTF-8'>\n"
     ]
    }
   ],
   "source": [
    "# open the file in \"read\" mode ('r') and store the contents in the variable \"text\"\n",
    "# notice that the 'with' statement deals with exception handling and ensures we don't leave the stream open\n",
    "with open(file, 'r') as text:\n",
    "\n",
    "    # the reference is to a file stream\n",
    "    print(text)"
   ]
  },
  {
   "cell_type": "code",
   "execution_count": 15,
   "id": "add9d3dc",
   "metadata": {},
   "outputs": [
    {
     "ename": "ValueError",
     "evalue": "I/O operation on closed file.",
     "output_type": "error",
     "traceback": [
      "\u001b[0;31m---------------------------------------------------------------------------\u001b[0m",
      "\u001b[0;31mValueError\u001b[0m                                Traceback (most recent call last)",
      "Input \u001b[0;32mIn [15]\u001b[0m, in \u001b[0;36m<cell line: 4>\u001b[0;34m()\u001b[0m\n\u001b[1;32m      1\u001b[0m \u001b[38;5;66;03m# the code below will throw an error because the stream is closed\u001b[39;00m\n\u001b[1;32m      2\u001b[0m \n\u001b[1;32m      3\u001b[0m \u001b[38;5;66;03m# store all of the text inside a variable called \"lines\"\u001b[39;00m\n\u001b[0;32m----> 4\u001b[0m lines \u001b[38;5;241m=\u001b[39m \u001b[43mtext\u001b[49m\u001b[38;5;241;43m.\u001b[39;49m\u001b[43mread\u001b[49m\u001b[43m(\u001b[49m\u001b[43m)\u001b[49m\n\u001b[1;32m      6\u001b[0m \u001b[38;5;66;03m# print the contents of the text file\u001b[39;00m\n\u001b[1;32m      7\u001b[0m \u001b[38;5;28mprint\u001b[39m(lines)\n",
      "\u001b[0;31mValueError\u001b[0m: I/O operation on closed file."
     ]
    }
   ],
   "source": [
    "# the code below will throw an error because the stream is closed\n",
    "\n",
    "# store all of the text inside a variable called \"lines\"\n",
    "lines = text.read()\n",
    "\n",
    "# print the contents of the text file\n",
    "print(lines)"
   ]
  },
  {
   "cell_type": "code",
   "execution_count": 13,
   "id": "14edb7bc",
   "metadata": {},
   "outputs": [
    {
     "name": "stdout",
     "output_type": "stream",
     "text": [
      "This is the first line.\n",
      "This is the second line.\n",
      "This is the last line.\n",
      "\n"
     ]
    }
   ],
   "source": [
    "# the code below will run because it is contained within the 'with' statement, before the stream is closed\n",
    "\n",
    "# open the file in \"read\" mode ('r') and store the contents in the variable \"text\"\n",
    "with open(file, 'r') as text:\n",
    "    \n",
    "    # store all of the text inside a variable called \"lines\"\n",
    "    lines = text.read()\n",
    "\n",
    "    # print the contents of the text file\n",
    "    print(lines)"
   ]
  },
  {
   "cell_type": "code",
   "execution_count": 17,
   "id": "ae4bb2a7",
   "metadata": {},
   "outputs": [
    {
     "name": "stdout",
     "output_type": "stream",
     "text": [
      "This is the first line.\n",
      "This is the second line.\n",
      "This is the last line.\n",
      "\n"
     ]
    }
   ],
   "source": [
    "# the alternative would be to handle opening, closing and excepting on our own\n",
    "text = open(file, 'r')\n",
    "lines = text.read()\n",
    "text.close()\n",
    "\n",
    "print(lines)"
   ]
  }
 ],
 "metadata": {
  "kernelspec": {
   "display_name": "Python 3 (ipykernel)",
   "language": "python",
   "name": "python3"
  },
  "language_info": {
   "codemirror_mode": {
    "name": "ipython",
    "version": 3
   },
   "file_extension": ".py",
   "mimetype": "text/x-python",
   "name": "python",
   "nbconvert_exporter": "python",
   "pygments_lexer": "ipython3",
   "version": "3.9.12"
  }
 },
 "nbformat": 4,
 "nbformat_minor": 5
}
