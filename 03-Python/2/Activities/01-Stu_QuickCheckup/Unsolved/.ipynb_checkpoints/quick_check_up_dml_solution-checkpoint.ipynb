{
 "cells": [
  {
   "cell_type": "markdown",
   "id": "428f4334",
   "metadata": {},
   "source": [
    "## Quick Check-Up\n",
    "\n",
    "Let’s start with a quick warm-up activity to get the Python juices flowing.\n",
    "\n",
    "### Instructions\n",
    "\n",
    "Create a simple Python command line application that does the following:\n",
    "\n",
    "* Prints \"Hello User!\"\n",
    "\n",
    "* Then asks \"What is your name?\"\n",
    "\n",
    "* Then responds \"Hello &lt;user's name&gt;\"\n",
    "\n",
    "* Then asks: \"What is your favorite number? \"\n",
    "\n",
    "* Then responds: \"Your favorite number is lower than mine.\", \"Your favorite number is higher than mine.\", or \"Your favorite number is the same as mine!\" depending on your favorite number."
   ]
  },
  {
   "cell_type": "code",
   "execution_count": 9,
   "id": "8d005ee3",
   "metadata": {},
   "outputs": [
    {
     "name": "stdout",
     "output_type": "stream",
     "text": [
      "Hello User!\n",
      "What is your name?\n",
      "\n",
      "David\n",
      "\n",
      "\n",
      "Hello David.\n",
      "What is your favorite number?  34\n",
      "\n",
      "\n",
      "Oh, that's interesting... Mine's 31. Your favorite number is bigger than mine. Awkward.\n"
     ]
    }
   ],
   "source": [
    "# call relevant libraries\n",
    "import random\n",
    "\n",
    "# first task\n",
    "print(\"Hello User!\")\n",
    "\n",
    "# second task\n",
    "u_name = input(\"What is your name?\\n\\n\")\n",
    "print(f\"\\n\\nHello {u_name}.\")\n",
    "\n",
    "# third task\n",
    "u_num = input(\"What is your favorite number?  \")\n",
    "while not u_num.isdigit():\n",
    "    u_num = input(\"That's not a number... Seriously, what is it?\")\n",
    "\n",
    "u_num = int(u_num)\n",
    "c_num = random.randint(0, 100)\n",
    "\n",
    "if u_num == c_num:\n",
    "    print(\"\\n\\nNo way! Mine too!!\")\n",
    "\n",
    "elif u_num > c_num:\n",
    "    print(f\"\\n\\nOh, that's interesting... Mine's {c_num}. Your favorite number is bigger than mine. Awkward.\")\n",
    "    \n",
    "else:\n",
    "    print(f\"\\n\\nOh, hah! Mine's {c_num}. My favorite number is bigger than yours. ;P\")"
   ]
  }
 ],
 "metadata": {
  "kernelspec": {
   "display_name": "Python 3 (ipykernel)",
   "language": "python",
   "name": "python3"
  },
  "language_info": {
   "codemirror_mode": {
    "name": "ipython",
    "version": 3
   },
   "file_extension": ".py",
   "mimetype": "text/x-python",
   "name": "python",
   "nbconvert_exporter": "python",
   "pygments_lexer": "ipython3",
   "version": "3.9.12"
  }
 },
 "nbformat": 4,
 "nbformat_minor": 5
}
