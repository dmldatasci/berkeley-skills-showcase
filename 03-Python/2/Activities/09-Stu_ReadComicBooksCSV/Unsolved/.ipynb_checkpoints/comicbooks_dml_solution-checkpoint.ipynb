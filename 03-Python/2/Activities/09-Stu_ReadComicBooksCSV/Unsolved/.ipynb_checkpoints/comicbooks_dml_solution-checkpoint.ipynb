{
 "cells": [
  {
   "cell_type": "markdown",
   "id": "39119c57",
   "metadata": {},
   "source": [
    "## Reading Comic Book Data\n",
    "\n",
    "In this activity, you will create an application that searches the provided CSV file for a specific graphic novel title and then returns the title, publisher’s name, and the year it was published.\n",
    "\n",
    "### Instructions\n",
    "\n",
    "* Prompt the user for the book title they’d like to search.\n",
    "\n",
    "* Search through the `comic_books.csv` to find the user's book.\n",
    "\n",
    "* If the CSV contains the user's title, then print out the title, the publisher name, and the year it was published.\n",
    "\n",
    "  * For example: `\"Alien was published by DC Comics in 2015\"`.\n",
    "\n",
    "* If the CSV does not contain the user's title, then print out a message telling them that their book could not be found.\n",
    "\n",
    "    * Set a variable to `False` to check if we found the comic book.\n",
    "\n",
    "    * In the `for` loop, change the variable to confirm that the comic book is found."
   ]
  },
  {
   "cell_type": "code",
   "execution_count": 33,
   "id": "986b12db",
   "metadata": {},
   "outputs": [],
   "source": [
    "# define a function that checks our database for a match to user input\n",
    "def FetchComic():\n",
    "    \n",
    "    # capture user input\n",
    "    u_title = input(\"What title are you interested in?\")\n",
    "    \n",
    "    # get a fresh pull of the comic book database in case the source file has changed\n",
    "    comic_books = GrabData()\n",
    "    \n",
    "    # instantiate a variable to keep track of whether the title was found\n",
    "    found = False\n",
    "    \n",
    "    for book in comic_books:\n",
    "        \n",
    "        # check the title and alternate title values\n",
    "        if u_title in book[0] or u_title in book[1]:\n",
    "            \n",
    "            # print details\n",
    "            print(f\"{u_title} was published by {book[8]} in {book[9]}.\")\n",
    "            \n",
    "            # set the found variable to true\n",
    "            found = True\n",
    "            \n",
    "            # a break command would stop the for loop at the first title match\n",
    "            # break\n",
    "            \n",
    "    # give the error message if no records were turned up\n",
    "    if not found:\n",
    "        \n",
    "        print(f\"We're so sorry, but we didn't find a record of {u_title} in our database.\")\n",
    "        \n",
    "    return"
   ]
  },
  {
   "cell_type": "code",
   "execution_count": 34,
   "id": "d2f6ddca",
   "metadata": {},
   "outputs": [],
   "source": [
    "# define a function that fetches the most recent comic book data available\n",
    "def GrabData():\n",
    "    \n",
    "    # import necessary libraries\n",
    "    import os\n",
    "    import csv\n",
    "    \n",
    "    # instantiate a list to store comic book information\n",
    "    comic_books = []\n",
    "    \n",
    "    # construct the file path\n",
    "    filepath = os.path.join('..', 'Resources', 'comic_books.csv')\n",
    "    \n",
    "    # read the csv file and add each entry to the comic_books list\n",
    "    with open(filepath) as file:\n",
    "        filereader = csv.reader(file, delimiter = ',')\n",
    "        \n",
    "        header = next(filereader)\n",
    "        # print(header)\n",
    "        \n",
    "        for book in filereader:\n",
    "            comic_books.append(book)\n",
    "            \n",
    "    return comic_books"
   ]
  },
  {
   "cell_type": "code",
   "execution_count": 35,
   "id": "7067cc0f",
   "metadata": {},
   "outputs": [
    {
     "name": "stdout",
     "output_type": "stream",
     "text": [
      "What title are you interested in?Silver Surfer\n",
      "Silver Surfer was published by Marvel in 2005-.\n",
      "Silver Surfer was published by Marvel in 2005-.\n",
      "Silver Surfer was published by Panini Publishing in .\n",
      "Silver Surfer was published by Marvel in 2005-.\n",
      "Silver Surfer was published by Marvel in 2005-.\n",
      "Silver Surfer was published by Marvel Worldwide in 2017.\n",
      "Silver Surfer was published by Marvel Worldwide in 2019.\n",
      "Silver Surfer was published by Marvel in 2005-.\n",
      "Silver Surfer was published by Panini in 2007.\n",
      "Silver Surfer was published by Diamond ; Marvel in 2006.\n",
      "Silver Surfer was published by Diamond ; Marvel Publishing in 2007-.\n",
      "Silver Surfer was published by Panini in 2007.\n"
     ]
    }
   ],
   "source": [
    "FetchComic()"
   ]
  },
  {
   "cell_type": "markdown",
   "id": "5f000360",
   "metadata": {},
   "source": [
    "#### References\n",
    "\n",
    "Data modified from \"Comic books CSV\" Updated April 2021. Initially released in 2014 to accompany the British Library's exhibition Comics Unmasked. [https://www.bl.uk/collection-metadata/downloads](https://www.bl.uk/collection-metadata/downloads)"
   ]
  }
 ],
 "metadata": {
  "kernelspec": {
   "display_name": "Python 3 (ipykernel)",
   "language": "python",
   "name": "python3"
  },
  "language_info": {
   "codemirror_mode": {
    "name": "ipython",
    "version": 3
   },
   "file_extension": ".py",
   "mimetype": "text/x-python",
   "name": "python",
   "nbconvert_exporter": "python",
   "pygments_lexer": "ipython3",
   "version": "3.9.12"
  }
 },
 "nbformat": 4,
 "nbformat_minor": 5
}
