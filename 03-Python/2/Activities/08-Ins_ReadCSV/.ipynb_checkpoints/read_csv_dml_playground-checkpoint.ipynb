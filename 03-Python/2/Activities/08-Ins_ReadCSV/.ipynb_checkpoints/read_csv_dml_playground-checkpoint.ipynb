{
 "cells": [
  {
   "cell_type": "code",
   "execution_count": 7,
   "id": "754715ca",
   "metadata": {},
   "outputs": [
    {
     "name": "stdout",
     "output_type": "stream",
     "text": [
      "The object class of the `lines` variable is:  <class 'str'>.\n",
      "\n",
      "\n",
      "The contents of the `lines` variable are as follows:\n",
      "\n",
      "First Name,Last Name,Phone\n",
      "Janetta,Bolduc,499-820-0212\n",
      "Bent,Hanburry,125-890-6291\n",
      "Kath,Beeres,807-511-9864\n",
      "Clarisse,Surgeon,499-224-5982\n",
      "Hae-Won,Park,727-224-1623\n",
      "Rodd,Camier,199-541-8033\n",
      "Javier,Martinez,543-206-4422\n",
      "Patty,De'Ath,950-579-4341\n",
      "Charlie,Clewlow,874-246-8418\n",
      "Izel,Xiu,362-965-1637\n",
      "Zechariah,Spikings,570-486-2219\n",
      "Stephie,Tootal,326-912-0003\n"
     ]
    }
   ],
   "source": [
    "# plain method of reading CSV files\n",
    "\n",
    "with open('Resources/contacts.csv', 'r') as file_handler:\n",
    "    \n",
    "    lines = file_handler.read()\n",
    "    \n",
    "    print(f\"The object class of the `lines` variable is:  {type(lines)}.\\n\\n\")\n",
    "    print(f\"The contents of the `lines` variable are as follows:\\n\\n{lines}\")"
   ]
  },
  {
   "cell_type": "code",
   "execution_count": 14,
   "id": "6e819a14",
   "metadata": {},
   "outputs": [
    {
     "name": "stdout",
     "output_type": "stream",
     "text": [
      "The csv iterator object is stored as follows:\n",
      "<_csv.reader object at 0x7ff2f8ce6c80>\n",
      "\n",
      "\n",
      "The csv header reads as follows:\n",
      "['First Name', 'Last Name', 'Phone']\n",
      "\n",
      "\n",
      "The object class of row 1 is: <class 'list'>, and the data is as follows:\n",
      "['Janetta', 'Bolduc', '499-820-0212']\n",
      "\n",
      "The object class of row 2 is: <class 'list'>, and the data is as follows:\n",
      "['Bent', 'Hanburry', '125-890-6291']\n",
      "\n",
      "The object class of row 3 is: <class 'list'>, and the data is as follows:\n",
      "['Kath', 'Beeres', '807-511-9864']\n",
      "\n",
      "The object class of row 4 is: <class 'list'>, and the data is as follows:\n",
      "['Clarisse', 'Surgeon', '499-224-5982']\n",
      "\n",
      "The object class of row 5 is: <class 'list'>, and the data is as follows:\n",
      "['Hae-Won', 'Park', '727-224-1623']\n",
      "\n",
      "The object class of row 6 is: <class 'list'>, and the data is as follows:\n",
      "['Rodd', 'Camier', '199-541-8033']\n",
      "\n",
      "The object class of row 7 is: <class 'list'>, and the data is as follows:\n",
      "['Javier', 'Martinez', '543-206-4422']\n",
      "\n",
      "The object class of row 8 is: <class 'list'>, and the data is as follows:\n",
      "['Patty', \"De'Ath\", '950-579-4341']\n",
      "\n",
      "The object class of row 9 is: <class 'list'>, and the data is as follows:\n",
      "['Charlie', 'Clewlow', '874-246-8418']\n",
      "\n",
      "The object class of row 10 is: <class 'list'>, and the data is as follows:\n",
      "['Izel', 'Xiu', '362-965-1637']\n",
      "\n",
      "The object class of row 11 is: <class 'list'>, and the data is as follows:\n",
      "['Zechariah', 'Spikings', '570-486-2219']\n",
      "\n",
      "The object class of row 12 is: <class 'list'>, and the data is as follows:\n",
      "['Stephie', 'Tootal', '326-912-0003']\n",
      "\n"
     ]
    }
   ],
   "source": [
    "# module-assisted method of reading CSV files\n",
    "\n",
    "# import the os module\n",
    "# this will allow us to create file paths across operating systems\n",
    "import os\n",
    "\n",
    "# import csv module to assist with file reading\n",
    "import csv\n",
    "\n",
    "csvpath = os.path.join('Resources', 'contacts.csv')\n",
    "\n",
    "with open(csvpath) as csvfile:\n",
    "\n",
    "    # CSV reader specifies delimiter and variable that holds contents\n",
    "    csvreader = csv.reader(csvfile, delimiter=',')\n",
    "    \n",
    "    print(f\"The csv iterator object is stored as follows:\\n{csvreader}\\n\\n\")\n",
    "\n",
    "    # read the header row first (skip this step if there is no header)\n",
    "    csv_header = next(csvreader)\n",
    "    print(f\"The csv header reads as follows:\\n{csv_header}\\n\\n\")\n",
    "\n",
    "    # read each row of data after the header\n",
    "    i = 1\n",
    "    for row in csvreader:\n",
    "        print(f\"The object class of row {i} is: {type(row)}, and the data is as follows:\\n{row}\\n\")\n",
    "        i += 1"
   ]
  }
 ],
 "metadata": {
  "kernelspec": {
   "display_name": "Python 3 (ipykernel)",
   "language": "python",
   "name": "python3"
  },
  "language_info": {
   "codemirror_mode": {
    "name": "ipython",
    "version": 3
   },
   "file_extension": ".py",
   "mimetype": "text/x-python",
   "name": "python",
   "nbconvert_exporter": "python",
   "pygments_lexer": "ipython3",
   "version": "3.9.12"
  }
 },
 "nbformat": 4,
 "nbformat_minor": 5
}
