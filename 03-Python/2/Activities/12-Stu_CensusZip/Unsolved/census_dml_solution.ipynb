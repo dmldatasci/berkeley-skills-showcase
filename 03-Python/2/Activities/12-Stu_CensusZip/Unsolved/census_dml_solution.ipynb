{
 "cells": [
  {
   "cell_type": "markdown",
   "id": "dfcae4ab",
   "metadata": {},
   "source": [
    "## U.S. Census Breakdown\n",
    "\n",
    "In this activity, you will be provided with a large dataset from the 2019 U.S. Census. Your task is to clean up this dataset and create a new CSV file that is easier to comprehend.\n",
    "\n",
    "### Instructions\n",
    "\n",
    "* Create a Python application that reads in the data from the 2019 U.S. Census.\n",
    "\n",
    "* Then, store the contents of `Place`, `Population`, `Per Capita Income`, and `Poverty Count` into Python Lists.\n",
    "\n",
    "* Then, zip these lists together into a single tuple.\n",
    "\n",
    "* Finally, write the contents of your extracted data into a CSV. Make sure to include the titles of these columns in your CSV."
   ]
  },
  {
   "cell_type": "code",
   "execution_count": 8,
   "id": "1b164bc0",
   "metadata": {},
   "outputs": [
    {
     "name": "stdout",
     "output_type": "stream",
     "text": [
      "Autauga County, Alabama 55380 29819 8340\n"
     ]
    }
   ],
   "source": [
    "# load dependencies\n",
    "import csv\n",
    "import os\n",
    "\n",
    "# define file path to census data\n",
    "census_filepath = os.path.join(\"..\", \"Resources\", \"census_starter.csv\")\n",
    "\n",
    "# instantiate empty lists for desired data\n",
    "place = []\n",
    "pop = []\n",
    "pcinc = []\n",
    "povcount = []\n",
    "\n",
    "# open file for reading\n",
    "with open(census_filepath) as census_file:\n",
    "    \n",
    "    # create reader object\n",
    "    filereader = csv.reader(census_file, delimiter=',')\n",
    "    \n",
    "    # iterate over all rows in the file and append to each list\n",
    "    for row in filereader:\n",
    "        place.append(row[0])\n",
    "        pop.append(row[1])\n",
    "        pcinc.append(row[4])\n",
    "        povcount.append(row[8])\n",
    "        \n",
    "# store the contents of all lists in a zip object for writing later\n",
    "zip_obj = zip(place, pop, pcinc, povcount)\n",
    "\n",
    "# stupid check\n",
    "print(place[0], pop[0], pcinc[0], povcount[0])"
   ]
  },
  {
   "cell_type": "code",
   "execution_count": 9,
   "id": "0851e0fd",
   "metadata": {},
   "outputs": [],
   "source": [
    "# instantiate the header tuple\n",
    "header = (\"Place\", \"Population\", \"Per Capita Income\", \"Poverty Count\")\n",
    "\n",
    "# define a path to the output file\n",
    "output_filepath = os.path.join(\"..\", \"clean_census.csv\")\n",
    "\n",
    "# open file for writing\n",
    "with open(output_filepath, \"w\") as outfile:\n",
    "    \n",
    "    # create writer object\n",
    "    writer = csv.writer(outfile)\n",
    "    \n",
    "    # write header\n",
    "    writer.writerow(header)\n",
    "    \n",
    "    # write extracted data\n",
    "    writer.writerows(zip_obj)"
   ]
  },
  {
   "cell_type": "markdown",
   "id": "6369a05e",
   "metadata": {},
   "source": [
    "#### Bonus\n",
    "\n",
    "* Find the poverty rate (percentage of population living in poverty). Include this in your final output, converting the rate to a string and including a \"%\" at the end of the string.\n",
    "\n",
    "* Parse the string associated with `Place`, separating it into `County` and `State`, so we can store both in separate columns."
   ]
  },
  {
   "cell_type": "code",
   "execution_count": 29,
   "id": "eeefd76d",
   "metadata": {},
   "outputs": [
    {
     "name": "stdout",
     "output_type": "stream",
     "text": [
      "Autauga County Alabama 55380 29819 8340 15.06%\n"
     ]
    }
   ],
   "source": [
    "# load dependencies\n",
    "import csv\n",
    "import os\n",
    "\n",
    "# define file path to census data\n",
    "census_filepath = os.path.join(\"..\", \"Resources\", \"census_starter.csv\")\n",
    "\n",
    "# instantiate empty lists for desired data\n",
    "county = []\n",
    "state = []\n",
    "pop = []\n",
    "pcinc = []\n",
    "povcount = []\n",
    "povpercent = []\n",
    "\n",
    "# open file for reading\n",
    "with open(census_filepath) as census_file:\n",
    "    \n",
    "    # create reader object\n",
    "    filereader = csv.reader(census_file, delimiter=',')\n",
    "    \n",
    "    # iterate over all rows in the file and append to each list\n",
    "    for row in filereader:\n",
    "        \n",
    "        place = row[0].split(\", \")\n",
    "        county.append(place[0])\n",
    "        state.append(place[1])\n",
    "        \n",
    "        pop.append(row[1])\n",
    "        pcinc.append(row[4])\n",
    "        povcount.append(row[8])\n",
    "        \n",
    "        povpercent.append(str(round(float(row[8]) / float(row[1]), 4) * 100) + \"%\")\n",
    "        \n",
    "# store the contents of all lists in a zip object for writing later\n",
    "zip_obj = zip(county, state, pop, pcinc, povcount, povpercent)\n",
    "\n",
    "# stupid check\n",
    "print(county[0], state[0], pop[0], pcinc[0], povcount[0], povpercent[0])"
   ]
  },
  {
   "cell_type": "code",
   "execution_count": 30,
   "id": "50ec791b",
   "metadata": {},
   "outputs": [],
   "source": [
    "# instantiate the header tuple\n",
    "header = (\"County\", \"State\", \"Population\", \"Per Capita Income\", \"Poverty Count\", \"Povert Percentage\")\n",
    "\n",
    "# define a path to the output file\n",
    "output_filepath = os.path.join(\"..\", \"clean_census_addl.csv\")\n",
    "\n",
    "# open file for writing\n",
    "with open(output_filepath, \"w\") as outfile:\n",
    "    \n",
    "    # create writer object\n",
    "    writer = csv.writer(outfile)\n",
    "    \n",
    "    # write header\n",
    "    writer.writerow(header)\n",
    "    \n",
    "    # write extracted data\n",
    "    writer.writerows(zip_obj)"
   ]
  },
  {
   "cell_type": "markdown",
   "id": "25e45fd9",
   "metadata": {},
   "source": [
    "#### Hints\n",
    "\n",
    "* Windows users may get a `UnicodeDecodeError`. To avoid this, pass in `encoding=\"utf8\"` as an additional parameter when reading in the file.\n",
    "\n",
    "* As with many datasets, the file does not include the header line. Use the following list as a guide to the columns: \"Place,Population,Median Age,Household Income,Per Capita Income,Employed Civilians,Unemployed Civilians,People in the Military,Poverty Count\""
   ]
  },
  {
   "cell_type": "markdown",
   "id": "c3922b1f",
   "metadata": {},
   "source": [
    "#### References\n",
    "\n",
    "Data Source: [U.S. Census API - ACS 5-Year Estimates 2019](https://www.census.gov/data/developers/data-sets/census-microdata-api.ACS_5-Year_PUMS.html)"
   ]
  }
 ],
 "metadata": {
  "kernelspec": {
   "display_name": "Python 3 (ipykernel)",
   "language": "python",
   "name": "python3"
  },
  "language_info": {
   "codemirror_mode": {
    "name": "ipython",
    "version": 3
   },
   "file_extension": ".py",
   "mimetype": "text/x-python",
   "name": "python",
   "nbconvert_exporter": "python",
   "pygments_lexer": "ipython3",
   "version": "3.9.12"
  }
 },
 "nbformat": 4,
 "nbformat_minor": 5
}
