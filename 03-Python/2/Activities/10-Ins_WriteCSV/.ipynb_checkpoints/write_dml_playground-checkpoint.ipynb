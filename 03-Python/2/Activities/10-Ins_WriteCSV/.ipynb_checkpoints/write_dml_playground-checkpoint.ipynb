{
 "cells": [
  {
   "cell_type": "code",
   "execution_count": 2,
   "id": "1a674577",
   "metadata": {},
   "outputs": [],
   "source": [
    "# library dependencies\n",
    "import os\n",
    "import csv\n",
    "\n",
    "# specify the file to write to\n",
    "output_path = os.path.join(\"output\", \"new.csv\")"
   ]
  },
  {
   "cell_type": "code",
   "execution_count": 3,
   "id": "64c9fcfa",
   "metadata": {},
   "outputs": [],
   "source": [
    "# open the file using \"write\" mode and specify the variable to hold the contents\n",
    "with open(output_path, 'w') as csvfile:\n",
    "\n",
    "    # initialize csv.writer\n",
    "    csvwriter = csv.writer(csvfile, delimiter=',')\n",
    "\n",
    "    # write the header row\n",
    "    csvwriter.writerow(['First Name', 'Last Name', 'SSN'])\n",
    "\n",
    "    # write the second row\n",
    "    csvwriter.writerow(['Caleb', 'Frost', '505-80-2901'])"
   ]
  }
 ],
 "metadata": {
  "kernelspec": {
   "display_name": "Python 3 (ipykernel)",
   "language": "python",
   "name": "python3"
  },
  "language_info": {
   "codemirror_mode": {
    "name": "ipython",
    "version": 3
   },
   "file_extension": ".py",
   "mimetype": "text/x-python",
   "name": "python",
   "nbconvert_exporter": "python",
   "pygments_lexer": "ipython3",
   "version": "3.9.12"
  }
 },
 "nbformat": 4,
 "nbformat_minor": 5
}
