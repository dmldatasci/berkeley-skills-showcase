{
 "cells": [
  {
   "cell_type": "markdown",
   "id": "a2b695d5",
   "metadata": {},
   "source": [
    "# Module Playground\n",
    "\n",
    "In this activity, you will have the opportunity to explore and play around with some Python modules.\n",
    "\n",
    "### Instructions\n",
    "\n",
    "There are tons of built-in modules for Python. Review some of Python's modules and play around with them. Use the following link:\n",
    "\n",
    "[List of Built-In Python Modules](https://docs.python.org/3/py-modindex.html)"
   ]
  },
  {
   "cell_type": "code",
   "execution_count": null,
   "id": "c3c7b1e3",
   "metadata": {},
   "outputs": [],
   "source": []
  }
 ],
 "metadata": {
  "kernelspec": {
   "display_name": "Python 3 (ipykernel)",
   "language": "python",
   "name": "python3"
  },
  "language_info": {
   "codemirror_mode": {
    "name": "ipython",
    "version": 3
   },
   "file_extension": ".py",
   "mimetype": "text/x-python",
   "name": "python",
   "nbconvert_exporter": "python",
   "pygments_lexer": "ipython3",
   "version": "3.9.12"
  }
 },
 "nbformat": 4,
 "nbformat_minor": 5
}
