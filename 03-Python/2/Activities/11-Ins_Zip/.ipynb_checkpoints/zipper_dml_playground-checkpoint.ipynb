{
 "cells": [
  {
   "cell_type": "code",
   "execution_count": 4,
   "id": "6a989334",
   "metadata": {},
   "outputs": [
    {
     "name": "stdout",
     "output_type": "stream",
     "text": [
      "<zip object at 0x7f94ba0ce7c0>\n"
     ]
    }
   ],
   "source": [
    "# import dependencies\n",
    "import csv\n",
    "import os\n",
    "\n",
    "# instantiate three lists\n",
    "indexes = [1, 2, 3, 4]\n",
    "employees = [\"Michael\", \"Dwight\", \"Meredith\", \"Kelly\"]\n",
    "department = [\"Boss\", \"Sales\", \"Sales\", \"HR\"]\n",
    "\n",
    "# zip all three lists together into tuples\n",
    "roster = zip(indexes, employees, department)\n",
    "\n",
    "# print the contents of each row\n",
    "print(roster)"
   ]
  },
  {
   "cell_type": "code",
   "execution_count": 5,
   "id": "9967ff81",
   "metadata": {},
   "outputs": [],
   "source": [
    "# save the output file path\n",
    "output_file = os.path.join(\"output_file.csv\")\n",
    "\n",
    "# open the output file\n",
    "with open(output_file, \"w\") as datafile:\n",
    "    \n",
    "    writer = csv.writer(datafile)\n",
    "    \n",
    "    # create a header row\n",
    "    writer.writerow([\"Index\", \"Employee\", \"Department\"])\n",
    "    \n",
    "    # write the zipped object to the csv\n",
    "    writer.writerows(roster)"
   ]
  }
 ],
 "metadata": {
  "kernelspec": {
   "display_name": "Python 3 (ipykernel)",
   "language": "python",
   "name": "python3"
  },
  "language_info": {
   "codemirror_mode": {
    "name": "ipython",
    "version": 3
   },
   "file_extension": ".py",
   "mimetype": "text/x-python",
   "name": "python",
   "nbconvert_exporter": "python",
   "pygments_lexer": "ipython3",
   "version": "3.9.12"
  }
 },
 "nbformat": 4,
 "nbformat_minor": 5
}
