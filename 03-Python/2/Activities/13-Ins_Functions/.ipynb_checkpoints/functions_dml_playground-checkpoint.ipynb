{
 "cells": [
  {
   "cell_type": "code",
   "execution_count": 1,
   "id": "8fbb9164",
   "metadata": {},
   "outputs": [],
   "source": [
    "# define the function and tell it to print \"Hello!\" when called\n",
    "def print_hello():\n",
    "    print(f\"Hello!\")"
   ]
  },
  {
   "cell_type": "code",
   "execution_count": 2,
   "id": "f86e145c",
   "metadata": {},
   "outputs": [
    {
     "name": "stdout",
     "output_type": "stream",
     "text": [
      "Hello!\n"
     ]
    }
   ],
   "source": [
    "# call the function within the application to ensure the code is run\n",
    "print_hello()"
   ]
  },
  {
   "cell_type": "code",
   "execution_count": 3,
   "id": "03172316",
   "metadata": {},
   "outputs": [],
   "source": [
    "# functions that take in and use parameters can also be defined\n",
    "def print_name(name):\n",
    "    print(\"Hello \" + name + \"!\")"
   ]
  },
  {
   "cell_type": "code",
   "execution_count": 4,
   "id": "89527a7b",
   "metadata": {},
   "outputs": [
    {
     "name": "stdout",
     "output_type": "stream",
     "text": [
      "Hello Bob Smith!\n"
     ]
    }
   ],
   "source": [
    "# When calling a function with a parameter, a parameter must be passed into the function\n",
    "print_name(\"Bob Smith\")"
   ]
  },
  {
   "cell_type": "code",
   "execution_count": 5,
   "id": "4393bbaa",
   "metadata": {},
   "outputs": [],
   "source": [
    "# the prime use case for functions is in being able to run the same code for different values\n",
    "list_one = [1, 2, 3, 4, 5, 6, 7, 8, 9, 10]\n",
    "list_two = [11, 12, 13, 14, 15]\n",
    "\n",
    "# define a function that prints values within a list and the length of the list\n",
    "def list_information(simple_list):\n",
    "    \n",
    "    print(f\"The values within the list are...\")\n",
    "    \n",
    "    for value in simple_list:\n",
    "        print(value)\n",
    "        \n",
    "    print(\"The length of this list is... \" + str(len(simple_list)))"
   ]
  },
  {
   "cell_type": "code",
   "execution_count": 7,
   "id": "63a2da80",
   "metadata": {},
   "outputs": [
    {
     "name": "stdout",
     "output_type": "stream",
     "text": [
      "The values within the list are...\n",
      "1\n",
      "2\n",
      "3\n",
      "4\n",
      "5\n",
      "6\n",
      "7\n",
      "8\n",
      "9\n",
      "10\n",
      "The length of this list is... 10\n"
     ]
    }
   ],
   "source": [
    "# call the function on list one\n",
    "list_information(list_one)"
   ]
  },
  {
   "cell_type": "code",
   "execution_count": 8,
   "id": "85d350de",
   "metadata": {},
   "outputs": [
    {
     "name": "stdout",
     "output_type": "stream",
     "text": [
      "The values within the list are...\n",
      "11\n",
      "12\n",
      "13\n",
      "14\n",
      "15\n",
      "The length of this list is... 5\n"
     ]
    }
   ],
   "source": [
    "# call the function on list two\n",
    "list_information(list_two)"
   ]
  }
 ],
 "metadata": {
  "kernelspec": {
   "display_name": "Python 3 (ipykernel)",
   "language": "python",
   "name": "python3"
  },
  "language_info": {
   "codemirror_mode": {
    "name": "ipython",
    "version": 3
   },
   "file_extension": ".py",
   "mimetype": "text/x-python",
   "name": "python",
   "nbconvert_exporter": "python",
   "pygments_lexer": "ipython3",
   "version": "3.9.12"
  }
 },
 "nbformat": 4,
 "nbformat_minor": 5
}
