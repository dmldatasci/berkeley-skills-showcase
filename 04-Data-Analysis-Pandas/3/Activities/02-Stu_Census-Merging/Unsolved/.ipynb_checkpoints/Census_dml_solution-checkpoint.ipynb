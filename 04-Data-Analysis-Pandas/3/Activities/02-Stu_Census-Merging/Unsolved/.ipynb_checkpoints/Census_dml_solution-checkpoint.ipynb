{
 "cells": [
  {
   "cell_type": "markdown",
   "metadata": {},
   "source": [
    "## Census Merging\n",
    "\n",
    "In this activity, you will merge the two Census datasets that we created in the last class and then do a calculation and sort the values.\n",
    "\n",
    "### Instructions\n",
    "\n",
    "* Read in both of the CSV files, and print out their DataFrames.\n",
    "\n",
    "* Perform an inner merge that combines both DataFrames on the \"Year\" and \"State\" columns.\n",
    "\n",
    "* Create a DataFrame that filters the data on only 2019.\n",
    "\n",
    "* Add a new column that calculates the Poverty Rate.\n",
    "\n",
    "* Sort the data by Poverty Rate and Average Per Capita Income by County, highest to lowest, to find the state or territory with the highest poverty rate.\n",
    "\n",
    "* Print out the data for the state or territory with the highest poverty rate.\n",
    "\n",
    "* Bonus: Print out the data for the state or territory with the lowest poverty rate with one line of code."
   ]
  },
  {
   "cell_type": "code",
   "execution_count": null,
   "metadata": {
    "collapsed": true
   },
   "outputs": [],
   "source": [
    "# load dependencies\n",
    "import pandas as pd"
   ]
  },
  {
   "cell_type": "code",
   "execution_count": null,
   "metadata": {
    "collapsed": true
   },
   "outputs": [],
   "source": [
    "state_avg_csv = \"Resources/state_avg.csv\"\n",
    "state_totals_csv = \"Resources/state_totals.csv\""
   ]
  },
  {
   "cell_type": "code",
   "execution_count": null,
   "metadata": {
    "collapsed": true
   },
   "outputs": [],
   "source": [
    "state_avg_df = pd.read_csv(state_avg_csv)\n",
    "state_totals_df = pd.read_csv(state_totals_csv)"
   ]
  },
  {
   "cell_type": "code",
   "execution_count": null,
   "metadata": {
    "collapsed": true
   },
   "outputs": [],
   "source": [
    "state_avg_df.head()"
   ]
  },
  {
   "cell_type": "code",
   "execution_count": null,
   "metadata": {
    "collapsed": true
   },
   "outputs": [],
   "source": [
    "state_totals_df.head()"
   ]
  },
  {
   "cell_type": "code",
   "execution_count": null,
   "metadata": {
    "collapsed": true
   },
   "outputs": [],
   "source": [
    "# Merge the two DataFrames together based on the Year and State they share"
   ]
  },
  {
   "cell_type": "code",
   "execution_count": null,
   "metadata": {
    "collapsed": true,
    "scrolled": true
   },
   "outputs": [],
   "source": [
    "# Create a DataFrame that filters the data on only 2019"
   ]
  },
  {
   "cell_type": "code",
   "execution_count": null,
   "metadata": {
    "collapsed": true
   },
   "outputs": [],
   "source": [
    "# Add a new column that calculates the Poverty Rate"
   ]
  },
  {
   "cell_type": "code",
   "execution_count": null,
   "metadata": {
    "collapsed": true
   },
   "outputs": [],
   "source": [
    "# Sort the data by Poverty Rate and Average Per Capita Income by County, Highest to Lowest\n",
    "\n",
    "# Reset Index"
   ]
  },
  {
   "cell_type": "code",
   "execution_count": null,
   "metadata": {
    "collapsed": true
   },
   "outputs": [],
   "source": [
    "# Print out the data for the most poverty stricken state or territory"
   ]
  },
  {
   "cell_type": "code",
   "execution_count": null,
   "metadata": {},
   "outputs": [],
   "source": [
    "# Bonus: Print out the data for the least poverty sticken state or territory with one line of code"
   ]
  },
  {
   "cell_type": "markdown",
   "metadata": {},
   "source": [
    "#### References\n",
    "\n",
    "Data Source: [U.S. Census API - ACS 5-Year Estimates 2016-2019](https://www.census.gov/data/developers/data-sets/census-microdata-api.ACS_5-Year_PUMS.html)"
   ]
  }
 ],
 "metadata": {
  "kernelspec": {
   "display_name": "Python 3 (ipykernel)",
   "language": "python",
   "name": "python3"
  },
  "language_info": {
   "codemirror_mode": {
    "name": "ipython",
    "version": 3
   },
   "file_extension": ".py",
   "mimetype": "text/x-python",
   "name": "python",
   "nbconvert_exporter": "python",
   "pygments_lexer": "ipython3",
   "version": "3.9.12"
  }
 },
 "nbformat": 4,
 "nbformat_minor": 2
}
