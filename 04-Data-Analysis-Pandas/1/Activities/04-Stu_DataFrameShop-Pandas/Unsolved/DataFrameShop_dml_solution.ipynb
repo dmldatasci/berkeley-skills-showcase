{
 "cells": [
  {
   "cell_type": "markdown",
   "metadata": {},
   "source": [
    "## DataFrame Shop\n",
    "\n",
    "In this activity, you will create DataFrames from scratch using both a list of dictionaries and a dictionary of lists.\n",
    "\n",
    "### Instructions\n",
    "\n",
    "* Create a DataFrame for a frame shop. The DataFrame should contain three columns,  \"Frame\", \"Price\", and \"Sales\", and have five rows of data stored within it.\n",
    "\n",
    "* Using an alternative method, create a DataFrame for an art gallery. The DataFrame should contain three columns, \"Painting\", \"Price\", and \"Popularity\", and have four rows of data stored within it."
   ]
  },
  {
   "cell_type": "code",
   "execution_count": 7,
   "metadata": {},
   "outputs": [],
   "source": [
    "# import dependencies\n",
    "import pandas as pd"
   ]
  },
  {
   "cell_type": "code",
   "execution_count": 8,
   "metadata": {},
   "outputs": [
    {
     "data": {
      "text/html": [
       "<div>\n",
       "<style scoped>\n",
       "    .dataframe tbody tr th:only-of-type {\n",
       "        vertical-align: middle;\n",
       "    }\n",
       "\n",
       "    .dataframe tbody tr th {\n",
       "        vertical-align: top;\n",
       "    }\n",
       "\n",
       "    .dataframe thead th {\n",
       "        text-align: right;\n",
       "    }\n",
       "</style>\n",
       "<table border=\"1\" class=\"dataframe\">\n",
       "  <thead>\n",
       "    <tr style=\"text-align: right;\">\n",
       "      <th></th>\n",
       "      <th>Frame</th>\n",
       "      <th>Price</th>\n",
       "      <th>Sales</th>\n",
       "    </tr>\n",
       "  </thead>\n",
       "  <tbody>\n",
       "    <tr>\n",
       "      <th>0</th>\n",
       "      <td>Gold Ornate</td>\n",
       "      <td>180.0</td>\n",
       "      <td>1982</td>\n",
       "    </tr>\n",
       "    <tr>\n",
       "      <th>1</th>\n",
       "      <td>Classic Black</td>\n",
       "      <td>150.0</td>\n",
       "      <td>2938</td>\n",
       "    </tr>\n",
       "    <tr>\n",
       "      <th>2</th>\n",
       "      <td>Modern White</td>\n",
       "      <td>130.0</td>\n",
       "      <td>1392</td>\n",
       "    </tr>\n",
       "    <tr>\n",
       "      <th>3</th>\n",
       "      <td>Cherry Wood</td>\n",
       "      <td>125.0</td>\n",
       "      <td>3592</td>\n",
       "    </tr>\n",
       "    <tr>\n",
       "      <th>4</th>\n",
       "      <td>Austere Metal</td>\n",
       "      <td>145.0</td>\n",
       "      <td>4452</td>\n",
       "    </tr>\n",
       "  </tbody>\n",
       "</table>\n",
       "</div>"
      ],
      "text/plain": [
       "           Frame  Price  Sales\n",
       "0    Gold Ornate  180.0   1982\n",
       "1  Classic Black  150.0   2938\n",
       "2   Modern White  130.0   1392\n",
       "3    Cherry Wood  125.0   3592\n",
       "4  Austere Metal  145.0   4452"
      ]
     },
     "execution_count": 8,
     "metadata": {},
     "output_type": "execute_result"
    }
   ],
   "source": [
    "# construct a dictionary containing five data rows in lists, with column names as keys\n",
    "frame_dict = {\n",
    "    \"Frame\" : [\"Gold Ornate\", \"Classic Black\", \"Modern White\", \"Cherry Wood\", \"Austere Metal\"],\n",
    "    \"Price\" : [180.0, 150.0, 130.0, 125.0, 145.0],\n",
    "    \"Sales\" : [1982, 2938, 1392, 3592, 4452],\n",
    "}\n",
    "\n",
    "# create a dataframe from the dictionary\n",
    "df = pd.DataFrame(data_dict)\n",
    "df"
   ]
  },
  {
   "cell_type": "code",
   "execution_count": 9,
   "metadata": {},
   "outputs": [
    {
     "data": {
      "text/html": [
       "<div>\n",
       "<style scoped>\n",
       "    .dataframe tbody tr th:only-of-type {\n",
       "        vertical-align: middle;\n",
       "    }\n",
       "\n",
       "    .dataframe tbody tr th {\n",
       "        vertical-align: top;\n",
       "    }\n",
       "\n",
       "    .dataframe thead th {\n",
       "        text-align: right;\n",
       "    }\n",
       "</style>\n",
       "<table border=\"1\" class=\"dataframe\">\n",
       "  <thead>\n",
       "    <tr style=\"text-align: right;\">\n",
       "      <th></th>\n",
       "      <th>Painting</th>\n",
       "      <th>Price</th>\n",
       "      <th>Popularity</th>\n",
       "    </tr>\n",
       "  </thead>\n",
       "  <tbody>\n",
       "    <tr>\n",
       "      <th>0</th>\n",
       "      <td>Mona Lisa</td>\n",
       "      <td>870000000</td>\n",
       "      <td>Highest</td>\n",
       "    </tr>\n",
       "    <tr>\n",
       "      <th>1</th>\n",
       "      <td>The Scream</td>\n",
       "      <td>145000000</td>\n",
       "      <td>Medium</td>\n",
       "    </tr>\n",
       "    <tr>\n",
       "      <th>2</th>\n",
       "      <td>American Gothic</td>\n",
       "      <td>50000000</td>\n",
       "      <td>Medium-Low</td>\n",
       "    </tr>\n",
       "    <tr>\n",
       "      <th>3</th>\n",
       "      <td>A Sunday Afternoon on the Island of La Grande ...</td>\n",
       "      <td>650000000</td>\n",
       "      <td>High</td>\n",
       "    </tr>\n",
       "  </tbody>\n",
       "</table>\n",
       "</div>"
      ],
      "text/plain": [
       "                                            Painting      Price  Popularity\n",
       "0                                          Mona Lisa  870000000     Highest\n",
       "1                                         The Scream  145000000      Medium\n",
       "2                                    American Gothic   50000000  Medium-Low\n",
       "3  A Sunday Afternoon on the Island of La Grande ...  650000000        High"
      ]
     },
     "execution_count": 9,
     "metadata": {},
     "output_type": "execute_result"
    }
   ],
   "source": [
    "# construct a list of dictionaries containing keys for columns, and one dictionary per row\n",
    "\n",
    "painting_list = [\n",
    "    {\"Painting\" : \"Mona Lisa\", \"Price\" : 870000000, \"Popularity\" : \"Highest\"},\n",
    "    {\"Painting\" : \"The Scream\", \"Price\" : 145000000, \"Popularity\" : \"Medium\"},\n",
    "    {\"Painting\" : \"American Gothic\", \"Price\" : 50000000, \"Popularity\" : \"Medium-Low\"},\n",
    "    {\"Painting\" : \"A Sunday Afternoon on the Island of La Grande Jatte\", \"Price\" : 650000000, \"Popularity\" : \"High\"}\n",
    "]\n",
    "\n",
    "# create a dataframe from the dictionary\n",
    "painting_df = pd.DataFrame(painting_list)\n",
    "painting_df"
   ]
  }
 ],
 "metadata": {
  "kernelspec": {
   "display_name": "Python 3 (ipykernel)",
   "language": "python",
   "name": "python3"
  },
  "language_info": {
   "codemirror_mode": {
    "name": "ipython",
    "version": 3
   },
   "file_extension": ".py",
   "mimetype": "text/x-python",
   "name": "python",
   "nbconvert_exporter": "python",
   "pygments_lexer": "ipython3",
   "version": "3.9.12"
  }
 },
 "nbformat": 4,
 "nbformat_minor": 4
}
