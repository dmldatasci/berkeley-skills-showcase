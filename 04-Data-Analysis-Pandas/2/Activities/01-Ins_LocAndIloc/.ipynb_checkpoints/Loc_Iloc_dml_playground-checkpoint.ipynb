{
 "cells": [
  {
   "cell_type": "code",
   "execution_count": 3,
   "metadata": {},
   "outputs": [],
   "source": [
    "# load pandas\n",
    "import pandas as pd"
   ]
  },
  {
   "cell_type": "code",
   "execution_count": 4,
   "metadata": {},
   "outputs": [],
   "source": [
    "# define filepath to csv\n",
    "filepath = \"Resources/baton_streets.csv\""
   ]
  },
  {
   "cell_type": "code",
   "execution_count": 6,
   "metadata": {
    "scrolled": true
   },
   "outputs": [
    {
     "data": {
      "text/html": [
       "<div>\n",
       "<style scoped>\n",
       "    .dataframe tbody tr th:only-of-type {\n",
       "        vertical-align: middle;\n",
       "    }\n",
       "\n",
       "    .dataframe tbody tr th {\n",
       "        vertical-align: top;\n",
       "    }\n",
       "\n",
       "    .dataframe thead th {\n",
       "        text-align: right;\n",
       "    }\n",
       "</style>\n",
       "<table border=\"1\" class=\"dataframe\">\n",
       "  <thead>\n",
       "    <tr style=\"text-align: right;\">\n",
       "      <th></th>\n",
       "      <th>STREET NAME ID</th>\n",
       "      <th>STREET NAME</th>\n",
       "      <th>STREET FULL NAME</th>\n",
       "      <th>POSTAL COMMUNITY</th>\n",
       "      <th>MUNICIPAL COMMUNITY</th>\n",
       "    </tr>\n",
       "  </thead>\n",
       "  <tbody>\n",
       "    <tr>\n",
       "      <th>0</th>\n",
       "      <td>1400342</td>\n",
       "      <td>PRIVATE STREET</td>\n",
       "      <td>PRIVATE STREET</td>\n",
       "      <td>BATON ROUGE</td>\n",
       "      <td>BATON ROUGE</td>\n",
       "    </tr>\n",
       "    <tr>\n",
       "      <th>1</th>\n",
       "      <td>1</td>\n",
       "      <td>4TH</td>\n",
       "      <td>N 4TH ST</td>\n",
       "      <td>BATON ROUGE</td>\n",
       "      <td>BATON ROUGE</td>\n",
       "    </tr>\n",
       "    <tr>\n",
       "      <th>2</th>\n",
       "      <td>10</td>\n",
       "      <td>11TH</td>\n",
       "      <td>S 11TH ST</td>\n",
       "      <td>BATON ROUGE</td>\n",
       "      <td>BATON ROUGE</td>\n",
       "    </tr>\n",
       "    <tr>\n",
       "      <th>3</th>\n",
       "      <td>100</td>\n",
       "      <td>ADDINGTON</td>\n",
       "      <td>ADDINGTON AVE</td>\n",
       "      <td>BATON ROUGE</td>\n",
       "      <td>BATON ROUGE</td>\n",
       "    </tr>\n",
       "    <tr>\n",
       "      <th>4</th>\n",
       "      <td>1000</td>\n",
       "      <td>CHALFONT</td>\n",
       "      <td>W CHALFONT DR</td>\n",
       "      <td>BATON ROUGE</td>\n",
       "      <td>PARISH</td>\n",
       "    </tr>\n",
       "  </tbody>\n",
       "</table>\n",
       "</div>"
      ],
      "text/plain": [
       "   STREET NAME ID     STREET NAME STREET FULL NAME POSTAL COMMUNITY  \\\n",
       "0         1400342  PRIVATE STREET   PRIVATE STREET      BATON ROUGE   \n",
       "1               1             4TH         N 4TH ST      BATON ROUGE   \n",
       "2              10            11TH        S 11TH ST      BATON ROUGE   \n",
       "3             100       ADDINGTON    ADDINGTON AVE      BATON ROUGE   \n",
       "4            1000        CHALFONT    W CHALFONT DR      BATON ROUGE   \n",
       "\n",
       "  MUNICIPAL COMMUNITY  \n",
       "0         BATON ROUGE  \n",
       "1         BATON ROUGE  \n",
       "2         BATON ROUGE  \n",
       "3         BATON ROUGE  \n",
       "4              PARISH  "
      ]
     },
     "execution_count": 6,
     "metadata": {},
     "output_type": "execute_result"
    }
   ],
   "source": [
    "# read in the csv\n",
    "baton_streets_raw = pd.read_csv(filepath)\n",
    "\n",
    "# visualize the dataframe\n",
    "baton_streets_raw.head()"
   ]
  },
  {
   "cell_type": "code",
   "execution_count": 7,
   "metadata": {
    "scrolled": true
   },
   "outputs": [
    {
     "data": {
      "text/html": [
       "<div>\n",
       "<style scoped>\n",
       "    .dataframe tbody tr th:only-of-type {\n",
       "        vertical-align: middle;\n",
       "    }\n",
       "\n",
       "    .dataframe tbody tr th {\n",
       "        vertical-align: top;\n",
       "    }\n",
       "\n",
       "    .dataframe thead th {\n",
       "        text-align: right;\n",
       "    }\n",
       "</style>\n",
       "<table border=\"1\" class=\"dataframe\">\n",
       "  <thead>\n",
       "    <tr style=\"text-align: right;\">\n",
       "      <th></th>\n",
       "      <th>STREET NAME ID</th>\n",
       "      <th>STREET FULL NAME</th>\n",
       "      <th>POSTAL COMMUNITY</th>\n",
       "      <th>MUNICIPAL COMMUNITY</th>\n",
       "    </tr>\n",
       "    <tr>\n",
       "      <th>STREET NAME</th>\n",
       "      <th></th>\n",
       "      <th></th>\n",
       "      <th></th>\n",
       "      <th></th>\n",
       "    </tr>\n",
       "  </thead>\n",
       "  <tbody>\n",
       "    <tr>\n",
       "      <th>PRIVATE STREET</th>\n",
       "      <td>1400342</td>\n",
       "      <td>PRIVATE STREET</td>\n",
       "      <td>BATON ROUGE</td>\n",
       "      <td>BATON ROUGE</td>\n",
       "    </tr>\n",
       "    <tr>\n",
       "      <th>4TH</th>\n",
       "      <td>1</td>\n",
       "      <td>N 4TH ST</td>\n",
       "      <td>BATON ROUGE</td>\n",
       "      <td>BATON ROUGE</td>\n",
       "    </tr>\n",
       "    <tr>\n",
       "      <th>11TH</th>\n",
       "      <td>10</td>\n",
       "      <td>S 11TH ST</td>\n",
       "      <td>BATON ROUGE</td>\n",
       "      <td>BATON ROUGE</td>\n",
       "    </tr>\n",
       "    <tr>\n",
       "      <th>ADDINGTON</th>\n",
       "      <td>100</td>\n",
       "      <td>ADDINGTON AVE</td>\n",
       "      <td>BATON ROUGE</td>\n",
       "      <td>BATON ROUGE</td>\n",
       "    </tr>\n",
       "    <tr>\n",
       "      <th>CHALFONT</th>\n",
       "      <td>1000</td>\n",
       "      <td>W CHALFONT DR</td>\n",
       "      <td>BATON ROUGE</td>\n",
       "      <td>PARISH</td>\n",
       "    </tr>\n",
       "  </tbody>\n",
       "</table>\n",
       "</div>"
      ],
      "text/plain": [
       "                STREET NAME ID STREET FULL NAME POSTAL COMMUNITY  \\\n",
       "STREET NAME                                                        \n",
       "PRIVATE STREET         1400342   PRIVATE STREET      BATON ROUGE   \n",
       "4TH                          1         N 4TH ST      BATON ROUGE   \n",
       "11TH                        10        S 11TH ST      BATON ROUGE   \n",
       "ADDINGTON                  100    ADDINGTON AVE      BATON ROUGE   \n",
       "CHALFONT                  1000    W CHALFONT DR      BATON ROUGE   \n",
       "\n",
       "               MUNICIPAL COMMUNITY  \n",
       "STREET NAME                         \n",
       "PRIVATE STREET         BATON ROUGE  \n",
       "4TH                    BATON ROUGE  \n",
       "11TH                   BATON ROUGE  \n",
       "ADDINGTON              BATON ROUGE  \n",
       "CHALFONT                    PARISH  "
      ]
     },
     "execution_count": 7,
     "metadata": {},
     "output_type": "execute_result"
    }
   ],
   "source": [
    "# set index to the STREET NAME column\n",
    "baton_streets_mod = baton_streets_raw.set_index(\"STREET NAME\")\n",
    "\n",
    "baton_streets_mod.head()"
   ]
  },
  {
   "cell_type": "code",
   "execution_count": 10,
   "metadata": {},
   "outputs": [
    {
     "name": "stdout",
     "output_type": "stream",
     "text": [
      "Using Loc: ADDINGTON AVE\n",
      "Using Iloc: ADDINGTON AVE\n"
     ]
    }
   ],
   "source": [
    "# grab the data contained within the \"ADDINGTON\" row and the \"STREET FULL NAME\" column\n",
    "# loc uses labels, taking the row label as a first list element and the column label as a second list element\n",
    "addington_name = baton_streets_mod.loc[\"ADDINGTON\", \"STREET FULL NAME\"]\n",
    "print(\"Using Loc: \" + addington_name)\n",
    "\n",
    "# iloc uses integer position values for row first and then column second\n",
    "also_addington_name = baton_streets_mod.iloc[3, 1]\n",
    "print(\"Using Iloc: \" + also_addington_name)"
   ]
  },
  {
   "cell_type": "code",
   "execution_count": 14,
   "metadata": {},
   "outputs": [
    {
     "name": "stdout",
     "output_type": "stream",
     "text": [
      "                STREET NAME ID STREET FULL NAME POSTAL COMMUNITY\n",
      "STREET NAME                                                     \n",
      "PRIVATE STREET         1400342   PRIVATE STREET      BATON ROUGE\n",
      "PRIVATE STREET         1400001   PRIVATE STREET      BATON ROUGE\n",
      "PRIVATE STREET         1400015   PRIVATE STREET      BATON ROUGE\n",
      "PRIVATE STREET         1400161   PRIVATE STREET      BATON ROUGE\n",
      "PRIVATE STREET         1400343   PRIVATE STREET      BATON ROUGE\n",
      "...                        ...              ...              ...\n",
      "11TH                         9        N 11TH ST      BATON ROUGE\n",
      "ADDINGTON                  100    ADDINGTON AVE      BATON ROUGE\n",
      "CHALFONT                  1000    W CHALFONT DR      BATON ROUGE\n",
      "CHALFONT                   998    N CHALFONT DR      BATON ROUGE\n",
      "CHALFONT                   999    S CHALFONT DR      BATON ROUGE\n",
      "\n",
      "[329 rows x 3 columns]\n",
      "                STREET NAME ID STREET FULL NAME POSTAL COMMUNITY\n",
      "STREET NAME                                                     \n",
      "PRIVATE STREET         1400342   PRIVATE STREET      BATON ROUGE\n",
      "4TH                          1         N 4TH ST      BATON ROUGE\n",
      "11TH                        10        S 11TH ST      BATON ROUGE\n",
      "ADDINGTON                  100    ADDINGTON AVE      BATON ROUGE\n",
      "CHALFONT                  1000    W CHALFONT DR      BATON ROUGE\n"
     ]
    }
   ],
   "source": [
    "# grab the first five rows of data and the columns from \"STREET NAME ID\" to \"POSTAL COMMUNITY\"\n",
    "# the problem with using \"STREET NAME\" as the index is that the values are not unique so duplicates are returned\n",
    "# if there are duplicates and loc[] is being used, Pandas will return an error\n",
    "private_to_chalfont = baton_streets_mod.loc[[\"PRIVATE STREET\", \"4TH\", \"11TH\", \"ADDINGTON\", \n",
    "                              \"CHALFONT\"], [\"STREET NAME ID\", \"STREET FULL NAME\", \"POSTAL COMMUNITY\"]]\n",
    "print(private_to_chalfont)\n",
    "\n",
    "# Using iloc[] will not find duplicates since a numeric index is always unique\n",
    "also_private_to_chalfont = baton_streets_mod.iloc[0:5, 0:3]\n",
    "print(also_private_to_chalfont)"
   ]
  },
  {
   "cell_type": "code",
   "execution_count": 15,
   "metadata": {},
   "outputs": [
    {
     "data": {
      "text/html": [
       "<div>\n",
       "<style scoped>\n",
       "    .dataframe tbody tr th:only-of-type {\n",
       "        vertical-align: middle;\n",
       "    }\n",
       "\n",
       "    .dataframe tbody tr th {\n",
       "        vertical-align: top;\n",
       "    }\n",
       "\n",
       "    .dataframe thead th {\n",
       "        text-align: right;\n",
       "    }\n",
       "</style>\n",
       "<table border=\"1\" class=\"dataframe\">\n",
       "  <thead>\n",
       "    <tr style=\"text-align: right;\">\n",
       "      <th></th>\n",
       "      <th>STREET FULL NAME</th>\n",
       "      <th>POSTAL COMMUNITY</th>\n",
       "    </tr>\n",
       "    <tr>\n",
       "      <th>STREET NAME</th>\n",
       "      <th></th>\n",
       "      <th></th>\n",
       "    </tr>\n",
       "  </thead>\n",
       "  <tbody>\n",
       "    <tr>\n",
       "      <th>PRIVATE STREET</th>\n",
       "      <td>PRIVATE STREET</td>\n",
       "      <td>BATON ROUGE</td>\n",
       "    </tr>\n",
       "    <tr>\n",
       "      <th>4TH</th>\n",
       "      <td>N 4TH ST</td>\n",
       "      <td>BATON ROUGE</td>\n",
       "    </tr>\n",
       "    <tr>\n",
       "      <th>11TH</th>\n",
       "      <td>S 11TH ST</td>\n",
       "      <td>BATON ROUGE</td>\n",
       "    </tr>\n",
       "    <tr>\n",
       "      <th>ADDINGTON</th>\n",
       "      <td>ADDINGTON AVE</td>\n",
       "      <td>BATON ROUGE</td>\n",
       "    </tr>\n",
       "    <tr>\n",
       "      <th>CHALFONT</th>\n",
       "      <td>W CHALFONT DR</td>\n",
       "      <td>BATON ROUGE</td>\n",
       "    </tr>\n",
       "  </tbody>\n",
       "</table>\n",
       "</div>"
      ],
      "text/plain": [
       "               STREET FULL NAME POSTAL COMMUNITY\n",
       "STREET NAME                                     \n",
       "PRIVATE STREET   PRIVATE STREET      BATON ROUGE\n",
       "4TH                    N 4TH ST      BATON ROUGE\n",
       "11TH                  S 11TH ST      BATON ROUGE\n",
       "ADDINGTON         ADDINGTON AVE      BATON ROUGE\n",
       "CHALFONT          W CHALFONT DR      BATON ROUGE"
      ]
     },
     "execution_count": 15,
     "metadata": {},
     "output_type": "execute_result"
    }
   ],
   "source": [
    "# the following will select all rows for columns `STREET FULL NAME` and `POSTAL COMMUNITY`\n",
    "baton_streets_mod.loc[:, [\"STREET FULL NAME\", \"POSTAL COMMUNITY\"]].head()"
   ]
  },
  {
   "cell_type": "code",
   "execution_count": 17,
   "metadata": {},
   "outputs": [
    {
     "data": {
      "text/plain": [
       "STREET NAME\n",
       "PRIVATE STREET    False\n",
       "4TH               False\n",
       "11TH              False\n",
       "ADDINGTON         False\n",
       "CHALFONT           True\n",
       "Name: MUNICIPAL COMMUNITY, dtype: bool"
      ]
     },
     "execution_count": 17,
     "metadata": {},
     "output_type": "execute_result"
    }
   ],
   "source": [
    "# the following logic test/conditional statement returns a series of boolean values\n",
    "municipal_parish = baton_streets_mod[\"MUNICIPAL COMMUNITY\"] == \"PARISH\"\n",
    "municipal_parish.head()"
   ]
  },
  {
   "cell_type": "code",
   "execution_count": 20,
   "metadata": {},
   "outputs": [
    {
     "name": "stdout",
     "output_type": "stream",
     "text": [
      "                 STREET NAME ID    STREET FULL NAME POSTAL COMMUNITY  \\\n",
      "STREET NAME                                                            \n",
      "ALLIGATOR BAYOU           16497  ALLIGATOR BAYOU RD     PRAIRIEVILLE   \n",
      "BLUFF                     16498            BLUFF RD     PRAIRIEVILLE   \n",
      "\n",
      "                MUNICIPAL COMMUNITY  \n",
      "STREET NAME                          \n",
      "ALLIGATOR BAYOU              PARISH  \n",
      "BLUFF                        PARISH  \n",
      "                  STREET NAME ID      STREET FULL NAME POSTAL COMMUNITY  \\\n",
      "STREET NAME                                                               \n",
      "TALMADGE                    4772           TALMADGE DR          JACKSON   \n",
      "TREAKLE                     4911            TREAKLE DR          JACKSON   \n",
      "DENNIS                      1452             DENNIS CT          JACKSON   \n",
      "ALLIGATOR BAYOU            16497    ALLIGATOR BAYOU RD     PRAIRIEVILLE   \n",
      "BLUFF                      16498              BLUFF RD     PRAIRIEVILLE   \n",
      "RENEE                       4072              RENEE CT          JACKSON   \n",
      "SANDY SPRINGS               4320      SANDY SPRINGS LN          JACKSON   \n",
      "SHANE                       4405              SHANE CT          JACKSON   \n",
      "BICKHAM                      518            BICKHAM RD          JACKSON   \n",
      "ADAMS                       5527              ADAMS LN          JACKSON   \n",
      "LA 68                       5838             LA 68 HWY          JACKSON   \n",
      "SIMMONS                     6105            SIMMONS LN          JACKSON   \n",
      "MEADOW                      6107           W MEADOW DR          JACKSON   \n",
      "HIGHLAND MEADOW             6108  E HIGHLAND MEADOW DR          JACKSON   \n",
      "HIGHLAND MEADOWS            6109   HIGHLAND MEADOWS DR          JACKSON   \n",
      "PRIVATE DRIVEWAY         1200085      PRIVATE DRIVEWAY          JACKSON   \n",
      "PRIVATE DRIVEWAY         1200110      PRIVATE DRIVEWAY          JACKSON   \n",
      "\n",
      "                 MUNICIPAL COMMUNITY  \n",
      "STREET NAME                           \n",
      "TALMADGE                      PARISH  \n",
      "TREAKLE                       PARISH  \n",
      "DENNIS                        PARISH  \n",
      "ALLIGATOR BAYOU               PARISH  \n",
      "BLUFF                         PARISH  \n",
      "RENEE                         PARISH  \n",
      "SANDY SPRINGS                 PARISH  \n",
      "SHANE                         PARISH  \n",
      "BICKHAM                       PARISH  \n",
      "ADAMS                         PARISH  \n",
      "LA 68                         PARISH  \n",
      "SIMMONS                       PARISH  \n",
      "MEADOW                        PARISH  \n",
      "HIGHLAND MEADOW               PARISH  \n",
      "HIGHLAND MEADOWS              PARISH  \n",
      "PRIVATE DRIVEWAY              PARISH  \n",
      "PRIVATE DRIVEWAY              PARISH  \n"
     ]
    }
   ],
   "source": [
    "# loc and iloc also allow for conditional statments to filter rows of data\n",
    "# using loc on the logic test above only returns rows where the result is True\n",
    "only_prairieville = baton_streets_mod.loc[baton_streets_mod[\"POSTAL COMMUNITY\"] == \"PRAIRIEVILLE\", :]\n",
    "\n",
    "print(only_prairieville)\n",
    "\n",
    "\n",
    "# multiple conditions can be set to narrow down or widen the filter\n",
    "only_prairieville_and_jackson = baton_streets_mod.loc[(baton_streets_mod[\"POSTAL COMMUNITY\"] == \"PRAIRIEVILLE\") | \n",
    "                                                      (baton_streets_mod[\"POSTAL COMMUNITY\"] == \"JACKSON\"), :]\n",
    "\n",
    "print(only_prairieville_and_jackson)"
   ]
  }
 ],
 "metadata": {
  "kernelspec": {
   "display_name": "Python 3 (ipykernel)",
   "language": "python",
   "name": "python3"
  },
  "language_info": {
   "codemirror_mode": {
    "name": "ipython",
    "version": 3
   },
   "file_extension": ".py",
   "mimetype": "text/x-python",
   "name": "python",
   "nbconvert_exporter": "python",
   "pygments_lexer": "ipython3",
   "version": "3.9.12"
  }
 },
 "nbformat": 4,
 "nbformat_minor": 4
}
